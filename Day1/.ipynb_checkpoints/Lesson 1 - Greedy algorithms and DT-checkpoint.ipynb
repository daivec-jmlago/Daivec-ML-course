{
 "cells": [
  {
   "cell_type": "markdown",
   "metadata": {},
   "source": [
    "# Introduction to ML in `Python`\n",
    "Today we are going to learn broadly the following: \n",
    "* Part 1 (ML basics and Synth Data)\n",
    "    * What is and why do we use ML\n",
    "    * Basic ML concepts, problem definition and pipeline\n",
    "    * Synthetise data for supervised learning with `numpy`\n",
    "    * Greedy (and fundamental) algorithms from scratch\n",
    "    * Decision Trees from scratch\n",
    "    * `sklearn`\n",
    "* Part 2 (Titanic Example)\n",
    "    * Exploratory Data Analysis\n",
    "    * Feature Enginnering\n",
    "    * Feature Selection\n",
    "    * Data Visualization\n",
    "    * Apply the basic ML algorithms that we have learned to a real problem\n",
    "\n",
    "## What is ML?\n",
    "\n",
    "*Machine learning (ML) is the scientific study of algorithms and statistical models that computer systems use to effectively perform a specific task without using explicit instructions, relying on patterns and inference instead.*\n",
    "\n",
    "## When it started?\n",
    "Is important to know the history of DA to know where we are. The difference between DA and ML is not that big, and we will explain why later.\n",
    "\n",
    "https://en.wikipedia.org/wiki/Timeline_of_machine_learning\n",
    "\n",
    "## Why do we use ML?\n",
    "The real point of ML is to help humans, research or business. Extract real value from the data.\n",
    "\n",
    "To go further than descriptive statistics, we need good estimators / classifiers that can simulate the reality with good acc levels. Today we build these estimators using ML or DL as they can encode more complex patterns than non learning models.\n",
    "\n",
    "From the analysis of those well fitted estimators, we can extract useful data insights. This is the difference between DA and descriptive statistics. \n",
    "\n",
    "### Employee churn Example\n",
    "Imagine that our employees are leaving our company. What do we really want to do is to fix this problem.\n",
    "\n",
    "Our Data Analyst says that he has built a model that predicts with a 99% of acc if our employees are going to leave in less than one week. Is this enough? Is this DA? Or is just an score?\n",
    "\n",
    "**Better score == solutions?**\n",
    "\n",
    "**ML/DL == DA?**\n",
    "\n",
    "<img src=\"img/DA_over_time.png\" width=\"400\">\n",
    "\n",
    "\n",
    "\n",
    "## But we can always have better scores?\n",
    "\n",
    "The short answer is NO (this is one reason of why kaggle is very useful). It was already proofed many years ago. Thus, the optimal decision exists, and if the risk (or the error) is not 0, we won't be able to achieve 100% accuracy no matter what model we try.\n",
    "\n",
    "## ML problem workflow\n",
    "There are different ways to stream data into machine learning, but many authors agree on the following steps:\n",
    "\n",
    "1. Define Problem\n",
    "2. Specify Inputs & Outputs\n",
    "3. Exploratory data analysis\n",
    "4. Data Selection\n",
    "5. Data Preprocessing\n",
    "6. Data Cleaning\n",
    "7. Visualization\n",
    "8. Model Design, Training, and Offline Evaluation\n",
    "9. Model Deployment, Online Evaluation, and Monitoring\n",
    "10. Model Maintenance, Diagnosis, and Retraining\n",
    "\n",
    "Of course, the same solution can not be provided for all problems, so the best way is to create a general framework and adapt it to new problem.\n",
    "\n",
    "## Synth Data "
   ]
  },
  {
   "cell_type": "code",
   "execution_count": 1,
   "metadata": {},
   "outputs": [],
   "source": [
    "import numpy as np\n",
    "from numpy.polynomial.polynomial import polyval\n",
    "import matplotlib.pyplot as plt"
   ]
  },
  {
   "cell_type": "code",
   "execution_count": 2,
   "metadata": {},
   "outputs": [
    {
     "name": "stdout",
     "output_type": "stream",
     "text": [
      "\"Bayes reg error\" assuming MSE loss is 0.010000000000000002\n"
     ]
    },
    {
     "data": {
      "image/png": "[encoded data removed]",
      "text/plain": [
       "<Figure size 432x288 with 1 Axes>"
      ]
     },
     "metadata": {
      "needs_background": "light"
     },
     "output_type": "display_data"
    }
   ],
   "source": [
    "x = np.linspace(0,10,100)\n",
    "y = []\n",
    "for point in x:\n",
    "    y.append(np.random.normal(polyval(point,np.array([1,-2,3,-4,5])/4e4),1e-1,1))\n",
    "plt.scatter(x,np.array(y));\n",
    "print(f'\"Bayes reg error\" assuming MSE loss is {1e-1**2}')\n",
    "\n",
    "##equivalent to generating y as\n",
    "y = polyval(x,np.array([1,-2,3,-4,5])/4e4) +  np.random.normal(0,1e-1,x.shape) # (1 + -2*x + 3*x^2 - 4*x^3 + 5x^4)/4e4"
   ]
  },
  {
   "cell_type": "markdown",
   "metadata": {},
   "source": [
    "## Kaggle competitions\n",
    "Far from being perfect, kaggle competitions tend to be a double-edge sword. Kaggle is probably one of the best tools available today, but not everything is about increasing score on the third decimal.\n",
    "\n",
    "https://www.kaggle.com/c/porto-seguro-safe-driver-prediction/leaderboard\n",
    "\n",
    "## Which kinds of problems can we solve?\n",
    "The basics are:\n",
    "* Classification: Binary, more than one label, or multiclass $g:\\mathbb{R}^d \\longrightarrow \\{1,..,M\\}$\n",
    "* Regression: Time dependent or not $g:\\mathbb{R}^d \\longrightarrow \\mathbb{R}$\n",
    "* Clustering $g \\approx P(X)$\n",
    "\n",
    "But there are many others such as translation, anomaly detection, etc.\n",
    "\n",
    "## Which data types can we use?\n",
    "* Structured: mainly columnar data\n",
    "* Unstructured: image,sound,video,text,...\n",
    "\n",
    "## Survey on DA concepts:\n",
    "\n",
    "* Train Validation Test sets\n",
    "* Accuracy\n",
    "* Feature\n",
    "* Label\n",
    "* Dependent Variable / Independent Variable\n",
    "* Hyper-parameters\n",
    "\n",
    "https://developers.google.com/machine-learning/glossary/?hl=en-419\n",
    "\n",
    "We are going to review some of those concepts in every lesson."
   ]
  },
  {
   "cell_type": "markdown",
   "metadata": {},
   "source": [
    "## Keep working with synth data\n",
    "We are going to build a linear regression to see how it performs. To measure the error we are going to use MSE:\n",
    "$$\\frac{1}{m}\\sum_{i=1}^m||\\widehat{y}_i-y_i||^2_2$$"
   ]
  },
  {
   "cell_type": "markdown",
   "metadata": {},
   "source": [
    "Following the ML phylosophy of learning from the data, and generalizing on unseen data, we need a training set. "
   ]
  },
  {
   "cell_type": "code",
   "execution_count": 3,
   "metadata": {},
   "outputs": [],
   "source": [
    "x_train = x[:60]\n",
    "y_train = y[:60]"
   ]
  },
  {
   "cell_type": "markdown",
   "metadata": {},
   "source": [
    "So our linear regression is a model such as:\n",
    "$$\\widehat{y} = \\omega x$$\n",
    "And now we need to minimize the MSE with respect to $\\omega$ to find the best linear regression (only using training data).\n",
    "$$\\frac{1}{m}\\nabla_\\omega ||x^{(train)}\\omega - y^{(train)}||^2_2 = 0$$\n",
    "which is equivalent to:\n",
    "$$\\omega = \\Big(x^{(train)T}x^{(train)}\\Big)^{-1}x^{(train)T}y^{(train)}$$"
   ]
  },
  {
   "cell_type": "code",
   "execution_count": 4,
   "metadata": {},
   "outputs": [
    {
     "data": {
      "text/plain": [
       "0.009258374574410004"
      ]
     },
     "execution_count": 4,
     "metadata": {},
     "output_type": "execute_result"
    }
   ],
   "source": [
    "omega = np.dot(np.dot(x_train,x_train.T)**-1,np.dot(x_train.T,y_train));omega"
   ]
  },
  {
   "cell_type": "code",
   "execution_count": 5,
   "metadata": {},
   "outputs": [],
   "source": [
    "y_pred = omega*x_train"
   ]
  },
  {
   "cell_type": "code",
   "execution_count": 6,
   "metadata": {},
   "outputs": [],
   "source": [
    "def mse(preds,labels):\n",
    "    return (np.square(preds - labels)).mean()"
   ]
  },
  {
   "cell_type": "code",
   "execution_count": 7,
   "metadata": {},
   "outputs": [
    {
     "data": {
      "text/plain": [
       "(0.008941516955608738, 0.1274952718355047)"
      ]
     },
     "execution_count": 7,
     "metadata": {},
     "output_type": "execute_result"
    }
   ],
   "source": [
    "mse(y_pred,y_train),mse(omega*x,y)"
   ]
  },
  {
   "cell_type": "code",
   "execution_count": 8,
   "metadata": {},
   "outputs": [
    {
     "data": {
      "image/png": "[encoded data removed]",
      "text/plain": [
       "<Figure size 432x288 with 1 Axes>"
      ]
     },
     "metadata": {
      "needs_background": "light"
     },
     "output_type": "display_data"
    }
   ],
   "source": [
    "plt.scatter(x,y)\n",
    "plt.plot(x,omega*x,c=\"r\");"
   ]
  },
  {
   "cell_type": "markdown",
   "metadata": {},
   "source": [
    "Hmmmm, what are we doing wrong? Maybe if we select the data at random instead of the first 60 points? **is one of the principles of statistical learning theory, sample the data with the same probability distribution on the training set than on the test set**"
   ]
  },
  {
   "cell_type": "code",
   "execution_count": 9,
   "metadata": {},
   "outputs": [],
   "source": [
    "idxs = np.random.randint(0,x.shape[0],40).tolist()\n",
    "x_train = x[idxs]\n",
    "y_train = y[idxs]"
   ]
  },
  {
   "cell_type": "code",
   "execution_count": 10,
   "metadata": {},
   "outputs": [
    {
     "data": {
      "text/plain": [
       "0.06612878338001432"
      ]
     },
     "execution_count": 10,
     "metadata": {},
     "output_type": "execute_result"
    }
   ],
   "source": [
    "omega = np.dot(np.dot(x_train,x_train.T)**-1,np.dot(x_train.T,y_train));omega "
   ]
  },
  {
   "cell_type": "code",
   "execution_count": 11,
   "metadata": {},
   "outputs": [
    {
     "data": {
      "text/plain": [
       "(0.06391560520936485, 0.05083737678919237)"
      ]
     },
     "execution_count": 11,
     "metadata": {},
     "output_type": "execute_result"
    }
   ],
   "source": [
    "mse(omega*x_train,y_train),mse(omega*x,y)"
   ]
  },
  {
   "cell_type": "code",
   "execution_count": 12,
   "metadata": {},
   "outputs": [
    {
     "data": {
      "image/png": "[encoded data removed]",
      "text/plain": [
       "<Figure size 432x288 with 1 Axes>"
      ]
     },
     "metadata": {
      "needs_background": "light"
     },
     "output_type": "display_data"
    }
   ],
   "source": [
    "plt.scatter(x,y)\n",
    "plt.plot(x,omega*x,c=\"r\");"
   ]
  },
  {
   "cell_type": "markdown",
   "metadata": {},
   "source": [
    "Maybe we need a model which is a little bit more complex? **we are underfitting**:\n",
    "$$\\widehat{y} = b + \\omega_1 x + \\omega_2 x^2$$\n",
    "The previous equation of $\\nabla_\\omega = 0$ stills being the same but now in a matrix form looks like:\n",
    "\n",
    "$\\begin{bmatrix}y_{1}\\\\y_{2}\\\\y_{3}\\\\\\vdots \\\\y_{n}\\end{bmatrix} = \\begin{bmatrix}1&x_{1}&x_{1}^{2}\\\\1&x_{2}&x_{2}^{2}\\\\1&x_{3}&x_{3}^{2}\\\\\\vdots &\\vdots &\\vdots \\\\1&x_{n}&x_{n}^{2}\\end{bmatrix} \\cdot \\begin{bmatrix}b\\\\\\omega _{1}\\\\\\omega _{2}\\end{bmatrix}$\n",
    "\n",
    "So what we have to compute is:\n",
    "$$\\widehat{\\omega}=\\Big(\\mathbf{X}^{\\mathsf{T}}\\mathbf{X}\\Big)^{-1}\\cdot\\Big(\\mathbf{X}^{\\mathsf{T}}\\cdot\\vec{y}\\Big)$$"
   ]
  },
  {
   "cell_type": "code",
   "execution_count": 13,
   "metadata": {},
   "outputs": [
    {
     "data": {
      "text/plain": [
       "array([ 0.13671759, -0.13309091,  0.0228472 ])"
      ]
     },
     "execution_count": 13,
     "metadata": {},
     "output_type": "execute_result"
    }
   ],
   "source": [
    "def lin_reg(x,y):\n",
    "    return np.dot(np.linalg.inv(np.dot(x,x.T)),np.dot(x,y)) ## rm .T to make shapes coincide\n",
    "\n",
    "x_train_reg = np.vstack([np.ones(x_train.shape),x_train,x_train**2])\n",
    "omegas = lin_reg(x_train_reg,y_train);omegas"
   ]
  },
  {
   "cell_type": "code",
   "execution_count": 14,
   "metadata": {},
   "outputs": [
    {
     "data": {
      "text/plain": [
       "(0.00906916730304711, 0.011105813705020789)"
      ]
     },
     "execution_count": 14,
     "metadata": {},
     "output_type": "execute_result"
    }
   ],
   "source": [
    "mse(omegas[0]+omegas[1]*x_train+omegas[2]*x_train**2,y_train),mse(omegas[0]+omegas[1]*x+omegas[2]*x**2,y)"
   ]
  },
  {
   "cell_type": "code",
   "execution_count": 15,
   "metadata": {},
   "outputs": [
    {
     "data": {
      "image/png": "[encoded data removed]",
      "text/plain": [
       "<Figure size 432x288 with 1 Axes>"
      ]
     },
     "metadata": {
      "needs_background": "light"
     },
     "output_type": "display_data"
    }
   ],
   "source": [
    "plt.scatter(x,y)\n",
    "plt.plot(x,omegas[0]+omegas[1]*x+omegas[2]*x**2,c=\"r\");"
   ]
  },
  {
   "cell_type": "markdown",
   "metadata": {},
   "source": [
    "This looks nicer than before but, can we doit better? Probably fitting a polynomial of degree 5... and a polynomial of degree 10?"
   ]
  },
  {
   "cell_type": "code",
   "execution_count": 16,
   "metadata": {},
   "outputs": [],
   "source": [
    "def train(x,y,degree=1):\n",
    "    list_d = []\n",
    "    for i in range(degree):\n",
    "        list_d.append(x**i)\n",
    "    train_data = np.vstack(list_d)\n",
    "    return lin_reg(train_data,y)"
   ]
  },
  {
   "cell_type": "code",
   "execution_count": 17,
   "metadata": {},
   "outputs": [
    {
     "data": {
      "text/plain": [
       "array([ 0.13671759, -0.13309091,  0.0228472 ])"
      ]
     },
     "execution_count": 17,
     "metadata": {},
     "output_type": "execute_result"
    }
   ],
   "source": [
    "train(x_train,y_train,3)"
   ]
  },
  {
   "cell_type": "markdown",
   "metadata": {},
   "source": [
    "Looks good, so now let us try a little bit..."
   ]
  },
  {
   "cell_type": "code",
   "execution_count": 18,
   "metadata": {},
   "outputs": [],
   "source": [
    "degrees = [2,3,5,6,10,20]\n",
    "models = []\n",
    "for d in degrees:\n",
    "    models.append(train(x_train,y_train,d))"
   ]
  },
  {
   "cell_type": "code",
   "execution_count": 19,
   "metadata": {},
   "outputs": [],
   "source": [
    "def predict(x,omegas):\n",
    "    list_d = []\n",
    "    for i in range(len(omegas)):\n",
    "        list_d.append(omegas[i]*x**i)\n",
    "    train_data = np.vstack(list_d)\n",
    "    return train_data.sum(axis=0)       "
   ]
  },
  {
   "cell_type": "code",
   "execution_count": 20,
   "metadata": {},
   "outputs": [],
   "source": [
    "predictions = []\n",
    "for m in models:\n",
    "    predictions.append(predict(x,m))"
   ]
  },
  {
   "cell_type": "code",
   "execution_count": 21,
   "metadata": {},
   "outputs": [
    {
     "data": {
      "image/png": "[encoded data removed]",
      "text/plain": [
       "<Figure size 432x288 with 1 Axes>"
      ]
     },
     "metadata": {
      "needs_background": "light"
     },
     "output_type": "display_data"
    },
    {
     "data": {
      "image/png": "[encoded data removed]",
      "text/plain": [
       "<Figure size 432x288 with 1 Axes>"
      ]
     },
     "metadata": {
      "needs_background": "light"
     },
     "output_type": "display_data"
    },
    {
     "data": {
      "image/png": "[encoded data removed]",
      "text/plain": [
       "<Figure size 432x288 with 1 Axes>"
      ]
     },
     "metadata": {
      "needs_background": "light"
     },
     "output_type": "display_data"
    },
    {
     "data": {
      "image/png": "[encoded data removed]",
      "text/plain": [
       "<Figure size 432x288 with 1 Axes>"
      ]
     },
     "metadata": {
      "needs_background": "light"
     },
     "output_type": "display_data"
    },
    {
     "data": {
      "image/png": "[encoded data removed]",
      "text/plain": [
       "<Figure size 432x288 with 1 Axes>"
      ]
     },
     "metadata": {
      "needs_background": "light"
     },
     "output_type": "display_data"
    },
    {
     "data": {
      "image/png": "[encoded data removed]",
      "text/plain": [
       "<Figure size 432x288 with 1 Axes>"
      ]
     },
     "metadata": {
      "needs_background": "light"
     },
     "output_type": "display_data"
    }
   ],
   "source": [
    "for i,prediction in enumerate(predictions):\n",
    "    plt.title(f'The polynomial of degree {degrees[i]-1} has mse of {mse(prediction,y)}')\n",
    "    plt.scatter(x,y)\n",
    "    plt.plot(x,prediction,c=\"r\")\n",
    "    plt.show()"
   ]
  },
  {
   "cell_type": "markdown",
   "metadata": {},
   "source": [
    "So as expected the best model (**correct capacity and no overfit**) is in average a polynomial of degree 5, and the error is a little bit higher than the variance of the noise added to the polynomial to generate the data.\n",
    "\n",
    "In this particular case, the degree of the polynomial that we are fitting is what we call an **hyperparameter**. To tune those hyper-parameters we need what we call validation sets, to train the model with the training data, tune the hyper-parameters looking at the MSE of the validation set and testing our final tuned model on our test data never seen before at any step. \n",
    "\n",
    "Can we overfit on the test set? **Kaggle / iris dataset**"
   ]
  },
  {
   "cell_type": "markdown",
   "metadata": {},
   "source": [
    "### Little break and plotly plots"
   ]
  },
  {
   "cell_type": "code",
   "execution_count": 22,
   "metadata": {},
   "outputs": [
    {
     "data": {
      "text/html": [
       "        <script type=\"text/javascript\">\n",
       "        window.PlotlyConfig = {MathJaxConfig: 'local'};\n",
       "        if (window.MathJax) {MathJax.Hub.Config({SVG: {font: \"STIX-Web\"}});}\n",
       "        if (typeof require !== 'undefined') {\n",
       "        require.undef(\"plotly\");\n",
       "        requirejs.config({\n",
       "            paths: {\n",
       "                'plotly': ['https://cdn.plot.ly/plotly-latest.min']\n",
       "            }\n",
       "        });\n",
       "        require(['plotly'], function(Plotly) {\n",
       "            window._Plotly = Plotly;\n",
       "        });\n",
       "        }\n",
       "        </script>\n",
       "        "
      ]
     },
     "metadata": {},
     "output_type": "display_data"
    }
   ],
   "source": [
    "from plotly.offline import download_plotlyjs, init_notebook_mode, plot, iplot\n",
    "import plotly.graph_objs as go\n",
    "\n",
    "init_notebook_mode(connected=True)"
   ]
  },
  {
   "cell_type": "code",
   "execution_count": 23,
   "metadata": {},
   "outputs": [
    {
     "data": {
      "application/vnd.plotly.v1+json": {
       "config": {
        "linkText": "Export to plot.ly",
        "plotlyServerURL": "https://plot.ly",
        "showLink": false
       },
       "data": [
        {
         "mode": "markers",
         "name": "Data",
         "type": "scatter",
         "x": [
          0,
          0.10101010101010101,
          0.20202020202020202,
          0.30303030303030304,
          0.40404040404040403,
          0.5050505050505051,
          0.6060606060606061,
          0.7070707070707071,
          0.8080808080808081,
          0.9090909090909091,
          1.0101010101010102,
          1.1111111111111112,
          1.2121212121212122,
          1.3131313131313131,
          1.4141414141414141,
          1.5151515151515151,
          1.6161616161616161,
          1.7171717171717171,
          1.8181818181818181,
          1.9191919191919191,
          2.0202020202020203,
          2.121212121212121,
          2.2222222222222223,
          2.323232323232323,
          2.4242424242424243,
          2.525252525252525,
          2.6262626262626263,
          2.727272727272727,
          2.8282828282828283,
          2.929292929292929,
          3.0303030303030303,
          3.131313131313131,
          3.2323232323232323,
          3.3333333333333335,
          3.4343434343434343,
          3.5353535353535355,
          3.6363636363636362,
          3.7373737373737375,
          3.8383838383838382,
          3.9393939393939394,
          4.040404040404041,
          4.141414141414141,
          4.242424242424242,
          4.343434343434343,
          4.444444444444445,
          4.545454545454545,
          4.646464646464646,
          4.747474747474747,
          4.848484848484849,
          4.94949494949495,
          5.05050505050505,
          5.151515151515151,
          5.252525252525253,
          5.353535353535354,
          5.454545454545454,
          5.555555555555555,
          5.656565656565657,
          5.757575757575758,
          5.858585858585858,
          5.959595959595959,
          6.0606060606060606,
          6.161616161616162,
          6.262626262626262,
          6.363636363636363,
          6.4646464646464645,
          6.565656565656566,
          6.666666666666667,
          6.767676767676767,
          6.8686868686868685,
          6.96969696969697,
          7.070707070707071,
          7.171717171717171,
          7.2727272727272725,
          7.373737373737374,
          7.474747474747475,
          7.575757575757575,
          7.6767676767676765,
          7.777777777777778,
          7.878787878787879,
          7.979797979797979,
          8.080808080808081,
          8.181818181818182,
          8.282828282828282,
          8.383838383838384,
          8.484848484848484,
          8.585858585858587,
          8.686868686868687,
          8.787878787878787,
          8.88888888888889,
          8.98989898989899,
          9.09090909090909,
          9.191919191919192,
          9.292929292929292,
          9.393939393939394,
          9.494949494949495,
          9.595959595959595,
          9.696969696969697,
          9.797979797979798,
          9.8989898989899,
          10
         ],
         "y": [
          0.04011145781806455,
          -0.08446487010824606,
          -0.07234209242561324,
          -0.010427731742529344,
          0.0623609191821534,
          0.07774883708512813,
          -0.07017100215970083,
          0.09101772860796517,
          0.02288555750447923,
          0.05694292119937088,
          -0.17047900715194433,
          0.0051253762652160315,
          0.07361985063211691,
          0.03378854095582014,
          0.15409451902232185,
          0.01765223488336484,
          -0.09592192104699393,
          0.08908285676014899,
          -0.11523880855100815,
          -0.053383591131228335,
          -0.039454466867038254,
          -0.17955501481162342,
          0.0017425301224580033,
          -0.023079861728140492,
          0.08140612998787032,
          -0.0737667865341571,
          -0.13565024826572464,
          0.07031976849481962,
          0.04331957241923693,
          -0.008313049809837129,
          -0.14378471190936548,
          -0.06440253801360922,
          0.022047257977165054,
          0.0004856796610002937,
          0.023425807495372278,
          0.06598765087194566,
          -0.12748280789604194,
          -0.09331419471222367,
          0.07774339266349173,
          0.10727701872981601,
          0.1097231848098196,
          -0.06722821917150809,
          -0.07772243229800083,
          0.011112977500260642,
          0.12248489778494934,
          0.03749614350524855,
          0.17780717837454801,
          -0.005811772419689755,
          0.004273837764007846,
          0.3119454268112384,
          0.07139661294786494,
          -0.052810983553489926,
          -0.048595069988405445,
          0.15078464783593507,
          0.08079246798566551,
          0.1800543762778335,
          0.25765053079452804,
          0.08248214620547474,
          0.07817312817977215,
          0.013189458529026504,
          0.2441356016249213,
          0.23799561188575435,
          0.23353168787125633,
          0.217254686394788,
          0.20217954507556152,
          0.2438445885149002,
          0.2092751979164007,
          0.3413393436962512,
          0.21689616425229072,
          0.17893017623545732,
          0.2502032515412182,
          0.30272820444169984,
          0.3354830723669458,
          0.2703783123784438,
          0.4172414693792236,
          0.2746977464861427,
          0.3283709805609444,
          0.4940504399985648,
          0.4156129604849747,
          0.08774142328324647,
          0.47305941208483604,
          0.5354355469809698,
          0.587038813561612,
          0.7516627093189548,
          0.6931245640235418,
          0.7136561109435006,
          0.7949946925144988,
          0.6841054069565486,
          0.7271559324792903,
          0.6960628859075333,
          0.9551875335809961,
          0.698202656465577,
          1.0130468861139317,
          0.8571023378968047,
          0.8533827250144432,
          0.7676335371460321,
          1.0807850412106235,
          1.17165557620358,
          1.103155952453921,
          1.006006847644141
         ]
        },
        {
         "mode": "lines",
         "name": "Regressor Linear of degree 1",
         "text": "MSE: 0.038089155580704005",
         "type": "scatter",
         "x": [
          0,
          0.10101010101010101,
          0.20202020202020202,
          0.30303030303030304,
          0.40404040404040403,
          0.5050505050505051,
          0.6060606060606061,
          0.7070707070707071,
          0.8080808080808081,
          0.9090909090909091,
          1.0101010101010102,
          1.1111111111111112,
          1.2121212121212122,
          1.3131313131313131,
          1.4141414141414141,
          1.5151515151515151,
          1.6161616161616161,
          1.7171717171717171,
          1.8181818181818181,
          1.9191919191919191,
          2.0202020202020203,
          2.121212121212121,
          2.2222222222222223,
          2.323232323232323,
          2.4242424242424243,
          2.525252525252525,
          2.6262626262626263,
          2.727272727272727,
          2.8282828282828283,
          2.929292929292929,
          3.0303030303030303,
          3.131313131313131,
          3.2323232323232323,
          3.3333333333333335,
          3.4343434343434343,
          3.5353535353535355,
          3.6363636363636362,
          3.7373737373737375,
          3.8383838383838382,
          3.9393939393939394,
          4.040404040404041,
          4.141414141414141,
          4.242424242424242,
          4.343434343434343,
          4.444444444444445,
          4.545454545454545,
          4.646464646464646,
          4.747474747474747,
          4.848484848484849,
          4.94949494949495,
          5.05050505050505,
          5.151515151515151,
          5.252525252525253,
          5.353535353535354,
          5.454545454545454,
          5.555555555555555,
          5.656565656565657,
          5.757575757575758,
          5.858585858585858,
          5.959595959595959,
          6.0606060606060606,
          6.161616161616162,
          6.262626262626262,
          6.363636363636363,
          6.4646464646464645,
          6.565656565656566,
          6.666666666666667,
          6.767676767676767,
          6.8686868686868685,
          6.96969696969697,
          7.070707070707071,
          7.171717171717171,
          7.2727272727272725,
          7.373737373737374,
          7.474747474747475,
          7.575757575757575,
          7.6767676767676765,
          7.777777777777778,
          7.878787878787879,
          7.979797979797979,
          8.080808080808081,
          8.181818181818182,
          8.282828282828282,
          8.383838383838384,
          8.484848484848484,
          8.585858585858587,
          8.686868686868687,
          8.787878787878787,
          8.88888888888889,
          8.98989898989899,
          9.09090909090909,
          9.191919191919192,
          9.292929292929292,
          9.393939393939394,
          9.494949494949495,
          9.595959595959595,
          9.696969696969697,
          9.797979797979798,
          9.8989898989899,
          10
         ],
         "y": [
          -0.3641819773692432,
          -0.3523954098296222,
          -0.3406088422900012,
          -0.32882227475038023,
          -0.31703570721075924,
          -0.30524913967113826,
          -0.2934625721315173,
          -0.28167600459189635,
          -0.26988943705227536,
          -0.2581028695126544,
          -0.2463163019730334,
          -0.2345297344334124,
          -0.22274316689379142,
          -0.21095659935417044,
          -0.19917003181454945,
          -0.18738346427492847,
          -0.1755968967353075,
          -0.16381032919568653,
          -0.15202376165606554,
          -0.14023719411644456,
          -0.12845062657682357,
          -0.11666405903720262,
          -0.10487749149758163,
          -0.09309092395796065,
          -0.08130435641833966,
          -0.06951778887871868,
          -0.057731221339097694,
          -0.045944653799476765,
          -0.034158086259855724,
          -0.022371518720234795,
          -0.010584951180613755,
          0.0012016163590071738,
          0.012988183898628158,
          0.0247747514382492,
          0.03656131897787013,
          0.04834788651749111,
          0.0601344540571121,
          0.07192102159673308,
          0.08370758913635407,
          0.09549415667597505,
          0.10728072421559603,
          0.11906729175521696,
          0.13085385929483795,
          0.142640426834459,
          0.15442699437407992,
          0.16621356191370085,
          0.1780001294533219,
          0.18978669699294293,
          0.20157326453256386,
          0.2133598320721849,
          0.22514639961180583,
          0.23693296715142675,
          0.2487195346910478,
          0.26050610223066883,
          0.27229266977028965,
          0.2840792373099107,
          0.29586580484953173,
          0.30765237238915266,
          0.3194389399287736,
          0.33122550746839463,
          0.34301207500801567,
          0.3547986425476366,
          0.36658521008725753,
          0.37837177762687857,
          0.3901583451664995,
          0.40194491270612054,
          0.4137314802457416,
          0.4255180477853624,
          0.43730461532498344,
          0.4490911828646045,
          0.4608777504042254,
          0.47266431794384633,
          0.4844508854834674,
          0.4962374530230884,
          0.5080240205627093,
          0.5198105881023303,
          0.5315971556419513,
          0.5433837231815722,
          0.5551702907211933,
          0.5669568582608142,
          0.5787434258004353,
          0.5905299933400562,
          0.6023165608796771,
          0.6141031284192981,
          0.6258896959589191,
          0.6376762634985402,
          0.6494628310381612,
          0.6612493985777821,
          0.673035966117403,
          0.684822533657024,
          0.6966091011966449,
          0.708395668736266,
          0.720182236275887,
          0.7319688038155081,
          0.743755371355129,
          0.7555419388947497,
          0.7673285064343709,
          0.7791150739739918,
          0.790901641513613,
          0.8026882090532339
         ]
        },
        {
         "mode": "lines",
         "name": "Regressor Linear of degree 2",
         "text": "MSE: 0.011105813705020789",
         "type": "scatter",
         "x": [
          0,
          0.10101010101010101,
          0.20202020202020202,
          0.30303030303030304,
          0.40404040404040403,
          0.5050505050505051,
          0.6060606060606061,
          0.7070707070707071,
          0.8080808080808081,
          0.9090909090909091,
          1.0101010101010102,
          1.1111111111111112,
          1.2121212121212122,
          1.3131313131313131,
          1.4141414141414141,
          1.5151515151515151,
          1.6161616161616161,
          1.7171717171717171,
          1.8181818181818181,
          1.9191919191919191,
          2.0202020202020203,
          2.121212121212121,
          2.2222222222222223,
          2.323232323232323,
          2.4242424242424243,
          2.525252525252525,
          2.6262626262626263,
          2.727272727272727,
          2.8282828282828283,
          2.929292929292929,
          3.0303030303030303,
          3.131313131313131,
          3.2323232323232323,
          3.3333333333333335,
          3.4343434343434343,
          3.5353535353535355,
          3.6363636363636362,
          3.7373737373737375,
          3.8383838383838382,
          3.9393939393939394,
          4.040404040404041,
          4.141414141414141,
          4.242424242424242,
          4.343434343434343,
          4.444444444444445,
          4.545454545454545,
          4.646464646464646,
          4.747474747474747,
          4.848484848484849,
          4.94949494949495,
          5.05050505050505,
          5.151515151515151,
          5.252525252525253,
          5.353535353535354,
          5.454545454545454,
          5.555555555555555,
          5.656565656565657,
          5.757575757575758,
          5.858585858585858,
          5.959595959595959,
          6.0606060606060606,
          6.161616161616162,
          6.262626262626262,
          6.363636363636363,
          6.4646464646464645,
          6.565656565656566,
          6.666666666666667,
          6.767676767676767,
          6.8686868686868685,
          6.96969696969697,
          7.070707070707071,
          7.171717171717171,
          7.2727272727272725,
          7.373737373737374,
          7.474747474747475,
          7.575757575757575,
          7.6767676767676765,
          7.777777777777778,
          7.878787878787879,
          7.979797979797979,
          8.080808080808081,
          8.181818181818182,
          8.282828282828282,
          8.383838383838384,
          8.484848484848484,
          8.585858585858587,
          8.686868686868687,
          8.787878787878787,
          8.88888888888889,
          8.98989898989899,
          9.09090909090909,
          9.191919191919192,
          9.292929292929292,
          9.393939393939394,
          9.494949494949495,
          9.595959595959595,
          9.696969696969697,
          9.797979797979798,
          9.8989898989899,
          10
         ],
         "y": [
          0.13671758738951034,
          0.12350717225076199,
          0.1107629789402078,
          0.09848500745784773,
          0.08667325780368183,
          0.07532772997771008,
          0.06444842397993246,
          0.054035339810349,
          0.044088477468959685,
          0.03460783695576452,
          0.02559341827076351,
          0.01704522141395663,
          0.00896324638534389,
          0.0013474931849253302,
          -0.005802038187299109,
          -0.012485347731329373,
          -0.018702435447165516,
          -0.024453301334807484,
          -0.02973794539425534,
          -0.03455636762550901,
          -0.03890856802856854,
          -0.04279454660343397,
          -0.04621430335010519,
          -0.04916783826858227,
          -0.05165515135886528,
          -0.05367624262095405,
          -0.05523111205484871,
          -0.056319759660549196,
          -0.0569421854380556,
          -0.057098389387367776,
          -0.05678837150848584,
          -0.05601213180140974,
          -0.05476967026613955,
          -0.053060986902675134,
          -0.050886081711016606,
          -0.048244954691163966,
          -0.04513760584311716,
          -0.04156403516687612,
          -0.03752424266244103,
          -0.03301822832981177,
          -0.028045992168988287,
          -0.0226075341799708,
          -0.016702854362759145,
          -0.01033195271735321,
          -0.0034948292437531614,
          0.003808516058040834,
          0.011578083188029276,
          0.019813872146211664,
          0.02851588293258822,
          0.037684115547159114,
          0.0473185699899239,
          0.05741924626088302,
          0.06798614436003614,
          0.07901926428738348,
          0.09051860604292494,
          0.10248416962666063,
          0.11491595503859031,
          0.12781396227871444,
          0.14117819134703236,
          0.1550086422435445,
          0.16930531496825096,
          0.18406820952115144,
          0.19929732590224614,
          0.21499266411153506,
          0.23115422414901787,
          0.24778200601469513,
          0.2648760097085664,
          0.28243623523063166,
          0.30046268258089126,
          0.3189553517593451,
          0.3379142427659928,
          0.35733935560083463,
          0.3772306902638708,
          0.3975882467551012,
          0.4184120250745258,
          0.4397020252221442,
          0.4614582471979569,
          0.483680691001964,
          0.5063693566341649,
          0.5295242440945598,
          0.5531453533831496,
          0.5772326844999331,
          0.6017862374449103,
          0.6268060122180823,
          0.6522920088194479,
          0.6782442272490083,
          0.7046626675067624,
          0.7315473295927106,
          0.7588982135068536,
          0.7867153192491898,
          0.8149986468197203,
          0.8437481962184459,
          0.8729639674453649,
          0.9026459605004782,
          0.9327941753837854,
          0.9634086120952869,
          0.9944892706349826,
          1.0260361510028726,
          1.058049253198957,
          1.0905285772232345
         ]
        },
        {
         "mode": "lines",
         "name": "Regressor Linear of degree 4",
         "text": "MSE: 0.009682568588026675",
         "type": "scatter",
         "x": [
          0,
          0.10101010101010101,
          0.20202020202020202,
          0.30303030303030304,
          0.40404040404040403,
          0.5050505050505051,
          0.6060606060606061,
          0.7070707070707071,
          0.8080808080808081,
          0.9090909090909091,
          1.0101010101010102,
          1.1111111111111112,
          1.2121212121212122,
          1.3131313131313131,
          1.4141414141414141,
          1.5151515151515151,
          1.6161616161616161,
          1.7171717171717171,
          1.8181818181818181,
          1.9191919191919191,
          2.0202020202020203,
          2.121212121212121,
          2.2222222222222223,
          2.323232323232323,
          2.4242424242424243,
          2.525252525252525,
          2.6262626262626263,
          2.727272727272727,
          2.8282828282828283,
          2.929292929292929,
          3.0303030303030303,
          3.131313131313131,
          3.2323232323232323,
          3.3333333333333335,
          3.4343434343434343,
          3.5353535353535355,
          3.6363636363636362,
          3.7373737373737375,
          3.8383838383838382,
          3.9393939393939394,
          4.040404040404041,
          4.141414141414141,
          4.242424242424242,
          4.343434343434343,
          4.444444444444445,
          4.545454545454545,
          4.646464646464646,
          4.747474747474747,
          4.848484848484849,
          4.94949494949495,
          5.05050505050505,
          5.151515151515151,
          5.252525252525253,
          5.353535353535354,
          5.454545454545454,
          5.555555555555555,
          5.656565656565657,
          5.757575757575758,
          5.858585858585858,
          5.959595959595959,
          6.0606060606060606,
          6.161616161616162,
          6.262626262626262,
          6.363636363636363,
          6.4646464646464645,
          6.565656565656566,
          6.666666666666667,
          6.767676767676767,
          6.8686868686868685,
          6.96969696969697,
          7.070707070707071,
          7.171717171717171,
          7.2727272727272725,
          7.373737373737374,
          7.474747474747475,
          7.575757575757575,
          7.6767676767676765,
          7.777777777777778,
          7.878787878787879,
          7.979797979797979,
          8.080808080808081,
          8.181818181818182,
          8.282828282828282,
          8.383838383838384,
          8.484848484848484,
          8.585858585858587,
          8.686868686868687,
          8.787878787878787,
          8.88888888888889,
          8.98989898989899,
          9.09090909090909,
          9.191919191919192,
          9.292929292929292,
          9.393939393939394,
          9.494949494949495,
          9.595959595959595,
          9.696969696969697,
          9.797979797979798,
          9.8989898989899,
          10
         ],
         "y": [
          0.04648189459595642,
          0.044520691016670236,
          0.042391309151548616,
          0.040111356690242156,
          0.037698265880888926,
          0.03516929353011443,
          0.03254152100303164,
          0.02983185422324102,
          0.027057023672830444,
          0.024233584392375305,
          0.021377915980938418,
          0.01850622259607008,
          0.015634532953808056,
          0.012778700328677553,
          0.009954402553691257,
          0.007177142020349315,
          0.004462245678639324,
          0.0018248650370363665,
          -0.0007200238374970355,
          -0.0031576203195108816,
          -0.0054732992250677145,
          -0.007652610811742604,
          -0.00968128077862318,
          -0.011545210266309593,
          -0.013230475856914522,
          -0.014723329574063202,
          -0.016010198882893394,
          -0.01707768669005541,
          -0.017912571343712082,
          -0.018501806633538807,
          -0.018832521790723443,
          -0.0188920214879665,
          -0.018667785839480915,
          -0.018147470400992252,
          -0.017318906169738562,
          -0.01617009958447045,
          -0.014689232525451068,
          -0.012864662314456042,
          -0.010684921714773624,
          -0.008138718931204485,
          -0.005214937610062014,
          -0.001902636839171995,
          0.0018089488521271999,
          0.005930409492984765,
          0.01047215967103711,
          0.015444438532408362,
          0.02085730978170995,
          0.026720661682041028,
          0.03304420705498775,
          0.03983748328062415,
          0.04710985229751144,
          0.05487050060269858,
          0.06312843925172182,
          0.07189250385860485,
          0.08117135459585867,
          0.09097347619448236,
          0.10130717794396166,
          0.11218059369227035,
          0.12360168184586931,
          0.13557822536970748,
          0.14811783178722024,
          0.16122793318033138,
          0.17491578618945158,
          0.1891884720134796,
          0.20405289640980082,
          0.2195157896942887,
          0.2355837067413042,
          0.2522630269836949,
          0.2695599544127973,
          0.28748051757843385,
          0.3060305695889156,
          0.32521578811104035,
          0.3450416753700938,
          0.36551355814984887,
          0.3866365877925658,
          0.40841574019899274,
          0.4308558158283653,
          0.45396143969840597,
          0.47773706138532523,
          0.5021869550238203,
          0.5273152193070774,
          0.5531257774867677,
          0.5796223773730533,
          0.6068085913345809,
          0.6346878162984849,
          0.6632632737503892,
          0.6925380097344023,
          0.7225148948531226,
          0.7531966242676351,
          0.7845857176975116,
          0.8166845194208123,
          0.8494951982740852,
          0.8830197476523636,
          0.9172599855091718,
          0.952217554356517,
          0.987893921264898,
          1.0242903778632995,
          1.0614080403391923,
          1.0992478494385378,
          1.1378105704657813
         ]
        },
        {
         "mode": "lines",
         "name": "Regressor Linear of degree 5",
         "text": "MSE: 0.00969626136693754",
         "type": "scatter",
         "x": [
          0,
          0.10101010101010101,
          0.20202020202020202,
          0.30303030303030304,
          0.40404040404040403,
          0.5050505050505051,
          0.6060606060606061,
          0.7070707070707071,
          0.8080808080808081,
          0.9090909090909091,
          1.0101010101010102,
          1.1111111111111112,
          1.2121212121212122,
          1.3131313131313131,
          1.4141414141414141,
          1.5151515151515151,
          1.6161616161616161,
          1.7171717171717171,
          1.8181818181818181,
          1.9191919191919191,
          2.0202020202020203,
          2.121212121212121,
          2.2222222222222223,
          2.323232323232323,
          2.4242424242424243,
          2.525252525252525,
          2.6262626262626263,
          2.727272727272727,
          2.8282828282828283,
          2.929292929292929,
          3.0303030303030303,
          3.131313131313131,
          3.2323232323232323,
          3.3333333333333335,
          3.4343434343434343,
          3.5353535353535355,
          3.6363636363636362,
          3.7373737373737375,
          3.8383838383838382,
          3.9393939393939394,
          4.040404040404041,
          4.141414141414141,
          4.242424242424242,
          4.343434343434343,
          4.444444444444445,
          4.545454545454545,
          4.646464646464646,
          4.747474747474747,
          4.848484848484849,
          4.94949494949495,
          5.05050505050505,
          5.151515151515151,
          5.252525252525253,
          5.353535353535354,
          5.454545454545454,
          5.555555555555555,
          5.656565656565657,
          5.757575757575758,
          5.858585858585858,
          5.959595959595959,
          6.0606060606060606,
          6.161616161616162,
          6.262626262626262,
          6.363636363636363,
          6.4646464646464645,
          6.565656565656566,
          6.666666666666667,
          6.767676767676767,
          6.8686868686868685,
          6.96969696969697,
          7.070707070707071,
          7.171717171717171,
          7.2727272727272725,
          7.373737373737374,
          7.474747474747475,
          7.575757575757575,
          7.6767676767676765,
          7.777777777777778,
          7.878787878787879,
          7.979797979797979,
          8.080808080808081,
          8.181818181818182,
          8.282828282828282,
          8.383838383838384,
          8.484848484848484,
          8.585858585858587,
          8.686868686868687,
          8.787878787878787,
          8.88888888888889,
          8.98989898989899,
          9.09090909090909,
          9.191919191919192,
          9.292929292929292,
          9.393939393939394,
          9.494949494949495,
          9.595959595959595,
          9.696969696969697,
          9.797979797979798,
          9.8989898989899,
          10
         ],
         "y": [
          0.06391659361906932,
          0.05772031429231208,
          0.05187602797462044,
          0.04636230539095596,
          0.04115926177816233,
          0.036248522187228585,
          0.03161318678555245,
          0.027237796159203576,
          0.02310829661518674,
          0.01921200548370519,
          0.015537576420423834,
          0.012074964708732549,
          0.008815392562009422,
          0.0057513144258840125,
          0.002876382280500584,
          0.00018541094278140302,
          -0.0023256566313099867,
          -0.004659784044505573,
          -0.006818876155969535,
          -0.008803813779035066,
          -0.010614488378941047,
          -0.012249836770568807,
          -0.013707875816178862,
          -0.014985737123147663,
          -0.01607970174170439,
          -0.016985234862667488,
          -0.017697020515181766,
          -0.018208996264454713,
          -0.01851438790949359,
          -0.018605744180841995,
          -0.018474971438316612,
          -0.018113368368743974,
          -0.017511660683697264,
          -0.016660035817232962,
          -0.015548177623627606,
          -0.01416530107511453,
          -0.01250018695962073,
          -0.010541216578503335,
          -0.008276406444286715,
          -0.005693442978398799,
          -0.0027797172089081452,
          0.00047764053173941085,
          0.004091725908984219,
          0.008075825888415655,
          0.012443384038035729,
          0.017207965830522115,
          0.022383223945492074,
          0.027982863571764147,
          0.03402060770962348,
          0.04051016247308341,
          0.04746518239214967,
          0.05489923571508307,
          0.06282576971066317,
          0.07125807597045163,
          0.08020925571105472,
          0.0896921850763874,
          0.09971948043993661,
          0.11030346370702357,
          0.1214561276170675,
          0.13318910104585002,
          0.14551361430777693,
          0.1584404644581418,
          0.171979980595389,
          0.1861419891633787,
          0.20093577925364753,
          0.21637006790767377,
          0.23245296541913907,
          0.24919194063619382,
          0.2665937862637188,
          0.28466458416558843,
          0.30340967066693436,
          0.3228336018564085,
          0.34294011888844833,
          0.36373211328553634,
          0.3852115922404662,
          0.4073796439186047,
          0.4302364027601563,
          0.45378101478242505,
          0.47801160288207845,
          0.5029252321374106,
          0.5285178751106056,
          0.5547843771500007,
          0.5817184216923479,
          0.6093124955650828,
          0.6375578542885794,
          0.6664444873784212,
          0.69596108364766,
          0.7260949965090782,
          0.7568322092774591,
          0.7881573004718405,
          0.8200534091177838,
          0.8525022000496398,
          0.8854838292128029,
          0.9189769089659809,
          0.9529584733834611,
          0.987403943557366,
          1.022287092899921,
          1.0575800124457162,
          1.09325307615397,
          1.1292749062107958
         ]
        },
        {
         "mode": "lines",
         "name": "Regressor Linear of degree 9",
         "text": "MSE: 0.010625039227701591",
         "type": "scatter",
         "x": [
          0,
          0.10101010101010101,
          0.20202020202020202,
          0.30303030303030304,
          0.40404040404040403,
          0.5050505050505051,
          0.6060606060606061,
          0.7070707070707071,
          0.8080808080808081,
          0.9090909090909091,
          1.0101010101010102,
          1.1111111111111112,
          1.2121212121212122,
          1.3131313131313131,
          1.4141414141414141,
          1.5151515151515151,
          1.6161616161616161,
          1.7171717171717171,
          1.8181818181818181,
          1.9191919191919191,
          2.0202020202020203,
          2.121212121212121,
          2.2222222222222223,
          2.323232323232323,
          2.4242424242424243,
          2.525252525252525,
          2.6262626262626263,
          2.727272727272727,
          2.8282828282828283,
          2.929292929292929,
          3.0303030303030303,
          3.131313131313131,
          3.2323232323232323,
          3.3333333333333335,
          3.4343434343434343,
          3.5353535353535355,
          3.6363636363636362,
          3.7373737373737375,
          3.8383838383838382,
          3.9393939393939394,
          4.040404040404041,
          4.141414141414141,
          4.242424242424242,
          4.343434343434343,
          4.444444444444445,
          4.545454545454545,
          4.646464646464646,
          4.747474747474747,
          4.848484848484849,
          4.94949494949495,
          5.05050505050505,
          5.151515151515151,
          5.252525252525253,
          5.353535353535354,
          5.454545454545454,
          5.555555555555555,
          5.656565656565657,
          5.757575757575758,
          5.858585858585858,
          5.959595959595959,
          6.0606060606060606,
          6.161616161616162,
          6.262626262626262,
          6.363636363636363,
          6.4646464646464645,
          6.565656565656566,
          6.666666666666667,
          6.767676767676767,
          6.8686868686868685,
          6.96969696969697,
          7.070707070707071,
          7.171717171717171,
          7.2727272727272725,
          7.373737373737374,
          7.474747474747475,
          7.575757575757575,
          7.6767676767676765,
          7.777777777777778,
          7.878787878787879,
          7.979797979797979,
          8.080808080808081,
          8.181818181818182,
          8.282828282828282,
          8.383838383838384,
          8.484848484848484,
          8.585858585858587,
          8.686868686868687,
          8.787878787878787,
          8.88888888888889,
          8.98989898989899,
          9.09090909090909,
          9.191919191919192,
          9.292929292929292,
          9.393939393939394,
          9.494949494949495,
          9.595959595959595,
          9.696969696969697,
          9.797979797979798,
          9.8989898989899,
          10
         ],
         "y": [
          -0.2566247368231416,
          -0.1429907592062841,
          -0.06170257632678777,
          -0.005612491153143611,
          0.03114899309003628,
          0.05335396849568043,
          0.06483859754561634,
          0.068646730262197,
          0.06715705603212725,
          0.062195114300956256,
          0.05513142154040395,
          0.046966906691565835,
          0.03840678368508535,
          0.029923927634599883,
          0.021812760892146135,
          0.014234596343770736,
          0.007255328110342681,
          0.0008763042023965609,
          -0.004940838341000906,
          -0.010254647721208272,
          -0.01512896377321439,
          -0.019622028426875184,
          -0.02377901981028572,
          -0.02762747560248117,
          -0.031175115678401307,
          -0.03440961692810959,
          -0.0372999343734624,
          -0.03979880235006337,
          -0.041846087569517736,
          -0.043372702326950646,
          -0.04430482097176128,
          -0.04456817601525165,
          -0.044092241907364355,
          -0.04281414457588001,
          -0.04068216328612362,
          -0.037658718245707934,
          -0.03372276264900642,
          -0.028871521529013733,
          -0.023121541858877714,
          -0.016509038824662148,
          -0.009089542071735845,
          -0.0009368630112291942,
          0.007858580040851049,
          0.017192028027758433,
          0.026947175265497947,
          0.03699941725311717,
          0.04721946863360138,
          0.05747726005235343,
          0.06764601656180425,
          0.07760641571177107,
          0.08725072055386818,
          0.09648678148136902,
          0.10524180110273917,
          0.11346575823901617,
          0.12113439060227549,
          0.12825164080543772,
          0.13485147700419375,
          0.14099900777050323,
          0.14679082063857152,
          0.1523544852434071,
          0.15784717504094203,
          0.1634533762335053,
          0.16938166881232064,
          0.17586058245119318,
          0.18313354946714355,
          0.1914529980878683,
          0.20107365191623217,
          0.21224512574019627,
          0.2252039336535745,
          0.24016505290387613,
          0.25731321591493383,
          0.2767941335649198,
          0.29870588500864415,
          0.3230907432084109,
          0.349927740694568,
          0.3791263171389119,
          0.41052142896012356,
          0.4438705413083426,
          0.47885296470650474,
          0.5150720419359232,
          0.5520607357973404,
          0.589291215005801,
          0.626189083632994,
          0.6621529493127127,
          0.6965800768828103,
          0.7288989270174397,
          0.7586094341199896,
          0.7853319337968969,
          0.8088657081652855,
          0.8292581764526403,
          0.8468858195392386,
          0.8625479894251384,
          0.8775748189809747,
          0.8939505130279031,
          0.9144533690696335,
          0.9428139452152209,
          0.9838928630515511,
          1.0438798056493397,
          1.1305153446214717,
          1.2533373052137904
         ]
        }
       ],
       "layout": {
        "template": {
         "data": {
          "bar": [
           {
            "error_x": {
             "color": "#2a3f5f"
            },
            "error_y": {
             "color": "#2a3f5f"
            },
            "marker": {
             "line": {
              "color": "#E5ECF6",
              "width": 0.5
             }
            },
            "type": "bar"
           }
          ],
          "barpolar": [
           {
            "marker": {
             "line": {
              "color": "#E5ECF6",
              "width": 0.5
             }
            },
            "type": "barpolar"
           }
          ],
          "carpet": [
           {
            "aaxis": {
             "endlinecolor": "#2a3f5f",
             "gridcolor": "white",
             "linecolor": "white",
             "minorgridcolor": "white",
             "startlinecolor": "#2a3f5f"
            },
            "baxis": {
             "endlinecolor": "#2a3f5f",
             "gridcolor": "white",
             "linecolor": "white",
             "minorgridcolor": "white",
             "startlinecolor": "#2a3f5f"
            },
            "type": "carpet"
           }
          ],
          "choropleth": [
           {
            "colorbar": {
             "outlinewidth": 0,
             "ticks": ""
            },
            "type": "choropleth"
           }
          ],
          "contour": [
           {
            "colorbar": {
             "outlinewidth": 0,
             "ticks": ""
            },
            "colorscale": [
             [
              0,
              "#0d0887"
             ],
             [
              0.1111111111111111,
              "#46039f"
             ],
             [
              0.2222222222222222,
              "#7201a8"
             ],
             [
              0.3333333333333333,
              "#9c179e"
             ],
             [
              0.4444444444444444,
              "#bd3786"
             ],
             [
              0.5555555555555556,
              "#d8576b"
             ],
             [
              0.6666666666666666,
              "#ed7953"
             ],
             [
              0.7777777777777778,
              "#fb9f3a"
             ],
             [
              0.8888888888888888,
              "#fdca26"
             ],
             [
              1,
              "#f0f921"
             ]
            ],
            "type": "contour"
           }
          ],
          "contourcarpet": [
           {
            "colorbar": {
             "outlinewidth": 0,
             "ticks": ""
            },
            "type": "contourcarpet"
           }
          ],
          "heatmap": [
           {
            "colorbar": {
             "outlinewidth": 0,
             "ticks": ""
            },
            "colorscale": [
             [
              0,
              "#0d0887"
             ],
             [
              0.1111111111111111,
              "#46039f"
             ],
             [
              0.2222222222222222,
              "#7201a8"
             ],
             [
              0.3333333333333333,
              "#9c179e"
             ],
             [
              0.4444444444444444,
              "#bd3786"
             ],
             [
              0.5555555555555556,
              "#d8576b"
             ],
             [
              0.6666666666666666,
              "#ed7953"
             ],
             [
              0.7777777777777778,
              "#fb9f3a"
             ],
             [
              0.8888888888888888,
              "#fdca26"
             ],
             [
              1,
              "#f0f921"
             ]
            ],
            "type": "heatmap"
           }
          ],
          "heatmapgl": [
           {
            "colorbar": {
             "outlinewidth": 0,
             "ticks": ""
            },
            "colorscale": [
             [
              0,
              "#0d0887"
             ],
             [
              0.1111111111111111,
              "#46039f"
             ],
             [
              0.2222222222222222,
              "#7201a8"
             ],
             [
              0.3333333333333333,
              "#9c179e"
             ],
             [
              0.4444444444444444,
              "#bd3786"
             ],
             [
              0.5555555555555556,
              "#d8576b"
             ],
             [
              0.6666666666666666,
              "#ed7953"
             ],
             [
              0.7777777777777778,
              "#fb9f3a"
             ],
             [
              0.8888888888888888,
              "#fdca26"
             ],
             [
              1,
              "#f0f921"
             ]
            ],
            "type": "heatmapgl"
           }
          ],
          "histogram": [
           {
            "marker": {
             "colorbar": {
              "outlinewidth": 0,
              "ticks": ""
             }
            },
            "type": "histogram"
           }
          ],
          "histogram2d": [
           {
            "colorbar": {
             "outlinewidth": 0,
             "ticks": ""
            },
            "colorscale": [
             [
              0,
              "#0d0887"
             ],
             [
              0.1111111111111111,
              "#46039f"
             ],
             [
              0.2222222222222222,
              "#7201a8"
             ],
             [
              0.3333333333333333,
              "#9c179e"
             ],
             [
              0.4444444444444444,
              "#bd3786"
             ],
             [
              0.5555555555555556,
              "#d8576b"
             ],
             [
              0.6666666666666666,
              "#ed7953"
             ],
             [
              0.7777777777777778,
              "#fb9f3a"
             ],
             [
              0.8888888888888888,
              "#fdca26"
             ],
             [
              1,
              "#f0f921"
             ]
            ],
            "type": "histogram2d"
           }
          ],
          "histogram2dcontour": [
           {
            "colorbar": {
             "outlinewidth": 0,
             "ticks": ""
            },
            "colorscale": [
             [
              0,
              "#0d0887"
             ],
             [
              0.1111111111111111,
              "#46039f"
             ],
             [
              0.2222222222222222,
              "#7201a8"
             ],
             [
              0.3333333333333333,
              "#9c179e"
             ],
             [
              0.4444444444444444,
              "#bd3786"
             ],
             [
              0.5555555555555556,
              "#d8576b"
             ],
             [
              0.6666666666666666,
              "#ed7953"
             ],
             [
              0.7777777777777778,
              "#fb9f3a"
             ],
             [
              0.8888888888888888,
              "#fdca26"
             ],
             [
              1,
              "#f0f921"
             ]
            ],
            "type": "histogram2dcontour"
           }
          ],
          "mesh3d": [
           {
            "colorbar": {
             "outlinewidth": 0,
             "ticks": ""
            },
            "type": "mesh3d"
           }
          ],
          "parcoords": [
           {
            "line": {
             "colorbar": {
              "outlinewidth": 0,
              "ticks": ""
             }
            },
            "type": "parcoords"
           }
          ],
          "scatter": [
           {
            "marker": {
             "colorbar": {
              "outlinewidth": 0,
              "ticks": ""
             }
            },
            "type": "scatter"
           }
          ],
          "scatter3d": [
           {
            "line": {
             "colorbar": {
              "outlinewidth": 0,
              "ticks": ""
             }
            },
            "marker": {
             "colorbar": {
              "outlinewidth": 0,
              "ticks": ""
             }
            },
            "type": "scatter3d"
           }
          ],
          "scattercarpet": [
           {
            "marker": {
             "colorbar": {
              "outlinewidth": 0,
              "ticks": ""
             }
            },
            "type": "scattercarpet"
           }
          ],
          "scattergeo": [
           {
            "marker": {
             "colorbar": {
              "outlinewidth": 0,
              "ticks": ""
             }
            },
            "type": "scattergeo"
           }
          ],
          "scattergl": [
           {
            "marker": {
             "colorbar": {
              "outlinewidth": 0,
              "ticks": ""
             }
            },
            "type": "scattergl"
           }
          ],
          "scattermapbox": [
           {
            "marker": {
             "colorbar": {
              "outlinewidth": 0,
              "ticks": ""
             }
            },
            "type": "scattermapbox"
           }
          ],
          "scatterpolar": [
           {
            "marker": {
             "colorbar": {
              "outlinewidth": 0,
              "ticks": ""
             }
            },
            "type": "scatterpolar"
           }
          ],
          "scatterpolargl": [
           {
            "marker": {
             "colorbar": {
              "outlinewidth": 0,
              "ticks": ""
             }
            },
            "type": "scatterpolargl"
           }
          ],
          "scatterternary": [
           {
            "marker": {
             "colorbar": {
              "outlinewidth": 0,
              "ticks": ""
             }
            },
            "type": "scatterternary"
           }
          ],
          "surface": [
           {
            "colorbar": {
             "outlinewidth": 0,
             "ticks": ""
            },
            "colorscale": [
             [
              0,
              "#0d0887"
             ],
             [
              0.1111111111111111,
              "#46039f"
             ],
             [
              0.2222222222222222,
              "#7201a8"
             ],
             [
              0.3333333333333333,
              "#9c179e"
             ],
             [
              0.4444444444444444,
              "#bd3786"
             ],
             [
              0.5555555555555556,
              "#d8576b"
             ],
             [
              0.6666666666666666,
              "#ed7953"
             ],
             [
              0.7777777777777778,
              "#fb9f3a"
             ],
             [
              0.8888888888888888,
              "#fdca26"
             ],
             [
              1,
              "#f0f921"
             ]
            ],
            "type": "surface"
           }
          ],
          "table": [
           {
            "cells": {
             "fill": {
              "color": "#EBF0F8"
             },
             "line": {
              "color": "white"
             }
            },
            "header": {
             "fill": {
              "color": "#C8D4E3"
             },
             "line": {
              "color": "white"
             }
            },
            "type": "table"
           }
          ]
         },
         "layout": {
          "annotationdefaults": {
           "arrowcolor": "#2a3f5f",
           "arrowhead": 0,
           "arrowwidth": 1
          },
          "colorscale": {
           "diverging": [
            [
             0,
             "#8e0152"
            ],
            [
             0.1,
             "#c51b7d"
            ],
            [
             0.2,
             "#de77ae"
            ],
            [
             0.3,
             "#f1b6da"
            ],
            [
             0.4,
             "#fde0ef"
            ],
            [
             0.5,
             "#f7f7f7"
            ],
            [
             0.6,
             "#e6f5d0"
            ],
            [
             0.7,
             "#b8e186"
            ],
            [
             0.8,
             "#7fbc41"
            ],
            [
             0.9,
             "#4d9221"
            ],
            [
             1,
             "#276419"
            ]
           ],
           "sequential": [
            [
             0,
             "#0d0887"
            ],
            [
             0.1111111111111111,
             "#46039f"
            ],
            [
             0.2222222222222222,
             "#7201a8"
            ],
            [
             0.3333333333333333,
             "#9c179e"
            ],
            [
             0.4444444444444444,
             "#bd3786"
            ],
            [
             0.5555555555555556,
             "#d8576b"
            ],
            [
             0.6666666666666666,
             "#ed7953"
            ],
            [
             0.7777777777777778,
             "#fb9f3a"
            ],
            [
             0.8888888888888888,
             "#fdca26"
            ],
            [
             1,
             "#f0f921"
            ]
           ],
           "sequentialminus": [
            [
             0,
             "#0d0887"
            ],
            [
             0.1111111111111111,
             "#46039f"
            ],
            [
             0.2222222222222222,
             "#7201a8"
            ],
            [
             0.3333333333333333,
             "#9c179e"
            ],
            [
             0.4444444444444444,
             "#bd3786"
            ],
            [
             0.5555555555555556,
             "#d8576b"
            ],
            [
             0.6666666666666666,
             "#ed7953"
            ],
            [
             0.7777777777777778,
             "#fb9f3a"
            ],
            [
             0.8888888888888888,
             "#fdca26"
            ],
            [
             1,
             "#f0f921"
            ]
           ]
          },
          "colorway": [
           "#636efa",
           "#EF553B",
           "#00cc96",
           "#ab63fa",
           "#FFA15A",
           "#19d3f3",
           "#FF6692",
           "#B6E880",
           "#FF97FF",
           "#FECB52"
          ],
          "font": {
           "color": "#2a3f5f"
          },
          "geo": {
           "bgcolor": "white",
           "lakecolor": "white",
           "landcolor": "#E5ECF6",
           "showlakes": true,
           "showland": true,
           "subunitcolor": "white"
          },
          "hoverlabel": {
           "align": "left"
          },
          "hovermode": "closest",
          "mapbox": {
           "style": "light"
          },
          "paper_bgcolor": "white",
          "plot_bgcolor": "#E5ECF6",
          "polar": {
           "angularaxis": {
            "gridcolor": "white",
            "linecolor": "white",
            "ticks": ""
           },
           "bgcolor": "#E5ECF6",
           "radialaxis": {
            "gridcolor": "white",
            "linecolor": "white",
            "ticks": ""
           }
          },
          "scene": {
           "xaxis": {
            "backgroundcolor": "#E5ECF6",
            "gridcolor": "white",
            "gridwidth": 2,
            "linecolor": "white",
            "showbackground": true,
            "ticks": "",
            "zerolinecolor": "white"
           },
           "yaxis": {
            "backgroundcolor": "#E5ECF6",
            "gridcolor": "white",
            "gridwidth": 2,
            "linecolor": "white",
            "showbackground": true,
            "ticks": "",
            "zerolinecolor": "white"
           },
           "zaxis": {
            "backgroundcolor": "#E5ECF6",
            "gridcolor": "white",
            "gridwidth": 2,
            "linecolor": "white",
            "showbackground": true,
            "ticks": "",
            "zerolinecolor": "white"
           }
          },
          "shapedefaults": {
           "line": {
            "color": "#2a3f5f"
           }
          },
          "ternary": {
           "aaxis": {
            "gridcolor": "white",
            "linecolor": "white",
            "ticks": ""
           },
           "baxis": {
            "gridcolor": "white",
            "linecolor": "white",
            "ticks": ""
           },
           "bgcolor": "#E5ECF6",
           "caxis": {
            "gridcolor": "white",
            "linecolor": "white",
            "ticks": ""
           }
          },
          "title": {
           "x": 0.05
          },
          "xaxis": {
           "automargin": true,
           "gridcolor": "white",
           "linecolor": "white",
           "ticks": "",
           "zerolinecolor": "white",
           "zerolinewidth": 2
          },
          "yaxis": {
           "automargin": true,
           "gridcolor": "white",
           "linecolor": "white",
           "ticks": "",
           "zerolinecolor": "white",
           "zerolinewidth": 2
          }
         }
        },
        "title": {
         "text": "Linear regression on synthetic data"
        }
       }
      },
      "text/html": [
       "<div>\n",
       "        \n",
       "        \n",
       "            <div id=\"63a7beda-5cc0-4131-bd4d-dd7c6b55cdbd\" class=\"plotly-graph-div\" style=\"height:525px; width:100%;\"></div>\n",
       "            <script type=\"text/javascript\">\n",
       "                require([\"plotly\"], function(Plotly) {\n",
       "                    window.PLOTLYENV=window.PLOTLYENV || {};\n",
       "                    \n",
       "                if (document.getElementById(\"63a7beda-5cc0-4131-bd4d-dd7c6b55cdbd\")) {\n",
       "                    Plotly.newPlot(\n",
       "                        '63a7beda-5cc0-4131-bd4d-dd7c6b55cdbd',\n",
       "                        [{\"mode\": \"markers\", \"name\": \"Data\", \"type\": \"scatter\", \"x\": [0.0, 0.10101010101010101, 0.20202020202020202, 0.30303030303030304, 0.40404040404040403, 0.5050505050505051, 0.6060606060606061, 0.7070707070707071, 0.8080808080808081, 0.9090909090909091, 1.0101010101010102, 1.1111111111111112, 1.2121212121212122, 1.3131313131313131, 1.4141414141414141, 1.5151515151515151, 1.6161616161616161, 1.7171717171717171, 1.8181818181818181, 1.9191919191919191, 2.0202020202020203, 2.121212121212121, 2.2222222222222223, 2.323232323232323, 2.4242424242424243, 2.525252525252525, 2.6262626262626263, 2.727272727272727, 2.8282828282828283, 2.929292929292929, 3.0303030303030303, 3.131313131313131, 3.2323232323232323, 3.3333333333333335, 3.4343434343434343, 3.5353535353535355, 3.6363636363636362, 3.7373737373737375, 3.8383838383838382, 3.9393939393939394, 4.040404040404041, 4.141414141414141, 4.242424242424242, 4.343434343434343, 4.444444444444445, 4.545454545454545, 4.646464646464646, 4.747474747474747, 4.848484848484849, 4.94949494949495, 5.05050505050505, 5.151515151515151, 5.252525252525253, 5.353535353535354, 5.454545454545454, 5.555555555555555, 5.656565656565657, 5.757575757575758, 5.858585858585858, 5.959595959595959, 6.0606060606060606, 6.161616161616162, 6.262626262626262, 6.363636363636363, 6.4646464646464645, 6.565656565656566, 6.666666666666667, 6.767676767676767, 6.8686868686868685, 6.96969696969697, 7.070707070707071, 7.171717171717171, 7.2727272727272725, 7.373737373737374, 7.474747474747475, 7.575757575757575, 7.6767676767676765, 7.777777777777778, 7.878787878787879, 7.979797979797979, 8.080808080808081, 8.181818181818182, 8.282828282828282, 8.383838383838384, 8.484848484848484, 8.585858585858587, 8.686868686868687, 8.787878787878787, 8.88888888888889, 8.98989898989899, 9.09090909090909, 9.191919191919192, 9.292929292929292, 9.393939393939394, 9.494949494949495, 9.595959595959595, 9.696969696969697, 9.797979797979798, 9.8989898989899, 10.0], \"y\": [0.04011145781806455, -0.08446487010824606, -0.07234209242561324, -0.010427731742529344, 0.0623609191821534, 0.07774883708512813, -0.07017100215970083, 0.09101772860796517, 0.02288555750447923, 0.05694292119937088, -0.17047900715194433, 0.0051253762652160315, 0.07361985063211691, 0.03378854095582014, 0.15409451902232185, 0.01765223488336484, -0.09592192104699393, 0.08908285676014899, -0.11523880855100815, -0.053383591131228335, -0.039454466867038254, -0.17955501481162342, 0.0017425301224580033, -0.023079861728140492, 0.08140612998787032, -0.0737667865341571, -0.13565024826572464, 0.07031976849481962, 0.04331957241923693, -0.008313049809837129, -0.14378471190936548, -0.06440253801360922, 0.022047257977165054, 0.0004856796610002937, 0.023425807495372278, 0.06598765087194566, -0.12748280789604194, -0.09331419471222367, 0.07774339266349173, 0.10727701872981601, 0.1097231848098196, -0.06722821917150809, -0.07772243229800083, 0.011112977500260642, 0.12248489778494934, 0.03749614350524855, 0.17780717837454801, -0.005811772419689755, 0.004273837764007846, 0.3119454268112384, 0.07139661294786494, -0.052810983553489926, -0.048595069988405445, 0.15078464783593507, 0.08079246798566551, 0.1800543762778335, 0.25765053079452804, 0.08248214620547474, 0.07817312817977215, 0.013189458529026504, 0.2441356016249213, 0.23799561188575435, 0.23353168787125633, 0.217254686394788, 0.20217954507556152, 0.2438445885149002, 0.2092751979164007, 0.3413393436962512, 0.21689616425229072, 0.17893017623545732, 0.2502032515412182, 0.30272820444169984, 0.3354830723669458, 0.2703783123784438, 0.4172414693792236, 0.2746977464861427, 0.3283709805609444, 0.4940504399985648, 0.4156129604849747, 0.08774142328324647, 0.47305941208483604, 0.5354355469809698, 0.587038813561612, 0.7516627093189548, 0.6931245640235418, 0.7136561109435006, 0.7949946925144988, 0.6841054069565486, 0.7271559324792903, 0.6960628859075333, 0.9551875335809961, 0.698202656465577, 1.0130468861139317, 0.8571023378968047, 0.8533827250144432, 0.7676335371460321, 1.0807850412106235, 1.17165557620358, 1.103155952453921, 1.006006847644141]}, {\"mode\": \"lines\", \"name\": \"Regressor Linear of degree 1\", \"text\": \"MSE: 0.038089155580704005\", \"type\": \"scatter\", \"x\": [0.0, 0.10101010101010101, 0.20202020202020202, 0.30303030303030304, 0.40404040404040403, 0.5050505050505051, 0.6060606060606061, 0.7070707070707071, 0.8080808080808081, 0.9090909090909091, 1.0101010101010102, 1.1111111111111112, 1.2121212121212122, 1.3131313131313131, 1.4141414141414141, 1.5151515151515151, 1.6161616161616161, 1.7171717171717171, 1.8181818181818181, 1.9191919191919191, 2.0202020202020203, 2.121212121212121, 2.2222222222222223, 2.323232323232323, 2.4242424242424243, 2.525252525252525, 2.6262626262626263, 2.727272727272727, 2.8282828282828283, 2.929292929292929, 3.0303030303030303, 3.131313131313131, 3.2323232323232323, 3.3333333333333335, 3.4343434343434343, 3.5353535353535355, 3.6363636363636362, 3.7373737373737375, 3.8383838383838382, 3.9393939393939394, 4.040404040404041, 4.141414141414141, 4.242424242424242, 4.343434343434343, 4.444444444444445, 4.545454545454545, 4.646464646464646, 4.747474747474747, 4.848484848484849, 4.94949494949495, 5.05050505050505, 5.151515151515151, 5.252525252525253, 5.353535353535354, 5.454545454545454, 5.555555555555555, 5.656565656565657, 5.757575757575758, 5.858585858585858, 5.959595959595959, 6.0606060606060606, 6.161616161616162, 6.262626262626262, 6.363636363636363, 6.4646464646464645, 6.565656565656566, 6.666666666666667, 6.767676767676767, 6.8686868686868685, 6.96969696969697, 7.070707070707071, 7.171717171717171, 7.2727272727272725, 7.373737373737374, 7.474747474747475, 7.575757575757575, 7.6767676767676765, 7.777777777777778, 7.878787878787879, 7.979797979797979, 8.080808080808081, 8.181818181818182, 8.282828282828282, 8.383838383838384, 8.484848484848484, 8.585858585858587, 8.686868686868687, 8.787878787878787, 8.88888888888889, 8.98989898989899, 9.09090909090909, 9.191919191919192, 9.292929292929292, 9.393939393939394, 9.494949494949495, 9.595959595959595, 9.696969696969697, 9.797979797979798, 9.8989898989899, 10.0], \"y\": [-0.3641819773692432, -0.3523954098296222, -0.3406088422900012, -0.32882227475038023, -0.31703570721075924, -0.30524913967113826, -0.2934625721315173, -0.28167600459189635, -0.26988943705227536, -0.2581028695126544, -0.2463163019730334, -0.2345297344334124, -0.22274316689379142, -0.21095659935417044, -0.19917003181454945, -0.18738346427492847, -0.1755968967353075, -0.16381032919568653, -0.15202376165606554, -0.14023719411644456, -0.12845062657682357, -0.11666405903720262, -0.10487749149758163, -0.09309092395796065, -0.08130435641833966, -0.06951778887871868, -0.057731221339097694, -0.045944653799476765, -0.034158086259855724, -0.022371518720234795, -0.010584951180613755, 0.0012016163590071738, 0.012988183898628158, 0.0247747514382492, 0.03656131897787013, 0.04834788651749111, 0.0601344540571121, 0.07192102159673308, 0.08370758913635407, 0.09549415667597505, 0.10728072421559603, 0.11906729175521696, 0.13085385929483795, 0.142640426834459, 0.15442699437407992, 0.16621356191370085, 0.1780001294533219, 0.18978669699294293, 0.20157326453256386, 0.2133598320721849, 0.22514639961180583, 0.23693296715142675, 0.2487195346910478, 0.26050610223066883, 0.27229266977028965, 0.2840792373099107, 0.29586580484953173, 0.30765237238915266, 0.3194389399287736, 0.33122550746839463, 0.34301207500801567, 0.3547986425476366, 0.36658521008725753, 0.37837177762687857, 0.3901583451664995, 0.40194491270612054, 0.4137314802457416, 0.4255180477853624, 0.43730461532498344, 0.4490911828646045, 0.4608777504042254, 0.47266431794384633, 0.4844508854834674, 0.4962374530230884, 0.5080240205627093, 0.5198105881023303, 0.5315971556419513, 0.5433837231815722, 0.5551702907211933, 0.5669568582608142, 0.5787434258004353, 0.5905299933400562, 0.6023165608796771, 0.6141031284192981, 0.6258896959589191, 0.6376762634985402, 0.6494628310381612, 0.6612493985777821, 0.673035966117403, 0.684822533657024, 0.6966091011966449, 0.708395668736266, 0.720182236275887, 0.7319688038155081, 0.743755371355129, 0.7555419388947497, 0.7673285064343709, 0.7791150739739918, 0.790901641513613, 0.8026882090532339]}, {\"mode\": \"lines\", \"name\": \"Regressor Linear of degree 2\", \"text\": \"MSE: 0.011105813705020789\", \"type\": \"scatter\", \"x\": [0.0, 0.10101010101010101, 0.20202020202020202, 0.30303030303030304, 0.40404040404040403, 0.5050505050505051, 0.6060606060606061, 0.7070707070707071, 0.8080808080808081, 0.9090909090909091, 1.0101010101010102, 1.1111111111111112, 1.2121212121212122, 1.3131313131313131, 1.4141414141414141, 1.5151515151515151, 1.6161616161616161, 1.7171717171717171, 1.8181818181818181, 1.9191919191919191, 2.0202020202020203, 2.121212121212121, 2.2222222222222223, 2.323232323232323, 2.4242424242424243, 2.525252525252525, 2.6262626262626263, 2.727272727272727, 2.8282828282828283, 2.929292929292929, 3.0303030303030303, 3.131313131313131, 3.2323232323232323, 3.3333333333333335, 3.4343434343434343, 3.5353535353535355, 3.6363636363636362, 3.7373737373737375, 3.8383838383838382, 3.9393939393939394, 4.040404040404041, 4.141414141414141, 4.242424242424242, 4.343434343434343, 4.444444444444445, 4.545454545454545, 4.646464646464646, 4.747474747474747, 4.848484848484849, 4.94949494949495, 5.05050505050505, 5.151515151515151, 5.252525252525253, 5.353535353535354, 5.454545454545454, 5.555555555555555, 5.656565656565657, 5.757575757575758, 5.858585858585858, 5.959595959595959, 6.0606060606060606, 6.161616161616162, 6.262626262626262, 6.363636363636363, 6.4646464646464645, 6.565656565656566, 6.666666666666667, 6.767676767676767, 6.8686868686868685, 6.96969696969697, 7.070707070707071, 7.171717171717171, 7.2727272727272725, 7.373737373737374, 7.474747474747475, 7.575757575757575, 7.6767676767676765, 7.777777777777778, 7.878787878787879, 7.979797979797979, 8.080808080808081, 8.181818181818182, 8.282828282828282, 8.383838383838384, 8.484848484848484, 8.585858585858587, 8.686868686868687, 8.787878787878787, 8.88888888888889, 8.98989898989899, 9.09090909090909, 9.191919191919192, 9.292929292929292, 9.393939393939394, 9.494949494949495, 9.595959595959595, 9.696969696969697, 9.797979797979798, 9.8989898989899, 10.0], \"y\": [0.13671758738951034, 0.12350717225076199, 0.1107629789402078, 0.09848500745784773, 0.08667325780368183, 0.07532772997771008, 0.06444842397993246, 0.054035339810349, 0.044088477468959685, 0.03460783695576452, 0.02559341827076351, 0.01704522141395663, 0.00896324638534389, 0.0013474931849253302, -0.005802038187299109, -0.012485347731329373, -0.018702435447165516, -0.024453301334807484, -0.02973794539425534, -0.03455636762550901, -0.03890856802856854, -0.04279454660343397, -0.04621430335010519, -0.04916783826858227, -0.05165515135886528, -0.05367624262095405, -0.05523111205484871, -0.056319759660549196, -0.0569421854380556, -0.057098389387367776, -0.05678837150848584, -0.05601213180140974, -0.05476967026613955, -0.053060986902675134, -0.050886081711016606, -0.048244954691163966, -0.04513760584311716, -0.04156403516687612, -0.03752424266244103, -0.03301822832981177, -0.028045992168988287, -0.0226075341799708, -0.016702854362759145, -0.01033195271735321, -0.0034948292437531614, 0.003808516058040834, 0.011578083188029276, 0.019813872146211664, 0.02851588293258822, 0.037684115547159114, 0.0473185699899239, 0.05741924626088302, 0.06798614436003614, 0.07901926428738348, 0.09051860604292494, 0.10248416962666063, 0.11491595503859031, 0.12781396227871444, 0.14117819134703236, 0.1550086422435445, 0.16930531496825096, 0.18406820952115144, 0.19929732590224614, 0.21499266411153506, 0.23115422414901787, 0.24778200601469513, 0.2648760097085664, 0.28243623523063166, 0.30046268258089126, 0.3189553517593451, 0.3379142427659928, 0.35733935560083463, 0.3772306902638708, 0.3975882467551012, 0.4184120250745258, 0.4397020252221442, 0.4614582471979569, 0.483680691001964, 0.5063693566341649, 0.5295242440945598, 0.5531453533831496, 0.5772326844999331, 0.6017862374449103, 0.6268060122180823, 0.6522920088194479, 0.6782442272490083, 0.7046626675067624, 0.7315473295927106, 0.7588982135068536, 0.7867153192491898, 0.8149986468197203, 0.8437481962184459, 0.8729639674453649, 0.9026459605004782, 0.9327941753837854, 0.9634086120952869, 0.9944892706349826, 1.0260361510028726, 1.058049253198957, 1.0905285772232345]}, {\"mode\": \"lines\", \"name\": \"Regressor Linear of degree 4\", \"text\": \"MSE: 0.009682568588026675\", \"type\": \"scatter\", \"x\": [0.0, 0.10101010101010101, 0.20202020202020202, 0.30303030303030304, 0.40404040404040403, 0.5050505050505051, 0.6060606060606061, 0.7070707070707071, 0.8080808080808081, 0.9090909090909091, 1.0101010101010102, 1.1111111111111112, 1.2121212121212122, 1.3131313131313131, 1.4141414141414141, 1.5151515151515151, 1.6161616161616161, 1.7171717171717171, 1.8181818181818181, 1.9191919191919191, 2.0202020202020203, 2.121212121212121, 2.2222222222222223, 2.323232323232323, 2.4242424242424243, 2.525252525252525, 2.6262626262626263, 2.727272727272727, 2.8282828282828283, 2.929292929292929, 3.0303030303030303, 3.131313131313131, 3.2323232323232323, 3.3333333333333335, 3.4343434343434343, 3.5353535353535355, 3.6363636363636362, 3.7373737373737375, 3.8383838383838382, 3.9393939393939394, 4.040404040404041, 4.141414141414141, 4.242424242424242, 4.343434343434343, 4.444444444444445, 4.545454545454545, 4.646464646464646, 4.747474747474747, 4.848484848484849, 4.94949494949495, 5.05050505050505, 5.151515151515151, 5.252525252525253, 5.353535353535354, 5.454545454545454, 5.555555555555555, 5.656565656565657, 5.757575757575758, 5.858585858585858, 5.959595959595959, 6.0606060606060606, 6.161616161616162, 6.262626262626262, 6.363636363636363, 6.4646464646464645, 6.565656565656566, 6.666666666666667, 6.767676767676767, 6.8686868686868685, 6.96969696969697, 7.070707070707071, 7.171717171717171, 7.2727272727272725, 7.373737373737374, 7.474747474747475, 7.575757575757575, 7.6767676767676765, 7.777777777777778, 7.878787878787879, 7.979797979797979, 8.080808080808081, 8.181818181818182, 8.282828282828282, 8.383838383838384, 8.484848484848484, 8.585858585858587, 8.686868686868687, 8.787878787878787, 8.88888888888889, 8.98989898989899, 9.09090909090909, 9.191919191919192, 9.292929292929292, 9.393939393939394, 9.494949494949495, 9.595959595959595, 9.696969696969697, 9.797979797979798, 9.8989898989899, 10.0], \"y\": [0.04648189459595642, 0.044520691016670236, 0.042391309151548616, 0.040111356690242156, 0.037698265880888926, 0.03516929353011443, 0.03254152100303164, 0.02983185422324102, 0.027057023672830444, 0.024233584392375305, 0.021377915980938418, 0.01850622259607008, 0.015634532953808056, 0.012778700328677553, 0.009954402553691257, 0.007177142020349315, 0.004462245678639324, 0.0018248650370363665, -0.0007200238374970355, -0.0031576203195108816, -0.0054732992250677145, -0.007652610811742604, -0.00968128077862318, -0.011545210266309593, -0.013230475856914522, -0.014723329574063202, -0.016010198882893394, -0.01707768669005541, -0.017912571343712082, -0.018501806633538807, -0.018832521790723443, -0.0188920214879665, -0.018667785839480915, -0.018147470400992252, -0.017318906169738562, -0.01617009958447045, -0.014689232525451068, -0.012864662314456042, -0.010684921714773624, -0.008138718931204485, -0.005214937610062014, -0.001902636839171995, 0.0018089488521271999, 0.005930409492984765, 0.01047215967103711, 0.015444438532408362, 0.02085730978170995, 0.026720661682041028, 0.03304420705498775, 0.03983748328062415, 0.04710985229751144, 0.05487050060269858, 0.06312843925172182, 0.07189250385860485, 0.08117135459585867, 0.09097347619448236, 0.10130717794396166, 0.11218059369227035, 0.12360168184586931, 0.13557822536970748, 0.14811783178722024, 0.16122793318033138, 0.17491578618945158, 0.1891884720134796, 0.20405289640980082, 0.2195157896942887, 0.2355837067413042, 0.2522630269836949, 0.2695599544127973, 0.28748051757843385, 0.3060305695889156, 0.32521578811104035, 0.3450416753700938, 0.36551355814984887, 0.3866365877925658, 0.40841574019899274, 0.4308558158283653, 0.45396143969840597, 0.47773706138532523, 0.5021869550238203, 0.5273152193070774, 0.5531257774867677, 0.5796223773730533, 0.6068085913345809, 0.6346878162984849, 0.6632632737503892, 0.6925380097344023, 0.7225148948531226, 0.7531966242676351, 0.7845857176975116, 0.8166845194208123, 0.8494951982740852, 0.8830197476523636, 0.9172599855091718, 0.952217554356517, 0.987893921264898, 1.0242903778632995, 1.0614080403391923, 1.0992478494385378, 1.1378105704657813]}, {\"mode\": \"lines\", \"name\": \"Regressor Linear of degree 5\", \"text\": \"MSE: 0.00969626136693754\", \"type\": \"scatter\", \"x\": [0.0, 0.10101010101010101, 0.20202020202020202, 0.30303030303030304, 0.40404040404040403, 0.5050505050505051, 0.6060606060606061, 0.7070707070707071, 0.8080808080808081, 0.9090909090909091, 1.0101010101010102, 1.1111111111111112, 1.2121212121212122, 1.3131313131313131, 1.4141414141414141, 1.5151515151515151, 1.6161616161616161, 1.7171717171717171, 1.8181818181818181, 1.9191919191919191, 2.0202020202020203, 2.121212121212121, 2.2222222222222223, 2.323232323232323, 2.4242424242424243, 2.525252525252525, 2.6262626262626263, 2.727272727272727, 2.8282828282828283, 2.929292929292929, 3.0303030303030303, 3.131313131313131, 3.2323232323232323, 3.3333333333333335, 3.4343434343434343, 3.5353535353535355, 3.6363636363636362, 3.7373737373737375, 3.8383838383838382, 3.9393939393939394, 4.040404040404041, 4.141414141414141, 4.242424242424242, 4.343434343434343, 4.444444444444445, 4.545454545454545, 4.646464646464646, 4.747474747474747, 4.848484848484849, 4.94949494949495, 5.05050505050505, 5.151515151515151, 5.252525252525253, 5.353535353535354, 5.454545454545454, 5.555555555555555, 5.656565656565657, 5.757575757575758, 5.858585858585858, 5.959595959595959, 6.0606060606060606, 6.161616161616162, 6.262626262626262, 6.363636363636363, 6.4646464646464645, 6.565656565656566, 6.666666666666667, 6.767676767676767, 6.8686868686868685, 6.96969696969697, 7.070707070707071, 7.171717171717171, 7.2727272727272725, 7.373737373737374, 7.474747474747475, 7.575757575757575, 7.6767676767676765, 7.777777777777778, 7.878787878787879, 7.979797979797979, 8.080808080808081, 8.181818181818182, 8.282828282828282, 8.383838383838384, 8.484848484848484, 8.585858585858587, 8.686868686868687, 8.787878787878787, 8.88888888888889, 8.98989898989899, 9.09090909090909, 9.191919191919192, 9.292929292929292, 9.393939393939394, 9.494949494949495, 9.595959595959595, 9.696969696969697, 9.797979797979798, 9.8989898989899, 10.0], \"y\": [0.06391659361906932, 0.05772031429231208, 0.05187602797462044, 0.04636230539095596, 0.04115926177816233, 0.036248522187228585, 0.03161318678555245, 0.027237796159203576, 0.02310829661518674, 0.01921200548370519, 0.015537576420423834, 0.012074964708732549, 0.008815392562009422, 0.0057513144258840125, 0.002876382280500584, 0.00018541094278140302, -0.0023256566313099867, -0.004659784044505573, -0.006818876155969535, -0.008803813779035066, -0.010614488378941047, -0.012249836770568807, -0.013707875816178862, -0.014985737123147663, -0.01607970174170439, -0.016985234862667488, -0.017697020515181766, -0.018208996264454713, -0.01851438790949359, -0.018605744180841995, -0.018474971438316612, -0.018113368368743974, -0.017511660683697264, -0.016660035817232962, -0.015548177623627606, -0.01416530107511453, -0.01250018695962073, -0.010541216578503335, -0.008276406444286715, -0.005693442978398799, -0.0027797172089081452, 0.00047764053173941085, 0.004091725908984219, 0.008075825888415655, 0.012443384038035729, 0.017207965830522115, 0.022383223945492074, 0.027982863571764147, 0.03402060770962348, 0.04051016247308341, 0.04746518239214967, 0.05489923571508307, 0.06282576971066317, 0.07125807597045163, 0.08020925571105472, 0.0896921850763874, 0.09971948043993661, 0.11030346370702357, 0.1214561276170675, 0.13318910104585002, 0.14551361430777693, 0.1584404644581418, 0.171979980595389, 0.1861419891633787, 0.20093577925364753, 0.21637006790767377, 0.23245296541913907, 0.24919194063619382, 0.2665937862637188, 0.28466458416558843, 0.30340967066693436, 0.3228336018564085, 0.34294011888844833, 0.36373211328553634, 0.3852115922404662, 0.4073796439186047, 0.4302364027601563, 0.45378101478242505, 0.47801160288207845, 0.5029252321374106, 0.5285178751106056, 0.5547843771500007, 0.5817184216923479, 0.6093124955650828, 0.6375578542885794, 0.6664444873784212, 0.69596108364766, 0.7260949965090782, 0.7568322092774591, 0.7881573004718405, 0.8200534091177838, 0.8525022000496398, 0.8854838292128029, 0.9189769089659809, 0.9529584733834611, 0.987403943557366, 1.022287092899921, 1.0575800124457162, 1.09325307615397, 1.1292749062107958]}, {\"mode\": \"lines\", \"name\": \"Regressor Linear of degree 9\", \"text\": \"MSE: 0.010625039227701591\", \"type\": \"scatter\", \"x\": [0.0, 0.10101010101010101, 0.20202020202020202, 0.30303030303030304, 0.40404040404040403, 0.5050505050505051, 0.6060606060606061, 0.7070707070707071, 0.8080808080808081, 0.9090909090909091, 1.0101010101010102, 1.1111111111111112, 1.2121212121212122, 1.3131313131313131, 1.4141414141414141, 1.5151515151515151, 1.6161616161616161, 1.7171717171717171, 1.8181818181818181, 1.9191919191919191, 2.0202020202020203, 2.121212121212121, 2.2222222222222223, 2.323232323232323, 2.4242424242424243, 2.525252525252525, 2.6262626262626263, 2.727272727272727, 2.8282828282828283, 2.929292929292929, 3.0303030303030303, 3.131313131313131, 3.2323232323232323, 3.3333333333333335, 3.4343434343434343, 3.5353535353535355, 3.6363636363636362, 3.7373737373737375, 3.8383838383838382, 3.9393939393939394, 4.040404040404041, 4.141414141414141, 4.242424242424242, 4.343434343434343, 4.444444444444445, 4.545454545454545, 4.646464646464646, 4.747474747474747, 4.848484848484849, 4.94949494949495, 5.05050505050505, 5.151515151515151, 5.252525252525253, 5.353535353535354, 5.454545454545454, 5.555555555555555, 5.656565656565657, 5.757575757575758, 5.858585858585858, 5.959595959595959, 6.0606060606060606, 6.161616161616162, 6.262626262626262, 6.363636363636363, 6.4646464646464645, 6.565656565656566, 6.666666666666667, 6.767676767676767, 6.8686868686868685, 6.96969696969697, 7.070707070707071, 7.171717171717171, 7.2727272727272725, 7.373737373737374, 7.474747474747475, 7.575757575757575, 7.6767676767676765, 7.777777777777778, 7.878787878787879, 7.979797979797979, 8.080808080808081, 8.181818181818182, 8.282828282828282, 8.383838383838384, 8.484848484848484, 8.585858585858587, 8.686868686868687, 8.787878787878787, 8.88888888888889, 8.98989898989899, 9.09090909090909, 9.191919191919192, 9.292929292929292, 9.393939393939394, 9.494949494949495, 9.595959595959595, 9.696969696969697, 9.797979797979798, 9.8989898989899, 10.0], \"y\": [-0.2566247368231416, -0.1429907592062841, -0.06170257632678777, -0.005612491153143611, 0.03114899309003628, 0.05335396849568043, 0.06483859754561634, 0.068646730262197, 0.06715705603212725, 0.062195114300956256, 0.05513142154040395, 0.046966906691565835, 0.03840678368508535, 0.029923927634599883, 0.021812760892146135, 0.014234596343770736, 0.007255328110342681, 0.0008763042023965609, -0.004940838341000906, -0.010254647721208272, -0.01512896377321439, -0.019622028426875184, -0.02377901981028572, -0.02762747560248117, -0.031175115678401307, -0.03440961692810959, -0.0372999343734624, -0.03979880235006337, -0.041846087569517736, -0.043372702326950646, -0.04430482097176128, -0.04456817601525165, -0.044092241907364355, -0.04281414457588001, -0.04068216328612362, -0.037658718245707934, -0.03372276264900642, -0.028871521529013733, -0.023121541858877714, -0.016509038824662148, -0.009089542071735845, -0.0009368630112291942, 0.007858580040851049, 0.017192028027758433, 0.026947175265497947, 0.03699941725311717, 0.04721946863360138, 0.05747726005235343, 0.06764601656180425, 0.07760641571177107, 0.08725072055386818, 0.09648678148136902, 0.10524180110273917, 0.11346575823901617, 0.12113439060227549, 0.12825164080543772, 0.13485147700419375, 0.14099900777050323, 0.14679082063857152, 0.1523544852434071, 0.15784717504094203, 0.1634533762335053, 0.16938166881232064, 0.17586058245119318, 0.18313354946714355, 0.1914529980878683, 0.20107365191623217, 0.21224512574019627, 0.2252039336535745, 0.24016505290387613, 0.25731321591493383, 0.2767941335649198, 0.29870588500864415, 0.3230907432084109, 0.349927740694568, 0.3791263171389119, 0.41052142896012356, 0.4438705413083426, 0.47885296470650474, 0.5150720419359232, 0.5520607357973404, 0.589291215005801, 0.626189083632994, 0.6621529493127127, 0.6965800768828103, 0.7288989270174397, 0.7586094341199896, 0.7853319337968969, 0.8088657081652855, 0.8292581764526403, 0.8468858195392386, 0.8625479894251384, 0.8775748189809747, 0.8939505130279031, 0.9144533690696335, 0.9428139452152209, 0.9838928630515511, 1.0438798056493397, 1.1305153446214717, 1.2533373052137904]}],\n",
       "                        {\"template\": {\"data\": {\"bar\": [{\"error_x\": {\"color\": \"#2a3f5f\"}, \"error_y\": {\"color\": \"#2a3f5f\"}, \"marker\": {\"line\": {\"color\": \"#E5ECF6\", \"width\": 0.5}}, \"type\": \"bar\"}], \"barpolar\": [{\"marker\": {\"line\": {\"color\": \"#E5ECF6\", \"width\": 0.5}}, \"type\": \"barpolar\"}], \"carpet\": [{\"aaxis\": {\"endlinecolor\": \"#2a3f5f\", \"gridcolor\": \"white\", \"linecolor\": \"white\", \"minorgridcolor\": \"white\", \"startlinecolor\": \"#2a3f5f\"}, \"baxis\": {\"endlinecolor\": \"#2a3f5f\", \"gridcolor\": \"white\", \"linecolor\": \"white\", \"minorgridcolor\": \"white\", \"startlinecolor\": \"#2a3f5f\"}, \"type\": \"carpet\"}], \"choropleth\": [{\"colorbar\": {\"outlinewidth\": 0, \"ticks\": \"\"}, \"type\": \"choropleth\"}], \"contour\": [{\"colorbar\": {\"outlinewidth\": 0, \"ticks\": \"\"}, \"colorscale\": [[0.0, \"#0d0887\"], [0.1111111111111111, \"#46039f\"], [0.2222222222222222, \"#7201a8\"], [0.3333333333333333, \"#9c179e\"], [0.4444444444444444, \"#bd3786\"], [0.5555555555555556, \"#d8576b\"], [0.6666666666666666, \"#ed7953\"], [0.7777777777777778, \"#fb9f3a\"], [0.8888888888888888, \"#fdca26\"], [1.0, \"#f0f921\"]], \"type\": \"contour\"}], \"contourcarpet\": [{\"colorbar\": {\"outlinewidth\": 0, \"ticks\": \"\"}, \"type\": \"contourcarpet\"}], \"heatmap\": [{\"colorbar\": {\"outlinewidth\": 0, \"ticks\": \"\"}, \"colorscale\": [[0.0, \"#0d0887\"], [0.1111111111111111, \"#46039f\"], [0.2222222222222222, \"#7201a8\"], [0.3333333333333333, \"#9c179e\"], [0.4444444444444444, \"#bd3786\"], [0.5555555555555556, \"#d8576b\"], [0.6666666666666666, \"#ed7953\"], [0.7777777777777778, \"#fb9f3a\"], [0.8888888888888888, \"#fdca26\"], [1.0, \"#f0f921\"]], \"type\": \"heatmap\"}], \"heatmapgl\": [{\"colorbar\": {\"outlinewidth\": 0, \"ticks\": \"\"}, \"colorscale\": [[0.0, \"#0d0887\"], [0.1111111111111111, \"#46039f\"], [0.2222222222222222, \"#7201a8\"], [0.3333333333333333, \"#9c179e\"], [0.4444444444444444, \"#bd3786\"], [0.5555555555555556, \"#d8576b\"], [0.6666666666666666, \"#ed7953\"], [0.7777777777777778, \"#fb9f3a\"], [0.8888888888888888, \"#fdca26\"], [1.0, \"#f0f921\"]], \"type\": \"heatmapgl\"}], \"histogram\": [{\"marker\": {\"colorbar\": {\"outlinewidth\": 0, \"ticks\": \"\"}}, \"type\": \"histogram\"}], \"histogram2d\": [{\"colorbar\": {\"outlinewidth\": 0, \"ticks\": \"\"}, \"colorscale\": [[0.0, \"#0d0887\"], [0.1111111111111111, \"#46039f\"], [0.2222222222222222, \"#7201a8\"], [0.3333333333333333, \"#9c179e\"], [0.4444444444444444, \"#bd3786\"], [0.5555555555555556, \"#d8576b\"], [0.6666666666666666, \"#ed7953\"], [0.7777777777777778, \"#fb9f3a\"], [0.8888888888888888, \"#fdca26\"], [1.0, \"#f0f921\"]], \"type\": \"histogram2d\"}], \"histogram2dcontour\": [{\"colorbar\": {\"outlinewidth\": 0, \"ticks\": \"\"}, \"colorscale\": [[0.0, \"#0d0887\"], [0.1111111111111111, \"#46039f\"], [0.2222222222222222, \"#7201a8\"], [0.3333333333333333, \"#9c179e\"], [0.4444444444444444, \"#bd3786\"], [0.5555555555555556, \"#d8576b\"], [0.6666666666666666, \"#ed7953\"], [0.7777777777777778, \"#fb9f3a\"], [0.8888888888888888, \"#fdca26\"], [1.0, \"#f0f921\"]], \"type\": \"histogram2dcontour\"}], \"mesh3d\": [{\"colorbar\": {\"outlinewidth\": 0, \"ticks\": \"\"}, \"type\": \"mesh3d\"}], \"parcoords\": [{\"line\": {\"colorbar\": {\"outlinewidth\": 0, \"ticks\": \"\"}}, \"type\": \"parcoords\"}], \"scatter\": [{\"marker\": {\"colorbar\": {\"outlinewidth\": 0, \"ticks\": \"\"}}, \"type\": \"scatter\"}], \"scatter3d\": [{\"line\": {\"colorbar\": {\"outlinewidth\": 0, \"ticks\": \"\"}}, \"marker\": {\"colorbar\": {\"outlinewidth\": 0, \"ticks\": \"\"}}, \"type\": \"scatter3d\"}], \"scattercarpet\": [{\"marker\": {\"colorbar\": {\"outlinewidth\": 0, \"ticks\": \"\"}}, \"type\": \"scattercarpet\"}], \"scattergeo\": [{\"marker\": {\"colorbar\": {\"outlinewidth\": 0, \"ticks\": \"\"}}, \"type\": \"scattergeo\"}], \"scattergl\": [{\"marker\": {\"colorbar\": {\"outlinewidth\": 0, \"ticks\": \"\"}}, \"type\": \"scattergl\"}], \"scattermapbox\": [{\"marker\": {\"colorbar\": {\"outlinewidth\": 0, \"ticks\": \"\"}}, \"type\": \"scattermapbox\"}], \"scatterpolar\": [{\"marker\": {\"colorbar\": {\"outlinewidth\": 0, \"ticks\": \"\"}}, \"type\": \"scatterpolar\"}], \"scatterpolargl\": [{\"marker\": {\"colorbar\": {\"outlinewidth\": 0, \"ticks\": \"\"}}, \"type\": \"scatterpolargl\"}], \"scatterternary\": [{\"marker\": {\"colorbar\": {\"outlinewidth\": 0, \"ticks\": \"\"}}, \"type\": \"scatterternary\"}], \"surface\": [{\"colorbar\": {\"outlinewidth\": 0, \"ticks\": \"\"}, \"colorscale\": [[0.0, \"#0d0887\"], [0.1111111111111111, \"#46039f\"], [0.2222222222222222, \"#7201a8\"], [0.3333333333333333, \"#9c179e\"], [0.4444444444444444, \"#bd3786\"], [0.5555555555555556, \"#d8576b\"], [0.6666666666666666, \"#ed7953\"], [0.7777777777777778, \"#fb9f3a\"], [0.8888888888888888, \"#fdca26\"], [1.0, \"#f0f921\"]], \"type\": \"surface\"}], \"table\": [{\"cells\": {\"fill\": {\"color\": \"#EBF0F8\"}, \"line\": {\"color\": \"white\"}}, \"header\": {\"fill\": {\"color\": \"#C8D4E3\"}, \"line\": {\"color\": \"white\"}}, \"type\": \"table\"}]}, \"layout\": {\"annotationdefaults\": {\"arrowcolor\": \"#2a3f5f\", \"arrowhead\": 0, \"arrowwidth\": 1}, \"colorscale\": {\"diverging\": [[0, \"#8e0152\"], [0.1, \"#c51b7d\"], [0.2, \"#de77ae\"], [0.3, \"#f1b6da\"], [0.4, \"#fde0ef\"], [0.5, \"#f7f7f7\"], [0.6, \"#e6f5d0\"], [0.7, \"#b8e186\"], [0.8, \"#7fbc41\"], [0.9, \"#4d9221\"], [1, \"#276419\"]], \"sequential\": [[0.0, \"#0d0887\"], [0.1111111111111111, \"#46039f\"], [0.2222222222222222, \"#7201a8\"], [0.3333333333333333, \"#9c179e\"], [0.4444444444444444, \"#bd3786\"], [0.5555555555555556, \"#d8576b\"], [0.6666666666666666, \"#ed7953\"], [0.7777777777777778, \"#fb9f3a\"], [0.8888888888888888, \"#fdca26\"], [1.0, \"#f0f921\"]], \"sequentialminus\": [[0.0, \"#0d0887\"], [0.1111111111111111, \"#46039f\"], [0.2222222222222222, \"#7201a8\"], [0.3333333333333333, \"#9c179e\"], [0.4444444444444444, \"#bd3786\"], [0.5555555555555556, \"#d8576b\"], [0.6666666666666666, \"#ed7953\"], [0.7777777777777778, \"#fb9f3a\"], [0.8888888888888888, \"#fdca26\"], [1.0, \"#f0f921\"]]}, \"colorway\": [\"#636efa\", \"#EF553B\", \"#00cc96\", \"#ab63fa\", \"#FFA15A\", \"#19d3f3\", \"#FF6692\", \"#B6E880\", \"#FF97FF\", \"#FECB52\"], \"font\": {\"color\": \"#2a3f5f\"}, \"geo\": {\"bgcolor\": \"white\", \"lakecolor\": \"white\", \"landcolor\": \"#E5ECF6\", \"showlakes\": true, \"showland\": true, \"subunitcolor\": \"white\"}, \"hoverlabel\": {\"align\": \"left\"}, \"hovermode\": \"closest\", \"mapbox\": {\"style\": \"light\"}, \"paper_bgcolor\": \"white\", \"plot_bgcolor\": \"#E5ECF6\", \"polar\": {\"angularaxis\": {\"gridcolor\": \"white\", \"linecolor\": \"white\", \"ticks\": \"\"}, \"bgcolor\": \"#E5ECF6\", \"radialaxis\": {\"gridcolor\": \"white\", \"linecolor\": \"white\", \"ticks\": \"\"}}, \"scene\": {\"xaxis\": {\"backgroundcolor\": \"#E5ECF6\", \"gridcolor\": \"white\", \"gridwidth\": 2, \"linecolor\": \"white\", \"showbackground\": true, \"ticks\": \"\", \"zerolinecolor\": \"white\"}, \"yaxis\": {\"backgroundcolor\": \"#E5ECF6\", \"gridcolor\": \"white\", \"gridwidth\": 2, \"linecolor\": \"white\", \"showbackground\": true, \"ticks\": \"\", \"zerolinecolor\": \"white\"}, \"zaxis\": {\"backgroundcolor\": \"#E5ECF6\", \"gridcolor\": \"white\", \"gridwidth\": 2, \"linecolor\": \"white\", \"showbackground\": true, \"ticks\": \"\", \"zerolinecolor\": \"white\"}}, \"shapedefaults\": {\"line\": {\"color\": \"#2a3f5f\"}}, \"ternary\": {\"aaxis\": {\"gridcolor\": \"white\", \"linecolor\": \"white\", \"ticks\": \"\"}, \"baxis\": {\"gridcolor\": \"white\", \"linecolor\": \"white\", \"ticks\": \"\"}, \"bgcolor\": \"#E5ECF6\", \"caxis\": {\"gridcolor\": \"white\", \"linecolor\": \"white\", \"ticks\": \"\"}}, \"title\": {\"x\": 0.05}, \"xaxis\": {\"automargin\": true, \"gridcolor\": \"white\", \"linecolor\": \"white\", \"ticks\": \"\", \"zerolinecolor\": \"white\", \"zerolinewidth\": 2}, \"yaxis\": {\"automargin\": true, \"gridcolor\": \"white\", \"linecolor\": \"white\", \"ticks\": \"\", \"zerolinecolor\": \"white\", \"zerolinewidth\": 2}}}, \"title\": {\"text\": \"Linear regression on synthetic data\"}},\n",
       "                        {\"responsive\": true}\n",
       "                    ).then(function(){\n",
       "                            \n",
       "var gd = document.getElementById('63a7beda-5cc0-4131-bd4d-dd7c6b55cdbd');\n",
       "var x = new MutationObserver(function (mutations, observer) {{\n",
       "        var display = window.getComputedStyle(gd).display;\n",
       "        if (!display || display === 'none') {{\n",
       "            console.log([gd, 'removed!']);\n",
       "            Plotly.purge(gd);\n",
       "            observer.disconnect();\n",
       "        }}\n",
       "}});\n",
       "\n",
       "// Listen for the removal of the full notebook cells\n",
       "var notebookContainer = gd.closest('#notebook-container');\n",
       "if (notebookContainer) {{\n",
       "    x.observe(notebookContainer, {childList: true});\n",
       "}}\n",
       "\n",
       "// Listen for the clearing of the current output cell\n",
       "var outputEl = gd.closest('.output');\n",
       "if (outputEl) {{\n",
       "    x.observe(outputEl, {childList: true});\n",
       "}}\n",
       "\n",
       "                        })\n",
       "                };\n",
       "                });\n",
       "            </script>\n",
       "        </div>"
      ]
     },
     "metadata": {},
     "output_type": "display_data"
    }
   ],
   "source": [
    "def reg_plotly_plot(x,y,predictions,names):\n",
    "    trace0 = go.Scatter(\n",
    "        x = x,\n",
    "        y = y,\n",
    "        mode = 'markers',\n",
    "        name = 'Data'\n",
    "    )\n",
    "    reg_traces = []\n",
    "    for i,prediction in enumerate(predictions): ##lastone excluded because of visualization\n",
    "        reg_traces.append(go.Scatter(\n",
    "                                x = x,\n",
    "                                y = prediction,\n",
    "                                mode = 'lines',\n",
    "                                name = f'Regressor {names[i]}',\n",
    "                                text = f\"MSE: {mse(prediction,y)}\"\n",
    "                                )\n",
    "                         )\n",
    "\n",
    "    layout = go.Layout(\n",
    "        title = \"Linear regression on synthetic data\",\n",
    "    )\n",
    "\n",
    "    data = [trace0] + reg_traces\n",
    "    return go.Figure(data=data, layout=layout)\n",
    "\n",
    "iplot(reg_plotly_plot(x,y,predictions[:-1],[\"Linear of degree \"+str(d) for d in np.array(degrees[:-1])-1]))"
   ]
  },
  {
   "cell_type": "markdown",
   "metadata": {},
   "source": [
    "### K-NN\n"
   ]
  },
  {
   "cell_type": "code",
   "execution_count": 24,
   "metadata": {},
   "outputs": [],
   "source": [
    "def simple_knn(x_test,y_test,x_train,y_train,kind=\"reg\",k=5):\n",
    "    y_preds = []\n",
    "    for el in x_test:\n",
    "        distances = np.abs(x_train - el)\n",
    "        sorted_idxs = np.argsort(distances)\n",
    "        idxs = sorted_idxs[:k]\n",
    "        if kind==\"clas\":\n",
    "            y_preds.append(np.round(y_train[idxs].mean()))\n",
    "        else:\n",
    "            y_preds.append(y_train[idxs].mean())\n",
    "    return np.array(y_preds)"
   ]
  },
  {
   "cell_type": "code",
   "execution_count": 25,
   "metadata": {},
   "outputs": [],
   "source": [
    "ks = [2,3,4,5,6]\n",
    "predictions = []\n",
    "\n",
    "for k in ks:\n",
    "    predictions.append(simple_knn(x,y,x_train,y_train,k=k))    "
   ]
  },
  {
   "cell_type": "code",
   "execution_count": 26,
   "metadata": {
    "scrolled": false
   },
   "outputs": [
    {
     "data": {
      "application/vnd.plotly.v1+json": {
       "config": {
        "linkText": "Export to plot.ly",
        "plotlyServerURL": "https://plot.ly",
        "showLink": false
       },
       "data": [
        {
         "mode": "markers",
         "name": "Data",
         "type": "scatter",
         "x": [
          0,
          0.10101010101010101,
          0.20202020202020202,
          0.30303030303030304,
          0.40404040404040403,
          0.5050505050505051,
          0.6060606060606061,
          0.7070707070707071,
          0.8080808080808081,
          0.9090909090909091,
          1.0101010101010102,
          1.1111111111111112,
          1.2121212121212122,
          1.3131313131313131,
          1.4141414141414141,
          1.5151515151515151,
          1.6161616161616161,
          1.7171717171717171,
          1.8181818181818181,
          1.9191919191919191,
          2.0202020202020203,
          2.121212121212121,
          2.2222222222222223,
          2.323232323232323,
          2.4242424242424243,
          2.525252525252525,
          2.6262626262626263,
          2.727272727272727,
          2.8282828282828283,
          2.929292929292929,
          3.0303030303030303,
          3.131313131313131,
          3.2323232323232323,
          3.3333333333333335,
          3.4343434343434343,
          3.5353535353535355,
          3.6363636363636362,
          3.7373737373737375,
          3.8383838383838382,
          3.9393939393939394,
          4.040404040404041,
          4.141414141414141,
          4.242424242424242,
          4.343434343434343,
          4.444444444444445,
          4.545454545454545,
          4.646464646464646,
          4.747474747474747,
          4.848484848484849,
          4.94949494949495,
          5.05050505050505,
          5.151515151515151,
          5.252525252525253,
          5.353535353535354,
          5.454545454545454,
          5.555555555555555,
          5.656565656565657,
          5.757575757575758,
          5.858585858585858,
          5.959595959595959,
          6.0606060606060606,
          6.161616161616162,
          6.262626262626262,
          6.363636363636363,
          6.4646464646464645,
          6.565656565656566,
          6.666666666666667,
          6.767676767676767,
          6.8686868686868685,
          6.96969696969697,
          7.070707070707071,
          7.171717171717171,
          7.2727272727272725,
          7.373737373737374,
          7.474747474747475,
          7.575757575757575,
          7.6767676767676765,
          7.777777777777778,
          7.878787878787879,
          7.979797979797979,
          8.080808080808081,
          8.181818181818182,
          8.282828282828282,
          8.383838383838384,
          8.484848484848484,
          8.585858585858587,
          8.686868686868687,
          8.787878787878787,
          8.88888888888889,
          8.98989898989899,
          9.09090909090909,
          9.191919191919192,
          9.292929292929292,
          9.393939393939394,
          9.494949494949495,
          9.595959595959595,
          9.696969696969697,
          9.797979797979798,
          9.8989898989899,
          10
         ],
         "y": [
          0.04011145781806455,
          -0.08446487010824606,
          -0.07234209242561324,
          -0.010427731742529344,
          0.0623609191821534,
          0.07774883708512813,
          -0.07017100215970083,
          0.09101772860796517,
          0.02288555750447923,
          0.05694292119937088,
          -0.17047900715194433,
          0.0051253762652160315,
          0.07361985063211691,
          0.03378854095582014,
          0.15409451902232185,
          0.01765223488336484,
          -0.09592192104699393,
          0.08908285676014899,
          -0.11523880855100815,
          -0.053383591131228335,
          -0.039454466867038254,
          -0.17955501481162342,
          0.0017425301224580033,
          -0.023079861728140492,
          0.08140612998787032,
          -0.0737667865341571,
          -0.13565024826572464,
          0.07031976849481962,
          0.04331957241923693,
          -0.008313049809837129,
          -0.14378471190936548,
          -0.06440253801360922,
          0.022047257977165054,
          0.0004856796610002937,
          0.023425807495372278,
          0.06598765087194566,
          -0.12748280789604194,
          -0.09331419471222367,
          0.07774339266349173,
          0.10727701872981601,
          0.1097231848098196,
          -0.06722821917150809,
          -0.07772243229800083,
          0.011112977500260642,
          0.12248489778494934,
          0.03749614350524855,
          0.17780717837454801,
          -0.005811772419689755,
          0.004273837764007846,
          0.3119454268112384,
          0.07139661294786494,
          -0.052810983553489926,
          -0.048595069988405445,
          0.15078464783593507,
          0.08079246798566551,
          0.1800543762778335,
          0.25765053079452804,
          0.08248214620547474,
          0.07817312817977215,
          0.013189458529026504,
          0.2441356016249213,
          0.23799561188575435,
          0.23353168787125633,
          0.217254686394788,
          0.20217954507556152,
          0.2438445885149002,
          0.2092751979164007,
          0.3413393436962512,
          0.21689616425229072,
          0.17893017623545732,
          0.2502032515412182,
          0.30272820444169984,
          0.3354830723669458,
          0.2703783123784438,
          0.4172414693792236,
          0.2746977464861427,
          0.3283709805609444,
          0.4940504399985648,
          0.4156129604849747,
          0.08774142328324647,
          0.47305941208483604,
          0.5354355469809698,
          0.587038813561612,
          0.7516627093189548,
          0.6931245640235418,
          0.7136561109435006,
          0.7949946925144988,
          0.6841054069565486,
          0.7271559324792903,
          0.6960628859075333,
          0.9551875335809961,
          0.698202656465577,
          1.0130468861139317,
          0.8571023378968047,
          0.8533827250144432,
          0.7676335371460321,
          1.0807850412106235,
          1.17165557620358,
          1.103155952453921,
          1.006006847644141
         ]
        },
        {
         "mode": "lines",
         "name": "Regressor KNN of 2 neighbours",
         "text": "MSE: 0.010120568959121381",
         "type": "scatter",
         "x": [
          0,
          0.10101010101010101,
          0.20202020202020202,
          0.30303030303030304,
          0.40404040404040403,
          0.5050505050505051,
          0.6060606060606061,
          0.7070707070707071,
          0.8080808080808081,
          0.9090909090909091,
          1.0101010101010102,
          1.1111111111111112,
          1.2121212121212122,
          1.3131313131313131,
          1.4141414141414141,
          1.5151515151515151,
          1.6161616161616161,
          1.7171717171717171,
          1.8181818181818181,
          1.9191919191919191,
          2.0202020202020203,
          2.121212121212121,
          2.2222222222222223,
          2.323232323232323,
          2.4242424242424243,
          2.525252525252525,
          2.6262626262626263,
          2.727272727272727,
          2.8282828282828283,
          2.929292929292929,
          3.0303030303030303,
          3.131313131313131,
          3.2323232323232323,
          3.3333333333333335,
          3.4343434343434343,
          3.5353535353535355,
          3.6363636363636362,
          3.7373737373737375,
          3.8383838383838382,
          3.9393939393939394,
          4.040404040404041,
          4.141414141414141,
          4.242424242424242,
          4.343434343434343,
          4.444444444444445,
          4.545454545454545,
          4.646464646464646,
          4.747474747474747,
          4.848484848484849,
          4.94949494949495,
          5.05050505050505,
          5.151515151515151,
          5.252525252525253,
          5.353535353535354,
          5.454545454545454,
          5.555555555555555,
          5.656565656565657,
          5.757575757575758,
          5.858585858585858,
          5.959595959595959,
          6.0606060606060606,
          6.161616161616162,
          6.262626262626262,
          6.363636363636363,
          6.4646464646464645,
          6.565656565656566,
          6.666666666666667,
          6.767676767676767,
          6.8686868686868685,
          6.96969696969697,
          7.070707070707071,
          7.171717171717171,
          7.2727272727272725,
          7.373737373737374,
          7.474747474747475,
          7.575757575757575,
          7.6767676767676765,
          7.777777777777778,
          7.878787878787879,
          7.979797979797979,
          8.080808080808081,
          8.181818181818182,
          8.282828282828282,
          8.383838383838384,
          8.484848484848484,
          8.585858585858587,
          8.686868686868687,
          8.787878787878787,
          8.88888888888889,
          8.98989898989899,
          9.09090909090909,
          9.191919191919192,
          9.292929292929292,
          9.393939393939394,
          9.494949494949495,
          9.595959595959595,
          9.696969696969697,
          9.797979797979798,
          9.8989898989899,
          10
         ],
         "y": [
          0.033660552671299394,
          0.033660552671299394,
          0.033660552671299394,
          0.033660552671299394,
          0.033660552671299394,
          0.033660552671299394,
          0.050317197294803676,
          0.050317197294803676,
          0.050317197294803676,
          0.04825270406829807,
          0.04825270406829807,
          0.04825270406829807,
          0.04825270406829807,
          0.04825270406829807,
          0.04825270406829807,
          0.04825270406829807,
          0.02526999445198821,
          0.02526999445198821,
          0.02526999445198821,
          -0.04842332413114879,
          -0.04842332413114879,
          -0.04842332413114879,
          -0.04842332413114879,
          -0.04842332413114879,
          -0.04842332413114879,
          -0.04842332413114879,
          -0.04842332413114879,
          -0.04842332413114879,
          -0.0366405534365784,
          -0.0366405534365784,
          0.03323666526647298,
          0.03323666526647298,
          0.03323666526647298,
          0.03323666526647298,
          0.03323666526647298,
          -0.030747578512048138,
          -0.030747578512048138,
          -0.007785401024365972,
          -0.007785401024365972,
          0.0052575867459918185,
          -0.06722821917150809,
          -0.06722821917150809,
          -0.06722821917150809,
          0.024304560502754594,
          0.024304560502754594,
          0.024304560502754594,
          0.024304560502754594,
          0.17472078515824346,
          0.19167101987955165,
          0.19167101987955165,
          0.19167101987955165,
          0.011400771479729746,
          0.011400771479729746,
          0.06572965314471402,
          0.06572965314471402,
          0.06572965314471402,
          0.09662191740343,
          0.09662191740343,
          0.09662191740343,
          0.12559253520739044,
          0.12559253520739044,
          0.12559253520739044,
          0.22008757848065794,
          0.22008757848065794,
          0.2057273714959811,
          0.2057273714959811,
          0.2057273714959811,
          0.194102687075929,
          0.194102687075929,
          0.21456671388833776,
          0.21456671388833776,
          0.21456671388833776,
          0.33372236046022086,
          0.4172414693792236,
          0.4172414693792236,
          0.4172414693792236,
          0.4556459546888942,
          0.4556459546888942,
          0.4835549260417004,
          0.47305941208483604,
          0.47305941208483604,
          0.47305941208483604,
          0.47305941208483604,
          0.5933577615141683,
          0.5933577615141683,
          0.704859498425517,
          0.704859498425517,
          0.704859498425517,
          0.8256252097442647,
          0.8256252097442647,
          0.9551875335809961,
          0.9841172098474639,
          0.9350746120053681,
          0.855242531455624,
          0.855242531455624,
          0.8105081310802377,
          0.9696445566748061,
          1.1374057643287505,
          1.1374057643287505,
          1.1374057643287505
         ]
        },
        {
         "mode": "lines",
         "name": "Regressor KNN of 3 neighbours",
         "text": "MSE: 0.011084159978990222",
         "type": "scatter",
         "x": [
          0,
          0.10101010101010101,
          0.20202020202020202,
          0.30303030303030304,
          0.40404040404040403,
          0.5050505050505051,
          0.6060606060606061,
          0.7070707070707071,
          0.8080808080808081,
          0.9090909090909091,
          1.0101010101010102,
          1.1111111111111112,
          1.2121212121212122,
          1.3131313131313131,
          1.4141414141414141,
          1.5151515151515151,
          1.6161616161616161,
          1.7171717171717171,
          1.8181818181818181,
          1.9191919191919191,
          2.0202020202020203,
          2.121212121212121,
          2.2222222222222223,
          2.323232323232323,
          2.4242424242424243,
          2.525252525252525,
          2.6262626262626263,
          2.727272727272727,
          2.8282828282828283,
          2.929292929292929,
          3.0303030303030303,
          3.131313131313131,
          3.2323232323232323,
          3.3333333333333335,
          3.4343434343434343,
          3.5353535353535355,
          3.6363636363636362,
          3.7373737373737375,
          3.8383838383838382,
          3.9393939393939394,
          4.040404040404041,
          4.141414141414141,
          4.242424242424242,
          4.343434343434343,
          4.444444444444445,
          4.545454545454545,
          4.646464646464646,
          4.747474747474747,
          4.848484848484849,
          4.94949494949495,
          5.05050505050505,
          5.151515151515151,
          5.252525252525253,
          5.353535353535354,
          5.454545454545454,
          5.555555555555555,
          5.656565656565657,
          5.757575757575758,
          5.858585858585858,
          5.959595959595959,
          6.0606060606060606,
          6.161616161616162,
          6.262626262626262,
          6.363636363636363,
          6.4646464646464645,
          6.565656565656566,
          6.666666666666667,
          6.767676767676767,
          6.8686868686868685,
          6.96969696969697,
          7.070707070707071,
          7.171717171717171,
          7.2727272727272725,
          7.373737373737374,
          7.474747474747475,
          7.575757575757575,
          7.6767676767676765,
          7.777777777777778,
          7.878787878787879,
          7.979797979797979,
          8.080808080808081,
          8.181818181818182,
          8.282828282828282,
          8.383838383838384,
          8.484848484848484,
          8.585858585858587,
          8.686868686868687,
          8.787878787878787,
          8.88888888888889,
          8.98989898989899,
          9.09090909090909,
          9.191919191919192,
          9.292929292929292,
          9.393939393939394,
          9.494949494949495,
          9.595959595959595,
          9.696969696969697,
          9.797979797979798,
          9.8989898989899,
          10
         ],
         "y": [
          0.03006888761569267,
          0.03006888761569267,
          0.03006888761569267,
          0.03006888761569267,
          0.03006888761569267,
          0.03006888761569267,
          0.03006888761569267,
          0.03006888761569267,
          0.05808474840724143,
          0.05808474840724143,
          0.05808474840724143,
          0.05808474840724143,
          0.05808474840724143,
          0.05808474840724143,
          0.02447518213615188,
          0.02447518213615188,
          0.024475182136151883,
          -0.007742265876726891,
          -0.007742265876726891,
          -0.007742265876726888,
          -0.007742265876726888,
          -0.007742265876726888,
          -0.007742265876726888,
          -0.032120322867099094,
          -0.032120322867099094,
          -0.032120322867099094,
          -0.032120322867099094,
          -0.032120322867099094,
          -0.032120322867099094,
          -0.032120322867099094,
          -0.0024311520004037107,
          -0.020336492454365324,
          -0.020336492454365324,
          -0.020336492454365324,
          -0.020336492454365324,
          -0.05160311724543998,
          -0.05160311724543998,
          -0.04768453664825797,
          -0.04768453664825797,
          -0.018904348559841484,
          -0.018904348559841484,
          -0.04111448694758518,
          -0.04111448694758518,
          -0.006206366055332968,
          -0.006206366055332968,
          -0.006206366055332968,
          0.12018484927224919,
          0.14027939442145063,
          0.14027939442145063,
          0.11158232325689928,
          0.11158232325689928,
          0.11158232325689928,
          0.06761863974576433,
          0.06761863974576432,
          0.06761863974576432,
          0.048216254939484844,
          0.04821625493948486,
          0.14374648223087147,
          0.14374648223087147,
          0.14374648223087147,
          0.1511215384967808,
          0.1511215384967808,
          0.15112153849678078,
          0.21648345162590554,
          0.21648345162590554,
          0.21648345162590554,
          0.1967949730758065,
          0.1967949730758065,
          0.2128028752310254,
          0.2128028752310254,
          0.2128028752310254,
          0.28212496571863305,
          0.3615620634332218,
          0.3615620634332218,
          0.44284445958567065,
          0.44284445958567065,
          0.44284445958567065,
          0.44284445958567065,
          0.4800564213894123,
          0.4800564213894123,
          0.4800564213894123,
          0.4800564213894123,
          0.5532583117043909,
          0.5532583117043909,
          0.5532583117043909,
          0.7883021768106767,
          0.7883021768106767,
          0.7883021768106767,
          0.8688126510231751,
          0.8688126510231751,
          0.8688126510231751,
          0.974473984425308,
          0.9078439830083932,
          0.9078439830083932,
          0.8260395333524267,
          0.8260395333524267,
          0.9308906127880184,
          1.0141483552678443,
          1.0141483552678443,
          1.0141483552678443
         ]
        },
        {
         "mode": "lines",
         "name": "Regressor KNN of 4 neighbours",
         "text": "MSE: 0.010820652242983016",
         "type": "scatter",
         "x": [
          0,
          0.10101010101010101,
          0.20202020202020202,
          0.30303030303030304,
          0.40404040404040403,
          0.5050505050505051,
          0.6060606060606061,
          0.7070707070707071,
          0.8080808080808081,
          0.9090909090909091,
          1.0101010101010102,
          1.1111111111111112,
          1.2121212121212122,
          1.3131313131313131,
          1.4141414141414141,
          1.5151515151515151,
          1.6161616161616161,
          1.7171717171717171,
          1.8181818181818181,
          1.9191919191919191,
          2.0202020202020203,
          2.121212121212121,
          2.2222222222222223,
          2.323232323232323,
          2.4242424242424243,
          2.525252525252525,
          2.6262626262626263,
          2.727272727272727,
          2.8282828282828283,
          2.929292929292929,
          3.0303030303030303,
          3.131313131313131,
          3.2323232323232323,
          3.3333333333333335,
          3.4343434343434343,
          3.5353535353535355,
          3.6363636363636362,
          3.7373737373737375,
          3.8383838383838382,
          3.9393939393939394,
          4.040404040404041,
          4.141414141414141,
          4.242424242424242,
          4.343434343434343,
          4.444444444444445,
          4.545454545454545,
          4.646464646464646,
          4.747474747474747,
          4.848484848484849,
          4.94949494949495,
          5.05050505050505,
          5.151515151515151,
          5.252525252525253,
          5.353535353535354,
          5.454545454545454,
          5.555555555555555,
          5.656565656565657,
          5.757575757575758,
          5.858585858585858,
          5.959595959595959,
          6.0606060606060606,
          6.161616161616162,
          6.262626262626262,
          6.363636363636363,
          6.4646464646464645,
          6.565656565656566,
          6.666666666666667,
          6.767676767676767,
          6.8686868686868685,
          6.96969696969697,
          7.070707070707071,
          7.171717171717171,
          7.2727272727272725,
          7.373737373737374,
          7.474747474747475,
          7.575757575757575,
          7.6767676767676765,
          7.777777777777778,
          7.878787878787879,
          7.979797979797979,
          8.080808080808081,
          8.181818181818182,
          8.282828282828282,
          8.383838383838384,
          8.484848484848484,
          8.585858585858587,
          8.686868686868687,
          8.787878787878787,
          8.88888888888889,
          8.98989898989899,
          9.09090909090909,
          9.191919191919192,
          9.292929292929292,
          9.393939393939394,
          9.494949494949495,
          9.595959595959595,
          9.696969696969697,
          9.797979797979798,
          9.8989898989899,
          10
         ],
         "y": [
          0.04095662836979873,
          0.04095662836979873,
          0.04095662836979873,
          0.04095662836979873,
          0.04095662836979873,
          0.04095662836979873,
          0.04095662836979873,
          0.04095662836979873,
          0.040956628369798735,
          0.040956628369798735,
          0.040956628369798735,
          0.040956628369798735,
          0.040956628369798735,
          0.037793595873395945,
          0.03779359587339594,
          -8.531003142536395e-05,
          -8.531003142536048e-05,
          -8.531003142536048e-05,
          -8.531003142536048e-05,
          -8.531003142535874e-05,
          -8.531003142535874e-05,
          -0.005685279492295093,
          -0.005685279492295093,
          -0.0056852794922950915,
          -0.007593329432337904,
          -0.007593329432337904,
          -0.007593329432337904,
          -0.007593329432337904,
          -0.007593329432337904,
          -0.007593329432337904,
          -0.033694065974313264,
          -0.033694065974313264,
          -0.038580918018829916,
          -0.038580918018829916,
          -0.038580918018829916,
          -0.03858091801882991,
          -0.01926648976820705,
          -0.019266489768207058,
          -0.0525704572790705,
          -0.037506810097937035,
          -0.011400017044815953,
          -0.011400017044815955,
          -0.02146182933437675,
          -0.02146182933437675,
          -0.02146182933437675,
          -0.02146182933437675,
          0.10798779019115312,
          0.10798779019115312,
          0.0930607783189866,
          0.0930607783189866,
          0.12870033651213283,
          0.12870033651213283,
          0.12870033651213283,
          0.12870033651213283,
          0.12870033651213283,
          0.05401134444157987,
          0.09566109417605223,
          0.09566109417605223,
          0.09566109417605223,
          0.15835474794204396,
          0.15835474794204396,
          0.16565995335168576,
          0.16565995335168576,
          0.1656599533516858,
          0.2070951327782935,
          0.2070951327782935,
          0.21014704269215945,
          0.21014704269215945,
          0.21014704269215945,
          0.21014704269215945,
          0.26391252376807495,
          0.31590409163378064,
          0.3159040916337807,
          0.39468415757455755,
          0.39468415757455755,
          0.39468415757455755,
          0.45039819771046197,
          0.45039819771046197,
          0.4643526833868651,
          0.4643526833868651,
          0.5384563437779344,
          0.5384563437779344,
          0.5384563437779344,
          0.5889594552551765,
          0.5889594552551765,
          0.8300235160032565,
          0.8300235160032565,
          0.8300235160032565,
          0.8300235160032564,
          0.9048712097958642,
          0.9048712097958642,
          0.9451310727931821,
          0.9196798706515439,
          0.872791371542803,
          0.872791371542803,
          0.912443544065215,
          0.973956947704494,
          0.973956947704494,
          0.973956947704494,
          0.973956947704494
         ]
        },
        {
         "mode": "lines",
         "name": "Regressor KNN of 5 neighbours",
         "text": "MSE: 0.01023610738959789",
         "type": "scatter",
         "x": [
          0,
          0.10101010101010101,
          0.20202020202020202,
          0.30303030303030304,
          0.40404040404040403,
          0.5050505050505051,
          0.6060606060606061,
          0.7070707070707071,
          0.8080808080808081,
          0.9090909090909091,
          1.0101010101010102,
          1.1111111111111112,
          1.2121212121212122,
          1.3131313131313131,
          1.4141414141414141,
          1.5151515151515151,
          1.6161616161616161,
          1.7171717171717171,
          1.8181818181818181,
          1.9191919191919191,
          2.0202020202020203,
          2.121212121212121,
          2.2222222222222223,
          2.323232323232323,
          2.4242424242424243,
          2.525252525252525,
          2.6262626262626263,
          2.727272727272727,
          2.8282828282828283,
          2.929292929292929,
          3.0303030303030303,
          3.131313131313131,
          3.2323232323232323,
          3.3333333333333335,
          3.4343434343434343,
          3.5353535353535355,
          3.6363636363636362,
          3.7373737373737375,
          3.8383838383838382,
          3.9393939393939394,
          4.040404040404041,
          4.141414141414141,
          4.242424242424242,
          4.343434343434343,
          4.444444444444445,
          4.545454545454545,
          4.646464646464646,
          4.747474747474747,
          4.848484848484849,
          4.94949494949495,
          5.05050505050505,
          5.151515151515151,
          5.252525252525253,
          5.353535353535354,
          5.454545454545454,
          5.555555555555555,
          5.656565656565657,
          5.757575757575758,
          5.858585858585858,
          5.959595959595959,
          6.0606060606060606,
          6.161616161616162,
          6.262626262626262,
          6.363636363636363,
          6.4646464646464645,
          6.565656565656566,
          6.666666666666667,
          6.767676767676767,
          6.8686868686868685,
          6.96969696969697,
          7.070707070707071,
          7.171717171717171,
          7.2727272727272725,
          7.373737373737374,
          7.474747474747475,
          7.575757575757575,
          7.6767676767676765,
          7.777777777777778,
          7.878787878787879,
          7.979797979797979,
          8.080808080808081,
          8.181818181818182,
          8.282828282828282,
          8.383838383838384,
          8.484848484848484,
          8.585858585858587,
          8.686868686868687,
          8.787878787878787,
          8.88888888888889,
          8.98989898989899,
          9.09090909090909,
          9.191919191919192,
          9.292929292929292,
          9.393939393939394,
          9.494949494949495,
          9.595959595959595,
          9.696969696969697,
          9.797979797979798,
          9.8989898989899,
          10
         ],
         "y": [
          0.02814933035021088,
          0.02814933035021088,
          0.02814933035021088,
          0.02814933035021088,
          0.02814933035021088,
          0.02814933035021088,
          0.02814933035021088,
          0.02814933035021088,
          0.028149330350210888,
          0.028149330350210888,
          0.028149330350210888,
          0.028149330350210888,
          0.028149330350210888,
          0.028149330350210888,
          0.015481519391885332,
          0.015481519391885334,
          0.015481519391885338,
          0.015481519391885338,
          0.015481519391885338,
          0.01548151939188534,
          2.8887907059771748e-05,
          2.88879070597714e-05,
          0.008649306580553058,
          0.00864930658055306,
          -0.03157122512507871,
          -0.03157122512507871,
          -0.03157122512507871,
          -0.03157122512507871,
          -0.03157122512507871,
          -0.03157122512507871,
          -0.04561809172189535,
          -0.04561809172189535,
          -0.015316055882365587,
          -0.015316055882365587,
          -0.015316055882365587,
          -0.015316055882365582,
          -0.015316055882365582,
          -0.028858835648867265,
          -0.05550200965755801,
          -0.05550200965755801,
          -0.027782852578297497,
          -0.0277828525782975,
          -0.0016207849348030545,
          -0.0016207849348030545,
          0.04521962189474628,
          0.04521962189474628,
          0.07294458831862087,
          0.0766712181552414,
          0.0766712181552414,
          0.11045949791075597,
          0.11045949791075597,
          0.11045949791075597,
          0.10559816091551158,
          0.10559816091551158,
          0.10559816091551158,
          0.10559816091551158,
          0.09080819793041477,
          0.11696478435595407,
          0.11696478435595407,
          0.11696478435595407,
          0.16853883793691532,
          0.16853883793691532,
          0.16853883793691532,
          0.1683139979284401,
          0.1683139979284401,
          0.21571675653087846,
          0.2157167565308784,
          0.2157167565308784,
          0.2515659280295723,
          0.2515659280295723,
          0.29457831289030467,
          0.29457831289030467,
          0.3515333613067375,
          0.3515333613067375,
          0.3515333613067375,
          0.4103592084766133,
          0.4549304405853368,
          0.4549304405853368,
          0.4549304405853368,
          0.4549304405853368,
          0.5142133688981922,
          0.5142133688981922,
          0.5699776522038542,
          0.5699776522038541,
          0.6622050709203403,
          0.7586306952195725,
          0.7586306952195725,
          0.8666281900253916,
          0.8666281900253914,
          0.8666281900253916,
          0.8953174354160524,
          0.8953174354160524,
          0.9267814032374343,
          0.8892706039504417,
          0.9325642124749584,
          0.9325642124749584,
          0.9505860257429563,
          0.9505860257429563,
          0.9505860257429563,
          0.9505860257429563
         ]
        },
        {
         "mode": "lines",
         "name": "Regressor KNN of 6 neighbours",
         "text": "MSE: 0.010306360340364442",
         "type": "scatter",
         "x": [
          0,
          0.10101010101010101,
          0.20202020202020202,
          0.30303030303030304,
          0.40404040404040403,
          0.5050505050505051,
          0.6060606060606061,
          0.7070707070707071,
          0.8080808080808081,
          0.9090909090909091,
          1.0101010101010102,
          1.1111111111111112,
          1.2121212121212122,
          1.3131313131313131,
          1.4141414141414141,
          1.5151515151515151,
          1.6161616161616161,
          1.7171717171717171,
          1.8181818181818181,
          1.9191919191919191,
          2.0202020202020203,
          2.121212121212121,
          2.2222222222222223,
          2.323232323232323,
          2.4242424242424243,
          2.525252525252525,
          2.6262626262626263,
          2.727272727272727,
          2.8282828282828283,
          2.929292929292929,
          3.0303030303030303,
          3.131313131313131,
          3.2323232323232323,
          3.3333333333333335,
          3.4343434343434343,
          3.5353535353535355,
          3.6363636363636362,
          3.7373737373737375,
          3.8383838383838382,
          3.9393939393939394,
          4.040404040404041,
          4.141414141414141,
          4.242424242424242,
          4.343434343434343,
          4.444444444444445,
          4.545454545454545,
          4.646464646464646,
          4.747474747474747,
          4.848484848484849,
          4.94949494949495,
          5.05050505050505,
          5.151515151515151,
          5.252525252525253,
          5.353535353535354,
          5.454545454545454,
          5.555555555555555,
          5.656565656565657,
          5.757575757575758,
          5.858585858585858,
          5.959595959595959,
          6.0606060606060606,
          6.161616161616162,
          6.262626262626262,
          6.363636363636363,
          6.4646464646464645,
          6.565656565656566,
          6.666666666666667,
          6.767676767676767,
          6.8686868686868685,
          6.96969696969697,
          7.070707070707071,
          7.171717171717171,
          7.2727272727272725,
          7.373737373737374,
          7.474747474747475,
          7.575757575757575,
          7.6767676767676765,
          7.777777777777778,
          7.878787878787879,
          7.979797979797979,
          8.080808080808081,
          8.181818181818182,
          8.282828282828282,
          8.383838383838384,
          8.484848484848484,
          8.585858585858587,
          8.686868686868687,
          8.787878787878787,
          8.88888888888889,
          8.98989898989899,
          9.09090909090909,
          9.191919191919192,
          9.292929292929292,
          9.393939393939394,
          9.494949494949495,
          9.595959595959595,
          9.696969696969697,
          9.797979797979798,
          9.8989898989899,
          10
         ],
         "y": [
          0.011163310869482886,
          0.011163310869482886,
          0.011163310869482886,
          0.011163310869482886,
          0.011163310869482886,
          0.011163310869482886,
          0.011163310869482886,
          0.011163310869482886,
          0.011163310869482891,
          0.011163310869482891,
          0.011163310869482891,
          0.011163310869482891,
          0.011163310869482891,
          0.011163310869482891,
          0.011163310869482886,
          0.01116331086948289,
          0.011163310869482891,
          0.011163310869482891,
          0.011163310869482891,
          0.012982212770071166,
          0.011022015067874086,
          0.011022015067874086,
          -0.01403937916554611,
          -0.014039379165546107,
          -0.014039379165546107,
          -0.041861720056269536,
          -0.041861720056269536,
          -0.041861720056269536,
          -0.041861720056269536,
          -0.041861720056269536,
          -0.041861720056269536,
          -0.025057844324330836,
          -0.025057844324330836,
          -0.023968083097222672,
          -0.023968083097222672,
          -0.023968083097222665,
          -0.023968083097222665,
          -0.035253732902640736,
          -0.035253732902640736,
          -0.04439951179792157,
          -0.044399511797921565,
          -0.016903019897706494,
          -0.01690301989770649,
          -0.01690301989770649,
          0.049582453736932715,
          0.049582453736932715,
          0.04958245373693271,
          0.05268797860078315,
          0.09390174450900675,
          0.09390174450900675,
          0.09390174450900675,
          0.09424782468046773,
          0.09424782468046773,
          0.12766440274388538,
          0.12766440274388538,
          0.12766440274388538,
          0.12766440274388538,
          0.10937008912127255,
          0.10937008912127255,
          0.1323498532826952,
          0.1323498532826952,
          0.17027072765333898,
          0.17027072765333898,
          0.1819622068639031,
          0.1819622068639031,
          0.1819622068639031,
          0.18196220686390308,
          0.2493042086722693,
          0.2791785182545142,
          0.2791785182545142,
          0.2791785182545142,
          0.327823667408348,
          0.32782366740834806,
          0.32782366740834806,
          0.37178770310308723,
          0.42080924241131706,
          0.420809242411317,
          0.420809242411317,
          0.49805138564503076,
          0.49805138564503076,
          0.4980513856450308,
          0.4980513856450308,
          0.5445216217330825,
          0.6341792991000444,
          0.7110354813637829,
          0.711035481363783,
          0.8010333937019656,
          0.8650405480039605,
          0.8650405480039604,
          0.8650405480039605,
          0.8883283170157842,
          0.8883283170157842,
          0.8883283170157842,
          0.9002567588888674,
          0.9363347659926312,
          0.9609961691381188,
          0.9609961691381188,
          0.9609961691381188,
          0.9609961691381188,
          0.9609961691381188
         ]
        }
       ],
       "layout": {
        "template": {
         "data": {
          "bar": [
           {
            "error_x": {
             "color": "#2a3f5f"
            },
            "error_y": {
             "color": "#2a3f5f"
            },
            "marker": {
             "line": {
              "color": "#E5ECF6",
              "width": 0.5
             }
            },
            "type": "bar"
           }
          ],
          "barpolar": [
           {
            "marker": {
             "line": {
              "color": "#E5ECF6",
              "width": 0.5
             }
            },
            "type": "barpolar"
           }
          ],
          "carpet": [
           {
            "aaxis": {
             "endlinecolor": "#2a3f5f",
             "gridcolor": "white",
             "linecolor": "white",
             "minorgridcolor": "white",
             "startlinecolor": "#2a3f5f"
            },
            "baxis": {
             "endlinecolor": "#2a3f5f",
             "gridcolor": "white",
             "linecolor": "white",
             "minorgridcolor": "white",
             "startlinecolor": "#2a3f5f"
            },
            "type": "carpet"
           }
          ],
          "choropleth": [
           {
            "colorbar": {
             "outlinewidth": 0,
             "ticks": ""
            },
            "type": "choropleth"
           }
          ],
          "contour": [
           {
            "colorbar": {
             "outlinewidth": 0,
             "ticks": ""
            },
            "colorscale": [
             [
              0,
              "#0d0887"
             ],
             [
              0.1111111111111111,
              "#46039f"
             ],
             [
              0.2222222222222222,
              "#7201a8"
             ],
             [
              0.3333333333333333,
              "#9c179e"
             ],
             [
              0.4444444444444444,
              "#bd3786"
             ],
             [
              0.5555555555555556,
              "#d8576b"
             ],
             [
              0.6666666666666666,
              "#ed7953"
             ],
             [
              0.7777777777777778,
              "#fb9f3a"
             ],
             [
              0.8888888888888888,
              "#fdca26"
             ],
             [
              1,
              "#f0f921"
             ]
            ],
            "type": "contour"
           }
          ],
          "contourcarpet": [
           {
            "colorbar": {
             "outlinewidth": 0,
             "ticks": ""
            },
            "type": "contourcarpet"
           }
          ],
          "heatmap": [
           {
            "colorbar": {
             "outlinewidth": 0,
             "ticks": ""
            },
            "colorscale": [
             [
              0,
              "#0d0887"
             ],
             [
              0.1111111111111111,
              "#46039f"
             ],
             [
              0.2222222222222222,
              "#7201a8"
             ],
             [
              0.3333333333333333,
              "#9c179e"
             ],
             [
              0.4444444444444444,
              "#bd3786"
             ],
             [
              0.5555555555555556,
              "#d8576b"
             ],
             [
              0.6666666666666666,
              "#ed7953"
             ],
             [
              0.7777777777777778,
              "#fb9f3a"
             ],
             [
              0.8888888888888888,
              "#fdca26"
             ],
             [
              1,
              "#f0f921"
             ]
            ],
            "type": "heatmap"
           }
          ],
          "heatmapgl": [
           {
            "colorbar": {
             "outlinewidth": 0,
             "ticks": ""
            },
            "colorscale": [
             [
              0,
              "#0d0887"
             ],
             [
              0.1111111111111111,
              "#46039f"
             ],
             [
              0.2222222222222222,
              "#7201a8"
             ],
             [
              0.3333333333333333,
              "#9c179e"
             ],
             [
              0.4444444444444444,
              "#bd3786"
             ],
             [
              0.5555555555555556,
              "#d8576b"
             ],
             [
              0.6666666666666666,
              "#ed7953"
             ],
             [
              0.7777777777777778,
              "#fb9f3a"
             ],
             [
              0.8888888888888888,
              "#fdca26"
             ],
             [
              1,
              "#f0f921"
             ]
            ],
            "type": "heatmapgl"
           }
          ],
          "histogram": [
           {
            "marker": {
             "colorbar": {
              "outlinewidth": 0,
              "ticks": ""
             }
            },
            "type": "histogram"
           }
          ],
          "histogram2d": [
           {
            "colorbar": {
             "outlinewidth": 0,
             "ticks": ""
            },
            "colorscale": [
             [
              0,
              "#0d0887"
             ],
             [
              0.1111111111111111,
              "#46039f"
             ],
             [
              0.2222222222222222,
              "#7201a8"
             ],
             [
              0.3333333333333333,
              "#9c179e"
             ],
             [
              0.4444444444444444,
              "#bd3786"
             ],
             [
              0.5555555555555556,
              "#d8576b"
             ],
             [
              0.6666666666666666,
              "#ed7953"
             ],
             [
              0.7777777777777778,
              "#fb9f3a"
             ],
             [
              0.8888888888888888,
              "#fdca26"
             ],
             [
              1,
              "#f0f921"
             ]
            ],
            "type": "histogram2d"
           }
          ],
          "histogram2dcontour": [
           {
            "colorbar": {
             "outlinewidth": 0,
             "ticks": ""
            },
            "colorscale": [
             [
              0,
              "#0d0887"
             ],
             [
              0.1111111111111111,
              "#46039f"
             ],
             [
              0.2222222222222222,
              "#7201a8"
             ],
             [
              0.3333333333333333,
              "#9c179e"
             ],
             [
              0.4444444444444444,
              "#bd3786"
             ],
             [
              0.5555555555555556,
              "#d8576b"
             ],
             [
              0.6666666666666666,
              "#ed7953"
             ],
             [
              0.7777777777777778,
              "#fb9f3a"
             ],
             [
              0.8888888888888888,
              "#fdca26"
             ],
             [
              1,
              "#f0f921"
             ]
            ],
            "type": "histogram2dcontour"
           }
          ],
          "mesh3d": [
           {
            "colorbar": {
             "outlinewidth": 0,
             "ticks": ""
            },
            "type": "mesh3d"
           }
          ],
          "parcoords": [
           {
            "line": {
             "colorbar": {
              "outlinewidth": 0,
              "ticks": ""
             }
            },
            "type": "parcoords"
           }
          ],
          "scatter": [
           {
            "marker": {
             "colorbar": {
              "outlinewidth": 0,
              "ticks": ""
             }
            },
            "type": "scatter"
           }
          ],
          "scatter3d": [
           {
            "line": {
             "colorbar": {
              "outlinewidth": 0,
              "ticks": ""
             }
            },
            "marker": {
             "colorbar": {
              "outlinewidth": 0,
              "ticks": ""
             }
            },
            "type": "scatter3d"
           }
          ],
          "scattercarpet": [
           {
            "marker": {
             "colorbar": {
              "outlinewidth": 0,
              "ticks": ""
             }
            },
            "type": "scattercarpet"
           }
          ],
          "scattergeo": [
           {
            "marker": {
             "colorbar": {
              "outlinewidth": 0,
              "ticks": ""
             }
            },
            "type": "scattergeo"
           }
          ],
          "scattergl": [
           {
            "marker": {
             "colorbar": {
              "outlinewidth": 0,
              "ticks": ""
             }
            },
            "type": "scattergl"
           }
          ],
          "scattermapbox": [
           {
            "marker": {
             "colorbar": {
              "outlinewidth": 0,
              "ticks": ""
             }
            },
            "type": "scattermapbox"
           }
          ],
          "scatterpolar": [
           {
            "marker": {
             "colorbar": {
              "outlinewidth": 0,
              "ticks": ""
             }
            },
            "type": "scatterpolar"
           }
          ],
          "scatterpolargl": [
           {
            "marker": {
             "colorbar": {
              "outlinewidth": 0,
              "ticks": ""
             }
            },
            "type": "scatterpolargl"
           }
          ],
          "scatterternary": [
           {
            "marker": {
             "colorbar": {
              "outlinewidth": 0,
              "ticks": ""
             }
            },
            "type": "scatterternary"
           }
          ],
          "surface": [
           {
            "colorbar": {
             "outlinewidth": 0,
             "ticks": ""
            },
            "colorscale": [
             [
              0,
              "#0d0887"
             ],
             [
              0.1111111111111111,
              "#46039f"
             ],
             [
              0.2222222222222222,
              "#7201a8"
             ],
             [
              0.3333333333333333,
              "#9c179e"
             ],
             [
              0.4444444444444444,
              "#bd3786"
             ],
             [
              0.5555555555555556,
              "#d8576b"
             ],
             [
              0.6666666666666666,
              "#ed7953"
             ],
             [
              0.7777777777777778,
              "#fb9f3a"
             ],
             [
              0.8888888888888888,
              "#fdca26"
             ],
             [
              1,
              "#f0f921"
             ]
            ],
            "type": "surface"
           }
          ],
          "table": [
           {
            "cells": {
             "fill": {
              "color": "#EBF0F8"
             },
             "line": {
              "color": "white"
             }
            },
            "header": {
             "fill": {
              "color": "#C8D4E3"
             },
             "line": {
              "color": "white"
             }
            },
            "type": "table"
           }
          ]
         },
         "layout": {
          "annotationdefaults": {
           "arrowcolor": "#2a3f5f",
           "arrowhead": 0,
           "arrowwidth": 1
          },
          "colorscale": {
           "diverging": [
            [
             0,
             "#8e0152"
            ],
            [
             0.1,
             "#c51b7d"
            ],
            [
             0.2,
             "#de77ae"
            ],
            [
             0.3,
             "#f1b6da"
            ],
            [
             0.4,
             "#fde0ef"
            ],
            [
             0.5,
             "#f7f7f7"
            ],
            [
             0.6,
             "#e6f5d0"
            ],
            [
             0.7,
             "#b8e186"
            ],
            [
             0.8,
             "#7fbc41"
            ],
            [
             0.9,
             "#4d9221"
            ],
            [
             1,
             "#276419"
            ]
           ],
           "sequential": [
            [
             0,
             "#0d0887"
            ],
            [
             0.1111111111111111,
             "#46039f"
            ],
            [
             0.2222222222222222,
             "#7201a8"
            ],
            [
             0.3333333333333333,
             "#9c179e"
            ],
            [
             0.4444444444444444,
             "#bd3786"
            ],
            [
             0.5555555555555556,
             "#d8576b"
            ],
            [
             0.6666666666666666,
             "#ed7953"
            ],
            [
             0.7777777777777778,
             "#fb9f3a"
            ],
            [
             0.8888888888888888,
             "#fdca26"
            ],
            [
             1,
             "#f0f921"
            ]
           ],
           "sequentialminus": [
            [
             0,
             "#0d0887"
            ],
            [
             0.1111111111111111,
             "#46039f"
            ],
            [
             0.2222222222222222,
             "#7201a8"
            ],
            [
             0.3333333333333333,
             "#9c179e"
            ],
            [
             0.4444444444444444,
             "#bd3786"
            ],
            [
             0.5555555555555556,
             "#d8576b"
            ],
            [
             0.6666666666666666,
             "#ed7953"
            ],
            [
             0.7777777777777778,
             "#fb9f3a"
            ],
            [
             0.8888888888888888,
             "#fdca26"
            ],
            [
             1,
             "#f0f921"
            ]
           ]
          },
          "colorway": [
           "#636efa",
           "#EF553B",
           "#00cc96",
           "#ab63fa",
           "#FFA15A",
           "#19d3f3",
           "#FF6692",
           "#B6E880",
           "#FF97FF",
           "#FECB52"
          ],
          "font": {
           "color": "#2a3f5f"
          },
          "geo": {
           "bgcolor": "white",
           "lakecolor": "white",
           "landcolor": "#E5ECF6",
           "showlakes": true,
           "showland": true,
           "subunitcolor": "white"
          },
          "hoverlabel": {
           "align": "left"
          },
          "hovermode": "closest",
          "mapbox": {
           "style": "light"
          },
          "paper_bgcolor": "white",
          "plot_bgcolor": "#E5ECF6",
          "polar": {
           "angularaxis": {
            "gridcolor": "white",
            "linecolor": "white",
            "ticks": ""
           },
           "bgcolor": "#E5ECF6",
           "radialaxis": {
            "gridcolor": "white",
            "linecolor": "white",
            "ticks": ""
           }
          },
          "scene": {
           "xaxis": {
            "backgroundcolor": "#E5ECF6",
            "gridcolor": "white",
            "gridwidth": 2,
            "linecolor": "white",
            "showbackground": true,
            "ticks": "",
            "zerolinecolor": "white"
           },
           "yaxis": {
            "backgroundcolor": "#E5ECF6",
            "gridcolor": "white",
            "gridwidth": 2,
            "linecolor": "white",
            "showbackground": true,
            "ticks": "",
            "zerolinecolor": "white"
           },
           "zaxis": {
            "backgroundcolor": "#E5ECF6",
            "gridcolor": "white",
            "gridwidth": 2,
            "linecolor": "white",
            "showbackground": true,
            "ticks": "",
            "zerolinecolor": "white"
           }
          },
          "shapedefaults": {
           "line": {
            "color": "#2a3f5f"
           }
          },
          "ternary": {
           "aaxis": {
            "gridcolor": "white",
            "linecolor": "white",
            "ticks": ""
           },
           "baxis": {
            "gridcolor": "white",
            "linecolor": "white",
            "ticks": ""
           },
           "bgcolor": "#E5ECF6",
           "caxis": {
            "gridcolor": "white",
            "linecolor": "white",
            "ticks": ""
           }
          },
          "title": {
           "x": 0.05
          },
          "xaxis": {
           "automargin": true,
           "gridcolor": "white",
           "linecolor": "white",
           "ticks": "",
           "zerolinecolor": "white",
           "zerolinewidth": 2
          },
          "yaxis": {
           "automargin": true,
           "gridcolor": "white",
           "linecolor": "white",
           "ticks": "",
           "zerolinecolor": "white",
           "zerolinewidth": 2
          }
         }
        },
        "title": {
         "text": "Linear regression on synthetic data"
        }
       }
      },
      "text/html": [
       "<div>\n",
       "        \n",
       "        \n",
       "            <div id=\"c35c7393-be05-4c2e-9a45-683c0d60a3c6\" class=\"plotly-graph-div\" style=\"height:525px; width:100%;\"></div>\n",
       "            <script type=\"text/javascript\">\n",
       "                require([\"plotly\"], function(Plotly) {\n",
       "                    window.PLOTLYENV=window.PLOTLYENV || {};\n",
       "                    \n",
       "                if (document.getElementById(\"c35c7393-be05-4c2e-9a45-683c0d60a3c6\")) {\n",
       "                    Plotly.newPlot(\n",
       "                        'c35c7393-be05-4c2e-9a45-683c0d60a3c6',\n",
       "                        [{\"mode\": \"markers\", \"name\": \"Data\", \"type\": \"scatter\", \"x\": [0.0, 0.10101010101010101, 0.20202020202020202, 0.30303030303030304, 0.40404040404040403, 0.5050505050505051, 0.6060606060606061, 0.7070707070707071, 0.8080808080808081, 0.9090909090909091, 1.0101010101010102, 1.1111111111111112, 1.2121212121212122, 1.3131313131313131, 1.4141414141414141, 1.5151515151515151, 1.6161616161616161, 1.7171717171717171, 1.8181818181818181, 1.9191919191919191, 2.0202020202020203, 2.121212121212121, 2.2222222222222223, 2.323232323232323, 2.4242424242424243, 2.525252525252525, 2.6262626262626263, 2.727272727272727, 2.8282828282828283, 2.929292929292929, 3.0303030303030303, 3.131313131313131, 3.2323232323232323, 3.3333333333333335, 3.4343434343434343, 3.5353535353535355, 3.6363636363636362, 3.7373737373737375, 3.8383838383838382, 3.9393939393939394, 4.040404040404041, 4.141414141414141, 4.242424242424242, 4.343434343434343, 4.444444444444445, 4.545454545454545, 4.646464646464646, 4.747474747474747, 4.848484848484849, 4.94949494949495, 5.05050505050505, 5.151515151515151, 5.252525252525253, 5.353535353535354, 5.454545454545454, 5.555555555555555, 5.656565656565657, 5.757575757575758, 5.858585858585858, 5.959595959595959, 6.0606060606060606, 6.161616161616162, 6.262626262626262, 6.363636363636363, 6.4646464646464645, 6.565656565656566, 6.666666666666667, 6.767676767676767, 6.8686868686868685, 6.96969696969697, 7.070707070707071, 7.171717171717171, 7.2727272727272725, 7.373737373737374, 7.474747474747475, 7.575757575757575, 7.6767676767676765, 7.777777777777778, 7.878787878787879, 7.979797979797979, 8.080808080808081, 8.181818181818182, 8.282828282828282, 8.383838383838384, 8.484848484848484, 8.585858585858587, 8.686868686868687, 8.787878787878787, 8.88888888888889, 8.98989898989899, 9.09090909090909, 9.191919191919192, 9.292929292929292, 9.393939393939394, 9.494949494949495, 9.595959595959595, 9.696969696969697, 9.797979797979798, 9.8989898989899, 10.0], \"y\": [0.04011145781806455, -0.08446487010824606, -0.07234209242561324, -0.010427731742529344, 0.0623609191821534, 0.07774883708512813, -0.07017100215970083, 0.09101772860796517, 0.02288555750447923, 0.05694292119937088, -0.17047900715194433, 0.0051253762652160315, 0.07361985063211691, 0.03378854095582014, 0.15409451902232185, 0.01765223488336484, -0.09592192104699393, 0.08908285676014899, -0.11523880855100815, -0.053383591131228335, -0.039454466867038254, -0.17955501481162342, 0.0017425301224580033, -0.023079861728140492, 0.08140612998787032, -0.0737667865341571, -0.13565024826572464, 0.07031976849481962, 0.04331957241923693, -0.008313049809837129, -0.14378471190936548, -0.06440253801360922, 0.022047257977165054, 0.0004856796610002937, 0.023425807495372278, 0.06598765087194566, -0.12748280789604194, -0.09331419471222367, 0.07774339266349173, 0.10727701872981601, 0.1097231848098196, -0.06722821917150809, -0.07772243229800083, 0.011112977500260642, 0.12248489778494934, 0.03749614350524855, 0.17780717837454801, -0.005811772419689755, 0.004273837764007846, 0.3119454268112384, 0.07139661294786494, -0.052810983553489926, -0.048595069988405445, 0.15078464783593507, 0.08079246798566551, 0.1800543762778335, 0.25765053079452804, 0.08248214620547474, 0.07817312817977215, 0.013189458529026504, 0.2441356016249213, 0.23799561188575435, 0.23353168787125633, 0.217254686394788, 0.20217954507556152, 0.2438445885149002, 0.2092751979164007, 0.3413393436962512, 0.21689616425229072, 0.17893017623545732, 0.2502032515412182, 0.30272820444169984, 0.3354830723669458, 0.2703783123784438, 0.4172414693792236, 0.2746977464861427, 0.3283709805609444, 0.4940504399985648, 0.4156129604849747, 0.08774142328324647, 0.47305941208483604, 0.5354355469809698, 0.587038813561612, 0.7516627093189548, 0.6931245640235418, 0.7136561109435006, 0.7949946925144988, 0.6841054069565486, 0.7271559324792903, 0.6960628859075333, 0.9551875335809961, 0.698202656465577, 1.0130468861139317, 0.8571023378968047, 0.8533827250144432, 0.7676335371460321, 1.0807850412106235, 1.17165557620358, 1.103155952453921, 1.006006847644141]}, {\"mode\": \"lines\", \"name\": \"Regressor KNN of 2 neighbours\", \"text\": \"MSE: 0.010120568959121381\", \"type\": \"scatter\", \"x\": [0.0, 0.10101010101010101, 0.20202020202020202, 0.30303030303030304, 0.40404040404040403, 0.5050505050505051, 0.6060606060606061, 0.7070707070707071, 0.8080808080808081, 0.9090909090909091, 1.0101010101010102, 1.1111111111111112, 1.2121212121212122, 1.3131313131313131, 1.4141414141414141, 1.5151515151515151, 1.6161616161616161, 1.7171717171717171, 1.8181818181818181, 1.9191919191919191, 2.0202020202020203, 2.121212121212121, 2.2222222222222223, 2.323232323232323, 2.4242424242424243, 2.525252525252525, 2.6262626262626263, 2.727272727272727, 2.8282828282828283, 2.929292929292929, 3.0303030303030303, 3.131313131313131, 3.2323232323232323, 3.3333333333333335, 3.4343434343434343, 3.5353535353535355, 3.6363636363636362, 3.7373737373737375, 3.8383838383838382, 3.9393939393939394, 4.040404040404041, 4.141414141414141, 4.242424242424242, 4.343434343434343, 4.444444444444445, 4.545454545454545, 4.646464646464646, 4.747474747474747, 4.848484848484849, 4.94949494949495, 5.05050505050505, 5.151515151515151, 5.252525252525253, 5.353535353535354, 5.454545454545454, 5.555555555555555, 5.656565656565657, 5.757575757575758, 5.858585858585858, 5.959595959595959, 6.0606060606060606, 6.161616161616162, 6.262626262626262, 6.363636363636363, 6.4646464646464645, 6.565656565656566, 6.666666666666667, 6.767676767676767, 6.8686868686868685, 6.96969696969697, 7.070707070707071, 7.171717171717171, 7.2727272727272725, 7.373737373737374, 7.474747474747475, 7.575757575757575, 7.6767676767676765, 7.777777777777778, 7.878787878787879, 7.979797979797979, 8.080808080808081, 8.181818181818182, 8.282828282828282, 8.383838383838384, 8.484848484848484, 8.585858585858587, 8.686868686868687, 8.787878787878787, 8.88888888888889, 8.98989898989899, 9.09090909090909, 9.191919191919192, 9.292929292929292, 9.393939393939394, 9.494949494949495, 9.595959595959595, 9.696969696969697, 9.797979797979798, 9.8989898989899, 10.0], \"y\": [0.033660552671299394, 0.033660552671299394, 0.033660552671299394, 0.033660552671299394, 0.033660552671299394, 0.033660552671299394, 0.050317197294803676, 0.050317197294803676, 0.050317197294803676, 0.04825270406829807, 0.04825270406829807, 0.04825270406829807, 0.04825270406829807, 0.04825270406829807, 0.04825270406829807, 0.04825270406829807, 0.02526999445198821, 0.02526999445198821, 0.02526999445198821, -0.04842332413114879, -0.04842332413114879, -0.04842332413114879, -0.04842332413114879, -0.04842332413114879, -0.04842332413114879, -0.04842332413114879, -0.04842332413114879, -0.04842332413114879, -0.0366405534365784, -0.0366405534365784, 0.03323666526647298, 0.03323666526647298, 0.03323666526647298, 0.03323666526647298, 0.03323666526647298, -0.030747578512048138, -0.030747578512048138, -0.007785401024365972, -0.007785401024365972, 0.0052575867459918185, -0.06722821917150809, -0.06722821917150809, -0.06722821917150809, 0.024304560502754594, 0.024304560502754594, 0.024304560502754594, 0.024304560502754594, 0.17472078515824346, 0.19167101987955165, 0.19167101987955165, 0.19167101987955165, 0.011400771479729746, 0.011400771479729746, 0.06572965314471402, 0.06572965314471402, 0.06572965314471402, 0.09662191740343, 0.09662191740343, 0.09662191740343, 0.12559253520739044, 0.12559253520739044, 0.12559253520739044, 0.22008757848065794, 0.22008757848065794, 0.2057273714959811, 0.2057273714959811, 0.2057273714959811, 0.194102687075929, 0.194102687075929, 0.21456671388833776, 0.21456671388833776, 0.21456671388833776, 0.33372236046022086, 0.4172414693792236, 0.4172414693792236, 0.4172414693792236, 0.4556459546888942, 0.4556459546888942, 0.4835549260417004, 0.47305941208483604, 0.47305941208483604, 0.47305941208483604, 0.47305941208483604, 0.5933577615141683, 0.5933577615141683, 0.704859498425517, 0.704859498425517, 0.704859498425517, 0.8256252097442647, 0.8256252097442647, 0.9551875335809961, 0.9841172098474639, 0.9350746120053681, 0.855242531455624, 0.855242531455624, 0.8105081310802377, 0.9696445566748061, 1.1374057643287505, 1.1374057643287505, 1.1374057643287505]}, {\"mode\": \"lines\", \"name\": \"Regressor KNN of 3 neighbours\", \"text\": \"MSE: 0.011084159978990222\", \"type\": \"scatter\", \"x\": [0.0, 0.10101010101010101, 0.20202020202020202, 0.30303030303030304, 0.40404040404040403, 0.5050505050505051, 0.6060606060606061, 0.7070707070707071, 0.8080808080808081, 0.9090909090909091, 1.0101010101010102, 1.1111111111111112, 1.2121212121212122, 1.3131313131313131, 1.4141414141414141, 1.5151515151515151, 1.6161616161616161, 1.7171717171717171, 1.8181818181818181, 1.9191919191919191, 2.0202020202020203, 2.121212121212121, 2.2222222222222223, 2.323232323232323, 2.4242424242424243, 2.525252525252525, 2.6262626262626263, 2.727272727272727, 2.8282828282828283, 2.929292929292929, 3.0303030303030303, 3.131313131313131, 3.2323232323232323, 3.3333333333333335, 3.4343434343434343, 3.5353535353535355, 3.6363636363636362, 3.7373737373737375, 3.8383838383838382, 3.9393939393939394, 4.040404040404041, 4.141414141414141, 4.242424242424242, 4.343434343434343, 4.444444444444445, 4.545454545454545, 4.646464646464646, 4.747474747474747, 4.848484848484849, 4.94949494949495, 5.05050505050505, 5.151515151515151, 5.252525252525253, 5.353535353535354, 5.454545454545454, 5.555555555555555, 5.656565656565657, 5.757575757575758, 5.858585858585858, 5.959595959595959, 6.0606060606060606, 6.161616161616162, 6.262626262626262, 6.363636363636363, 6.4646464646464645, 6.565656565656566, 6.666666666666667, 6.767676767676767, 6.8686868686868685, 6.96969696969697, 7.070707070707071, 7.171717171717171, 7.2727272727272725, 7.373737373737374, 7.474747474747475, 7.575757575757575, 7.6767676767676765, 7.777777777777778, 7.878787878787879, 7.979797979797979, 8.080808080808081, 8.181818181818182, 8.282828282828282, 8.383838383838384, 8.484848484848484, 8.585858585858587, 8.686868686868687, 8.787878787878787, 8.88888888888889, 8.98989898989899, 9.09090909090909, 9.191919191919192, 9.292929292929292, 9.393939393939394, 9.494949494949495, 9.595959595959595, 9.696969696969697, 9.797979797979798, 9.8989898989899, 10.0], \"y\": [0.03006888761569267, 0.03006888761569267, 0.03006888761569267, 0.03006888761569267, 0.03006888761569267, 0.03006888761569267, 0.03006888761569267, 0.03006888761569267, 0.05808474840724143, 0.05808474840724143, 0.05808474840724143, 0.05808474840724143, 0.05808474840724143, 0.05808474840724143, 0.02447518213615188, 0.02447518213615188, 0.024475182136151883, -0.007742265876726891, -0.007742265876726891, -0.007742265876726888, -0.007742265876726888, -0.007742265876726888, -0.007742265876726888, -0.032120322867099094, -0.032120322867099094, -0.032120322867099094, -0.032120322867099094, -0.032120322867099094, -0.032120322867099094, -0.032120322867099094, -0.0024311520004037107, -0.020336492454365324, -0.020336492454365324, -0.020336492454365324, -0.020336492454365324, -0.05160311724543998, -0.05160311724543998, -0.04768453664825797, -0.04768453664825797, -0.018904348559841484, -0.018904348559841484, -0.04111448694758518, -0.04111448694758518, -0.006206366055332968, -0.006206366055332968, -0.006206366055332968, 0.12018484927224919, 0.14027939442145063, 0.14027939442145063, 0.11158232325689928, 0.11158232325689928, 0.11158232325689928, 0.06761863974576433, 0.06761863974576432, 0.06761863974576432, 0.048216254939484844, 0.04821625493948486, 0.14374648223087147, 0.14374648223087147, 0.14374648223087147, 0.1511215384967808, 0.1511215384967808, 0.15112153849678078, 0.21648345162590554, 0.21648345162590554, 0.21648345162590554, 0.1967949730758065, 0.1967949730758065, 0.2128028752310254, 0.2128028752310254, 0.2128028752310254, 0.28212496571863305, 0.3615620634332218, 0.3615620634332218, 0.44284445958567065, 0.44284445958567065, 0.44284445958567065, 0.44284445958567065, 0.4800564213894123, 0.4800564213894123, 0.4800564213894123, 0.4800564213894123, 0.5532583117043909, 0.5532583117043909, 0.5532583117043909, 0.7883021768106767, 0.7883021768106767, 0.7883021768106767, 0.8688126510231751, 0.8688126510231751, 0.8688126510231751, 0.974473984425308, 0.9078439830083932, 0.9078439830083932, 0.8260395333524267, 0.8260395333524267, 0.9308906127880184, 1.0141483552678443, 1.0141483552678443, 1.0141483552678443]}, {\"mode\": \"lines\", \"name\": \"Regressor KNN of 4 neighbours\", \"text\": \"MSE: 0.010820652242983016\", \"type\": \"scatter\", \"x\": [0.0, 0.10101010101010101, 0.20202020202020202, 0.30303030303030304, 0.40404040404040403, 0.5050505050505051, 0.6060606060606061, 0.7070707070707071, 0.8080808080808081, 0.9090909090909091, 1.0101010101010102, 1.1111111111111112, 1.2121212121212122, 1.3131313131313131, 1.4141414141414141, 1.5151515151515151, 1.6161616161616161, 1.7171717171717171, 1.8181818181818181, 1.9191919191919191, 2.0202020202020203, 2.121212121212121, 2.2222222222222223, 2.323232323232323, 2.4242424242424243, 2.525252525252525, 2.6262626262626263, 2.727272727272727, 2.8282828282828283, 2.929292929292929, 3.0303030303030303, 3.131313131313131, 3.2323232323232323, 3.3333333333333335, 3.4343434343434343, 3.5353535353535355, 3.6363636363636362, 3.7373737373737375, 3.8383838383838382, 3.9393939393939394, 4.040404040404041, 4.141414141414141, 4.242424242424242, 4.343434343434343, 4.444444444444445, 4.545454545454545, 4.646464646464646, 4.747474747474747, 4.848484848484849, 4.94949494949495, 5.05050505050505, 5.151515151515151, 5.252525252525253, 5.353535353535354, 5.454545454545454, 5.555555555555555, 5.656565656565657, 5.757575757575758, 5.858585858585858, 5.959595959595959, 6.0606060606060606, 6.161616161616162, 6.262626262626262, 6.363636363636363, 6.4646464646464645, 6.565656565656566, 6.666666666666667, 6.767676767676767, 6.8686868686868685, 6.96969696969697, 7.070707070707071, 7.171717171717171, 7.2727272727272725, 7.373737373737374, 7.474747474747475, 7.575757575757575, 7.6767676767676765, 7.777777777777778, 7.878787878787879, 7.979797979797979, 8.080808080808081, 8.181818181818182, 8.282828282828282, 8.383838383838384, 8.484848484848484, 8.585858585858587, 8.686868686868687, 8.787878787878787, 8.88888888888889, 8.98989898989899, 9.09090909090909, 9.191919191919192, 9.292929292929292, 9.393939393939394, 9.494949494949495, 9.595959595959595, 9.696969696969697, 9.797979797979798, 9.8989898989899, 10.0], \"y\": [0.04095662836979873, 0.04095662836979873, 0.04095662836979873, 0.04095662836979873, 0.04095662836979873, 0.04095662836979873, 0.04095662836979873, 0.04095662836979873, 0.040956628369798735, 0.040956628369798735, 0.040956628369798735, 0.040956628369798735, 0.040956628369798735, 0.037793595873395945, 0.03779359587339594, -8.531003142536395e-05, -8.531003142536048e-05, -8.531003142536048e-05, -8.531003142536048e-05, -8.531003142535874e-05, -8.531003142535874e-05, -0.005685279492295093, -0.005685279492295093, -0.0056852794922950915, -0.007593329432337904, -0.007593329432337904, -0.007593329432337904, -0.007593329432337904, -0.007593329432337904, -0.007593329432337904, -0.033694065974313264, -0.033694065974313264, -0.038580918018829916, -0.038580918018829916, -0.038580918018829916, -0.03858091801882991, -0.01926648976820705, -0.019266489768207058, -0.0525704572790705, -0.037506810097937035, -0.011400017044815953, -0.011400017044815955, -0.02146182933437675, -0.02146182933437675, -0.02146182933437675, -0.02146182933437675, 0.10798779019115312, 0.10798779019115312, 0.0930607783189866, 0.0930607783189866, 0.12870033651213283, 0.12870033651213283, 0.12870033651213283, 0.12870033651213283, 0.12870033651213283, 0.05401134444157987, 0.09566109417605223, 0.09566109417605223, 0.09566109417605223, 0.15835474794204396, 0.15835474794204396, 0.16565995335168576, 0.16565995335168576, 0.1656599533516858, 0.2070951327782935, 0.2070951327782935, 0.21014704269215945, 0.21014704269215945, 0.21014704269215945, 0.21014704269215945, 0.26391252376807495, 0.31590409163378064, 0.3159040916337807, 0.39468415757455755, 0.39468415757455755, 0.39468415757455755, 0.45039819771046197, 0.45039819771046197, 0.4643526833868651, 0.4643526833868651, 0.5384563437779344, 0.5384563437779344, 0.5384563437779344, 0.5889594552551765, 0.5889594552551765, 0.8300235160032565, 0.8300235160032565, 0.8300235160032565, 0.8300235160032564, 0.9048712097958642, 0.9048712097958642, 0.9451310727931821, 0.9196798706515439, 0.872791371542803, 0.872791371542803, 0.912443544065215, 0.973956947704494, 0.973956947704494, 0.973956947704494, 0.973956947704494]}, {\"mode\": \"lines\", \"name\": \"Regressor KNN of 5 neighbours\", \"text\": \"MSE: 0.01023610738959789\", \"type\": \"scatter\", \"x\": [0.0, 0.10101010101010101, 0.20202020202020202, 0.30303030303030304, 0.40404040404040403, 0.5050505050505051, 0.6060606060606061, 0.7070707070707071, 0.8080808080808081, 0.9090909090909091, 1.0101010101010102, 1.1111111111111112, 1.2121212121212122, 1.3131313131313131, 1.4141414141414141, 1.5151515151515151, 1.6161616161616161, 1.7171717171717171, 1.8181818181818181, 1.9191919191919191, 2.0202020202020203, 2.121212121212121, 2.2222222222222223, 2.323232323232323, 2.4242424242424243, 2.525252525252525, 2.6262626262626263, 2.727272727272727, 2.8282828282828283, 2.929292929292929, 3.0303030303030303, 3.131313131313131, 3.2323232323232323, 3.3333333333333335, 3.4343434343434343, 3.5353535353535355, 3.6363636363636362, 3.7373737373737375, 3.8383838383838382, 3.9393939393939394, 4.040404040404041, 4.141414141414141, 4.242424242424242, 4.343434343434343, 4.444444444444445, 4.545454545454545, 4.646464646464646, 4.747474747474747, 4.848484848484849, 4.94949494949495, 5.05050505050505, 5.151515151515151, 5.252525252525253, 5.353535353535354, 5.454545454545454, 5.555555555555555, 5.656565656565657, 5.757575757575758, 5.858585858585858, 5.959595959595959, 6.0606060606060606, 6.161616161616162, 6.262626262626262, 6.363636363636363, 6.4646464646464645, 6.565656565656566, 6.666666666666667, 6.767676767676767, 6.8686868686868685, 6.96969696969697, 7.070707070707071, 7.171717171717171, 7.2727272727272725, 7.373737373737374, 7.474747474747475, 7.575757575757575, 7.6767676767676765, 7.777777777777778, 7.878787878787879, 7.979797979797979, 8.080808080808081, 8.181818181818182, 8.282828282828282, 8.383838383838384, 8.484848484848484, 8.585858585858587, 8.686868686868687, 8.787878787878787, 8.88888888888889, 8.98989898989899, 9.09090909090909, 9.191919191919192, 9.292929292929292, 9.393939393939394, 9.494949494949495, 9.595959595959595, 9.696969696969697, 9.797979797979798, 9.8989898989899, 10.0], \"y\": [0.02814933035021088, 0.02814933035021088, 0.02814933035021088, 0.02814933035021088, 0.02814933035021088, 0.02814933035021088, 0.02814933035021088, 0.02814933035021088, 0.028149330350210888, 0.028149330350210888, 0.028149330350210888, 0.028149330350210888, 0.028149330350210888, 0.028149330350210888, 0.015481519391885332, 0.015481519391885334, 0.015481519391885338, 0.015481519391885338, 0.015481519391885338, 0.01548151939188534, 2.8887907059771748e-05, 2.88879070597714e-05, 0.008649306580553058, 0.00864930658055306, -0.03157122512507871, -0.03157122512507871, -0.03157122512507871, -0.03157122512507871, -0.03157122512507871, -0.03157122512507871, -0.04561809172189535, -0.04561809172189535, -0.015316055882365587, -0.015316055882365587, -0.015316055882365587, -0.015316055882365582, -0.015316055882365582, -0.028858835648867265, -0.05550200965755801, -0.05550200965755801, -0.027782852578297497, -0.0277828525782975, -0.0016207849348030545, -0.0016207849348030545, 0.04521962189474628, 0.04521962189474628, 0.07294458831862087, 0.0766712181552414, 0.0766712181552414, 0.11045949791075597, 0.11045949791075597, 0.11045949791075597, 0.10559816091551158, 0.10559816091551158, 0.10559816091551158, 0.10559816091551158, 0.09080819793041477, 0.11696478435595407, 0.11696478435595407, 0.11696478435595407, 0.16853883793691532, 0.16853883793691532, 0.16853883793691532, 0.1683139979284401, 0.1683139979284401, 0.21571675653087846, 0.2157167565308784, 0.2157167565308784, 0.2515659280295723, 0.2515659280295723, 0.29457831289030467, 0.29457831289030467, 0.3515333613067375, 0.3515333613067375, 0.3515333613067375, 0.4103592084766133, 0.4549304405853368, 0.4549304405853368, 0.4549304405853368, 0.4549304405853368, 0.5142133688981922, 0.5142133688981922, 0.5699776522038542, 0.5699776522038541, 0.6622050709203403, 0.7586306952195725, 0.7586306952195725, 0.8666281900253916, 0.8666281900253914, 0.8666281900253916, 0.8953174354160524, 0.8953174354160524, 0.9267814032374343, 0.8892706039504417, 0.9325642124749584, 0.9325642124749584, 0.9505860257429563, 0.9505860257429563, 0.9505860257429563, 0.9505860257429563]}, {\"mode\": \"lines\", \"name\": \"Regressor KNN of 6 neighbours\", \"text\": \"MSE: 0.010306360340364442\", \"type\": \"scatter\", \"x\": [0.0, 0.10101010101010101, 0.20202020202020202, 0.30303030303030304, 0.40404040404040403, 0.5050505050505051, 0.6060606060606061, 0.7070707070707071, 0.8080808080808081, 0.9090909090909091, 1.0101010101010102, 1.1111111111111112, 1.2121212121212122, 1.3131313131313131, 1.4141414141414141, 1.5151515151515151, 1.6161616161616161, 1.7171717171717171, 1.8181818181818181, 1.9191919191919191, 2.0202020202020203, 2.121212121212121, 2.2222222222222223, 2.323232323232323, 2.4242424242424243, 2.525252525252525, 2.6262626262626263, 2.727272727272727, 2.8282828282828283, 2.929292929292929, 3.0303030303030303, 3.131313131313131, 3.2323232323232323, 3.3333333333333335, 3.4343434343434343, 3.5353535353535355, 3.6363636363636362, 3.7373737373737375, 3.8383838383838382, 3.9393939393939394, 4.040404040404041, 4.141414141414141, 4.242424242424242, 4.343434343434343, 4.444444444444445, 4.545454545454545, 4.646464646464646, 4.747474747474747, 4.848484848484849, 4.94949494949495, 5.05050505050505, 5.151515151515151, 5.252525252525253, 5.353535353535354, 5.454545454545454, 5.555555555555555, 5.656565656565657, 5.757575757575758, 5.858585858585858, 5.959595959595959, 6.0606060606060606, 6.161616161616162, 6.262626262626262, 6.363636363636363, 6.4646464646464645, 6.565656565656566, 6.666666666666667, 6.767676767676767, 6.8686868686868685, 6.96969696969697, 7.070707070707071, 7.171717171717171, 7.2727272727272725, 7.373737373737374, 7.474747474747475, 7.575757575757575, 7.6767676767676765, 7.777777777777778, 7.878787878787879, 7.979797979797979, 8.080808080808081, 8.181818181818182, 8.282828282828282, 8.383838383838384, 8.484848484848484, 8.585858585858587, 8.686868686868687, 8.787878787878787, 8.88888888888889, 8.98989898989899, 9.09090909090909, 9.191919191919192, 9.292929292929292, 9.393939393939394, 9.494949494949495, 9.595959595959595, 9.696969696969697, 9.797979797979798, 9.8989898989899, 10.0], \"y\": [0.011163310869482886, 0.011163310869482886, 0.011163310869482886, 0.011163310869482886, 0.011163310869482886, 0.011163310869482886, 0.011163310869482886, 0.011163310869482886, 0.011163310869482891, 0.011163310869482891, 0.011163310869482891, 0.011163310869482891, 0.011163310869482891, 0.011163310869482891, 0.011163310869482886, 0.01116331086948289, 0.011163310869482891, 0.011163310869482891, 0.011163310869482891, 0.012982212770071166, 0.011022015067874086, 0.011022015067874086, -0.01403937916554611, -0.014039379165546107, -0.014039379165546107, -0.041861720056269536, -0.041861720056269536, -0.041861720056269536, -0.041861720056269536, -0.041861720056269536, -0.041861720056269536, -0.025057844324330836, -0.025057844324330836, -0.023968083097222672, -0.023968083097222672, -0.023968083097222665, -0.023968083097222665, -0.035253732902640736, -0.035253732902640736, -0.04439951179792157, -0.044399511797921565, -0.016903019897706494, -0.01690301989770649, -0.01690301989770649, 0.049582453736932715, 0.049582453736932715, 0.04958245373693271, 0.05268797860078315, 0.09390174450900675, 0.09390174450900675, 0.09390174450900675, 0.09424782468046773, 0.09424782468046773, 0.12766440274388538, 0.12766440274388538, 0.12766440274388538, 0.12766440274388538, 0.10937008912127255, 0.10937008912127255, 0.1323498532826952, 0.1323498532826952, 0.17027072765333898, 0.17027072765333898, 0.1819622068639031, 0.1819622068639031, 0.1819622068639031, 0.18196220686390308, 0.2493042086722693, 0.2791785182545142, 0.2791785182545142, 0.2791785182545142, 0.327823667408348, 0.32782366740834806, 0.32782366740834806, 0.37178770310308723, 0.42080924241131706, 0.420809242411317, 0.420809242411317, 0.49805138564503076, 0.49805138564503076, 0.4980513856450308, 0.4980513856450308, 0.5445216217330825, 0.6341792991000444, 0.7110354813637829, 0.711035481363783, 0.8010333937019656, 0.8650405480039605, 0.8650405480039604, 0.8650405480039605, 0.8883283170157842, 0.8883283170157842, 0.8883283170157842, 0.9002567588888674, 0.9363347659926312, 0.9609961691381188, 0.9609961691381188, 0.9609961691381188, 0.9609961691381188, 0.9609961691381188]}],\n",
       "                        {\"template\": {\"data\": {\"bar\": [{\"error_x\": {\"color\": \"#2a3f5f\"}, \"error_y\": {\"color\": \"#2a3f5f\"}, \"marker\": {\"line\": {\"color\": \"#E5ECF6\", \"width\": 0.5}}, \"type\": \"bar\"}], \"barpolar\": [{\"marker\": {\"line\": {\"color\": \"#E5ECF6\", \"width\": 0.5}}, \"type\": \"barpolar\"}], \"carpet\": [{\"aaxis\": {\"endlinecolor\": \"#2a3f5f\", \"gridcolor\": \"white\", \"linecolor\": \"white\", \"minorgridcolor\": \"white\", \"startlinecolor\": \"#2a3f5f\"}, \"baxis\": {\"endlinecolor\": \"#2a3f5f\", \"gridcolor\": \"white\", \"linecolor\": \"white\", \"minorgridcolor\": \"white\", \"startlinecolor\": \"#2a3f5f\"}, \"type\": \"carpet\"}], \"choropleth\": [{\"colorbar\": {\"outlinewidth\": 0, \"ticks\": \"\"}, \"type\": \"choropleth\"}], \"contour\": [{\"colorbar\": {\"outlinewidth\": 0, \"ticks\": \"\"}, \"colorscale\": [[0.0, \"#0d0887\"], [0.1111111111111111, \"#46039f\"], [0.2222222222222222, \"#7201a8\"], [0.3333333333333333, \"#9c179e\"], [0.4444444444444444, \"#bd3786\"], [0.5555555555555556, \"#d8576b\"], [0.6666666666666666, \"#ed7953\"], [0.7777777777777778, \"#fb9f3a\"], [0.8888888888888888, \"#fdca26\"], [1.0, \"#f0f921\"]], \"type\": \"contour\"}], \"contourcarpet\": [{\"colorbar\": {\"outlinewidth\": 0, \"ticks\": \"\"}, \"type\": \"contourcarpet\"}], \"heatmap\": [{\"colorbar\": {\"outlinewidth\": 0, \"ticks\": \"\"}, \"colorscale\": [[0.0, \"#0d0887\"], [0.1111111111111111, \"#46039f\"], [0.2222222222222222, \"#7201a8\"], [0.3333333333333333, \"#9c179e\"], [0.4444444444444444, \"#bd3786\"], [0.5555555555555556, \"#d8576b\"], [0.6666666666666666, \"#ed7953\"], [0.7777777777777778, \"#fb9f3a\"], [0.8888888888888888, \"#fdca26\"], [1.0, \"#f0f921\"]], \"type\": \"heatmap\"}], \"heatmapgl\": [{\"colorbar\": {\"outlinewidth\": 0, \"ticks\": \"\"}, \"colorscale\": [[0.0, \"#0d0887\"], [0.1111111111111111, \"#46039f\"], [0.2222222222222222, \"#7201a8\"], [0.3333333333333333, \"#9c179e\"], [0.4444444444444444, \"#bd3786\"], [0.5555555555555556, \"#d8576b\"], [0.6666666666666666, \"#ed7953\"], [0.7777777777777778, \"#fb9f3a\"], [0.8888888888888888, \"#fdca26\"], [1.0, \"#f0f921\"]], \"type\": \"heatmapgl\"}], \"histogram\": [{\"marker\": {\"colorbar\": {\"outlinewidth\": 0, \"ticks\": \"\"}}, \"type\": \"histogram\"}], \"histogram2d\": [{\"colorbar\": {\"outlinewidth\": 0, \"ticks\": \"\"}, \"colorscale\": [[0.0, \"#0d0887\"], [0.1111111111111111, \"#46039f\"], [0.2222222222222222, \"#7201a8\"], [0.3333333333333333, \"#9c179e\"], [0.4444444444444444, \"#bd3786\"], [0.5555555555555556, \"#d8576b\"], [0.6666666666666666, \"#ed7953\"], [0.7777777777777778, \"#fb9f3a\"], [0.8888888888888888, \"#fdca26\"], [1.0, \"#f0f921\"]], \"type\": \"histogram2d\"}], \"histogram2dcontour\": [{\"colorbar\": {\"outlinewidth\": 0, \"ticks\": \"\"}, \"colorscale\": [[0.0, \"#0d0887\"], [0.1111111111111111, \"#46039f\"], [0.2222222222222222, \"#7201a8\"], [0.3333333333333333, \"#9c179e\"], [0.4444444444444444, \"#bd3786\"], [0.5555555555555556, \"#d8576b\"], [0.6666666666666666, \"#ed7953\"], [0.7777777777777778, \"#fb9f3a\"], [0.8888888888888888, \"#fdca26\"], [1.0, \"#f0f921\"]], \"type\": \"histogram2dcontour\"}], \"mesh3d\": [{\"colorbar\": {\"outlinewidth\": 0, \"ticks\": \"\"}, \"type\": \"mesh3d\"}], \"parcoords\": [{\"line\": {\"colorbar\": {\"outlinewidth\": 0, \"ticks\": \"\"}}, \"type\": \"parcoords\"}], \"scatter\": [{\"marker\": {\"colorbar\": {\"outlinewidth\": 0, \"ticks\": \"\"}}, \"type\": \"scatter\"}], \"scatter3d\": [{\"line\": {\"colorbar\": {\"outlinewidth\": 0, \"ticks\": \"\"}}, \"marker\": {\"colorbar\": {\"outlinewidth\": 0, \"ticks\": \"\"}}, \"type\": \"scatter3d\"}], \"scattercarpet\": [{\"marker\": {\"colorbar\": {\"outlinewidth\": 0, \"ticks\": \"\"}}, \"type\": \"scattercarpet\"}], \"scattergeo\": [{\"marker\": {\"colorbar\": {\"outlinewidth\": 0, \"ticks\": \"\"}}, \"type\": \"scattergeo\"}], \"scattergl\": [{\"marker\": {\"colorbar\": {\"outlinewidth\": 0, \"ticks\": \"\"}}, \"type\": \"scattergl\"}], \"scattermapbox\": [{\"marker\": {\"colorbar\": {\"outlinewidth\": 0, \"ticks\": \"\"}}, \"type\": \"scattermapbox\"}], \"scatterpolar\": [{\"marker\": {\"colorbar\": {\"outlinewidth\": 0, \"ticks\": \"\"}}, \"type\": \"scatterpolar\"}], \"scatterpolargl\": [{\"marker\": {\"colorbar\": {\"outlinewidth\": 0, \"ticks\": \"\"}}, \"type\": \"scatterpolargl\"}], \"scatterternary\": [{\"marker\": {\"colorbar\": {\"outlinewidth\": 0, \"ticks\": \"\"}}, \"type\": \"scatterternary\"}], \"surface\": [{\"colorbar\": {\"outlinewidth\": 0, \"ticks\": \"\"}, \"colorscale\": [[0.0, \"#0d0887\"], [0.1111111111111111, \"#46039f\"], [0.2222222222222222, \"#7201a8\"], [0.3333333333333333, \"#9c179e\"], [0.4444444444444444, \"#bd3786\"], [0.5555555555555556, \"#d8576b\"], [0.6666666666666666, \"#ed7953\"], [0.7777777777777778, \"#fb9f3a\"], [0.8888888888888888, \"#fdca26\"], [1.0, \"#f0f921\"]], \"type\": \"surface\"}], \"table\": [{\"cells\": {\"fill\": {\"color\": \"#EBF0F8\"}, \"line\": {\"color\": \"white\"}}, \"header\": {\"fill\": {\"color\": \"#C8D4E3\"}, \"line\": {\"color\": \"white\"}}, \"type\": \"table\"}]}, \"layout\": {\"annotationdefaults\": {\"arrowcolor\": \"#2a3f5f\", \"arrowhead\": 0, \"arrowwidth\": 1}, \"colorscale\": {\"diverging\": [[0, \"#8e0152\"], [0.1, \"#c51b7d\"], [0.2, \"#de77ae\"], [0.3, \"#f1b6da\"], [0.4, \"#fde0ef\"], [0.5, \"#f7f7f7\"], [0.6, \"#e6f5d0\"], [0.7, \"#b8e186\"], [0.8, \"#7fbc41\"], [0.9, \"#4d9221\"], [1, \"#276419\"]], \"sequential\": [[0.0, \"#0d0887\"], [0.1111111111111111, \"#46039f\"], [0.2222222222222222, \"#7201a8\"], [0.3333333333333333, \"#9c179e\"], [0.4444444444444444, \"#bd3786\"], [0.5555555555555556, \"#d8576b\"], [0.6666666666666666, \"#ed7953\"], [0.7777777777777778, \"#fb9f3a\"], [0.8888888888888888, \"#fdca26\"], [1.0, \"#f0f921\"]], \"sequentialminus\": [[0.0, \"#0d0887\"], [0.1111111111111111, \"#46039f\"], [0.2222222222222222, \"#7201a8\"], [0.3333333333333333, \"#9c179e\"], [0.4444444444444444, \"#bd3786\"], [0.5555555555555556, \"#d8576b\"], [0.6666666666666666, \"#ed7953\"], [0.7777777777777778, \"#fb9f3a\"], [0.8888888888888888, \"#fdca26\"], [1.0, \"#f0f921\"]]}, \"colorway\": [\"#636efa\", \"#EF553B\", \"#00cc96\", \"#ab63fa\", \"#FFA15A\", \"#19d3f3\", \"#FF6692\", \"#B6E880\", \"#FF97FF\", \"#FECB52\"], \"font\": {\"color\": \"#2a3f5f\"}, \"geo\": {\"bgcolor\": \"white\", \"lakecolor\": \"white\", \"landcolor\": \"#E5ECF6\", \"showlakes\": true, \"showland\": true, \"subunitcolor\": \"white\"}, \"hoverlabel\": {\"align\": \"left\"}, \"hovermode\": \"closest\", \"mapbox\": {\"style\": \"light\"}, \"paper_bgcolor\": \"white\", \"plot_bgcolor\": \"#E5ECF6\", \"polar\": {\"angularaxis\": {\"gridcolor\": \"white\", \"linecolor\": \"white\", \"ticks\": \"\"}, \"bgcolor\": \"#E5ECF6\", \"radialaxis\": {\"gridcolor\": \"white\", \"linecolor\": \"white\", \"ticks\": \"\"}}, \"scene\": {\"xaxis\": {\"backgroundcolor\": \"#E5ECF6\", \"gridcolor\": \"white\", \"gridwidth\": 2, \"linecolor\": \"white\", \"showbackground\": true, \"ticks\": \"\", \"zerolinecolor\": \"white\"}, \"yaxis\": {\"backgroundcolor\": \"#E5ECF6\", \"gridcolor\": \"white\", \"gridwidth\": 2, \"linecolor\": \"white\", \"showbackground\": true, \"ticks\": \"\", \"zerolinecolor\": \"white\"}, \"zaxis\": {\"backgroundcolor\": \"#E5ECF6\", \"gridcolor\": \"white\", \"gridwidth\": 2, \"linecolor\": \"white\", \"showbackground\": true, \"ticks\": \"\", \"zerolinecolor\": \"white\"}}, \"shapedefaults\": {\"line\": {\"color\": \"#2a3f5f\"}}, \"ternary\": {\"aaxis\": {\"gridcolor\": \"white\", \"linecolor\": \"white\", \"ticks\": \"\"}, \"baxis\": {\"gridcolor\": \"white\", \"linecolor\": \"white\", \"ticks\": \"\"}, \"bgcolor\": \"#E5ECF6\", \"caxis\": {\"gridcolor\": \"white\", \"linecolor\": \"white\", \"ticks\": \"\"}}, \"title\": {\"x\": 0.05}, \"xaxis\": {\"automargin\": true, \"gridcolor\": \"white\", \"linecolor\": \"white\", \"ticks\": \"\", \"zerolinecolor\": \"white\", \"zerolinewidth\": 2}, \"yaxis\": {\"automargin\": true, \"gridcolor\": \"white\", \"linecolor\": \"white\", \"ticks\": \"\", \"zerolinecolor\": \"white\", \"zerolinewidth\": 2}}}, \"title\": {\"text\": \"Linear regression on synthetic data\"}},\n",
       "                        {\"responsive\": true}\n",
       "                    ).then(function(){\n",
       "                            \n",
       "var gd = document.getElementById('c35c7393-be05-4c2e-9a45-683c0d60a3c6');\n",
       "var x = new MutationObserver(function (mutations, observer) {{\n",
       "        var display = window.getComputedStyle(gd).display;\n",
       "        if (!display || display === 'none') {{\n",
       "            console.log([gd, 'removed!']);\n",
       "            Plotly.purge(gd);\n",
       "            observer.disconnect();\n",
       "        }}\n",
       "}});\n",
       "\n",
       "// Listen for the removal of the full notebook cells\n",
       "var notebookContainer = gd.closest('#notebook-container');\n",
       "if (notebookContainer) {{\n",
       "    x.observe(notebookContainer, {childList: true});\n",
       "}}\n",
       "\n",
       "// Listen for the clearing of the current output cell\n",
       "var outputEl = gd.closest('.output');\n",
       "if (outputEl) {{\n",
       "    x.observe(outputEl, {childList: true});\n",
       "}}\n",
       "\n",
       "                        })\n",
       "                };\n",
       "                });\n",
       "            </script>\n",
       "        </div>"
      ]
     },
     "metadata": {},
     "output_type": "display_data"
    }
   ],
   "source": [
    "iplot(reg_plotly_plot(x,y,predictions,[\"KNN of \"+str(k)+\" neighbours\" for k in np.array(ks)]))"
   ]
  },
  {
   "cell_type": "markdown",
   "metadata": {},
   "source": [
    "As we can see these models do not extrapolate well, as they need the neighbours, so they are intended for intrapolation. This is the main reason why most of the people uses K-NN for classification instead of using it for regression."
   ]
  },
  {
   "cell_type": "markdown",
   "metadata": {},
   "source": [
    "### Decision Tree\n",
    "\n",
    "Models dicussed above, were designed before 1970. Decision Trees, and its variants, that we will analyze during the last part of the course, were designed around 1975, and its most recent versions are very new.\n",
    "\n",
    "Building a DT from scratch is a little bit more difficult than the previous models, so we will split the process in the following steps:\n",
    "* General Overview https://en.wikipedia.org/wiki/Decision_tree\n",
    "* Minimization metric(s)\n",
    "* Splitting the data\n",
    "* Learning algorithm\n",
    "* Building a tree\n",
    "* Prediction\n",
    "\n",
    "#### Minimization metrics"
   ]
  },
  {
   "cell_type": "code",
   "execution_count": 27,
   "metadata": {},
   "outputs": [],
   "source": [
    "import pandas as pd"
   ]
  },
  {
   "cell_type": "code",
   "execution_count": 28,
   "metadata": {},
   "outputs": [],
   "source": [
    "def reg_metric(df1,df2):\n",
    "    size1,size2 = len(df1),len(df2)\n",
    "    m1 = df1.iloc[:,-1].mean()\n",
    "    m2 = df2.iloc[:,-1].mean()\n",
    "    \n",
    "    reg1 = np.sum((df1.iloc[:,-1].values - m1)**2) * (size1 / (size1+size2))\n",
    "    reg2 = np.sum((df2.iloc[:,-1].values - m2)**2) * (size2 / (size1+size2))\n",
    "    \n",
    "    return  reg1+reg2  "
   ]
  },
  {
   "cell_type": "code",
   "execution_count": 29,
   "metadata": {},
   "outputs": [],
   "source": [
    "def gini_metric(df1,df2,classes):\n",
    "    size1,size2 = len(df1),len(df2)\n",
    "    proportions1 = []\n",
    "    proportions2 = []\n",
    "    \n",
    "    for c in classes:\n",
    "        proportions1.append((len(df1[df1.iloc[:,-1] == c])/size1)**2)\n",
    "        proportions2.append((len(df2[df2.iloc[:,-1] == c])/size2)**2)\n",
    "    \n",
    "    gini = (1.0 - sum(proportions1)) * (size1 / (size1+size2)) + \\\n",
    "           (1.0 - sum(proportions2)) * (size2 / (size1+size2)) \n",
    "    \n",
    "    return gini"
   ]
  },
  {
   "cell_type": "markdown",
   "metadata": {},
   "source": [
    "#### Splitting dataset"
   ]
  },
  {
   "cell_type": "code",
   "execution_count": 30,
   "metadata": {},
   "outputs": [],
   "source": [
    "def split_df(column,value,df):\n",
    "    return df[df[column] < value],df[df[column] >= value]"
   ]
  },
  {
   "cell_type": "markdown",
   "metadata": {},
   "source": [
    "#### Learning algorithm"
   ]
  },
  {
   "cell_type": "code",
   "execution_count": 31,
   "metadata": {},
   "outputs": [],
   "source": [
    "def best_split(df,kind=\"clas\"):\n",
    "    \"\"\"\n",
    "    labels column must be the last column\n",
    "    \"\"\"\n",
    "    \n",
    "    if kind == \"clas\":\n",
    "        classes = df.iloc[:,-1].unique()\n",
    "\n",
    "    b_index, b_value, b_score, b_groups = None, None, 1e1000, None\n",
    "    m = 1e1000\n",
    "    for column in df.columns.values.tolist()[:-1]:\n",
    "        for idx,value in enumerate(df[column].values.tolist()):\n",
    "            df1,df2 = split_df(column,value,df)\n",
    "            try:\n",
    "                if kind == \"clas\":\n",
    "                    m = gini_metric(df1,df2,classes)\n",
    "                else:\n",
    "                    m = reg_metric(df1,df2)\n",
    "            except ZeroDivisionError:\n",
    "                continue\n",
    "            if m < b_score:\n",
    "                b_index, b_value, b_var, b_score, b_group = idx, value, column, m, [df1,df2]\n",
    "    return {\"split_idx\":b_index, \n",
    "            \"split_val\":b_value, \n",
    "            \"split_var\":b_var, \n",
    "            \"metric\":b_score, \n",
    "            \"left\":b_group[0],\n",
    "            \"right\":b_group[1]\n",
    "            }"
   ]
  },
  {
   "cell_type": "code",
   "execution_count": 32,
   "metadata": {},
   "outputs": [
    {
     "data": {
      "text/plain": [
       "7.474747474747475"
      ]
     },
     "execution_count": 32,
     "metadata": {},
     "output_type": "execute_result"
    }
   ],
   "source": [
    "node = best_split(pd.DataFrame([x,y]).T,kind=\"reg\")\n",
    "node[\"split_val\"]"
   ]
  },
  {
   "cell_type": "markdown",
   "metadata": {},
   "source": [
    "#### Building a tree\n",
    "* When a node is a leaf\n",
    "* Recursive Splitting"
   ]
  },
  {
   "cell_type": "code",
   "execution_count": 33,
   "metadata": {},
   "outputs": [],
   "source": [
    "def leaf(df,kind):\n",
    "    if kind == \"clas\":\n",
    "        return np.round(df.iloc[:,-1].mean())\n",
    "    else:\n",
    "        return df.iloc[:,-1].mean()"
   ]
  },
  {
   "cell_type": "code",
   "execution_count": 34,
   "metadata": {},
   "outputs": [],
   "source": [
    "def split(node,max_depth,min_examples,depth,kind=\"clas\"):\n",
    "    df_left,df_right = node[\"left\"].copy(),node[\"right\"].copy()\n",
    "    \n",
    "    ## if the best split is no split\n",
    "    if len(df_left) == 0 or len(df_right) == 0:\n",
    "        df_left = df_right = leaf(pd.concat([df_left,df_right]),kind)\n",
    "\n",
    "    ## check for max depth\n",
    "    if depth >= max_depth:\n",
    "        node[\"left\"], node[\"right\"] = leaf(df_left,kind), leaf(df_right,kind)\n",
    "        return\n",
    "    \n",
    "    ## process left child\n",
    "    if len(df_left) <= min_examples:\n",
    "        node[\"left\"] = leaf(df_left,kind)\n",
    "    else:\n",
    "        node[\"left\"] = best_split(df_left,kind)\n",
    "        split(node[\"left\"], max_depth, min_examples, depth+1,kind)\n",
    "    \n",
    "    ## process right child\n",
    "    if len(df_right) <= min_examples:\n",
    "        node[\"right\"] = leaf(df_right,kind)\n",
    "    else:\n",
    "        node[\"right\"] = best_split(df_right,kind)\n",
    "        split(node[\"right\"], max_depth, min_examples, depth+1,kind)"
   ]
  },
  {
   "cell_type": "markdown",
   "metadata": {},
   "source": [
    "Instantiate the tree"
   ]
  },
  {
   "cell_type": "code",
   "execution_count": 35,
   "metadata": {},
   "outputs": [],
   "source": [
    "def build_tree(train_df, max_depth, min_examples,kind=\"clas\"):\n",
    "    root = best_split(train_df,kind)\n",
    "    split(root,max_depth,min_examples,1,kind)\n",
    "    return root"
   ]
  },
  {
   "cell_type": "code",
   "execution_count": 36,
   "metadata": {},
   "outputs": [],
   "source": [
    "tree = build_tree(pd.DataFrame([x,y]).T,5,10,kind=\"reg\")"
   ]
  },
  {
   "cell_type": "markdown",
   "metadata": {},
   "source": [
    "Print function"
   ]
  },
  {
   "cell_type": "code",
   "execution_count": 37,
   "metadata": {},
   "outputs": [],
   "source": [
    "def print_tree(node, depth=0):\n",
    "    if isinstance(node, dict):\n",
    "        print('%s[Split at idx %d with value < %.3f]' % ((depth*' ', (node['split_idx']+1), node['split_val'])))\n",
    "        print_tree(node['left'], depth+1)\n",
    "        print_tree(node['right'], depth+1)\n",
    "    else:\n",
    "        print('%s[%s]' % ((depth*' ', node)))"
   ]
  },
  {
   "cell_type": "code",
   "execution_count": 38,
   "metadata": {
    "scrolled": false
   },
   "outputs": [
    {
     "name": "stdout",
     "output_type": "stream",
     "text": [
      "[Split at idx 75 with value < 7.475]\n",
      " [Split at idx 45 with value < 4.444]\n",
      "  [Split at idx 19 with value < 1.818]\n",
      "   [Split at idx 11 with value < 1.010]\n",
      "    [0.011366172496107189]\n",
      "    [0.013370306290006313]\n",
      "   [Split at idx 15 with value < 3.232]\n",
      "    [Split at idx 7 with value < 2.424]\n",
      "     [-0.06816153549443012]\n",
      "     [-0.02885898295384584]\n",
      "    [Split at idx 7 with value < 3.838]\n",
      "     [-0.018141767767130387]\n",
      "     [0.02681765370564651]\n",
      "  [Split at idx 17 with value < 6.061]\n",
      "   [Split at idx 10 with value < 5.354]\n",
      "    [0.06868736346958577]\n",
      "    [0.12044667940117651]\n",
      "   [Split at idx 8 with value < 6.768]\n",
      "    [0.22688813132622607]\n",
      "    [0.2708512178446153]\n",
      " [Split at idx 10 with value < 8.384]\n",
      "  [0.4014720880911683]\n",
      "  [Split at idx 10 with value < 9.293]\n",
      "   [0.7460169435767158]\n",
      "   [0.9815961129604346]\n"
     ]
    }
   ],
   "source": [
    "print_tree(tree)"
   ]
  },
  {
   "cell_type": "markdown",
   "metadata": {},
   "source": [
    "Now use the predict function"
   ]
  },
  {
   "cell_type": "code",
   "execution_count": 39,
   "metadata": {},
   "outputs": [],
   "source": [
    "def predict(tree, example):\n",
    "    if (example[tree[\"split_var\"]] < tree[\"split_val\"]).values[0]:\n",
    "        if isinstance(tree[\"left\"], dict):\n",
    "            return predict(tree[\"left\"], example)\n",
    "        else:\n",
    "            return tree[\"left\"]\n",
    "    else:\n",
    "        if isinstance(tree[\"right\"], dict):\n",
    "            return predict(tree[\"right\"], example)\n",
    "        else:\n",
    "            return tree[\"right\"]\n"
   ]
  },
  {
   "cell_type": "code",
   "execution_count": 40,
   "metadata": {},
   "outputs": [
    {
     "name": "stdout",
     "output_type": "stream",
     "text": [
      "0.011366172496107189\n",
      "0.011366172496107189\n",
      "0.011366172496107189\n",
      "0.011366172496107189\n",
      "0.011366172496107189\n"
     ]
    }
   ],
   "source": [
    "for i in range(5):#len(pd.DataFrame([x,y]).T)):\n",
    "    example = pd.DataFrame([x,y]).T.iloc[i,:].to_frame().T\n",
    "    print(predict(tree,example))"
   ]
  },
  {
   "cell_type": "markdown",
   "metadata": {},
   "source": [
    "Our particular example"
   ]
  },
  {
   "cell_type": "code",
   "execution_count": 41,
   "metadata": {},
   "outputs": [
    {
     "data": {
      "application/vnd.plotly.v1+json": {
       "config": {
        "linkText": "Export to plot.ly",
        "plotlyServerURL": "https://plot.ly",
        "showLink": false
       },
       "data": [
        {
         "mode": "markers",
         "name": "Data",
         "type": "scatter",
         "x": [
          0,
          0.10101010101010101,
          0.20202020202020202,
          0.30303030303030304,
          0.40404040404040403,
          0.5050505050505051,
          0.6060606060606061,
          0.7070707070707071,
          0.8080808080808081,
          0.9090909090909091,
          1.0101010101010102,
          1.1111111111111112,
          1.2121212121212122,
          1.3131313131313131,
          1.4141414141414141,
          1.5151515151515151,
          1.6161616161616161,
          1.7171717171717171,
          1.8181818181818181,
          1.9191919191919191,
          2.0202020202020203,
          2.121212121212121,
          2.2222222222222223,
          2.323232323232323,
          2.4242424242424243,
          2.525252525252525,
          2.6262626262626263,
          2.727272727272727,
          2.8282828282828283,
          2.929292929292929,
          3.0303030303030303,
          3.131313131313131,
          3.2323232323232323,
          3.3333333333333335,
          3.4343434343434343,
          3.5353535353535355,
          3.6363636363636362,
          3.7373737373737375,
          3.8383838383838382,
          3.9393939393939394,
          4.040404040404041,
          4.141414141414141,
          4.242424242424242,
          4.343434343434343,
          4.444444444444445,
          4.545454545454545,
          4.646464646464646,
          4.747474747474747,
          4.848484848484849,
          4.94949494949495,
          5.05050505050505,
          5.151515151515151,
          5.252525252525253,
          5.353535353535354,
          5.454545454545454,
          5.555555555555555,
          5.656565656565657,
          5.757575757575758,
          5.858585858585858,
          5.959595959595959,
          6.0606060606060606,
          6.161616161616162,
          6.262626262626262,
          6.363636363636363,
          6.4646464646464645,
          6.565656565656566,
          6.666666666666667,
          6.767676767676767,
          6.8686868686868685,
          6.96969696969697,
          7.070707070707071,
          7.171717171717171,
          7.2727272727272725,
          7.373737373737374,
          7.474747474747475,
          7.575757575757575,
          7.6767676767676765,
          7.777777777777778,
          7.878787878787879,
          7.979797979797979,
          8.080808080808081,
          8.181818181818182,
          8.282828282828282,
          8.383838383838384,
          8.484848484848484,
          8.585858585858587,
          8.686868686868687,
          8.787878787878787,
          8.88888888888889,
          8.98989898989899,
          9.09090909090909,
          9.191919191919192,
          9.292929292929292,
          9.393939393939394,
          9.494949494949495,
          9.595959595959595,
          9.696969696969697,
          9.797979797979798,
          9.8989898989899,
          10
         ],
         "y": [
          0.04011145781806455,
          -0.08446487010824606,
          -0.07234209242561324,
          -0.010427731742529344,
          0.0623609191821534,
          0.07774883708512813,
          -0.07017100215970083,
          0.09101772860796517,
          0.02288555750447923,
          0.05694292119937088,
          -0.17047900715194433,
          0.0051253762652160315,
          0.07361985063211691,
          0.03378854095582014,
          0.15409451902232185,
          0.01765223488336484,
          -0.09592192104699393,
          0.08908285676014899,
          -0.11523880855100815,
          -0.053383591131228335,
          -0.039454466867038254,
          -0.17955501481162342,
          0.0017425301224580033,
          -0.023079861728140492,
          0.08140612998787032,
          -0.0737667865341571,
          -0.13565024826572464,
          0.07031976849481962,
          0.04331957241923693,
          -0.008313049809837129,
          -0.14378471190936548,
          -0.06440253801360922,
          0.022047257977165054,
          0.0004856796610002937,
          0.023425807495372278,
          0.06598765087194566,
          -0.12748280789604194,
          -0.09331419471222367,
          0.07774339266349173,
          0.10727701872981601,
          0.1097231848098196,
          -0.06722821917150809,
          -0.07772243229800083,
          0.011112977500260642,
          0.12248489778494934,
          0.03749614350524855,
          0.17780717837454801,
          -0.005811772419689755,
          0.004273837764007846,
          0.3119454268112384,
          0.07139661294786494,
          -0.052810983553489926,
          -0.048595069988405445,
          0.15078464783593507,
          0.08079246798566551,
          0.1800543762778335,
          0.25765053079452804,
          0.08248214620547474,
          0.07817312817977215,
          0.013189458529026504,
          0.2441356016249213,
          0.23799561188575435,
          0.23353168787125633,
          0.217254686394788,
          0.20217954507556152,
          0.2438445885149002,
          0.2092751979164007,
          0.3413393436962512,
          0.21689616425229072,
          0.17893017623545732,
          0.2502032515412182,
          0.30272820444169984,
          0.3354830723669458,
          0.2703783123784438,
          0.4172414693792236,
          0.2746977464861427,
          0.3283709805609444,
          0.4940504399985648,
          0.4156129604849747,
          0.08774142328324647,
          0.47305941208483604,
          0.5354355469809698,
          0.587038813561612,
          0.7516627093189548,
          0.6931245640235418,
          0.7136561109435006,
          0.7949946925144988,
          0.6841054069565486,
          0.7271559324792903,
          0.6960628859075333,
          0.9551875335809961,
          0.698202656465577,
          1.0130468861139317,
          0.8571023378968047,
          0.8533827250144432,
          0.7676335371460321,
          1.0807850412106235,
          1.17165557620358,
          1.103155952453921,
          1.006006847644141
         ]
        },
        {
         "mode": "lines",
         "name": "Regressor Decision Tree",
         "text": "MSE: 0.015307967273608204",
         "type": "scatter",
         "x": [
          0,
          0.10101010101010101,
          0.20202020202020202,
          0.30303030303030304,
          0.40404040404040403,
          0.5050505050505051,
          0.6060606060606061,
          0.7070707070707071,
          0.8080808080808081,
          0.9090909090909091,
          1.0101010101010102,
          1.1111111111111112,
          1.2121212121212122,
          1.3131313131313131,
          1.4141414141414141,
          1.5151515151515151,
          1.6161616161616161,
          1.7171717171717171,
          1.8181818181818181,
          1.9191919191919191,
          2.0202020202020203,
          2.121212121212121,
          2.2222222222222223,
          2.323232323232323,
          2.4242424242424243,
          2.525252525252525,
          2.6262626262626263,
          2.727272727272727,
          2.8282828282828283,
          2.929292929292929,
          3.0303030303030303,
          3.131313131313131,
          3.2323232323232323,
          3.3333333333333335,
          3.4343434343434343,
          3.5353535353535355,
          3.6363636363636362,
          3.7373737373737375,
          3.8383838383838382,
          3.9393939393939394,
          4.040404040404041,
          4.141414141414141,
          4.242424242424242,
          4.343434343434343,
          4.444444444444445,
          4.545454545454545,
          4.646464646464646,
          4.747474747474747,
          4.848484848484849,
          4.94949494949495,
          5.05050505050505,
          5.151515151515151,
          5.252525252525253,
          5.353535353535354,
          5.454545454545454,
          5.555555555555555,
          5.656565656565657,
          5.757575757575758,
          5.858585858585858,
          5.959595959595959,
          6.0606060606060606,
          6.161616161616162,
          6.262626262626262,
          6.363636363636363,
          6.4646464646464645,
          6.565656565656566,
          6.666666666666667,
          6.767676767676767,
          6.8686868686868685,
          6.96969696969697,
          7.070707070707071,
          7.171717171717171,
          7.2727272727272725,
          7.373737373737374,
          7.474747474747475,
          7.575757575757575,
          7.6767676767676765,
          7.777777777777778,
          7.878787878787879,
          7.979797979797979,
          8.080808080808081,
          8.181818181818182,
          8.282828282828282,
          8.383838383838384,
          8.484848484848484,
          8.585858585858587,
          8.686868686868687,
          8.787878787878787,
          8.88888888888889,
          8.98989898989899,
          9.09090909090909,
          9.191919191919192,
          9.292929292929292,
          9.393939393939394,
          9.494949494949495,
          9.595959595959595,
          9.696969696969697,
          9.797979797979798,
          9.8989898989899,
          10
         ],
         "y": [
          0.016681649468730415,
          0.016681649468730415,
          0.016681649468730415,
          0.016681649468730415,
          0.016681649468730415,
          0.016681649468730415,
          0.016681649468730415,
          0.016681649468730415,
          0.016681649468730415,
          0.016681649468730415,
          0.016681649468730415,
          0.016681649468730415,
          0.016681649468730415,
          0.016681649468730415,
          0.016681649468730415,
          0.016681649468730415,
          0.016681649468730415,
          0.016681649468730415,
          0.016681649468730415,
          0.016681649468730415,
          0.016681649468730415,
          0.016681649468730415,
          0.016681649468730415,
          0.016681649468730415,
          0.016681649468730415,
          0.016681649468730415,
          0.016681649468730415,
          0.016681649468730415,
          0.016681649468730415,
          0.016681649468730415,
          0.016681649468730415,
          0.016681649468730415,
          0.016681649468730415,
          0.016681649468730415,
          0.016681649468730415,
          0.016681649468730415,
          -0.03270013246889727,
          -0.03270013246889727,
          -0.03270013246889727,
          -0.03270013246889727,
          -0.03270013246889727,
          -0.03270013246889727,
          -0.03270013246889727,
          -0.03270013246889727,
          -0.03270013246889727,
          -0.03270013246889727,
          -0.03270013246889727,
          -0.03270013246889727,
          -0.03270013246889727,
          0.160657458723195,
          0.160657458723195,
          0.160657458723195,
          0.160657458723195,
          0.160657458723195,
          0.160657458723195,
          0.160657458723195,
          0.160657458723195,
          0.160657458723195,
          0.160657458723195,
          0.160657458723195,
          0.160657458723195,
          0.160657458723195,
          0.160657458723195,
          0.160657458723195,
          0.160657458723195,
          0.160657458723195,
          0.160657458723195,
          0.160657458723195,
          0.160657458723195,
          0.160657458723195,
          0.160657458723195,
          0.160657458723195,
          0.160657458723195,
          0.160657458723195,
          0.5263387428253883,
          0.5263387428253883,
          0.5263387428253883,
          0.5263387428253883,
          0.5263387428253883,
          0.5263387428253883,
          0.5263387428253883,
          0.5263387428253883,
          0.5263387428253883,
          0.5263387428253883,
          0.5263387428253883,
          0.5263387428253883,
          0.5263387428253883,
          0.5263387428253883,
          0.5263387428253883,
          0.5263387428253883,
          0.9595440102488382,
          0.9595440102488382,
          0.9595440102488382,
          0.9595440102488382,
          0.9595440102488382,
          0.9595440102488382,
          0.9595440102488382,
          0.9595440102488382,
          0.9595440102488382,
          0.9595440102488382
         ]
        }
       ],
       "layout": {
        "template": {
         "data": {
          "bar": [
           {
            "error_x": {
             "color": "#2a3f5f"
            },
            "error_y": {
             "color": "#2a3f5f"
            },
            "marker": {
             "line": {
              "color": "#E5ECF6",
              "width": 0.5
             }
            },
            "type": "bar"
           }
          ],
          "barpolar": [
           {
            "marker": {
             "line": {
              "color": "#E5ECF6",
              "width": 0.5
             }
            },
            "type": "barpolar"
           }
          ],
          "carpet": [
           {
            "aaxis": {
             "endlinecolor": "#2a3f5f",
             "gridcolor": "white",
             "linecolor": "white",
             "minorgridcolor": "white",
             "startlinecolor": "#2a3f5f"
            },
            "baxis": {
             "endlinecolor": "#2a3f5f",
             "gridcolor": "white",
             "linecolor": "white",
             "minorgridcolor": "white",
             "startlinecolor": "#2a3f5f"
            },
            "type": "carpet"
           }
          ],
          "choropleth": [
           {
            "colorbar": {
             "outlinewidth": 0,
             "ticks": ""
            },
            "type": "choropleth"
           }
          ],
          "contour": [
           {
            "colorbar": {
             "outlinewidth": 0,
             "ticks": ""
            },
            "colorscale": [
             [
              0,
              "#0d0887"
             ],
             [
              0.1111111111111111,
              "#46039f"
             ],
             [
              0.2222222222222222,
              "#7201a8"
             ],
             [
              0.3333333333333333,
              "#9c179e"
             ],
             [
              0.4444444444444444,
              "#bd3786"
             ],
             [
              0.5555555555555556,
              "#d8576b"
             ],
             [
              0.6666666666666666,
              "#ed7953"
             ],
             [
              0.7777777777777778,
              "#fb9f3a"
             ],
             [
              0.8888888888888888,
              "#fdca26"
             ],
             [
              1,
              "#f0f921"
             ]
            ],
            "type": "contour"
           }
          ],
          "contourcarpet": [
           {
            "colorbar": {
             "outlinewidth": 0,
             "ticks": ""
            },
            "type": "contourcarpet"
           }
          ],
          "heatmap": [
           {
            "colorbar": {
             "outlinewidth": 0,
             "ticks": ""
            },
            "colorscale": [
             [
              0,
              "#0d0887"
             ],
             [
              0.1111111111111111,
              "#46039f"
             ],
             [
              0.2222222222222222,
              "#7201a8"
             ],
             [
              0.3333333333333333,
              "#9c179e"
             ],
             [
              0.4444444444444444,
              "#bd3786"
             ],
             [
              0.5555555555555556,
              "#d8576b"
             ],
             [
              0.6666666666666666,
              "#ed7953"
             ],
             [
              0.7777777777777778,
              "#fb9f3a"
             ],
             [
              0.8888888888888888,
              "#fdca26"
             ],
             [
              1,
              "#f0f921"
             ]
            ],
            "type": "heatmap"
           }
          ],
          "heatmapgl": [
           {
            "colorbar": {
             "outlinewidth": 0,
             "ticks": ""
            },
            "colorscale": [
             [
              0,
              "#0d0887"
             ],
             [
              0.1111111111111111,
              "#46039f"
             ],
             [
              0.2222222222222222,
              "#7201a8"
             ],
             [
              0.3333333333333333,
              "#9c179e"
             ],
             [
              0.4444444444444444,
              "#bd3786"
             ],
             [
              0.5555555555555556,
              "#d8576b"
             ],
             [
              0.6666666666666666,
              "#ed7953"
             ],
             [
              0.7777777777777778,
              "#fb9f3a"
             ],
             [
              0.8888888888888888,
              "#fdca26"
             ],
             [
              1,
              "#f0f921"
             ]
            ],
            "type": "heatmapgl"
           }
          ],
          "histogram": [
           {
            "marker": {
             "colorbar": {
              "outlinewidth": 0,
              "ticks": ""
             }
            },
            "type": "histogram"
           }
          ],
          "histogram2d": [
           {
            "colorbar": {
             "outlinewidth": 0,
             "ticks": ""
            },
            "colorscale": [
             [
              0,
              "#0d0887"
             ],
             [
              0.1111111111111111,
              "#46039f"
             ],
             [
              0.2222222222222222,
              "#7201a8"
             ],
             [
              0.3333333333333333,
              "#9c179e"
             ],
             [
              0.4444444444444444,
              "#bd3786"
             ],
             [
              0.5555555555555556,
              "#d8576b"
             ],
             [
              0.6666666666666666,
              "#ed7953"
             ],
             [
              0.7777777777777778,
              "#fb9f3a"
             ],
             [
              0.8888888888888888,
              "#fdca26"
             ],
             [
              1,
              "#f0f921"
             ]
            ],
            "type": "histogram2d"
           }
          ],
          "histogram2dcontour": [
           {
            "colorbar": {
             "outlinewidth": 0,
             "ticks": ""
            },
            "colorscale": [
             [
              0,
              "#0d0887"
             ],
             [
              0.1111111111111111,
              "#46039f"
             ],
             [
              0.2222222222222222,
              "#7201a8"
             ],
             [
              0.3333333333333333,
              "#9c179e"
             ],
             [
              0.4444444444444444,
              "#bd3786"
             ],
             [
              0.5555555555555556,
              "#d8576b"
             ],
             [
              0.6666666666666666,
              "#ed7953"
             ],
             [
              0.7777777777777778,
              "#fb9f3a"
             ],
             [
              0.8888888888888888,
              "#fdca26"
             ],
             [
              1,
              "#f0f921"
             ]
            ],
            "type": "histogram2dcontour"
           }
          ],
          "mesh3d": [
           {
            "colorbar": {
             "outlinewidth": 0,
             "ticks": ""
            },
            "type": "mesh3d"
           }
          ],
          "parcoords": [
           {
            "line": {
             "colorbar": {
              "outlinewidth": 0,
              "ticks": ""
             }
            },
            "type": "parcoords"
           }
          ],
          "scatter": [
           {
            "marker": {
             "colorbar": {
              "outlinewidth": 0,
              "ticks": ""
             }
            },
            "type": "scatter"
           }
          ],
          "scatter3d": [
           {
            "line": {
             "colorbar": {
              "outlinewidth": 0,
              "ticks": ""
             }
            },
            "marker": {
             "colorbar": {
              "outlinewidth": 0,
              "ticks": ""
             }
            },
            "type": "scatter3d"
           }
          ],
          "scattercarpet": [
           {
            "marker": {
             "colorbar": {
              "outlinewidth": 0,
              "ticks": ""
             }
            },
            "type": "scattercarpet"
           }
          ],
          "scattergeo": [
           {
            "marker": {
             "colorbar": {
              "outlinewidth": 0,
              "ticks": ""
             }
            },
            "type": "scattergeo"
           }
          ],
          "scattergl": [
           {
            "marker": {
             "colorbar": {
              "outlinewidth": 0,
              "ticks": ""
             }
            },
            "type": "scattergl"
           }
          ],
          "scattermapbox": [
           {
            "marker": {
             "colorbar": {
              "outlinewidth": 0,
              "ticks": ""
             }
            },
            "type": "scattermapbox"
           }
          ],
          "scatterpolar": [
           {
            "marker": {
             "colorbar": {
              "outlinewidth": 0,
              "ticks": ""
             }
            },
            "type": "scatterpolar"
           }
          ],
          "scatterpolargl": [
           {
            "marker": {
             "colorbar": {
              "outlinewidth": 0,
              "ticks": ""
             }
            },
            "type": "scatterpolargl"
           }
          ],
          "scatterternary": [
           {
            "marker": {
             "colorbar": {
              "outlinewidth": 0,
              "ticks": ""
             }
            },
            "type": "scatterternary"
           }
          ],
          "surface": [
           {
            "colorbar": {
             "outlinewidth": 0,
             "ticks": ""
            },
            "colorscale": [
             [
              0,
              "#0d0887"
             ],
             [
              0.1111111111111111,
              "#46039f"
             ],
             [
              0.2222222222222222,
              "#7201a8"
             ],
             [
              0.3333333333333333,
              "#9c179e"
             ],
             [
              0.4444444444444444,
              "#bd3786"
             ],
             [
              0.5555555555555556,
              "#d8576b"
             ],
             [
              0.6666666666666666,
              "#ed7953"
             ],
             [
              0.7777777777777778,
              "#fb9f3a"
             ],
             [
              0.8888888888888888,
              "#fdca26"
             ],
             [
              1,
              "#f0f921"
             ]
            ],
            "type": "surface"
           }
          ],
          "table": [
           {
            "cells": {
             "fill": {
              "color": "#EBF0F8"
             },
             "line": {
              "color": "white"
             }
            },
            "header": {
             "fill": {
              "color": "#C8D4E3"
             },
             "line": {
              "color": "white"
             }
            },
            "type": "table"
           }
          ]
         },
         "layout": {
          "annotationdefaults": {
           "arrowcolor": "#2a3f5f",
           "arrowhead": 0,
           "arrowwidth": 1
          },
          "colorscale": {
           "diverging": [
            [
             0,
             "#8e0152"
            ],
            [
             0.1,
             "#c51b7d"
            ],
            [
             0.2,
             "#de77ae"
            ],
            [
             0.3,
             "#f1b6da"
            ],
            [
             0.4,
             "#fde0ef"
            ],
            [
             0.5,
             "#f7f7f7"
            ],
            [
             0.6,
             "#e6f5d0"
            ],
            [
             0.7,
             "#b8e186"
            ],
            [
             0.8,
             "#7fbc41"
            ],
            [
             0.9,
             "#4d9221"
            ],
            [
             1,
             "#276419"
            ]
           ],
           "sequential": [
            [
             0,
             "#0d0887"
            ],
            [
             0.1111111111111111,
             "#46039f"
            ],
            [
             0.2222222222222222,
             "#7201a8"
            ],
            [
             0.3333333333333333,
             "#9c179e"
            ],
            [
             0.4444444444444444,
             "#bd3786"
            ],
            [
             0.5555555555555556,
             "#d8576b"
            ],
            [
             0.6666666666666666,
             "#ed7953"
            ],
            [
             0.7777777777777778,
             "#fb9f3a"
            ],
            [
             0.8888888888888888,
             "#fdca26"
            ],
            [
             1,
             "#f0f921"
            ]
           ],
           "sequentialminus": [
            [
             0,
             "#0d0887"
            ],
            [
             0.1111111111111111,
             "#46039f"
            ],
            [
             0.2222222222222222,
             "#7201a8"
            ],
            [
             0.3333333333333333,
             "#9c179e"
            ],
            [
             0.4444444444444444,
             "#bd3786"
            ],
            [
             0.5555555555555556,
             "#d8576b"
            ],
            [
             0.6666666666666666,
             "#ed7953"
            ],
            [
             0.7777777777777778,
             "#fb9f3a"
            ],
            [
             0.8888888888888888,
             "#fdca26"
            ],
            [
             1,
             "#f0f921"
            ]
           ]
          },
          "colorway": [
           "#636efa",
           "#EF553B",
           "#00cc96",
           "#ab63fa",
           "#FFA15A",
           "#19d3f3",
           "#FF6692",
           "#B6E880",
           "#FF97FF",
           "#FECB52"
          ],
          "font": {
           "color": "#2a3f5f"
          },
          "geo": {
           "bgcolor": "white",
           "lakecolor": "white",
           "landcolor": "#E5ECF6",
           "showlakes": true,
           "showland": true,
           "subunitcolor": "white"
          },
          "hoverlabel": {
           "align": "left"
          },
          "hovermode": "closest",
          "mapbox": {
           "style": "light"
          },
          "paper_bgcolor": "white",
          "plot_bgcolor": "#E5ECF6",
          "polar": {
           "angularaxis": {
            "gridcolor": "white",
            "linecolor": "white",
            "ticks": ""
           },
           "bgcolor": "#E5ECF6",
           "radialaxis": {
            "gridcolor": "white",
            "linecolor": "white",
            "ticks": ""
           }
          },
          "scene": {
           "xaxis": {
            "backgroundcolor": "#E5ECF6",
            "gridcolor": "white",
            "gridwidth": 2,
            "linecolor": "white",
            "showbackground": true,
            "ticks": "",
            "zerolinecolor": "white"
           },
           "yaxis": {
            "backgroundcolor": "#E5ECF6",
            "gridcolor": "white",
            "gridwidth": 2,
            "linecolor": "white",
            "showbackground": true,
            "ticks": "",
            "zerolinecolor": "white"
           },
           "zaxis": {
            "backgroundcolor": "#E5ECF6",
            "gridcolor": "white",
            "gridwidth": 2,
            "linecolor": "white",
            "showbackground": true,
            "ticks": "",
            "zerolinecolor": "white"
           }
          },
          "shapedefaults": {
           "line": {
            "color": "#2a3f5f"
           }
          },
          "ternary": {
           "aaxis": {
            "gridcolor": "white",
            "linecolor": "white",
            "ticks": ""
           },
           "baxis": {
            "gridcolor": "white",
            "linecolor": "white",
            "ticks": ""
           },
           "bgcolor": "#E5ECF6",
           "caxis": {
            "gridcolor": "white",
            "linecolor": "white",
            "ticks": ""
           }
          },
          "title": {
           "x": 0.05
          },
          "xaxis": {
           "automargin": true,
           "gridcolor": "white",
           "linecolor": "white",
           "ticks": "",
           "zerolinecolor": "white",
           "zerolinewidth": 2
          },
          "yaxis": {
           "automargin": true,
           "gridcolor": "white",
           "linecolor": "white",
           "ticks": "",
           "zerolinecolor": "white",
           "zerolinewidth": 2
          }
         }
        },
        "title": {
         "text": "Linear regression on synthetic data"
        }
       }
      },
      "text/html": [
       "<div>\n",
       "        \n",
       "        \n",
       "            <div id=\"844474ab-5352-4aaa-bd0b-ba21e54de7a6\" class=\"plotly-graph-div\" style=\"height:525px; width:100%;\"></div>\n",
       "            <script type=\"text/javascript\">\n",
       "                require([\"plotly\"], function(Plotly) {\n",
       "                    window.PLOTLYENV=window.PLOTLYENV || {};\n",
       "                    \n",
       "                if (document.getElementById(\"844474ab-5352-4aaa-bd0b-ba21e54de7a6\")) {\n",
       "                    Plotly.newPlot(\n",
       "                        '844474ab-5352-4aaa-bd0b-ba21e54de7a6',\n",
       "                        [{\"mode\": \"markers\", \"name\": \"Data\", \"type\": \"scatter\", \"x\": [0.0, 0.10101010101010101, 0.20202020202020202, 0.30303030303030304, 0.40404040404040403, 0.5050505050505051, 0.6060606060606061, 0.7070707070707071, 0.8080808080808081, 0.9090909090909091, 1.0101010101010102, 1.1111111111111112, 1.2121212121212122, 1.3131313131313131, 1.4141414141414141, 1.5151515151515151, 1.6161616161616161, 1.7171717171717171, 1.8181818181818181, 1.9191919191919191, 2.0202020202020203, 2.121212121212121, 2.2222222222222223, 2.323232323232323, 2.4242424242424243, 2.525252525252525, 2.6262626262626263, 2.727272727272727, 2.8282828282828283, 2.929292929292929, 3.0303030303030303, 3.131313131313131, 3.2323232323232323, 3.3333333333333335, 3.4343434343434343, 3.5353535353535355, 3.6363636363636362, 3.7373737373737375, 3.8383838383838382, 3.9393939393939394, 4.040404040404041, 4.141414141414141, 4.242424242424242, 4.343434343434343, 4.444444444444445, 4.545454545454545, 4.646464646464646, 4.747474747474747, 4.848484848484849, 4.94949494949495, 5.05050505050505, 5.151515151515151, 5.252525252525253, 5.353535353535354, 5.454545454545454, 5.555555555555555, 5.656565656565657, 5.757575757575758, 5.858585858585858, 5.959595959595959, 6.0606060606060606, 6.161616161616162, 6.262626262626262, 6.363636363636363, 6.4646464646464645, 6.565656565656566, 6.666666666666667, 6.767676767676767, 6.8686868686868685, 6.96969696969697, 7.070707070707071, 7.171717171717171, 7.2727272727272725, 7.373737373737374, 7.474747474747475, 7.575757575757575, 7.6767676767676765, 7.777777777777778, 7.878787878787879, 7.979797979797979, 8.080808080808081, 8.181818181818182, 8.282828282828282, 8.383838383838384, 8.484848484848484, 8.585858585858587, 8.686868686868687, 8.787878787878787, 8.88888888888889, 8.98989898989899, 9.09090909090909, 9.191919191919192, 9.292929292929292, 9.393939393939394, 9.494949494949495, 9.595959595959595, 9.696969696969697, 9.797979797979798, 9.8989898989899, 10.0], \"y\": [0.04011145781806455, -0.08446487010824606, -0.07234209242561324, -0.010427731742529344, 0.0623609191821534, 0.07774883708512813, -0.07017100215970083, 0.09101772860796517, 0.02288555750447923, 0.05694292119937088, -0.17047900715194433, 0.0051253762652160315, 0.07361985063211691, 0.03378854095582014, 0.15409451902232185, 0.01765223488336484, -0.09592192104699393, 0.08908285676014899, -0.11523880855100815, -0.053383591131228335, -0.039454466867038254, -0.17955501481162342, 0.0017425301224580033, -0.023079861728140492, 0.08140612998787032, -0.0737667865341571, -0.13565024826572464, 0.07031976849481962, 0.04331957241923693, -0.008313049809837129, -0.14378471190936548, -0.06440253801360922, 0.022047257977165054, 0.0004856796610002937, 0.023425807495372278, 0.06598765087194566, -0.12748280789604194, -0.09331419471222367, 0.07774339266349173, 0.10727701872981601, 0.1097231848098196, -0.06722821917150809, -0.07772243229800083, 0.011112977500260642, 0.12248489778494934, 0.03749614350524855, 0.17780717837454801, -0.005811772419689755, 0.004273837764007846, 0.3119454268112384, 0.07139661294786494, -0.052810983553489926, -0.048595069988405445, 0.15078464783593507, 0.08079246798566551, 0.1800543762778335, 0.25765053079452804, 0.08248214620547474, 0.07817312817977215, 0.013189458529026504, 0.2441356016249213, 0.23799561188575435, 0.23353168787125633, 0.217254686394788, 0.20217954507556152, 0.2438445885149002, 0.2092751979164007, 0.3413393436962512, 0.21689616425229072, 0.17893017623545732, 0.2502032515412182, 0.30272820444169984, 0.3354830723669458, 0.2703783123784438, 0.4172414693792236, 0.2746977464861427, 0.3283709805609444, 0.4940504399985648, 0.4156129604849747, 0.08774142328324647, 0.47305941208483604, 0.5354355469809698, 0.587038813561612, 0.7516627093189548, 0.6931245640235418, 0.7136561109435006, 0.7949946925144988, 0.6841054069565486, 0.7271559324792903, 0.6960628859075333, 0.9551875335809961, 0.698202656465577, 1.0130468861139317, 0.8571023378968047, 0.8533827250144432, 0.7676335371460321, 1.0807850412106235, 1.17165557620358, 1.103155952453921, 1.006006847644141]}, {\"mode\": \"lines\", \"name\": \"Regressor Decision Tree\", \"text\": \"MSE: 0.015307967273608204\", \"type\": \"scatter\", \"x\": [0.0, 0.10101010101010101, 0.20202020202020202, 0.30303030303030304, 0.40404040404040403, 0.5050505050505051, 0.6060606060606061, 0.7070707070707071, 0.8080808080808081, 0.9090909090909091, 1.0101010101010102, 1.1111111111111112, 1.2121212121212122, 1.3131313131313131, 1.4141414141414141, 1.5151515151515151, 1.6161616161616161, 1.7171717171717171, 1.8181818181818181, 1.9191919191919191, 2.0202020202020203, 2.121212121212121, 2.2222222222222223, 2.323232323232323, 2.4242424242424243, 2.525252525252525, 2.6262626262626263, 2.727272727272727, 2.8282828282828283, 2.929292929292929, 3.0303030303030303, 3.131313131313131, 3.2323232323232323, 3.3333333333333335, 3.4343434343434343, 3.5353535353535355, 3.6363636363636362, 3.7373737373737375, 3.8383838383838382, 3.9393939393939394, 4.040404040404041, 4.141414141414141, 4.242424242424242, 4.343434343434343, 4.444444444444445, 4.545454545454545, 4.646464646464646, 4.747474747474747, 4.848484848484849, 4.94949494949495, 5.05050505050505, 5.151515151515151, 5.252525252525253, 5.353535353535354, 5.454545454545454, 5.555555555555555, 5.656565656565657, 5.757575757575758, 5.858585858585858, 5.959595959595959, 6.0606060606060606, 6.161616161616162, 6.262626262626262, 6.363636363636363, 6.4646464646464645, 6.565656565656566, 6.666666666666667, 6.767676767676767, 6.8686868686868685, 6.96969696969697, 7.070707070707071, 7.171717171717171, 7.2727272727272725, 7.373737373737374, 7.474747474747475, 7.575757575757575, 7.6767676767676765, 7.777777777777778, 7.878787878787879, 7.979797979797979, 8.080808080808081, 8.181818181818182, 8.282828282828282, 8.383838383838384, 8.484848484848484, 8.585858585858587, 8.686868686868687, 8.787878787878787, 8.88888888888889, 8.98989898989899, 9.09090909090909, 9.191919191919192, 9.292929292929292, 9.393939393939394, 9.494949494949495, 9.595959595959595, 9.696969696969697, 9.797979797979798, 9.8989898989899, 10.0], \"y\": [0.016681649468730415, 0.016681649468730415, 0.016681649468730415, 0.016681649468730415, 0.016681649468730415, 0.016681649468730415, 0.016681649468730415, 0.016681649468730415, 0.016681649468730415, 0.016681649468730415, 0.016681649468730415, 0.016681649468730415, 0.016681649468730415, 0.016681649468730415, 0.016681649468730415, 0.016681649468730415, 0.016681649468730415, 0.016681649468730415, 0.016681649468730415, 0.016681649468730415, 0.016681649468730415, 0.016681649468730415, 0.016681649468730415, 0.016681649468730415, 0.016681649468730415, 0.016681649468730415, 0.016681649468730415, 0.016681649468730415, 0.016681649468730415, 0.016681649468730415, 0.016681649468730415, 0.016681649468730415, 0.016681649468730415, 0.016681649468730415, 0.016681649468730415, 0.016681649468730415, -0.03270013246889727, -0.03270013246889727, -0.03270013246889727, -0.03270013246889727, -0.03270013246889727, -0.03270013246889727, -0.03270013246889727, -0.03270013246889727, -0.03270013246889727, -0.03270013246889727, -0.03270013246889727, -0.03270013246889727, -0.03270013246889727, 0.160657458723195, 0.160657458723195, 0.160657458723195, 0.160657458723195, 0.160657458723195, 0.160657458723195, 0.160657458723195, 0.160657458723195, 0.160657458723195, 0.160657458723195, 0.160657458723195, 0.160657458723195, 0.160657458723195, 0.160657458723195, 0.160657458723195, 0.160657458723195, 0.160657458723195, 0.160657458723195, 0.160657458723195, 0.160657458723195, 0.160657458723195, 0.160657458723195, 0.160657458723195, 0.160657458723195, 0.160657458723195, 0.5263387428253883, 0.5263387428253883, 0.5263387428253883, 0.5263387428253883, 0.5263387428253883, 0.5263387428253883, 0.5263387428253883, 0.5263387428253883, 0.5263387428253883, 0.5263387428253883, 0.5263387428253883, 0.5263387428253883, 0.5263387428253883, 0.5263387428253883, 0.5263387428253883, 0.5263387428253883, 0.9595440102488382, 0.9595440102488382, 0.9595440102488382, 0.9595440102488382, 0.9595440102488382, 0.9595440102488382, 0.9595440102488382, 0.9595440102488382, 0.9595440102488382, 0.9595440102488382]}],\n",
       "                        {\"template\": {\"data\": {\"bar\": [{\"error_x\": {\"color\": \"#2a3f5f\"}, \"error_y\": {\"color\": \"#2a3f5f\"}, \"marker\": {\"line\": {\"color\": \"#E5ECF6\", \"width\": 0.5}}, \"type\": \"bar\"}], \"barpolar\": [{\"marker\": {\"line\": {\"color\": \"#E5ECF6\", \"width\": 0.5}}, \"type\": \"barpolar\"}], \"carpet\": [{\"aaxis\": {\"endlinecolor\": \"#2a3f5f\", \"gridcolor\": \"white\", \"linecolor\": \"white\", \"minorgridcolor\": \"white\", \"startlinecolor\": \"#2a3f5f\"}, \"baxis\": {\"endlinecolor\": \"#2a3f5f\", \"gridcolor\": \"white\", \"linecolor\": \"white\", \"minorgridcolor\": \"white\", \"startlinecolor\": \"#2a3f5f\"}, \"type\": \"carpet\"}], \"choropleth\": [{\"colorbar\": {\"outlinewidth\": 0, \"ticks\": \"\"}, \"type\": \"choropleth\"}], \"contour\": [{\"colorbar\": {\"outlinewidth\": 0, \"ticks\": \"\"}, \"colorscale\": [[0.0, \"#0d0887\"], [0.1111111111111111, \"#46039f\"], [0.2222222222222222, \"#7201a8\"], [0.3333333333333333, \"#9c179e\"], [0.4444444444444444, \"#bd3786\"], [0.5555555555555556, \"#d8576b\"], [0.6666666666666666, \"#ed7953\"], [0.7777777777777778, \"#fb9f3a\"], [0.8888888888888888, \"#fdca26\"], [1.0, \"#f0f921\"]], \"type\": \"contour\"}], \"contourcarpet\": [{\"colorbar\": {\"outlinewidth\": 0, \"ticks\": \"\"}, \"type\": \"contourcarpet\"}], \"heatmap\": [{\"colorbar\": {\"outlinewidth\": 0, \"ticks\": \"\"}, \"colorscale\": [[0.0, \"#0d0887\"], [0.1111111111111111, \"#46039f\"], [0.2222222222222222, \"#7201a8\"], [0.3333333333333333, \"#9c179e\"], [0.4444444444444444, \"#bd3786\"], [0.5555555555555556, \"#d8576b\"], [0.6666666666666666, \"#ed7953\"], [0.7777777777777778, \"#fb9f3a\"], [0.8888888888888888, \"#fdca26\"], [1.0, \"#f0f921\"]], \"type\": \"heatmap\"}], \"heatmapgl\": [{\"colorbar\": {\"outlinewidth\": 0, \"ticks\": \"\"}, \"colorscale\": [[0.0, \"#0d0887\"], [0.1111111111111111, \"#46039f\"], [0.2222222222222222, \"#7201a8\"], [0.3333333333333333, \"#9c179e\"], [0.4444444444444444, \"#bd3786\"], [0.5555555555555556, \"#d8576b\"], [0.6666666666666666, \"#ed7953\"], [0.7777777777777778, \"#fb9f3a\"], [0.8888888888888888, \"#fdca26\"], [1.0, \"#f0f921\"]], \"type\": \"heatmapgl\"}], \"histogram\": [{\"marker\": {\"colorbar\": {\"outlinewidth\": 0, \"ticks\": \"\"}}, \"type\": \"histogram\"}], \"histogram2d\": [{\"colorbar\": {\"outlinewidth\": 0, \"ticks\": \"\"}, \"colorscale\": [[0.0, \"#0d0887\"], [0.1111111111111111, \"#46039f\"], [0.2222222222222222, \"#7201a8\"], [0.3333333333333333, \"#9c179e\"], [0.4444444444444444, \"#bd3786\"], [0.5555555555555556, \"#d8576b\"], [0.6666666666666666, \"#ed7953\"], [0.7777777777777778, \"#fb9f3a\"], [0.8888888888888888, \"#fdca26\"], [1.0, \"#f0f921\"]], \"type\": \"histogram2d\"}], \"histogram2dcontour\": [{\"colorbar\": {\"outlinewidth\": 0, \"ticks\": \"\"}, \"colorscale\": [[0.0, \"#0d0887\"], [0.1111111111111111, \"#46039f\"], [0.2222222222222222, \"#7201a8\"], [0.3333333333333333, \"#9c179e\"], [0.4444444444444444, \"#bd3786\"], [0.5555555555555556, \"#d8576b\"], [0.6666666666666666, \"#ed7953\"], [0.7777777777777778, \"#fb9f3a\"], [0.8888888888888888, \"#fdca26\"], [1.0, \"#f0f921\"]], \"type\": \"histogram2dcontour\"}], \"mesh3d\": [{\"colorbar\": {\"outlinewidth\": 0, \"ticks\": \"\"}, \"type\": \"mesh3d\"}], \"parcoords\": [{\"line\": {\"colorbar\": {\"outlinewidth\": 0, \"ticks\": \"\"}}, \"type\": \"parcoords\"}], \"scatter\": [{\"marker\": {\"colorbar\": {\"outlinewidth\": 0, \"ticks\": \"\"}}, \"type\": \"scatter\"}], \"scatter3d\": [{\"line\": {\"colorbar\": {\"outlinewidth\": 0, \"ticks\": \"\"}}, \"marker\": {\"colorbar\": {\"outlinewidth\": 0, \"ticks\": \"\"}}, \"type\": \"scatter3d\"}], \"scattercarpet\": [{\"marker\": {\"colorbar\": {\"outlinewidth\": 0, \"ticks\": \"\"}}, \"type\": \"scattercarpet\"}], \"scattergeo\": [{\"marker\": {\"colorbar\": {\"outlinewidth\": 0, \"ticks\": \"\"}}, \"type\": \"scattergeo\"}], \"scattergl\": [{\"marker\": {\"colorbar\": {\"outlinewidth\": 0, \"ticks\": \"\"}}, \"type\": \"scattergl\"}], \"scattermapbox\": [{\"marker\": {\"colorbar\": {\"outlinewidth\": 0, \"ticks\": \"\"}}, \"type\": \"scattermapbox\"}], \"scatterpolar\": [{\"marker\": {\"colorbar\": {\"outlinewidth\": 0, \"ticks\": \"\"}}, \"type\": \"scatterpolar\"}], \"scatterpolargl\": [{\"marker\": {\"colorbar\": {\"outlinewidth\": 0, \"ticks\": \"\"}}, \"type\": \"scatterpolargl\"}], \"scatterternary\": [{\"marker\": {\"colorbar\": {\"outlinewidth\": 0, \"ticks\": \"\"}}, \"type\": \"scatterternary\"}], \"surface\": [{\"colorbar\": {\"outlinewidth\": 0, \"ticks\": \"\"}, \"colorscale\": [[0.0, \"#0d0887\"], [0.1111111111111111, \"#46039f\"], [0.2222222222222222, \"#7201a8\"], [0.3333333333333333, \"#9c179e\"], [0.4444444444444444, \"#bd3786\"], [0.5555555555555556, \"#d8576b\"], [0.6666666666666666, \"#ed7953\"], [0.7777777777777778, \"#fb9f3a\"], [0.8888888888888888, \"#fdca26\"], [1.0, \"#f0f921\"]], \"type\": \"surface\"}], \"table\": [{\"cells\": {\"fill\": {\"color\": \"#EBF0F8\"}, \"line\": {\"color\": \"white\"}}, \"header\": {\"fill\": {\"color\": \"#C8D4E3\"}, \"line\": {\"color\": \"white\"}}, \"type\": \"table\"}]}, \"layout\": {\"annotationdefaults\": {\"arrowcolor\": \"#2a3f5f\", \"arrowhead\": 0, \"arrowwidth\": 1}, \"colorscale\": {\"diverging\": [[0, \"#8e0152\"], [0.1, \"#c51b7d\"], [0.2, \"#de77ae\"], [0.3, \"#f1b6da\"], [0.4, \"#fde0ef\"], [0.5, \"#f7f7f7\"], [0.6, \"#e6f5d0\"], [0.7, \"#b8e186\"], [0.8, \"#7fbc41\"], [0.9, \"#4d9221\"], [1, \"#276419\"]], \"sequential\": [[0.0, \"#0d0887\"], [0.1111111111111111, \"#46039f\"], [0.2222222222222222, \"#7201a8\"], [0.3333333333333333, \"#9c179e\"], [0.4444444444444444, \"#bd3786\"], [0.5555555555555556, \"#d8576b\"], [0.6666666666666666, \"#ed7953\"], [0.7777777777777778, \"#fb9f3a\"], [0.8888888888888888, \"#fdca26\"], [1.0, \"#f0f921\"]], \"sequentialminus\": [[0.0, \"#0d0887\"], [0.1111111111111111, \"#46039f\"], [0.2222222222222222, \"#7201a8\"], [0.3333333333333333, \"#9c179e\"], [0.4444444444444444, \"#bd3786\"], [0.5555555555555556, \"#d8576b\"], [0.6666666666666666, \"#ed7953\"], [0.7777777777777778, \"#fb9f3a\"], [0.8888888888888888, \"#fdca26\"], [1.0, \"#f0f921\"]]}, \"colorway\": [\"#636efa\", \"#EF553B\", \"#00cc96\", \"#ab63fa\", \"#FFA15A\", \"#19d3f3\", \"#FF6692\", \"#B6E880\", \"#FF97FF\", \"#FECB52\"], \"font\": {\"color\": \"#2a3f5f\"}, \"geo\": {\"bgcolor\": \"white\", \"lakecolor\": \"white\", \"landcolor\": \"#E5ECF6\", \"showlakes\": true, \"showland\": true, \"subunitcolor\": \"white\"}, \"hoverlabel\": {\"align\": \"left\"}, \"hovermode\": \"closest\", \"mapbox\": {\"style\": \"light\"}, \"paper_bgcolor\": \"white\", \"plot_bgcolor\": \"#E5ECF6\", \"polar\": {\"angularaxis\": {\"gridcolor\": \"white\", \"linecolor\": \"white\", \"ticks\": \"\"}, \"bgcolor\": \"#E5ECF6\", \"radialaxis\": {\"gridcolor\": \"white\", \"linecolor\": \"white\", \"ticks\": \"\"}}, \"scene\": {\"xaxis\": {\"backgroundcolor\": \"#E5ECF6\", \"gridcolor\": \"white\", \"gridwidth\": 2, \"linecolor\": \"white\", \"showbackground\": true, \"ticks\": \"\", \"zerolinecolor\": \"white\"}, \"yaxis\": {\"backgroundcolor\": \"#E5ECF6\", \"gridcolor\": \"white\", \"gridwidth\": 2, \"linecolor\": \"white\", \"showbackground\": true, \"ticks\": \"\", \"zerolinecolor\": \"white\"}, \"zaxis\": {\"backgroundcolor\": \"#E5ECF6\", \"gridcolor\": \"white\", \"gridwidth\": 2, \"linecolor\": \"white\", \"showbackground\": true, \"ticks\": \"\", \"zerolinecolor\": \"white\"}}, \"shapedefaults\": {\"line\": {\"color\": \"#2a3f5f\"}}, \"ternary\": {\"aaxis\": {\"gridcolor\": \"white\", \"linecolor\": \"white\", \"ticks\": \"\"}, \"baxis\": {\"gridcolor\": \"white\", \"linecolor\": \"white\", \"ticks\": \"\"}, \"bgcolor\": \"#E5ECF6\", \"caxis\": {\"gridcolor\": \"white\", \"linecolor\": \"white\", \"ticks\": \"\"}}, \"title\": {\"x\": 0.05}, \"xaxis\": {\"automargin\": true, \"gridcolor\": \"white\", \"linecolor\": \"white\", \"ticks\": \"\", \"zerolinecolor\": \"white\", \"zerolinewidth\": 2}, \"yaxis\": {\"automargin\": true, \"gridcolor\": \"white\", \"linecolor\": \"white\", \"ticks\": \"\", \"zerolinecolor\": \"white\", \"zerolinewidth\": 2}}}, \"title\": {\"text\": \"Linear regression on synthetic data\"}},\n",
       "                        {\"responsive\": true}\n",
       "                    ).then(function(){\n",
       "                            \n",
       "var gd = document.getElementById('844474ab-5352-4aaa-bd0b-ba21e54de7a6');\n",
       "var x = new MutationObserver(function (mutations, observer) {{\n",
       "        var display = window.getComputedStyle(gd).display;\n",
       "        if (!display || display === 'none') {{\n",
       "            console.log([gd, 'removed!']);\n",
       "            Plotly.purge(gd);\n",
       "            observer.disconnect();\n",
       "        }}\n",
       "}});\n",
       "\n",
       "// Listen for the removal of the full notebook cells\n",
       "var notebookContainer = gd.closest('#notebook-container');\n",
       "if (notebookContainer) {{\n",
       "    x.observe(notebookContainer, {childList: true});\n",
       "}}\n",
       "\n",
       "// Listen for the clearing of the current output cell\n",
       "var outputEl = gd.closest('.output');\n",
       "if (outputEl) {{\n",
       "    x.observe(outputEl, {childList: true});\n",
       "}}\n",
       "\n",
       "                        })\n",
       "                };\n",
       "                });\n",
       "            </script>\n",
       "        </div>"
      ]
     },
     "metadata": {},
     "output_type": "display_data"
    }
   ],
   "source": [
    "tree = build_tree(pd.DataFrame([x_train,y_train]).T,5,10,kind=\"reg\")\n",
    "preds = []\n",
    "for i in range(len(pd.DataFrame([x,y]).T)):\n",
    "    example = pd.DataFrame([x,y]).T.iloc[i,:].to_frame().T\n",
    "    preds.append(predict(tree,example))\n",
    "    \n",
    "iplot(reg_plotly_plot(x,y,\n",
    "                      [np.array(preds)],\n",
    "                      [\"Decision Tree\"]\n",
    "                     )\n",
    "     )"
   ]
  },
  {
   "cell_type": "markdown",
   "metadata": {},
   "source": [
    "### SKLearn (very basic)"
   ]
  },
  {
   "cell_type": "code",
   "execution_count": 42,
   "metadata": {},
   "outputs": [],
   "source": [
    "from sklearn import linear_model\n",
    "from sklearn.neighbors import KNeighborsRegressor\n",
    "from sklearn.tree import DecisionTreeRegressor"
   ]
  },
  {
   "cell_type": "code",
   "execution_count": 43,
   "metadata": {},
   "outputs": [],
   "source": [
    "lin_reg = linear_model.RidgeCV()\n",
    "lin_reg.fit(x_train.reshape(-1, 1),y_train)\n",
    "lin_preds = lin_reg.predict(x.reshape(-1,1))"
   ]
  },
  {
   "cell_type": "code",
   "execution_count": 44,
   "metadata": {},
   "outputs": [],
   "source": [
    "knn = KNeighborsRegressor(3)\n",
    "knn.fit(x_train.reshape(-1,1), y_train)\n",
    "knn_preds = knn.predict(x.reshape(-1,1))"
   ]
  },
  {
   "cell_type": "code",
   "execution_count": 45,
   "metadata": {},
   "outputs": [],
   "source": [
    "dt_reg = DecisionTreeRegressor()\n",
    "dt_reg.fit(x_train.reshape(-1, 1),y_train)\n",
    "dt_preds = dt_reg.predict(x.reshape(-1,1))"
   ]
  },
  {
   "cell_type": "code",
   "execution_count": 46,
   "metadata": {},
   "outputs": [
    {
     "data": {
      "application/vnd.plotly.v1+json": {
       "config": {
        "linkText": "Export to plot.ly",
        "plotlyServerURL": "https://plot.ly",
        "showLink": false
       },
       "data": [
        {
         "mode": "markers",
         "name": "Data",
         "type": "scatter",
         "x": [
          0,
          0.10101010101010101,
          0.20202020202020202,
          0.30303030303030304,
          0.40404040404040403,
          0.5050505050505051,
          0.6060606060606061,
          0.7070707070707071,
          0.8080808080808081,
          0.9090909090909091,
          1.0101010101010102,
          1.1111111111111112,
          1.2121212121212122,
          1.3131313131313131,
          1.4141414141414141,
          1.5151515151515151,
          1.6161616161616161,
          1.7171717171717171,
          1.8181818181818181,
          1.9191919191919191,
          2.0202020202020203,
          2.121212121212121,
          2.2222222222222223,
          2.323232323232323,
          2.4242424242424243,
          2.525252525252525,
          2.6262626262626263,
          2.727272727272727,
          2.8282828282828283,
          2.929292929292929,
          3.0303030303030303,
          3.131313131313131,
          3.2323232323232323,
          3.3333333333333335,
          3.4343434343434343,
          3.5353535353535355,
          3.6363636363636362,
          3.7373737373737375,
          3.8383838383838382,
          3.9393939393939394,
          4.040404040404041,
          4.141414141414141,
          4.242424242424242,
          4.343434343434343,
          4.444444444444445,
          4.545454545454545,
          4.646464646464646,
          4.747474747474747,
          4.848484848484849,
          4.94949494949495,
          5.05050505050505,
          5.151515151515151,
          5.252525252525253,
          5.353535353535354,
          5.454545454545454,
          5.555555555555555,
          5.656565656565657,
          5.757575757575758,
          5.858585858585858,
          5.959595959595959,
          6.0606060606060606,
          6.161616161616162,
          6.262626262626262,
          6.363636363636363,
          6.4646464646464645,
          6.565656565656566,
          6.666666666666667,
          6.767676767676767,
          6.8686868686868685,
          6.96969696969697,
          7.070707070707071,
          7.171717171717171,
          7.2727272727272725,
          7.373737373737374,
          7.474747474747475,
          7.575757575757575,
          7.6767676767676765,
          7.777777777777778,
          7.878787878787879,
          7.979797979797979,
          8.080808080808081,
          8.181818181818182,
          8.282828282828282,
          8.383838383838384,
          8.484848484848484,
          8.585858585858587,
          8.686868686868687,
          8.787878787878787,
          8.88888888888889,
          8.98989898989899,
          9.09090909090909,
          9.191919191919192,
          9.292929292929292,
          9.393939393939394,
          9.494949494949495,
          9.595959595959595,
          9.696969696969697,
          9.797979797979798,
          9.8989898989899,
          10
         ],
         "y": [
          0.04011145781806455,
          -0.08446487010824606,
          -0.07234209242561324,
          -0.010427731742529344,
          0.0623609191821534,
          0.07774883708512813,
          -0.07017100215970083,
          0.09101772860796517,
          0.02288555750447923,
          0.05694292119937088,
          -0.17047900715194433,
          0.0051253762652160315,
          0.07361985063211691,
          0.03378854095582014,
          0.15409451902232185,
          0.01765223488336484,
          -0.09592192104699393,
          0.08908285676014899,
          -0.11523880855100815,
          -0.053383591131228335,
          -0.039454466867038254,
          -0.17955501481162342,
          0.0017425301224580033,
          -0.023079861728140492,
          0.08140612998787032,
          -0.0737667865341571,
          -0.13565024826572464,
          0.07031976849481962,
          0.04331957241923693,
          -0.008313049809837129,
          -0.14378471190936548,
          -0.06440253801360922,
          0.022047257977165054,
          0.0004856796610002937,
          0.023425807495372278,
          0.06598765087194566,
          -0.12748280789604194,
          -0.09331419471222367,
          0.07774339266349173,
          0.10727701872981601,
          0.1097231848098196,
          -0.06722821917150809,
          -0.07772243229800083,
          0.011112977500260642,
          0.12248489778494934,
          0.03749614350524855,
          0.17780717837454801,
          -0.005811772419689755,
          0.004273837764007846,
          0.3119454268112384,
          0.07139661294786494,
          -0.052810983553489926,
          -0.048595069988405445,
          0.15078464783593507,
          0.08079246798566551,
          0.1800543762778335,
          0.25765053079452804,
          0.08248214620547474,
          0.07817312817977215,
          0.013189458529026504,
          0.2441356016249213,
          0.23799561188575435,
          0.23353168787125633,
          0.217254686394788,
          0.20217954507556152,
          0.2438445885149002,
          0.2092751979164007,
          0.3413393436962512,
          0.21689616425229072,
          0.17893017623545732,
          0.2502032515412182,
          0.30272820444169984,
          0.3354830723669458,
          0.2703783123784438,
          0.4172414693792236,
          0.2746977464861427,
          0.3283709805609444,
          0.4940504399985648,
          0.4156129604849747,
          0.08774142328324647,
          0.47305941208483604,
          0.5354355469809698,
          0.587038813561612,
          0.7516627093189548,
          0.6931245640235418,
          0.7136561109435006,
          0.7949946925144988,
          0.6841054069565486,
          0.7271559324792903,
          0.6960628859075333,
          0.9551875335809961,
          0.698202656465577,
          1.0130468861139317,
          0.8571023378968047,
          0.8533827250144432,
          0.7676335371460321,
          1.0807850412106235,
          1.17165557620358,
          1.103155952453921,
          1.006006847644141
         ]
        },
        {
         "mode": "lines",
         "name": "Regressor Lin",
         "text": "MSE: 0.036755583488186194",
         "type": "scatter",
         "x": [
          0,
          0.10101010101010101,
          0.20202020202020202,
          0.30303030303030304,
          0.40404040404040403,
          0.5050505050505051,
          0.6060606060606061,
          0.7070707070707071,
          0.8080808080808081,
          0.9090909090909091,
          1.0101010101010102,
          1.1111111111111112,
          1.2121212121212122,
          1.3131313131313131,
          1.4141414141414141,
          1.5151515151515151,
          1.6161616161616161,
          1.7171717171717171,
          1.8181818181818181,
          1.9191919191919191,
          2.0202020202020203,
          2.121212121212121,
          2.2222222222222223,
          2.323232323232323,
          2.4242424242424243,
          2.525252525252525,
          2.6262626262626263,
          2.727272727272727,
          2.8282828282828283,
          2.929292929292929,
          3.0303030303030303,
          3.131313131313131,
          3.2323232323232323,
          3.3333333333333335,
          3.4343434343434343,
          3.5353535353535355,
          3.6363636363636362,
          3.7373737373737375,
          3.8383838383838382,
          3.9393939393939394,
          4.040404040404041,
          4.141414141414141,
          4.242424242424242,
          4.343434343434343,
          4.444444444444445,
          4.545454545454545,
          4.646464646464646,
          4.747474747474747,
          4.848484848484849,
          4.94949494949495,
          5.05050505050505,
          5.151515151515151,
          5.252525252525253,
          5.353535353535354,
          5.454545454545454,
          5.555555555555555,
          5.656565656565657,
          5.757575757575758,
          5.858585858585858,
          5.959595959595959,
          6.0606060606060606,
          6.161616161616162,
          6.262626262626262,
          6.363636363636363,
          6.4646464646464645,
          6.565656565656566,
          6.666666666666667,
          6.767676767676767,
          6.8686868686868685,
          6.96969696969697,
          7.070707070707071,
          7.171717171717171,
          7.2727272727272725,
          7.373737373737374,
          7.474747474747475,
          7.575757575757575,
          7.6767676767676765,
          7.777777777777778,
          7.878787878787879,
          7.979797979797979,
          8.080808080808081,
          8.181818181818182,
          8.282828282828282,
          8.383838383838384,
          8.484848484848484,
          8.585858585858587,
          8.686868686868687,
          8.787878787878787,
          8.88888888888889,
          8.98989898989899,
          9.09090909090909,
          9.191919191919192,
          9.292929292929292,
          9.393939393939394,
          9.494949494949495,
          9.595959595959595,
          9.696969696969697,
          9.797979797979798,
          9.8989898989899,
          10
         ],
         "y": [
          -0.34284130336987473,
          -0.33142141407766557,
          -0.3200015247854564,
          -0.30858163549324724,
          -0.2971617462010381,
          -0.2857418569088289,
          -0.27432196761661976,
          -0.2629020783244106,
          -0.25148218903220143,
          -0.24006229973999227,
          -0.2286424104477831,
          -0.21722252115557394,
          -0.2058026318633648,
          -0.19438274257115565,
          -0.18296285327894649,
          -0.17154296398673732,
          -0.16012307469452816,
          -0.148703185402319,
          -0.13728329611010984,
          -0.12586340681790067,
          -0.11444351752569151,
          -0.10302362823348238,
          -0.09160373894127316,
          -0.08018384964906405,
          -0.06876396035685489,
          -0.05734407106464573,
          -0.04592418177243657,
          -0.034504292480227405,
          -0.023084403188018243,
          -0.011664513895809081,
          -0.0002446246035999189,
          0.011175264688609243,
          0.022595153980818405,
          0.03401504327302757,
          0.04543493256523673,
          0.05685482185744589,
          0.06827471114965505,
          0.07969460044186422,
          0.09111448973407338,
          0.10253437902628254,
          0.1139542683184917,
          0.1253741576107008,
          0.13679404690290997,
          0.1482139361951192,
          0.1596338254873284,
          0.17105371477953746,
          0.18247360407174662,
          0.19389349336395578,
          0.20531338265616494,
          0.21673327194837422,
          0.22815316124058327,
          0.23957305053279243,
          0.2509929398250016,
          0.26241282911721076,
          0.2738327184094199,
          0.2852526077016291,
          0.29667249699383824,
          0.3080923862860474,
          0.31951227557825657,
          0.33093216487046573,
          0.3423520541626749,
          0.35377194345488405,
          0.3651918327470932,
          0.3766117220393024,
          0.38803161133151154,
          0.3994515006237207,
          0.41087138991592986,
          0.422291279208139,
          0.4337111685003482,
          0.44513105779255735,
          0.4565509470847665,
          0.46797083637697556,
          0.47939072566918484,
          0.490810614961394,
          0.5022305042536032,
          0.5136503935458122,
          0.5250702828380215,
          0.5364901721302306,
          0.5479100614224398,
          0.5593299507146489,
          0.5707498400068581,
          0.5821697292990673,
          0.5935896185912763,
          0.6050095078834856,
          0.6164293971756947,
          0.6278492864679039,
          0.6392691757601131,
          0.6506890650523222,
          0.6621089543445315,
          0.6735288436367406,
          0.6849487329289496,
          0.6963686222211589,
          0.707788511513368,
          0.7192084008055772,
          0.7306282900977863,
          0.7420481793899953,
          0.7534680686822046,
          0.7648879579744139,
          0.7763078472666232,
          0.7877277365588322
         ]
        },
        {
         "mode": "lines",
         "name": "Regressor KNN",
         "text": "MSE: 0.010961709570914878",
         "type": "scatter",
         "x": [
          0,
          0.10101010101010101,
          0.20202020202020202,
          0.30303030303030304,
          0.40404040404040403,
          0.5050505050505051,
          0.6060606060606061,
          0.7070707070707071,
          0.8080808080808081,
          0.9090909090909091,
          1.0101010101010102,
          1.1111111111111112,
          1.2121212121212122,
          1.3131313131313131,
          1.4141414141414141,
          1.5151515151515151,
          1.6161616161616161,
          1.7171717171717171,
          1.8181818181818181,
          1.9191919191919191,
          2.0202020202020203,
          2.121212121212121,
          2.2222222222222223,
          2.323232323232323,
          2.4242424242424243,
          2.525252525252525,
          2.6262626262626263,
          2.727272727272727,
          2.8282828282828283,
          2.929292929292929,
          3.0303030303030303,
          3.131313131313131,
          3.2323232323232323,
          3.3333333333333335,
          3.4343434343434343,
          3.5353535353535355,
          3.6363636363636362,
          3.7373737373737375,
          3.8383838383838382,
          3.9393939393939394,
          4.040404040404041,
          4.141414141414141,
          4.242424242424242,
          4.343434343434343,
          4.444444444444445,
          4.545454545454545,
          4.646464646464646,
          4.747474747474747,
          4.848484848484849,
          4.94949494949495,
          5.05050505050505,
          5.151515151515151,
          5.252525252525253,
          5.353535353535354,
          5.454545454545454,
          5.555555555555555,
          5.656565656565657,
          5.757575757575758,
          5.858585858585858,
          5.959595959595959,
          6.0606060606060606,
          6.161616161616162,
          6.262626262626262,
          6.363636363636363,
          6.4646464646464645,
          6.565656565656566,
          6.666666666666667,
          6.767676767676767,
          6.8686868686868685,
          6.96969696969697,
          7.070707070707071,
          7.171717171717171,
          7.2727272727272725,
          7.373737373737374,
          7.474747474747475,
          7.575757575757575,
          7.6767676767676765,
          7.777777777777778,
          7.878787878787879,
          7.979797979797979,
          8.080808080808081,
          8.181818181818182,
          8.282828282828282,
          8.383838383838384,
          8.484848484848484,
          8.585858585858587,
          8.686868686868687,
          8.787878787878787,
          8.88888888888889,
          8.98989898989899,
          9.09090909090909,
          9.191919191919192,
          9.292929292929292,
          9.393939393939394,
          9.494949494949495,
          9.595959595959595,
          9.696969696969697,
          9.797979797979798,
          9.8989898989899,
          10
         ],
         "y": [
          0.03006888761569267,
          0.03006888761569267,
          0.03006888761569267,
          0.03006888761569267,
          0.03006888761569267,
          0.03006888761569267,
          0.03006888761569267,
          0.03006888761569267,
          0.05808474840724143,
          0.05808474840724143,
          0.05808474840724143,
          0.05808474840724143,
          0.05808474840724143,
          0.05808474840724143,
          0.02447518213615188,
          0.02447518213615188,
          0.024475182136151883,
          -0.007742265876726891,
          -0.007742265876726891,
          -0.007742265876726888,
          -0.007742265876726888,
          -0.007742265876726888,
          -0.007742265876726888,
          -0.032120322867099094,
          -0.032120322867099094,
          -0.032120322867099094,
          -0.032120322867099094,
          -0.032120322867099094,
          -0.032120322867099094,
          -0.032120322867099094,
          -0.0024311520004037107,
          -0.020336492454365324,
          -0.020336492454365324,
          -0.020336492454365324,
          -0.020336492454365324,
          -0.05160311724543998,
          -0.05160311724543998,
          -0.04768453664825797,
          -0.04768453664825797,
          -0.018904348559841484,
          -0.018904348559841484,
          -0.04111448694758518,
          -0.04111448694758518,
          -0.006206366055332968,
          -0.006206366055332968,
          -0.006206366055332968,
          0.12018484927224919,
          0.14027939442145063,
          0.14027939442145063,
          0.11158232325689928,
          0.11158232325689928,
          0.11158232325689928,
          0.11158232325689928,
          0.06761863974576432,
          0.06761863974576432,
          0.048216254939484844,
          0.04821625493948486,
          0.14374648223087147,
          0.14374648223087147,
          0.14374648223087147,
          0.1511215384967808,
          0.1511215384967808,
          0.15112153849678078,
          0.21648345162590554,
          0.21648345162590554,
          0.21648345162590554,
          0.1967949730758065,
          0.1967949730758065,
          0.2128028752310254,
          0.2128028752310254,
          0.28212496571863305,
          0.28212496571863305,
          0.3615620634332218,
          0.3615620634332218,
          0.44284445958567065,
          0.44284445958567065,
          0.44284445958567065,
          0.44284445958567065,
          0.4800564213894123,
          0.4800564213894123,
          0.4800564213894123,
          0.4800564213894123,
          0.5532583117043909,
          0.5532583117043909,
          0.5532583117043909,
          0.7883021768106767,
          0.7883021768106767,
          0.7883021768106767,
          0.8688126510231751,
          0.8688126510231751,
          0.8688126510231751,
          0.974473984425308,
          0.9417789191972442,
          0.9078439830083932,
          0.8260395333524267,
          0.8260395333524267,
          1.0141483552678443,
          1.0141483552678443,
          1.0141483552678443,
          1.0141483552678443
         ]
        },
        {
         "mode": "lines",
         "name": "Regressor DT",
         "text": "MSE: 0.008945006817559466",
         "type": "scatter",
         "x": [
          0,
          0.10101010101010101,
          0.20202020202020202,
          0.30303030303030304,
          0.40404040404040403,
          0.5050505050505051,
          0.6060606060606061,
          0.7070707070707071,
          0.8080808080808081,
          0.9090909090909091,
          1.0101010101010102,
          1.1111111111111112,
          1.2121212121212122,
          1.3131313131313131,
          1.4141414141414141,
          1.5151515151515151,
          1.6161616161616161,
          1.7171717171717171,
          1.8181818181818181,
          1.9191919191919191,
          2.0202020202020203,
          2.121212121212121,
          2.2222222222222223,
          2.323232323232323,
          2.4242424242424243,
          2.525252525252525,
          2.6262626262626263,
          2.727272727272727,
          2.8282828282828283,
          2.929292929292929,
          3.0303030303030303,
          3.131313131313131,
          3.2323232323232323,
          3.3333333333333335,
          3.4343434343434343,
          3.5353535353535355,
          3.6363636363636362,
          3.7373737373737375,
          3.8383838383838382,
          3.9393939393939394,
          4.040404040404041,
          4.141414141414141,
          4.242424242424242,
          4.343434343434343,
          4.444444444444445,
          4.545454545454545,
          4.646464646464646,
          4.747474747474747,
          4.848484848484849,
          4.94949494949495,
          5.05050505050505,
          5.151515151515151,
          5.252525252525253,
          5.353535353535354,
          5.454545454545454,
          5.555555555555555,
          5.656565656565657,
          5.757575757575758,
          5.858585858585858,
          5.959595959595959,
          6.0606060606060606,
          6.161616161616162,
          6.262626262626262,
          6.363636363636363,
          6.4646464646464645,
          6.565656565656566,
          6.666666666666667,
          6.767676767676767,
          6.8686868686868685,
          6.96969696969697,
          7.070707070707071,
          7.171717171717171,
          7.2727272727272725,
          7.373737373737374,
          7.474747474747475,
          7.575757575757575,
          7.6767676767676765,
          7.777777777777778,
          7.878787878787879,
          7.979797979797979,
          8.080808080808081,
          8.181818181818182,
          8.282828282828282,
          8.383838383838384,
          8.484848484848484,
          8.585858585858587,
          8.686868686868687,
          8.787878787878787,
          8.88888888888889,
          8.98989898989899,
          9.09090909090909,
          9.191919191919192,
          9.292929292929292,
          9.393939393939394,
          9.494949494949495,
          9.595959595959595,
          9.696969696969697,
          9.797979797979798,
          9.8989898989899,
          10
         ],
         "y": [
          -0.010427731742529344,
          -0.010427731742529344,
          -0.010427731742529344,
          -0.010427731742529344,
          -0.010427731742529344,
          0.07774883708512813,
          0.07774883708512813,
          0.02288555750447923,
          0.02288555750447923,
          0.02288555750447923,
          0.02288555750447923,
          0.07361985063211691,
          0.07361985063211691,
          0.07361985063211691,
          0.07361985063211691,
          0.07361985063211691,
          0.07361985063211691,
          0.07361985063211691,
          -0.023079861728140492,
          -0.023079861728140492,
          -0.023079861728140492,
          -0.023079861728140492,
          -0.023079861728140492,
          -0.023079861728140492,
          -0.023079861728140492,
          -0.0737667865341571,
          -0.0737667865341571,
          -0.0737667865341571,
          -0.0737667865341571,
          -0.0737667865341571,
          0.0004856796610002937,
          0.0004856796610002937,
          0.0004856796610002937,
          0.0004856796610002937,
          0.0004856796610002937,
          0.06598765087194566,
          -0.12748280789604194,
          -0.09331419471222367,
          0.07774339266349173,
          0.07774339266349173,
          -0.06722821917150809,
          -0.06722821917150809,
          -0.06722821917150809,
          0.011112977500260642,
          0.03749614350524855,
          0.03749614350524855,
          0.03749614350524855,
          0.03749614350524855,
          0.3119454268112384,
          0.3119454268112384,
          0.07139661294786494,
          0.07139661294786494,
          -0.048595069988405445,
          -0.048595069988405445,
          0.1800543762778335,
          0.1800543762778335,
          0.1800543762778335,
          0.013189458529026504,
          0.013189458529026504,
          0.013189458529026504,
          0.013189458529026504,
          0.23799561188575435,
          0.23799561188575435,
          0.20217954507556152,
          0.20217954507556152,
          0.2092751979164007,
          0.2092751979164007,
          0.2092751979164007,
          0.17893017623545732,
          0.17893017623545732,
          0.2502032515412182,
          0.2502032515412182,
          0.4172414693792236,
          0.4172414693792236,
          0.4172414693792236,
          0.4172414693792236,
          0.4940504399985648,
          0.4940504399985648,
          0.4940504399985648,
          0.47305941208483604,
          0.47305941208483604,
          0.47305941208483604,
          0.47305941208483604,
          0.7136561109435006,
          0.7136561109435006,
          0.7136561109435006,
          0.7136561109435006,
          0.6960628859075333,
          0.6960628859075333,
          0.6960628859075333,
          0.9551875335809961,
          0.9551875335809961,
          1.0130468861139317,
          0.8571023378968047,
          0.8533827250144432,
          0.7676335371460321,
          1.17165557620358,
          1.17165557620358,
          1.103155952453921,
          1.103155952453921
         ]
        }
       ],
       "layout": {
        "template": {
         "data": {
          "bar": [
           {
            "error_x": {
             "color": "#2a3f5f"
            },
            "error_y": {
             "color": "#2a3f5f"
            },
            "marker": {
             "line": {
              "color": "#E5ECF6",
              "width": 0.5
             }
            },
            "type": "bar"
           }
          ],
          "barpolar": [
           {
            "marker": {
             "line": {
              "color": "#E5ECF6",
              "width": 0.5
             }
            },
            "type": "barpolar"
           }
          ],
          "carpet": [
           {
            "aaxis": {
             "endlinecolor": "#2a3f5f",
             "gridcolor": "white",
             "linecolor": "white",
             "minorgridcolor": "white",
             "startlinecolor": "#2a3f5f"
            },
            "baxis": {
             "endlinecolor": "#2a3f5f",
             "gridcolor": "white",
             "linecolor": "white",
             "minorgridcolor": "white",
             "startlinecolor": "#2a3f5f"
            },
            "type": "carpet"
           }
          ],
          "choropleth": [
           {
            "colorbar": {
             "outlinewidth": 0,
             "ticks": ""
            },
            "type": "choropleth"
           }
          ],
          "contour": [
           {
            "colorbar": {
             "outlinewidth": 0,
             "ticks": ""
            },
            "colorscale": [
             [
              0,
              "#0d0887"
             ],
             [
              0.1111111111111111,
              "#46039f"
             ],
             [
              0.2222222222222222,
              "#7201a8"
             ],
             [
              0.3333333333333333,
              "#9c179e"
             ],
             [
              0.4444444444444444,
              "#bd3786"
             ],
             [
              0.5555555555555556,
              "#d8576b"
             ],
             [
              0.6666666666666666,
              "#ed7953"
             ],
             [
              0.7777777777777778,
              "#fb9f3a"
             ],
             [
              0.8888888888888888,
              "#fdca26"
             ],
             [
              1,
              "#f0f921"
             ]
            ],
            "type": "contour"
           }
          ],
          "contourcarpet": [
           {
            "colorbar": {
             "outlinewidth": 0,
             "ticks": ""
            },
            "type": "contourcarpet"
           }
          ],
          "heatmap": [
           {
            "colorbar": {
             "outlinewidth": 0,
             "ticks": ""
            },
            "colorscale": [
             [
              0,
              "#0d0887"
             ],
             [
              0.1111111111111111,
              "#46039f"
             ],
             [
              0.2222222222222222,
              "#7201a8"
             ],
             [
              0.3333333333333333,
              "#9c179e"
             ],
             [
              0.4444444444444444,
              "#bd3786"
             ],
             [
              0.5555555555555556,
              "#d8576b"
             ],
             [
              0.6666666666666666,
              "#ed7953"
             ],
             [
              0.7777777777777778,
              "#fb9f3a"
             ],
             [
              0.8888888888888888,
              "#fdca26"
             ],
             [
              1,
              "#f0f921"
             ]
            ],
            "type": "heatmap"
           }
          ],
          "heatmapgl": [
           {
            "colorbar": {
             "outlinewidth": 0,
             "ticks": ""
            },
            "colorscale": [
             [
              0,
              "#0d0887"
             ],
             [
              0.1111111111111111,
              "#46039f"
             ],
             [
              0.2222222222222222,
              "#7201a8"
             ],
             [
              0.3333333333333333,
              "#9c179e"
             ],
             [
              0.4444444444444444,
              "#bd3786"
             ],
             [
              0.5555555555555556,
              "#d8576b"
             ],
             [
              0.6666666666666666,
              "#ed7953"
             ],
             [
              0.7777777777777778,
              "#fb9f3a"
             ],
             [
              0.8888888888888888,
              "#fdca26"
             ],
             [
              1,
              "#f0f921"
             ]
            ],
            "type": "heatmapgl"
           }
          ],
          "histogram": [
           {
            "marker": {
             "colorbar": {
              "outlinewidth": 0,
              "ticks": ""
             }
            },
            "type": "histogram"
           }
          ],
          "histogram2d": [
           {
            "colorbar": {
             "outlinewidth": 0,
             "ticks": ""
            },
            "colorscale": [
             [
              0,
              "#0d0887"
             ],
             [
              0.1111111111111111,
              "#46039f"
             ],
             [
              0.2222222222222222,
              "#7201a8"
             ],
             [
              0.3333333333333333,
              "#9c179e"
             ],
             [
              0.4444444444444444,
              "#bd3786"
             ],
             [
              0.5555555555555556,
              "#d8576b"
             ],
             [
              0.6666666666666666,
              "#ed7953"
             ],
             [
              0.7777777777777778,
              "#fb9f3a"
             ],
             [
              0.8888888888888888,
              "#fdca26"
             ],
             [
              1,
              "#f0f921"
             ]
            ],
            "type": "histogram2d"
           }
          ],
          "histogram2dcontour": [
           {
            "colorbar": {
             "outlinewidth": 0,
             "ticks": ""
            },
            "colorscale": [
             [
              0,
              "#0d0887"
             ],
             [
              0.1111111111111111,
              "#46039f"
             ],
             [
              0.2222222222222222,
              "#7201a8"
             ],
             [
              0.3333333333333333,
              "#9c179e"
             ],
             [
              0.4444444444444444,
              "#bd3786"
             ],
             [
              0.5555555555555556,
              "#d8576b"
             ],
             [
              0.6666666666666666,
              "#ed7953"
             ],
             [
              0.7777777777777778,
              "#fb9f3a"
             ],
             [
              0.8888888888888888,
              "#fdca26"
             ],
             [
              1,
              "#f0f921"
             ]
            ],
            "type": "histogram2dcontour"
           }
          ],
          "mesh3d": [
           {
            "colorbar": {
             "outlinewidth": 0,
             "ticks": ""
            },
            "type": "mesh3d"
           }
          ],
          "parcoords": [
           {
            "line": {
             "colorbar": {
              "outlinewidth": 0,
              "ticks": ""
             }
            },
            "type": "parcoords"
           }
          ],
          "scatter": [
           {
            "marker": {
             "colorbar": {
              "outlinewidth": 0,
              "ticks": ""
             }
            },
            "type": "scatter"
           }
          ],
          "scatter3d": [
           {
            "line": {
             "colorbar": {
              "outlinewidth": 0,
              "ticks": ""
             }
            },
            "marker": {
             "colorbar": {
              "outlinewidth": 0,
              "ticks": ""
             }
            },
            "type": "scatter3d"
           }
          ],
          "scattercarpet": [
           {
            "marker": {
             "colorbar": {
              "outlinewidth": 0,
              "ticks": ""
             }
            },
            "type": "scattercarpet"
           }
          ],
          "scattergeo": [
           {
            "marker": {
             "colorbar": {
              "outlinewidth": 0,
              "ticks": ""
             }
            },
            "type": "scattergeo"
           }
          ],
          "scattergl": [
           {
            "marker": {
             "colorbar": {
              "outlinewidth": 0,
              "ticks": ""
             }
            },
            "type": "scattergl"
           }
          ],
          "scattermapbox": [
           {
            "marker": {
             "colorbar": {
              "outlinewidth": 0,
              "ticks": ""
             }
            },
            "type": "scattermapbox"
           }
          ],
          "scatterpolar": [
           {
            "marker": {
             "colorbar": {
              "outlinewidth": 0,
              "ticks": ""
             }
            },
            "type": "scatterpolar"
           }
          ],
          "scatterpolargl": [
           {
            "marker": {
             "colorbar": {
              "outlinewidth": 0,
              "ticks": ""
             }
            },
            "type": "scatterpolargl"
           }
          ],
          "scatterternary": [
           {
            "marker": {
             "colorbar": {
              "outlinewidth": 0,
              "ticks": ""
             }
            },
            "type": "scatterternary"
           }
          ],
          "surface": [
           {
            "colorbar": {
             "outlinewidth": 0,
             "ticks": ""
            },
            "colorscale": [
             [
              0,
              "#0d0887"
             ],
             [
              0.1111111111111111,
              "#46039f"
             ],
             [
              0.2222222222222222,
              "#7201a8"
             ],
             [
              0.3333333333333333,
              "#9c179e"
             ],
             [
              0.4444444444444444,
              "#bd3786"
             ],
             [
              0.5555555555555556,
              "#d8576b"
             ],
             [
              0.6666666666666666,
              "#ed7953"
             ],
             [
              0.7777777777777778,
              "#fb9f3a"
             ],
             [
              0.8888888888888888,
              "#fdca26"
             ],
             [
              1,
              "#f0f921"
             ]
            ],
            "type": "surface"
           }
          ],
          "table": [
           {
            "cells": {
             "fill": {
              "color": "#EBF0F8"
             },
             "line": {
              "color": "white"
             }
            },
            "header": {
             "fill": {
              "color": "#C8D4E3"
             },
             "line": {
              "color": "white"
             }
            },
            "type": "table"
           }
          ]
         },
         "layout": {
          "annotationdefaults": {
           "arrowcolor": "#2a3f5f",
           "arrowhead": 0,
           "arrowwidth": 1
          },
          "colorscale": {
           "diverging": [
            [
             0,
             "#8e0152"
            ],
            [
             0.1,
             "#c51b7d"
            ],
            [
             0.2,
             "#de77ae"
            ],
            [
             0.3,
             "#f1b6da"
            ],
            [
             0.4,
             "#fde0ef"
            ],
            [
             0.5,
             "#f7f7f7"
            ],
            [
             0.6,
             "#e6f5d0"
            ],
            [
             0.7,
             "#b8e186"
            ],
            [
             0.8,
             "#7fbc41"
            ],
            [
             0.9,
             "#4d9221"
            ],
            [
             1,
             "#276419"
            ]
           ],
           "sequential": [
            [
             0,
             "#0d0887"
            ],
            [
             0.1111111111111111,
             "#46039f"
            ],
            [
             0.2222222222222222,
             "#7201a8"
            ],
            [
             0.3333333333333333,
             "#9c179e"
            ],
            [
             0.4444444444444444,
             "#bd3786"
            ],
            [
             0.5555555555555556,
             "#d8576b"
            ],
            [
             0.6666666666666666,
             "#ed7953"
            ],
            [
             0.7777777777777778,
             "#fb9f3a"
            ],
            [
             0.8888888888888888,
             "#fdca26"
            ],
            [
             1,
             "#f0f921"
            ]
           ],
           "sequentialminus": [
            [
             0,
             "#0d0887"
            ],
            [
             0.1111111111111111,
             "#46039f"
            ],
            [
             0.2222222222222222,
             "#7201a8"
            ],
            [
             0.3333333333333333,
             "#9c179e"
            ],
            [
             0.4444444444444444,
             "#bd3786"
            ],
            [
             0.5555555555555556,
             "#d8576b"
            ],
            [
             0.6666666666666666,
             "#ed7953"
            ],
            [
             0.7777777777777778,
             "#fb9f3a"
            ],
            [
             0.8888888888888888,
             "#fdca26"
            ],
            [
             1,
             "#f0f921"
            ]
           ]
          },
          "colorway": [
           "#636efa",
           "#EF553B",
           "#00cc96",
           "#ab63fa",
           "#FFA15A",
           "#19d3f3",
           "#FF6692",
           "#B6E880",
           "#FF97FF",
           "#FECB52"
          ],
          "font": {
           "color": "#2a3f5f"
          },
          "geo": {
           "bgcolor": "white",
           "lakecolor": "white",
           "landcolor": "#E5ECF6",
           "showlakes": true,
           "showland": true,
           "subunitcolor": "white"
          },
          "hoverlabel": {
           "align": "left"
          },
          "hovermode": "closest",
          "mapbox": {
           "style": "light"
          },
          "paper_bgcolor": "white",
          "plot_bgcolor": "#E5ECF6",
          "polar": {
           "angularaxis": {
            "gridcolor": "white",
            "linecolor": "white",
            "ticks": ""
           },
           "bgcolor": "#E5ECF6",
           "radialaxis": {
            "gridcolor": "white",
            "linecolor": "white",
            "ticks": ""
           }
          },
          "scene": {
           "xaxis": {
            "backgroundcolor": "#E5ECF6",
            "gridcolor": "white",
            "gridwidth": 2,
            "linecolor": "white",
            "showbackground": true,
            "ticks": "",
            "zerolinecolor": "white"
           },
           "yaxis": {
            "backgroundcolor": "#E5ECF6",
            "gridcolor": "white",
            "gridwidth": 2,
            "linecolor": "white",
            "showbackground": true,
            "ticks": "",
            "zerolinecolor": "white"
           },
           "zaxis": {
            "backgroundcolor": "#E5ECF6",
            "gridcolor": "white",
            "gridwidth": 2,
            "linecolor": "white",
            "showbackground": true,
            "ticks": "",
            "zerolinecolor": "white"
           }
          },
          "shapedefaults": {
           "line": {
            "color": "#2a3f5f"
           }
          },
          "ternary": {
           "aaxis": {
            "gridcolor": "white",
            "linecolor": "white",
            "ticks": ""
           },
           "baxis": {
            "gridcolor": "white",
            "linecolor": "white",
            "ticks": ""
           },
           "bgcolor": "#E5ECF6",
           "caxis": {
            "gridcolor": "white",
            "linecolor": "white",
            "ticks": ""
           }
          },
          "title": {
           "x": 0.05
          },
          "xaxis": {
           "automargin": true,
           "gridcolor": "white",
           "linecolor": "white",
           "ticks": "",
           "zerolinecolor": "white",
           "zerolinewidth": 2
          },
          "yaxis": {
           "automargin": true,
           "gridcolor": "white",
           "linecolor": "white",
           "ticks": "",
           "zerolinecolor": "white",
           "zerolinewidth": 2
          }
         }
        },
        "title": {
         "text": "Linear regression on synthetic data"
        }
       }
      },
      "text/html": [
       "<div>\n",
       "        \n",
       "        \n",
       "            <div id=\"24b6a5fa-a563-43c1-b659-43f0c57233bc\" class=\"plotly-graph-div\" style=\"height:525px; width:100%;\"></div>\n",
       "            <script type=\"text/javascript\">\n",
       "                require([\"plotly\"], function(Plotly) {\n",
       "                    window.PLOTLYENV=window.PLOTLYENV || {};\n",
       "                    \n",
       "                if (document.getElementById(\"24b6a5fa-a563-43c1-b659-43f0c57233bc\")) {\n",
       "                    Plotly.newPlot(\n",
       "                        '24b6a5fa-a563-43c1-b659-43f0c57233bc',\n",
       "                        [{\"mode\": \"markers\", \"name\": \"Data\", \"type\": \"scatter\", \"x\": [0.0, 0.10101010101010101, 0.20202020202020202, 0.30303030303030304, 0.40404040404040403, 0.5050505050505051, 0.6060606060606061, 0.7070707070707071, 0.8080808080808081, 0.9090909090909091, 1.0101010101010102, 1.1111111111111112, 1.2121212121212122, 1.3131313131313131, 1.4141414141414141, 1.5151515151515151, 1.6161616161616161, 1.7171717171717171, 1.8181818181818181, 1.9191919191919191, 2.0202020202020203, 2.121212121212121, 2.2222222222222223, 2.323232323232323, 2.4242424242424243, 2.525252525252525, 2.6262626262626263, 2.727272727272727, 2.8282828282828283, 2.929292929292929, 3.0303030303030303, 3.131313131313131, 3.2323232323232323, 3.3333333333333335, 3.4343434343434343, 3.5353535353535355, 3.6363636363636362, 3.7373737373737375, 3.8383838383838382, 3.9393939393939394, 4.040404040404041, 4.141414141414141, 4.242424242424242, 4.343434343434343, 4.444444444444445, 4.545454545454545, 4.646464646464646, 4.747474747474747, 4.848484848484849, 4.94949494949495, 5.05050505050505, 5.151515151515151, 5.252525252525253, 5.353535353535354, 5.454545454545454, 5.555555555555555, 5.656565656565657, 5.757575757575758, 5.858585858585858, 5.959595959595959, 6.0606060606060606, 6.161616161616162, 6.262626262626262, 6.363636363636363, 6.4646464646464645, 6.565656565656566, 6.666666666666667, 6.767676767676767, 6.8686868686868685, 6.96969696969697, 7.070707070707071, 7.171717171717171, 7.2727272727272725, 7.373737373737374, 7.474747474747475, 7.575757575757575, 7.6767676767676765, 7.777777777777778, 7.878787878787879, 7.979797979797979, 8.080808080808081, 8.181818181818182, 8.282828282828282, 8.383838383838384, 8.484848484848484, 8.585858585858587, 8.686868686868687, 8.787878787878787, 8.88888888888889, 8.98989898989899, 9.09090909090909, 9.191919191919192, 9.292929292929292, 9.393939393939394, 9.494949494949495, 9.595959595959595, 9.696969696969697, 9.797979797979798, 9.8989898989899, 10.0], \"y\": [0.04011145781806455, -0.08446487010824606, -0.07234209242561324, -0.010427731742529344, 0.0623609191821534, 0.07774883708512813, -0.07017100215970083, 0.09101772860796517, 0.02288555750447923, 0.05694292119937088, -0.17047900715194433, 0.0051253762652160315, 0.07361985063211691, 0.03378854095582014, 0.15409451902232185, 0.01765223488336484, -0.09592192104699393, 0.08908285676014899, -0.11523880855100815, -0.053383591131228335, -0.039454466867038254, -0.17955501481162342, 0.0017425301224580033, -0.023079861728140492, 0.08140612998787032, -0.0737667865341571, -0.13565024826572464, 0.07031976849481962, 0.04331957241923693, -0.008313049809837129, -0.14378471190936548, -0.06440253801360922, 0.022047257977165054, 0.0004856796610002937, 0.023425807495372278, 0.06598765087194566, -0.12748280789604194, -0.09331419471222367, 0.07774339266349173, 0.10727701872981601, 0.1097231848098196, -0.06722821917150809, -0.07772243229800083, 0.011112977500260642, 0.12248489778494934, 0.03749614350524855, 0.17780717837454801, -0.005811772419689755, 0.004273837764007846, 0.3119454268112384, 0.07139661294786494, -0.052810983553489926, -0.048595069988405445, 0.15078464783593507, 0.08079246798566551, 0.1800543762778335, 0.25765053079452804, 0.08248214620547474, 0.07817312817977215, 0.013189458529026504, 0.2441356016249213, 0.23799561188575435, 0.23353168787125633, 0.217254686394788, 0.20217954507556152, 0.2438445885149002, 0.2092751979164007, 0.3413393436962512, 0.21689616425229072, 0.17893017623545732, 0.2502032515412182, 0.30272820444169984, 0.3354830723669458, 0.2703783123784438, 0.4172414693792236, 0.2746977464861427, 0.3283709805609444, 0.4940504399985648, 0.4156129604849747, 0.08774142328324647, 0.47305941208483604, 0.5354355469809698, 0.587038813561612, 0.7516627093189548, 0.6931245640235418, 0.7136561109435006, 0.7949946925144988, 0.6841054069565486, 0.7271559324792903, 0.6960628859075333, 0.9551875335809961, 0.698202656465577, 1.0130468861139317, 0.8571023378968047, 0.8533827250144432, 0.7676335371460321, 1.0807850412106235, 1.17165557620358, 1.103155952453921, 1.006006847644141]}, {\"mode\": \"lines\", \"name\": \"Regressor Lin\", \"text\": \"MSE: 0.036755583488186194\", \"type\": \"scatter\", \"x\": [0.0, 0.10101010101010101, 0.20202020202020202, 0.30303030303030304, 0.40404040404040403, 0.5050505050505051, 0.6060606060606061, 0.7070707070707071, 0.8080808080808081, 0.9090909090909091, 1.0101010101010102, 1.1111111111111112, 1.2121212121212122, 1.3131313131313131, 1.4141414141414141, 1.5151515151515151, 1.6161616161616161, 1.7171717171717171, 1.8181818181818181, 1.9191919191919191, 2.0202020202020203, 2.121212121212121, 2.2222222222222223, 2.323232323232323, 2.4242424242424243, 2.525252525252525, 2.6262626262626263, 2.727272727272727, 2.8282828282828283, 2.929292929292929, 3.0303030303030303, 3.131313131313131, 3.2323232323232323, 3.3333333333333335, 3.4343434343434343, 3.5353535353535355, 3.6363636363636362, 3.7373737373737375, 3.8383838383838382, 3.9393939393939394, 4.040404040404041, 4.141414141414141, 4.242424242424242, 4.343434343434343, 4.444444444444445, 4.545454545454545, 4.646464646464646, 4.747474747474747, 4.848484848484849, 4.94949494949495, 5.05050505050505, 5.151515151515151, 5.252525252525253, 5.353535353535354, 5.454545454545454, 5.555555555555555, 5.656565656565657, 5.757575757575758, 5.858585858585858, 5.959595959595959, 6.0606060606060606, 6.161616161616162, 6.262626262626262, 6.363636363636363, 6.4646464646464645, 6.565656565656566, 6.666666666666667, 6.767676767676767, 6.8686868686868685, 6.96969696969697, 7.070707070707071, 7.171717171717171, 7.2727272727272725, 7.373737373737374, 7.474747474747475, 7.575757575757575, 7.6767676767676765, 7.777777777777778, 7.878787878787879, 7.979797979797979, 8.080808080808081, 8.181818181818182, 8.282828282828282, 8.383838383838384, 8.484848484848484, 8.585858585858587, 8.686868686868687, 8.787878787878787, 8.88888888888889, 8.98989898989899, 9.09090909090909, 9.191919191919192, 9.292929292929292, 9.393939393939394, 9.494949494949495, 9.595959595959595, 9.696969696969697, 9.797979797979798, 9.8989898989899, 10.0], \"y\": [-0.34284130336987473, -0.33142141407766557, -0.3200015247854564, -0.30858163549324724, -0.2971617462010381, -0.2857418569088289, -0.27432196761661976, -0.2629020783244106, -0.25148218903220143, -0.24006229973999227, -0.2286424104477831, -0.21722252115557394, -0.2058026318633648, -0.19438274257115565, -0.18296285327894649, -0.17154296398673732, -0.16012307469452816, -0.148703185402319, -0.13728329611010984, -0.12586340681790067, -0.11444351752569151, -0.10302362823348238, -0.09160373894127316, -0.08018384964906405, -0.06876396035685489, -0.05734407106464573, -0.04592418177243657, -0.034504292480227405, -0.023084403188018243, -0.011664513895809081, -0.0002446246035999189, 0.011175264688609243, 0.022595153980818405, 0.03401504327302757, 0.04543493256523673, 0.05685482185744589, 0.06827471114965505, 0.07969460044186422, 0.09111448973407338, 0.10253437902628254, 0.1139542683184917, 0.1253741576107008, 0.13679404690290997, 0.1482139361951192, 0.1596338254873284, 0.17105371477953746, 0.18247360407174662, 0.19389349336395578, 0.20531338265616494, 0.21673327194837422, 0.22815316124058327, 0.23957305053279243, 0.2509929398250016, 0.26241282911721076, 0.2738327184094199, 0.2852526077016291, 0.29667249699383824, 0.3080923862860474, 0.31951227557825657, 0.33093216487046573, 0.3423520541626749, 0.35377194345488405, 0.3651918327470932, 0.3766117220393024, 0.38803161133151154, 0.3994515006237207, 0.41087138991592986, 0.422291279208139, 0.4337111685003482, 0.44513105779255735, 0.4565509470847665, 0.46797083637697556, 0.47939072566918484, 0.490810614961394, 0.5022305042536032, 0.5136503935458122, 0.5250702828380215, 0.5364901721302306, 0.5479100614224398, 0.5593299507146489, 0.5707498400068581, 0.5821697292990673, 0.5935896185912763, 0.6050095078834856, 0.6164293971756947, 0.6278492864679039, 0.6392691757601131, 0.6506890650523222, 0.6621089543445315, 0.6735288436367406, 0.6849487329289496, 0.6963686222211589, 0.707788511513368, 0.7192084008055772, 0.7306282900977863, 0.7420481793899953, 0.7534680686822046, 0.7648879579744139, 0.7763078472666232, 0.7877277365588322]}, {\"mode\": \"lines\", \"name\": \"Regressor KNN\", \"text\": \"MSE: 0.010961709570914878\", \"type\": \"scatter\", \"x\": [0.0, 0.10101010101010101, 0.20202020202020202, 0.30303030303030304, 0.40404040404040403, 0.5050505050505051, 0.6060606060606061, 0.7070707070707071, 0.8080808080808081, 0.9090909090909091, 1.0101010101010102, 1.1111111111111112, 1.2121212121212122, 1.3131313131313131, 1.4141414141414141, 1.5151515151515151, 1.6161616161616161, 1.7171717171717171, 1.8181818181818181, 1.9191919191919191, 2.0202020202020203, 2.121212121212121, 2.2222222222222223, 2.323232323232323, 2.4242424242424243, 2.525252525252525, 2.6262626262626263, 2.727272727272727, 2.8282828282828283, 2.929292929292929, 3.0303030303030303, 3.131313131313131, 3.2323232323232323, 3.3333333333333335, 3.4343434343434343, 3.5353535353535355, 3.6363636363636362, 3.7373737373737375, 3.8383838383838382, 3.9393939393939394, 4.040404040404041, 4.141414141414141, 4.242424242424242, 4.343434343434343, 4.444444444444445, 4.545454545454545, 4.646464646464646, 4.747474747474747, 4.848484848484849, 4.94949494949495, 5.05050505050505, 5.151515151515151, 5.252525252525253, 5.353535353535354, 5.454545454545454, 5.555555555555555, 5.656565656565657, 5.757575757575758, 5.858585858585858, 5.959595959595959, 6.0606060606060606, 6.161616161616162, 6.262626262626262, 6.363636363636363, 6.4646464646464645, 6.565656565656566, 6.666666666666667, 6.767676767676767, 6.8686868686868685, 6.96969696969697, 7.070707070707071, 7.171717171717171, 7.2727272727272725, 7.373737373737374, 7.474747474747475, 7.575757575757575, 7.6767676767676765, 7.777777777777778, 7.878787878787879, 7.979797979797979, 8.080808080808081, 8.181818181818182, 8.282828282828282, 8.383838383838384, 8.484848484848484, 8.585858585858587, 8.686868686868687, 8.787878787878787, 8.88888888888889, 8.98989898989899, 9.09090909090909, 9.191919191919192, 9.292929292929292, 9.393939393939394, 9.494949494949495, 9.595959595959595, 9.696969696969697, 9.797979797979798, 9.8989898989899, 10.0], \"y\": [0.03006888761569267, 0.03006888761569267, 0.03006888761569267, 0.03006888761569267, 0.03006888761569267, 0.03006888761569267, 0.03006888761569267, 0.03006888761569267, 0.05808474840724143, 0.05808474840724143, 0.05808474840724143, 0.05808474840724143, 0.05808474840724143, 0.05808474840724143, 0.02447518213615188, 0.02447518213615188, 0.024475182136151883, -0.007742265876726891, -0.007742265876726891, -0.007742265876726888, -0.007742265876726888, -0.007742265876726888, -0.007742265876726888, -0.032120322867099094, -0.032120322867099094, -0.032120322867099094, -0.032120322867099094, -0.032120322867099094, -0.032120322867099094, -0.032120322867099094, -0.0024311520004037107, -0.020336492454365324, -0.020336492454365324, -0.020336492454365324, -0.020336492454365324, -0.05160311724543998, -0.05160311724543998, -0.04768453664825797, -0.04768453664825797, -0.018904348559841484, -0.018904348559841484, -0.04111448694758518, -0.04111448694758518, -0.006206366055332968, -0.006206366055332968, -0.006206366055332968, 0.12018484927224919, 0.14027939442145063, 0.14027939442145063, 0.11158232325689928, 0.11158232325689928, 0.11158232325689928, 0.11158232325689928, 0.06761863974576432, 0.06761863974576432, 0.048216254939484844, 0.04821625493948486, 0.14374648223087147, 0.14374648223087147, 0.14374648223087147, 0.1511215384967808, 0.1511215384967808, 0.15112153849678078, 0.21648345162590554, 0.21648345162590554, 0.21648345162590554, 0.1967949730758065, 0.1967949730758065, 0.2128028752310254, 0.2128028752310254, 0.28212496571863305, 0.28212496571863305, 0.3615620634332218, 0.3615620634332218, 0.44284445958567065, 0.44284445958567065, 0.44284445958567065, 0.44284445958567065, 0.4800564213894123, 0.4800564213894123, 0.4800564213894123, 0.4800564213894123, 0.5532583117043909, 0.5532583117043909, 0.5532583117043909, 0.7883021768106767, 0.7883021768106767, 0.7883021768106767, 0.8688126510231751, 0.8688126510231751, 0.8688126510231751, 0.974473984425308, 0.9417789191972442, 0.9078439830083932, 0.8260395333524267, 0.8260395333524267, 1.0141483552678443, 1.0141483552678443, 1.0141483552678443, 1.0141483552678443]}, {\"mode\": \"lines\", \"name\": \"Regressor DT\", \"text\": \"MSE: 0.008945006817559466\", \"type\": \"scatter\", \"x\": [0.0, 0.10101010101010101, 0.20202020202020202, 0.30303030303030304, 0.40404040404040403, 0.5050505050505051, 0.6060606060606061, 0.7070707070707071, 0.8080808080808081, 0.9090909090909091, 1.0101010101010102, 1.1111111111111112, 1.2121212121212122, 1.3131313131313131, 1.4141414141414141, 1.5151515151515151, 1.6161616161616161, 1.7171717171717171, 1.8181818181818181, 1.9191919191919191, 2.0202020202020203, 2.121212121212121, 2.2222222222222223, 2.323232323232323, 2.4242424242424243, 2.525252525252525, 2.6262626262626263, 2.727272727272727, 2.8282828282828283, 2.929292929292929, 3.0303030303030303, 3.131313131313131, 3.2323232323232323, 3.3333333333333335, 3.4343434343434343, 3.5353535353535355, 3.6363636363636362, 3.7373737373737375, 3.8383838383838382, 3.9393939393939394, 4.040404040404041, 4.141414141414141, 4.242424242424242, 4.343434343434343, 4.444444444444445, 4.545454545454545, 4.646464646464646, 4.747474747474747, 4.848484848484849, 4.94949494949495, 5.05050505050505, 5.151515151515151, 5.252525252525253, 5.353535353535354, 5.454545454545454, 5.555555555555555, 5.656565656565657, 5.757575757575758, 5.858585858585858, 5.959595959595959, 6.0606060606060606, 6.161616161616162, 6.262626262626262, 6.363636363636363, 6.4646464646464645, 6.565656565656566, 6.666666666666667, 6.767676767676767, 6.8686868686868685, 6.96969696969697, 7.070707070707071, 7.171717171717171, 7.2727272727272725, 7.373737373737374, 7.474747474747475, 7.575757575757575, 7.6767676767676765, 7.777777777777778, 7.878787878787879, 7.979797979797979, 8.080808080808081, 8.181818181818182, 8.282828282828282, 8.383838383838384, 8.484848484848484, 8.585858585858587, 8.686868686868687, 8.787878787878787, 8.88888888888889, 8.98989898989899, 9.09090909090909, 9.191919191919192, 9.292929292929292, 9.393939393939394, 9.494949494949495, 9.595959595959595, 9.696969696969697, 9.797979797979798, 9.8989898989899, 10.0], \"y\": [-0.010427731742529344, -0.010427731742529344, -0.010427731742529344, -0.010427731742529344, -0.010427731742529344, 0.07774883708512813, 0.07774883708512813, 0.02288555750447923, 0.02288555750447923, 0.02288555750447923, 0.02288555750447923, 0.07361985063211691, 0.07361985063211691, 0.07361985063211691, 0.07361985063211691, 0.07361985063211691, 0.07361985063211691, 0.07361985063211691, -0.023079861728140492, -0.023079861728140492, -0.023079861728140492, -0.023079861728140492, -0.023079861728140492, -0.023079861728140492, -0.023079861728140492, -0.0737667865341571, -0.0737667865341571, -0.0737667865341571, -0.0737667865341571, -0.0737667865341571, 0.0004856796610002937, 0.0004856796610002937, 0.0004856796610002937, 0.0004856796610002937, 0.0004856796610002937, 0.06598765087194566, -0.12748280789604194, -0.09331419471222367, 0.07774339266349173, 0.07774339266349173, -0.06722821917150809, -0.06722821917150809, -0.06722821917150809, 0.011112977500260642, 0.03749614350524855, 0.03749614350524855, 0.03749614350524855, 0.03749614350524855, 0.3119454268112384, 0.3119454268112384, 0.07139661294786494, 0.07139661294786494, -0.048595069988405445, -0.048595069988405445, 0.1800543762778335, 0.1800543762778335, 0.1800543762778335, 0.013189458529026504, 0.013189458529026504, 0.013189458529026504, 0.013189458529026504, 0.23799561188575435, 0.23799561188575435, 0.20217954507556152, 0.20217954507556152, 0.2092751979164007, 0.2092751979164007, 0.2092751979164007, 0.17893017623545732, 0.17893017623545732, 0.2502032515412182, 0.2502032515412182, 0.4172414693792236, 0.4172414693792236, 0.4172414693792236, 0.4172414693792236, 0.4940504399985648, 0.4940504399985648, 0.4940504399985648, 0.47305941208483604, 0.47305941208483604, 0.47305941208483604, 0.47305941208483604, 0.7136561109435006, 0.7136561109435006, 0.7136561109435006, 0.7136561109435006, 0.6960628859075333, 0.6960628859075333, 0.6960628859075333, 0.9551875335809961, 0.9551875335809961, 1.0130468861139317, 0.8571023378968047, 0.8533827250144432, 0.7676335371460321, 1.17165557620358, 1.17165557620358, 1.103155952453921, 1.103155952453921]}],\n",
       "                        {\"template\": {\"data\": {\"bar\": [{\"error_x\": {\"color\": \"#2a3f5f\"}, \"error_y\": {\"color\": \"#2a3f5f\"}, \"marker\": {\"line\": {\"color\": \"#E5ECF6\", \"width\": 0.5}}, \"type\": \"bar\"}], \"barpolar\": [{\"marker\": {\"line\": {\"color\": \"#E5ECF6\", \"width\": 0.5}}, \"type\": \"barpolar\"}], \"carpet\": [{\"aaxis\": {\"endlinecolor\": \"#2a3f5f\", \"gridcolor\": \"white\", \"linecolor\": \"white\", \"minorgridcolor\": \"white\", \"startlinecolor\": \"#2a3f5f\"}, \"baxis\": {\"endlinecolor\": \"#2a3f5f\", \"gridcolor\": \"white\", \"linecolor\": \"white\", \"minorgridcolor\": \"white\", \"startlinecolor\": \"#2a3f5f\"}, \"type\": \"carpet\"}], \"choropleth\": [{\"colorbar\": {\"outlinewidth\": 0, \"ticks\": \"\"}, \"type\": \"choropleth\"}], \"contour\": [{\"colorbar\": {\"outlinewidth\": 0, \"ticks\": \"\"}, \"colorscale\": [[0.0, \"#0d0887\"], [0.1111111111111111, \"#46039f\"], [0.2222222222222222, \"#7201a8\"], [0.3333333333333333, \"#9c179e\"], [0.4444444444444444, \"#bd3786\"], [0.5555555555555556, \"#d8576b\"], [0.6666666666666666, \"#ed7953\"], [0.7777777777777778, \"#fb9f3a\"], [0.8888888888888888, \"#fdca26\"], [1.0, \"#f0f921\"]], \"type\": \"contour\"}], \"contourcarpet\": [{\"colorbar\": {\"outlinewidth\": 0, \"ticks\": \"\"}, \"type\": \"contourcarpet\"}], \"heatmap\": [{\"colorbar\": {\"outlinewidth\": 0, \"ticks\": \"\"}, \"colorscale\": [[0.0, \"#0d0887\"], [0.1111111111111111, \"#46039f\"], [0.2222222222222222, \"#7201a8\"], [0.3333333333333333, \"#9c179e\"], [0.4444444444444444, \"#bd3786\"], [0.5555555555555556, \"#d8576b\"], [0.6666666666666666, \"#ed7953\"], [0.7777777777777778, \"#fb9f3a\"], [0.8888888888888888, \"#fdca26\"], [1.0, \"#f0f921\"]], \"type\": \"heatmap\"}], \"heatmapgl\": [{\"colorbar\": {\"outlinewidth\": 0, \"ticks\": \"\"}, \"colorscale\": [[0.0, \"#0d0887\"], [0.1111111111111111, \"#46039f\"], [0.2222222222222222, \"#7201a8\"], [0.3333333333333333, \"#9c179e\"], [0.4444444444444444, \"#bd3786\"], [0.5555555555555556, \"#d8576b\"], [0.6666666666666666, \"#ed7953\"], [0.7777777777777778, \"#fb9f3a\"], [0.8888888888888888, \"#fdca26\"], [1.0, \"#f0f921\"]], \"type\": \"heatmapgl\"}], \"histogram\": [{\"marker\": {\"colorbar\": {\"outlinewidth\": 0, \"ticks\": \"\"}}, \"type\": \"histogram\"}], \"histogram2d\": [{\"colorbar\": {\"outlinewidth\": 0, \"ticks\": \"\"}, \"colorscale\": [[0.0, \"#0d0887\"], [0.1111111111111111, \"#46039f\"], [0.2222222222222222, \"#7201a8\"], [0.3333333333333333, \"#9c179e\"], [0.4444444444444444, \"#bd3786\"], [0.5555555555555556, \"#d8576b\"], [0.6666666666666666, \"#ed7953\"], [0.7777777777777778, \"#fb9f3a\"], [0.8888888888888888, \"#fdca26\"], [1.0, \"#f0f921\"]], \"type\": \"histogram2d\"}], \"histogram2dcontour\": [{\"colorbar\": {\"outlinewidth\": 0, \"ticks\": \"\"}, \"colorscale\": [[0.0, \"#0d0887\"], [0.1111111111111111, \"#46039f\"], [0.2222222222222222, \"#7201a8\"], [0.3333333333333333, \"#9c179e\"], [0.4444444444444444, \"#bd3786\"], [0.5555555555555556, \"#d8576b\"], [0.6666666666666666, \"#ed7953\"], [0.7777777777777778, \"#fb9f3a\"], [0.8888888888888888, \"#fdca26\"], [1.0, \"#f0f921\"]], \"type\": \"histogram2dcontour\"}], \"mesh3d\": [{\"colorbar\": {\"outlinewidth\": 0, \"ticks\": \"\"}, \"type\": \"mesh3d\"}], \"parcoords\": [{\"line\": {\"colorbar\": {\"outlinewidth\": 0, \"ticks\": \"\"}}, \"type\": \"parcoords\"}], \"scatter\": [{\"marker\": {\"colorbar\": {\"outlinewidth\": 0, \"ticks\": \"\"}}, \"type\": \"scatter\"}], \"scatter3d\": [{\"line\": {\"colorbar\": {\"outlinewidth\": 0, \"ticks\": \"\"}}, \"marker\": {\"colorbar\": {\"outlinewidth\": 0, \"ticks\": \"\"}}, \"type\": \"scatter3d\"}], \"scattercarpet\": [{\"marker\": {\"colorbar\": {\"outlinewidth\": 0, \"ticks\": \"\"}}, \"type\": \"scattercarpet\"}], \"scattergeo\": [{\"marker\": {\"colorbar\": {\"outlinewidth\": 0, \"ticks\": \"\"}}, \"type\": \"scattergeo\"}], \"scattergl\": [{\"marker\": {\"colorbar\": {\"outlinewidth\": 0, \"ticks\": \"\"}}, \"type\": \"scattergl\"}], \"scattermapbox\": [{\"marker\": {\"colorbar\": {\"outlinewidth\": 0, \"ticks\": \"\"}}, \"type\": \"scattermapbox\"}], \"scatterpolar\": [{\"marker\": {\"colorbar\": {\"outlinewidth\": 0, \"ticks\": \"\"}}, \"type\": \"scatterpolar\"}], \"scatterpolargl\": [{\"marker\": {\"colorbar\": {\"outlinewidth\": 0, \"ticks\": \"\"}}, \"type\": \"scatterpolargl\"}], \"scatterternary\": [{\"marker\": {\"colorbar\": {\"outlinewidth\": 0, \"ticks\": \"\"}}, \"type\": \"scatterternary\"}], \"surface\": [{\"colorbar\": {\"outlinewidth\": 0, \"ticks\": \"\"}, \"colorscale\": [[0.0, \"#0d0887\"], [0.1111111111111111, \"#46039f\"], [0.2222222222222222, \"#7201a8\"], [0.3333333333333333, \"#9c179e\"], [0.4444444444444444, \"#bd3786\"], [0.5555555555555556, \"#d8576b\"], [0.6666666666666666, \"#ed7953\"], [0.7777777777777778, \"#fb9f3a\"], [0.8888888888888888, \"#fdca26\"], [1.0, \"#f0f921\"]], \"type\": \"surface\"}], \"table\": [{\"cells\": {\"fill\": {\"color\": \"#EBF0F8\"}, \"line\": {\"color\": \"white\"}}, \"header\": {\"fill\": {\"color\": \"#C8D4E3\"}, \"line\": {\"color\": \"white\"}}, \"type\": \"table\"}]}, \"layout\": {\"annotationdefaults\": {\"arrowcolor\": \"#2a3f5f\", \"arrowhead\": 0, \"arrowwidth\": 1}, \"colorscale\": {\"diverging\": [[0, \"#8e0152\"], [0.1, \"#c51b7d\"], [0.2, \"#de77ae\"], [0.3, \"#f1b6da\"], [0.4, \"#fde0ef\"], [0.5, \"#f7f7f7\"], [0.6, \"#e6f5d0\"], [0.7, \"#b8e186\"], [0.8, \"#7fbc41\"], [0.9, \"#4d9221\"], [1, \"#276419\"]], \"sequential\": [[0.0, \"#0d0887\"], [0.1111111111111111, \"#46039f\"], [0.2222222222222222, \"#7201a8\"], [0.3333333333333333, \"#9c179e\"], [0.4444444444444444, \"#bd3786\"], [0.5555555555555556, \"#d8576b\"], [0.6666666666666666, \"#ed7953\"], [0.7777777777777778, \"#fb9f3a\"], [0.8888888888888888, \"#fdca26\"], [1.0, \"#f0f921\"]], \"sequentialminus\": [[0.0, \"#0d0887\"], [0.1111111111111111, \"#46039f\"], [0.2222222222222222, \"#7201a8\"], [0.3333333333333333, \"#9c179e\"], [0.4444444444444444, \"#bd3786\"], [0.5555555555555556, \"#d8576b\"], [0.6666666666666666, \"#ed7953\"], [0.7777777777777778, \"#fb9f3a\"], [0.8888888888888888, \"#fdca26\"], [1.0, \"#f0f921\"]]}, \"colorway\": [\"#636efa\", \"#EF553B\", \"#00cc96\", \"#ab63fa\", \"#FFA15A\", \"#19d3f3\", \"#FF6692\", \"#B6E880\", \"#FF97FF\", \"#FECB52\"], \"font\": {\"color\": \"#2a3f5f\"}, \"geo\": {\"bgcolor\": \"white\", \"lakecolor\": \"white\", \"landcolor\": \"#E5ECF6\", \"showlakes\": true, \"showland\": true, \"subunitcolor\": \"white\"}, \"hoverlabel\": {\"align\": \"left\"}, \"hovermode\": \"closest\", \"mapbox\": {\"style\": \"light\"}, \"paper_bgcolor\": \"white\", \"plot_bgcolor\": \"#E5ECF6\", \"polar\": {\"angularaxis\": {\"gridcolor\": \"white\", \"linecolor\": \"white\", \"ticks\": \"\"}, \"bgcolor\": \"#E5ECF6\", \"radialaxis\": {\"gridcolor\": \"white\", \"linecolor\": \"white\", \"ticks\": \"\"}}, \"scene\": {\"xaxis\": {\"backgroundcolor\": \"#E5ECF6\", \"gridcolor\": \"white\", \"gridwidth\": 2, \"linecolor\": \"white\", \"showbackground\": true, \"ticks\": \"\", \"zerolinecolor\": \"white\"}, \"yaxis\": {\"backgroundcolor\": \"#E5ECF6\", \"gridcolor\": \"white\", \"gridwidth\": 2, \"linecolor\": \"white\", \"showbackground\": true, \"ticks\": \"\", \"zerolinecolor\": \"white\"}, \"zaxis\": {\"backgroundcolor\": \"#E5ECF6\", \"gridcolor\": \"white\", \"gridwidth\": 2, \"linecolor\": \"white\", \"showbackground\": true, \"ticks\": \"\", \"zerolinecolor\": \"white\"}}, \"shapedefaults\": {\"line\": {\"color\": \"#2a3f5f\"}}, \"ternary\": {\"aaxis\": {\"gridcolor\": \"white\", \"linecolor\": \"white\", \"ticks\": \"\"}, \"baxis\": {\"gridcolor\": \"white\", \"linecolor\": \"white\", \"ticks\": \"\"}, \"bgcolor\": \"#E5ECF6\", \"caxis\": {\"gridcolor\": \"white\", \"linecolor\": \"white\", \"ticks\": \"\"}}, \"title\": {\"x\": 0.05}, \"xaxis\": {\"automargin\": true, \"gridcolor\": \"white\", \"linecolor\": \"white\", \"ticks\": \"\", \"zerolinecolor\": \"white\", \"zerolinewidth\": 2}, \"yaxis\": {\"automargin\": true, \"gridcolor\": \"white\", \"linecolor\": \"white\", \"ticks\": \"\", \"zerolinecolor\": \"white\", \"zerolinewidth\": 2}}}, \"title\": {\"text\": \"Linear regression on synthetic data\"}},\n",
       "                        {\"responsive\": true}\n",
       "                    ).then(function(){\n",
       "                            \n",
       "var gd = document.getElementById('24b6a5fa-a563-43c1-b659-43f0c57233bc');\n",
       "var x = new MutationObserver(function (mutations, observer) {{\n",
       "        var display = window.getComputedStyle(gd).display;\n",
       "        if (!display || display === 'none') {{\n",
       "            console.log([gd, 'removed!']);\n",
       "            Plotly.purge(gd);\n",
       "            observer.disconnect();\n",
       "        }}\n",
       "}});\n",
       "\n",
       "// Listen for the removal of the full notebook cells\n",
       "var notebookContainer = gd.closest('#notebook-container');\n",
       "if (notebookContainer) {{\n",
       "    x.observe(notebookContainer, {childList: true});\n",
       "}}\n",
       "\n",
       "// Listen for the clearing of the current output cell\n",
       "var outputEl = gd.closest('.output');\n",
       "if (outputEl) {{\n",
       "    x.observe(outputEl, {childList: true});\n",
       "}}\n",
       "\n",
       "                        })\n",
       "                };\n",
       "                });\n",
       "            </script>\n",
       "        </div>"
      ]
     },
     "metadata": {},
     "output_type": "display_data"
    }
   ],
   "source": [
    "iplot(reg_plotly_plot(x,y,\n",
    "                      [lin_preds,knn_preds,dt_preds],\n",
    "                      [\"Lin\",\"KNN\",\"DT\"]\n",
    "                     )\n",
    "     )"
   ]
  },
  {
   "cell_type": "markdown",
   "metadata": {},
   "source": [
    "### Classification and more dimensions (also synth)"
   ]
  },
  {
   "cell_type": "markdown",
   "metadata": {},
   "source": [
    "First of all, create the data"
   ]
  },
  {
   "cell_type": "code",
   "execution_count": 47,
   "metadata": {},
   "outputs": [],
   "source": [
    "c11 = np.random.rand(40,2)\n",
    "c12 = np.array([0,.8])+np.array([2,1.1])*np.random.rand(30,2)\n",
    "c21 = np.array([.8,0])+np.random.rand(60,2)\n",
    "\n",
    "c1 = np.concatenate([c11,c12])\n",
    "c2 = c21"
   ]
  },
  {
   "cell_type": "code",
   "execution_count": 48,
   "metadata": {},
   "outputs": [
    {
     "data": {
      "image/png": "[encoded data removed]",
      "text/plain": [
       "<Figure size 432x288 with 1 Axes>"
      ]
     },
     "metadata": {
      "needs_background": "light"
     },
     "output_type": "display_data"
    }
   ],
   "source": [
    "plt.scatter(c1[:,0],c1[:,1]); ## groundtruth\n",
    "plt.scatter(c2[:,0],c2[:,1]);"
   ]
  },
  {
   "cell_type": "code",
   "execution_count": 49,
   "metadata": {},
   "outputs": [],
   "source": [
    "import pandas as pd"
   ]
  },
  {
   "cell_type": "code",
   "execution_count": 50,
   "metadata": {},
   "outputs": [],
   "source": [
    "c1 = np.append(c1, np.ones([len(c1),1]), axis=1)\n",
    "c2 = np.append(c2, 2*np.ones([len(c2),1]), axis=1)"
   ]
  },
  {
   "cell_type": "code",
   "execution_count": 51,
   "metadata": {},
   "outputs": [],
   "source": [
    "data = pd.DataFrame(np.concatenate([c1,c2]),columns=[\"var1\",\"var2\",\"label\"])"
   ]
  },
  {
   "cell_type": "code",
   "execution_count": 52,
   "metadata": {},
   "outputs": [],
   "source": [
    "data = data.sample(frac=1)"
   ]
  },
  {
   "cell_type": "code",
   "execution_count": 53,
   "metadata": {},
   "outputs": [
    {
     "data": {
      "text/html": [
       "<div>\n",
       "<style scoped>\n",
       "    .dataframe tbody tr th:only-of-type {\n",
       "        vertical-align: middle;\n",
       "    }\n",
       "\n",
       "    .dataframe tbody tr th {\n",
       "        vertical-align: top;\n",
       "    }\n",
       "\n",
       "    .dataframe thead th {\n",
       "        text-align: right;\n",
       "    }\n",
       "</style>\n",
       "<table border=\"1\" class=\"dataframe\">\n",
       "  <thead>\n",
       "    <tr style=\"text-align: right;\">\n",
       "      <th></th>\n",
       "      <th>var1</th>\n",
       "      <th>var2</th>\n",
       "      <th>label</th>\n",
       "    </tr>\n",
       "  </thead>\n",
       "  <tbody>\n",
       "    <tr>\n",
       "      <th>64</th>\n",
       "      <td>0.524347</td>\n",
       "      <td>1.079265</td>\n",
       "      <td>1.0</td>\n",
       "    </tr>\n",
       "    <tr>\n",
       "      <th>110</th>\n",
       "      <td>0.930823</td>\n",
       "      <td>0.315078</td>\n",
       "      <td>2.0</td>\n",
       "    </tr>\n",
       "    <tr>\n",
       "      <th>62</th>\n",
       "      <td>0.284256</td>\n",
       "      <td>0.958363</td>\n",
       "      <td>1.0</td>\n",
       "    </tr>\n",
       "    <tr>\n",
       "      <th>115</th>\n",
       "      <td>1.074813</td>\n",
       "      <td>0.386900</td>\n",
       "      <td>2.0</td>\n",
       "    </tr>\n",
       "    <tr>\n",
       "      <th>55</th>\n",
       "      <td>1.313293</td>\n",
       "      <td>0.854282</td>\n",
       "      <td>1.0</td>\n",
       "    </tr>\n",
       "  </tbody>\n",
       "</table>\n",
       "</div>"
      ],
      "text/plain": [
       "         var1      var2  label\n",
       "64   0.524347  1.079265    1.0\n",
       "110  0.930823  0.315078    2.0\n",
       "62   0.284256  0.958363    1.0\n",
       "115  1.074813  0.386900    2.0\n",
       "55   1.313293  0.854282    1.0"
      ]
     },
     "execution_count": 53,
     "metadata": {},
     "output_type": "execute_result"
    }
   ],
   "source": [
    "data.head()"
   ]
  },
  {
   "cell_type": "code",
   "execution_count": 54,
   "metadata": {},
   "outputs": [],
   "source": [
    "train_data = data.values[:int(.7*len(data))]\n",
    "test_data = data.values[int(.7*len(data)):]"
   ]
  },
  {
   "cell_type": "code",
   "execution_count": 55,
   "metadata": {},
   "outputs": [],
   "source": [
    "x_train,y_train = train_data[:,:-1],train_data[:,-1]\n",
    "x_test,y_test = test_data[:,:-1],test_data[:,-1]"
   ]
  },
  {
   "cell_type": "code",
   "execution_count": 56,
   "metadata": {},
   "outputs": [],
   "source": [
    "from sklearn.neighbors import KNeighborsClassifier\n",
    "from sklearn.tree import DecisionTreeClassifier"
   ]
  },
  {
   "cell_type": "code",
   "execution_count": 57,
   "metadata": {},
   "outputs": [
    {
     "data": {
      "text/plain": [
       "array([1., 2., 2., 2., 2., 1., 1., 2., 2., 1., 1., 1., 1., 1., 1., 1., 2.,\n",
       "       1., 1., 1., 1., 1., 1., 2., 2., 1., 2., 1., 1., 1., 1., 2., 1., 1.,\n",
       "       2., 2., 1., 2., 2.])"
      ]
     },
     "execution_count": 57,
     "metadata": {},
     "output_type": "execute_result"
    }
   ],
   "source": [
    "neigh = KNeighborsClassifier(n_neighbors=3)\n",
    "neigh.fit(x_train, y_train)\n",
    "neigh.predict(x_test)"
   ]
  },
  {
   "cell_type": "code",
   "execution_count": 58,
   "metadata": {},
   "outputs": [
    {
     "data": {
      "text/plain": [
       "(0.8205128205128205, 0.9120879120879121)"
      ]
     },
     "execution_count": 58,
     "metadata": {},
     "output_type": "execute_result"
    }
   ],
   "source": [
    "neigh.score(x_test,y_test),neigh.score(x_train,y_train)"
   ]
  },
  {
   "cell_type": "code",
   "execution_count": 59,
   "metadata": {},
   "outputs": [
    {
     "data": {
      "text/plain": [
       "array([1., 2., 2., 2., 2., 1., 1., 2., 2., 1., 1., 1., 1., 1., 1., 1., 2.,\n",
       "       1., 1., 1., 1., 1., 1., 1., 2., 1., 2., 1., 1., 1., 1., 2., 1., 1.,\n",
       "       2., 2., 1., 2., 2.])"
      ]
     },
     "execution_count": 59,
     "metadata": {},
     "output_type": "execute_result"
    }
   ],
   "source": [
    "dt = DecisionTreeClassifier(random_state=0)\n",
    "dt.fit(x_train, y_train)\n",
    "dt.predict(x_test)"
   ]
  },
  {
   "cell_type": "code",
   "execution_count": 60,
   "metadata": {},
   "outputs": [
    {
     "data": {
      "text/plain": [
       "(0.7948717948717948, 1.0)"
      ]
     },
     "execution_count": 60,
     "metadata": {},
     "output_type": "execute_result"
    }
   ],
   "source": [
    "dt.score(x_test,y_test),dt.score(x_train,y_train)"
   ]
  },
  {
   "cell_type": "code",
   "execution_count": 61,
   "metadata": {},
   "outputs": [],
   "source": [
    "def clas_plotly_plot(data,model,name):\n",
    "\n",
    "    true1 = np.where(data[:,2] == 1)[0]\n",
    "    true2 = np.where(data[:,2] == 2)[0]\n",
    "    \n",
    "    pred1 = np.where(model.predict(data[:,:-1]) == 1)[0]\n",
    "    pred2 = np.where(model.predict(data[:,:-1]) == 2)[0]\n",
    "    \n",
    "    trace_true1 = go.Scatter(\n",
    "        x = data[true1,0],\n",
    "        y = data[true1,1],\n",
    "        mode = 'markers',\n",
    "        name = 'True 1',\n",
    "        marker = dict(\n",
    "            size = 10,\n",
    "            color = 'rgba(0, 0, 255, .5)'\n",
    "        )\n",
    "    )\n",
    "    trace_true2 = go.Scatter(\n",
    "        x = data[true2,0],\n",
    "        y = data[true2,1],\n",
    "        mode = 'markers',\n",
    "        name = 'True 2',\n",
    "        marker = dict(\n",
    "            size = 10,\n",
    "            color = 'rgba(0, 255, 0, .5)'\n",
    "        )\n",
    "    )\n",
    "    \n",
    "    trace_pred1 = go.Scatter(\n",
    "        x = data[pred1,0],\n",
    "        y = data[pred1,1],\n",
    "        mode = 'markers',\n",
    "        name = 'Pred 1',\n",
    "        marker = dict(\n",
    "            size = 10,\n",
    "            color = 'rgba(0, 0, 255, .5)'\n",
    "        )\n",
    "    )\n",
    "    trace_pred2 = go.Scatter(\n",
    "        x = data[pred2,0],\n",
    "        y = data[pred2,1],\n",
    "        mode = 'markers',\n",
    "        name = 'Pred 2',\n",
    "        marker = dict(\n",
    "            size = 10,\n",
    "            color = 'rgba(0, 255, 0, .5)'\n",
    "        )\n",
    "    )\n",
    "    layout = go.Layout(\n",
    "        title = f\"Classification of {name} on synthetic data\",\n",
    "    )\n",
    "\n",
    "    data = [trace_true1,trace_true2,trace_pred1,trace_pred2]\n",
    "    return go.Figure(data=data, layout=layout)"
   ]
  },
  {
   "cell_type": "code",
   "execution_count": 62,
   "metadata": {},
   "outputs": [
    {
     "data": {
      "application/vnd.plotly.v1+json": {
       "config": {
        "linkText": "Export to plot.ly",
        "plotlyServerURL": "https://plot.ly",
        "showLink": false
       },
       "data": [
        {
         "marker": {
          "color": "rgba(0, 0, 255, .5)",
          "size": 10
         },
         "mode": "markers",
         "name": "True 1",
         "type": "scatter",
         "x": [
          0.5243470307578613,
          0.28425553026249184,
          1.3132926947222243,
          0.6709959845803255,
          1.2853830767247019,
          0.07845391040475613,
          0.20767452724744884,
          1.1642055649095429,
          1.28601605256199,
          0.013404085411470978,
          0.9438516782482563,
          0.12844156199944512,
          0.9171242548375738,
          0.2691108721218457,
          0.008627393675463835,
          0.7813558221578598,
          0.10628177646179793,
          0.9523271451988851,
          0.31322560977378233,
          0.9980680983228691,
          0.18991813996746942,
          0.5360798710815047,
          0.43415551605863256,
          0.05704801597588449,
          0.5903350910888547,
          0.46782685534764246,
          0.17415973224433812,
          1.0362765697292713,
          0.8814953074225373,
          0.15224892516646626,
          0.11370492354760642,
          0.22019103519454586,
          1.2156642352832463,
          1.7790112235983706,
          0.9817070470263886,
          0.2687287121058328,
          0.7294961416644947,
          1.790710064952734,
          0.3004564918643231,
          1.460763827911568,
          1.4048218347406123,
          0.05825824967290305,
          1.0186582460851747,
          0.5631381814212671,
          1.5953923209585352,
          0.2792792317962042,
          0.7515072743952713,
          0.039298744567883515,
          0.19578629531324987,
          1.9560461563656895,
          0.2620402113985778,
          0.10786461869892894,
          0.4904336956659676,
          0.24269127813688862,
          1.9847408785622482,
          0.341407013852421,
          0.33468314733097226,
          0.7948491577686463,
          0.45306831683167204,
          0.9636306720486444,
          0.6930447588399604,
          0.4001965522867563,
          0.7403666502282796,
          1.2785495444092783,
          1.2981189099547648,
          0.6018989373977389,
          1.520389543972539,
          0.4046543367032025,
          0.5090455382688968,
          0.8794902871782124
         ],
         "y": [
          1.079264935551933,
          0.9583626839766178,
          0.8542815081260527,
          0.9611362422943224,
          1.1473463099152261,
          0.8620143071461903,
          0.5399893022073528,
          0.9483517769203832,
          0.8521983458145173,
          1.3296152613000416,
          0.09803151498939044,
          0.4790259785162003,
          0.4742389251106073,
          0.8678267889768615,
          0.21481315878777762,
          0.8998862653856612,
          0.5751140832558629,
          1.7017467788112906,
          0.4316555015873159,
          0.27704093931650187,
          0.04819667148142304,
          0.6725030046970546,
          1.7326595302403223,
          0.16241485495509855,
          0.9960523916419677,
          0.27641668075191417,
          0.1353043096054214,
          1.8806104652881286,
          0.8759845502010003,
          0.8307306223031314,
          0.041756577116516036,
          0.5089386390271703,
          0.8164969626981808,
          1.713755189781471,
          0.04979905441442345,
          0.5679092215187613,
          0.299899661406837,
          1.5882625408355913,
          0.7282050857459557,
          1.0314878575141053,
          1.3472915487039716,
          0.482370563294619,
          1.3335970727319504,
          0.9549920881317969,
          1.6817439251329134,
          0.227122440099913,
          0.47165750207715407,
          0.004560401468439057,
          0.846965755555593,
          0.9035002614114638,
          0.9885706636497442,
          0.9022999128995699,
          0.1710775965140212,
          1.480732709660655,
          1.6412347569895216,
          0.9975772443055435,
          0.7952097277470909,
          0.852425361060562,
          1.576055802684352,
          0.6517029406191629,
          0.042399031936531495,
          0.06650867134905525,
          0.8368577566534485,
          1.466621182851212,
          1.6089930877626175,
          0.8277308668981942,
          1.8382550540329246,
          0.7815042555792612,
          0.8143429786438477,
          1.8404662551924995
         ]
        },
        {
         "marker": {
          "color": "rgba(0, 255, 0, .5)",
          "size": 10
         },
         "mode": "markers",
         "name": "True 2",
         "type": "scatter",
         "x": [
          0.9308232377240336,
          1.0748131378551686,
          1.1706678430002004,
          1.6776558996552846,
          1.2867328668509823,
          1.7390467967742458,
          1.5900172152386798,
          1.4468817993027645,
          1.0900201085027899,
          1.219412075345307,
          1.4164156783164261,
          1.4343851947994675,
          1.6988129555925682,
          1.5569367548321988,
          1.3686629292014538,
          1.5488864715700164,
          1.2212676109093976,
          1.0998091004250896,
          1.6738042835044251,
          1.4689423258739693,
          1.297599099307099,
          1.0480628080659582,
          1.7944154757823316,
          0.9565459466219431,
          1.0775346111977595,
          1.6475230295095136,
          1.760347995344228,
          1.0141994745354823,
          1.7591164960156553,
          0.9813674080424277,
          0.9761204581358449,
          0.9309737744017885,
          1.5075002247834415,
          1.438244407511415,
          1.6028117660112309,
          1.6317572989686164,
          1.7560074731787787,
          1.254397532820177,
          1.5358269181567208,
          1.4243566233682898,
          1.2147400276081164,
          1.2407723242891573,
          0.9647660435315845,
          1.0995796383741603,
          0.9604156209865953,
          1.5030259480757553,
          1.5357728189614874,
          1.5615939135351384,
          0.8342527054462682,
          1.0034752308643093,
          1.324361448071281,
          1.014176124381346,
          0.9902599882513315,
          0.9361335824516747,
          1.0667517300322922,
          0.8769771337238961,
          1.70081967101896,
          1.1317395149535927,
          1.6115556957507073,
          1.6376557623845893
         ],
         "y": [
          0.31507754307534364,
          0.38690042237717426,
          0.06873435711720788,
          0.2196836239688873,
          0.9825109514692644,
          0.37241633731629475,
          0.28812156956528334,
          0.07335380745620046,
          0.0657389413831233,
          0.8294303931719272,
          0.05976208470992339,
          0.11076760831448584,
          0.05817477118064507,
          0.2271983056755249,
          0.08033297950674922,
          0.8652522599177075,
          0.7798668414649498,
          0.6562659811111785,
          0.9855617714813161,
          0.09388622378943257,
          0.765069561292245,
          0.8065240054447367,
          0.6454385628028112,
          0.739333740481938,
          0.6619387918792253,
          0.6437204389765601,
          0.6566686885512208,
          0.16374541001819465,
          0.97158893496395,
          0.6766893111950444,
          0.6719697356166533,
          0.6292469401131522,
          0.891042480451864,
          0.9035005943814187,
          0.4670632705391199,
          0.247491612090582,
          0.3229000991084455,
          0.5594349411802235,
          0.3567387361363472,
          0.9467763883767545,
          0.8321796596598393,
          0.5322497460239101,
          0.9519180615885291,
          0.5414407169429747,
          0.6295400623459093,
          0.5107636890148203,
          0.14373719289154718,
          0.44722202319793136,
          0.4895817920212667,
          0.21402724757491154,
          0.3850558850021062,
          0.3094722563080211,
          0.16495199214109946,
          0.04088960632269523,
          0.22481826416254436,
          0.29539495008087857,
          0.5824463787526731,
          0.13605707275494117,
          0.45537900420279787,
          0.8790432404271477
         ]
        },
        {
         "marker": {
          "color": "rgba(0, 0, 255, .5)",
          "size": 10
         },
         "mode": "markers",
         "name": "Pred 1",
         "type": "scatter",
         "x": [
          0.5243470307578613,
          0.28425553026249184,
          1.3132926947222243,
          0.6709959845803255,
          1.2853830767247019,
          0.07845391040475613,
          0.20767452724744884,
          1.1642055649095429,
          1.28601605256199,
          0.013404085411470978,
          0.9438516782482563,
          0.12844156199944512,
          0.9171242548375738,
          0.2691108721218457,
          0.008627393675463835,
          0.7813558221578598,
          0.10628177646179793,
          0.9523271451988851,
          0.31322560977378233,
          0.9980680983228691,
          0.18991813996746942,
          0.5360798710815047,
          0.43415551605863256,
          0.05704801597588449,
          0.5903350910888547,
          0.46782685534764246,
          0.17415973224433812,
          1.0362765697292713,
          0.8814953074225373,
          0.15224892516646626,
          0.11370492354760642,
          0.22019103519454586,
          1.2156642352832463,
          1.7790112235983706,
          0.9817070470263886,
          0.2687287121058328,
          0.7294961416644947,
          1.790710064952734,
          0.3004564918643231,
          1.460763827911568,
          1.4048218347406123,
          0.05825824967290305,
          1.0186582460851747,
          0.5631381814212671,
          1.5953923209585352,
          0.2792792317962042,
          0.7515072743952713,
          0.039298744567883515,
          0.19578629531324987,
          0.9647660435315845,
          0.2620402113985778,
          0.10786461869892894,
          0.4904336956659676,
          0.24269127813688862,
          1.9847408785622482,
          0.341407013852421,
          0.33468314733097226,
          0.7948491577686463,
          0.45306831683167204,
          0.6930447588399604,
          0.4001965522867563,
          0.8342527054462682,
          0.7403666502282796,
          1.2785495444092783,
          1.2981189099547648,
          1.0034752308643093,
          0.6018989373977389,
          0.9902599882513315,
          1.520389543972539,
          0.4046543367032025,
          0.9361335824516747,
          0.5090455382688968,
          0.8769771337238961,
          0.8794902871782124
         ],
         "y": [
          1.079264935551933,
          0.9583626839766178,
          0.8542815081260527,
          0.9611362422943224,
          1.1473463099152261,
          0.8620143071461903,
          0.5399893022073528,
          0.9483517769203832,
          0.8521983458145173,
          1.3296152613000416,
          0.09803151498939044,
          0.4790259785162003,
          0.4742389251106073,
          0.8678267889768615,
          0.21481315878777762,
          0.8998862653856612,
          0.5751140832558629,
          1.7017467788112906,
          0.4316555015873159,
          0.27704093931650187,
          0.04819667148142304,
          0.6725030046970546,
          1.7326595302403223,
          0.16241485495509855,
          0.9960523916419677,
          0.27641668075191417,
          0.1353043096054214,
          1.8806104652881286,
          0.8759845502010003,
          0.8307306223031314,
          0.041756577116516036,
          0.5089386390271703,
          0.8164969626981808,
          1.713755189781471,
          0.04979905441442345,
          0.5679092215187613,
          0.299899661406837,
          1.5882625408355913,
          0.7282050857459557,
          1.0314878575141053,
          1.3472915487039716,
          0.482370563294619,
          1.3335970727319504,
          0.9549920881317969,
          1.6817439251329134,
          0.227122440099913,
          0.47165750207715407,
          0.004560401468439057,
          0.846965755555593,
          0.9519180615885291,
          0.9885706636497442,
          0.9022999128995699,
          0.1710775965140212,
          1.480732709660655,
          1.6412347569895216,
          0.9975772443055435,
          0.7952097277470909,
          0.852425361060562,
          1.576055802684352,
          0.042399031936531495,
          0.06650867134905525,
          0.4895817920212667,
          0.8368577566534485,
          1.466621182851212,
          1.6089930877626175,
          0.21402724757491154,
          0.8277308668981942,
          0.16495199214109946,
          1.8382550540329246,
          0.7815042555792612,
          0.04088960632269523,
          0.8143429786438477,
          0.29539495008087857,
          1.8404662551924995
         ]
        },
        {
         "marker": {
          "color": "rgba(0, 255, 0, .5)",
          "size": 10
         },
         "mode": "markers",
         "name": "Pred 2",
         "type": "scatter",
         "x": [
          0.9308232377240336,
          1.0748131378551686,
          1.1706678430002004,
          1.6776558996552846,
          1.2867328668509823,
          1.7390467967742458,
          1.5900172152386798,
          1.4468817993027645,
          1.0900201085027899,
          1.219412075345307,
          1.4164156783164261,
          1.4343851947994675,
          1.6988129555925682,
          1.5569367548321988,
          1.3686629292014538,
          1.5488864715700164,
          1.2212676109093976,
          1.0998091004250896,
          1.6738042835044251,
          1.4689423258739693,
          1.297599099307099,
          1.0480628080659582,
          1.7944154757823316,
          0.9565459466219431,
          1.0775346111977595,
          1.6475230295095136,
          1.760347995344228,
          1.0141994745354823,
          1.7591164960156553,
          0.9813674080424277,
          0.9761204581358449,
          0.9309737744017885,
          1.5075002247834415,
          1.438244407511415,
          1.6028117660112309,
          1.6317572989686164,
          1.7560074731787787,
          1.254397532820177,
          1.5358269181567208,
          1.4243566233682898,
          1.2147400276081164,
          1.2407723242891573,
          1.0995796383741603,
          0.9604156209865953,
          1.5030259480757553,
          1.9560461563656895,
          1.5357728189614874,
          1.5615939135351384,
          0.9636306720486444,
          1.324361448071281,
          1.014176124381346,
          1.0667517300322922,
          1.70081967101896,
          1.1317395149535927,
          1.6115556957507073,
          1.6376557623845893
         ],
         "y": [
          0.31507754307534364,
          0.38690042237717426,
          0.06873435711720788,
          0.2196836239688873,
          0.9825109514692644,
          0.37241633731629475,
          0.28812156956528334,
          0.07335380745620046,
          0.0657389413831233,
          0.8294303931719272,
          0.05976208470992339,
          0.11076760831448584,
          0.05817477118064507,
          0.2271983056755249,
          0.08033297950674922,
          0.8652522599177075,
          0.7798668414649498,
          0.6562659811111785,
          0.9855617714813161,
          0.09388622378943257,
          0.765069561292245,
          0.8065240054447367,
          0.6454385628028112,
          0.739333740481938,
          0.6619387918792253,
          0.6437204389765601,
          0.6566686885512208,
          0.16374541001819465,
          0.97158893496395,
          0.6766893111950444,
          0.6719697356166533,
          0.6292469401131522,
          0.891042480451864,
          0.9035005943814187,
          0.4670632705391199,
          0.247491612090582,
          0.3229000991084455,
          0.5594349411802235,
          0.3567387361363472,
          0.9467763883767545,
          0.8321796596598393,
          0.5322497460239101,
          0.5414407169429747,
          0.6295400623459093,
          0.5107636890148203,
          0.9035002614114638,
          0.14373719289154718,
          0.44722202319793136,
          0.6517029406191629,
          0.3850558850021062,
          0.3094722563080211,
          0.22481826416254436,
          0.5824463787526731,
          0.13605707275494117,
          0.45537900420279787,
          0.8790432404271477
         ]
        }
       ],
       "layout": {
        "template": {
         "data": {
          "bar": [
           {
            "error_x": {
             "color": "#2a3f5f"
            },
            "error_y": {
             "color": "#2a3f5f"
            },
            "marker": {
             "line": {
              "color": "#E5ECF6",
              "width": 0.5
             }
            },
            "type": "bar"
           }
          ],
          "barpolar": [
           {
            "marker": {
             "line": {
              "color": "#E5ECF6",
              "width": 0.5
             }
            },
            "type": "barpolar"
           }
          ],
          "carpet": [
           {
            "aaxis": {
             "endlinecolor": "#2a3f5f",
             "gridcolor": "white",
             "linecolor": "white",
             "minorgridcolor": "white",
             "startlinecolor": "#2a3f5f"
            },
            "baxis": {
             "endlinecolor": "#2a3f5f",
             "gridcolor": "white",
             "linecolor": "white",
             "minorgridcolor": "white",
             "startlinecolor": "#2a3f5f"
            },
            "type": "carpet"
           }
          ],
          "choropleth": [
           {
            "colorbar": {
             "outlinewidth": 0,
             "ticks": ""
            },
            "type": "choropleth"
           }
          ],
          "contour": [
           {
            "colorbar": {
             "outlinewidth": 0,
             "ticks": ""
            },
            "colorscale": [
             [
              0,
              "#0d0887"
             ],
             [
              0.1111111111111111,
              "#46039f"
             ],
             [
              0.2222222222222222,
              "#7201a8"
             ],
             [
              0.3333333333333333,
              "#9c179e"
             ],
             [
              0.4444444444444444,
              "#bd3786"
             ],
             [
              0.5555555555555556,
              "#d8576b"
             ],
             [
              0.6666666666666666,
              "#ed7953"
             ],
             [
              0.7777777777777778,
              "#fb9f3a"
             ],
             [
              0.8888888888888888,
              "#fdca26"
             ],
             [
              1,
              "#f0f921"
             ]
            ],
            "type": "contour"
           }
          ],
          "contourcarpet": [
           {
            "colorbar": {
             "outlinewidth": 0,
             "ticks": ""
            },
            "type": "contourcarpet"
           }
          ],
          "heatmap": [
           {
            "colorbar": {
             "outlinewidth": 0,
             "ticks": ""
            },
            "colorscale": [
             [
              0,
              "#0d0887"
             ],
             [
              0.1111111111111111,
              "#46039f"
             ],
             [
              0.2222222222222222,
              "#7201a8"
             ],
             [
              0.3333333333333333,
              "#9c179e"
             ],
             [
              0.4444444444444444,
              "#bd3786"
             ],
             [
              0.5555555555555556,
              "#d8576b"
             ],
             [
              0.6666666666666666,
              "#ed7953"
             ],
             [
              0.7777777777777778,
              "#fb9f3a"
             ],
             [
              0.8888888888888888,
              "#fdca26"
             ],
             [
              1,
              "#f0f921"
             ]
            ],
            "type": "heatmap"
           }
          ],
          "heatmapgl": [
           {
            "colorbar": {
             "outlinewidth": 0,
             "ticks": ""
            },
            "colorscale": [
             [
              0,
              "#0d0887"
             ],
             [
              0.1111111111111111,
              "#46039f"
             ],
             [
              0.2222222222222222,
              "#7201a8"
             ],
             [
              0.3333333333333333,
              "#9c179e"
             ],
             [
              0.4444444444444444,
              "#bd3786"
             ],
             [
              0.5555555555555556,
              "#d8576b"
             ],
             [
              0.6666666666666666,
              "#ed7953"
             ],
             [
              0.7777777777777778,
              "#fb9f3a"
             ],
             [
              0.8888888888888888,
              "#fdca26"
             ],
             [
              1,
              "#f0f921"
             ]
            ],
            "type": "heatmapgl"
           }
          ],
          "histogram": [
           {
            "marker": {
             "colorbar": {
              "outlinewidth": 0,
              "ticks": ""
             }
            },
            "type": "histogram"
           }
          ],
          "histogram2d": [
           {
            "colorbar": {
             "outlinewidth": 0,
             "ticks": ""
            },
            "colorscale": [
             [
              0,
              "#0d0887"
             ],
             [
              0.1111111111111111,
              "#46039f"
             ],
             [
              0.2222222222222222,
              "#7201a8"
             ],
             [
              0.3333333333333333,
              "#9c179e"
             ],
             [
              0.4444444444444444,
              "#bd3786"
             ],
             [
              0.5555555555555556,
              "#d8576b"
             ],
             [
              0.6666666666666666,
              "#ed7953"
             ],
             [
              0.7777777777777778,
              "#fb9f3a"
             ],
             [
              0.8888888888888888,
              "#fdca26"
             ],
             [
              1,
              "#f0f921"
             ]
            ],
            "type": "histogram2d"
           }
          ],
          "histogram2dcontour": [
           {
            "colorbar": {
             "outlinewidth": 0,
             "ticks": ""
            },
            "colorscale": [
             [
              0,
              "#0d0887"
             ],
             [
              0.1111111111111111,
              "#46039f"
             ],
             [
              0.2222222222222222,
              "#7201a8"
             ],
             [
              0.3333333333333333,
              "#9c179e"
             ],
             [
              0.4444444444444444,
              "#bd3786"
             ],
             [
              0.5555555555555556,
              "#d8576b"
             ],
             [
              0.6666666666666666,
              "#ed7953"
             ],
             [
              0.7777777777777778,
              "#fb9f3a"
             ],
             [
              0.8888888888888888,
              "#fdca26"
             ],
             [
              1,
              "#f0f921"
             ]
            ],
            "type": "histogram2dcontour"
           }
          ],
          "mesh3d": [
           {
            "colorbar": {
             "outlinewidth": 0,
             "ticks": ""
            },
            "type": "mesh3d"
           }
          ],
          "parcoords": [
           {
            "line": {
             "colorbar": {
              "outlinewidth": 0,
              "ticks": ""
             }
            },
            "type": "parcoords"
           }
          ],
          "scatter": [
           {
            "marker": {
             "colorbar": {
              "outlinewidth": 0,
              "ticks": ""
             }
            },
            "type": "scatter"
           }
          ],
          "scatter3d": [
           {
            "line": {
             "colorbar": {
              "outlinewidth": 0,
              "ticks": ""
             }
            },
            "marker": {
             "colorbar": {
              "outlinewidth": 0,
              "ticks": ""
             }
            },
            "type": "scatter3d"
           }
          ],
          "scattercarpet": [
           {
            "marker": {
             "colorbar": {
              "outlinewidth": 0,
              "ticks": ""
             }
            },
            "type": "scattercarpet"
           }
          ],
          "scattergeo": [
           {
            "marker": {
             "colorbar": {
              "outlinewidth": 0,
              "ticks": ""
             }
            },
            "type": "scattergeo"
           }
          ],
          "scattergl": [
           {
            "marker": {
             "colorbar": {
              "outlinewidth": 0,
              "ticks": ""
             }
            },
            "type": "scattergl"
           }
          ],
          "scattermapbox": [
           {
            "marker": {
             "colorbar": {
              "outlinewidth": 0,
              "ticks": ""
             }
            },
            "type": "scattermapbox"
           }
          ],
          "scatterpolar": [
           {
            "marker": {
             "colorbar": {
              "outlinewidth": 0,
              "ticks": ""
             }
            },
            "type": "scatterpolar"
           }
          ],
          "scatterpolargl": [
           {
            "marker": {
             "colorbar": {
              "outlinewidth": 0,
              "ticks": ""
             }
            },
            "type": "scatterpolargl"
           }
          ],
          "scatterternary": [
           {
            "marker": {
             "colorbar": {
              "outlinewidth": 0,
              "ticks": ""
             }
            },
            "type": "scatterternary"
           }
          ],
          "surface": [
           {
            "colorbar": {
             "outlinewidth": 0,
             "ticks": ""
            },
            "colorscale": [
             [
              0,
              "#0d0887"
             ],
             [
              0.1111111111111111,
              "#46039f"
             ],
             [
              0.2222222222222222,
              "#7201a8"
             ],
             [
              0.3333333333333333,
              "#9c179e"
             ],
             [
              0.4444444444444444,
              "#bd3786"
             ],
             [
              0.5555555555555556,
              "#d8576b"
             ],
             [
              0.6666666666666666,
              "#ed7953"
             ],
             [
              0.7777777777777778,
              "#fb9f3a"
             ],
             [
              0.8888888888888888,
              "#fdca26"
             ],
             [
              1,
              "#f0f921"
             ]
            ],
            "type": "surface"
           }
          ],
          "table": [
           {
            "cells": {
             "fill": {
              "color": "#EBF0F8"
             },
             "line": {
              "color": "white"
             }
            },
            "header": {
             "fill": {
              "color": "#C8D4E3"
             },
             "line": {
              "color": "white"
             }
            },
            "type": "table"
           }
          ]
         },
         "layout": {
          "annotationdefaults": {
           "arrowcolor": "#2a3f5f",
           "arrowhead": 0,
           "arrowwidth": 1
          },
          "colorscale": {
           "diverging": [
            [
             0,
             "#8e0152"
            ],
            [
             0.1,
             "#c51b7d"
            ],
            [
             0.2,
             "#de77ae"
            ],
            [
             0.3,
             "#f1b6da"
            ],
            [
             0.4,
             "#fde0ef"
            ],
            [
             0.5,
             "#f7f7f7"
            ],
            [
             0.6,
             "#e6f5d0"
            ],
            [
             0.7,
             "#b8e186"
            ],
            [
             0.8,
             "#7fbc41"
            ],
            [
             0.9,
             "#4d9221"
            ],
            [
             1,
             "#276419"
            ]
           ],
           "sequential": [
            [
             0,
             "#0d0887"
            ],
            [
             0.1111111111111111,
             "#46039f"
            ],
            [
             0.2222222222222222,
             "#7201a8"
            ],
            [
             0.3333333333333333,
             "#9c179e"
            ],
            [
             0.4444444444444444,
             "#bd3786"
            ],
            [
             0.5555555555555556,
             "#d8576b"
            ],
            [
             0.6666666666666666,
             "#ed7953"
            ],
            [
             0.7777777777777778,
             "#fb9f3a"
            ],
            [
             0.8888888888888888,
             "#fdca26"
            ],
            [
             1,
             "#f0f921"
            ]
           ],
           "sequentialminus": [
            [
             0,
             "#0d0887"
            ],
            [
             0.1111111111111111,
             "#46039f"
            ],
            [
             0.2222222222222222,
             "#7201a8"
            ],
            [
             0.3333333333333333,
             "#9c179e"
            ],
            [
             0.4444444444444444,
             "#bd3786"
            ],
            [
             0.5555555555555556,
             "#d8576b"
            ],
            [
             0.6666666666666666,
             "#ed7953"
            ],
            [
             0.7777777777777778,
             "#fb9f3a"
            ],
            [
             0.8888888888888888,
             "#fdca26"
            ],
            [
             1,
             "#f0f921"
            ]
           ]
          },
          "colorway": [
           "#636efa",
           "#EF553B",
           "#00cc96",
           "#ab63fa",
           "#FFA15A",
           "#19d3f3",
           "#FF6692",
           "#B6E880",
           "#FF97FF",
           "#FECB52"
          ],
          "font": {
           "color": "#2a3f5f"
          },
          "geo": {
           "bgcolor": "white",
           "lakecolor": "white",
           "landcolor": "#E5ECF6",
           "showlakes": true,
           "showland": true,
           "subunitcolor": "white"
          },
          "hoverlabel": {
           "align": "left"
          },
          "hovermode": "closest",
          "mapbox": {
           "style": "light"
          },
          "paper_bgcolor": "white",
          "plot_bgcolor": "#E5ECF6",
          "polar": {
           "angularaxis": {
            "gridcolor": "white",
            "linecolor": "white",
            "ticks": ""
           },
           "bgcolor": "#E5ECF6",
           "radialaxis": {
            "gridcolor": "white",
            "linecolor": "white",
            "ticks": ""
           }
          },
          "scene": {
           "xaxis": {
            "backgroundcolor": "#E5ECF6",
            "gridcolor": "white",
            "gridwidth": 2,
            "linecolor": "white",
            "showbackground": true,
            "ticks": "",
            "zerolinecolor": "white"
           },
           "yaxis": {
            "backgroundcolor": "#E5ECF6",
            "gridcolor": "white",
            "gridwidth": 2,
            "linecolor": "white",
            "showbackground": true,
            "ticks": "",
            "zerolinecolor": "white"
           },
           "zaxis": {
            "backgroundcolor": "#E5ECF6",
            "gridcolor": "white",
            "gridwidth": 2,
            "linecolor": "white",
            "showbackground": true,
            "ticks": "",
            "zerolinecolor": "white"
           }
          },
          "shapedefaults": {
           "line": {
            "color": "#2a3f5f"
           }
          },
          "ternary": {
           "aaxis": {
            "gridcolor": "white",
            "linecolor": "white",
            "ticks": ""
           },
           "baxis": {
            "gridcolor": "white",
            "linecolor": "white",
            "ticks": ""
           },
           "bgcolor": "#E5ECF6",
           "caxis": {
            "gridcolor": "white",
            "linecolor": "white",
            "ticks": ""
           }
          },
          "title": {
           "x": 0.05
          },
          "xaxis": {
           "automargin": true,
           "gridcolor": "white",
           "linecolor": "white",
           "ticks": "",
           "zerolinecolor": "white",
           "zerolinewidth": 2
          },
          "yaxis": {
           "automargin": true,
           "gridcolor": "white",
           "linecolor": "white",
           "ticks": "",
           "zerolinecolor": "white",
           "zerolinewidth": 2
          }
         }
        },
        "title": {
         "text": "Classification of Decision Tree on synthetic data"
        }
       }
      },
      "text/html": [
       "<div>\n",
       "        \n",
       "        \n",
       "            <div id=\"e7067fdd-c0ab-453b-9978-b38bde6b36da\" class=\"plotly-graph-div\" style=\"height:525px; width:100%;\"></div>\n",
       "            <script type=\"text/javascript\">\n",
       "                require([\"plotly\"], function(Plotly) {\n",
       "                    window.PLOTLYENV=window.PLOTLYENV || {};\n",
       "                    \n",
       "                if (document.getElementById(\"e7067fdd-c0ab-453b-9978-b38bde6b36da\")) {\n",
       "                    Plotly.newPlot(\n",
       "                        'e7067fdd-c0ab-453b-9978-b38bde6b36da',\n",
       "                        [{\"marker\": {\"color\": \"rgba(0, 0, 255, .5)\", \"size\": 10}, \"mode\": \"markers\", \"name\": \"True 1\", \"type\": \"scatter\", \"x\": [0.5243470307578613, 0.28425553026249184, 1.3132926947222243, 0.6709959845803255, 1.2853830767247019, 0.07845391040475613, 0.20767452724744884, 1.1642055649095429, 1.28601605256199, 0.013404085411470978, 0.9438516782482563, 0.12844156199944512, 0.9171242548375738, 0.2691108721218457, 0.008627393675463835, 0.7813558221578598, 0.10628177646179793, 0.9523271451988851, 0.31322560977378233, 0.9980680983228691, 0.18991813996746942, 0.5360798710815047, 0.43415551605863256, 0.05704801597588449, 0.5903350910888547, 0.46782685534764246, 0.17415973224433812, 1.0362765697292713, 0.8814953074225373, 0.15224892516646626, 0.11370492354760642, 0.22019103519454586, 1.2156642352832463, 1.7790112235983706, 0.9817070470263886, 0.2687287121058328, 0.7294961416644947, 1.790710064952734, 0.3004564918643231, 1.460763827911568, 1.4048218347406123, 0.05825824967290305, 1.0186582460851747, 0.5631381814212671, 1.5953923209585352, 0.2792792317962042, 0.7515072743952713, 0.039298744567883515, 0.19578629531324987, 1.9560461563656895, 0.2620402113985778, 0.10786461869892894, 0.4904336956659676, 0.24269127813688862, 1.9847408785622482, 0.341407013852421, 0.33468314733097226, 0.7948491577686463, 0.45306831683167204, 0.9636306720486444, 0.6930447588399604, 0.4001965522867563, 0.7403666502282796, 1.2785495444092783, 1.2981189099547648, 0.6018989373977389, 1.520389543972539, 0.4046543367032025, 0.5090455382688968, 0.8794902871782124], \"y\": [1.079264935551933, 0.9583626839766178, 0.8542815081260527, 0.9611362422943224, 1.1473463099152261, 0.8620143071461903, 0.5399893022073528, 0.9483517769203832, 0.8521983458145173, 1.3296152613000416, 0.09803151498939044, 0.4790259785162003, 0.4742389251106073, 0.8678267889768615, 0.21481315878777762, 0.8998862653856612, 0.5751140832558629, 1.7017467788112906, 0.4316555015873159, 0.27704093931650187, 0.04819667148142304, 0.6725030046970546, 1.7326595302403223, 0.16241485495509855, 0.9960523916419677, 0.27641668075191417, 0.1353043096054214, 1.8806104652881286, 0.8759845502010003, 0.8307306223031314, 0.041756577116516036, 0.5089386390271703, 0.8164969626981808, 1.713755189781471, 0.04979905441442345, 0.5679092215187613, 0.299899661406837, 1.5882625408355913, 0.7282050857459557, 1.0314878575141053, 1.3472915487039716, 0.482370563294619, 1.3335970727319504, 0.9549920881317969, 1.6817439251329134, 0.227122440099913, 0.47165750207715407, 0.004560401468439057, 0.846965755555593, 0.9035002614114638, 0.9885706636497442, 0.9022999128995699, 0.1710775965140212, 1.480732709660655, 1.6412347569895216, 0.9975772443055435, 0.7952097277470909, 0.852425361060562, 1.576055802684352, 0.6517029406191629, 0.042399031936531495, 0.06650867134905525, 0.8368577566534485, 1.466621182851212, 1.6089930877626175, 0.8277308668981942, 1.8382550540329246, 0.7815042555792612, 0.8143429786438477, 1.8404662551924995]}, {\"marker\": {\"color\": \"rgba(0, 255, 0, .5)\", \"size\": 10}, \"mode\": \"markers\", \"name\": \"True 2\", \"type\": \"scatter\", \"x\": [0.9308232377240336, 1.0748131378551686, 1.1706678430002004, 1.6776558996552846, 1.2867328668509823, 1.7390467967742458, 1.5900172152386798, 1.4468817993027645, 1.0900201085027899, 1.219412075345307, 1.4164156783164261, 1.4343851947994675, 1.6988129555925682, 1.5569367548321988, 1.3686629292014538, 1.5488864715700164, 1.2212676109093976, 1.0998091004250896, 1.6738042835044251, 1.4689423258739693, 1.297599099307099, 1.0480628080659582, 1.7944154757823316, 0.9565459466219431, 1.0775346111977595, 1.6475230295095136, 1.760347995344228, 1.0141994745354823, 1.7591164960156553, 0.9813674080424277, 0.9761204581358449, 0.9309737744017885, 1.5075002247834415, 1.438244407511415, 1.6028117660112309, 1.6317572989686164, 1.7560074731787787, 1.254397532820177, 1.5358269181567208, 1.4243566233682898, 1.2147400276081164, 1.2407723242891573, 0.9647660435315845, 1.0995796383741603, 0.9604156209865953, 1.5030259480757553, 1.5357728189614874, 1.5615939135351384, 0.8342527054462682, 1.0034752308643093, 1.324361448071281, 1.014176124381346, 0.9902599882513315, 0.9361335824516747, 1.0667517300322922, 0.8769771337238961, 1.70081967101896, 1.1317395149535927, 1.6115556957507073, 1.6376557623845893], \"y\": [0.31507754307534364, 0.38690042237717426, 0.06873435711720788, 0.2196836239688873, 0.9825109514692644, 0.37241633731629475, 0.28812156956528334, 0.07335380745620046, 0.0657389413831233, 0.8294303931719272, 0.05976208470992339, 0.11076760831448584, 0.05817477118064507, 0.2271983056755249, 0.08033297950674922, 0.8652522599177075, 0.7798668414649498, 0.6562659811111785, 0.9855617714813161, 0.09388622378943257, 0.765069561292245, 0.8065240054447367, 0.6454385628028112, 0.739333740481938, 0.6619387918792253, 0.6437204389765601, 0.6566686885512208, 0.16374541001819465, 0.97158893496395, 0.6766893111950444, 0.6719697356166533, 0.6292469401131522, 0.891042480451864, 0.9035005943814187, 0.4670632705391199, 0.247491612090582, 0.3229000991084455, 0.5594349411802235, 0.3567387361363472, 0.9467763883767545, 0.8321796596598393, 0.5322497460239101, 0.9519180615885291, 0.5414407169429747, 0.6295400623459093, 0.5107636890148203, 0.14373719289154718, 0.44722202319793136, 0.4895817920212667, 0.21402724757491154, 0.3850558850021062, 0.3094722563080211, 0.16495199214109946, 0.04088960632269523, 0.22481826416254436, 0.29539495008087857, 0.5824463787526731, 0.13605707275494117, 0.45537900420279787, 0.8790432404271477]}, {\"marker\": {\"color\": \"rgba(0, 0, 255, .5)\", \"size\": 10}, \"mode\": \"markers\", \"name\": \"Pred 1\", \"type\": \"scatter\", \"x\": [0.5243470307578613, 0.28425553026249184, 1.3132926947222243, 0.6709959845803255, 1.2853830767247019, 0.07845391040475613, 0.20767452724744884, 1.1642055649095429, 1.28601605256199, 0.013404085411470978, 0.9438516782482563, 0.12844156199944512, 0.9171242548375738, 0.2691108721218457, 0.008627393675463835, 0.7813558221578598, 0.10628177646179793, 0.9523271451988851, 0.31322560977378233, 0.9980680983228691, 0.18991813996746942, 0.5360798710815047, 0.43415551605863256, 0.05704801597588449, 0.5903350910888547, 0.46782685534764246, 0.17415973224433812, 1.0362765697292713, 0.8814953074225373, 0.15224892516646626, 0.11370492354760642, 0.22019103519454586, 1.2156642352832463, 1.7790112235983706, 0.9817070470263886, 0.2687287121058328, 0.7294961416644947, 1.790710064952734, 0.3004564918643231, 1.460763827911568, 1.4048218347406123, 0.05825824967290305, 1.0186582460851747, 0.5631381814212671, 1.5953923209585352, 0.2792792317962042, 0.7515072743952713, 0.039298744567883515, 0.19578629531324987, 0.9647660435315845, 0.2620402113985778, 0.10786461869892894, 0.4904336956659676, 0.24269127813688862, 1.9847408785622482, 0.341407013852421, 0.33468314733097226, 0.7948491577686463, 0.45306831683167204, 0.6930447588399604, 0.4001965522867563, 0.8342527054462682, 0.7403666502282796, 1.2785495444092783, 1.2981189099547648, 1.0034752308643093, 0.6018989373977389, 0.9902599882513315, 1.520389543972539, 0.4046543367032025, 0.9361335824516747, 0.5090455382688968, 0.8769771337238961, 0.8794902871782124], \"y\": [1.079264935551933, 0.9583626839766178, 0.8542815081260527, 0.9611362422943224, 1.1473463099152261, 0.8620143071461903, 0.5399893022073528, 0.9483517769203832, 0.8521983458145173, 1.3296152613000416, 0.09803151498939044, 0.4790259785162003, 0.4742389251106073, 0.8678267889768615, 0.21481315878777762, 0.8998862653856612, 0.5751140832558629, 1.7017467788112906, 0.4316555015873159, 0.27704093931650187, 0.04819667148142304, 0.6725030046970546, 1.7326595302403223, 0.16241485495509855, 0.9960523916419677, 0.27641668075191417, 0.1353043096054214, 1.8806104652881286, 0.8759845502010003, 0.8307306223031314, 0.041756577116516036, 0.5089386390271703, 0.8164969626981808, 1.713755189781471, 0.04979905441442345, 0.5679092215187613, 0.299899661406837, 1.5882625408355913, 0.7282050857459557, 1.0314878575141053, 1.3472915487039716, 0.482370563294619, 1.3335970727319504, 0.9549920881317969, 1.6817439251329134, 0.227122440099913, 0.47165750207715407, 0.004560401468439057, 0.846965755555593, 0.9519180615885291, 0.9885706636497442, 0.9022999128995699, 0.1710775965140212, 1.480732709660655, 1.6412347569895216, 0.9975772443055435, 0.7952097277470909, 0.852425361060562, 1.576055802684352, 0.042399031936531495, 0.06650867134905525, 0.4895817920212667, 0.8368577566534485, 1.466621182851212, 1.6089930877626175, 0.21402724757491154, 0.8277308668981942, 0.16495199214109946, 1.8382550540329246, 0.7815042555792612, 0.04088960632269523, 0.8143429786438477, 0.29539495008087857, 1.8404662551924995]}, {\"marker\": {\"color\": \"rgba(0, 255, 0, .5)\", \"size\": 10}, \"mode\": \"markers\", \"name\": \"Pred 2\", \"type\": \"scatter\", \"x\": [0.9308232377240336, 1.0748131378551686, 1.1706678430002004, 1.6776558996552846, 1.2867328668509823, 1.7390467967742458, 1.5900172152386798, 1.4468817993027645, 1.0900201085027899, 1.219412075345307, 1.4164156783164261, 1.4343851947994675, 1.6988129555925682, 1.5569367548321988, 1.3686629292014538, 1.5488864715700164, 1.2212676109093976, 1.0998091004250896, 1.6738042835044251, 1.4689423258739693, 1.297599099307099, 1.0480628080659582, 1.7944154757823316, 0.9565459466219431, 1.0775346111977595, 1.6475230295095136, 1.760347995344228, 1.0141994745354823, 1.7591164960156553, 0.9813674080424277, 0.9761204581358449, 0.9309737744017885, 1.5075002247834415, 1.438244407511415, 1.6028117660112309, 1.6317572989686164, 1.7560074731787787, 1.254397532820177, 1.5358269181567208, 1.4243566233682898, 1.2147400276081164, 1.2407723242891573, 1.0995796383741603, 0.9604156209865953, 1.5030259480757553, 1.9560461563656895, 1.5357728189614874, 1.5615939135351384, 0.9636306720486444, 1.324361448071281, 1.014176124381346, 1.0667517300322922, 1.70081967101896, 1.1317395149535927, 1.6115556957507073, 1.6376557623845893], \"y\": [0.31507754307534364, 0.38690042237717426, 0.06873435711720788, 0.2196836239688873, 0.9825109514692644, 0.37241633731629475, 0.28812156956528334, 0.07335380745620046, 0.0657389413831233, 0.8294303931719272, 0.05976208470992339, 0.11076760831448584, 0.05817477118064507, 0.2271983056755249, 0.08033297950674922, 0.8652522599177075, 0.7798668414649498, 0.6562659811111785, 0.9855617714813161, 0.09388622378943257, 0.765069561292245, 0.8065240054447367, 0.6454385628028112, 0.739333740481938, 0.6619387918792253, 0.6437204389765601, 0.6566686885512208, 0.16374541001819465, 0.97158893496395, 0.6766893111950444, 0.6719697356166533, 0.6292469401131522, 0.891042480451864, 0.9035005943814187, 0.4670632705391199, 0.247491612090582, 0.3229000991084455, 0.5594349411802235, 0.3567387361363472, 0.9467763883767545, 0.8321796596598393, 0.5322497460239101, 0.5414407169429747, 0.6295400623459093, 0.5107636890148203, 0.9035002614114638, 0.14373719289154718, 0.44722202319793136, 0.6517029406191629, 0.3850558850021062, 0.3094722563080211, 0.22481826416254436, 0.5824463787526731, 0.13605707275494117, 0.45537900420279787, 0.8790432404271477]}],\n",
       "                        {\"template\": {\"data\": {\"bar\": [{\"error_x\": {\"color\": \"#2a3f5f\"}, \"error_y\": {\"color\": \"#2a3f5f\"}, \"marker\": {\"line\": {\"color\": \"#E5ECF6\", \"width\": 0.5}}, \"type\": \"bar\"}], \"barpolar\": [{\"marker\": {\"line\": {\"color\": \"#E5ECF6\", \"width\": 0.5}}, \"type\": \"barpolar\"}], \"carpet\": [{\"aaxis\": {\"endlinecolor\": \"#2a3f5f\", \"gridcolor\": \"white\", \"linecolor\": \"white\", \"minorgridcolor\": \"white\", \"startlinecolor\": \"#2a3f5f\"}, \"baxis\": {\"endlinecolor\": \"#2a3f5f\", \"gridcolor\": \"white\", \"linecolor\": \"white\", \"minorgridcolor\": \"white\", \"startlinecolor\": \"#2a3f5f\"}, \"type\": \"carpet\"}], \"choropleth\": [{\"colorbar\": {\"outlinewidth\": 0, \"ticks\": \"\"}, \"type\": \"choropleth\"}], \"contour\": [{\"colorbar\": {\"outlinewidth\": 0, \"ticks\": \"\"}, \"colorscale\": [[0.0, \"#0d0887\"], [0.1111111111111111, \"#46039f\"], [0.2222222222222222, \"#7201a8\"], [0.3333333333333333, \"#9c179e\"], [0.4444444444444444, \"#bd3786\"], [0.5555555555555556, \"#d8576b\"], [0.6666666666666666, \"#ed7953\"], [0.7777777777777778, \"#fb9f3a\"], [0.8888888888888888, \"#fdca26\"], [1.0, \"#f0f921\"]], \"type\": \"contour\"}], \"contourcarpet\": [{\"colorbar\": {\"outlinewidth\": 0, \"ticks\": \"\"}, \"type\": \"contourcarpet\"}], \"heatmap\": [{\"colorbar\": {\"outlinewidth\": 0, \"ticks\": \"\"}, \"colorscale\": [[0.0, \"#0d0887\"], [0.1111111111111111, \"#46039f\"], [0.2222222222222222, \"#7201a8\"], [0.3333333333333333, \"#9c179e\"], [0.4444444444444444, \"#bd3786\"], [0.5555555555555556, \"#d8576b\"], [0.6666666666666666, \"#ed7953\"], [0.7777777777777778, \"#fb9f3a\"], [0.8888888888888888, \"#fdca26\"], [1.0, \"#f0f921\"]], \"type\": \"heatmap\"}], \"heatmapgl\": [{\"colorbar\": {\"outlinewidth\": 0, \"ticks\": \"\"}, \"colorscale\": [[0.0, \"#0d0887\"], [0.1111111111111111, \"#46039f\"], [0.2222222222222222, \"#7201a8\"], [0.3333333333333333, \"#9c179e\"], [0.4444444444444444, \"#bd3786\"], [0.5555555555555556, \"#d8576b\"], [0.6666666666666666, \"#ed7953\"], [0.7777777777777778, \"#fb9f3a\"], [0.8888888888888888, \"#fdca26\"], [1.0, \"#f0f921\"]], \"type\": \"heatmapgl\"}], \"histogram\": [{\"marker\": {\"colorbar\": {\"outlinewidth\": 0, \"ticks\": \"\"}}, \"type\": \"histogram\"}], \"histogram2d\": [{\"colorbar\": {\"outlinewidth\": 0, \"ticks\": \"\"}, \"colorscale\": [[0.0, \"#0d0887\"], [0.1111111111111111, \"#46039f\"], [0.2222222222222222, \"#7201a8\"], [0.3333333333333333, \"#9c179e\"], [0.4444444444444444, \"#bd3786\"], [0.5555555555555556, \"#d8576b\"], [0.6666666666666666, \"#ed7953\"], [0.7777777777777778, \"#fb9f3a\"], [0.8888888888888888, \"#fdca26\"], [1.0, \"#f0f921\"]], \"type\": \"histogram2d\"}], \"histogram2dcontour\": [{\"colorbar\": {\"outlinewidth\": 0, \"ticks\": \"\"}, \"colorscale\": [[0.0, \"#0d0887\"], [0.1111111111111111, \"#46039f\"], [0.2222222222222222, \"#7201a8\"], [0.3333333333333333, \"#9c179e\"], [0.4444444444444444, \"#bd3786\"], [0.5555555555555556, \"#d8576b\"], [0.6666666666666666, \"#ed7953\"], [0.7777777777777778, \"#fb9f3a\"], [0.8888888888888888, \"#fdca26\"], [1.0, \"#f0f921\"]], \"type\": \"histogram2dcontour\"}], \"mesh3d\": [{\"colorbar\": {\"outlinewidth\": 0, \"ticks\": \"\"}, \"type\": \"mesh3d\"}], \"parcoords\": [{\"line\": {\"colorbar\": {\"outlinewidth\": 0, \"ticks\": \"\"}}, \"type\": \"parcoords\"}], \"scatter\": [{\"marker\": {\"colorbar\": {\"outlinewidth\": 0, \"ticks\": \"\"}}, \"type\": \"scatter\"}], \"scatter3d\": [{\"line\": {\"colorbar\": {\"outlinewidth\": 0, \"ticks\": \"\"}}, \"marker\": {\"colorbar\": {\"outlinewidth\": 0, \"ticks\": \"\"}}, \"type\": \"scatter3d\"}], \"scattercarpet\": [{\"marker\": {\"colorbar\": {\"outlinewidth\": 0, \"ticks\": \"\"}}, \"type\": \"scattercarpet\"}], \"scattergeo\": [{\"marker\": {\"colorbar\": {\"outlinewidth\": 0, \"ticks\": \"\"}}, \"type\": \"scattergeo\"}], \"scattergl\": [{\"marker\": {\"colorbar\": {\"outlinewidth\": 0, \"ticks\": \"\"}}, \"type\": \"scattergl\"}], \"scattermapbox\": [{\"marker\": {\"colorbar\": {\"outlinewidth\": 0, \"ticks\": \"\"}}, \"type\": \"scattermapbox\"}], \"scatterpolar\": [{\"marker\": {\"colorbar\": {\"outlinewidth\": 0, \"ticks\": \"\"}}, \"type\": \"scatterpolar\"}], \"scatterpolargl\": [{\"marker\": {\"colorbar\": {\"outlinewidth\": 0, \"ticks\": \"\"}}, \"type\": \"scatterpolargl\"}], \"scatterternary\": [{\"marker\": {\"colorbar\": {\"outlinewidth\": 0, \"ticks\": \"\"}}, \"type\": \"scatterternary\"}], \"surface\": [{\"colorbar\": {\"outlinewidth\": 0, \"ticks\": \"\"}, \"colorscale\": [[0.0, \"#0d0887\"], [0.1111111111111111, \"#46039f\"], [0.2222222222222222, \"#7201a8\"], [0.3333333333333333, \"#9c179e\"], [0.4444444444444444, \"#bd3786\"], [0.5555555555555556, \"#d8576b\"], [0.6666666666666666, \"#ed7953\"], [0.7777777777777778, \"#fb9f3a\"], [0.8888888888888888, \"#fdca26\"], [1.0, \"#f0f921\"]], \"type\": \"surface\"}], \"table\": [{\"cells\": {\"fill\": {\"color\": \"#EBF0F8\"}, \"line\": {\"color\": \"white\"}}, \"header\": {\"fill\": {\"color\": \"#C8D4E3\"}, \"line\": {\"color\": \"white\"}}, \"type\": \"table\"}]}, \"layout\": {\"annotationdefaults\": {\"arrowcolor\": \"#2a3f5f\", \"arrowhead\": 0, \"arrowwidth\": 1}, \"colorscale\": {\"diverging\": [[0, \"#8e0152\"], [0.1, \"#c51b7d\"], [0.2, \"#de77ae\"], [0.3, \"#f1b6da\"], [0.4, \"#fde0ef\"], [0.5, \"#f7f7f7\"], [0.6, \"#e6f5d0\"], [0.7, \"#b8e186\"], [0.8, \"#7fbc41\"], [0.9, \"#4d9221\"], [1, \"#276419\"]], \"sequential\": [[0.0, \"#0d0887\"], [0.1111111111111111, \"#46039f\"], [0.2222222222222222, \"#7201a8\"], [0.3333333333333333, \"#9c179e\"], [0.4444444444444444, \"#bd3786\"], [0.5555555555555556, \"#d8576b\"], [0.6666666666666666, \"#ed7953\"], [0.7777777777777778, \"#fb9f3a\"], [0.8888888888888888, \"#fdca26\"], [1.0, \"#f0f921\"]], \"sequentialminus\": [[0.0, \"#0d0887\"], [0.1111111111111111, \"#46039f\"], [0.2222222222222222, \"#7201a8\"], [0.3333333333333333, \"#9c179e\"], [0.4444444444444444, \"#bd3786\"], [0.5555555555555556, \"#d8576b\"], [0.6666666666666666, \"#ed7953\"], [0.7777777777777778, \"#fb9f3a\"], [0.8888888888888888, \"#fdca26\"], [1.0, \"#f0f921\"]]}, \"colorway\": [\"#636efa\", \"#EF553B\", \"#00cc96\", \"#ab63fa\", \"#FFA15A\", \"#19d3f3\", \"#FF6692\", \"#B6E880\", \"#FF97FF\", \"#FECB52\"], \"font\": {\"color\": \"#2a3f5f\"}, \"geo\": {\"bgcolor\": \"white\", \"lakecolor\": \"white\", \"landcolor\": \"#E5ECF6\", \"showlakes\": true, \"showland\": true, \"subunitcolor\": \"white\"}, \"hoverlabel\": {\"align\": \"left\"}, \"hovermode\": \"closest\", \"mapbox\": {\"style\": \"light\"}, \"paper_bgcolor\": \"white\", \"plot_bgcolor\": \"#E5ECF6\", \"polar\": {\"angularaxis\": {\"gridcolor\": \"white\", \"linecolor\": \"white\", \"ticks\": \"\"}, \"bgcolor\": \"#E5ECF6\", \"radialaxis\": {\"gridcolor\": \"white\", \"linecolor\": \"white\", \"ticks\": \"\"}}, \"scene\": {\"xaxis\": {\"backgroundcolor\": \"#E5ECF6\", \"gridcolor\": \"white\", \"gridwidth\": 2, \"linecolor\": \"white\", \"showbackground\": true, \"ticks\": \"\", \"zerolinecolor\": \"white\"}, \"yaxis\": {\"backgroundcolor\": \"#E5ECF6\", \"gridcolor\": \"white\", \"gridwidth\": 2, \"linecolor\": \"white\", \"showbackground\": true, \"ticks\": \"\", \"zerolinecolor\": \"white\"}, \"zaxis\": {\"backgroundcolor\": \"#E5ECF6\", \"gridcolor\": \"white\", \"gridwidth\": 2, \"linecolor\": \"white\", \"showbackground\": true, \"ticks\": \"\", \"zerolinecolor\": \"white\"}}, \"shapedefaults\": {\"line\": {\"color\": \"#2a3f5f\"}}, \"ternary\": {\"aaxis\": {\"gridcolor\": \"white\", \"linecolor\": \"white\", \"ticks\": \"\"}, \"baxis\": {\"gridcolor\": \"white\", \"linecolor\": \"white\", \"ticks\": \"\"}, \"bgcolor\": \"#E5ECF6\", \"caxis\": {\"gridcolor\": \"white\", \"linecolor\": \"white\", \"ticks\": \"\"}}, \"title\": {\"x\": 0.05}, \"xaxis\": {\"automargin\": true, \"gridcolor\": \"white\", \"linecolor\": \"white\", \"ticks\": \"\", \"zerolinecolor\": \"white\", \"zerolinewidth\": 2}, \"yaxis\": {\"automargin\": true, \"gridcolor\": \"white\", \"linecolor\": \"white\", \"ticks\": \"\", \"zerolinecolor\": \"white\", \"zerolinewidth\": 2}}}, \"title\": {\"text\": \"Classification of Decision Tree on synthetic data\"}},\n",
       "                        {\"responsive\": true}\n",
       "                    ).then(function(){\n",
       "                            \n",
       "var gd = document.getElementById('e7067fdd-c0ab-453b-9978-b38bde6b36da');\n",
       "var x = new MutationObserver(function (mutations, observer) {{\n",
       "        var display = window.getComputedStyle(gd).display;\n",
       "        if (!display || display === 'none') {{\n",
       "            console.log([gd, 'removed!']);\n",
       "            Plotly.purge(gd);\n",
       "            observer.disconnect();\n",
       "        }}\n",
       "}});\n",
       "\n",
       "// Listen for the removal of the full notebook cells\n",
       "var notebookContainer = gd.closest('#notebook-container');\n",
       "if (notebookContainer) {{\n",
       "    x.observe(notebookContainer, {childList: true});\n",
       "}}\n",
       "\n",
       "// Listen for the clearing of the current output cell\n",
       "var outputEl = gd.closest('.output');\n",
       "if (outputEl) {{\n",
       "    x.observe(outputEl, {childList: true});\n",
       "}}\n",
       "\n",
       "                        })\n",
       "                };\n",
       "                });\n",
       "            </script>\n",
       "        </div>"
      ]
     },
     "metadata": {},
     "output_type": "display_data"
    }
   ],
   "source": [
    "iplot(clas_plotly_plot(data.values,dt,\"Decision Tree\"))"
   ]
  },
  {
   "cell_type": "code",
   "execution_count": 63,
   "metadata": {},
   "outputs": [
    {
     "data": {
      "application/vnd.plotly.v1+json": {
       "config": {
        "linkText": "Export to plot.ly",
        "plotlyServerURL": "https://plot.ly",
        "showLink": false
       },
       "data": [
        {
         "marker": {
          "color": "rgba(0, 0, 255, .5)",
          "size": 10
         },
         "mode": "markers",
         "name": "True 1",
         "type": "scatter",
         "x": [
          0.5243470307578613,
          0.28425553026249184,
          1.3132926947222243,
          0.6709959845803255,
          1.2853830767247019,
          0.07845391040475613,
          0.20767452724744884,
          1.1642055649095429,
          1.28601605256199,
          0.013404085411470978,
          0.9438516782482563,
          0.12844156199944512,
          0.9171242548375738,
          0.2691108721218457,
          0.008627393675463835,
          0.7813558221578598,
          0.10628177646179793,
          0.9523271451988851,
          0.31322560977378233,
          0.9980680983228691,
          0.18991813996746942,
          0.5360798710815047,
          0.43415551605863256,
          0.05704801597588449,
          0.5903350910888547,
          0.46782685534764246,
          0.17415973224433812,
          1.0362765697292713,
          0.8814953074225373,
          0.15224892516646626,
          0.11370492354760642,
          0.22019103519454586,
          1.2156642352832463,
          1.7790112235983706,
          0.9817070470263886,
          0.2687287121058328,
          0.7294961416644947,
          1.790710064952734,
          0.3004564918643231,
          1.460763827911568,
          1.4048218347406123,
          0.05825824967290305,
          1.0186582460851747,
          0.5631381814212671,
          1.5953923209585352,
          0.2792792317962042,
          0.7515072743952713,
          0.039298744567883515,
          0.19578629531324987,
          1.9560461563656895,
          0.2620402113985778,
          0.10786461869892894,
          0.4904336956659676,
          0.24269127813688862,
          1.9847408785622482,
          0.341407013852421,
          0.33468314733097226,
          0.7948491577686463,
          0.45306831683167204,
          0.9636306720486444,
          0.6930447588399604,
          0.4001965522867563,
          0.7403666502282796,
          1.2785495444092783,
          1.2981189099547648,
          0.6018989373977389,
          1.520389543972539,
          0.4046543367032025,
          0.5090455382688968,
          0.8794902871782124
         ],
         "y": [
          1.079264935551933,
          0.9583626839766178,
          0.8542815081260527,
          0.9611362422943224,
          1.1473463099152261,
          0.8620143071461903,
          0.5399893022073528,
          0.9483517769203832,
          0.8521983458145173,
          1.3296152613000416,
          0.09803151498939044,
          0.4790259785162003,
          0.4742389251106073,
          0.8678267889768615,
          0.21481315878777762,
          0.8998862653856612,
          0.5751140832558629,
          1.7017467788112906,
          0.4316555015873159,
          0.27704093931650187,
          0.04819667148142304,
          0.6725030046970546,
          1.7326595302403223,
          0.16241485495509855,
          0.9960523916419677,
          0.27641668075191417,
          0.1353043096054214,
          1.8806104652881286,
          0.8759845502010003,
          0.8307306223031314,
          0.041756577116516036,
          0.5089386390271703,
          0.8164969626981808,
          1.713755189781471,
          0.04979905441442345,
          0.5679092215187613,
          0.299899661406837,
          1.5882625408355913,
          0.7282050857459557,
          1.0314878575141053,
          1.3472915487039716,
          0.482370563294619,
          1.3335970727319504,
          0.9549920881317969,
          1.6817439251329134,
          0.227122440099913,
          0.47165750207715407,
          0.004560401468439057,
          0.846965755555593,
          0.9035002614114638,
          0.9885706636497442,
          0.9022999128995699,
          0.1710775965140212,
          1.480732709660655,
          1.6412347569895216,
          0.9975772443055435,
          0.7952097277470909,
          0.852425361060562,
          1.576055802684352,
          0.6517029406191629,
          0.042399031936531495,
          0.06650867134905525,
          0.8368577566534485,
          1.466621182851212,
          1.6089930877626175,
          0.8277308668981942,
          1.8382550540329246,
          0.7815042555792612,
          0.8143429786438477,
          1.8404662551924995
         ]
        },
        {
         "marker": {
          "color": "rgba(0, 255, 0, .5)",
          "size": 10
         },
         "mode": "markers",
         "name": "True 2",
         "type": "scatter",
         "x": [
          0.9308232377240336,
          1.0748131378551686,
          1.1706678430002004,
          1.6776558996552846,
          1.2867328668509823,
          1.7390467967742458,
          1.5900172152386798,
          1.4468817993027645,
          1.0900201085027899,
          1.219412075345307,
          1.4164156783164261,
          1.4343851947994675,
          1.6988129555925682,
          1.5569367548321988,
          1.3686629292014538,
          1.5488864715700164,
          1.2212676109093976,
          1.0998091004250896,
          1.6738042835044251,
          1.4689423258739693,
          1.297599099307099,
          1.0480628080659582,
          1.7944154757823316,
          0.9565459466219431,
          1.0775346111977595,
          1.6475230295095136,
          1.760347995344228,
          1.0141994745354823,
          1.7591164960156553,
          0.9813674080424277,
          0.9761204581358449,
          0.9309737744017885,
          1.5075002247834415,
          1.438244407511415,
          1.6028117660112309,
          1.6317572989686164,
          1.7560074731787787,
          1.254397532820177,
          1.5358269181567208,
          1.4243566233682898,
          1.2147400276081164,
          1.2407723242891573,
          0.9647660435315845,
          1.0995796383741603,
          0.9604156209865953,
          1.5030259480757553,
          1.5357728189614874,
          1.5615939135351384,
          0.8342527054462682,
          1.0034752308643093,
          1.324361448071281,
          1.014176124381346,
          0.9902599882513315,
          0.9361335824516747,
          1.0667517300322922,
          0.8769771337238961,
          1.70081967101896,
          1.1317395149535927,
          1.6115556957507073,
          1.6376557623845893
         ],
         "y": [
          0.31507754307534364,
          0.38690042237717426,
          0.06873435711720788,
          0.2196836239688873,
          0.9825109514692644,
          0.37241633731629475,
          0.28812156956528334,
          0.07335380745620046,
          0.0657389413831233,
          0.8294303931719272,
          0.05976208470992339,
          0.11076760831448584,
          0.05817477118064507,
          0.2271983056755249,
          0.08033297950674922,
          0.8652522599177075,
          0.7798668414649498,
          0.6562659811111785,
          0.9855617714813161,
          0.09388622378943257,
          0.765069561292245,
          0.8065240054447367,
          0.6454385628028112,
          0.739333740481938,
          0.6619387918792253,
          0.6437204389765601,
          0.6566686885512208,
          0.16374541001819465,
          0.97158893496395,
          0.6766893111950444,
          0.6719697356166533,
          0.6292469401131522,
          0.891042480451864,
          0.9035005943814187,
          0.4670632705391199,
          0.247491612090582,
          0.3229000991084455,
          0.5594349411802235,
          0.3567387361363472,
          0.9467763883767545,
          0.8321796596598393,
          0.5322497460239101,
          0.9519180615885291,
          0.5414407169429747,
          0.6295400623459093,
          0.5107636890148203,
          0.14373719289154718,
          0.44722202319793136,
          0.4895817920212667,
          0.21402724757491154,
          0.3850558850021062,
          0.3094722563080211,
          0.16495199214109946,
          0.04088960632269523,
          0.22481826416254436,
          0.29539495008087857,
          0.5824463787526731,
          0.13605707275494117,
          0.45537900420279787,
          0.8790432404271477
         ]
        },
        {
         "marker": {
          "color": "rgba(0, 0, 255, .5)",
          "size": 10
         },
         "mode": "markers",
         "name": "Pred 1",
         "type": "scatter",
         "x": [
          0.5243470307578613,
          0.9308232377240336,
          0.28425553026249184,
          1.3132926947222243,
          0.6709959845803255,
          1.2853830767247019,
          0.07845391040475613,
          0.20767452724744884,
          1.2867328668509823,
          1.28601605256199,
          0.013404085411470978,
          0.9438516782482563,
          0.12844156199944512,
          0.2691108721218457,
          0.008627393675463835,
          0.7813558221578598,
          0.10628177646179793,
          0.9523271451988851,
          0.31322560977378233,
          0.18991813996746942,
          0.5360798710815047,
          0.43415551605863256,
          0.05704801597588449,
          0.5903350910888547,
          0.46782685534764246,
          0.17415973224433812,
          1.0362765697292713,
          0.8814953074225373,
          0.15224892516646626,
          1.0141994745354823,
          0.11370492354760642,
          0.22019103519454586,
          1.7790112235983706,
          0.9817070470263886,
          0.2687287121058328,
          0.7294961416644947,
          1.790710064952734,
          0.3004564918643231,
          1.4048218347406123,
          0.05825824967290305,
          1.0186582460851747,
          0.5631381814212671,
          1.5953923209585352,
          0.2792792317962042,
          0.7515072743952713,
          0.039298744567883515,
          0.19578629531324987,
          0.9647660435315845,
          0.2620402113985778,
          0.10786461869892894,
          0.4904336956659676,
          0.24269127813688862,
          1.9847408785622482,
          0.341407013852421,
          0.33468314733097226,
          0.7948491577686463,
          0.45306831683167204,
          0.6930447588399604,
          0.4001965522867563,
          0.8342527054462682,
          0.7403666502282796,
          1.2785495444092783,
          1.2981189099547648,
          0.6018989373977389,
          0.9902599882513315,
          1.520389543972539,
          0.4046543367032025,
          0.9361335824516747,
          0.5090455382688968,
          0.8769771337238961,
          0.8794902871782124
         ],
         "y": [
          1.079264935551933,
          0.31507754307534364,
          0.9583626839766178,
          0.8542815081260527,
          0.9611362422943224,
          1.1473463099152261,
          0.8620143071461903,
          0.5399893022073528,
          0.9825109514692644,
          0.8521983458145173,
          1.3296152613000416,
          0.09803151498939044,
          0.4790259785162003,
          0.8678267889768615,
          0.21481315878777762,
          0.8998862653856612,
          0.5751140832558629,
          1.7017467788112906,
          0.4316555015873159,
          0.04819667148142304,
          0.6725030046970546,
          1.7326595302403223,
          0.16241485495509855,
          0.9960523916419677,
          0.27641668075191417,
          0.1353043096054214,
          1.8806104652881286,
          0.8759845502010003,
          0.8307306223031314,
          0.16374541001819465,
          0.041756577116516036,
          0.5089386390271703,
          1.713755189781471,
          0.04979905441442345,
          0.5679092215187613,
          0.299899661406837,
          1.5882625408355913,
          0.7282050857459557,
          1.3472915487039716,
          0.482370563294619,
          1.3335970727319504,
          0.9549920881317969,
          1.6817439251329134,
          0.227122440099913,
          0.47165750207715407,
          0.004560401468439057,
          0.846965755555593,
          0.9519180615885291,
          0.9885706636497442,
          0.9022999128995699,
          0.1710775965140212,
          1.480732709660655,
          1.6412347569895216,
          0.9975772443055435,
          0.7952097277470909,
          0.852425361060562,
          1.576055802684352,
          0.042399031936531495,
          0.06650867134905525,
          0.4895817920212667,
          0.8368577566534485,
          1.466621182851212,
          1.6089930877626175,
          0.8277308668981942,
          0.16495199214109946,
          1.8382550540329246,
          0.7815042555792612,
          0.04088960632269523,
          0.8143429786438477,
          0.29539495008087857,
          1.8404662551924995
         ]
        },
        {
         "marker": {
          "color": "rgba(0, 255, 0, .5)",
          "size": 10
         },
         "mode": "markers",
         "name": "Pred 2",
         "type": "scatter",
         "x": [
          1.0748131378551686,
          1.1706678430002004,
          1.6776558996552846,
          1.7390467967742458,
          1.5900172152386798,
          1.4468817993027645,
          1.1642055649095429,
          1.0900201085027899,
          1.219412075345307,
          1.4164156783164261,
          1.4343851947994675,
          1.6988129555925682,
          1.5569367548321988,
          0.9171242548375738,
          1.3686629292014538,
          1.5488864715700164,
          1.2212676109093976,
          1.0998091004250896,
          1.6738042835044251,
          1.4689423258739693,
          0.9980680983228691,
          1.297599099307099,
          1.0480628080659582,
          1.7944154757823316,
          0.9565459466219431,
          1.0775346111977595,
          1.6475230295095136,
          1.760347995344228,
          1.7591164960156553,
          1.2156642352832463,
          0.9813674080424277,
          0.9761204581358449,
          0.9309737744017885,
          1.5075002247834415,
          1.438244407511415,
          1.6028117660112309,
          1.6317572989686164,
          1.7560074731787787,
          1.460763827911568,
          1.254397532820177,
          1.5358269181567208,
          1.4243566233682898,
          1.2147400276081164,
          1.2407723242891573,
          1.0995796383741603,
          0.9604156209865953,
          1.5030259480757553,
          1.9560461563656895,
          1.5357728189614874,
          1.5615939135351384,
          0.9636306720486444,
          1.0034752308643093,
          1.324361448071281,
          1.014176124381346,
          1.0667517300322922,
          1.70081967101896,
          1.1317395149535927,
          1.6115556957507073,
          1.6376557623845893
         ],
         "y": [
          0.38690042237717426,
          0.06873435711720788,
          0.2196836239688873,
          0.37241633731629475,
          0.28812156956528334,
          0.07335380745620046,
          0.9483517769203832,
          0.0657389413831233,
          0.8294303931719272,
          0.05976208470992339,
          0.11076760831448584,
          0.05817477118064507,
          0.2271983056755249,
          0.4742389251106073,
          0.08033297950674922,
          0.8652522599177075,
          0.7798668414649498,
          0.6562659811111785,
          0.9855617714813161,
          0.09388622378943257,
          0.27704093931650187,
          0.765069561292245,
          0.8065240054447367,
          0.6454385628028112,
          0.739333740481938,
          0.6619387918792253,
          0.6437204389765601,
          0.6566686885512208,
          0.97158893496395,
          0.8164969626981808,
          0.6766893111950444,
          0.6719697356166533,
          0.6292469401131522,
          0.891042480451864,
          0.9035005943814187,
          0.4670632705391199,
          0.247491612090582,
          0.3229000991084455,
          1.0314878575141053,
          0.5594349411802235,
          0.3567387361363472,
          0.9467763883767545,
          0.8321796596598393,
          0.5322497460239101,
          0.5414407169429747,
          0.6295400623459093,
          0.5107636890148203,
          0.9035002614114638,
          0.14373719289154718,
          0.44722202319793136,
          0.6517029406191629,
          0.21402724757491154,
          0.3850558850021062,
          0.3094722563080211,
          0.22481826416254436,
          0.5824463787526731,
          0.13605707275494117,
          0.45537900420279787,
          0.8790432404271477
         ]
        }
       ],
       "layout": {
        "template": {
         "data": {
          "bar": [
           {
            "error_x": {
             "color": "#2a3f5f"
            },
            "error_y": {
             "color": "#2a3f5f"
            },
            "marker": {
             "line": {
              "color": "#E5ECF6",
              "width": 0.5
             }
            },
            "type": "bar"
           }
          ],
          "barpolar": [
           {
            "marker": {
             "line": {
              "color": "#E5ECF6",
              "width": 0.5
             }
            },
            "type": "barpolar"
           }
          ],
          "carpet": [
           {
            "aaxis": {
             "endlinecolor": "#2a3f5f",
             "gridcolor": "white",
             "linecolor": "white",
             "minorgridcolor": "white",
             "startlinecolor": "#2a3f5f"
            },
            "baxis": {
             "endlinecolor": "#2a3f5f",
             "gridcolor": "white",
             "linecolor": "white",
             "minorgridcolor": "white",
             "startlinecolor": "#2a3f5f"
            },
            "type": "carpet"
           }
          ],
          "choropleth": [
           {
            "colorbar": {
             "outlinewidth": 0,
             "ticks": ""
            },
            "type": "choropleth"
           }
          ],
          "contour": [
           {
            "colorbar": {
             "outlinewidth": 0,
             "ticks": ""
            },
            "colorscale": [
             [
              0,
              "#0d0887"
             ],
             [
              0.1111111111111111,
              "#46039f"
             ],
             [
              0.2222222222222222,
              "#7201a8"
             ],
             [
              0.3333333333333333,
              "#9c179e"
             ],
             [
              0.4444444444444444,
              "#bd3786"
             ],
             [
              0.5555555555555556,
              "#d8576b"
             ],
             [
              0.6666666666666666,
              "#ed7953"
             ],
             [
              0.7777777777777778,
              "#fb9f3a"
             ],
             [
              0.8888888888888888,
              "#fdca26"
             ],
             [
              1,
              "#f0f921"
             ]
            ],
            "type": "contour"
           }
          ],
          "contourcarpet": [
           {
            "colorbar": {
             "outlinewidth": 0,
             "ticks": ""
            },
            "type": "contourcarpet"
           }
          ],
          "heatmap": [
           {
            "colorbar": {
             "outlinewidth": 0,
             "ticks": ""
            },
            "colorscale": [
             [
              0,
              "#0d0887"
             ],
             [
              0.1111111111111111,
              "#46039f"
             ],
             [
              0.2222222222222222,
              "#7201a8"
             ],
             [
              0.3333333333333333,
              "#9c179e"
             ],
             [
              0.4444444444444444,
              "#bd3786"
             ],
             [
              0.5555555555555556,
              "#d8576b"
             ],
             [
              0.6666666666666666,
              "#ed7953"
             ],
             [
              0.7777777777777778,
              "#fb9f3a"
             ],
             [
              0.8888888888888888,
              "#fdca26"
             ],
             [
              1,
              "#f0f921"
             ]
            ],
            "type": "heatmap"
           }
          ],
          "heatmapgl": [
           {
            "colorbar": {
             "outlinewidth": 0,
             "ticks": ""
            },
            "colorscale": [
             [
              0,
              "#0d0887"
             ],
             [
              0.1111111111111111,
              "#46039f"
             ],
             [
              0.2222222222222222,
              "#7201a8"
             ],
             [
              0.3333333333333333,
              "#9c179e"
             ],
             [
              0.4444444444444444,
              "#bd3786"
             ],
             [
              0.5555555555555556,
              "#d8576b"
             ],
             [
              0.6666666666666666,
              "#ed7953"
             ],
             [
              0.7777777777777778,
              "#fb9f3a"
             ],
             [
              0.8888888888888888,
              "#fdca26"
             ],
             [
              1,
              "#f0f921"
             ]
            ],
            "type": "heatmapgl"
           }
          ],
          "histogram": [
           {
            "marker": {
             "colorbar": {
              "outlinewidth": 0,
              "ticks": ""
             }
            },
            "type": "histogram"
           }
          ],
          "histogram2d": [
           {
            "colorbar": {
             "outlinewidth": 0,
             "ticks": ""
            },
            "colorscale": [
             [
              0,
              "#0d0887"
             ],
             [
              0.1111111111111111,
              "#46039f"
             ],
             [
              0.2222222222222222,
              "#7201a8"
             ],
             [
              0.3333333333333333,
              "#9c179e"
             ],
             [
              0.4444444444444444,
              "#bd3786"
             ],
             [
              0.5555555555555556,
              "#d8576b"
             ],
             [
              0.6666666666666666,
              "#ed7953"
             ],
             [
              0.7777777777777778,
              "#fb9f3a"
             ],
             [
              0.8888888888888888,
              "#fdca26"
             ],
             [
              1,
              "#f0f921"
             ]
            ],
            "type": "histogram2d"
           }
          ],
          "histogram2dcontour": [
           {
            "colorbar": {
             "outlinewidth": 0,
             "ticks": ""
            },
            "colorscale": [
             [
              0,
              "#0d0887"
             ],
             [
              0.1111111111111111,
              "#46039f"
             ],
             [
              0.2222222222222222,
              "#7201a8"
             ],
             [
              0.3333333333333333,
              "#9c179e"
             ],
             [
              0.4444444444444444,
              "#bd3786"
             ],
             [
              0.5555555555555556,
              "#d8576b"
             ],
             [
              0.6666666666666666,
              "#ed7953"
             ],
             [
              0.7777777777777778,
              "#fb9f3a"
             ],
             [
              0.8888888888888888,
              "#fdca26"
             ],
             [
              1,
              "#f0f921"
             ]
            ],
            "type": "histogram2dcontour"
           }
          ],
          "mesh3d": [
           {
            "colorbar": {
             "outlinewidth": 0,
             "ticks": ""
            },
            "type": "mesh3d"
           }
          ],
          "parcoords": [
           {
            "line": {
             "colorbar": {
              "outlinewidth": 0,
              "ticks": ""
             }
            },
            "type": "parcoords"
           }
          ],
          "scatter": [
           {
            "marker": {
             "colorbar": {
              "outlinewidth": 0,
              "ticks": ""
             }
            },
            "type": "scatter"
           }
          ],
          "scatter3d": [
           {
            "line": {
             "colorbar": {
              "outlinewidth": 0,
              "ticks": ""
             }
            },
            "marker": {
             "colorbar": {
              "outlinewidth": 0,
              "ticks": ""
             }
            },
            "type": "scatter3d"
           }
          ],
          "scattercarpet": [
           {
            "marker": {
             "colorbar": {
              "outlinewidth": 0,
              "ticks": ""
             }
            },
            "type": "scattercarpet"
           }
          ],
          "scattergeo": [
           {
            "marker": {
             "colorbar": {
              "outlinewidth": 0,
              "ticks": ""
             }
            },
            "type": "scattergeo"
           }
          ],
          "scattergl": [
           {
            "marker": {
             "colorbar": {
              "outlinewidth": 0,
              "ticks": ""
             }
            },
            "type": "scattergl"
           }
          ],
          "scattermapbox": [
           {
            "marker": {
             "colorbar": {
              "outlinewidth": 0,
              "ticks": ""
             }
            },
            "type": "scattermapbox"
           }
          ],
          "scatterpolar": [
           {
            "marker": {
             "colorbar": {
              "outlinewidth": 0,
              "ticks": ""
             }
            },
            "type": "scatterpolar"
           }
          ],
          "scatterpolargl": [
           {
            "marker": {
             "colorbar": {
              "outlinewidth": 0,
              "ticks": ""
             }
            },
            "type": "scatterpolargl"
           }
          ],
          "scatterternary": [
           {
            "marker": {
             "colorbar": {
              "outlinewidth": 0,
              "ticks": ""
             }
            },
            "type": "scatterternary"
           }
          ],
          "surface": [
           {
            "colorbar": {
             "outlinewidth": 0,
             "ticks": ""
            },
            "colorscale": [
             [
              0,
              "#0d0887"
             ],
             [
              0.1111111111111111,
              "#46039f"
             ],
             [
              0.2222222222222222,
              "#7201a8"
             ],
             [
              0.3333333333333333,
              "#9c179e"
             ],
             [
              0.4444444444444444,
              "#bd3786"
             ],
             [
              0.5555555555555556,
              "#d8576b"
             ],
             [
              0.6666666666666666,
              "#ed7953"
             ],
             [
              0.7777777777777778,
              "#fb9f3a"
             ],
             [
              0.8888888888888888,
              "#fdca26"
             ],
             [
              1,
              "#f0f921"
             ]
            ],
            "type": "surface"
           }
          ],
          "table": [
           {
            "cells": {
             "fill": {
              "color": "#EBF0F8"
             },
             "line": {
              "color": "white"
             }
            },
            "header": {
             "fill": {
              "color": "#C8D4E3"
             },
             "line": {
              "color": "white"
             }
            },
            "type": "table"
           }
          ]
         },
         "layout": {
          "annotationdefaults": {
           "arrowcolor": "#2a3f5f",
           "arrowhead": 0,
           "arrowwidth": 1
          },
          "colorscale": {
           "diverging": [
            [
             0,
             "#8e0152"
            ],
            [
             0.1,
             "#c51b7d"
            ],
            [
             0.2,
             "#de77ae"
            ],
            [
             0.3,
             "#f1b6da"
            ],
            [
             0.4,
             "#fde0ef"
            ],
            [
             0.5,
             "#f7f7f7"
            ],
            [
             0.6,
             "#e6f5d0"
            ],
            [
             0.7,
             "#b8e186"
            ],
            [
             0.8,
             "#7fbc41"
            ],
            [
             0.9,
             "#4d9221"
            ],
            [
             1,
             "#276419"
            ]
           ],
           "sequential": [
            [
             0,
             "#0d0887"
            ],
            [
             0.1111111111111111,
             "#46039f"
            ],
            [
             0.2222222222222222,
             "#7201a8"
            ],
            [
             0.3333333333333333,
             "#9c179e"
            ],
            [
             0.4444444444444444,
             "#bd3786"
            ],
            [
             0.5555555555555556,
             "#d8576b"
            ],
            [
             0.6666666666666666,
             "#ed7953"
            ],
            [
             0.7777777777777778,
             "#fb9f3a"
            ],
            [
             0.8888888888888888,
             "#fdca26"
            ],
            [
             1,
             "#f0f921"
            ]
           ],
           "sequentialminus": [
            [
             0,
             "#0d0887"
            ],
            [
             0.1111111111111111,
             "#46039f"
            ],
            [
             0.2222222222222222,
             "#7201a8"
            ],
            [
             0.3333333333333333,
             "#9c179e"
            ],
            [
             0.4444444444444444,
             "#bd3786"
            ],
            [
             0.5555555555555556,
             "#d8576b"
            ],
            [
             0.6666666666666666,
             "#ed7953"
            ],
            [
             0.7777777777777778,
             "#fb9f3a"
            ],
            [
             0.8888888888888888,
             "#fdca26"
            ],
            [
             1,
             "#f0f921"
            ]
           ]
          },
          "colorway": [
           "#636efa",
           "#EF553B",
           "#00cc96",
           "#ab63fa",
           "#FFA15A",
           "#19d3f3",
           "#FF6692",
           "#B6E880",
           "#FF97FF",
           "#FECB52"
          ],
          "font": {
           "color": "#2a3f5f"
          },
          "geo": {
           "bgcolor": "white",
           "lakecolor": "white",
           "landcolor": "#E5ECF6",
           "showlakes": true,
           "showland": true,
           "subunitcolor": "white"
          },
          "hoverlabel": {
           "align": "left"
          },
          "hovermode": "closest",
          "mapbox": {
           "style": "light"
          },
          "paper_bgcolor": "white",
          "plot_bgcolor": "#E5ECF6",
          "polar": {
           "angularaxis": {
            "gridcolor": "white",
            "linecolor": "white",
            "ticks": ""
           },
           "bgcolor": "#E5ECF6",
           "radialaxis": {
            "gridcolor": "white",
            "linecolor": "white",
            "ticks": ""
           }
          },
          "scene": {
           "xaxis": {
            "backgroundcolor": "#E5ECF6",
            "gridcolor": "white",
            "gridwidth": 2,
            "linecolor": "white",
            "showbackground": true,
            "ticks": "",
            "zerolinecolor": "white"
           },
           "yaxis": {
            "backgroundcolor": "#E5ECF6",
            "gridcolor": "white",
            "gridwidth": 2,
            "linecolor": "white",
            "showbackground": true,
            "ticks": "",
            "zerolinecolor": "white"
           },
           "zaxis": {
            "backgroundcolor": "#E5ECF6",
            "gridcolor": "white",
            "gridwidth": 2,
            "linecolor": "white",
            "showbackground": true,
            "ticks": "",
            "zerolinecolor": "white"
           }
          },
          "shapedefaults": {
           "line": {
            "color": "#2a3f5f"
           }
          },
          "ternary": {
           "aaxis": {
            "gridcolor": "white",
            "linecolor": "white",
            "ticks": ""
           },
           "baxis": {
            "gridcolor": "white",
            "linecolor": "white",
            "ticks": ""
           },
           "bgcolor": "#E5ECF6",
           "caxis": {
            "gridcolor": "white",
            "linecolor": "white",
            "ticks": ""
           }
          },
          "title": {
           "x": 0.05
          },
          "xaxis": {
           "automargin": true,
           "gridcolor": "white",
           "linecolor": "white",
           "ticks": "",
           "zerolinecolor": "white",
           "zerolinewidth": 2
          },
          "yaxis": {
           "automargin": true,
           "gridcolor": "white",
           "linecolor": "white",
           "ticks": "",
           "zerolinecolor": "white",
           "zerolinewidth": 2
          }
         }
        },
        "title": {
         "text": "Classification of KNN on synthetic data"
        }
       }
      },
      "text/html": [
       "<div>\n",
       "        \n",
       "        \n",
       "            <div id=\"4f404a02-bbdc-476b-b706-da11a7f0a515\" class=\"plotly-graph-div\" style=\"height:525px; width:100%;\"></div>\n",
       "            <script type=\"text/javascript\">\n",
       "                require([\"plotly\"], function(Plotly) {\n",
       "                    window.PLOTLYENV=window.PLOTLYENV || {};\n",
       "                    \n",
       "                if (document.getElementById(\"4f404a02-bbdc-476b-b706-da11a7f0a515\")) {\n",
       "                    Plotly.newPlot(\n",
       "                        '4f404a02-bbdc-476b-b706-da11a7f0a515',\n",
       "                        [{\"marker\": {\"color\": \"rgba(0, 0, 255, .5)\", \"size\": 10}, \"mode\": \"markers\", \"name\": \"True 1\", \"type\": \"scatter\", \"x\": [0.5243470307578613, 0.28425553026249184, 1.3132926947222243, 0.6709959845803255, 1.2853830767247019, 0.07845391040475613, 0.20767452724744884, 1.1642055649095429, 1.28601605256199, 0.013404085411470978, 0.9438516782482563, 0.12844156199944512, 0.9171242548375738, 0.2691108721218457, 0.008627393675463835, 0.7813558221578598, 0.10628177646179793, 0.9523271451988851, 0.31322560977378233, 0.9980680983228691, 0.18991813996746942, 0.5360798710815047, 0.43415551605863256, 0.05704801597588449, 0.5903350910888547, 0.46782685534764246, 0.17415973224433812, 1.0362765697292713, 0.8814953074225373, 0.15224892516646626, 0.11370492354760642, 0.22019103519454586, 1.2156642352832463, 1.7790112235983706, 0.9817070470263886, 0.2687287121058328, 0.7294961416644947, 1.790710064952734, 0.3004564918643231, 1.460763827911568, 1.4048218347406123, 0.05825824967290305, 1.0186582460851747, 0.5631381814212671, 1.5953923209585352, 0.2792792317962042, 0.7515072743952713, 0.039298744567883515, 0.19578629531324987, 1.9560461563656895, 0.2620402113985778, 0.10786461869892894, 0.4904336956659676, 0.24269127813688862, 1.9847408785622482, 0.341407013852421, 0.33468314733097226, 0.7948491577686463, 0.45306831683167204, 0.9636306720486444, 0.6930447588399604, 0.4001965522867563, 0.7403666502282796, 1.2785495444092783, 1.2981189099547648, 0.6018989373977389, 1.520389543972539, 0.4046543367032025, 0.5090455382688968, 0.8794902871782124], \"y\": [1.079264935551933, 0.9583626839766178, 0.8542815081260527, 0.9611362422943224, 1.1473463099152261, 0.8620143071461903, 0.5399893022073528, 0.9483517769203832, 0.8521983458145173, 1.3296152613000416, 0.09803151498939044, 0.4790259785162003, 0.4742389251106073, 0.8678267889768615, 0.21481315878777762, 0.8998862653856612, 0.5751140832558629, 1.7017467788112906, 0.4316555015873159, 0.27704093931650187, 0.04819667148142304, 0.6725030046970546, 1.7326595302403223, 0.16241485495509855, 0.9960523916419677, 0.27641668075191417, 0.1353043096054214, 1.8806104652881286, 0.8759845502010003, 0.8307306223031314, 0.041756577116516036, 0.5089386390271703, 0.8164969626981808, 1.713755189781471, 0.04979905441442345, 0.5679092215187613, 0.299899661406837, 1.5882625408355913, 0.7282050857459557, 1.0314878575141053, 1.3472915487039716, 0.482370563294619, 1.3335970727319504, 0.9549920881317969, 1.6817439251329134, 0.227122440099913, 0.47165750207715407, 0.004560401468439057, 0.846965755555593, 0.9035002614114638, 0.9885706636497442, 0.9022999128995699, 0.1710775965140212, 1.480732709660655, 1.6412347569895216, 0.9975772443055435, 0.7952097277470909, 0.852425361060562, 1.576055802684352, 0.6517029406191629, 0.042399031936531495, 0.06650867134905525, 0.8368577566534485, 1.466621182851212, 1.6089930877626175, 0.8277308668981942, 1.8382550540329246, 0.7815042555792612, 0.8143429786438477, 1.8404662551924995]}, {\"marker\": {\"color\": \"rgba(0, 255, 0, .5)\", \"size\": 10}, \"mode\": \"markers\", \"name\": \"True 2\", \"type\": \"scatter\", \"x\": [0.9308232377240336, 1.0748131378551686, 1.1706678430002004, 1.6776558996552846, 1.2867328668509823, 1.7390467967742458, 1.5900172152386798, 1.4468817993027645, 1.0900201085027899, 1.219412075345307, 1.4164156783164261, 1.4343851947994675, 1.6988129555925682, 1.5569367548321988, 1.3686629292014538, 1.5488864715700164, 1.2212676109093976, 1.0998091004250896, 1.6738042835044251, 1.4689423258739693, 1.297599099307099, 1.0480628080659582, 1.7944154757823316, 0.9565459466219431, 1.0775346111977595, 1.6475230295095136, 1.760347995344228, 1.0141994745354823, 1.7591164960156553, 0.9813674080424277, 0.9761204581358449, 0.9309737744017885, 1.5075002247834415, 1.438244407511415, 1.6028117660112309, 1.6317572989686164, 1.7560074731787787, 1.254397532820177, 1.5358269181567208, 1.4243566233682898, 1.2147400276081164, 1.2407723242891573, 0.9647660435315845, 1.0995796383741603, 0.9604156209865953, 1.5030259480757553, 1.5357728189614874, 1.5615939135351384, 0.8342527054462682, 1.0034752308643093, 1.324361448071281, 1.014176124381346, 0.9902599882513315, 0.9361335824516747, 1.0667517300322922, 0.8769771337238961, 1.70081967101896, 1.1317395149535927, 1.6115556957507073, 1.6376557623845893], \"y\": [0.31507754307534364, 0.38690042237717426, 0.06873435711720788, 0.2196836239688873, 0.9825109514692644, 0.37241633731629475, 0.28812156956528334, 0.07335380745620046, 0.0657389413831233, 0.8294303931719272, 0.05976208470992339, 0.11076760831448584, 0.05817477118064507, 0.2271983056755249, 0.08033297950674922, 0.8652522599177075, 0.7798668414649498, 0.6562659811111785, 0.9855617714813161, 0.09388622378943257, 0.765069561292245, 0.8065240054447367, 0.6454385628028112, 0.739333740481938, 0.6619387918792253, 0.6437204389765601, 0.6566686885512208, 0.16374541001819465, 0.97158893496395, 0.6766893111950444, 0.6719697356166533, 0.6292469401131522, 0.891042480451864, 0.9035005943814187, 0.4670632705391199, 0.247491612090582, 0.3229000991084455, 0.5594349411802235, 0.3567387361363472, 0.9467763883767545, 0.8321796596598393, 0.5322497460239101, 0.9519180615885291, 0.5414407169429747, 0.6295400623459093, 0.5107636890148203, 0.14373719289154718, 0.44722202319793136, 0.4895817920212667, 0.21402724757491154, 0.3850558850021062, 0.3094722563080211, 0.16495199214109946, 0.04088960632269523, 0.22481826416254436, 0.29539495008087857, 0.5824463787526731, 0.13605707275494117, 0.45537900420279787, 0.8790432404271477]}, {\"marker\": {\"color\": \"rgba(0, 0, 255, .5)\", \"size\": 10}, \"mode\": \"markers\", \"name\": \"Pred 1\", \"type\": \"scatter\", \"x\": [0.5243470307578613, 0.9308232377240336, 0.28425553026249184, 1.3132926947222243, 0.6709959845803255, 1.2853830767247019, 0.07845391040475613, 0.20767452724744884, 1.2867328668509823, 1.28601605256199, 0.013404085411470978, 0.9438516782482563, 0.12844156199944512, 0.2691108721218457, 0.008627393675463835, 0.7813558221578598, 0.10628177646179793, 0.9523271451988851, 0.31322560977378233, 0.18991813996746942, 0.5360798710815047, 0.43415551605863256, 0.05704801597588449, 0.5903350910888547, 0.46782685534764246, 0.17415973224433812, 1.0362765697292713, 0.8814953074225373, 0.15224892516646626, 1.0141994745354823, 0.11370492354760642, 0.22019103519454586, 1.7790112235983706, 0.9817070470263886, 0.2687287121058328, 0.7294961416644947, 1.790710064952734, 0.3004564918643231, 1.4048218347406123, 0.05825824967290305, 1.0186582460851747, 0.5631381814212671, 1.5953923209585352, 0.2792792317962042, 0.7515072743952713, 0.039298744567883515, 0.19578629531324987, 0.9647660435315845, 0.2620402113985778, 0.10786461869892894, 0.4904336956659676, 0.24269127813688862, 1.9847408785622482, 0.341407013852421, 0.33468314733097226, 0.7948491577686463, 0.45306831683167204, 0.6930447588399604, 0.4001965522867563, 0.8342527054462682, 0.7403666502282796, 1.2785495444092783, 1.2981189099547648, 0.6018989373977389, 0.9902599882513315, 1.520389543972539, 0.4046543367032025, 0.9361335824516747, 0.5090455382688968, 0.8769771337238961, 0.8794902871782124], \"y\": [1.079264935551933, 0.31507754307534364, 0.9583626839766178, 0.8542815081260527, 0.9611362422943224, 1.1473463099152261, 0.8620143071461903, 0.5399893022073528, 0.9825109514692644, 0.8521983458145173, 1.3296152613000416, 0.09803151498939044, 0.4790259785162003, 0.8678267889768615, 0.21481315878777762, 0.8998862653856612, 0.5751140832558629, 1.7017467788112906, 0.4316555015873159, 0.04819667148142304, 0.6725030046970546, 1.7326595302403223, 0.16241485495509855, 0.9960523916419677, 0.27641668075191417, 0.1353043096054214, 1.8806104652881286, 0.8759845502010003, 0.8307306223031314, 0.16374541001819465, 0.041756577116516036, 0.5089386390271703, 1.713755189781471, 0.04979905441442345, 0.5679092215187613, 0.299899661406837, 1.5882625408355913, 0.7282050857459557, 1.3472915487039716, 0.482370563294619, 1.3335970727319504, 0.9549920881317969, 1.6817439251329134, 0.227122440099913, 0.47165750207715407, 0.004560401468439057, 0.846965755555593, 0.9519180615885291, 0.9885706636497442, 0.9022999128995699, 0.1710775965140212, 1.480732709660655, 1.6412347569895216, 0.9975772443055435, 0.7952097277470909, 0.852425361060562, 1.576055802684352, 0.042399031936531495, 0.06650867134905525, 0.4895817920212667, 0.8368577566534485, 1.466621182851212, 1.6089930877626175, 0.8277308668981942, 0.16495199214109946, 1.8382550540329246, 0.7815042555792612, 0.04088960632269523, 0.8143429786438477, 0.29539495008087857, 1.8404662551924995]}, {\"marker\": {\"color\": \"rgba(0, 255, 0, .5)\", \"size\": 10}, \"mode\": \"markers\", \"name\": \"Pred 2\", \"type\": \"scatter\", \"x\": [1.0748131378551686, 1.1706678430002004, 1.6776558996552846, 1.7390467967742458, 1.5900172152386798, 1.4468817993027645, 1.1642055649095429, 1.0900201085027899, 1.219412075345307, 1.4164156783164261, 1.4343851947994675, 1.6988129555925682, 1.5569367548321988, 0.9171242548375738, 1.3686629292014538, 1.5488864715700164, 1.2212676109093976, 1.0998091004250896, 1.6738042835044251, 1.4689423258739693, 0.9980680983228691, 1.297599099307099, 1.0480628080659582, 1.7944154757823316, 0.9565459466219431, 1.0775346111977595, 1.6475230295095136, 1.760347995344228, 1.7591164960156553, 1.2156642352832463, 0.9813674080424277, 0.9761204581358449, 0.9309737744017885, 1.5075002247834415, 1.438244407511415, 1.6028117660112309, 1.6317572989686164, 1.7560074731787787, 1.460763827911568, 1.254397532820177, 1.5358269181567208, 1.4243566233682898, 1.2147400276081164, 1.2407723242891573, 1.0995796383741603, 0.9604156209865953, 1.5030259480757553, 1.9560461563656895, 1.5357728189614874, 1.5615939135351384, 0.9636306720486444, 1.0034752308643093, 1.324361448071281, 1.014176124381346, 1.0667517300322922, 1.70081967101896, 1.1317395149535927, 1.6115556957507073, 1.6376557623845893], \"y\": [0.38690042237717426, 0.06873435711720788, 0.2196836239688873, 0.37241633731629475, 0.28812156956528334, 0.07335380745620046, 0.9483517769203832, 0.0657389413831233, 0.8294303931719272, 0.05976208470992339, 0.11076760831448584, 0.05817477118064507, 0.2271983056755249, 0.4742389251106073, 0.08033297950674922, 0.8652522599177075, 0.7798668414649498, 0.6562659811111785, 0.9855617714813161, 0.09388622378943257, 0.27704093931650187, 0.765069561292245, 0.8065240054447367, 0.6454385628028112, 0.739333740481938, 0.6619387918792253, 0.6437204389765601, 0.6566686885512208, 0.97158893496395, 0.8164969626981808, 0.6766893111950444, 0.6719697356166533, 0.6292469401131522, 0.891042480451864, 0.9035005943814187, 0.4670632705391199, 0.247491612090582, 0.3229000991084455, 1.0314878575141053, 0.5594349411802235, 0.3567387361363472, 0.9467763883767545, 0.8321796596598393, 0.5322497460239101, 0.5414407169429747, 0.6295400623459093, 0.5107636890148203, 0.9035002614114638, 0.14373719289154718, 0.44722202319793136, 0.6517029406191629, 0.21402724757491154, 0.3850558850021062, 0.3094722563080211, 0.22481826416254436, 0.5824463787526731, 0.13605707275494117, 0.45537900420279787, 0.8790432404271477]}],\n",
       "                        {\"template\": {\"data\": {\"bar\": [{\"error_x\": {\"color\": \"#2a3f5f\"}, \"error_y\": {\"color\": \"#2a3f5f\"}, \"marker\": {\"line\": {\"color\": \"#E5ECF6\", \"width\": 0.5}}, \"type\": \"bar\"}], \"barpolar\": [{\"marker\": {\"line\": {\"color\": \"#E5ECF6\", \"width\": 0.5}}, \"type\": \"barpolar\"}], \"carpet\": [{\"aaxis\": {\"endlinecolor\": \"#2a3f5f\", \"gridcolor\": \"white\", \"linecolor\": \"white\", \"minorgridcolor\": \"white\", \"startlinecolor\": \"#2a3f5f\"}, \"baxis\": {\"endlinecolor\": \"#2a3f5f\", \"gridcolor\": \"white\", \"linecolor\": \"white\", \"minorgridcolor\": \"white\", \"startlinecolor\": \"#2a3f5f\"}, \"type\": \"carpet\"}], \"choropleth\": [{\"colorbar\": {\"outlinewidth\": 0, \"ticks\": \"\"}, \"type\": \"choropleth\"}], \"contour\": [{\"colorbar\": {\"outlinewidth\": 0, \"ticks\": \"\"}, \"colorscale\": [[0.0, \"#0d0887\"], [0.1111111111111111, \"#46039f\"], [0.2222222222222222, \"#7201a8\"], [0.3333333333333333, \"#9c179e\"], [0.4444444444444444, \"#bd3786\"], [0.5555555555555556, \"#d8576b\"], [0.6666666666666666, \"#ed7953\"], [0.7777777777777778, \"#fb9f3a\"], [0.8888888888888888, \"#fdca26\"], [1.0, \"#f0f921\"]], \"type\": \"contour\"}], \"contourcarpet\": [{\"colorbar\": {\"outlinewidth\": 0, \"ticks\": \"\"}, \"type\": \"contourcarpet\"}], \"heatmap\": [{\"colorbar\": {\"outlinewidth\": 0, \"ticks\": \"\"}, \"colorscale\": [[0.0, \"#0d0887\"], [0.1111111111111111, \"#46039f\"], [0.2222222222222222, \"#7201a8\"], [0.3333333333333333, \"#9c179e\"], [0.4444444444444444, \"#bd3786\"], [0.5555555555555556, \"#d8576b\"], [0.6666666666666666, \"#ed7953\"], [0.7777777777777778, \"#fb9f3a\"], [0.8888888888888888, \"#fdca26\"], [1.0, \"#f0f921\"]], \"type\": \"heatmap\"}], \"heatmapgl\": [{\"colorbar\": {\"outlinewidth\": 0, \"ticks\": \"\"}, \"colorscale\": [[0.0, \"#0d0887\"], [0.1111111111111111, \"#46039f\"], [0.2222222222222222, \"#7201a8\"], [0.3333333333333333, \"#9c179e\"], [0.4444444444444444, \"#bd3786\"], [0.5555555555555556, \"#d8576b\"], [0.6666666666666666, \"#ed7953\"], [0.7777777777777778, \"#fb9f3a\"], [0.8888888888888888, \"#fdca26\"], [1.0, \"#f0f921\"]], \"type\": \"heatmapgl\"}], \"histogram\": [{\"marker\": {\"colorbar\": {\"outlinewidth\": 0, \"ticks\": \"\"}}, \"type\": \"histogram\"}], \"histogram2d\": [{\"colorbar\": {\"outlinewidth\": 0, \"ticks\": \"\"}, \"colorscale\": [[0.0, \"#0d0887\"], [0.1111111111111111, \"#46039f\"], [0.2222222222222222, \"#7201a8\"], [0.3333333333333333, \"#9c179e\"], [0.4444444444444444, \"#bd3786\"], [0.5555555555555556, \"#d8576b\"], [0.6666666666666666, \"#ed7953\"], [0.7777777777777778, \"#fb9f3a\"], [0.8888888888888888, \"#fdca26\"], [1.0, \"#f0f921\"]], \"type\": \"histogram2d\"}], \"histogram2dcontour\": [{\"colorbar\": {\"outlinewidth\": 0, \"ticks\": \"\"}, \"colorscale\": [[0.0, \"#0d0887\"], [0.1111111111111111, \"#46039f\"], [0.2222222222222222, \"#7201a8\"], [0.3333333333333333, \"#9c179e\"], [0.4444444444444444, \"#bd3786\"], [0.5555555555555556, \"#d8576b\"], [0.6666666666666666, \"#ed7953\"], [0.7777777777777778, \"#fb9f3a\"], [0.8888888888888888, \"#fdca26\"], [1.0, \"#f0f921\"]], \"type\": \"histogram2dcontour\"}], \"mesh3d\": [{\"colorbar\": {\"outlinewidth\": 0, \"ticks\": \"\"}, \"type\": \"mesh3d\"}], \"parcoords\": [{\"line\": {\"colorbar\": {\"outlinewidth\": 0, \"ticks\": \"\"}}, \"type\": \"parcoords\"}], \"scatter\": [{\"marker\": {\"colorbar\": {\"outlinewidth\": 0, \"ticks\": \"\"}}, \"type\": \"scatter\"}], \"scatter3d\": [{\"line\": {\"colorbar\": {\"outlinewidth\": 0, \"ticks\": \"\"}}, \"marker\": {\"colorbar\": {\"outlinewidth\": 0, \"ticks\": \"\"}}, \"type\": \"scatter3d\"}], \"scattercarpet\": [{\"marker\": {\"colorbar\": {\"outlinewidth\": 0, \"ticks\": \"\"}}, \"type\": \"scattercarpet\"}], \"scattergeo\": [{\"marker\": {\"colorbar\": {\"outlinewidth\": 0, \"ticks\": \"\"}}, \"type\": \"scattergeo\"}], \"scattergl\": [{\"marker\": {\"colorbar\": {\"outlinewidth\": 0, \"ticks\": \"\"}}, \"type\": \"scattergl\"}], \"scattermapbox\": [{\"marker\": {\"colorbar\": {\"outlinewidth\": 0, \"ticks\": \"\"}}, \"type\": \"scattermapbox\"}], \"scatterpolar\": [{\"marker\": {\"colorbar\": {\"outlinewidth\": 0, \"ticks\": \"\"}}, \"type\": \"scatterpolar\"}], \"scatterpolargl\": [{\"marker\": {\"colorbar\": {\"outlinewidth\": 0, \"ticks\": \"\"}}, \"type\": \"scatterpolargl\"}], \"scatterternary\": [{\"marker\": {\"colorbar\": {\"outlinewidth\": 0, \"ticks\": \"\"}}, \"type\": \"scatterternary\"}], \"surface\": [{\"colorbar\": {\"outlinewidth\": 0, \"ticks\": \"\"}, \"colorscale\": [[0.0, \"#0d0887\"], [0.1111111111111111, \"#46039f\"], [0.2222222222222222, \"#7201a8\"], [0.3333333333333333, \"#9c179e\"], [0.4444444444444444, \"#bd3786\"], [0.5555555555555556, \"#d8576b\"], [0.6666666666666666, \"#ed7953\"], [0.7777777777777778, \"#fb9f3a\"], [0.8888888888888888, \"#fdca26\"], [1.0, \"#f0f921\"]], \"type\": \"surface\"}], \"table\": [{\"cells\": {\"fill\": {\"color\": \"#EBF0F8\"}, \"line\": {\"color\": \"white\"}}, \"header\": {\"fill\": {\"color\": \"#C8D4E3\"}, \"line\": {\"color\": \"white\"}}, \"type\": \"table\"}]}, \"layout\": {\"annotationdefaults\": {\"arrowcolor\": \"#2a3f5f\", \"arrowhead\": 0, \"arrowwidth\": 1}, \"colorscale\": {\"diverging\": [[0, \"#8e0152\"], [0.1, \"#c51b7d\"], [0.2, \"#de77ae\"], [0.3, \"#f1b6da\"], [0.4, \"#fde0ef\"], [0.5, \"#f7f7f7\"], [0.6, \"#e6f5d0\"], [0.7, \"#b8e186\"], [0.8, \"#7fbc41\"], [0.9, \"#4d9221\"], [1, \"#276419\"]], \"sequential\": [[0.0, \"#0d0887\"], [0.1111111111111111, \"#46039f\"], [0.2222222222222222, \"#7201a8\"], [0.3333333333333333, \"#9c179e\"], [0.4444444444444444, \"#bd3786\"], [0.5555555555555556, \"#d8576b\"], [0.6666666666666666, \"#ed7953\"], [0.7777777777777778, \"#fb9f3a\"], [0.8888888888888888, \"#fdca26\"], [1.0, \"#f0f921\"]], \"sequentialminus\": [[0.0, \"#0d0887\"], [0.1111111111111111, \"#46039f\"], [0.2222222222222222, \"#7201a8\"], [0.3333333333333333, \"#9c179e\"], [0.4444444444444444, \"#bd3786\"], [0.5555555555555556, \"#d8576b\"], [0.6666666666666666, \"#ed7953\"], [0.7777777777777778, \"#fb9f3a\"], [0.8888888888888888, \"#fdca26\"], [1.0, \"#f0f921\"]]}, \"colorway\": [\"#636efa\", \"#EF553B\", \"#00cc96\", \"#ab63fa\", \"#FFA15A\", \"#19d3f3\", \"#FF6692\", \"#B6E880\", \"#FF97FF\", \"#FECB52\"], \"font\": {\"color\": \"#2a3f5f\"}, \"geo\": {\"bgcolor\": \"white\", \"lakecolor\": \"white\", \"landcolor\": \"#E5ECF6\", \"showlakes\": true, \"showland\": true, \"subunitcolor\": \"white\"}, \"hoverlabel\": {\"align\": \"left\"}, \"hovermode\": \"closest\", \"mapbox\": {\"style\": \"light\"}, \"paper_bgcolor\": \"white\", \"plot_bgcolor\": \"#E5ECF6\", \"polar\": {\"angularaxis\": {\"gridcolor\": \"white\", \"linecolor\": \"white\", \"ticks\": \"\"}, \"bgcolor\": \"#E5ECF6\", \"radialaxis\": {\"gridcolor\": \"white\", \"linecolor\": \"white\", \"ticks\": \"\"}}, \"scene\": {\"xaxis\": {\"backgroundcolor\": \"#E5ECF6\", \"gridcolor\": \"white\", \"gridwidth\": 2, \"linecolor\": \"white\", \"showbackground\": true, \"ticks\": \"\", \"zerolinecolor\": \"white\"}, \"yaxis\": {\"backgroundcolor\": \"#E5ECF6\", \"gridcolor\": \"white\", \"gridwidth\": 2, \"linecolor\": \"white\", \"showbackground\": true, \"ticks\": \"\", \"zerolinecolor\": \"white\"}, \"zaxis\": {\"backgroundcolor\": \"#E5ECF6\", \"gridcolor\": \"white\", \"gridwidth\": 2, \"linecolor\": \"white\", \"showbackground\": true, \"ticks\": \"\", \"zerolinecolor\": \"white\"}}, \"shapedefaults\": {\"line\": {\"color\": \"#2a3f5f\"}}, \"ternary\": {\"aaxis\": {\"gridcolor\": \"white\", \"linecolor\": \"white\", \"ticks\": \"\"}, \"baxis\": {\"gridcolor\": \"white\", \"linecolor\": \"white\", \"ticks\": \"\"}, \"bgcolor\": \"#E5ECF6\", \"caxis\": {\"gridcolor\": \"white\", \"linecolor\": \"white\", \"ticks\": \"\"}}, \"title\": {\"x\": 0.05}, \"xaxis\": {\"automargin\": true, \"gridcolor\": \"white\", \"linecolor\": \"white\", \"ticks\": \"\", \"zerolinecolor\": \"white\", \"zerolinewidth\": 2}, \"yaxis\": {\"automargin\": true, \"gridcolor\": \"white\", \"linecolor\": \"white\", \"ticks\": \"\", \"zerolinecolor\": \"white\", \"zerolinewidth\": 2}}}, \"title\": {\"text\": \"Classification of KNN on synthetic data\"}},\n",
       "                        {\"responsive\": true}\n",
       "                    ).then(function(){\n",
       "                            \n",
       "var gd = document.getElementById('4f404a02-bbdc-476b-b706-da11a7f0a515');\n",
       "var x = new MutationObserver(function (mutations, observer) {{\n",
       "        var display = window.getComputedStyle(gd).display;\n",
       "        if (!display || display === 'none') {{\n",
       "            console.log([gd, 'removed!']);\n",
       "            Plotly.purge(gd);\n",
       "            observer.disconnect();\n",
       "        }}\n",
       "}});\n",
       "\n",
       "// Listen for the removal of the full notebook cells\n",
       "var notebookContainer = gd.closest('#notebook-container');\n",
       "if (notebookContainer) {{\n",
       "    x.observe(notebookContainer, {childList: true});\n",
       "}}\n",
       "\n",
       "// Listen for the clearing of the current output cell\n",
       "var outputEl = gd.closest('.output');\n",
       "if (outputEl) {{\n",
       "    x.observe(outputEl, {childList: true});\n",
       "}}\n",
       "\n",
       "                        })\n",
       "                };\n",
       "                });\n",
       "            </script>\n",
       "        </div>"
      ]
     },
     "metadata": {},
     "output_type": "display_data"
    }
   ],
   "source": [
    "iplot(clas_plotly_plot(data.values,neigh,\"KNN\"))"
   ]
  },
  {
   "cell_type": "markdown",
   "metadata": {},
   "source": [
    "<span style=\"color:blue\">**In-class**: Add true positive, false positive, true negative, false negative information to the plot. </span>"
   ]
  },
  {
   "cell_type": "markdown",
   "metadata": {},
   "source": [
    "<span style=\"color:blue\">**In-class**: Synthetize your own data using numpy and test some models, can be regression or classification. </span>"
   ]
  }
 ],
 "metadata": {
  "kernelspec": {
   "display_name": "Python 3",
   "language": "python",
   "name": "python3"
  },
  "language_info": {
   "codemirror_mode": {
    "name": "ipython",
    "version": 3
   },
   "file_extension": ".py",
   "mimetype": "text/x-python",
   "name": "python",
   "nbconvert_exporter": "python",
   "pygments_lexer": "ipython3",
   "version": "3.6.7"
  },
  "latex_envs": {
   "LaTeX_envs_menu_present": true,
   "autoclose": false,
   "autocomplete": true,
   "bibliofile": "biblio.bib",
   "cite_by": "apalike",
   "current_citInitial": 1,
   "eqLabelWithNumbers": true,
   "eqNumInitial": 1,
   "hotkeys": {
    "equation": "Ctrl-E",
    "itemize": "Ctrl-I"
   },
   "labels_anchors": false,
   "latex_user_defs": false,
   "report_style_numbering": false,
   "user_envs_cfg": false
  }
 },
 "nbformat": 4,
 "nbformat_minor": 2
}
