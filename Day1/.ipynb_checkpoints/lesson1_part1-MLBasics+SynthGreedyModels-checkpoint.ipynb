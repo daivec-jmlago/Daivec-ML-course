{
 "cells": [
  {
   "cell_type": "markdown",
   "metadata": {},
   "source": [
    "# Introduction to ML in `Python`\n",
    "Today we are going to learn broadly the following: \n",
    "* Part 1 (ML basics and Synth Data)\n",
    "    * What is and why do we use ML\n",
    "    * Basic ML concepts, problem definition and pipeline\n",
    "    * Synthetise data for supervised learning with `numpy`\n",
    "    * Greedy (and fundamental) algorithms from scratch\n",
    "    * Decision Trees from scratch\n",
    "    * `sklearn`\n",
    "* Part 2 (Titanic Example)\n",
    "    * Exploratory Data Analysis\n",
    "    * Feature Enginnering\n",
    "    * Feature Selection\n",
    "    * Data Visualization\n",
    "    * Apply the basic ML algorithms that we have learned to a real problem\n",
    "\n",
    "## What is ML?\n",
    "\n",
    "*Machine learning (ML) is the scientific study of algorithms and statistical models that computer systems use to effectively perform a specific task without using explicit instructions, relying on patterns and inference instead.*\n",
    "\n",
    "## When it started?\n",
    "Is important to know the history of DA to know where we are. The difference between DA and ML is not that big, and we will explain why later.\n",
    "\n",
    "https://en.wikipedia.org/wiki/Timeline_of_machine_learning\n",
    "\n",
    "## Why do we use ML?\n",
    "The real point of ML is to help humans, research or business. Extract real value from the data.\n",
    "\n",
    "To go further than descriptive statistics, we need good estimators / classifiers that can simulate the reality with good acc levels. Today we build these estimators using ML or DL as they can encode more complex patterns than non learning models.\n",
    "\n",
    "From the analysis of those well fitted estimators, we can extract useful data insights. This is the difference between DA and descriptive statistics. \n",
    "\n",
    "### Employee churn Example\n",
    "Imagine that our employees are leaving our company. What do we really want to do is to fix this problem.\n",
    "\n",
    "Our Data Analyst says that he has built a model that predicts with a 99% of acc if our employees are going to leave in less than one week. Is this enough? Is this DA? Or is just an score?\n",
    "\n",
    "**Better score == solutions?**\n",
    "\n",
    "**ML/DL == DA?**\n",
    "\n",
    "<img src=\"img/DA_over_time.png\" width=\"400\">\n",
    "\n",
    "\n",
    "\n",
    "## But we can always have better scores?\n",
    "\n",
    "The short answer is NO (this is one reason of why kaggle is very useful). It was already proofed many years ago. Thus, the optimal decision exists, and if the risk (or the error) is not 0, we won't be able to achieve 100% accuracy no matter what model we try.\n",
    "\n",
    "## ML problem workflow\n",
    "There are different ways to stream data into machine learning, but many authors agree on the following steps:\n",
    "\n",
    "1. Define Problem\n",
    "2. Specify Inputs & Outputs\n",
    "3. Exploratory data analysis\n",
    "4. Data Selection\n",
    "5. Data Preprocessing\n",
    "6. Data Cleaning\n",
    "7. Visualization\n",
    "8. Model Design, Training, and Offline Evaluation\n",
    "9. Model Deployment, Online Evaluation, and Monitoring\n",
    "10. Model Maintenance, Diagnosis, and Retraining\n",
    "\n",
    "Of course, the same solution can not be provided for all problems, so the best way is to create a general framework and adapt it to new problem.\n",
    "\n",
    "## Synth Data "
   ]
  },
  {
   "cell_type": "code",
   "execution_count": 1,
   "metadata": {},
   "outputs": [],
   "source": [
    "import numpy as np\n",
    "from numpy.polynomial.polynomial import polyval\n",
    "import matplotlib.pyplot as plt"
   ]
  },
  {
   "cell_type": "code",
   "execution_count": 2,
   "metadata": {},
   "outputs": [
    {
     "name": "stdout",
     "output_type": "stream",
     "text": [
      "\"Bayes reg error\" assuming MSE loss is 0.010000000000000002\n"
     ]
    },
    {
     "data": {
      "image/png": "[encoded data removed]",
      "text/plain": [
       "<Figure size 432x288 with 1 Axes>"
      ]
     },
     "metadata": {
      "needs_background": "light"
     },
     "output_type": "display_data"
    }
   ],
   "source": [
    "x = np.linspace(0,10,100)\n",
    "y = []\n",
    "for point in x:\n",
    "    y.append(np.random.normal(polyval(point,np.array([1,-2,3,-4,5])/4e4),1e-1,1))\n",
    "plt.scatter(x,np.array(y));\n",
    "print(f'\"Bayes reg error\" assuming MSE loss is {1e-1**2}')\n",
    "\n",
    "##equivalent to generating y as\n",
    "y = polyval(x,np.array([1,-2,3,-4,5])/4e4) +  np.random.normal(0,1e-1,x.shape) # (1 + -2*x + 3*x^2 - 4*x^3 + 5x^4)/4e4"
   ]
  },
  {
   "cell_type": "markdown",
   "metadata": {},
   "source": [
    "## Kaggle competitions\n",
    "Far from being perfect, kaggle competitions tend to be a double-edge sword. Kaggle is probably one of the best tools available today, but not everything is about increasing score on the third decimal.\n",
    "\n",
    "https://www.kaggle.com/c/porto-seguro-safe-driver-prediction/leaderboard\n",
    "\n",
    "## Which kinds of problems can we solve?\n",
    "The basics are:\n",
    "* Classification: Binary, more than one label, or multiclass $g:\\mathbb{R}^d \\longrightarrow \\{1,..,M\\}$\n",
    "* Regression: Time dependent or not $g:\\mathbb{R}^d \\longrightarrow \\mathbb{R}$\n",
    "* Clustering $g \\approx P(X)$\n",
    "\n",
    "But there are many others such as translation, anomaly detection, etc.\n",
    "\n",
    "## Which data types can we use?\n",
    "* Structured: mainly columnar data\n",
    "* Unstructured: image,sound,video,text,...\n",
    "\n",
    "## Survey on DA concepts:\n",
    "\n",
    "* Train Validation Test sets\n",
    "* Accuracy\n",
    "* Feature\n",
    "* Label\n",
    "* Dependent Variable / Independent Variable\n",
    "* Hyper-parameters\n",
    "\n",
    "https://developers.google.com/machine-learning/glossary/?hl=en-419\n",
    "\n",
    "We are going to review some of those concepts in every lesson."
   ]
  },
  {
   "cell_type": "markdown",
   "metadata": {},
   "source": [
    "## Keep working with synth data\n",
    "We are going to build a linear regression to see how it performs. To measure the error we are going to use MSE:\n",
    "$$\\frac{1}{m}\\sum_{i=1}^m||\\widehat{y}_i-y_i||^2_2$$"
   ]
  },
  {
   "cell_type": "markdown",
   "metadata": {},
   "source": [
    "Following the ML phylosophy of learning from the data, and generalizing on unseen data, we need a training set. "
   ]
  },
  {
   "cell_type": "code",
   "execution_count": 3,
   "metadata": {},
   "outputs": [],
   "source": [
    "x_train = x[:60]\n",
    "y_train = y[:60]"
   ]
  },
  {
   "cell_type": "markdown",
   "metadata": {},
   "source": [
    "So our linear regression is a model such as:\n",
    "$$\\widehat{y} = \\omega x$$\n",
    "And now we need to minimize the MSE with respect to $\\omega$ to find the best linear regression (only using training data).\n",
    "$$\\frac{1}{m}\\nabla_\\omega ||x^{(train)}\\omega - y^{(train)}||^2_2 = 0$$\n",
    "which is equivalent to:\n",
    "$$\\omega = \\Big(x^{(train)T}x^{(train)}\\Big)^{-1}x^{(train)T}y^{(train)}$$"
   ]
  },
  {
   "cell_type": "code",
   "execution_count": 4,
   "metadata": {},
   "outputs": [
    {
     "data": {
      "text/plain": [
       "0.013304393186666794"
      ]
     },
     "execution_count": 4,
     "metadata": {},
     "output_type": "execute_result"
    }
   ],
   "source": [
    "omega = np.dot(np.dot(x_train,x_train.T)**-1,np.dot(x_train.T,y_train));omega"
   ]
  },
  {
   "cell_type": "code",
   "execution_count": 5,
   "metadata": {},
   "outputs": [],
   "source": [
    "y_pred = omega*x_train"
   ]
  },
  {
   "cell_type": "code",
   "execution_count": 6,
   "metadata": {},
   "outputs": [],
   "source": [
    "def mse(preds,labels):\n",
    "    return (np.square(preds - labels)).mean()"
   ]
  },
  {
   "cell_type": "code",
   "execution_count": 7,
   "metadata": {},
   "outputs": [
    {
     "data": {
      "text/plain": [
       "(0.007375308388388784, 0.11256862094386044)"
      ]
     },
     "execution_count": 7,
     "metadata": {},
     "output_type": "execute_result"
    }
   ],
   "source": [
    "mse(y_pred,y_train),mse(omega*x,y)"
   ]
  },
  {
   "cell_type": "code",
   "execution_count": 8,
   "metadata": {},
   "outputs": [
    {
     "data": {
      "image/png": "[encoded data removed]",
      "text/plain": [
       "<Figure size 432x288 with 1 Axes>"
      ]
     },
     "metadata": {
      "needs_background": "light"
     },
     "output_type": "display_data"
    }
   ],
   "source": [
    "plt.scatter(x,y)\n",
    "plt.plot(x,omega*x,c=\"r\");"
   ]
  },
  {
   "cell_type": "markdown",
   "metadata": {},
   "source": [
    "Hmmmm, what are we doing wrong? Maybe if we select the data at random instead of the first 60 points? **is one of the principles of statistical learning theory, sample the data with the same probability distribution on the training set than on the test set**"
   ]
  },
  {
   "cell_type": "code",
   "execution_count": 9,
   "metadata": {},
   "outputs": [],
   "source": [
    "idxs = np.random.randint(0,x.shape[0],40).tolist()\n",
    "x_train = x[idxs]\n",
    "y_train = y[idxs]"
   ]
  },
  {
   "cell_type": "code",
   "execution_count": 10,
   "metadata": {},
   "outputs": [
    {
     "data": {
      "text/plain": [
       "0.06629828445507092"
      ]
     },
     "execution_count": 10,
     "metadata": {},
     "output_type": "execute_result"
    }
   ],
   "source": [
    "omega = np.dot(np.dot(x_train,x_train.T)**-1,np.dot(x_train.T,y_train));omega "
   ]
  },
  {
   "cell_type": "code",
   "execution_count": 11,
   "metadata": {},
   "outputs": [
    {
     "data": {
      "text/plain": [
       "(0.04121081307705675, 0.046464754646065545)"
      ]
     },
     "execution_count": 11,
     "metadata": {},
     "output_type": "execute_result"
    }
   ],
   "source": [
    "mse(omega*x_train,y_train),mse(omega*x,y)"
   ]
  },
  {
   "cell_type": "code",
   "execution_count": 12,
   "metadata": {},
   "outputs": [
    {
     "data": {
      "image/png": "[encoded data removed]",
      "text/plain": [
       "<Figure size 432x288 with 1 Axes>"
      ]
     },
     "metadata": {
      "needs_background": "light"
     },
     "output_type": "display_data"
    }
   ],
   "source": [
    "plt.scatter(x,y)\n",
    "plt.plot(x,omega*x,c=\"r\");"
   ]
  },
  {
   "cell_type": "markdown",
   "metadata": {},
   "source": [
    "Maybe we need a model which is a little bit more complex? **we are underfitting**:\n",
    "$$\\widehat{y} = b + \\omega_1 x + \\omega_2 x^2$$\n",
    "The previous equation of $\\nabla_\\omega = 0$ stills being the same but now in a matrix form looks like:\n",
    "\n",
    "$\\begin{bmatrix}y_{1}\\\\y_{2}\\\\y_{3}\\\\\\vdots \\\\y_{n}\\end{bmatrix} = \\begin{bmatrix}1&x_{1}&x_{1}^{2}\\\\1&x_{2}&x_{2}^{2}\\\\1&x_{3}&x_{3}^{2}\\\\\\vdots &\\vdots &\\vdots \\\\1&x_{n}&x_{n}^{2}\\end{bmatrix} \\cdot \\begin{bmatrix}b\\\\\\omega _{1}\\\\\\omega _{2}\\end{bmatrix}$\n",
    "\n",
    "So what we have to compute is:\n",
    "$$\\widehat{\\omega}=\\Big(\\mathbf{X}^{\\mathsf{T}}\\mathbf{X}\\Big)^{-1}\\cdot\\Big(\\mathbf{X}^{\\mathsf{T}}\\cdot\\vec{y}\\Big)$$"
   ]
  },
  {
   "cell_type": "code",
   "execution_count": 13,
   "metadata": {},
   "outputs": [
    {
     "data": {
      "text/plain": [
       "array([ 0.04342791, -0.07960699,  0.01779787])"
      ]
     },
     "execution_count": 13,
     "metadata": {},
     "output_type": "execute_result"
    }
   ],
   "source": [
    "def lin_reg(x,y):\n",
    "    return np.dot(np.linalg.inv(np.dot(x,x.T)),np.dot(x,y)) ## rm .T to make shapes coincide\n",
    "\n",
    "x_train_reg = np.vstack([np.ones(x_train.shape),x_train,x_train**2])\n",
    "omegas = lin_reg(x_train_reg,y_train);omegas"
   ]
  },
  {
   "cell_type": "code",
   "execution_count": 14,
   "metadata": {},
   "outputs": [
    {
     "data": {
      "text/plain": [
       "(0.005662813789462637, 0.008837006183372182)"
      ]
     },
     "execution_count": 14,
     "metadata": {},
     "output_type": "execute_result"
    }
   ],
   "source": [
    "mse(omegas[0]+omegas[1]*x_train+omegas[2]*x_train**2,y_train),mse(omegas[0]+omegas[1]*x+omegas[2]*x**2,y)"
   ]
  },
  {
   "cell_type": "code",
   "execution_count": 15,
   "metadata": {},
   "outputs": [
    {
     "data": {
      "image/png": "[encoded data removed]",
      "text/plain": [
       "<Figure size 432x288 with 1 Axes>"
      ]
     },
     "metadata": {
      "needs_background": "light"
     },
     "output_type": "display_data"
    }
   ],
   "source": [
    "plt.scatter(x,y)\n",
    "plt.plot(x,omegas[0]+omegas[1]*x+omegas[2]*x**2,c=\"r\");"
   ]
  },
  {
   "cell_type": "markdown",
   "metadata": {},
   "source": [
    "This looks nicer than before but, can we doit better? Probably fitting a polynomial of degree 5... and a polynomial of degree 10?"
   ]
  },
  {
   "cell_type": "code",
   "execution_count": 16,
   "metadata": {},
   "outputs": [],
   "source": [
    "def train(x,y,degree=1):\n",
    "    list_d = []\n",
    "    for i in range(degree):\n",
    "        list_d.append(x**i)\n",
    "    train_data = np.vstack(list_d)\n",
    "    return lin_reg(train_data,y)"
   ]
  },
  {
   "cell_type": "code",
   "execution_count": 17,
   "metadata": {},
   "outputs": [
    {
     "data": {
      "text/plain": [
       "array([ 0.04342791, -0.07960699,  0.01779787])"
      ]
     },
     "execution_count": 17,
     "metadata": {},
     "output_type": "execute_result"
    }
   ],
   "source": [
    "train(x_train,y_train,3)"
   ]
  },
  {
   "cell_type": "markdown",
   "metadata": {},
   "source": [
    "Looks good, so now let us try a little bit..."
   ]
  },
  {
   "cell_type": "code",
   "execution_count": 18,
   "metadata": {},
   "outputs": [],
   "source": [
    "degrees = [2,3,5,6,10,20]\n",
    "models = []\n",
    "for d in degrees:\n",
    "    models.append(train(x_train,y_train,d))"
   ]
  },
  {
   "cell_type": "code",
   "execution_count": 19,
   "metadata": {},
   "outputs": [],
   "source": [
    "def predict(x,omegas):\n",
    "    list_d = []\n",
    "    for i in range(len(omegas)):\n",
    "        list_d.append(omegas[i]*x**i)\n",
    "    train_data = np.vstack(list_d)\n",
    "    return train_data.sum(axis=0)       "
   ]
  },
  {
   "cell_type": "code",
   "execution_count": 20,
   "metadata": {},
   "outputs": [],
   "source": [
    "predictions = []\n",
    "for m in models:\n",
    "    predictions.append(predict(x,m))"
   ]
  },
  {
   "cell_type": "code",
   "execution_count": 21,
   "metadata": {},
   "outputs": [
    {
     "data": {
      "image/png": "[encoded data removed]",
      "text/plain": [
       "<Figure size 432x288 with 1 Axes>"
      ]
     },
     "metadata": {
      "needs_background": "light"
     },
     "output_type": "display_data"
    },
    {
     "data": {
      "image/png": "[encoded data removed]",
      "text/plain": [
       "<Figure size 432x288 with 1 Axes>"
      ]
     },
     "metadata": {
      "needs_background": "light"
     },
     "output_type": "display_data"
    },
    {
     "data": {
      "image/png": "[encoded data removed]",
      "text/plain": [
       "<Figure size 432x288 with 1 Axes>"
      ]
     },
     "metadata": {
      "needs_background": "light"
     },
     "output_type": "display_data"
    },
    {
     "data": {
      "image/png": "[encoded data removed]",
      "text/plain": [
       "<Figure size 432x288 with 1 Axes>"
      ]
     },
     "metadata": {
      "needs_background": "light"
     },
     "output_type": "display_data"
    },
    {
     "data": {
      "image/png": "[encoded data removed]",
      "text/plain": [
       "<Figure size 432x288 with 1 Axes>"
      ]
     },
     "metadata": {
      "needs_background": "light"
     },
     "output_type": "display_data"
    },
    {
     "data": {
      "image/png": "[encoded data removed]",
      "text/plain": [
       "<Figure size 432x288 with 1 Axes>"
      ]
     },
     "metadata": {
      "needs_background": "light"
     },
     "output_type": "display_data"
    }
   ],
   "source": [
    "for i,prediction in enumerate(predictions):\n",
    "    plt.title(f'The polynomial of degree {degrees[i]-1} has mse of {mse(prediction,y)}')\n",
    "    plt.scatter(x,y)\n",
    "    plt.plot(x,prediction,c=\"r\")\n",
    "    plt.show()"
   ]
  },
  {
   "cell_type": "markdown",
   "metadata": {},
   "source": [
    "So as expected the best model (**correct capacity and no overfit**) is in average a polynomial of degree 5, and the error is a little bit higher than the variance of the noise added to the polynomial to generate the data.\n",
    "\n",
    "In this particular case, the degree of the polynomial that we are fitting is what we call an **hyperparameter**. To tune those hyper-parameters we need what we call validation sets, to train the model with the training data, tune the hyper-parameters looking at the MSE of the validation set and testing our final tuned model on our test data never seen before at any step. \n",
    "\n",
    "Can we overfit on the test set? **Kaggle / iris dataset**"
   ]
  },
  {
   "cell_type": "markdown",
   "metadata": {},
   "source": [
    "### Little break and plotly plots"
   ]
  },
  {
   "cell_type": "code",
   "execution_count": 22,
   "metadata": {},
   "outputs": [
    {
     "data": {
      "text/html": [
       "        <script type=\"text/javascript\">\n",
       "        window.PlotlyConfig = {MathJaxConfig: 'local'};\n",
       "        if (window.MathJax) {MathJax.Hub.Config({SVG: {font: \"STIX-Web\"}});}\n",
       "        if (typeof require !== 'undefined') {\n",
       "        require.undef(\"plotly\");\n",
       "        requirejs.config({\n",
       "            paths: {\n",
       "                'plotly': ['https://cdn.plot.ly/plotly-latest.min']\n",
       "            }\n",
       "        });\n",
       "        require(['plotly'], function(Plotly) {\n",
       "            window._Plotly = Plotly;\n",
       "        });\n",
       "        }\n",
       "        </script>\n",
       "        "
      ]
     },
     "metadata": {},
     "output_type": "display_data"
    }
   ],
   "source": [
    "from plotly.offline import download_plotlyjs, init_notebook_mode, plot, iplot\n",
    "import plotly.graph_objs as go\n",
    "\n",
    "init_notebook_mode(connected=True)"
   ]
  },
  {
   "cell_type": "code",
   "execution_count": 23,
   "metadata": {},
   "outputs": [
    {
     "data": {
      "application/vnd.plotly.v1+json": {
       "config": {
        "linkText": "Export to plot.ly",
        "plotlyServerURL": "https://plot.ly",
        "showLink": false
       },
       "data": [
        {
         "mode": "markers",
         "name": "Data",
         "type": "scatter",
         "x": [
          0,
          0.10101010101010101,
          0.20202020202020202,
          0.30303030303030304,
          0.40404040404040403,
          0.5050505050505051,
          0.6060606060606061,
          0.7070707070707071,
          0.8080808080808081,
          0.9090909090909091,
          1.0101010101010102,
          1.1111111111111112,
          1.2121212121212122,
          1.3131313131313131,
          1.4141414141414141,
          1.5151515151515151,
          1.6161616161616161,
          1.7171717171717171,
          1.8181818181818181,
          1.9191919191919191,
          2.0202020202020203,
          2.121212121212121,
          2.2222222222222223,
          2.323232323232323,
          2.4242424242424243,
          2.525252525252525,
          2.6262626262626263,
          2.727272727272727,
          2.8282828282828283,
          2.929292929292929,
          3.0303030303030303,
          3.131313131313131,
          3.2323232323232323,
          3.3333333333333335,
          3.4343434343434343,
          3.5353535353535355,
          3.6363636363636362,
          3.7373737373737375,
          3.8383838383838382,
          3.9393939393939394,
          4.040404040404041,
          4.141414141414141,
          4.242424242424242,
          4.343434343434343,
          4.444444444444445,
          4.545454545454545,
          4.646464646464646,
          4.747474747474747,
          4.848484848484849,
          4.94949494949495,
          5.05050505050505,
          5.151515151515151,
          5.252525252525253,
          5.353535353535354,
          5.454545454545454,
          5.555555555555555,
          5.656565656565657,
          5.757575757575758,
          5.858585858585858,
          5.959595959595959,
          6.0606060606060606,
          6.161616161616162,
          6.262626262626262,
          6.363636363636363,
          6.4646464646464645,
          6.565656565656566,
          6.666666666666667,
          6.767676767676767,
          6.8686868686868685,
          6.96969696969697,
          7.070707070707071,
          7.171717171717171,
          7.2727272727272725,
          7.373737373737374,
          7.474747474747475,
          7.575757575757575,
          7.6767676767676765,
          7.777777777777778,
          7.878787878787879,
          7.979797979797979,
          8.080808080808081,
          8.181818181818182,
          8.282828282828282,
          8.383838383838384,
          8.484848484848484,
          8.585858585858587,
          8.686868686868687,
          8.787878787878787,
          8.88888888888889,
          8.98989898989899,
          9.09090909090909,
          9.191919191919192,
          9.292929292929292,
          9.393939393939394,
          9.494949494949495,
          9.595959595959595,
          9.696969696969697,
          9.797979797979798,
          9.8989898989899,
          10
         ],
         "y": [
          -0.12539017074869654,
          -0.1461529266831243,
          0.013614226054457107,
          -0.14179700215196928,
          0.13700098467170407,
          0.09170232221385402,
          0.0037548954289353623,
          0.07318699463474022,
          -0.02643432048486337,
          0.02540451080269502,
          -0.05291225655010749,
          -0.09374024301950366,
          -0.03718045018222975,
          0.12129348345914123,
          -0.04663290756162806,
          0.0409206668928876,
          0.03202822642859259,
          -0.012066301615040482,
          -0.0869281251164693,
          0.04314353413546195,
          -0.0355077030315591,
          0.028231988813847676,
          0.10478965054586878,
          -0.030453616289173188,
          0.011677798046430064,
          0.04002846390083738,
          0.00047789185127316506,
          0.057012756617815276,
          0.053025927245596086,
          -0.07359918774930464,
          0.012289709687844343,
          -0.09077952070750257,
          -0.08417841506724376,
          -0.09146755635377136,
          0.005886687248998343,
          0.039652225366272366,
          -0.022853663018615637,
          -0.08242196024721743,
          0.013481235276644583,
          -0.02255611602733571,
          -0.0363883299690871,
          0.08105698090607343,
          -0.026306887231704386,
          0.06803690272693345,
          0.1479839394945305,
          0.12905154197280533,
          0.17895502760009346,
          0.1691782620046765,
          -0.06682354308331091,
          0.07623191615573406,
          0.21064183088222008,
          0.18529386543178172,
          0.1155733821948841,
          0.048012647829359364,
          0.0286236051421441,
          0.16787299918504392,
          -0.028536829463599533,
          0.03928681281939099,
          0.30056947271128415,
          0.19112880633245316,
          0.12078750707700597,
          0.1620372724077003,
          0.004279738902691899,
          0.1822067742126028,
          0.17629362973438856,
          0.25669125918238667,
          0.3301811736530552,
          0.2714652788410682,
          0.25986554663024575,
          0.25914800174670116,
          0.43743605217720805,
          0.22912860635455623,
          0.3499621259386155,
          0.3441604449803355,
          0.3981065647527507,
          0.32589689683501644,
          0.468086349270713,
          0.28767233427263683,
          0.3488562676565692,
          0.38607631973522083,
          0.40899273908279854,
          0.44363328828620396,
          0.6163877534352922,
          0.626257738939209,
          0.5430673511136312,
          0.7168873409546186,
          0.7047506325397179,
          0.7149817736765808,
          0.7397718948490235,
          0.9033247163599492,
          0.8412878363566938,
          0.8650883793797643,
          0.7588316260553303,
          0.7779396304861195,
          1.0111008572337246,
          0.8770888753547198,
          1.0796561808378913,
          0.9896888671153208,
          1.2414378357730893,
          1.0297409963448116
         ]
        },
        {
         "mode": "lines",
         "name": "Regressor Linear of degree 1",
         "text": "MSE: 0.030929242500862545",
         "type": "scatter",
         "x": [
          0,
          0.10101010101010101,
          0.20202020202020202,
          0.30303030303030304,
          0.40404040404040403,
          0.5050505050505051,
          0.6060606060606061,
          0.7070707070707071,
          0.8080808080808081,
          0.9090909090909091,
          1.0101010101010102,
          1.1111111111111112,
          1.2121212121212122,
          1.3131313131313131,
          1.4141414141414141,
          1.5151515151515151,
          1.6161616161616161,
          1.7171717171717171,
          1.8181818181818181,
          1.9191919191919191,
          2.0202020202020203,
          2.121212121212121,
          2.2222222222222223,
          2.323232323232323,
          2.4242424242424243,
          2.525252525252525,
          2.6262626262626263,
          2.727272727272727,
          2.8282828282828283,
          2.929292929292929,
          3.0303030303030303,
          3.131313131313131,
          3.2323232323232323,
          3.3333333333333335,
          3.4343434343434343,
          3.5353535353535355,
          3.6363636363636362,
          3.7373737373737375,
          3.8383838383838382,
          3.9393939393939394,
          4.040404040404041,
          4.141414141414141,
          4.242424242424242,
          4.343434343434343,
          4.444444444444445,
          4.545454545454545,
          4.646464646464646,
          4.747474747474747,
          4.848484848484849,
          4.94949494949495,
          5.05050505050505,
          5.151515151515151,
          5.252525252525253,
          5.353535353535354,
          5.454545454545454,
          5.555555555555555,
          5.656565656565657,
          5.757575757575758,
          5.858585858585858,
          5.959595959595959,
          6.0606060606060606,
          6.161616161616162,
          6.262626262626262,
          6.363636363636363,
          6.4646464646464645,
          6.565656565656566,
          6.666666666666667,
          6.767676767676767,
          6.8686868686868685,
          6.96969696969697,
          7.070707070707071,
          7.171717171717171,
          7.2727272727272725,
          7.373737373737374,
          7.474747474747475,
          7.575757575757575,
          7.6767676767676765,
          7.777777777777778,
          7.878787878787879,
          7.979797979797979,
          8.080808080808081,
          8.181818181818182,
          8.282828282828282,
          8.383838383838384,
          8.484848484848484,
          8.585858585858587,
          8.686868686868687,
          8.787878787878787,
          8.88888888888889,
          8.98989898989899,
          9.09090909090909,
          9.191919191919192,
          9.292929292929292,
          9.393939393939394,
          9.494949494949495,
          9.595959595959595,
          9.696969696969697,
          9.797979797979798,
          9.8989898989899,
          10
         ],
         "y": [
          -0.2505931017321841,
          -0.24032004617556532,
          -0.23004699061894654,
          -0.21977393506232779,
          -0.209500879505709,
          -0.19922782394909022,
          -0.18895476839247147,
          -0.1786817128358527,
          -0.16840865727923393,
          -0.15813560172261518,
          -0.1478625461659964,
          -0.13758949060937764,
          -0.12731643505275886,
          -0.1170433794961401,
          -0.10677032393952132,
          -0.09649726838290257,
          -0.08622421282628381,
          -0.07595115726966503,
          -0.06567810171304628,
          -0.055405046156427495,
          -0.04513199059980871,
          -0.03485893504318996,
          -0.024585879486571177,
          -0.01431282392995245,
          -0.004039768373333641,
          0.006233287183285086,
          0.016506342739903868,
          0.02677939829652265,
          0.03705245385314143,
          0.04732550940976016,
          0.05759856496637894,
          0.06787162052299767,
          0.07814467607961645,
          0.08841773163623529,
          0.09869078719285401,
          0.1089638427494728,
          0.11923689830609152,
          0.1295099538627103,
          0.13978300941932909,
          0.15005606497594787,
          0.16032912053256665,
          0.17060217608918532,
          0.18087523164580416,
          0.19114828720242294,
          0.20142134275904172,
          0.2116943983156604,
          0.22196745387227917,
          0.232240509428898,
          0.2425135649855168,
          0.2527866205421355,
          0.26305967609875425,
          0.2733327316553731,
          0.2836057872119918,
          0.29387884276861065,
          0.3041518983252294,
          0.3144249538818481,
          0.32469800943846694,
          0.33497106499508567,
          0.3452441205517044,
          0.35551717610832323,
          0.36579023166494196,
          0.3760632872215608,
          0.3863363427781794,
          0.39660939833479825,
          0.406882453891417,
          0.4171555094480358,
          0.42742856500465465,
          0.43770162056127326,
          0.4479746761178921,
          0.4582477316745108,
          0.46852078723112967,
          0.4787938427877484,
          0.4890668983443671,
          0.49933995390098596,
          0.5096130094576047,
          0.5198860650142234,
          0.5301591205708422,
          0.540432176127461,
          0.5507052316840798,
          0.5609782872406985,
          0.5712513427973174,
          0.5815243983539361,
          0.5917974539105547,
          0.6020705094671737,
          0.6123435650237924,
          0.6226166205804112,
          0.63288967613703,
          0.6431627316936486,
          0.6534357872502675,
          0.6637088428068862,
          0.6739818983635049,
          0.6842549539201238,
          0.6945280094767424,
          0.7048010650333614,
          0.7150741205899801,
          0.7253471761465987,
          0.7356202317032177,
          0.7458932872598363,
          0.7561663428164551,
          0.766439398373074
         ]
        },
        {
         "mode": "lines",
         "name": "Regressor Linear of degree 2",
         "text": "MSE: 0.008837006183372182",
         "type": "scatter",
         "x": [
          0,
          0.10101010101010101,
          0.20202020202020202,
          0.30303030303030304,
          0.40404040404040403,
          0.5050505050505051,
          0.6060606060606061,
          0.7070707070707071,
          0.8080808080808081,
          0.9090909090909091,
          1.0101010101010102,
          1.1111111111111112,
          1.2121212121212122,
          1.3131313131313131,
          1.4141414141414141,
          1.5151515151515151,
          1.6161616161616161,
          1.7171717171717171,
          1.8181818181818181,
          1.9191919191919191,
          2.0202020202020203,
          2.121212121212121,
          2.2222222222222223,
          2.323232323232323,
          2.4242424242424243,
          2.525252525252525,
          2.6262626262626263,
          2.727272727272727,
          2.8282828282828283,
          2.929292929292929,
          3.0303030303030303,
          3.131313131313131,
          3.2323232323232323,
          3.3333333333333335,
          3.4343434343434343,
          3.5353535353535355,
          3.6363636363636362,
          3.7373737373737375,
          3.8383838383838382,
          3.9393939393939394,
          4.040404040404041,
          4.141414141414141,
          4.242424242424242,
          4.343434343434343,
          4.444444444444445,
          4.545454545454545,
          4.646464646464646,
          4.747474747474747,
          4.848484848484849,
          4.94949494949495,
          5.05050505050505,
          5.151515151515151,
          5.252525252525253,
          5.353535353535354,
          5.454545454545454,
          5.555555555555555,
          5.656565656565657,
          5.757575757575758,
          5.858585858585858,
          5.959595959595959,
          6.0606060606060606,
          6.161616161616162,
          6.262626262626262,
          6.363636363636363,
          6.4646464646464645,
          6.565656565656566,
          6.666666666666667,
          6.767676767676767,
          6.8686868686868685,
          6.96969696969697,
          7.070707070707071,
          7.171717171717171,
          7.2727272727272725,
          7.373737373737374,
          7.474747474747475,
          7.575757575757575,
          7.6767676767676765,
          7.777777777777778,
          7.878787878787879,
          7.979797979797979,
          8.080808080808081,
          8.181818181818182,
          8.282828282828282,
          8.383838383838384,
          8.484848484848484,
          8.585858585858587,
          8.686868686868687,
          8.787878787878787,
          8.88888888888889,
          8.98989898989899,
          9.09090909090909,
          9.191919191919192,
          9.292929292929292,
          9.393939393939394,
          9.494949494949495,
          9.595959595959595,
          9.696969696969697,
          9.797979797979798,
          9.8989898989899,
          10
         ],
         "y": [
          0.04342791126308043,
          0.03556839399165675,
          0.028072061459514283,
          0.020938913666653024,
          0.014168950613072981,
          0.0077621722987741455,
          0.0017185787237565201,
          -0.003961830111979887,
          -0.009279054208435082,
          -0.014233093565609072,
          -0.018823948183501846,
          -0.02305161806211341,
          -0.026916103201443768,
          -0.030417403601492896,
          -0.03355551926226083,
          -0.03633045018374755,
          -0.038742196365953045,
          -0.04079075780887736,
          -0.04247613451252043,
          -0.04379832647688228,
          -0.04475733370196294,
          -0.045353156187762395,
          -0.045585793934280625,
          -0.04545524694151766,
          -0.044961515209473474,
          -0.04410459873814805,
          -0.042884497527541435,
          -0.041301211577653624,
          -0.03935474088848459,
          -0.03704508546003435,
          -0.0343722452923029,
          -0.031336220385290214,
          -0.02793701073899632,
          -0.02417461635342122,
          -0.020049037228564964,
          -0.015560273364427446,
          -0.010708324761008692,
          -0.005493191418308729,
          8.512666367244126e-05,
          0.006026629484934765,
          0.012331317045478407,
          0.01899918934530309,
          0.02603024638440915,
          0.03342448816279636,
          0.04118191468046484,
          0.049302525937414354,
          0.057786321933645246,
          0.06663330266915729,
          0.0758434681439506,
          0.08541681835802512,
          0.09535335331138078,
          0.10565307300401772,
          0.11631597743593586,
          0.1273420666071352,
          0.13873134051761565,
          0.15048379916737747,
          0.1625994425564204,
          0.17507827068474463,
          0.1879202835523499,
          0.20112548115923645,
          0.21469386350540431,
          0.22862543059085338,
          0.24292018241558355,
          0.25757811897959515,
          0.27259924028288773,
          0.28798354632546164,
          0.30373103710731675,
          0.31984171262845285,
          0.3363155728888704,
          0.3531526178885692,
          0.37035284762754905,
          0.3879162621058102,
          0.40584286132335257,
          0.42413264528017613,
          0.442785613976281,
          0.4618017674116669,
          0.4811811055863342,
          0.5009236285002826,
          0.5210293361535121,
          0.5414982285460229,
          0.5623303056778153,
          0.5835255675488883,
          0.6050840141592425,
          0.6270056455088785,
          0.6492904615977954,
          0.6719384624259935,
          0.6949496479934728,
          0.7183240183002332,
          0.7420615733462753,
          0.7661623131315981,
          0.7906262376562019,
          0.8154533469200876,
          0.840643640923254,
          0.866197119665702,
          0.8921137831474308,
          0.9183936313684411,
          0.9450366643287327,
          0.9720428820283054,
          0.9994122844671594,
          1.0271448716452942
         ]
        },
        {
         "mode": "lines",
         "name": "Regressor Linear of degree 4",
         "text": "MSE: 0.006711146058937321",
         "type": "scatter",
         "x": [
          0,
          0.10101010101010101,
          0.20202020202020202,
          0.30303030303030304,
          0.40404040404040403,
          0.5050505050505051,
          0.6060606060606061,
          0.7070707070707071,
          0.8080808080808081,
          0.9090909090909091,
          1.0101010101010102,
          1.1111111111111112,
          1.2121212121212122,
          1.3131313131313131,
          1.4141414141414141,
          1.5151515151515151,
          1.6161616161616161,
          1.7171717171717171,
          1.8181818181818181,
          1.9191919191919191,
          2.0202020202020203,
          2.121212121212121,
          2.2222222222222223,
          2.323232323232323,
          2.4242424242424243,
          2.525252525252525,
          2.6262626262626263,
          2.727272727272727,
          2.8282828282828283,
          2.929292929292929,
          3.0303030303030303,
          3.131313131313131,
          3.2323232323232323,
          3.3333333333333335,
          3.4343434343434343,
          3.5353535353535355,
          3.6363636363636362,
          3.7373737373737375,
          3.8383838383838382,
          3.9393939393939394,
          4.040404040404041,
          4.141414141414141,
          4.242424242424242,
          4.343434343434343,
          4.444444444444445,
          4.545454545454545,
          4.646464646464646,
          4.747474747474747,
          4.848484848484849,
          4.94949494949495,
          5.05050505050505,
          5.151515151515151,
          5.252525252525253,
          5.353535353535354,
          5.454545454545454,
          5.555555555555555,
          5.656565656565657,
          5.757575757575758,
          5.858585858585858,
          5.959595959595959,
          6.0606060606060606,
          6.161616161616162,
          6.262626262626262,
          6.363636363636363,
          6.4646464646464645,
          6.565656565656566,
          6.666666666666667,
          6.767676767676767,
          6.8686868686868685,
          6.96969696969697,
          7.070707070707071,
          7.171717171717171,
          7.2727272727272725,
          7.373737373737374,
          7.474747474747475,
          7.575757575757575,
          7.6767676767676765,
          7.777777777777778,
          7.878787878787879,
          7.979797979797979,
          8.080808080808081,
          8.181818181818182,
          8.282828282828282,
          8.383838383838384,
          8.484848484848484,
          8.585858585858587,
          8.686868686868687,
          8.787878787878787,
          8.88888888888889,
          8.98989898989899,
          9.09090909090909,
          9.191919191919192,
          9.292929292929292,
          9.393939393939394,
          9.494949494949495,
          9.595959595959595,
          9.696969696969697,
          9.797979797979798,
          9.8989898989899,
          10
         ],
         "y": [
          -0.019884924035778795,
          -0.019178335240495357,
          -0.01853282859607581,
          -0.017941659354825876,
          -0.017398001908336697,
          -0.016894949787484806,
          -0.016425515662432142,
          -0.015982631342626046,
          -0.015559147776799256,
          -0.015147835052969913,
          -0.014741382398441567,
          -0.014332398179803167,
          -0.013913409902929053,
          -0.01347686421297898,
          -0.013015126894398094,
          -0.012520482870916953,
          -0.011985136205551515,
          -0.011401210100603121,
          -0.010760746897658546,
          -0.010055708077589945,
          -0.009277974260554869,
          -0.008419345205996295,
          -0.007471539812642579,
          -0.006426196118507494,
          -0.005274871300890197,
          -0.004009041676375271,
          -0.0026201027008326714,
          -0.0010993689694177922,
          0.0005619257834286145,
          0.0023726286839803523,
          0.004341667719225867,
          0.00647805173686815,
          0.008790870445324842,
          0.01128929441372816,
          0.013982575071924892,
          0.016880044710476487,
          0.019991116480658933,
          0.023325284394462863,
          0.026892123324593464,
          0.030701289004470562,
          0.034762518028228544,
          0.039085627850716405,
          0.043680516787497785,
          0.04855716401485085,
          0.05372562956976844,
          0.059196054349957866,
          0.06497866011384122,
          0.07108374948055508,
          0.0775217059299506,
          0.0843029938025936,
          0.09143815829976437,
          0.09893782548345806,
          0.10681270227638419,
          0.11507357646196692,
          0.12373131668434495,
          0.13279687244837188,
          0.1422812741196155,
          0.15219563292435845,
          0.16255114094959788,
          0.17335907114304563,
          0.18463077731312807,
          0.1963776941289861,
          0.20861133712047522,
          0.22134330267816582,
          0.2345852680533425,
          0.24834899135800467,
          0.2626463115648664,
          0.27748914850735584,
          0.2928895028796167,
          0.30885945623650646,
          0.3254111709935975,
          0.34255689042717663,
          0.3603089386742456,
          0.37867972073252065,
          0.3976817224604323,
          0.4173275105771259,
          0.4376297326624616,
          0.45860111715701374,
          0.4802544733620717,
          0.5026026914396389,
          0.525658742412434,
          0.5494356781638896,
          0.5739466314381533,
          0.5992048158400878,
          0.6252235258352689,
          0.6520161367499888,
          0.6795961047712528,
          0.7079769669467815,
          0.7371723411850108,
          0.7671959262550891,
          0.7980615017868817,
          0.8297829282709678,
          0.8623741470586395,
          0.8958491803619066,
          0.9302221312534905,
          0.9655071836668289,
          1.0017186023960745,
          1.0388707330960925,
          1.0769780022824653,
          1.1160549173314873
         ]
        },
        {
         "mode": "lines",
         "name": "Regressor Linear of degree 5",
         "text": "MSE: 0.006710470734354753",
         "type": "scatter",
         "x": [
          0,
          0.10101010101010101,
          0.20202020202020202,
          0.30303030303030304,
          0.40404040404040403,
          0.5050505050505051,
          0.6060606060606061,
          0.7070707070707071,
          0.8080808080808081,
          0.9090909090909091,
          1.0101010101010102,
          1.1111111111111112,
          1.2121212121212122,
          1.3131313131313131,
          1.4141414141414141,
          1.5151515151515151,
          1.6161616161616161,
          1.7171717171717171,
          1.8181818181818181,
          1.9191919191919191,
          2.0202020202020203,
          2.121212121212121,
          2.2222222222222223,
          2.323232323232323,
          2.4242424242424243,
          2.525252525252525,
          2.6262626262626263,
          2.727272727272727,
          2.8282828282828283,
          2.929292929292929,
          3.0303030303030303,
          3.131313131313131,
          3.2323232323232323,
          3.3333333333333335,
          3.4343434343434343,
          3.5353535353535355,
          3.6363636363636362,
          3.7373737373737375,
          3.8383838383838382,
          3.9393939393939394,
          4.040404040404041,
          4.141414141414141,
          4.242424242424242,
          4.343434343434343,
          4.444444444444445,
          4.545454545454545,
          4.646464646464646,
          4.747474747474747,
          4.848484848484849,
          4.94949494949495,
          5.05050505050505,
          5.151515151515151,
          5.252525252525253,
          5.353535353535354,
          5.454545454545454,
          5.555555555555555,
          5.656565656565657,
          5.757575757575758,
          5.858585858585858,
          5.959595959595959,
          6.0606060606060606,
          6.161616161616162,
          6.262626262626262,
          6.363636363636363,
          6.4646464646464645,
          6.565656565656566,
          6.666666666666667,
          6.767676767676767,
          6.8686868686868685,
          6.96969696969697,
          7.070707070707071,
          7.171717171717171,
          7.2727272727272725,
          7.373737373737374,
          7.474747474747475,
          7.575757575757575,
          7.6767676767676765,
          7.777777777777778,
          7.878787878787879,
          7.979797979797979,
          8.080808080808081,
          8.181818181818182,
          8.282828282828282,
          8.383838383838384,
          8.484848484848484,
          8.585858585858587,
          8.686868686868687,
          8.787878787878787,
          8.88888888888889,
          8.98989898989899,
          9.09090909090909,
          9.191919191919192,
          9.292929292929292,
          9.393939393939394,
          9.494949494949495,
          9.595959595959595,
          9.696969696969697,
          9.797979797979798,
          9.8989898989899,
          10
         ],
         "y": [
          -0.021429142121860423,
          -0.020263439684696224,
          -0.019225765127330235,
          -0.018303753372785104,
          -0.017485224523916362,
          -0.016758178234520162,
          -0.016110788080441023,
          -0.015531395930679584,
          -0.01500850631850029,
          -0.0145307808125392,
          -0.014087032387911652,
          -0.013666219797320049,
          -0.013257441942161583,
          -0.012849932243635967,
          -0.012433053013853165,
          -0.011996289826941156,
          -0.01152924589015364,
          -0.011021636414977805,
          -0.010463282988242034,
          -0.009844107943223658,
          -0.00915412873075669,
          -0.00838345229033957,
          -0.007522269421242889,
          -0.006560849153617143,
          -0.005489533119600441,
          -0.0042987299244262745,
          -0.0029789095175312332,
          -0.0015205975636627522,
          8.563018601314624e-05,
          0.0018491535228041336,
          0.003779313409383843,
          0.005885417608684064,
          0.008176746312787163,
          0.010662557771818083,
          0.01335209392283692,
          0.01625458601873093,
          0.019379260257106953,
          0.022735343409183567,
          0.026332068448683476,
          0.030178680180725653,
          0.03428444087071753,
          0.038658635873247575,
          0.04331057926097731,
          0.04824961945353354,
          0.05348514484640076,
          0.05902658943981325,
          0.06488343846764763,
          0.07106523402631484,
          0.07758158070365251,
          0.08444215120781715,
          0.09165669199617647,
          0.09923502890420197,
          0.10718707277436026,
          0.1155228250850066,
          0.124252383579276,
          0.1333859478939764,
          0.14293382518848008,
          0.15290643577361684,
          0.16331431874056543,
          0.1741681375897465,
          0.18547868585971403,
          0.19725689275604863,
          0.20951382878024885,
          0.22226071135862446,
          0.23550891047118738,
          0.24926995428054494,
          0.2635555347607924,
          0.27837751332640387,
          0.29374792646112585,
          0.30967899134686905,
          0.3261831114926007,
          0.3432728823632362,
          0.3609610970085331,
          0.3792607516919809,
          0.39818505151969524,
          0.4177474160693098,
          0.4379614850188677,
          0.45884112377571495,
          0.48040042910539177,
          0.5026537347605246,
          0.5256156171097208,
          0.5493009007664571,
          0.5737246642179751,
          0.5989022454541723,
          0.6248492475964929,
          0.6515815445268234,
          0.6791152865163813,
          0.7074669058546104,
          0.7366531224780718,
          0.7666909495993337,
          0.7975976993358689,
          0.8293909883389433,
          0.862088743422508,
          0.895709207192094,
          0.9302709436737017,
          0.9657928439426959,
          1.0022941317526963,
          1.039794369164469,
          1.078313462174822,
          1.1178716663454935
         ]
        },
        {
         "mode": "lines",
         "name": "Regressor Linear of degree 9",
         "text": "MSE: 0.007178820204123342",
         "type": "scatter",
         "x": [
          0,
          0.10101010101010101,
          0.20202020202020202,
          0.30303030303030304,
          0.40404040404040403,
          0.5050505050505051,
          0.6060606060606061,
          0.7070707070707071,
          0.8080808080808081,
          0.9090909090909091,
          1.0101010101010102,
          1.1111111111111112,
          1.2121212121212122,
          1.3131313131313131,
          1.4141414141414141,
          1.5151515151515151,
          1.6161616161616161,
          1.7171717171717171,
          1.8181818181818181,
          1.9191919191919191,
          2.0202020202020203,
          2.121212121212121,
          2.2222222222222223,
          2.323232323232323,
          2.4242424242424243,
          2.525252525252525,
          2.6262626262626263,
          2.727272727272727,
          2.8282828282828283,
          2.929292929292929,
          3.0303030303030303,
          3.131313131313131,
          3.2323232323232323,
          3.3333333333333335,
          3.4343434343434343,
          3.5353535353535355,
          3.6363636363636362,
          3.7373737373737375,
          3.8383838383838382,
          3.9393939393939394,
          4.040404040404041,
          4.141414141414141,
          4.242424242424242,
          4.343434343434343,
          4.444444444444445,
          4.545454545454545,
          4.646464646464646,
          4.747474747474747,
          4.848484848484849,
          4.94949494949495,
          5.05050505050505,
          5.151515151515151,
          5.252525252525253,
          5.353535353535354,
          5.454545454545454,
          5.555555555555555,
          5.656565656565657,
          5.757575757575758,
          5.858585858585858,
          5.959595959595959,
          6.0606060606060606,
          6.161616161616162,
          6.262626262626262,
          6.363636363636363,
          6.4646464646464645,
          6.565656565656566,
          6.666666666666667,
          6.767676767676767,
          6.8686868686868685,
          6.96969696969697,
          7.070707070707071,
          7.171717171717171,
          7.2727272727272725,
          7.373737373737374,
          7.474747474747475,
          7.575757575757575,
          7.6767676767676765,
          7.777777777777778,
          7.878787878787879,
          7.979797979797979,
          8.080808080808081,
          8.181818181818182,
          8.282828282828282,
          8.383838383838384,
          8.484848484848484,
          8.585858585858587,
          8.686868686868687,
          8.787878787878787,
          8.88888888888889,
          8.98989898989899,
          9.09090909090909,
          9.191919191919192,
          9.292929292929292,
          9.393939393939394,
          9.494949494949495,
          9.595959595959595,
          9.696969696969697,
          9.797979797979798,
          9.8989898989899,
          10
         ],
         "y": [
          -0.11674124906130601,
          -0.0428226125423833,
          0.005238816598089957,
          0.03333289136782386,
          0.04636596987079115,
          0.04838512224954461,
          0.04269067071375761,
          0.03193783662121115,
          0.018228236095185885,
          0.0031919338304454074,
          -0.011939266441278122,
          -0.026266646886184443,
          -0.03916689784386004,
          -0.05024134861327581,
          -0.05927154649862195,
          -0.06618065179308853,
          -0.07100014365704628,
          -0.07384135847489966,
          -0.07487140825224319,
          -0.07429305194179894,
          -0.07232811726298555,
          -0.06920409460581764,
          -0.06514354798521643,
          -0.060356010736763534,
          -0.05503205571915758,
          -0.04933925121277137,
          -0.043419734476916653,
          -0.03738915505141566,
          -0.03133675936053846,
          -0.025326406999268546,
          -0.019398327253263445,
          -0.013571441924892312,
          -0.007846097408253802,
          -0.002207065175692885,
          0.003373314591512369,
          0.008931956577467426,
          0.014511917191007834,
          0.020159427172271704,
          0.025921139441540064,
          0.031841649367858604,
          0.037961332968614314,
          0.04431453753544956,
          0.050928148816140495,
          0.05782054916655677,
          0.06500097202363375,
          0.07246924963431867,
          0.08021594321386383,
          0.08822283759191007,
          0.09646377594334377,
          0.10490580438963182,
          0.11351059109084494,
          0.1222360799445319,
          0.13103833513774177,
          0.13987352959863308,
          0.1487000278233026,
          0.15748051165706833,
          0.16618409633656128,
          0.1747883835042625,
          0.1832813979402239,
          0.1916633554519347,
          0.19994821070739732,
          0.2081649357877815,
          0.21635848288496007,
          0.22459038785246221,
          0.23293897528692042,
          0.241499130381726,
          0.2503816080660073,
          0.25971185583120615,
          0.2696283331881162,
          0.2802803179007469,
          0.2918251969996106,
          0.30442524905326707,
          0.31824393335266166,
          0.3334417114463122,
          0.3501714369121487,
          0.3685733603679182,
          0.3887698084614044,
          0.4108596079795461,
          0.43491233928261863,
          0.46096251696292256,
          0.4890038099739229,
          0.5189834284959716,
          0.5507968204431677,
          0.5842828368353707,
          0.6192195421976407,
          0.6553208637618582,
          0.6922342915279955,
          0.7295398600786598,
          0.7667506626963814,
          0.8033151684333006,
          0.8386216337595442,
          0.8720049217855603,
          0.9027560643501147,
          0.9301349250024487,
          0.9533863443200516,
          0.9717601732672847,
          0.9845356248918051,
          0.9910504001693425,
          0.9907350698272239,
          0.983153220728127
         ]
        }
       ],
       "layout": {
        "template": {
         "data": {
          "bar": [
           {
            "error_x": {
             "color": "#2a3f5f"
            },
            "error_y": {
             "color": "#2a3f5f"
            },
            "marker": {
             "line": {
              "color": "#E5ECF6",
              "width": 0.5
             }
            },
            "type": "bar"
           }
          ],
          "barpolar": [
           {
            "marker": {
             "line": {
              "color": "#E5ECF6",
              "width": 0.5
             }
            },
            "type": "barpolar"
           }
          ],
          "carpet": [
           {
            "aaxis": {
             "endlinecolor": "#2a3f5f",
             "gridcolor": "white",
             "linecolor": "white",
             "minorgridcolor": "white",
             "startlinecolor": "#2a3f5f"
            },
            "baxis": {
             "endlinecolor": "#2a3f5f",
             "gridcolor": "white",
             "linecolor": "white",
             "minorgridcolor": "white",
             "startlinecolor": "#2a3f5f"
            },
            "type": "carpet"
           }
          ],
          "choropleth": [
           {
            "colorbar": {
             "outlinewidth": 0,
             "ticks": ""
            },
            "type": "choropleth"
           }
          ],
          "contour": [
           {
            "colorbar": {
             "outlinewidth": 0,
             "ticks": ""
            },
            "colorscale": [
             [
              0,
              "#0d0887"
             ],
             [
              0.1111111111111111,
              "#46039f"
             ],
             [
              0.2222222222222222,
              "#7201a8"
             ],
             [
              0.3333333333333333,
              "#9c179e"
             ],
             [
              0.4444444444444444,
              "#bd3786"
             ],
             [
              0.5555555555555556,
              "#d8576b"
             ],
             [
              0.6666666666666666,
              "#ed7953"
             ],
             [
              0.7777777777777778,
              "#fb9f3a"
             ],
             [
              0.8888888888888888,
              "#fdca26"
             ],
             [
              1,
              "#f0f921"
             ]
            ],
            "type": "contour"
           }
          ],
          "contourcarpet": [
           {
            "colorbar": {
             "outlinewidth": 0,
             "ticks": ""
            },
            "type": "contourcarpet"
           }
          ],
          "heatmap": [
           {
            "colorbar": {
             "outlinewidth": 0,
             "ticks": ""
            },
            "colorscale": [
             [
              0,
              "#0d0887"
             ],
             [
              0.1111111111111111,
              "#46039f"
             ],
             [
              0.2222222222222222,
              "#7201a8"
             ],
             [
              0.3333333333333333,
              "#9c179e"
             ],
             [
              0.4444444444444444,
              "#bd3786"
             ],
             [
              0.5555555555555556,
              "#d8576b"
             ],
             [
              0.6666666666666666,
              "#ed7953"
             ],
             [
              0.7777777777777778,
              "#fb9f3a"
             ],
             [
              0.8888888888888888,
              "#fdca26"
             ],
             [
              1,
              "#f0f921"
             ]
            ],
            "type": "heatmap"
           }
          ],
          "heatmapgl": [
           {
            "colorbar": {
             "outlinewidth": 0,
             "ticks": ""
            },
            "colorscale": [
             [
              0,
              "#0d0887"
             ],
             [
              0.1111111111111111,
              "#46039f"
             ],
             [
              0.2222222222222222,
              "#7201a8"
             ],
             [
              0.3333333333333333,
              "#9c179e"
             ],
             [
              0.4444444444444444,
              "#bd3786"
             ],
             [
              0.5555555555555556,
              "#d8576b"
             ],
             [
              0.6666666666666666,
              "#ed7953"
             ],
             [
              0.7777777777777778,
              "#fb9f3a"
             ],
             [
              0.8888888888888888,
              "#fdca26"
             ],
             [
              1,
              "#f0f921"
             ]
            ],
            "type": "heatmapgl"
           }
          ],
          "histogram": [
           {
            "marker": {
             "colorbar": {
              "outlinewidth": 0,
              "ticks": ""
             }
            },
            "type": "histogram"
           }
          ],
          "histogram2d": [
           {
            "colorbar": {
             "outlinewidth": 0,
             "ticks": ""
            },
            "colorscale": [
             [
              0,
              "#0d0887"
             ],
             [
              0.1111111111111111,
              "#46039f"
             ],
             [
              0.2222222222222222,
              "#7201a8"
             ],
             [
              0.3333333333333333,
              "#9c179e"
             ],
             [
              0.4444444444444444,
              "#bd3786"
             ],
             [
              0.5555555555555556,
              "#d8576b"
             ],
             [
              0.6666666666666666,
              "#ed7953"
             ],
             [
              0.7777777777777778,
              "#fb9f3a"
             ],
             [
              0.8888888888888888,
              "#fdca26"
             ],
             [
              1,
              "#f0f921"
             ]
            ],
            "type": "histogram2d"
           }
          ],
          "histogram2dcontour": [
           {
            "colorbar": {
             "outlinewidth": 0,
             "ticks": ""
            },
            "colorscale": [
             [
              0,
              "#0d0887"
             ],
             [
              0.1111111111111111,
              "#46039f"
             ],
             [
              0.2222222222222222,
              "#7201a8"
             ],
             [
              0.3333333333333333,
              "#9c179e"
             ],
             [
              0.4444444444444444,
              "#bd3786"
             ],
             [
              0.5555555555555556,
              "#d8576b"
             ],
             [
              0.6666666666666666,
              "#ed7953"
             ],
             [
              0.7777777777777778,
              "#fb9f3a"
             ],
             [
              0.8888888888888888,
              "#fdca26"
             ],
             [
              1,
              "#f0f921"
             ]
            ],
            "type": "histogram2dcontour"
           }
          ],
          "mesh3d": [
           {
            "colorbar": {
             "outlinewidth": 0,
             "ticks": ""
            },
            "type": "mesh3d"
           }
          ],
          "parcoords": [
           {
            "line": {
             "colorbar": {
              "outlinewidth": 0,
              "ticks": ""
             }
            },
            "type": "parcoords"
           }
          ],
          "scatter": [
           {
            "marker": {
             "colorbar": {
              "outlinewidth": 0,
              "ticks": ""
             }
            },
            "type": "scatter"
           }
          ],
          "scatter3d": [
           {
            "line": {
             "colorbar": {
              "outlinewidth": 0,
              "ticks": ""
             }
            },
            "marker": {
             "colorbar": {
              "outlinewidth": 0,
              "ticks": ""
             }
            },
            "type": "scatter3d"
           }
          ],
          "scattercarpet": [
           {
            "marker": {
             "colorbar": {
              "outlinewidth": 0,
              "ticks": ""
             }
            },
            "type": "scattercarpet"
           }
          ],
          "scattergeo": [
           {
            "marker": {
             "colorbar": {
              "outlinewidth": 0,
              "ticks": ""
             }
            },
            "type": "scattergeo"
           }
          ],
          "scattergl": [
           {
            "marker": {
             "colorbar": {
              "outlinewidth": 0,
              "ticks": ""
             }
            },
            "type": "scattergl"
           }
          ],
          "scattermapbox": [
           {
            "marker": {
             "colorbar": {
              "outlinewidth": 0,
              "ticks": ""
             }
            },
            "type": "scattermapbox"
           }
          ],
          "scatterpolar": [
           {
            "marker": {
             "colorbar": {
              "outlinewidth": 0,
              "ticks": ""
             }
            },
            "type": "scatterpolar"
           }
          ],
          "scatterpolargl": [
           {
            "marker": {
             "colorbar": {
              "outlinewidth": 0,
              "ticks": ""
             }
            },
            "type": "scatterpolargl"
           }
          ],
          "scatterternary": [
           {
            "marker": {
             "colorbar": {
              "outlinewidth": 0,
              "ticks": ""
             }
            },
            "type": "scatterternary"
           }
          ],
          "surface": [
           {
            "colorbar": {
             "outlinewidth": 0,
             "ticks": ""
            },
            "colorscale": [
             [
              0,
              "#0d0887"
             ],
             [
              0.1111111111111111,
              "#46039f"
             ],
             [
              0.2222222222222222,
              "#7201a8"
             ],
             [
              0.3333333333333333,
              "#9c179e"
             ],
             [
              0.4444444444444444,
              "#bd3786"
             ],
             [
              0.5555555555555556,
              "#d8576b"
             ],
             [
              0.6666666666666666,
              "#ed7953"
             ],
             [
              0.7777777777777778,
              "#fb9f3a"
             ],
             [
              0.8888888888888888,
              "#fdca26"
             ],
             [
              1,
              "#f0f921"
             ]
            ],
            "type": "surface"
           }
          ],
          "table": [
           {
            "cells": {
             "fill": {
              "color": "#EBF0F8"
             },
             "line": {
              "color": "white"
             }
            },
            "header": {
             "fill": {
              "color": "#C8D4E3"
             },
             "line": {
              "color": "white"
             }
            },
            "type": "table"
           }
          ]
         },
         "layout": {
          "annotationdefaults": {
           "arrowcolor": "#2a3f5f",
           "arrowhead": 0,
           "arrowwidth": 1
          },
          "colorscale": {
           "diverging": [
            [
             0,
             "#8e0152"
            ],
            [
             0.1,
             "#c51b7d"
            ],
            [
             0.2,
             "#de77ae"
            ],
            [
             0.3,
             "#f1b6da"
            ],
            [
             0.4,
             "#fde0ef"
            ],
            [
             0.5,
             "#f7f7f7"
            ],
            [
             0.6,
             "#e6f5d0"
            ],
            [
             0.7,
             "#b8e186"
            ],
            [
             0.8,
             "#7fbc41"
            ],
            [
             0.9,
             "#4d9221"
            ],
            [
             1,
             "#276419"
            ]
           ],
           "sequential": [
            [
             0,
             "#0d0887"
            ],
            [
             0.1111111111111111,
             "#46039f"
            ],
            [
             0.2222222222222222,
             "#7201a8"
            ],
            [
             0.3333333333333333,
             "#9c179e"
            ],
            [
             0.4444444444444444,
             "#bd3786"
            ],
            [
             0.5555555555555556,
             "#d8576b"
            ],
            [
             0.6666666666666666,
             "#ed7953"
            ],
            [
             0.7777777777777778,
             "#fb9f3a"
            ],
            [
             0.8888888888888888,
             "#fdca26"
            ],
            [
             1,
             "#f0f921"
            ]
           ],
           "sequentialminus": [
            [
             0,
             "#0d0887"
            ],
            [
             0.1111111111111111,
             "#46039f"
            ],
            [
             0.2222222222222222,
             "#7201a8"
            ],
            [
             0.3333333333333333,
             "#9c179e"
            ],
            [
             0.4444444444444444,
             "#bd3786"
            ],
            [
             0.5555555555555556,
             "#d8576b"
            ],
            [
             0.6666666666666666,
             "#ed7953"
            ],
            [
             0.7777777777777778,
             "#fb9f3a"
            ],
            [
             0.8888888888888888,
             "#fdca26"
            ],
            [
             1,
             "#f0f921"
            ]
           ]
          },
          "colorway": [
           "#636efa",
           "#EF553B",
           "#00cc96",
           "#ab63fa",
           "#FFA15A",
           "#19d3f3",
           "#FF6692",
           "#B6E880",
           "#FF97FF",
           "#FECB52"
          ],
          "font": {
           "color": "#2a3f5f"
          },
          "geo": {
           "bgcolor": "white",
           "lakecolor": "white",
           "landcolor": "#E5ECF6",
           "showlakes": true,
           "showland": true,
           "subunitcolor": "white"
          },
          "hoverlabel": {
           "align": "left"
          },
          "hovermode": "closest",
          "mapbox": {
           "style": "light"
          },
          "paper_bgcolor": "white",
          "plot_bgcolor": "#E5ECF6",
          "polar": {
           "angularaxis": {
            "gridcolor": "white",
            "linecolor": "white",
            "ticks": ""
           },
           "bgcolor": "#E5ECF6",
           "radialaxis": {
            "gridcolor": "white",
            "linecolor": "white",
            "ticks": ""
           }
          },
          "scene": {
           "xaxis": {
            "backgroundcolor": "#E5ECF6",
            "gridcolor": "white",
            "gridwidth": 2,
            "linecolor": "white",
            "showbackground": true,
            "ticks": "",
            "zerolinecolor": "white"
           },
           "yaxis": {
            "backgroundcolor": "#E5ECF6",
            "gridcolor": "white",
            "gridwidth": 2,
            "linecolor": "white",
            "showbackground": true,
            "ticks": "",
            "zerolinecolor": "white"
           },
           "zaxis": {
            "backgroundcolor": "#E5ECF6",
            "gridcolor": "white",
            "gridwidth": 2,
            "linecolor": "white",
            "showbackground": true,
            "ticks": "",
            "zerolinecolor": "white"
           }
          },
          "shapedefaults": {
           "line": {
            "color": "#2a3f5f"
           }
          },
          "ternary": {
           "aaxis": {
            "gridcolor": "white",
            "linecolor": "white",
            "ticks": ""
           },
           "baxis": {
            "gridcolor": "white",
            "linecolor": "white",
            "ticks": ""
           },
           "bgcolor": "#E5ECF6",
           "caxis": {
            "gridcolor": "white",
            "linecolor": "white",
            "ticks": ""
           }
          },
          "title": {
           "x": 0.05
          },
          "xaxis": {
           "automargin": true,
           "gridcolor": "white",
           "linecolor": "white",
           "ticks": "",
           "zerolinecolor": "white",
           "zerolinewidth": 2
          },
          "yaxis": {
           "automargin": true,
           "gridcolor": "white",
           "linecolor": "white",
           "ticks": "",
           "zerolinecolor": "white",
           "zerolinewidth": 2
          }
         }
        },
        "title": {
         "text": "Linear regression on synthetic data"
        }
       }
      },
      "text/html": [
       "<div>\n",
       "        \n",
       "        \n",
       "            <div id=\"a83991aa-fd52-4417-8b6f-ae08ebfe77ca\" class=\"plotly-graph-div\" style=\"height:525px; width:100%;\"></div>\n",
       "            <script type=\"text/javascript\">\n",
       "                require([\"plotly\"], function(Plotly) {\n",
       "                    window.PLOTLYENV=window.PLOTLYENV || {};\n",
       "                    \n",
       "                if (document.getElementById(\"a83991aa-fd52-4417-8b6f-ae08ebfe77ca\")) {\n",
       "                    Plotly.newPlot(\n",
       "                        'a83991aa-fd52-4417-8b6f-ae08ebfe77ca',\n",
       "                        [{\"mode\": \"markers\", \"name\": \"Data\", \"type\": \"scatter\", \"x\": [0.0, 0.10101010101010101, 0.20202020202020202, 0.30303030303030304, 0.40404040404040403, 0.5050505050505051, 0.6060606060606061, 0.7070707070707071, 0.8080808080808081, 0.9090909090909091, 1.0101010101010102, 1.1111111111111112, 1.2121212121212122, 1.3131313131313131, 1.4141414141414141, 1.5151515151515151, 1.6161616161616161, 1.7171717171717171, 1.8181818181818181, 1.9191919191919191, 2.0202020202020203, 2.121212121212121, 2.2222222222222223, 2.323232323232323, 2.4242424242424243, 2.525252525252525, 2.6262626262626263, 2.727272727272727, 2.8282828282828283, 2.929292929292929, 3.0303030303030303, 3.131313131313131, 3.2323232323232323, 3.3333333333333335, 3.4343434343434343, 3.5353535353535355, 3.6363636363636362, 3.7373737373737375, 3.8383838383838382, 3.9393939393939394, 4.040404040404041, 4.141414141414141, 4.242424242424242, 4.343434343434343, 4.444444444444445, 4.545454545454545, 4.646464646464646, 4.747474747474747, 4.848484848484849, 4.94949494949495, 5.05050505050505, 5.151515151515151, 5.252525252525253, 5.353535353535354, 5.454545454545454, 5.555555555555555, 5.656565656565657, 5.757575757575758, 5.858585858585858, 5.959595959595959, 6.0606060606060606, 6.161616161616162, 6.262626262626262, 6.363636363636363, 6.4646464646464645, 6.565656565656566, 6.666666666666667, 6.767676767676767, 6.8686868686868685, 6.96969696969697, 7.070707070707071, 7.171717171717171, 7.2727272727272725, 7.373737373737374, 7.474747474747475, 7.575757575757575, 7.6767676767676765, 7.777777777777778, 7.878787878787879, 7.979797979797979, 8.080808080808081, 8.181818181818182, 8.282828282828282, 8.383838383838384, 8.484848484848484, 8.585858585858587, 8.686868686868687, 8.787878787878787, 8.88888888888889, 8.98989898989899, 9.09090909090909, 9.191919191919192, 9.292929292929292, 9.393939393939394, 9.494949494949495, 9.595959595959595, 9.696969696969697, 9.797979797979798, 9.8989898989899, 10.0], \"y\": [-0.12539017074869654, -0.1461529266831243, 0.013614226054457107, -0.14179700215196928, 0.13700098467170407, 0.09170232221385402, 0.0037548954289353623, 0.07318699463474022, -0.02643432048486337, 0.02540451080269502, -0.05291225655010749, -0.09374024301950366, -0.03718045018222975, 0.12129348345914123, -0.04663290756162806, 0.0409206668928876, 0.03202822642859259, -0.012066301615040482, -0.0869281251164693, 0.04314353413546195, -0.0355077030315591, 0.028231988813847676, 0.10478965054586878, -0.030453616289173188, 0.011677798046430064, 0.04002846390083738, 0.00047789185127316506, 0.057012756617815276, 0.053025927245596086, -0.07359918774930464, 0.012289709687844343, -0.09077952070750257, -0.08417841506724376, -0.09146755635377136, 0.005886687248998343, 0.039652225366272366, -0.022853663018615637, -0.08242196024721743, 0.013481235276644583, -0.02255611602733571, -0.0363883299690871, 0.08105698090607343, -0.026306887231704386, 0.06803690272693345, 0.1479839394945305, 0.12905154197280533, 0.17895502760009346, 0.1691782620046765, -0.06682354308331091, 0.07623191615573406, 0.21064183088222008, 0.18529386543178172, 0.1155733821948841, 0.048012647829359364, 0.0286236051421441, 0.16787299918504392, -0.028536829463599533, 0.03928681281939099, 0.30056947271128415, 0.19112880633245316, 0.12078750707700597, 0.1620372724077003, 0.004279738902691899, 0.1822067742126028, 0.17629362973438856, 0.25669125918238667, 0.3301811736530552, 0.2714652788410682, 0.25986554663024575, 0.25914800174670116, 0.43743605217720805, 0.22912860635455623, 0.3499621259386155, 0.3441604449803355, 0.3981065647527507, 0.32589689683501644, 0.468086349270713, 0.28767233427263683, 0.3488562676565692, 0.38607631973522083, 0.40899273908279854, 0.44363328828620396, 0.6163877534352922, 0.626257738939209, 0.5430673511136312, 0.7168873409546186, 0.7047506325397179, 0.7149817736765808, 0.7397718948490235, 0.9033247163599492, 0.8412878363566938, 0.8650883793797643, 0.7588316260553303, 0.7779396304861195, 1.0111008572337246, 0.8770888753547198, 1.0796561808378913, 0.9896888671153208, 1.2414378357730893, 1.0297409963448116]}, {\"mode\": \"lines\", \"name\": \"Regressor Linear of degree 1\", \"text\": \"MSE: 0.030929242500862545\", \"type\": \"scatter\", \"x\": [0.0, 0.10101010101010101, 0.20202020202020202, 0.30303030303030304, 0.40404040404040403, 0.5050505050505051, 0.6060606060606061, 0.7070707070707071, 0.8080808080808081, 0.9090909090909091, 1.0101010101010102, 1.1111111111111112, 1.2121212121212122, 1.3131313131313131, 1.4141414141414141, 1.5151515151515151, 1.6161616161616161, 1.7171717171717171, 1.8181818181818181, 1.9191919191919191, 2.0202020202020203, 2.121212121212121, 2.2222222222222223, 2.323232323232323, 2.4242424242424243, 2.525252525252525, 2.6262626262626263, 2.727272727272727, 2.8282828282828283, 2.929292929292929, 3.0303030303030303, 3.131313131313131, 3.2323232323232323, 3.3333333333333335, 3.4343434343434343, 3.5353535353535355, 3.6363636363636362, 3.7373737373737375, 3.8383838383838382, 3.9393939393939394, 4.040404040404041, 4.141414141414141, 4.242424242424242, 4.343434343434343, 4.444444444444445, 4.545454545454545, 4.646464646464646, 4.747474747474747, 4.848484848484849, 4.94949494949495, 5.05050505050505, 5.151515151515151, 5.252525252525253, 5.353535353535354, 5.454545454545454, 5.555555555555555, 5.656565656565657, 5.757575757575758, 5.858585858585858, 5.959595959595959, 6.0606060606060606, 6.161616161616162, 6.262626262626262, 6.363636363636363, 6.4646464646464645, 6.565656565656566, 6.666666666666667, 6.767676767676767, 6.8686868686868685, 6.96969696969697, 7.070707070707071, 7.171717171717171, 7.2727272727272725, 7.373737373737374, 7.474747474747475, 7.575757575757575, 7.6767676767676765, 7.777777777777778, 7.878787878787879, 7.979797979797979, 8.080808080808081, 8.181818181818182, 8.282828282828282, 8.383838383838384, 8.484848484848484, 8.585858585858587, 8.686868686868687, 8.787878787878787, 8.88888888888889, 8.98989898989899, 9.09090909090909, 9.191919191919192, 9.292929292929292, 9.393939393939394, 9.494949494949495, 9.595959595959595, 9.696969696969697, 9.797979797979798, 9.8989898989899, 10.0], \"y\": [-0.2505931017321841, -0.24032004617556532, -0.23004699061894654, -0.21977393506232779, -0.209500879505709, -0.19922782394909022, -0.18895476839247147, -0.1786817128358527, -0.16840865727923393, -0.15813560172261518, -0.1478625461659964, -0.13758949060937764, -0.12731643505275886, -0.1170433794961401, -0.10677032393952132, -0.09649726838290257, -0.08622421282628381, -0.07595115726966503, -0.06567810171304628, -0.055405046156427495, -0.04513199059980871, -0.03485893504318996, -0.024585879486571177, -0.01431282392995245, -0.004039768373333641, 0.006233287183285086, 0.016506342739903868, 0.02677939829652265, 0.03705245385314143, 0.04732550940976016, 0.05759856496637894, 0.06787162052299767, 0.07814467607961645, 0.08841773163623529, 0.09869078719285401, 0.1089638427494728, 0.11923689830609152, 0.1295099538627103, 0.13978300941932909, 0.15005606497594787, 0.16032912053256665, 0.17060217608918532, 0.18087523164580416, 0.19114828720242294, 0.20142134275904172, 0.2116943983156604, 0.22196745387227917, 0.232240509428898, 0.2425135649855168, 0.2527866205421355, 0.26305967609875425, 0.2733327316553731, 0.2836057872119918, 0.29387884276861065, 0.3041518983252294, 0.3144249538818481, 0.32469800943846694, 0.33497106499508567, 0.3452441205517044, 0.35551717610832323, 0.36579023166494196, 0.3760632872215608, 0.3863363427781794, 0.39660939833479825, 0.406882453891417, 0.4171555094480358, 0.42742856500465465, 0.43770162056127326, 0.4479746761178921, 0.4582477316745108, 0.46852078723112967, 0.4787938427877484, 0.4890668983443671, 0.49933995390098596, 0.5096130094576047, 0.5198860650142234, 0.5301591205708422, 0.540432176127461, 0.5507052316840798, 0.5609782872406985, 0.5712513427973174, 0.5815243983539361, 0.5917974539105547, 0.6020705094671737, 0.6123435650237924, 0.6226166205804112, 0.63288967613703, 0.6431627316936486, 0.6534357872502675, 0.6637088428068862, 0.6739818983635049, 0.6842549539201238, 0.6945280094767424, 0.7048010650333614, 0.7150741205899801, 0.7253471761465987, 0.7356202317032177, 0.7458932872598363, 0.7561663428164551, 0.766439398373074]}, {\"mode\": \"lines\", \"name\": \"Regressor Linear of degree 2\", \"text\": \"MSE: 0.008837006183372182\", \"type\": \"scatter\", \"x\": [0.0, 0.10101010101010101, 0.20202020202020202, 0.30303030303030304, 0.40404040404040403, 0.5050505050505051, 0.6060606060606061, 0.7070707070707071, 0.8080808080808081, 0.9090909090909091, 1.0101010101010102, 1.1111111111111112, 1.2121212121212122, 1.3131313131313131, 1.4141414141414141, 1.5151515151515151, 1.6161616161616161, 1.7171717171717171, 1.8181818181818181, 1.9191919191919191, 2.0202020202020203, 2.121212121212121, 2.2222222222222223, 2.323232323232323, 2.4242424242424243, 2.525252525252525, 2.6262626262626263, 2.727272727272727, 2.8282828282828283, 2.929292929292929, 3.0303030303030303, 3.131313131313131, 3.2323232323232323, 3.3333333333333335, 3.4343434343434343, 3.5353535353535355, 3.6363636363636362, 3.7373737373737375, 3.8383838383838382, 3.9393939393939394, 4.040404040404041, 4.141414141414141, 4.242424242424242, 4.343434343434343, 4.444444444444445, 4.545454545454545, 4.646464646464646, 4.747474747474747, 4.848484848484849, 4.94949494949495, 5.05050505050505, 5.151515151515151, 5.252525252525253, 5.353535353535354, 5.454545454545454, 5.555555555555555, 5.656565656565657, 5.757575757575758, 5.858585858585858, 5.959595959595959, 6.0606060606060606, 6.161616161616162, 6.262626262626262, 6.363636363636363, 6.4646464646464645, 6.565656565656566, 6.666666666666667, 6.767676767676767, 6.8686868686868685, 6.96969696969697, 7.070707070707071, 7.171717171717171, 7.2727272727272725, 7.373737373737374, 7.474747474747475, 7.575757575757575, 7.6767676767676765, 7.777777777777778, 7.878787878787879, 7.979797979797979, 8.080808080808081, 8.181818181818182, 8.282828282828282, 8.383838383838384, 8.484848484848484, 8.585858585858587, 8.686868686868687, 8.787878787878787, 8.88888888888889, 8.98989898989899, 9.09090909090909, 9.191919191919192, 9.292929292929292, 9.393939393939394, 9.494949494949495, 9.595959595959595, 9.696969696969697, 9.797979797979798, 9.8989898989899, 10.0], \"y\": [0.04342791126308043, 0.03556839399165675, 0.028072061459514283, 0.020938913666653024, 0.014168950613072981, 0.0077621722987741455, 0.0017185787237565201, -0.003961830111979887, -0.009279054208435082, -0.014233093565609072, -0.018823948183501846, -0.02305161806211341, -0.026916103201443768, -0.030417403601492896, -0.03355551926226083, -0.03633045018374755, -0.038742196365953045, -0.04079075780887736, -0.04247613451252043, -0.04379832647688228, -0.04475733370196294, -0.045353156187762395, -0.045585793934280625, -0.04545524694151766, -0.044961515209473474, -0.04410459873814805, -0.042884497527541435, -0.041301211577653624, -0.03935474088848459, -0.03704508546003435, -0.0343722452923029, -0.031336220385290214, -0.02793701073899632, -0.02417461635342122, -0.020049037228564964, -0.015560273364427446, -0.010708324761008692, -0.005493191418308729, 8.512666367244126e-05, 0.006026629484934765, 0.012331317045478407, 0.01899918934530309, 0.02603024638440915, 0.03342448816279636, 0.04118191468046484, 0.049302525937414354, 0.057786321933645246, 0.06663330266915729, 0.0758434681439506, 0.08541681835802512, 0.09535335331138078, 0.10565307300401772, 0.11631597743593586, 0.1273420666071352, 0.13873134051761565, 0.15048379916737747, 0.1625994425564204, 0.17507827068474463, 0.1879202835523499, 0.20112548115923645, 0.21469386350540431, 0.22862543059085338, 0.24292018241558355, 0.25757811897959515, 0.27259924028288773, 0.28798354632546164, 0.30373103710731675, 0.31984171262845285, 0.3363155728888704, 0.3531526178885692, 0.37035284762754905, 0.3879162621058102, 0.40584286132335257, 0.42413264528017613, 0.442785613976281, 0.4618017674116669, 0.4811811055863342, 0.5009236285002826, 0.5210293361535121, 0.5414982285460229, 0.5623303056778153, 0.5835255675488883, 0.6050840141592425, 0.6270056455088785, 0.6492904615977954, 0.6719384624259935, 0.6949496479934728, 0.7183240183002332, 0.7420615733462753, 0.7661623131315981, 0.7906262376562019, 0.8154533469200876, 0.840643640923254, 0.866197119665702, 0.8921137831474308, 0.9183936313684411, 0.9450366643287327, 0.9720428820283054, 0.9994122844671594, 1.0271448716452942]}, {\"mode\": \"lines\", \"name\": \"Regressor Linear of degree 4\", \"text\": \"MSE: 0.006711146058937321\", \"type\": \"scatter\", \"x\": [0.0, 0.10101010101010101, 0.20202020202020202, 0.30303030303030304, 0.40404040404040403, 0.5050505050505051, 0.6060606060606061, 0.7070707070707071, 0.8080808080808081, 0.9090909090909091, 1.0101010101010102, 1.1111111111111112, 1.2121212121212122, 1.3131313131313131, 1.4141414141414141, 1.5151515151515151, 1.6161616161616161, 1.7171717171717171, 1.8181818181818181, 1.9191919191919191, 2.0202020202020203, 2.121212121212121, 2.2222222222222223, 2.323232323232323, 2.4242424242424243, 2.525252525252525, 2.6262626262626263, 2.727272727272727, 2.8282828282828283, 2.929292929292929, 3.0303030303030303, 3.131313131313131, 3.2323232323232323, 3.3333333333333335, 3.4343434343434343, 3.5353535353535355, 3.6363636363636362, 3.7373737373737375, 3.8383838383838382, 3.9393939393939394, 4.040404040404041, 4.141414141414141, 4.242424242424242, 4.343434343434343, 4.444444444444445, 4.545454545454545, 4.646464646464646, 4.747474747474747, 4.848484848484849, 4.94949494949495, 5.05050505050505, 5.151515151515151, 5.252525252525253, 5.353535353535354, 5.454545454545454, 5.555555555555555, 5.656565656565657, 5.757575757575758, 5.858585858585858, 5.959595959595959, 6.0606060606060606, 6.161616161616162, 6.262626262626262, 6.363636363636363, 6.4646464646464645, 6.565656565656566, 6.666666666666667, 6.767676767676767, 6.8686868686868685, 6.96969696969697, 7.070707070707071, 7.171717171717171, 7.2727272727272725, 7.373737373737374, 7.474747474747475, 7.575757575757575, 7.6767676767676765, 7.777777777777778, 7.878787878787879, 7.979797979797979, 8.080808080808081, 8.181818181818182, 8.282828282828282, 8.383838383838384, 8.484848484848484, 8.585858585858587, 8.686868686868687, 8.787878787878787, 8.88888888888889, 8.98989898989899, 9.09090909090909, 9.191919191919192, 9.292929292929292, 9.393939393939394, 9.494949494949495, 9.595959595959595, 9.696969696969697, 9.797979797979798, 9.8989898989899, 10.0], \"y\": [-0.019884924035778795, -0.019178335240495357, -0.01853282859607581, -0.017941659354825876, -0.017398001908336697, -0.016894949787484806, -0.016425515662432142, -0.015982631342626046, -0.015559147776799256, -0.015147835052969913, -0.014741382398441567, -0.014332398179803167, -0.013913409902929053, -0.01347686421297898, -0.013015126894398094, -0.012520482870916953, -0.011985136205551515, -0.011401210100603121, -0.010760746897658546, -0.010055708077589945, -0.009277974260554869, -0.008419345205996295, -0.007471539812642579, -0.006426196118507494, -0.005274871300890197, -0.004009041676375271, -0.0026201027008326714, -0.0010993689694177922, 0.0005619257834286145, 0.0023726286839803523, 0.004341667719225867, 0.00647805173686815, 0.008790870445324842, 0.01128929441372816, 0.013982575071924892, 0.016880044710476487, 0.019991116480658933, 0.023325284394462863, 0.026892123324593464, 0.030701289004470562, 0.034762518028228544, 0.039085627850716405, 0.043680516787497785, 0.04855716401485085, 0.05372562956976844, 0.059196054349957866, 0.06497866011384122, 0.07108374948055508, 0.0775217059299506, 0.0843029938025936, 0.09143815829976437, 0.09893782548345806, 0.10681270227638419, 0.11507357646196692, 0.12373131668434495, 0.13279687244837188, 0.1422812741196155, 0.15219563292435845, 0.16255114094959788, 0.17335907114304563, 0.18463077731312807, 0.1963776941289861, 0.20861133712047522, 0.22134330267816582, 0.2345852680533425, 0.24834899135800467, 0.2626463115648664, 0.27748914850735584, 0.2928895028796167, 0.30885945623650646, 0.3254111709935975, 0.34255689042717663, 0.3603089386742456, 0.37867972073252065, 0.3976817224604323, 0.4173275105771259, 0.4376297326624616, 0.45860111715701374, 0.4802544733620717, 0.5026026914396389, 0.525658742412434, 0.5494356781638896, 0.5739466314381533, 0.5992048158400878, 0.6252235258352689, 0.6520161367499888, 0.6795961047712528, 0.7079769669467815, 0.7371723411850108, 0.7671959262550891, 0.7980615017868817, 0.8297829282709678, 0.8623741470586395, 0.8958491803619066, 0.9302221312534905, 0.9655071836668289, 1.0017186023960745, 1.0388707330960925, 1.0769780022824653, 1.1160549173314873]}, {\"mode\": \"lines\", \"name\": \"Regressor Linear of degree 5\", \"text\": \"MSE: 0.006710470734354753\", \"type\": \"scatter\", \"x\": [0.0, 0.10101010101010101, 0.20202020202020202, 0.30303030303030304, 0.40404040404040403, 0.5050505050505051, 0.6060606060606061, 0.7070707070707071, 0.8080808080808081, 0.9090909090909091, 1.0101010101010102, 1.1111111111111112, 1.2121212121212122, 1.3131313131313131, 1.4141414141414141, 1.5151515151515151, 1.6161616161616161, 1.7171717171717171, 1.8181818181818181, 1.9191919191919191, 2.0202020202020203, 2.121212121212121, 2.2222222222222223, 2.323232323232323, 2.4242424242424243, 2.525252525252525, 2.6262626262626263, 2.727272727272727, 2.8282828282828283, 2.929292929292929, 3.0303030303030303, 3.131313131313131, 3.2323232323232323, 3.3333333333333335, 3.4343434343434343, 3.5353535353535355, 3.6363636363636362, 3.7373737373737375, 3.8383838383838382, 3.9393939393939394, 4.040404040404041, 4.141414141414141, 4.242424242424242, 4.343434343434343, 4.444444444444445, 4.545454545454545, 4.646464646464646, 4.747474747474747, 4.848484848484849, 4.94949494949495, 5.05050505050505, 5.151515151515151, 5.252525252525253, 5.353535353535354, 5.454545454545454, 5.555555555555555, 5.656565656565657, 5.757575757575758, 5.858585858585858, 5.959595959595959, 6.0606060606060606, 6.161616161616162, 6.262626262626262, 6.363636363636363, 6.4646464646464645, 6.565656565656566, 6.666666666666667, 6.767676767676767, 6.8686868686868685, 6.96969696969697, 7.070707070707071, 7.171717171717171, 7.2727272727272725, 7.373737373737374, 7.474747474747475, 7.575757575757575, 7.6767676767676765, 7.777777777777778, 7.878787878787879, 7.979797979797979, 8.080808080808081, 8.181818181818182, 8.282828282828282, 8.383838383838384, 8.484848484848484, 8.585858585858587, 8.686868686868687, 8.787878787878787, 8.88888888888889, 8.98989898989899, 9.09090909090909, 9.191919191919192, 9.292929292929292, 9.393939393939394, 9.494949494949495, 9.595959595959595, 9.696969696969697, 9.797979797979798, 9.8989898989899, 10.0], \"y\": [-0.021429142121860423, -0.020263439684696224, -0.019225765127330235, -0.018303753372785104, -0.017485224523916362, -0.016758178234520162, -0.016110788080441023, -0.015531395930679584, -0.01500850631850029, -0.0145307808125392, -0.014087032387911652, -0.013666219797320049, -0.013257441942161583, -0.012849932243635967, -0.012433053013853165, -0.011996289826941156, -0.01152924589015364, -0.011021636414977805, -0.010463282988242034, -0.009844107943223658, -0.00915412873075669, -0.00838345229033957, -0.007522269421242889, -0.006560849153617143, -0.005489533119600441, -0.0042987299244262745, -0.0029789095175312332, -0.0015205975636627522, 8.563018601314624e-05, 0.0018491535228041336, 0.003779313409383843, 0.005885417608684064, 0.008176746312787163, 0.010662557771818083, 0.01335209392283692, 0.01625458601873093, 0.019379260257106953, 0.022735343409183567, 0.026332068448683476, 0.030178680180725653, 0.03428444087071753, 0.038658635873247575, 0.04331057926097731, 0.04824961945353354, 0.05348514484640076, 0.05902658943981325, 0.06488343846764763, 0.07106523402631484, 0.07758158070365251, 0.08444215120781715, 0.09165669199617647, 0.09923502890420197, 0.10718707277436026, 0.1155228250850066, 0.124252383579276, 0.1333859478939764, 0.14293382518848008, 0.15290643577361684, 0.16331431874056543, 0.1741681375897465, 0.18547868585971403, 0.19725689275604863, 0.20951382878024885, 0.22226071135862446, 0.23550891047118738, 0.24926995428054494, 0.2635555347607924, 0.27837751332640387, 0.29374792646112585, 0.30967899134686905, 0.3261831114926007, 0.3432728823632362, 0.3609610970085331, 0.3792607516919809, 0.39818505151969524, 0.4177474160693098, 0.4379614850188677, 0.45884112377571495, 0.48040042910539177, 0.5026537347605246, 0.5256156171097208, 0.5493009007664571, 0.5737246642179751, 0.5989022454541723, 0.6248492475964929, 0.6515815445268234, 0.6791152865163813, 0.7074669058546104, 0.7366531224780718, 0.7666909495993337, 0.7975976993358689, 0.8293909883389433, 0.862088743422508, 0.895709207192094, 0.9302709436737017, 0.9657928439426959, 1.0022941317526963, 1.039794369164469, 1.078313462174822, 1.1178716663454935]}, {\"mode\": \"lines\", \"name\": \"Regressor Linear of degree 9\", \"text\": \"MSE: 0.007178820204123342\", \"type\": \"scatter\", \"x\": [0.0, 0.10101010101010101, 0.20202020202020202, 0.30303030303030304, 0.40404040404040403, 0.5050505050505051, 0.6060606060606061, 0.7070707070707071, 0.8080808080808081, 0.9090909090909091, 1.0101010101010102, 1.1111111111111112, 1.2121212121212122, 1.3131313131313131, 1.4141414141414141, 1.5151515151515151, 1.6161616161616161, 1.7171717171717171, 1.8181818181818181, 1.9191919191919191, 2.0202020202020203, 2.121212121212121, 2.2222222222222223, 2.323232323232323, 2.4242424242424243, 2.525252525252525, 2.6262626262626263, 2.727272727272727, 2.8282828282828283, 2.929292929292929, 3.0303030303030303, 3.131313131313131, 3.2323232323232323, 3.3333333333333335, 3.4343434343434343, 3.5353535353535355, 3.6363636363636362, 3.7373737373737375, 3.8383838383838382, 3.9393939393939394, 4.040404040404041, 4.141414141414141, 4.242424242424242, 4.343434343434343, 4.444444444444445, 4.545454545454545, 4.646464646464646, 4.747474747474747, 4.848484848484849, 4.94949494949495, 5.05050505050505, 5.151515151515151, 5.252525252525253, 5.353535353535354, 5.454545454545454, 5.555555555555555, 5.656565656565657, 5.757575757575758, 5.858585858585858, 5.959595959595959, 6.0606060606060606, 6.161616161616162, 6.262626262626262, 6.363636363636363, 6.4646464646464645, 6.565656565656566, 6.666666666666667, 6.767676767676767, 6.8686868686868685, 6.96969696969697, 7.070707070707071, 7.171717171717171, 7.2727272727272725, 7.373737373737374, 7.474747474747475, 7.575757575757575, 7.6767676767676765, 7.777777777777778, 7.878787878787879, 7.979797979797979, 8.080808080808081, 8.181818181818182, 8.282828282828282, 8.383838383838384, 8.484848484848484, 8.585858585858587, 8.686868686868687, 8.787878787878787, 8.88888888888889, 8.98989898989899, 9.09090909090909, 9.191919191919192, 9.292929292929292, 9.393939393939394, 9.494949494949495, 9.595959595959595, 9.696969696969697, 9.797979797979798, 9.8989898989899, 10.0], \"y\": [-0.11674124906130601, -0.0428226125423833, 0.005238816598089957, 0.03333289136782386, 0.04636596987079115, 0.04838512224954461, 0.04269067071375761, 0.03193783662121115, 0.018228236095185885, 0.0031919338304454074, -0.011939266441278122, -0.026266646886184443, -0.03916689784386004, -0.05024134861327581, -0.05927154649862195, -0.06618065179308853, -0.07100014365704628, -0.07384135847489966, -0.07487140825224319, -0.07429305194179894, -0.07232811726298555, -0.06920409460581764, -0.06514354798521643, -0.060356010736763534, -0.05503205571915758, -0.04933925121277137, -0.043419734476916653, -0.03738915505141566, -0.03133675936053846, -0.025326406999268546, -0.019398327253263445, -0.013571441924892312, -0.007846097408253802, -0.002207065175692885, 0.003373314591512369, 0.008931956577467426, 0.014511917191007834, 0.020159427172271704, 0.025921139441540064, 0.031841649367858604, 0.037961332968614314, 0.04431453753544956, 0.050928148816140495, 0.05782054916655677, 0.06500097202363375, 0.07246924963431867, 0.08021594321386383, 0.08822283759191007, 0.09646377594334377, 0.10490580438963182, 0.11351059109084494, 0.1222360799445319, 0.13103833513774177, 0.13987352959863308, 0.1487000278233026, 0.15748051165706833, 0.16618409633656128, 0.1747883835042625, 0.1832813979402239, 0.1916633554519347, 0.19994821070739732, 0.2081649357877815, 0.21635848288496007, 0.22459038785246221, 0.23293897528692042, 0.241499130381726, 0.2503816080660073, 0.25971185583120615, 0.2696283331881162, 0.2802803179007469, 0.2918251969996106, 0.30442524905326707, 0.31824393335266166, 0.3334417114463122, 0.3501714369121487, 0.3685733603679182, 0.3887698084614044, 0.4108596079795461, 0.43491233928261863, 0.46096251696292256, 0.4890038099739229, 0.5189834284959716, 0.5507968204431677, 0.5842828368353707, 0.6192195421976407, 0.6553208637618582, 0.6922342915279955, 0.7295398600786598, 0.7667506626963814, 0.8033151684333006, 0.8386216337595442, 0.8720049217855603, 0.9027560643501147, 0.9301349250024487, 0.9533863443200516, 0.9717601732672847, 0.9845356248918051, 0.9910504001693425, 0.9907350698272239, 0.983153220728127]}],\n",
       "                        {\"template\": {\"data\": {\"bar\": [{\"error_x\": {\"color\": \"#2a3f5f\"}, \"error_y\": {\"color\": \"#2a3f5f\"}, \"marker\": {\"line\": {\"color\": \"#E5ECF6\", \"width\": 0.5}}, \"type\": \"bar\"}], \"barpolar\": [{\"marker\": {\"line\": {\"color\": \"#E5ECF6\", \"width\": 0.5}}, \"type\": \"barpolar\"}], \"carpet\": [{\"aaxis\": {\"endlinecolor\": \"#2a3f5f\", \"gridcolor\": \"white\", \"linecolor\": \"white\", \"minorgridcolor\": \"white\", \"startlinecolor\": \"#2a3f5f\"}, \"baxis\": {\"endlinecolor\": \"#2a3f5f\", \"gridcolor\": \"white\", \"linecolor\": \"white\", \"minorgridcolor\": \"white\", \"startlinecolor\": \"#2a3f5f\"}, \"type\": \"carpet\"}], \"choropleth\": [{\"colorbar\": {\"outlinewidth\": 0, \"ticks\": \"\"}, \"type\": \"choropleth\"}], \"contour\": [{\"colorbar\": {\"outlinewidth\": 0, \"ticks\": \"\"}, \"colorscale\": [[0.0, \"#0d0887\"], [0.1111111111111111, \"#46039f\"], [0.2222222222222222, \"#7201a8\"], [0.3333333333333333, \"#9c179e\"], [0.4444444444444444, \"#bd3786\"], [0.5555555555555556, \"#d8576b\"], [0.6666666666666666, \"#ed7953\"], [0.7777777777777778, \"#fb9f3a\"], [0.8888888888888888, \"#fdca26\"], [1.0, \"#f0f921\"]], \"type\": \"contour\"}], \"contourcarpet\": [{\"colorbar\": {\"outlinewidth\": 0, \"ticks\": \"\"}, \"type\": \"contourcarpet\"}], \"heatmap\": [{\"colorbar\": {\"outlinewidth\": 0, \"ticks\": \"\"}, \"colorscale\": [[0.0, \"#0d0887\"], [0.1111111111111111, \"#46039f\"], [0.2222222222222222, \"#7201a8\"], [0.3333333333333333, \"#9c179e\"], [0.4444444444444444, \"#bd3786\"], [0.5555555555555556, \"#d8576b\"], [0.6666666666666666, \"#ed7953\"], [0.7777777777777778, \"#fb9f3a\"], [0.8888888888888888, \"#fdca26\"], [1.0, \"#f0f921\"]], \"type\": \"heatmap\"}], \"heatmapgl\": [{\"colorbar\": {\"outlinewidth\": 0, \"ticks\": \"\"}, \"colorscale\": [[0.0, \"#0d0887\"], [0.1111111111111111, \"#46039f\"], [0.2222222222222222, \"#7201a8\"], [0.3333333333333333, \"#9c179e\"], [0.4444444444444444, \"#bd3786\"], [0.5555555555555556, \"#d8576b\"], [0.6666666666666666, \"#ed7953\"], [0.7777777777777778, \"#fb9f3a\"], [0.8888888888888888, \"#fdca26\"], [1.0, \"#f0f921\"]], \"type\": \"heatmapgl\"}], \"histogram\": [{\"marker\": {\"colorbar\": {\"outlinewidth\": 0, \"ticks\": \"\"}}, \"type\": \"histogram\"}], \"histogram2d\": [{\"colorbar\": {\"outlinewidth\": 0, \"ticks\": \"\"}, \"colorscale\": [[0.0, \"#0d0887\"], [0.1111111111111111, \"#46039f\"], [0.2222222222222222, \"#7201a8\"], [0.3333333333333333, \"#9c179e\"], [0.4444444444444444, \"#bd3786\"], [0.5555555555555556, \"#d8576b\"], [0.6666666666666666, \"#ed7953\"], [0.7777777777777778, \"#fb9f3a\"], [0.8888888888888888, \"#fdca26\"], [1.0, \"#f0f921\"]], \"type\": \"histogram2d\"}], \"histogram2dcontour\": [{\"colorbar\": {\"outlinewidth\": 0, \"ticks\": \"\"}, \"colorscale\": [[0.0, \"#0d0887\"], [0.1111111111111111, \"#46039f\"], [0.2222222222222222, \"#7201a8\"], [0.3333333333333333, \"#9c179e\"], [0.4444444444444444, \"#bd3786\"], [0.5555555555555556, \"#d8576b\"], [0.6666666666666666, \"#ed7953\"], [0.7777777777777778, \"#fb9f3a\"], [0.8888888888888888, \"#fdca26\"], [1.0, \"#f0f921\"]], \"type\": \"histogram2dcontour\"}], \"mesh3d\": [{\"colorbar\": {\"outlinewidth\": 0, \"ticks\": \"\"}, \"type\": \"mesh3d\"}], \"parcoords\": [{\"line\": {\"colorbar\": {\"outlinewidth\": 0, \"ticks\": \"\"}}, \"type\": \"parcoords\"}], \"scatter\": [{\"marker\": {\"colorbar\": {\"outlinewidth\": 0, \"ticks\": \"\"}}, \"type\": \"scatter\"}], \"scatter3d\": [{\"line\": {\"colorbar\": {\"outlinewidth\": 0, \"ticks\": \"\"}}, \"marker\": {\"colorbar\": {\"outlinewidth\": 0, \"ticks\": \"\"}}, \"type\": \"scatter3d\"}], \"scattercarpet\": [{\"marker\": {\"colorbar\": {\"outlinewidth\": 0, \"ticks\": \"\"}}, \"type\": \"scattercarpet\"}], \"scattergeo\": [{\"marker\": {\"colorbar\": {\"outlinewidth\": 0, \"ticks\": \"\"}}, \"type\": \"scattergeo\"}], \"scattergl\": [{\"marker\": {\"colorbar\": {\"outlinewidth\": 0, \"ticks\": \"\"}}, \"type\": \"scattergl\"}], \"scattermapbox\": [{\"marker\": {\"colorbar\": {\"outlinewidth\": 0, \"ticks\": \"\"}}, \"type\": \"scattermapbox\"}], \"scatterpolar\": [{\"marker\": {\"colorbar\": {\"outlinewidth\": 0, \"ticks\": \"\"}}, \"type\": \"scatterpolar\"}], \"scatterpolargl\": [{\"marker\": {\"colorbar\": {\"outlinewidth\": 0, \"ticks\": \"\"}}, \"type\": \"scatterpolargl\"}], \"scatterternary\": [{\"marker\": {\"colorbar\": {\"outlinewidth\": 0, \"ticks\": \"\"}}, \"type\": \"scatterternary\"}], \"surface\": [{\"colorbar\": {\"outlinewidth\": 0, \"ticks\": \"\"}, \"colorscale\": [[0.0, \"#0d0887\"], [0.1111111111111111, \"#46039f\"], [0.2222222222222222, \"#7201a8\"], [0.3333333333333333, \"#9c179e\"], [0.4444444444444444, \"#bd3786\"], [0.5555555555555556, \"#d8576b\"], [0.6666666666666666, \"#ed7953\"], [0.7777777777777778, \"#fb9f3a\"], [0.8888888888888888, \"#fdca26\"], [1.0, \"#f0f921\"]], \"type\": \"surface\"}], \"table\": [{\"cells\": {\"fill\": {\"color\": \"#EBF0F8\"}, \"line\": {\"color\": \"white\"}}, \"header\": {\"fill\": {\"color\": \"#C8D4E3\"}, \"line\": {\"color\": \"white\"}}, \"type\": \"table\"}]}, \"layout\": {\"annotationdefaults\": {\"arrowcolor\": \"#2a3f5f\", \"arrowhead\": 0, \"arrowwidth\": 1}, \"colorscale\": {\"diverging\": [[0, \"#8e0152\"], [0.1, \"#c51b7d\"], [0.2, \"#de77ae\"], [0.3, \"#f1b6da\"], [0.4, \"#fde0ef\"], [0.5, \"#f7f7f7\"], [0.6, \"#e6f5d0\"], [0.7, \"#b8e186\"], [0.8, \"#7fbc41\"], [0.9, \"#4d9221\"], [1, \"#276419\"]], \"sequential\": [[0.0, \"#0d0887\"], [0.1111111111111111, \"#46039f\"], [0.2222222222222222, \"#7201a8\"], [0.3333333333333333, \"#9c179e\"], [0.4444444444444444, \"#bd3786\"], [0.5555555555555556, \"#d8576b\"], [0.6666666666666666, \"#ed7953\"], [0.7777777777777778, \"#fb9f3a\"], [0.8888888888888888, \"#fdca26\"], [1.0, \"#f0f921\"]], \"sequentialminus\": [[0.0, \"#0d0887\"], [0.1111111111111111, \"#46039f\"], [0.2222222222222222, \"#7201a8\"], [0.3333333333333333, \"#9c179e\"], [0.4444444444444444, \"#bd3786\"], [0.5555555555555556, \"#d8576b\"], [0.6666666666666666, \"#ed7953\"], [0.7777777777777778, \"#fb9f3a\"], [0.8888888888888888, \"#fdca26\"], [1.0, \"#f0f921\"]]}, \"colorway\": [\"#636efa\", \"#EF553B\", \"#00cc96\", \"#ab63fa\", \"#FFA15A\", \"#19d3f3\", \"#FF6692\", \"#B6E880\", \"#FF97FF\", \"#FECB52\"], \"font\": {\"color\": \"#2a3f5f\"}, \"geo\": {\"bgcolor\": \"white\", \"lakecolor\": \"white\", \"landcolor\": \"#E5ECF6\", \"showlakes\": true, \"showland\": true, \"subunitcolor\": \"white\"}, \"hoverlabel\": {\"align\": \"left\"}, \"hovermode\": \"closest\", \"mapbox\": {\"style\": \"light\"}, \"paper_bgcolor\": \"white\", \"plot_bgcolor\": \"#E5ECF6\", \"polar\": {\"angularaxis\": {\"gridcolor\": \"white\", \"linecolor\": \"white\", \"ticks\": \"\"}, \"bgcolor\": \"#E5ECF6\", \"radialaxis\": {\"gridcolor\": \"white\", \"linecolor\": \"white\", \"ticks\": \"\"}}, \"scene\": {\"xaxis\": {\"backgroundcolor\": \"#E5ECF6\", \"gridcolor\": \"white\", \"gridwidth\": 2, \"linecolor\": \"white\", \"showbackground\": true, \"ticks\": \"\", \"zerolinecolor\": \"white\"}, \"yaxis\": {\"backgroundcolor\": \"#E5ECF6\", \"gridcolor\": \"white\", \"gridwidth\": 2, \"linecolor\": \"white\", \"showbackground\": true, \"ticks\": \"\", \"zerolinecolor\": \"white\"}, \"zaxis\": {\"backgroundcolor\": \"#E5ECF6\", \"gridcolor\": \"white\", \"gridwidth\": 2, \"linecolor\": \"white\", \"showbackground\": true, \"ticks\": \"\", \"zerolinecolor\": \"white\"}}, \"shapedefaults\": {\"line\": {\"color\": \"#2a3f5f\"}}, \"ternary\": {\"aaxis\": {\"gridcolor\": \"white\", \"linecolor\": \"white\", \"ticks\": \"\"}, \"baxis\": {\"gridcolor\": \"white\", \"linecolor\": \"white\", \"ticks\": \"\"}, \"bgcolor\": \"#E5ECF6\", \"caxis\": {\"gridcolor\": \"white\", \"linecolor\": \"white\", \"ticks\": \"\"}}, \"title\": {\"x\": 0.05}, \"xaxis\": {\"automargin\": true, \"gridcolor\": \"white\", \"linecolor\": \"white\", \"ticks\": \"\", \"zerolinecolor\": \"white\", \"zerolinewidth\": 2}, \"yaxis\": {\"automargin\": true, \"gridcolor\": \"white\", \"linecolor\": \"white\", \"ticks\": \"\", \"zerolinecolor\": \"white\", \"zerolinewidth\": 2}}}, \"title\": {\"text\": \"Linear regression on synthetic data\"}},\n",
       "                        {\"responsive\": true}\n",
       "                    ).then(function(){\n",
       "                            \n",
       "var gd = document.getElementById('a83991aa-fd52-4417-8b6f-ae08ebfe77ca');\n",
       "var x = new MutationObserver(function (mutations, observer) {{\n",
       "        var display = window.getComputedStyle(gd).display;\n",
       "        if (!display || display === 'none') {{\n",
       "            console.log([gd, 'removed!']);\n",
       "            Plotly.purge(gd);\n",
       "            observer.disconnect();\n",
       "        }}\n",
       "}});\n",
       "\n",
       "// Listen for the removal of the full notebook cells\n",
       "var notebookContainer = gd.closest('#notebook-container');\n",
       "if (notebookContainer) {{\n",
       "    x.observe(notebookContainer, {childList: true});\n",
       "}}\n",
       "\n",
       "// Listen for the clearing of the current output cell\n",
       "var outputEl = gd.closest('.output');\n",
       "if (outputEl) {{\n",
       "    x.observe(outputEl, {childList: true});\n",
       "}}\n",
       "\n",
       "                        })\n",
       "                };\n",
       "                });\n",
       "            </script>\n",
       "        </div>"
      ]
     },
     "metadata": {},
     "output_type": "display_data"
    }
   ],
   "source": [
    "def reg_plotly_plot(x,y,predictions,names):\n",
    "    trace0 = go.Scatter(\n",
    "        x = x,\n",
    "        y = y,\n",
    "        mode = 'markers',\n",
    "        name = 'Data'\n",
    "    )\n",
    "    reg_traces = []\n",
    "    for i,prediction in enumerate(predictions): ##lastone excluded because of visualization\n",
    "        reg_traces.append(go.Scatter(\n",
    "                                x = x,\n",
    "                                y = prediction,\n",
    "                                mode = 'lines',\n",
    "                                name = f'Regressor {names[i]}',\n",
    "                                text = f\"MSE: {mse(prediction,y)}\"\n",
    "                                )\n",
    "                         )\n",
    "\n",
    "    layout = go.Layout(\n",
    "        title = \"Linear regression on synthetic data\",\n",
    "    )\n",
    "\n",
    "    data = [trace0] + reg_traces\n",
    "    return go.Figure(data=data, layout=layout)\n",
    "\n",
    "iplot(reg_plotly_plot(x,y,predictions[:-1],[\"Linear of degree \"+str(d) for d in np.array(degrees[:-1])-1]))"
   ]
  },
  {
   "cell_type": "markdown",
   "metadata": {},
   "source": [
    "### K-NN\n"
   ]
  },
  {
   "cell_type": "code",
   "execution_count": 24,
   "metadata": {},
   "outputs": [],
   "source": [
    "def simple_knn(x_test,y_test,x_train,y_train,kind=\"reg\",k=5):\n",
    "    y_preds = []\n",
    "    for el in x_test:\n",
    "        distances = np.abs(x_train - el)\n",
    "        sorted_idxs = np.argsort(distances)\n",
    "        idxs = sorted_idxs[:k]\n",
    "        if kind==\"clas\":\n",
    "            y_preds.append(np.round(y_train[idxs].mean()))\n",
    "        else:\n",
    "            y_preds.append(y_train[idxs].mean())\n",
    "    return np.array(y_preds)"
   ]
  },
  {
   "cell_type": "code",
   "execution_count": 25,
   "metadata": {},
   "outputs": [],
   "source": [
    "ks = [2,3,4,5,6]\n",
    "predictions = []\n",
    "\n",
    "for k in ks:\n",
    "    predictions.append(simple_knn(x,y,x_train,y_train,k=k))    "
   ]
  },
  {
   "cell_type": "code",
   "execution_count": 26,
   "metadata": {
    "scrolled": false
   },
   "outputs": [
    {
     "data": {
      "application/vnd.plotly.v1+json": {
       "config": {
        "linkText": "Export to plot.ly",
        "plotlyServerURL": "https://plot.ly",
        "showLink": false
       },
       "data": [
        {
         "mode": "markers",
         "name": "Data",
         "type": "scatter",
         "x": [
          0,
          0.10101010101010101,
          0.20202020202020202,
          0.30303030303030304,
          0.40404040404040403,
          0.5050505050505051,
          0.6060606060606061,
          0.7070707070707071,
          0.8080808080808081,
          0.9090909090909091,
          1.0101010101010102,
          1.1111111111111112,
          1.2121212121212122,
          1.3131313131313131,
          1.4141414141414141,
          1.5151515151515151,
          1.6161616161616161,
          1.7171717171717171,
          1.8181818181818181,
          1.9191919191919191,
          2.0202020202020203,
          2.121212121212121,
          2.2222222222222223,
          2.323232323232323,
          2.4242424242424243,
          2.525252525252525,
          2.6262626262626263,
          2.727272727272727,
          2.8282828282828283,
          2.929292929292929,
          3.0303030303030303,
          3.131313131313131,
          3.2323232323232323,
          3.3333333333333335,
          3.4343434343434343,
          3.5353535353535355,
          3.6363636363636362,
          3.7373737373737375,
          3.8383838383838382,
          3.9393939393939394,
          4.040404040404041,
          4.141414141414141,
          4.242424242424242,
          4.343434343434343,
          4.444444444444445,
          4.545454545454545,
          4.646464646464646,
          4.747474747474747,
          4.848484848484849,
          4.94949494949495,
          5.05050505050505,
          5.151515151515151,
          5.252525252525253,
          5.353535353535354,
          5.454545454545454,
          5.555555555555555,
          5.656565656565657,
          5.757575757575758,
          5.858585858585858,
          5.959595959595959,
          6.0606060606060606,
          6.161616161616162,
          6.262626262626262,
          6.363636363636363,
          6.4646464646464645,
          6.565656565656566,
          6.666666666666667,
          6.767676767676767,
          6.8686868686868685,
          6.96969696969697,
          7.070707070707071,
          7.171717171717171,
          7.2727272727272725,
          7.373737373737374,
          7.474747474747475,
          7.575757575757575,
          7.6767676767676765,
          7.777777777777778,
          7.878787878787879,
          7.979797979797979,
          8.080808080808081,
          8.181818181818182,
          8.282828282828282,
          8.383838383838384,
          8.484848484848484,
          8.585858585858587,
          8.686868686868687,
          8.787878787878787,
          8.88888888888889,
          8.98989898989899,
          9.09090909090909,
          9.191919191919192,
          9.292929292929292,
          9.393939393939394,
          9.494949494949495,
          9.595959595959595,
          9.696969696969697,
          9.797979797979798,
          9.8989898989899,
          10
         ],
         "y": [
          -0.12539017074869654,
          -0.1461529266831243,
          0.013614226054457107,
          -0.14179700215196928,
          0.13700098467170407,
          0.09170232221385402,
          0.0037548954289353623,
          0.07318699463474022,
          -0.02643432048486337,
          0.02540451080269502,
          -0.05291225655010749,
          -0.09374024301950366,
          -0.03718045018222975,
          0.12129348345914123,
          -0.04663290756162806,
          0.0409206668928876,
          0.03202822642859259,
          -0.012066301615040482,
          -0.0869281251164693,
          0.04314353413546195,
          -0.0355077030315591,
          0.028231988813847676,
          0.10478965054586878,
          -0.030453616289173188,
          0.011677798046430064,
          0.04002846390083738,
          0.00047789185127316506,
          0.057012756617815276,
          0.053025927245596086,
          -0.07359918774930464,
          0.012289709687844343,
          -0.09077952070750257,
          -0.08417841506724376,
          -0.09146755635377136,
          0.005886687248998343,
          0.039652225366272366,
          -0.022853663018615637,
          -0.08242196024721743,
          0.013481235276644583,
          -0.02255611602733571,
          -0.0363883299690871,
          0.08105698090607343,
          -0.026306887231704386,
          0.06803690272693345,
          0.1479839394945305,
          0.12905154197280533,
          0.17895502760009346,
          0.1691782620046765,
          -0.06682354308331091,
          0.07623191615573406,
          0.21064183088222008,
          0.18529386543178172,
          0.1155733821948841,
          0.048012647829359364,
          0.0286236051421441,
          0.16787299918504392,
          -0.028536829463599533,
          0.03928681281939099,
          0.30056947271128415,
          0.19112880633245316,
          0.12078750707700597,
          0.1620372724077003,
          0.004279738902691899,
          0.1822067742126028,
          0.17629362973438856,
          0.25669125918238667,
          0.3301811736530552,
          0.2714652788410682,
          0.25986554663024575,
          0.25914800174670116,
          0.43743605217720805,
          0.22912860635455623,
          0.3499621259386155,
          0.3441604449803355,
          0.3981065647527507,
          0.32589689683501644,
          0.468086349270713,
          0.28767233427263683,
          0.3488562676565692,
          0.38607631973522083,
          0.40899273908279854,
          0.44363328828620396,
          0.6163877534352922,
          0.626257738939209,
          0.5430673511136312,
          0.7168873409546186,
          0.7047506325397179,
          0.7149817736765808,
          0.7397718948490235,
          0.9033247163599492,
          0.8412878363566938,
          0.8650883793797643,
          0.7588316260553303,
          0.7779396304861195,
          1.0111008572337246,
          0.8770888753547198,
          1.0796561808378913,
          0.9896888671153208,
          1.2414378357730893,
          1.0297409963448116
         ]
        },
        {
         "mode": "lines",
         "name": "Regressor KNN of 2 neighbours",
         "text": "MSE: 0.006319357394332275",
         "type": "scatter",
         "x": [
          0,
          0.10101010101010101,
          0.20202020202020202,
          0.30303030303030304,
          0.40404040404040403,
          0.5050505050505051,
          0.6060606060606061,
          0.7070707070707071,
          0.8080808080808081,
          0.9090909090909091,
          1.0101010101010102,
          1.1111111111111112,
          1.2121212121212122,
          1.3131313131313131,
          1.4141414141414141,
          1.5151515151515151,
          1.6161616161616161,
          1.7171717171717171,
          1.8181818181818181,
          1.9191919191919191,
          2.0202020202020203,
          2.121212121212121,
          2.2222222222222223,
          2.323232323232323,
          2.4242424242424243,
          2.525252525252525,
          2.6262626262626263,
          2.727272727272727,
          2.8282828282828283,
          2.929292929292929,
          3.0303030303030303,
          3.131313131313131,
          3.2323232323232323,
          3.3333333333333335,
          3.4343434343434343,
          3.5353535353535355,
          3.6363636363636362,
          3.7373737373737375,
          3.8383838383838382,
          3.9393939393939394,
          4.040404040404041,
          4.141414141414141,
          4.242424242424242,
          4.343434343434343,
          4.444444444444445,
          4.545454545454545,
          4.646464646464646,
          4.747474747474747,
          4.848484848484849,
          4.94949494949495,
          5.05050505050505,
          5.151515151515151,
          5.252525252525253,
          5.353535353535354,
          5.454545454545454,
          5.555555555555555,
          5.656565656565657,
          5.757575757575758,
          5.858585858585858,
          5.959595959595959,
          6.0606060606060606,
          6.161616161616162,
          6.262626262626262,
          6.363636363636363,
          6.4646464646464645,
          6.565656565656566,
          6.666666666666667,
          6.767676767676767,
          6.8686868686868685,
          6.96969696969697,
          7.070707070707071,
          7.171717171717171,
          7.2727272727272725,
          7.373737373737374,
          7.474747474747475,
          7.575757575757575,
          7.6767676767676765,
          7.777777777777778,
          7.878787878787879,
          7.979797979797979,
          8.080808080808081,
          8.181818181818182,
          8.282828282828282,
          8.383838383838384,
          8.484848484848484,
          8.585858585858587,
          8.686868686868687,
          8.787878787878787,
          8.88888888888889,
          8.98989898989899,
          9.09090909090909,
          9.191919191919192,
          9.292929292929292,
          9.393939393939394,
          9.494949494949495,
          9.595959595959595,
          9.696969696969697,
          9.797979797979798,
          9.8989898989899,
          10
         ],
         "y": [
          -0.016843924267421262,
          -0.016843924267421262,
          -0.016843924267421262,
          0.047728608821394694,
          0.047728608821394694,
          0.047728608821394694,
          0.047728608821394694,
          0.038470945031837796,
          0.049295752718717625,
          -0.013753872873706236,
          -0.05291225655010749,
          -0.05291225655010749,
          -0.05291225655010749,
          -0.05291225655010749,
          -0.05291225655010749,
          -0.0699201908332884,
          -0.0699201908332884,
          -0.0699201908332884,
          -0.037625163535019615,
          -0.037625163535019615,
          -0.037625163535019615,
          -0.037625163535019615,
          0.006077844948851614,
          0.006077844948851614,
          0.006077844948851614,
          0.006077844948851614,
          0.006077844948851614,
          0.006077844948851614,
          -0.0451508144281147,
          -0.0451508144281147,
          -0.0451508144281147,
          -0.025563647670615103,
          -0.025563647670615103,
          -0.025563647670615103,
          -0.025563647670615103,
          0.008548054669468327,
          0.008548054669468327,
          0.008548054669468327,
          -0.029472222998211405,
          -0.029472222998211405,
          -0.0363883299690871,
          -0.0363883299690871,
          0.015824286378923177,
          0.12349596516351347,
          0.12349596516351347,
          0.17895502760009346,
          0.17895502760009346,
          0.17406664480238498,
          0.12270508908020528,
          0.14343687351897708,
          0.14343687351897708,
          0.14343687351897708,
          0.03831812648575173,
          0.03831812648575173,
          0.03831812648575173,
          0.03831812648575173,
          0.03831812648575173,
          0.10987620573729863,
          0.10987620573729863,
          0.10987620573729863,
          0.10987620573729863,
          0.23129704258676068,
          0.23129704258676068,
          0.23129704258676068,
          0.23129704258676068,
          0.23129704258676068,
          0.23129704258676068,
          0.23129704258676068,
          0.2986810878380423,
          0.2986810878380423,
          0.2986810878380423,
          0.2986810878380423,
          0.39699162305286473,
          0.39699162305286473,
          0.39699162305286473,
          0.39699162305286473,
          0.468086349270713,
          0.4084713084636411,
          0.4084713084636411,
          0.4084713084636411,
          0.4875570032978891,
          0.4875570032978891,
          0.5846625450264201,
          0.5846625450264201,
          0.5846625450264201,
          0.6290245623951061,
          0.7149817736765808,
          0.7149817736765808,
          0.8215483056044863,
          0.8215483056044863,
          0.8842065478698568,
          0.8650883793797643,
          0.8650883793797643,
          0.8650883793797643,
          0.9273886232475426,
          0.9896888671153208,
          0.9896888671153208,
          0.9896888671153208,
          0.9896888671153208,
          0.9896888671153208
         ]
        },
        {
         "mode": "lines",
         "name": "Regressor KNN of 3 neighbours",
         "text": "MSE: 0.006694795017370554",
         "type": "scatter",
         "x": [
          0,
          0.10101010101010101,
          0.20202020202020202,
          0.30303030303030304,
          0.40404040404040403,
          0.5050505050505051,
          0.6060606060606061,
          0.7070707070707071,
          0.8080808080808081,
          0.9090909090909091,
          1.0101010101010102,
          1.1111111111111112,
          1.2121212121212122,
          1.3131313131313131,
          1.4141414141414141,
          1.5151515151515151,
          1.6161616161616161,
          1.7171717171717171,
          1.8181818181818181,
          1.9191919191919191,
          2.0202020202020203,
          2.121212121212121,
          2.2222222222222223,
          2.323232323232323,
          2.4242424242424243,
          2.525252525252525,
          2.6262626262626263,
          2.727272727272727,
          2.8282828282828283,
          2.929292929292929,
          3.0303030303030303,
          3.131313131313131,
          3.2323232323232323,
          3.3333333333333335,
          3.4343434343434343,
          3.5353535353535355,
          3.6363636363636362,
          3.7373737373737375,
          3.8383838383838382,
          3.9393939393939394,
          4.040404040404041,
          4.141414141414141,
          4.242424242424242,
          4.343434343434343,
          4.444444444444445,
          4.545454545454545,
          4.646464646464646,
          4.747474747474747,
          4.848484848484849,
          4.94949494949495,
          5.05050505050505,
          5.151515151515151,
          5.252525252525253,
          5.353535353535354,
          5.454545454545454,
          5.555555555555555,
          5.656565656565657,
          5.757575757575758,
          5.858585858585858,
          5.959595959595959,
          6.0606060606060606,
          6.161616161616162,
          6.262626262626262,
          6.363636363636363,
          6.4646464646464645,
          6.565656565656566,
          6.666666666666667,
          6.767676767676767,
          6.8686868686868685,
          6.96969696969697,
          7.070707070707071,
          7.171717171717171,
          7.2727272727272725,
          7.373737373737374,
          7.474747474747475,
          7.575757575757575,
          7.6767676767676765,
          7.777777777777778,
          7.878787878787879,
          7.979797979797979,
          8.080808080808081,
          8.181818181818182,
          8.282828282828282,
          8.383838383838384,
          8.484848484848484,
          8.585858585858587,
          8.686868686868687,
          8.787878787878787,
          8.88888888888889,
          8.98989898989899,
          9.09090909090909,
          9.191919191919192,
          9.292929292929292,
          9.393939393939394,
          9.494949494949495,
          9.595959595959595,
          9.696969696969697,
          9.797979797979798,
          9.8989898989899,
          10
         ],
         "y": [
          -0.009977651035302388,
          -0.009977651035302388,
          -0.009977651035302388,
          -0.009977651035302385,
          0.05621473742584321,
          0.05621473742584321,
          0.05621473742584321,
          0.05621473742584321,
          0.03411546695545687,
          -0.026806667432506658,
          -0.026806667432506658,
          -0.026806667432506658,
          -0.026806667432506658,
          -0.026806667432506658,
          -0.06425087940556143,
          -0.06425087940556144,
          -0.06425087940556144,
          -0.06425087940556144,
          -0.04272086120671557,
          -0.02492414507292202,
          -0.02492414507292202,
          -0.02492414507292202,
          -0.024924145072922024,
          -0.024924145072922024,
          -0.024924145072922024,
          -0.026207943603266448,
          -0.026207943603266448,
          -0.026207943603266448,
          -0.026207943603266448,
          -0.026207943603266448,
          -0.016883134496652345,
          -0.01688313449665235,
          -0.01688313449665235,
          -0.024561137122855306,
          -0.024561137122855306,
          -0.024561137122855306,
          -0.006430740210050148,
          -0.006430740210050148,
          -0.0317775919885033,
          -0.0317775919885033,
          -0.0317775919885033,
          -0.0317775919885033,
          -0.0015799190704135814,
          0.07020120011931329,
          0.14198231930904012,
          0.14198231930904012,
          0.1756961057349545,
          0.1756961057349545,
          0.15201733634754355,
          0.15201733634754355,
          0.15201733634754355,
          0.1116287982891045,
          0.09575936128457452,
          0.09575936128457452,
          0.09575936128457452,
          0.08925501976798554,
          0.08925501976798554,
          0.08925501976798554,
          0.08925501976798554,
          0.08925501976798554,
          0.08925501976798554,
          0.16373923010522182,
          0.16373923010522182,
          0.16373923010522182,
          0.16373923010522182,
          0.2628303273361792,
          0.2628303273361792,
          0.2628303273361792,
          0.35514950831559916,
          0.35514950831559916,
          0.35514950831559916,
          0.35514950831559916,
          0.42068986512548084,
          0.42068986512548084,
          0.42068986512548084,
          0.42068986512548084,
          0.42068986512548084,
          0.4283429887326651,
          0.4283429887326651,
          0.4283429887326651,
          0.5060604525698031,
          0.5060604525698031,
          0.5060604525698031,
          0.6281022879098069,
          0.6281022879098069,
          0.6576769661555977,
          0.7232451474007284,
          0.7232451474007284,
          0.7860261282951845,
          0.8360616635295791,
          0.877833825039826,
          0.8650883793797645,
          0.8650883793797645,
          0.8650883793797645,
          0.9066218752916164,
          0.9481553712034687,
          0.9481553712034687,
          0.9481553712034687,
          0.9481553712034687,
          0.9481553712034687
         ]
        },
        {
         "mode": "lines",
         "name": "Regressor KNN of 4 neighbours",
         "text": "MSE: 0.007120036146010477",
         "type": "scatter",
         "x": [
          0,
          0.10101010101010101,
          0.20202020202020202,
          0.30303030303030304,
          0.40404040404040403,
          0.5050505050505051,
          0.6060606060606061,
          0.7070707070707071,
          0.8080808080808081,
          0.9090909090909091,
          1.0101010101010102,
          1.1111111111111112,
          1.2121212121212122,
          1.3131313131313131,
          1.4141414141414141,
          1.5151515151515151,
          1.6161616161616161,
          1.7171717171717171,
          1.8181818181818181,
          1.9191919191919191,
          2.0202020202020203,
          2.121212121212121,
          2.2222222222222223,
          2.323232323232323,
          2.4242424242424243,
          2.525252525252525,
          2.6262626262626263,
          2.727272727272727,
          2.8282828282828283,
          2.929292929292929,
          3.0303030303030303,
          3.131313131313131,
          3.2323232323232323,
          3.3333333333333335,
          3.4343434343434343,
          3.5353535353535355,
          3.6363636363636362,
          3.7373737373737375,
          3.8383838383838382,
          3.9393939393939394,
          4.040404040404041,
          4.141414141414141,
          4.242424242424242,
          4.343434343434343,
          4.444444444444445,
          4.545454545454545,
          4.646464646464646,
          4.747474747474747,
          4.848484848484849,
          4.94949494949495,
          5.05050505050505,
          5.151515151515151,
          5.252525252525253,
          5.353535353535354,
          5.454545454545454,
          5.555555555555555,
          5.656565656565657,
          5.757575757575758,
          5.858585858585858,
          5.959595959595959,
          6.0606060606060606,
          6.161616161616162,
          6.262626262626262,
          6.363636363636363,
          6.4646464646464645,
          6.565656565656566,
          6.666666666666667,
          6.767676767676767,
          6.8686868686868685,
          6.96969696969697,
          7.070707070707071,
          7.171717171717171,
          7.2727272727272725,
          7.373737373737374,
          7.474747474747475,
          7.575757575757575,
          7.6767676767676765,
          7.777777777777778,
          7.878787878787879,
          7.979797979797979,
          8.080808080808081,
          8.181818181818182,
          8.282828282828282,
          8.383838383838384,
          8.484848484848484,
          8.585858585858587,
          8.686868686868687,
          8.787878787878787,
          8.88888888888889,
          8.98989898989899,
          9.09090909090909,
          9.191919191919192,
          9.292929292929292,
          9.393939393939394,
          9.494949494949495,
          9.595959595959595,
          9.696969696969697,
          9.797979797979798,
          9.8989898989899,
          10
         ],
         "y": [
          0.010813510382208265,
          0.010813510382208265,
          0.010813510382208265,
          0.010813510382208267,
          0.01081351038220827,
          0.04851218077005616,
          0.04851218077005616,
          0.04851218077005616,
          0.012358536079065782,
          -0.0018082519156949368,
          -0.0018082519156949368,
          -0.0018082519156949368,
          -0.0018082519156949368,
          -0.04183703185349732,
          -0.04183703185349732,
          -0.041837031853497325,
          -0.041837031853497325,
          -0.04526871004256356,
          -0.045268710042563554,
          -0.031921172942218384,
          -0.031921172942218384,
          -0.04138798898156716,
          -0.04138798898156716,
          -0.04138798898156716,
          -0.04138798898156716,
          -0.04138798898156716,
          -0.04138798898156716,
          -0.009742901360881745,
          -0.009742901360881745,
          -0.009742901360881745,
          -0.009742901360881743,
          -0.009742901360881745,
          -0.01830137987932319,
          -0.027517935334413254,
          -0.027517935334413254,
          -0.027517935334413254,
          -0.013920137649809386,
          -0.013920137649809386,
          -0.013920137649809384,
          -0.013920137649809384,
          -0.006823968309644112,
          -0.006823968309644112,
          -0.006823968309644114,
          0.04355381759721319,
          0.14878130498294923,
          0.14878130498294923,
          0.14878130498294923,
          0.1508300583401494,
          0.15875175916068102,
          0.15875175916068102,
          0.1260161642179975,
          0.09087750000236441,
          0.0908775000023644,
          0.0908775000023644,
          0.0908775000023644,
          0.11960172254654416,
          0.11960172254654416,
          0.11960172254654416,
          0.11960172254654416,
          0.1348075845362562,
          0.1348075845362562,
          0.1348075845362562,
          0.1348075845362562,
          0.1348075845362562,
          0.1348075845362562,
          0.3141443328198127,
          0.3141443328198127,
          0.3141443328198127,
          0.38338371855437764,
          0.38338371855437764,
          0.38338371855437764,
          0.38338371855437764,
          0.3833837185543777,
          0.4027314657582529,
          0.4027314657582529,
          0.4027314657582529,
          0.4027314657582529,
          0.4027314657582529,
          0.4027314657582529,
          0.4027314657582529,
          0.4965669267450306,
          0.4965669267450306,
          0.5582907828464976,
          0.6498221593515005,
          0.6498221593515005,
          0.6498221593515006,
          0.6782006983289541,
          0.7682650396405336,
          0.7682650396405336,
          0.8433183424921253,
          0.8746474636248105,
          0.8746474636248106,
          0.8746474636248106,
          0.8962385013136536,
          0.9273886232475426,
          0.9273886232475426,
          0.9273886232475426,
          0.9273886232475426,
          0.9273886232475426,
          0.9273886232475426
         ]
        },
        {
         "mode": "lines",
         "name": "Regressor KNN of 5 neighbours",
         "text": "MSE: 0.007355723656788619",
         "type": "scatter",
         "x": [
          0,
          0.10101010101010101,
          0.20202020202020202,
          0.30303030303030304,
          0.40404040404040403,
          0.5050505050505051,
          0.6060606060606061,
          0.7070707070707071,
          0.8080808080808081,
          0.9090909090909091,
          1.0101010101010102,
          1.1111111111111112,
          1.2121212121212122,
          1.3131313131313131,
          1.4141414141414141,
          1.5151515151515151,
          1.6161616161616161,
          1.7171717171717171,
          1.8181818181818181,
          1.9191919191919191,
          2.0202020202020203,
          2.121212121212121,
          2.2222222222222223,
          2.323232323232323,
          2.4242424242424243,
          2.525252525252525,
          2.6262626262626263,
          2.727272727272727,
          2.8282828282828283,
          2.929292929292929,
          3.0303030303030303,
          3.131313131313131,
          3.2323232323232323,
          3.3333333333333335,
          3.4343434343434343,
          3.5353535353535355,
          3.6363636363636362,
          3.7373737373737375,
          3.8383838383838382,
          3.9393939393939394,
          4.040404040404041,
          4.141414141414141,
          4.242424242424242,
          4.343434343434343,
          4.444444444444445,
          4.545454545454545,
          4.646464646464646,
          4.747474747474747,
          4.848484848484849,
          4.94949494949495,
          5.05050505050505,
          5.151515151515151,
          5.252525252525253,
          5.353535353535354,
          5.454545454545454,
          5.555555555555555,
          5.656565656565657,
          5.757575757575758,
          5.858585858585858,
          5.959595959595959,
          6.0606060606060606,
          6.161616161616162,
          6.262626262626262,
          6.363636363636363,
          6.4646464646464645,
          6.565656565656566,
          6.666666666666667,
          6.767676767676767,
          6.8686868686868685,
          6.96969696969697,
          7.070707070707071,
          7.171717171717171,
          7.2727272727272725,
          7.373737373737374,
          7.474747474747475,
          7.575757575757575,
          7.6767676767676765,
          7.777777777777778,
          7.878787878787879,
          7.979797979797979,
          8.080808080808081,
          8.181818181818182,
          8.282828282828282,
          8.383838383838384,
          8.484848484848484,
          8.585858585858587,
          8.686868686868687,
          8.787878787878787,
          8.88888888888889,
          8.98989898989899,
          9.09090909090909,
          9.191919191919192,
          9.292929292929292,
          9.393939393939394,
          9.494949494949495,
          9.595959595959595,
          9.696969696969697,
          9.797979797979798,
          9.8989898989899,
          10
         ],
         "y": [
          0.013731710466305617,
          0.013731710466305617,
          0.013731710466305617,
          0.013731710466305619,
          0.013731710466305619,
          0.028227293306023426,
          0.028227293306023426,
          0.028227293306023426,
          -0.0006956224467688732,
          -0.000695622446768877,
          -0.000695622446768877,
          -0.000695622446768877,
          -0.01883222655584981,
          -0.01883222655584981,
          -0.01883222655584981,
          -0.018832226555849815,
          -0.031134065873511845,
          -0.031134065873511845,
          -0.03611938966379621,
          -0.03611938966379621,
          -0.03611938966379621,
          -0.04369284249527523,
          -0.04369284249527523,
          -0.02517994611199926,
          -0.02517994611199926,
          -0.02517994611199926,
          -0.02517994611199926,
          -0.02517994611199926,
          -0.02517994611199926,
          -0.012305544294172539,
          -0.012305544294172537,
          -0.012305544294172539,
          -0.012305544294172539,
          -0.02929201426134802,
          -0.02929201426134802,
          -0.02929201426134802,
          -0.02929201426134802,
          0.0024712704255391823,
          0.0024712704255391836,
          0.0024712704255391836,
          0.0024712704255391836,
          0.0303318308723034,
          0.0303318308723034,
          0.07063405959778925,
          0.11174737799254195,
          0.1342714272175062,
          0.1342714272175062,
          0.16279241284856355,
          0.16279241284856352,
          0.16279241284856352,
          0.1366039368944167,
          0.10653765240282684,
          0.10653765240282682,
          0.11092776126838215,
          0.11092776126838215,
          0.11092776126838215,
          0.11092776126838215,
          0.11092776126838215,
          0.11092776126838215,
          0.14997443380544898,
          0.14997443380544898,
          0.14997443380544898,
          0.14997443380544898,
          0.17302544699600825,
          0.17302544699600825,
          0.34493273610999275,
          0.34493273610999275,
          0.34493273610999275,
          0.34493273610999275,
          0.3764782283748159,
          0.3764782283748159,
          0.3764782283748159,
          0.376478228374816,
          0.3764782283748159,
          0.3764782283748159,
          0.3764782283748159,
          0.4474367203944441,
          0.4474367203944441,
          0.4474367203944441,
          0.4474367203944441,
          0.49087081125016707,
          0.49087081125016707,
          0.5896289810125143,
          0.5896289810125142,
          0.6678121064510051,
          0.6678121064510052,
          0.7232255019351531,
          0.7232255019351531,
          0.7876297075883798,
          0.8176510287290164,
          0.8476723498696531,
          0.8476723498696532,
          0.8476723498696532,
          0.914928574473987,
          0.9149285744739869,
          0.9149285744739869,
          0.9149285744739869,
          0.9149285744739869,
          0.9149285744739869,
          0.9149285744739869
         ]
        },
        {
         "mode": "lines",
         "name": "Regressor KNN of 6 neighbours",
         "text": "MSE: 0.007573021020807711",
         "type": "scatter",
         "x": [
          0,
          0.10101010101010101,
          0.20202020202020202,
          0.30303030303030304,
          0.40404040404040403,
          0.5050505050505051,
          0.6060606060606061,
          0.7070707070707071,
          0.8080808080808081,
          0.9090909090909091,
          1.0101010101010102,
          1.1111111111111112,
          1.2121212121212122,
          1.3131313131313131,
          1.4141414141414141,
          1.5151515151515151,
          1.6161616161616161,
          1.7171717171717171,
          1.8181818181818181,
          1.9191919191919191,
          2.0202020202020203,
          2.121212121212121,
          2.2222222222222223,
          2.323232323232323,
          2.4242424242424243,
          2.525252525252525,
          2.6262626262626263,
          2.727272727272727,
          2.8282828282828283,
          2.929292929292929,
          3.0303030303030303,
          3.131313131313131,
          3.2323232323232323,
          3.3333333333333335,
          3.4343434343434343,
          3.5353535353535355,
          3.6363636363636362,
          3.7373737373737375,
          3.8383838383838382,
          3.9393939393939394,
          4.040404040404041,
          4.141414141414141,
          4.242424242424242,
          4.343434343434343,
          4.444444444444445,
          4.545454545454545,
          4.646464646464646,
          4.747474747474747,
          4.848484848484849,
          4.94949494949495,
          5.05050505050505,
          5.151515151515151,
          5.252525252525253,
          5.353535353535354,
          5.454545454545454,
          5.555555555555555,
          5.656565656565657,
          5.757575757575758,
          5.858585858585858,
          5.959595959595959,
          6.0606060606060606,
          6.161616161616162,
          6.262626262626262,
          6.363636363636363,
          6.4646464646464645,
          6.565656565656566,
          6.666666666666667,
          6.767676767676767,
          6.8686868686868685,
          6.96969696969697,
          7.070707070707071,
          7.171717171717171,
          7.2727272727272725,
          7.373737373737374,
          7.474747474747475,
          7.575757575757575,
          7.6767676767676765,
          7.777777777777778,
          7.878787878787879,
          7.979797979797979,
          8.080808080808081,
          8.181818181818182,
          8.282828282828282,
          8.383838383838384,
          8.484848484848484,
          8.585858585858587,
          8.686868686868687,
          8.787878787878787,
          8.88888888888889,
          8.98989898989899,
          9.09090909090909,
          9.191919191919192,
          9.292929292929292,
          9.393939393939394,
          9.494949494949495,
          9.595959595959595,
          9.696969696969697,
          9.797979797979798,
          9.8989898989899,
          10
         ],
         "y": [
          0.002624382630236765,
          0.002624382630236765,
          0.002624382630236765,
          0.002624382630236767,
          0.002624382630236767,
          0.014704034996668273,
          0.014704034996668273,
          0.014704034996668273,
          0.014704034996668275,
          0.014704034996668273,
          0.014704034996668273,
          0.014704034996668273,
          -0.01506770622505228,
          -0.01506770622505228,
          -0.01506770622505228,
          -0.015067706225052284,
          -0.013747222455469834,
          -0.025865406252714343,
          -0.02586540625271434,
          -0.02586540625271434,
          -0.04522941150441393,
          -0.045229411504413945,
          -0.045229411504413945,
          -0.02980199785168396,
          -0.02980199785168396,
          -0.024742641097888665,
          -0.024742641097888665,
          -0.024742641097888665,
          -0.024742641097888665,
          -0.024742641097888665,
          -0.016319341906658295,
          -0.016319341906658298,
          -0.0163193419066583,
          -0.024330363242577823,
          -0.024330363242577823,
          -0.013070528096634441,
          -0.013070528096634441,
          -0.013070528096634443,
          -0.013070528096634443,
          0.03188522995463156,
          0.03188522995463156,
          0.05510236366026841,
          0.05510236366026841,
          0.05510236366026842,
          0.08705809333227044,
          0.10582813435307398,
          0.14699982782829185,
          0.14699982782829185,
          0.14366245201202948,
          0.14366245201202948,
          0.1436624520120295,
          0.11860721493570463,
          0.11860721493570459,
          0.12063617805776454,
          0.12063617805776454,
          0.12063617805776454,
          0.12063617805776454,
          0.13768401419716317,
          0.13768401419716317,
          0.13768401419716317,
          0.13768401419716317,
          0.13768401419716317,
          0.13768401419716317,
          0.22220226404179236,
          0.22220226404179236,
          0.2922145476153513,
          0.3455866580344222,
          0.3455866580344222,
          0.3455866580344222,
          0.3455866580344222,
          0.3455866580344222,
          0.3455866580344222,
          0.4181081468022148,
          0.4181081468022148,
          0.4181081468022148,
          0.4181081468022148,
          0.46337515884764197,
          0.46337515884764197,
          0.46337515884764197,
          0.46337515884764197,
          0.46337515884764197,
          0.5282226383212361,
          0.569371875722214,
          0.6146527999852657,
          0.7070642081024957,
          0.7070642081024957,
          0.7070642081024957,
          0.7070642081024957,
          0.8005394862202772,
          0.800539486220277,
          0.8255572538374744,
          0.8255572538374745,
          0.8713417694105979,
          0.9129945981216473,
          0.9129945981216473,
          0.9129945981216473,
          0.9129945981216473,
          0.9129945981216473,
          0.9129945981216473,
          0.9129945981216473
         ]
        }
       ],
       "layout": {
        "template": {
         "data": {
          "bar": [
           {
            "error_x": {
             "color": "#2a3f5f"
            },
            "error_y": {
             "color": "#2a3f5f"
            },
            "marker": {
             "line": {
              "color": "#E5ECF6",
              "width": 0.5
             }
            },
            "type": "bar"
           }
          ],
          "barpolar": [
           {
            "marker": {
             "line": {
              "color": "#E5ECF6",
              "width": 0.5
             }
            },
            "type": "barpolar"
           }
          ],
          "carpet": [
           {
            "aaxis": {
             "endlinecolor": "#2a3f5f",
             "gridcolor": "white",
             "linecolor": "white",
             "minorgridcolor": "white",
             "startlinecolor": "#2a3f5f"
            },
            "baxis": {
             "endlinecolor": "#2a3f5f",
             "gridcolor": "white",
             "linecolor": "white",
             "minorgridcolor": "white",
             "startlinecolor": "#2a3f5f"
            },
            "type": "carpet"
           }
          ],
          "choropleth": [
           {
            "colorbar": {
             "outlinewidth": 0,
             "ticks": ""
            },
            "type": "choropleth"
           }
          ],
          "contour": [
           {
            "colorbar": {
             "outlinewidth": 0,
             "ticks": ""
            },
            "colorscale": [
             [
              0,
              "#0d0887"
             ],
             [
              0.1111111111111111,
              "#46039f"
             ],
             [
              0.2222222222222222,
              "#7201a8"
             ],
             [
              0.3333333333333333,
              "#9c179e"
             ],
             [
              0.4444444444444444,
              "#bd3786"
             ],
             [
              0.5555555555555556,
              "#d8576b"
             ],
             [
              0.6666666666666666,
              "#ed7953"
             ],
             [
              0.7777777777777778,
              "#fb9f3a"
             ],
             [
              0.8888888888888888,
              "#fdca26"
             ],
             [
              1,
              "#f0f921"
             ]
            ],
            "type": "contour"
           }
          ],
          "contourcarpet": [
           {
            "colorbar": {
             "outlinewidth": 0,
             "ticks": ""
            },
            "type": "contourcarpet"
           }
          ],
          "heatmap": [
           {
            "colorbar": {
             "outlinewidth": 0,
             "ticks": ""
            },
            "colorscale": [
             [
              0,
              "#0d0887"
             ],
             [
              0.1111111111111111,
              "#46039f"
             ],
             [
              0.2222222222222222,
              "#7201a8"
             ],
             [
              0.3333333333333333,
              "#9c179e"
             ],
             [
              0.4444444444444444,
              "#bd3786"
             ],
             [
              0.5555555555555556,
              "#d8576b"
             ],
             [
              0.6666666666666666,
              "#ed7953"
             ],
             [
              0.7777777777777778,
              "#fb9f3a"
             ],
             [
              0.8888888888888888,
              "#fdca26"
             ],
             [
              1,
              "#f0f921"
             ]
            ],
            "type": "heatmap"
           }
          ],
          "heatmapgl": [
           {
            "colorbar": {
             "outlinewidth": 0,
             "ticks": ""
            },
            "colorscale": [
             [
              0,
              "#0d0887"
             ],
             [
              0.1111111111111111,
              "#46039f"
             ],
             [
              0.2222222222222222,
              "#7201a8"
             ],
             [
              0.3333333333333333,
              "#9c179e"
             ],
             [
              0.4444444444444444,
              "#bd3786"
             ],
             [
              0.5555555555555556,
              "#d8576b"
             ],
             [
              0.6666666666666666,
              "#ed7953"
             ],
             [
              0.7777777777777778,
              "#fb9f3a"
             ],
             [
              0.8888888888888888,
              "#fdca26"
             ],
             [
              1,
              "#f0f921"
             ]
            ],
            "type": "heatmapgl"
           }
          ],
          "histogram": [
           {
            "marker": {
             "colorbar": {
              "outlinewidth": 0,
              "ticks": ""
             }
            },
            "type": "histogram"
           }
          ],
          "histogram2d": [
           {
            "colorbar": {
             "outlinewidth": 0,
             "ticks": ""
            },
            "colorscale": [
             [
              0,
              "#0d0887"
             ],
             [
              0.1111111111111111,
              "#46039f"
             ],
             [
              0.2222222222222222,
              "#7201a8"
             ],
             [
              0.3333333333333333,
              "#9c179e"
             ],
             [
              0.4444444444444444,
              "#bd3786"
             ],
             [
              0.5555555555555556,
              "#d8576b"
             ],
             [
              0.6666666666666666,
              "#ed7953"
             ],
             [
              0.7777777777777778,
              "#fb9f3a"
             ],
             [
              0.8888888888888888,
              "#fdca26"
             ],
             [
              1,
              "#f0f921"
             ]
            ],
            "type": "histogram2d"
           }
          ],
          "histogram2dcontour": [
           {
            "colorbar": {
             "outlinewidth": 0,
             "ticks": ""
            },
            "colorscale": [
             [
              0,
              "#0d0887"
             ],
             [
              0.1111111111111111,
              "#46039f"
             ],
             [
              0.2222222222222222,
              "#7201a8"
             ],
             [
              0.3333333333333333,
              "#9c179e"
             ],
             [
              0.4444444444444444,
              "#bd3786"
             ],
             [
              0.5555555555555556,
              "#d8576b"
             ],
             [
              0.6666666666666666,
              "#ed7953"
             ],
             [
              0.7777777777777778,
              "#fb9f3a"
             ],
             [
              0.8888888888888888,
              "#fdca26"
             ],
             [
              1,
              "#f0f921"
             ]
            ],
            "type": "histogram2dcontour"
           }
          ],
          "mesh3d": [
           {
            "colorbar": {
             "outlinewidth": 0,
             "ticks": ""
            },
            "type": "mesh3d"
           }
          ],
          "parcoords": [
           {
            "line": {
             "colorbar": {
              "outlinewidth": 0,
              "ticks": ""
             }
            },
            "type": "parcoords"
           }
          ],
          "scatter": [
           {
            "marker": {
             "colorbar": {
              "outlinewidth": 0,
              "ticks": ""
             }
            },
            "type": "scatter"
           }
          ],
          "scatter3d": [
           {
            "line": {
             "colorbar": {
              "outlinewidth": 0,
              "ticks": ""
             }
            },
            "marker": {
             "colorbar": {
              "outlinewidth": 0,
              "ticks": ""
             }
            },
            "type": "scatter3d"
           }
          ],
          "scattercarpet": [
           {
            "marker": {
             "colorbar": {
              "outlinewidth": 0,
              "ticks": ""
             }
            },
            "type": "scattercarpet"
           }
          ],
          "scattergeo": [
           {
            "marker": {
             "colorbar": {
              "outlinewidth": 0,
              "ticks": ""
             }
            },
            "type": "scattergeo"
           }
          ],
          "scattergl": [
           {
            "marker": {
             "colorbar": {
              "outlinewidth": 0,
              "ticks": ""
             }
            },
            "type": "scattergl"
           }
          ],
          "scattermapbox": [
           {
            "marker": {
             "colorbar": {
              "outlinewidth": 0,
              "ticks": ""
             }
            },
            "type": "scattermapbox"
           }
          ],
          "scatterpolar": [
           {
            "marker": {
             "colorbar": {
              "outlinewidth": 0,
              "ticks": ""
             }
            },
            "type": "scatterpolar"
           }
          ],
          "scatterpolargl": [
           {
            "marker": {
             "colorbar": {
              "outlinewidth": 0,
              "ticks": ""
             }
            },
            "type": "scatterpolargl"
           }
          ],
          "scatterternary": [
           {
            "marker": {
             "colorbar": {
              "outlinewidth": 0,
              "ticks": ""
             }
            },
            "type": "scatterternary"
           }
          ],
          "surface": [
           {
            "colorbar": {
             "outlinewidth": 0,
             "ticks": ""
            },
            "colorscale": [
             [
              0,
              "#0d0887"
             ],
             [
              0.1111111111111111,
              "#46039f"
             ],
             [
              0.2222222222222222,
              "#7201a8"
             ],
             [
              0.3333333333333333,
              "#9c179e"
             ],
             [
              0.4444444444444444,
              "#bd3786"
             ],
             [
              0.5555555555555556,
              "#d8576b"
             ],
             [
              0.6666666666666666,
              "#ed7953"
             ],
             [
              0.7777777777777778,
              "#fb9f3a"
             ],
             [
              0.8888888888888888,
              "#fdca26"
             ],
             [
              1,
              "#f0f921"
             ]
            ],
            "type": "surface"
           }
          ],
          "table": [
           {
            "cells": {
             "fill": {
              "color": "#EBF0F8"
             },
             "line": {
              "color": "white"
             }
            },
            "header": {
             "fill": {
              "color": "#C8D4E3"
             },
             "line": {
              "color": "white"
             }
            },
            "type": "table"
           }
          ]
         },
         "layout": {
          "annotationdefaults": {
           "arrowcolor": "#2a3f5f",
           "arrowhead": 0,
           "arrowwidth": 1
          },
          "colorscale": {
           "diverging": [
            [
             0,
             "#8e0152"
            ],
            [
             0.1,
             "#c51b7d"
            ],
            [
             0.2,
             "#de77ae"
            ],
            [
             0.3,
             "#f1b6da"
            ],
            [
             0.4,
             "#fde0ef"
            ],
            [
             0.5,
             "#f7f7f7"
            ],
            [
             0.6,
             "#e6f5d0"
            ],
            [
             0.7,
             "#b8e186"
            ],
            [
             0.8,
             "#7fbc41"
            ],
            [
             0.9,
             "#4d9221"
            ],
            [
             1,
             "#276419"
            ]
           ],
           "sequential": [
            [
             0,
             "#0d0887"
            ],
            [
             0.1111111111111111,
             "#46039f"
            ],
            [
             0.2222222222222222,
             "#7201a8"
            ],
            [
             0.3333333333333333,
             "#9c179e"
            ],
            [
             0.4444444444444444,
             "#bd3786"
            ],
            [
             0.5555555555555556,
             "#d8576b"
            ],
            [
             0.6666666666666666,
             "#ed7953"
            ],
            [
             0.7777777777777778,
             "#fb9f3a"
            ],
            [
             0.8888888888888888,
             "#fdca26"
            ],
            [
             1,
             "#f0f921"
            ]
           ],
           "sequentialminus": [
            [
             0,
             "#0d0887"
            ],
            [
             0.1111111111111111,
             "#46039f"
            ],
            [
             0.2222222222222222,
             "#7201a8"
            ],
            [
             0.3333333333333333,
             "#9c179e"
            ],
            [
             0.4444444444444444,
             "#bd3786"
            ],
            [
             0.5555555555555556,
             "#d8576b"
            ],
            [
             0.6666666666666666,
             "#ed7953"
            ],
            [
             0.7777777777777778,
             "#fb9f3a"
            ],
            [
             0.8888888888888888,
             "#fdca26"
            ],
            [
             1,
             "#f0f921"
            ]
           ]
          },
          "colorway": [
           "#636efa",
           "#EF553B",
           "#00cc96",
           "#ab63fa",
           "#FFA15A",
           "#19d3f3",
           "#FF6692",
           "#B6E880",
           "#FF97FF",
           "#FECB52"
          ],
          "font": {
           "color": "#2a3f5f"
          },
          "geo": {
           "bgcolor": "white",
           "lakecolor": "white",
           "landcolor": "#E5ECF6",
           "showlakes": true,
           "showland": true,
           "subunitcolor": "white"
          },
          "hoverlabel": {
           "align": "left"
          },
          "hovermode": "closest",
          "mapbox": {
           "style": "light"
          },
          "paper_bgcolor": "white",
          "plot_bgcolor": "#E5ECF6",
          "polar": {
           "angularaxis": {
            "gridcolor": "white",
            "linecolor": "white",
            "ticks": ""
           },
           "bgcolor": "#E5ECF6",
           "radialaxis": {
            "gridcolor": "white",
            "linecolor": "white",
            "ticks": ""
           }
          },
          "scene": {
           "xaxis": {
            "backgroundcolor": "#E5ECF6",
            "gridcolor": "white",
            "gridwidth": 2,
            "linecolor": "white",
            "showbackground": true,
            "ticks": "",
            "zerolinecolor": "white"
           },
           "yaxis": {
            "backgroundcolor": "#E5ECF6",
            "gridcolor": "white",
            "gridwidth": 2,
            "linecolor": "white",
            "showbackground": true,
            "ticks": "",
            "zerolinecolor": "white"
           },
           "zaxis": {
            "backgroundcolor": "#E5ECF6",
            "gridcolor": "white",
            "gridwidth": 2,
            "linecolor": "white",
            "showbackground": true,
            "ticks": "",
            "zerolinecolor": "white"
           }
          },
          "shapedefaults": {
           "line": {
            "color": "#2a3f5f"
           }
          },
          "ternary": {
           "aaxis": {
            "gridcolor": "white",
            "linecolor": "white",
            "ticks": ""
           },
           "baxis": {
            "gridcolor": "white",
            "linecolor": "white",
            "ticks": ""
           },
           "bgcolor": "#E5ECF6",
           "caxis": {
            "gridcolor": "white",
            "linecolor": "white",
            "ticks": ""
           }
          },
          "title": {
           "x": 0.05
          },
          "xaxis": {
           "automargin": true,
           "gridcolor": "white",
           "linecolor": "white",
           "ticks": "",
           "zerolinecolor": "white",
           "zerolinewidth": 2
          },
          "yaxis": {
           "automargin": true,
           "gridcolor": "white",
           "linecolor": "white",
           "ticks": "",
           "zerolinecolor": "white",
           "zerolinewidth": 2
          }
         }
        },
        "title": {
         "text": "Linear regression on synthetic data"
        }
       }
      },
      "text/html": [
       "<div>\n",
       "        \n",
       "        \n",
       "            <div id=\"f95033ab-d334-4281-9896-f616d3e72474\" class=\"plotly-graph-div\" style=\"height:525px; width:100%;\"></div>\n",
       "            <script type=\"text/javascript\">\n",
       "                require([\"plotly\"], function(Plotly) {\n",
       "                    window.PLOTLYENV=window.PLOTLYENV || {};\n",
       "                    \n",
       "                if (document.getElementById(\"f95033ab-d334-4281-9896-f616d3e72474\")) {\n",
       "                    Plotly.newPlot(\n",
       "                        'f95033ab-d334-4281-9896-f616d3e72474',\n",
       "                        [{\"mode\": \"markers\", \"name\": \"Data\", \"type\": \"scatter\", \"x\": [0.0, 0.10101010101010101, 0.20202020202020202, 0.30303030303030304, 0.40404040404040403, 0.5050505050505051, 0.6060606060606061, 0.7070707070707071, 0.8080808080808081, 0.9090909090909091, 1.0101010101010102, 1.1111111111111112, 1.2121212121212122, 1.3131313131313131, 1.4141414141414141, 1.5151515151515151, 1.6161616161616161, 1.7171717171717171, 1.8181818181818181, 1.9191919191919191, 2.0202020202020203, 2.121212121212121, 2.2222222222222223, 2.323232323232323, 2.4242424242424243, 2.525252525252525, 2.6262626262626263, 2.727272727272727, 2.8282828282828283, 2.929292929292929, 3.0303030303030303, 3.131313131313131, 3.2323232323232323, 3.3333333333333335, 3.4343434343434343, 3.5353535353535355, 3.6363636363636362, 3.7373737373737375, 3.8383838383838382, 3.9393939393939394, 4.040404040404041, 4.141414141414141, 4.242424242424242, 4.343434343434343, 4.444444444444445, 4.545454545454545, 4.646464646464646, 4.747474747474747, 4.848484848484849, 4.94949494949495, 5.05050505050505, 5.151515151515151, 5.252525252525253, 5.353535353535354, 5.454545454545454, 5.555555555555555, 5.656565656565657, 5.757575757575758, 5.858585858585858, 5.959595959595959, 6.0606060606060606, 6.161616161616162, 6.262626262626262, 6.363636363636363, 6.4646464646464645, 6.565656565656566, 6.666666666666667, 6.767676767676767, 6.8686868686868685, 6.96969696969697, 7.070707070707071, 7.171717171717171, 7.2727272727272725, 7.373737373737374, 7.474747474747475, 7.575757575757575, 7.6767676767676765, 7.777777777777778, 7.878787878787879, 7.979797979797979, 8.080808080808081, 8.181818181818182, 8.282828282828282, 8.383838383838384, 8.484848484848484, 8.585858585858587, 8.686868686868687, 8.787878787878787, 8.88888888888889, 8.98989898989899, 9.09090909090909, 9.191919191919192, 9.292929292929292, 9.393939393939394, 9.494949494949495, 9.595959595959595, 9.696969696969697, 9.797979797979798, 9.8989898989899, 10.0], \"y\": [-0.12539017074869654, -0.1461529266831243, 0.013614226054457107, -0.14179700215196928, 0.13700098467170407, 0.09170232221385402, 0.0037548954289353623, 0.07318699463474022, -0.02643432048486337, 0.02540451080269502, -0.05291225655010749, -0.09374024301950366, -0.03718045018222975, 0.12129348345914123, -0.04663290756162806, 0.0409206668928876, 0.03202822642859259, -0.012066301615040482, -0.0869281251164693, 0.04314353413546195, -0.0355077030315591, 0.028231988813847676, 0.10478965054586878, -0.030453616289173188, 0.011677798046430064, 0.04002846390083738, 0.00047789185127316506, 0.057012756617815276, 0.053025927245596086, -0.07359918774930464, 0.012289709687844343, -0.09077952070750257, -0.08417841506724376, -0.09146755635377136, 0.005886687248998343, 0.039652225366272366, -0.022853663018615637, -0.08242196024721743, 0.013481235276644583, -0.02255611602733571, -0.0363883299690871, 0.08105698090607343, -0.026306887231704386, 0.06803690272693345, 0.1479839394945305, 0.12905154197280533, 0.17895502760009346, 0.1691782620046765, -0.06682354308331091, 0.07623191615573406, 0.21064183088222008, 0.18529386543178172, 0.1155733821948841, 0.048012647829359364, 0.0286236051421441, 0.16787299918504392, -0.028536829463599533, 0.03928681281939099, 0.30056947271128415, 0.19112880633245316, 0.12078750707700597, 0.1620372724077003, 0.004279738902691899, 0.1822067742126028, 0.17629362973438856, 0.25669125918238667, 0.3301811736530552, 0.2714652788410682, 0.25986554663024575, 0.25914800174670116, 0.43743605217720805, 0.22912860635455623, 0.3499621259386155, 0.3441604449803355, 0.3981065647527507, 0.32589689683501644, 0.468086349270713, 0.28767233427263683, 0.3488562676565692, 0.38607631973522083, 0.40899273908279854, 0.44363328828620396, 0.6163877534352922, 0.626257738939209, 0.5430673511136312, 0.7168873409546186, 0.7047506325397179, 0.7149817736765808, 0.7397718948490235, 0.9033247163599492, 0.8412878363566938, 0.8650883793797643, 0.7588316260553303, 0.7779396304861195, 1.0111008572337246, 0.8770888753547198, 1.0796561808378913, 0.9896888671153208, 1.2414378357730893, 1.0297409963448116]}, {\"mode\": \"lines\", \"name\": \"Regressor KNN of 2 neighbours\", \"text\": \"MSE: 0.006319357394332275\", \"type\": \"scatter\", \"x\": [0.0, 0.10101010101010101, 0.20202020202020202, 0.30303030303030304, 0.40404040404040403, 0.5050505050505051, 0.6060606060606061, 0.7070707070707071, 0.8080808080808081, 0.9090909090909091, 1.0101010101010102, 1.1111111111111112, 1.2121212121212122, 1.3131313131313131, 1.4141414141414141, 1.5151515151515151, 1.6161616161616161, 1.7171717171717171, 1.8181818181818181, 1.9191919191919191, 2.0202020202020203, 2.121212121212121, 2.2222222222222223, 2.323232323232323, 2.4242424242424243, 2.525252525252525, 2.6262626262626263, 2.727272727272727, 2.8282828282828283, 2.929292929292929, 3.0303030303030303, 3.131313131313131, 3.2323232323232323, 3.3333333333333335, 3.4343434343434343, 3.5353535353535355, 3.6363636363636362, 3.7373737373737375, 3.8383838383838382, 3.9393939393939394, 4.040404040404041, 4.141414141414141, 4.242424242424242, 4.343434343434343, 4.444444444444445, 4.545454545454545, 4.646464646464646, 4.747474747474747, 4.848484848484849, 4.94949494949495, 5.05050505050505, 5.151515151515151, 5.252525252525253, 5.353535353535354, 5.454545454545454, 5.555555555555555, 5.656565656565657, 5.757575757575758, 5.858585858585858, 5.959595959595959, 6.0606060606060606, 6.161616161616162, 6.262626262626262, 6.363636363636363, 6.4646464646464645, 6.565656565656566, 6.666666666666667, 6.767676767676767, 6.8686868686868685, 6.96969696969697, 7.070707070707071, 7.171717171717171, 7.2727272727272725, 7.373737373737374, 7.474747474747475, 7.575757575757575, 7.6767676767676765, 7.777777777777778, 7.878787878787879, 7.979797979797979, 8.080808080808081, 8.181818181818182, 8.282828282828282, 8.383838383838384, 8.484848484848484, 8.585858585858587, 8.686868686868687, 8.787878787878787, 8.88888888888889, 8.98989898989899, 9.09090909090909, 9.191919191919192, 9.292929292929292, 9.393939393939394, 9.494949494949495, 9.595959595959595, 9.696969696969697, 9.797979797979798, 9.8989898989899, 10.0], \"y\": [-0.016843924267421262, -0.016843924267421262, -0.016843924267421262, 0.047728608821394694, 0.047728608821394694, 0.047728608821394694, 0.047728608821394694, 0.038470945031837796, 0.049295752718717625, -0.013753872873706236, -0.05291225655010749, -0.05291225655010749, -0.05291225655010749, -0.05291225655010749, -0.05291225655010749, -0.0699201908332884, -0.0699201908332884, -0.0699201908332884, -0.037625163535019615, -0.037625163535019615, -0.037625163535019615, -0.037625163535019615, 0.006077844948851614, 0.006077844948851614, 0.006077844948851614, 0.006077844948851614, 0.006077844948851614, 0.006077844948851614, -0.0451508144281147, -0.0451508144281147, -0.0451508144281147, -0.025563647670615103, -0.025563647670615103, -0.025563647670615103, -0.025563647670615103, 0.008548054669468327, 0.008548054669468327, 0.008548054669468327, -0.029472222998211405, -0.029472222998211405, -0.0363883299690871, -0.0363883299690871, 0.015824286378923177, 0.12349596516351347, 0.12349596516351347, 0.17895502760009346, 0.17895502760009346, 0.17406664480238498, 0.12270508908020528, 0.14343687351897708, 0.14343687351897708, 0.14343687351897708, 0.03831812648575173, 0.03831812648575173, 0.03831812648575173, 0.03831812648575173, 0.03831812648575173, 0.10987620573729863, 0.10987620573729863, 0.10987620573729863, 0.10987620573729863, 0.23129704258676068, 0.23129704258676068, 0.23129704258676068, 0.23129704258676068, 0.23129704258676068, 0.23129704258676068, 0.23129704258676068, 0.2986810878380423, 0.2986810878380423, 0.2986810878380423, 0.2986810878380423, 0.39699162305286473, 0.39699162305286473, 0.39699162305286473, 0.39699162305286473, 0.468086349270713, 0.4084713084636411, 0.4084713084636411, 0.4084713084636411, 0.4875570032978891, 0.4875570032978891, 0.5846625450264201, 0.5846625450264201, 0.5846625450264201, 0.6290245623951061, 0.7149817736765808, 0.7149817736765808, 0.8215483056044863, 0.8215483056044863, 0.8842065478698568, 0.8650883793797643, 0.8650883793797643, 0.8650883793797643, 0.9273886232475426, 0.9896888671153208, 0.9896888671153208, 0.9896888671153208, 0.9896888671153208, 0.9896888671153208]}, {\"mode\": \"lines\", \"name\": \"Regressor KNN of 3 neighbours\", \"text\": \"MSE: 0.006694795017370554\", \"type\": \"scatter\", \"x\": [0.0, 0.10101010101010101, 0.20202020202020202, 0.30303030303030304, 0.40404040404040403, 0.5050505050505051, 0.6060606060606061, 0.7070707070707071, 0.8080808080808081, 0.9090909090909091, 1.0101010101010102, 1.1111111111111112, 1.2121212121212122, 1.3131313131313131, 1.4141414141414141, 1.5151515151515151, 1.6161616161616161, 1.7171717171717171, 1.8181818181818181, 1.9191919191919191, 2.0202020202020203, 2.121212121212121, 2.2222222222222223, 2.323232323232323, 2.4242424242424243, 2.525252525252525, 2.6262626262626263, 2.727272727272727, 2.8282828282828283, 2.929292929292929, 3.0303030303030303, 3.131313131313131, 3.2323232323232323, 3.3333333333333335, 3.4343434343434343, 3.5353535353535355, 3.6363636363636362, 3.7373737373737375, 3.8383838383838382, 3.9393939393939394, 4.040404040404041, 4.141414141414141, 4.242424242424242, 4.343434343434343, 4.444444444444445, 4.545454545454545, 4.646464646464646, 4.747474747474747, 4.848484848484849, 4.94949494949495, 5.05050505050505, 5.151515151515151, 5.252525252525253, 5.353535353535354, 5.454545454545454, 5.555555555555555, 5.656565656565657, 5.757575757575758, 5.858585858585858, 5.959595959595959, 6.0606060606060606, 6.161616161616162, 6.262626262626262, 6.363636363636363, 6.4646464646464645, 6.565656565656566, 6.666666666666667, 6.767676767676767, 6.8686868686868685, 6.96969696969697, 7.070707070707071, 7.171717171717171, 7.2727272727272725, 7.373737373737374, 7.474747474747475, 7.575757575757575, 7.6767676767676765, 7.777777777777778, 7.878787878787879, 7.979797979797979, 8.080808080808081, 8.181818181818182, 8.282828282828282, 8.383838383838384, 8.484848484848484, 8.585858585858587, 8.686868686868687, 8.787878787878787, 8.88888888888889, 8.98989898989899, 9.09090909090909, 9.191919191919192, 9.292929292929292, 9.393939393939394, 9.494949494949495, 9.595959595959595, 9.696969696969697, 9.797979797979798, 9.8989898989899, 10.0], \"y\": [-0.009977651035302388, -0.009977651035302388, -0.009977651035302388, -0.009977651035302385, 0.05621473742584321, 0.05621473742584321, 0.05621473742584321, 0.05621473742584321, 0.03411546695545687, -0.026806667432506658, -0.026806667432506658, -0.026806667432506658, -0.026806667432506658, -0.026806667432506658, -0.06425087940556143, -0.06425087940556144, -0.06425087940556144, -0.06425087940556144, -0.04272086120671557, -0.02492414507292202, -0.02492414507292202, -0.02492414507292202, -0.024924145072922024, -0.024924145072922024, -0.024924145072922024, -0.026207943603266448, -0.026207943603266448, -0.026207943603266448, -0.026207943603266448, -0.026207943603266448, -0.016883134496652345, -0.01688313449665235, -0.01688313449665235, -0.024561137122855306, -0.024561137122855306, -0.024561137122855306, -0.006430740210050148, -0.006430740210050148, -0.0317775919885033, -0.0317775919885033, -0.0317775919885033, -0.0317775919885033, -0.0015799190704135814, 0.07020120011931329, 0.14198231930904012, 0.14198231930904012, 0.1756961057349545, 0.1756961057349545, 0.15201733634754355, 0.15201733634754355, 0.15201733634754355, 0.1116287982891045, 0.09575936128457452, 0.09575936128457452, 0.09575936128457452, 0.08925501976798554, 0.08925501976798554, 0.08925501976798554, 0.08925501976798554, 0.08925501976798554, 0.08925501976798554, 0.16373923010522182, 0.16373923010522182, 0.16373923010522182, 0.16373923010522182, 0.2628303273361792, 0.2628303273361792, 0.2628303273361792, 0.35514950831559916, 0.35514950831559916, 0.35514950831559916, 0.35514950831559916, 0.42068986512548084, 0.42068986512548084, 0.42068986512548084, 0.42068986512548084, 0.42068986512548084, 0.4283429887326651, 0.4283429887326651, 0.4283429887326651, 0.5060604525698031, 0.5060604525698031, 0.5060604525698031, 0.6281022879098069, 0.6281022879098069, 0.6576769661555977, 0.7232451474007284, 0.7232451474007284, 0.7860261282951845, 0.8360616635295791, 0.877833825039826, 0.8650883793797645, 0.8650883793797645, 0.8650883793797645, 0.9066218752916164, 0.9481553712034687, 0.9481553712034687, 0.9481553712034687, 0.9481553712034687, 0.9481553712034687]}, {\"mode\": \"lines\", \"name\": \"Regressor KNN of 4 neighbours\", \"text\": \"MSE: 0.007120036146010477\", \"type\": \"scatter\", \"x\": [0.0, 0.10101010101010101, 0.20202020202020202, 0.30303030303030304, 0.40404040404040403, 0.5050505050505051, 0.6060606060606061, 0.7070707070707071, 0.8080808080808081, 0.9090909090909091, 1.0101010101010102, 1.1111111111111112, 1.2121212121212122, 1.3131313131313131, 1.4141414141414141, 1.5151515151515151, 1.6161616161616161, 1.7171717171717171, 1.8181818181818181, 1.9191919191919191, 2.0202020202020203, 2.121212121212121, 2.2222222222222223, 2.323232323232323, 2.4242424242424243, 2.525252525252525, 2.6262626262626263, 2.727272727272727, 2.8282828282828283, 2.929292929292929, 3.0303030303030303, 3.131313131313131, 3.2323232323232323, 3.3333333333333335, 3.4343434343434343, 3.5353535353535355, 3.6363636363636362, 3.7373737373737375, 3.8383838383838382, 3.9393939393939394, 4.040404040404041, 4.141414141414141, 4.242424242424242, 4.343434343434343, 4.444444444444445, 4.545454545454545, 4.646464646464646, 4.747474747474747, 4.848484848484849, 4.94949494949495, 5.05050505050505, 5.151515151515151, 5.252525252525253, 5.353535353535354, 5.454545454545454, 5.555555555555555, 5.656565656565657, 5.757575757575758, 5.858585858585858, 5.959595959595959, 6.0606060606060606, 6.161616161616162, 6.262626262626262, 6.363636363636363, 6.4646464646464645, 6.565656565656566, 6.666666666666667, 6.767676767676767, 6.8686868686868685, 6.96969696969697, 7.070707070707071, 7.171717171717171, 7.2727272727272725, 7.373737373737374, 7.474747474747475, 7.575757575757575, 7.6767676767676765, 7.777777777777778, 7.878787878787879, 7.979797979797979, 8.080808080808081, 8.181818181818182, 8.282828282828282, 8.383838383838384, 8.484848484848484, 8.585858585858587, 8.686868686868687, 8.787878787878787, 8.88888888888889, 8.98989898989899, 9.09090909090909, 9.191919191919192, 9.292929292929292, 9.393939393939394, 9.494949494949495, 9.595959595959595, 9.696969696969697, 9.797979797979798, 9.8989898989899, 10.0], \"y\": [0.010813510382208265, 0.010813510382208265, 0.010813510382208265, 0.010813510382208267, 0.01081351038220827, 0.04851218077005616, 0.04851218077005616, 0.04851218077005616, 0.012358536079065782, -0.0018082519156949368, -0.0018082519156949368, -0.0018082519156949368, -0.0018082519156949368, -0.04183703185349732, -0.04183703185349732, -0.041837031853497325, -0.041837031853497325, -0.04526871004256356, -0.045268710042563554, -0.031921172942218384, -0.031921172942218384, -0.04138798898156716, -0.04138798898156716, -0.04138798898156716, -0.04138798898156716, -0.04138798898156716, -0.04138798898156716, -0.009742901360881745, -0.009742901360881745, -0.009742901360881745, -0.009742901360881743, -0.009742901360881745, -0.01830137987932319, -0.027517935334413254, -0.027517935334413254, -0.027517935334413254, -0.013920137649809386, -0.013920137649809386, -0.013920137649809384, -0.013920137649809384, -0.006823968309644112, -0.006823968309644112, -0.006823968309644114, 0.04355381759721319, 0.14878130498294923, 0.14878130498294923, 0.14878130498294923, 0.1508300583401494, 0.15875175916068102, 0.15875175916068102, 0.1260161642179975, 0.09087750000236441, 0.0908775000023644, 0.0908775000023644, 0.0908775000023644, 0.11960172254654416, 0.11960172254654416, 0.11960172254654416, 0.11960172254654416, 0.1348075845362562, 0.1348075845362562, 0.1348075845362562, 0.1348075845362562, 0.1348075845362562, 0.1348075845362562, 0.3141443328198127, 0.3141443328198127, 0.3141443328198127, 0.38338371855437764, 0.38338371855437764, 0.38338371855437764, 0.38338371855437764, 0.3833837185543777, 0.4027314657582529, 0.4027314657582529, 0.4027314657582529, 0.4027314657582529, 0.4027314657582529, 0.4027314657582529, 0.4027314657582529, 0.4965669267450306, 0.4965669267450306, 0.5582907828464976, 0.6498221593515005, 0.6498221593515005, 0.6498221593515006, 0.6782006983289541, 0.7682650396405336, 0.7682650396405336, 0.8433183424921253, 0.8746474636248105, 0.8746474636248106, 0.8746474636248106, 0.8962385013136536, 0.9273886232475426, 0.9273886232475426, 0.9273886232475426, 0.9273886232475426, 0.9273886232475426, 0.9273886232475426]}, {\"mode\": \"lines\", \"name\": \"Regressor KNN of 5 neighbours\", \"text\": \"MSE: 0.007355723656788619\", \"type\": \"scatter\", \"x\": [0.0, 0.10101010101010101, 0.20202020202020202, 0.30303030303030304, 0.40404040404040403, 0.5050505050505051, 0.6060606060606061, 0.7070707070707071, 0.8080808080808081, 0.9090909090909091, 1.0101010101010102, 1.1111111111111112, 1.2121212121212122, 1.3131313131313131, 1.4141414141414141, 1.5151515151515151, 1.6161616161616161, 1.7171717171717171, 1.8181818181818181, 1.9191919191919191, 2.0202020202020203, 2.121212121212121, 2.2222222222222223, 2.323232323232323, 2.4242424242424243, 2.525252525252525, 2.6262626262626263, 2.727272727272727, 2.8282828282828283, 2.929292929292929, 3.0303030303030303, 3.131313131313131, 3.2323232323232323, 3.3333333333333335, 3.4343434343434343, 3.5353535353535355, 3.6363636363636362, 3.7373737373737375, 3.8383838383838382, 3.9393939393939394, 4.040404040404041, 4.141414141414141, 4.242424242424242, 4.343434343434343, 4.444444444444445, 4.545454545454545, 4.646464646464646, 4.747474747474747, 4.848484848484849, 4.94949494949495, 5.05050505050505, 5.151515151515151, 5.252525252525253, 5.353535353535354, 5.454545454545454, 5.555555555555555, 5.656565656565657, 5.757575757575758, 5.858585858585858, 5.959595959595959, 6.0606060606060606, 6.161616161616162, 6.262626262626262, 6.363636363636363, 6.4646464646464645, 6.565656565656566, 6.666666666666667, 6.767676767676767, 6.8686868686868685, 6.96969696969697, 7.070707070707071, 7.171717171717171, 7.2727272727272725, 7.373737373737374, 7.474747474747475, 7.575757575757575, 7.6767676767676765, 7.777777777777778, 7.878787878787879, 7.979797979797979, 8.080808080808081, 8.181818181818182, 8.282828282828282, 8.383838383838384, 8.484848484848484, 8.585858585858587, 8.686868686868687, 8.787878787878787, 8.88888888888889, 8.98989898989899, 9.09090909090909, 9.191919191919192, 9.292929292929292, 9.393939393939394, 9.494949494949495, 9.595959595959595, 9.696969696969697, 9.797979797979798, 9.8989898989899, 10.0], \"y\": [0.013731710466305617, 0.013731710466305617, 0.013731710466305617, 0.013731710466305619, 0.013731710466305619, 0.028227293306023426, 0.028227293306023426, 0.028227293306023426, -0.0006956224467688732, -0.000695622446768877, -0.000695622446768877, -0.000695622446768877, -0.01883222655584981, -0.01883222655584981, -0.01883222655584981, -0.018832226555849815, -0.031134065873511845, -0.031134065873511845, -0.03611938966379621, -0.03611938966379621, -0.03611938966379621, -0.04369284249527523, -0.04369284249527523, -0.02517994611199926, -0.02517994611199926, -0.02517994611199926, -0.02517994611199926, -0.02517994611199926, -0.02517994611199926, -0.012305544294172539, -0.012305544294172537, -0.012305544294172539, -0.012305544294172539, -0.02929201426134802, -0.02929201426134802, -0.02929201426134802, -0.02929201426134802, 0.0024712704255391823, 0.0024712704255391836, 0.0024712704255391836, 0.0024712704255391836, 0.0303318308723034, 0.0303318308723034, 0.07063405959778925, 0.11174737799254195, 0.1342714272175062, 0.1342714272175062, 0.16279241284856355, 0.16279241284856352, 0.16279241284856352, 0.1366039368944167, 0.10653765240282684, 0.10653765240282682, 0.11092776126838215, 0.11092776126838215, 0.11092776126838215, 0.11092776126838215, 0.11092776126838215, 0.11092776126838215, 0.14997443380544898, 0.14997443380544898, 0.14997443380544898, 0.14997443380544898, 0.17302544699600825, 0.17302544699600825, 0.34493273610999275, 0.34493273610999275, 0.34493273610999275, 0.34493273610999275, 0.3764782283748159, 0.3764782283748159, 0.3764782283748159, 0.376478228374816, 0.3764782283748159, 0.3764782283748159, 0.3764782283748159, 0.4474367203944441, 0.4474367203944441, 0.4474367203944441, 0.4474367203944441, 0.49087081125016707, 0.49087081125016707, 0.5896289810125143, 0.5896289810125142, 0.6678121064510051, 0.6678121064510052, 0.7232255019351531, 0.7232255019351531, 0.7876297075883798, 0.8176510287290164, 0.8476723498696531, 0.8476723498696532, 0.8476723498696532, 0.914928574473987, 0.9149285744739869, 0.9149285744739869, 0.9149285744739869, 0.9149285744739869, 0.9149285744739869, 0.9149285744739869]}, {\"mode\": \"lines\", \"name\": \"Regressor KNN of 6 neighbours\", \"text\": \"MSE: 0.007573021020807711\", \"type\": \"scatter\", \"x\": [0.0, 0.10101010101010101, 0.20202020202020202, 0.30303030303030304, 0.40404040404040403, 0.5050505050505051, 0.6060606060606061, 0.7070707070707071, 0.8080808080808081, 0.9090909090909091, 1.0101010101010102, 1.1111111111111112, 1.2121212121212122, 1.3131313131313131, 1.4141414141414141, 1.5151515151515151, 1.6161616161616161, 1.7171717171717171, 1.8181818181818181, 1.9191919191919191, 2.0202020202020203, 2.121212121212121, 2.2222222222222223, 2.323232323232323, 2.4242424242424243, 2.525252525252525, 2.6262626262626263, 2.727272727272727, 2.8282828282828283, 2.929292929292929, 3.0303030303030303, 3.131313131313131, 3.2323232323232323, 3.3333333333333335, 3.4343434343434343, 3.5353535353535355, 3.6363636363636362, 3.7373737373737375, 3.8383838383838382, 3.9393939393939394, 4.040404040404041, 4.141414141414141, 4.242424242424242, 4.343434343434343, 4.444444444444445, 4.545454545454545, 4.646464646464646, 4.747474747474747, 4.848484848484849, 4.94949494949495, 5.05050505050505, 5.151515151515151, 5.252525252525253, 5.353535353535354, 5.454545454545454, 5.555555555555555, 5.656565656565657, 5.757575757575758, 5.858585858585858, 5.959595959595959, 6.0606060606060606, 6.161616161616162, 6.262626262626262, 6.363636363636363, 6.4646464646464645, 6.565656565656566, 6.666666666666667, 6.767676767676767, 6.8686868686868685, 6.96969696969697, 7.070707070707071, 7.171717171717171, 7.2727272727272725, 7.373737373737374, 7.474747474747475, 7.575757575757575, 7.6767676767676765, 7.777777777777778, 7.878787878787879, 7.979797979797979, 8.080808080808081, 8.181818181818182, 8.282828282828282, 8.383838383838384, 8.484848484848484, 8.585858585858587, 8.686868686868687, 8.787878787878787, 8.88888888888889, 8.98989898989899, 9.09090909090909, 9.191919191919192, 9.292929292929292, 9.393939393939394, 9.494949494949495, 9.595959595959595, 9.696969696969697, 9.797979797979798, 9.8989898989899, 10.0], \"y\": [0.002624382630236765, 0.002624382630236765, 0.002624382630236765, 0.002624382630236767, 0.002624382630236767, 0.014704034996668273, 0.014704034996668273, 0.014704034996668273, 0.014704034996668275, 0.014704034996668273, 0.014704034996668273, 0.014704034996668273, -0.01506770622505228, -0.01506770622505228, -0.01506770622505228, -0.015067706225052284, -0.013747222455469834, -0.025865406252714343, -0.02586540625271434, -0.02586540625271434, -0.04522941150441393, -0.045229411504413945, -0.045229411504413945, -0.02980199785168396, -0.02980199785168396, -0.024742641097888665, -0.024742641097888665, -0.024742641097888665, -0.024742641097888665, -0.024742641097888665, -0.016319341906658295, -0.016319341906658298, -0.0163193419066583, -0.024330363242577823, -0.024330363242577823, -0.013070528096634441, -0.013070528096634441, -0.013070528096634443, -0.013070528096634443, 0.03188522995463156, 0.03188522995463156, 0.05510236366026841, 0.05510236366026841, 0.05510236366026842, 0.08705809333227044, 0.10582813435307398, 0.14699982782829185, 0.14699982782829185, 0.14366245201202948, 0.14366245201202948, 0.1436624520120295, 0.11860721493570463, 0.11860721493570459, 0.12063617805776454, 0.12063617805776454, 0.12063617805776454, 0.12063617805776454, 0.13768401419716317, 0.13768401419716317, 0.13768401419716317, 0.13768401419716317, 0.13768401419716317, 0.13768401419716317, 0.22220226404179236, 0.22220226404179236, 0.2922145476153513, 0.3455866580344222, 0.3455866580344222, 0.3455866580344222, 0.3455866580344222, 0.3455866580344222, 0.3455866580344222, 0.4181081468022148, 0.4181081468022148, 0.4181081468022148, 0.4181081468022148, 0.46337515884764197, 0.46337515884764197, 0.46337515884764197, 0.46337515884764197, 0.46337515884764197, 0.5282226383212361, 0.569371875722214, 0.6146527999852657, 0.7070642081024957, 0.7070642081024957, 0.7070642081024957, 0.7070642081024957, 0.8005394862202772, 0.800539486220277, 0.8255572538374744, 0.8255572538374745, 0.8713417694105979, 0.9129945981216473, 0.9129945981216473, 0.9129945981216473, 0.9129945981216473, 0.9129945981216473, 0.9129945981216473, 0.9129945981216473]}],\n",
       "                        {\"template\": {\"data\": {\"bar\": [{\"error_x\": {\"color\": \"#2a3f5f\"}, \"error_y\": {\"color\": \"#2a3f5f\"}, \"marker\": {\"line\": {\"color\": \"#E5ECF6\", \"width\": 0.5}}, \"type\": \"bar\"}], \"barpolar\": [{\"marker\": {\"line\": {\"color\": \"#E5ECF6\", \"width\": 0.5}}, \"type\": \"barpolar\"}], \"carpet\": [{\"aaxis\": {\"endlinecolor\": \"#2a3f5f\", \"gridcolor\": \"white\", \"linecolor\": \"white\", \"minorgridcolor\": \"white\", \"startlinecolor\": \"#2a3f5f\"}, \"baxis\": {\"endlinecolor\": \"#2a3f5f\", \"gridcolor\": \"white\", \"linecolor\": \"white\", \"minorgridcolor\": \"white\", \"startlinecolor\": \"#2a3f5f\"}, \"type\": \"carpet\"}], \"choropleth\": [{\"colorbar\": {\"outlinewidth\": 0, \"ticks\": \"\"}, \"type\": \"choropleth\"}], \"contour\": [{\"colorbar\": {\"outlinewidth\": 0, \"ticks\": \"\"}, \"colorscale\": [[0.0, \"#0d0887\"], [0.1111111111111111, \"#46039f\"], [0.2222222222222222, \"#7201a8\"], [0.3333333333333333, \"#9c179e\"], [0.4444444444444444, \"#bd3786\"], [0.5555555555555556, \"#d8576b\"], [0.6666666666666666, \"#ed7953\"], [0.7777777777777778, \"#fb9f3a\"], [0.8888888888888888, \"#fdca26\"], [1.0, \"#f0f921\"]], \"type\": \"contour\"}], \"contourcarpet\": [{\"colorbar\": {\"outlinewidth\": 0, \"ticks\": \"\"}, \"type\": \"contourcarpet\"}], \"heatmap\": [{\"colorbar\": {\"outlinewidth\": 0, \"ticks\": \"\"}, \"colorscale\": [[0.0, \"#0d0887\"], [0.1111111111111111, \"#46039f\"], [0.2222222222222222, \"#7201a8\"], [0.3333333333333333, \"#9c179e\"], [0.4444444444444444, \"#bd3786\"], [0.5555555555555556, \"#d8576b\"], [0.6666666666666666, \"#ed7953\"], [0.7777777777777778, \"#fb9f3a\"], [0.8888888888888888, \"#fdca26\"], [1.0, \"#f0f921\"]], \"type\": \"heatmap\"}], \"heatmapgl\": [{\"colorbar\": {\"outlinewidth\": 0, \"ticks\": \"\"}, \"colorscale\": [[0.0, \"#0d0887\"], [0.1111111111111111, \"#46039f\"], [0.2222222222222222, \"#7201a8\"], [0.3333333333333333, \"#9c179e\"], [0.4444444444444444, \"#bd3786\"], [0.5555555555555556, \"#d8576b\"], [0.6666666666666666, \"#ed7953\"], [0.7777777777777778, \"#fb9f3a\"], [0.8888888888888888, \"#fdca26\"], [1.0, \"#f0f921\"]], \"type\": \"heatmapgl\"}], \"histogram\": [{\"marker\": {\"colorbar\": {\"outlinewidth\": 0, \"ticks\": \"\"}}, \"type\": \"histogram\"}], \"histogram2d\": [{\"colorbar\": {\"outlinewidth\": 0, \"ticks\": \"\"}, \"colorscale\": [[0.0, \"#0d0887\"], [0.1111111111111111, \"#46039f\"], [0.2222222222222222, \"#7201a8\"], [0.3333333333333333, \"#9c179e\"], [0.4444444444444444, \"#bd3786\"], [0.5555555555555556, \"#d8576b\"], [0.6666666666666666, \"#ed7953\"], [0.7777777777777778, \"#fb9f3a\"], [0.8888888888888888, \"#fdca26\"], [1.0, \"#f0f921\"]], \"type\": \"histogram2d\"}], \"histogram2dcontour\": [{\"colorbar\": {\"outlinewidth\": 0, \"ticks\": \"\"}, \"colorscale\": [[0.0, \"#0d0887\"], [0.1111111111111111, \"#46039f\"], [0.2222222222222222, \"#7201a8\"], [0.3333333333333333, \"#9c179e\"], [0.4444444444444444, \"#bd3786\"], [0.5555555555555556, \"#d8576b\"], [0.6666666666666666, \"#ed7953\"], [0.7777777777777778, \"#fb9f3a\"], [0.8888888888888888, \"#fdca26\"], [1.0, \"#f0f921\"]], \"type\": \"histogram2dcontour\"}], \"mesh3d\": [{\"colorbar\": {\"outlinewidth\": 0, \"ticks\": \"\"}, \"type\": \"mesh3d\"}], \"parcoords\": [{\"line\": {\"colorbar\": {\"outlinewidth\": 0, \"ticks\": \"\"}}, \"type\": \"parcoords\"}], \"scatter\": [{\"marker\": {\"colorbar\": {\"outlinewidth\": 0, \"ticks\": \"\"}}, \"type\": \"scatter\"}], \"scatter3d\": [{\"line\": {\"colorbar\": {\"outlinewidth\": 0, \"ticks\": \"\"}}, \"marker\": {\"colorbar\": {\"outlinewidth\": 0, \"ticks\": \"\"}}, \"type\": \"scatter3d\"}], \"scattercarpet\": [{\"marker\": {\"colorbar\": {\"outlinewidth\": 0, \"ticks\": \"\"}}, \"type\": \"scattercarpet\"}], \"scattergeo\": [{\"marker\": {\"colorbar\": {\"outlinewidth\": 0, \"ticks\": \"\"}}, \"type\": \"scattergeo\"}], \"scattergl\": [{\"marker\": {\"colorbar\": {\"outlinewidth\": 0, \"ticks\": \"\"}}, \"type\": \"scattergl\"}], \"scattermapbox\": [{\"marker\": {\"colorbar\": {\"outlinewidth\": 0, \"ticks\": \"\"}}, \"type\": \"scattermapbox\"}], \"scatterpolar\": [{\"marker\": {\"colorbar\": {\"outlinewidth\": 0, \"ticks\": \"\"}}, \"type\": \"scatterpolar\"}], \"scatterpolargl\": [{\"marker\": {\"colorbar\": {\"outlinewidth\": 0, \"ticks\": \"\"}}, \"type\": \"scatterpolargl\"}], \"scatterternary\": [{\"marker\": {\"colorbar\": {\"outlinewidth\": 0, \"ticks\": \"\"}}, \"type\": \"scatterternary\"}], \"surface\": [{\"colorbar\": {\"outlinewidth\": 0, \"ticks\": \"\"}, \"colorscale\": [[0.0, \"#0d0887\"], [0.1111111111111111, \"#46039f\"], [0.2222222222222222, \"#7201a8\"], [0.3333333333333333, \"#9c179e\"], [0.4444444444444444, \"#bd3786\"], [0.5555555555555556, \"#d8576b\"], [0.6666666666666666, \"#ed7953\"], [0.7777777777777778, \"#fb9f3a\"], [0.8888888888888888, \"#fdca26\"], [1.0, \"#f0f921\"]], \"type\": \"surface\"}], \"table\": [{\"cells\": {\"fill\": {\"color\": \"#EBF0F8\"}, \"line\": {\"color\": \"white\"}}, \"header\": {\"fill\": {\"color\": \"#C8D4E3\"}, \"line\": {\"color\": \"white\"}}, \"type\": \"table\"}]}, \"layout\": {\"annotationdefaults\": {\"arrowcolor\": \"#2a3f5f\", \"arrowhead\": 0, \"arrowwidth\": 1}, \"colorscale\": {\"diverging\": [[0, \"#8e0152\"], [0.1, \"#c51b7d\"], [0.2, \"#de77ae\"], [0.3, \"#f1b6da\"], [0.4, \"#fde0ef\"], [0.5, \"#f7f7f7\"], [0.6, \"#e6f5d0\"], [0.7, \"#b8e186\"], [0.8, \"#7fbc41\"], [0.9, \"#4d9221\"], [1, \"#276419\"]], \"sequential\": [[0.0, \"#0d0887\"], [0.1111111111111111, \"#46039f\"], [0.2222222222222222, \"#7201a8\"], [0.3333333333333333, \"#9c179e\"], [0.4444444444444444, \"#bd3786\"], [0.5555555555555556, \"#d8576b\"], [0.6666666666666666, \"#ed7953\"], [0.7777777777777778, \"#fb9f3a\"], [0.8888888888888888, \"#fdca26\"], [1.0, \"#f0f921\"]], \"sequentialminus\": [[0.0, \"#0d0887\"], [0.1111111111111111, \"#46039f\"], [0.2222222222222222, \"#7201a8\"], [0.3333333333333333, \"#9c179e\"], [0.4444444444444444, \"#bd3786\"], [0.5555555555555556, \"#d8576b\"], [0.6666666666666666, \"#ed7953\"], [0.7777777777777778, \"#fb9f3a\"], [0.8888888888888888, \"#fdca26\"], [1.0, \"#f0f921\"]]}, \"colorway\": [\"#636efa\", \"#EF553B\", \"#00cc96\", \"#ab63fa\", \"#FFA15A\", \"#19d3f3\", \"#FF6692\", \"#B6E880\", \"#FF97FF\", \"#FECB52\"], \"font\": {\"color\": \"#2a3f5f\"}, \"geo\": {\"bgcolor\": \"white\", \"lakecolor\": \"white\", \"landcolor\": \"#E5ECF6\", \"showlakes\": true, \"showland\": true, \"subunitcolor\": \"white\"}, \"hoverlabel\": {\"align\": \"left\"}, \"hovermode\": \"closest\", \"mapbox\": {\"style\": \"light\"}, \"paper_bgcolor\": \"white\", \"plot_bgcolor\": \"#E5ECF6\", \"polar\": {\"angularaxis\": {\"gridcolor\": \"white\", \"linecolor\": \"white\", \"ticks\": \"\"}, \"bgcolor\": \"#E5ECF6\", \"radialaxis\": {\"gridcolor\": \"white\", \"linecolor\": \"white\", \"ticks\": \"\"}}, \"scene\": {\"xaxis\": {\"backgroundcolor\": \"#E5ECF6\", \"gridcolor\": \"white\", \"gridwidth\": 2, \"linecolor\": \"white\", \"showbackground\": true, \"ticks\": \"\", \"zerolinecolor\": \"white\"}, \"yaxis\": {\"backgroundcolor\": \"#E5ECF6\", \"gridcolor\": \"white\", \"gridwidth\": 2, \"linecolor\": \"white\", \"showbackground\": true, \"ticks\": \"\", \"zerolinecolor\": \"white\"}, \"zaxis\": {\"backgroundcolor\": \"#E5ECF6\", \"gridcolor\": \"white\", \"gridwidth\": 2, \"linecolor\": \"white\", \"showbackground\": true, \"ticks\": \"\", \"zerolinecolor\": \"white\"}}, \"shapedefaults\": {\"line\": {\"color\": \"#2a3f5f\"}}, \"ternary\": {\"aaxis\": {\"gridcolor\": \"white\", \"linecolor\": \"white\", \"ticks\": \"\"}, \"baxis\": {\"gridcolor\": \"white\", \"linecolor\": \"white\", \"ticks\": \"\"}, \"bgcolor\": \"#E5ECF6\", \"caxis\": {\"gridcolor\": \"white\", \"linecolor\": \"white\", \"ticks\": \"\"}}, \"title\": {\"x\": 0.05}, \"xaxis\": {\"automargin\": true, \"gridcolor\": \"white\", \"linecolor\": \"white\", \"ticks\": \"\", \"zerolinecolor\": \"white\", \"zerolinewidth\": 2}, \"yaxis\": {\"automargin\": true, \"gridcolor\": \"white\", \"linecolor\": \"white\", \"ticks\": \"\", \"zerolinecolor\": \"white\", \"zerolinewidth\": 2}}}, \"title\": {\"text\": \"Linear regression on synthetic data\"}},\n",
       "                        {\"responsive\": true}\n",
       "                    ).then(function(){\n",
       "                            \n",
       "var gd = document.getElementById('f95033ab-d334-4281-9896-f616d3e72474');\n",
       "var x = new MutationObserver(function (mutations, observer) {{\n",
       "        var display = window.getComputedStyle(gd).display;\n",
       "        if (!display || display === 'none') {{\n",
       "            console.log([gd, 'removed!']);\n",
       "            Plotly.purge(gd);\n",
       "            observer.disconnect();\n",
       "        }}\n",
       "}});\n",
       "\n",
       "// Listen for the removal of the full notebook cells\n",
       "var notebookContainer = gd.closest('#notebook-container');\n",
       "if (notebookContainer) {{\n",
       "    x.observe(notebookContainer, {childList: true});\n",
       "}}\n",
       "\n",
       "// Listen for the clearing of the current output cell\n",
       "var outputEl = gd.closest('.output');\n",
       "if (outputEl) {{\n",
       "    x.observe(outputEl, {childList: true});\n",
       "}}\n",
       "\n",
       "                        })\n",
       "                };\n",
       "                });\n",
       "            </script>\n",
       "        </div>"
      ]
     },
     "metadata": {},
     "output_type": "display_data"
    }
   ],
   "source": [
    "iplot(reg_plotly_plot(x,y,predictions,[\"KNN of \"+str(k)+\" neighbours\" for k in np.array(ks)]))"
   ]
  },
  {
   "cell_type": "markdown",
   "metadata": {},
   "source": [
    "As we can see these models do not extrapolate well, as they need the neighbours, so they are intended for intrapolation. This is the main reason why most of the people uses K-NN for classification instead of using it for regression."
   ]
  },
  {
   "cell_type": "markdown",
   "metadata": {},
   "source": [
    "### Decision Tree\n",
    "\n",
    "Models dicussed above, were designed before 1970. Decision Trees, and its variants, that we will analyze during the last part of the course, were designed around 1975, and its most recent versions are very new.\n",
    "\n",
    "Building a DT from scratch is a little bit more difficult than the previous models, so we will split the process in the following steps:\n",
    "* General Overview https://en.wikipedia.org/wiki/Decision_tree\n",
    "* Minimization metric(s)\n",
    "* Splitting the data\n",
    "* Learning algorithm\n",
    "* Building a tree\n",
    "* Prediction\n",
    "\n",
    "#### Minimization metrics"
   ]
  },
  {
   "cell_type": "code",
   "execution_count": 27,
   "metadata": {},
   "outputs": [],
   "source": [
    "import pandas as pd"
   ]
  },
  {
   "cell_type": "code",
   "execution_count": 28,
   "metadata": {},
   "outputs": [],
   "source": [
    "def reg_metric(df1,df2):\n",
    "    size1,size2 = len(df1),len(df2)\n",
    "    m1 = df1.iloc[:,-1].mean()\n",
    "    m2 = df2.iloc[:,-1].mean()\n",
    "    \n",
    "    reg1 = np.sum((df1.iloc[:,-1].values - m1)**2) * (size1 / (size1+size2))\n",
    "    reg2 = np.sum((df2.iloc[:,-1].values - m2)**2) * (size2 / (size1+size2))\n",
    "    \n",
    "    return  reg1+reg2  "
   ]
  },
  {
   "cell_type": "code",
   "execution_count": 29,
   "metadata": {},
   "outputs": [],
   "source": [
    "def gini_metric(df1,df2,classes):\n",
    "    size1,size2 = len(df1),len(df2)\n",
    "    proportions1 = []\n",
    "    proportions2 = []\n",
    "    \n",
    "    for c in classes:\n",
    "        proportions1.append((len(df1[df1.iloc[:,-1] == c])/size1)**2)\n",
    "        proportions2.append((len(df2[df2.iloc[:,-1] == c])/size2)**2)\n",
    "    \n",
    "    gini = (1.0 - sum(proportions1)) * (size1 / (size1+size2)) + \\\n",
    "           (1.0 - sum(proportions2)) * (size2 / (size1+size2)) \n",
    "    \n",
    "    return gini"
   ]
  },
  {
   "cell_type": "markdown",
   "metadata": {},
   "source": [
    "#### Splitting dataset"
   ]
  },
  {
   "cell_type": "code",
   "execution_count": 30,
   "metadata": {},
   "outputs": [],
   "source": [
    "def split_df(column,value,df):\n",
    "    return df[df[column] < value],df[df[column] >= value]"
   ]
  },
  {
   "cell_type": "markdown",
   "metadata": {},
   "source": [
    "#### Learning algorithm"
   ]
  },
  {
   "cell_type": "code",
   "execution_count": 31,
   "metadata": {},
   "outputs": [],
   "source": [
    "def best_split(df,kind=\"clas\"):\n",
    "    \"\"\"\n",
    "    labels column must be the last column\n",
    "    \"\"\"\n",
    "    \n",
    "    if kind == \"clas\":\n",
    "        classes = df.iloc[:,-1].unique()\n",
    "\n",
    "    b_index, b_value, b_score, b_groups = None, None, 1e1000, None\n",
    "    m = 1e1000\n",
    "    for column in df.columns.values.tolist()[:-1]:\n",
    "        for idx,value in enumerate(df[column].values.tolist()):\n",
    "            df1,df2 = split_df(column,value,df)\n",
    "            try:\n",
    "                if kind == \"clas\":\n",
    "                    m = gini_metric(df1,df2,classes)\n",
    "                else:\n",
    "                    m = reg_metric(df1,df2)\n",
    "            except ZeroDivisionError:\n",
    "                continue\n",
    "            if m < b_score:\n",
    "                b_index, b_value, b_var, b_score, b_group = idx, value, column, m, [df1,df2]\n",
    "    return {\"split_idx\":b_index, \n",
    "            \"split_val\":b_value, \n",
    "            \"split_var\":b_var, \n",
    "            \"metric\":b_score, \n",
    "            \"left\":b_group[0],\n",
    "            \"right\":b_group[1]\n",
    "            }"
   ]
  },
  {
   "cell_type": "code",
   "execution_count": 32,
   "metadata": {},
   "outputs": [
    {
     "data": {
      "text/plain": [
       "7.070707070707071"
      ]
     },
     "execution_count": 32,
     "metadata": {},
     "output_type": "execute_result"
    }
   ],
   "source": [
    "node = best_split(pd.DataFrame([x,y]).T,kind=\"reg\")\n",
    "node[\"split_val\"]"
   ]
  },
  {
   "cell_type": "markdown",
   "metadata": {},
   "source": [
    "#### Building a tree\n",
    "* When a node is a leaf\n",
    "* Recursive Splitting"
   ]
  },
  {
   "cell_type": "code",
   "execution_count": 33,
   "metadata": {},
   "outputs": [],
   "source": [
    "def leaf(df,kind):\n",
    "    if kind == \"clas\":\n",
    "        return np.round(df.iloc[:,-1].mean())\n",
    "    else:\n",
    "        return df.iloc[:,-1].mean()"
   ]
  },
  {
   "cell_type": "code",
   "execution_count": 34,
   "metadata": {},
   "outputs": [],
   "source": [
    "def split(node,max_depth,min_examples,depth,kind=\"clas\"):\n",
    "    df_left,df_right = node[\"left\"].copy(),node[\"right\"].copy()\n",
    "    \n",
    "    ## if the best split is no split\n",
    "    if len(df_left) == 0 or len(df_right) == 0:\n",
    "        df_left = df_right = leaf(pd.concat([df_left,df_right]),kind)\n",
    "\n",
    "    ## check for max depth\n",
    "    if depth >= max_depth:\n",
    "        node[\"left\"], node[\"right\"] = leaf(df_left,kind), leaf(df_right,kind)\n",
    "        return\n",
    "    \n",
    "    ## process left child\n",
    "    if len(df_left) <= min_examples:\n",
    "        node[\"left\"] = leaf(df_left,kind)\n",
    "    else:\n",
    "        node[\"left\"] = best_split(df_left,kind)\n",
    "        split(node[\"left\"], max_depth, min_examples, depth+1,kind)\n",
    "    \n",
    "    ## process right child\n",
    "    if len(df_right) <= min_examples:\n",
    "        node[\"right\"] = leaf(df_right,kind)\n",
    "    else:\n",
    "        node[\"right\"] = best_split(df_right,kind)\n",
    "        split(node[\"right\"], max_depth, min_examples, depth+1,kind)"
   ]
  },
  {
   "cell_type": "markdown",
   "metadata": {},
   "source": [
    "Instantiate the tree"
   ]
  },
  {
   "cell_type": "code",
   "execution_count": 35,
   "metadata": {},
   "outputs": [],
   "source": [
    "def build_tree(train_df, max_depth, min_examples,kind=\"clas\"):\n",
    "    root = best_split(train_df,kind)\n",
    "    split(root,max_depth,min_examples,1,kind)\n",
    "    return root"
   ]
  },
  {
   "cell_type": "code",
   "execution_count": 36,
   "metadata": {},
   "outputs": [],
   "source": [
    "tree = build_tree(pd.DataFrame([x,y]).T,5,10,kind=\"reg\")"
   ]
  },
  {
   "cell_type": "markdown",
   "metadata": {},
   "source": [
    "Print function"
   ]
  },
  {
   "cell_type": "code",
   "execution_count": 37,
   "metadata": {},
   "outputs": [],
   "source": [
    "def print_tree(node, depth=0):\n",
    "    if isinstance(node, dict):\n",
    "        print('%s[Split at idx %d with value < %.3f]' % ((depth*' ', (node['split_idx']+1), node['split_val'])))\n",
    "        print_tree(node['left'], depth+1)\n",
    "        print_tree(node['right'], depth+1)\n",
    "    else:\n",
    "        print('%s[%s]' % ((depth*' ', node)))"
   ]
  },
  {
   "cell_type": "code",
   "execution_count": 38,
   "metadata": {
    "scrolled": false
   },
   "outputs": [
    {
     "name": "stdout",
     "output_type": "stream",
     "text": [
      "[Split at idx 71 with value < 7.071]\n",
      " [Split at idx 44 with value < 4.343]\n",
      "  [Split at idx 15 with value < 1.414]\n",
      "   [Split at idx 5 with value < 0.404]\n",
      "    [-0.09993146838233324]\n",
      "    [0.02420759209743657]\n",
      "   [Split at idx 16 with value < 2.929]\n",
      "    [Split at idx 8 with value < 2.121]\n",
      "     [-0.009291801409679256]\n",
      "     [0.033098857591561906]\n",
      "    [Split at idx 6 with value < 3.434]\n",
      "     [-0.0655469940379956]\n",
      "     [-0.0056055364106635044]\n",
      "  [Split at idx 16 with value < 5.859]\n",
      "   [Split at idx 10 with value < 5.253]\n",
      "    [0.1220610825761627]\n",
      "    [0.06180543628453716]\n",
      "   [Split at idx 8 with value < 6.566]\n",
      "    [0.16247188591116096]\n",
      "    [0.2754702520106914]\n",
      " [Split at idx 16 with value < 8.586]\n",
      "  [Split at idx 12 with value < 8.182]\n",
      "   [Split at idx 5 with value < 7.475]\n",
      "    [0.3401718073626788]\n",
      "    [0.3748124959436722]\n",
      "   [0.5573365329435841]\n",
      "  [Split at idx 10 with value < 9.495]\n",
      "   [0.780318203406422]\n",
      "   [1.0381189354432594]\n"
     ]
    }
   ],
   "source": [
    "print_tree(tree)"
   ]
  },
  {
   "cell_type": "markdown",
   "metadata": {},
   "source": [
    "Now use the predict function"
   ]
  },
  {
   "cell_type": "code",
   "execution_count": 39,
   "metadata": {},
   "outputs": [],
   "source": [
    "def predict(tree, example):\n",
    "    if (example[tree[\"split_var\"]] < tree[\"split_val\"]).values[0]:\n",
    "        if isinstance(tree[\"left\"], dict):\n",
    "            return predict(tree[\"left\"], example)\n",
    "        else:\n",
    "            return tree[\"left\"]\n",
    "    else:\n",
    "        if isinstance(tree[\"right\"], dict):\n",
    "            return predict(tree[\"right\"], example)\n",
    "        else:\n",
    "            return tree[\"right\"]\n"
   ]
  },
  {
   "cell_type": "code",
   "execution_count": 40,
   "metadata": {},
   "outputs": [
    {
     "name": "stdout",
     "output_type": "stream",
     "text": [
      "-0.09993146838233324\n",
      "-0.09993146838233324\n",
      "-0.09993146838233324\n",
      "-0.09993146838233324\n",
      "0.02420759209743657\n"
     ]
    }
   ],
   "source": [
    "for i in range(5):#len(pd.DataFrame([x,y]).T)):\n",
    "    example = pd.DataFrame([x,y]).T.iloc[i,:].to_frame().T\n",
    "    print(predict(tree,example))"
   ]
  },
  {
   "cell_type": "markdown",
   "metadata": {},
   "source": [
    "Our particular example"
   ]
  },
  {
   "cell_type": "code",
   "execution_count": 41,
   "metadata": {},
   "outputs": [
    {
     "data": {
      "application/vnd.plotly.v1+json": {
       "config": {
        "linkText": "Export to plot.ly",
        "plotlyServerURL": "https://plot.ly",
        "showLink": false
       },
       "data": [
        {
         "mode": "markers",
         "name": "Data",
         "type": "scatter",
         "x": [
          0,
          0.10101010101010101,
          0.20202020202020202,
          0.30303030303030304,
          0.40404040404040403,
          0.5050505050505051,
          0.6060606060606061,
          0.7070707070707071,
          0.8080808080808081,
          0.9090909090909091,
          1.0101010101010102,
          1.1111111111111112,
          1.2121212121212122,
          1.3131313131313131,
          1.4141414141414141,
          1.5151515151515151,
          1.6161616161616161,
          1.7171717171717171,
          1.8181818181818181,
          1.9191919191919191,
          2.0202020202020203,
          2.121212121212121,
          2.2222222222222223,
          2.323232323232323,
          2.4242424242424243,
          2.525252525252525,
          2.6262626262626263,
          2.727272727272727,
          2.8282828282828283,
          2.929292929292929,
          3.0303030303030303,
          3.131313131313131,
          3.2323232323232323,
          3.3333333333333335,
          3.4343434343434343,
          3.5353535353535355,
          3.6363636363636362,
          3.7373737373737375,
          3.8383838383838382,
          3.9393939393939394,
          4.040404040404041,
          4.141414141414141,
          4.242424242424242,
          4.343434343434343,
          4.444444444444445,
          4.545454545454545,
          4.646464646464646,
          4.747474747474747,
          4.848484848484849,
          4.94949494949495,
          5.05050505050505,
          5.151515151515151,
          5.252525252525253,
          5.353535353535354,
          5.454545454545454,
          5.555555555555555,
          5.656565656565657,
          5.757575757575758,
          5.858585858585858,
          5.959595959595959,
          6.0606060606060606,
          6.161616161616162,
          6.262626262626262,
          6.363636363636363,
          6.4646464646464645,
          6.565656565656566,
          6.666666666666667,
          6.767676767676767,
          6.8686868686868685,
          6.96969696969697,
          7.070707070707071,
          7.171717171717171,
          7.2727272727272725,
          7.373737373737374,
          7.474747474747475,
          7.575757575757575,
          7.6767676767676765,
          7.777777777777778,
          7.878787878787879,
          7.979797979797979,
          8.080808080808081,
          8.181818181818182,
          8.282828282828282,
          8.383838383838384,
          8.484848484848484,
          8.585858585858587,
          8.686868686868687,
          8.787878787878787,
          8.88888888888889,
          8.98989898989899,
          9.09090909090909,
          9.191919191919192,
          9.292929292929292,
          9.393939393939394,
          9.494949494949495,
          9.595959595959595,
          9.696969696969697,
          9.797979797979798,
          9.8989898989899,
          10
         ],
         "y": [
          -0.12539017074869654,
          -0.1461529266831243,
          0.013614226054457107,
          -0.14179700215196928,
          0.13700098467170407,
          0.09170232221385402,
          0.0037548954289353623,
          0.07318699463474022,
          -0.02643432048486337,
          0.02540451080269502,
          -0.05291225655010749,
          -0.09374024301950366,
          -0.03718045018222975,
          0.12129348345914123,
          -0.04663290756162806,
          0.0409206668928876,
          0.03202822642859259,
          -0.012066301615040482,
          -0.0869281251164693,
          0.04314353413546195,
          -0.0355077030315591,
          0.028231988813847676,
          0.10478965054586878,
          -0.030453616289173188,
          0.011677798046430064,
          0.04002846390083738,
          0.00047789185127316506,
          0.057012756617815276,
          0.053025927245596086,
          -0.07359918774930464,
          0.012289709687844343,
          -0.09077952070750257,
          -0.08417841506724376,
          -0.09146755635377136,
          0.005886687248998343,
          0.039652225366272366,
          -0.022853663018615637,
          -0.08242196024721743,
          0.013481235276644583,
          -0.02255611602733571,
          -0.0363883299690871,
          0.08105698090607343,
          -0.026306887231704386,
          0.06803690272693345,
          0.1479839394945305,
          0.12905154197280533,
          0.17895502760009346,
          0.1691782620046765,
          -0.06682354308331091,
          0.07623191615573406,
          0.21064183088222008,
          0.18529386543178172,
          0.1155733821948841,
          0.048012647829359364,
          0.0286236051421441,
          0.16787299918504392,
          -0.028536829463599533,
          0.03928681281939099,
          0.30056947271128415,
          0.19112880633245316,
          0.12078750707700597,
          0.1620372724077003,
          0.004279738902691899,
          0.1822067742126028,
          0.17629362973438856,
          0.25669125918238667,
          0.3301811736530552,
          0.2714652788410682,
          0.25986554663024575,
          0.25914800174670116,
          0.43743605217720805,
          0.22912860635455623,
          0.3499621259386155,
          0.3441604449803355,
          0.3981065647527507,
          0.32589689683501644,
          0.468086349270713,
          0.28767233427263683,
          0.3488562676565692,
          0.38607631973522083,
          0.40899273908279854,
          0.44363328828620396,
          0.6163877534352922,
          0.626257738939209,
          0.5430673511136312,
          0.7168873409546186,
          0.7047506325397179,
          0.7149817736765808,
          0.7397718948490235,
          0.9033247163599492,
          0.8412878363566938,
          0.8650883793797643,
          0.7588316260553303,
          0.7779396304861195,
          1.0111008572337246,
          0.8770888753547198,
          1.0796561808378913,
          0.9896888671153208,
          1.2414378357730893,
          1.0297409963448116
         ]
        },
        {
         "mode": "lines",
         "name": "Regressor Decision Tree",
         "text": "MSE: 0.01315928703769094",
         "type": "scatter",
         "x": [
          0,
          0.10101010101010101,
          0.20202020202020202,
          0.30303030303030304,
          0.40404040404040403,
          0.5050505050505051,
          0.6060606060606061,
          0.7070707070707071,
          0.8080808080808081,
          0.9090909090909091,
          1.0101010101010102,
          1.1111111111111112,
          1.2121212121212122,
          1.3131313131313131,
          1.4141414141414141,
          1.5151515151515151,
          1.6161616161616161,
          1.7171717171717171,
          1.8181818181818181,
          1.9191919191919191,
          2.0202020202020203,
          2.121212121212121,
          2.2222222222222223,
          2.323232323232323,
          2.4242424242424243,
          2.525252525252525,
          2.6262626262626263,
          2.727272727272727,
          2.8282828282828283,
          2.929292929292929,
          3.0303030303030303,
          3.131313131313131,
          3.2323232323232323,
          3.3333333333333335,
          3.4343434343434343,
          3.5353535353535355,
          3.6363636363636362,
          3.7373737373737375,
          3.8383838383838382,
          3.9393939393939394,
          4.040404040404041,
          4.141414141414141,
          4.242424242424242,
          4.343434343434343,
          4.444444444444445,
          4.545454545454545,
          4.646464646464646,
          4.747474747474747,
          4.848484848484849,
          4.94949494949495,
          5.05050505050505,
          5.151515151515151,
          5.252525252525253,
          5.353535353535354,
          5.454545454545454,
          5.555555555555555,
          5.656565656565657,
          5.757575757575758,
          5.858585858585858,
          5.959595959595959,
          6.0606060606060606,
          6.161616161616162,
          6.262626262626262,
          6.363636363636363,
          6.4646464646464645,
          6.565656565656566,
          6.666666666666667,
          6.767676767676767,
          6.8686868686868685,
          6.96969696969697,
          7.070707070707071,
          7.171717171717171,
          7.2727272727272725,
          7.373737373737374,
          7.474747474747475,
          7.575757575757575,
          7.6767676767676765,
          7.777777777777778,
          7.878787878787879,
          7.979797979797979,
          8.080808080808081,
          8.181818181818182,
          8.282828282828282,
          8.383838383838384,
          8.484848484848484,
          8.585858585858587,
          8.686868686868687,
          8.787878787878787,
          8.88888888888889,
          8.98989898989899,
          9.09090909090909,
          9.191919191919192,
          9.292929292929292,
          9.393939393939394,
          9.494949494949495,
          9.595959595959595,
          9.696969696969697,
          9.797979797979798,
          9.8989898989899,
          10
         ],
         "y": [
          0.013731710466305619,
          0.013731710466305619,
          0.013731710466305619,
          0.013731710466305619,
          0.013731710466305619,
          0.013731710466305619,
          0.013731710466305619,
          0.013731710466305619,
          0.013731710466305619,
          0.013731710466305619,
          -0.04522941150441393,
          -0.04522941150441393,
          -0.04522941150441393,
          -0.04522941150441393,
          -0.04522941150441393,
          -0.04522941150441393,
          -0.04522941150441393,
          -0.04522941150441393,
          -0.04522941150441393,
          -0.04522941150441393,
          -0.04522941150441393,
          -0.04522941150441393,
          -0.04522941150441393,
          -0.04522941150441393,
          -0.04522941150441393,
          -0.04522941150441393,
          -0.04522941150441393,
          -0.04522941150441393,
          -0.04522941150441393,
          -0.04522941150441393,
          -0.04522941150441393,
          -0.04522941150441393,
          -0.04522941150441393,
          -0.04522941150441393,
          -0.04522941150441393,
          0.0024712704255391836,
          0.0024712704255391836,
          0.0024712704255391836,
          0.0024712704255391836,
          0.0024712704255391836,
          0.0024712704255391836,
          0.0024712704255391836,
          0.0024712704255391836,
          0.0024712704255391836,
          0.0024712704255391836,
          0.0024712704255391836,
          0.16790892992228587,
          0.16790892992228587,
          0.16790892992228587,
          0.16790892992228587,
          0.16790892992228587,
          0.16790892992228587,
          0.16790892992228587,
          0.16790892992228587,
          0.16790892992228587,
          0.16790892992228587,
          0.16790892992228587,
          0.16790892992228587,
          0.16790892992228587,
          0.16790892992228587,
          0.16790892992228587,
          0.16790892992228587,
          0.16790892992228587,
          0.16790892992228587,
          0.16790892992228587,
          0.16790892992228587,
          0.16790892992228587,
          0.16790892992228587,
          0.16790892992228587,
          0.16790892992228587,
          0.16790892992228587,
          0.16790892992228587,
          0.16790892992228587,
          0.16790892992228587,
          0.16790892992228587,
          0.16790892992228587,
          0.49087081125016707,
          0.49087081125016707,
          0.49087081125016707,
          0.49087081125016707,
          0.49087081125016707,
          0.49087081125016707,
          0.49087081125016707,
          0.49087081125016707,
          0.49087081125016707,
          0.49087081125016707,
          0.49087081125016707,
          0.8497447812146742,
          0.8497447812146742,
          0.8497447812146742,
          0.8497447812146742,
          0.8497447812146742,
          0.8497447812146742,
          0.8497447812146742,
          0.8497447812146742,
          0.8497447812146742,
          0.8497447812146742,
          0.8497447812146742,
          0.8497447812146742,
          0.8497447812146742
         ]
        }
       ],
       "layout": {
        "template": {
         "data": {
          "bar": [
           {
            "error_x": {
             "color": "#2a3f5f"
            },
            "error_y": {
             "color": "#2a3f5f"
            },
            "marker": {
             "line": {
              "color": "#E5ECF6",
              "width": 0.5
             }
            },
            "type": "bar"
           }
          ],
          "barpolar": [
           {
            "marker": {
             "line": {
              "color": "#E5ECF6",
              "width": 0.5
             }
            },
            "type": "barpolar"
           }
          ],
          "carpet": [
           {
            "aaxis": {
             "endlinecolor": "#2a3f5f",
             "gridcolor": "white",
             "linecolor": "white",
             "minorgridcolor": "white",
             "startlinecolor": "#2a3f5f"
            },
            "baxis": {
             "endlinecolor": "#2a3f5f",
             "gridcolor": "white",
             "linecolor": "white",
             "minorgridcolor": "white",
             "startlinecolor": "#2a3f5f"
            },
            "type": "carpet"
           }
          ],
          "choropleth": [
           {
            "colorbar": {
             "outlinewidth": 0,
             "ticks": ""
            },
            "type": "choropleth"
           }
          ],
          "contour": [
           {
            "colorbar": {
             "outlinewidth": 0,
             "ticks": ""
            },
            "colorscale": [
             [
              0,
              "#0d0887"
             ],
             [
              0.1111111111111111,
              "#46039f"
             ],
             [
              0.2222222222222222,
              "#7201a8"
             ],
             [
              0.3333333333333333,
              "#9c179e"
             ],
             [
              0.4444444444444444,
              "#bd3786"
             ],
             [
              0.5555555555555556,
              "#d8576b"
             ],
             [
              0.6666666666666666,
              "#ed7953"
             ],
             [
              0.7777777777777778,
              "#fb9f3a"
             ],
             [
              0.8888888888888888,
              "#fdca26"
             ],
             [
              1,
              "#f0f921"
             ]
            ],
            "type": "contour"
           }
          ],
          "contourcarpet": [
           {
            "colorbar": {
             "outlinewidth": 0,
             "ticks": ""
            },
            "type": "contourcarpet"
           }
          ],
          "heatmap": [
           {
            "colorbar": {
             "outlinewidth": 0,
             "ticks": ""
            },
            "colorscale": [
             [
              0,
              "#0d0887"
             ],
             [
              0.1111111111111111,
              "#46039f"
             ],
             [
              0.2222222222222222,
              "#7201a8"
             ],
             [
              0.3333333333333333,
              "#9c179e"
             ],
             [
              0.4444444444444444,
              "#bd3786"
             ],
             [
              0.5555555555555556,
              "#d8576b"
             ],
             [
              0.6666666666666666,
              "#ed7953"
             ],
             [
              0.7777777777777778,
              "#fb9f3a"
             ],
             [
              0.8888888888888888,
              "#fdca26"
             ],
             [
              1,
              "#f0f921"
             ]
            ],
            "type": "heatmap"
           }
          ],
          "heatmapgl": [
           {
            "colorbar": {
             "outlinewidth": 0,
             "ticks": ""
            },
            "colorscale": [
             [
              0,
              "#0d0887"
             ],
             [
              0.1111111111111111,
              "#46039f"
             ],
             [
              0.2222222222222222,
              "#7201a8"
             ],
             [
              0.3333333333333333,
              "#9c179e"
             ],
             [
              0.4444444444444444,
              "#bd3786"
             ],
             [
              0.5555555555555556,
              "#d8576b"
             ],
             [
              0.6666666666666666,
              "#ed7953"
             ],
             [
              0.7777777777777778,
              "#fb9f3a"
             ],
             [
              0.8888888888888888,
              "#fdca26"
             ],
             [
              1,
              "#f0f921"
             ]
            ],
            "type": "heatmapgl"
           }
          ],
          "histogram": [
           {
            "marker": {
             "colorbar": {
              "outlinewidth": 0,
              "ticks": ""
             }
            },
            "type": "histogram"
           }
          ],
          "histogram2d": [
           {
            "colorbar": {
             "outlinewidth": 0,
             "ticks": ""
            },
            "colorscale": [
             [
              0,
              "#0d0887"
             ],
             [
              0.1111111111111111,
              "#46039f"
             ],
             [
              0.2222222222222222,
              "#7201a8"
             ],
             [
              0.3333333333333333,
              "#9c179e"
             ],
             [
              0.4444444444444444,
              "#bd3786"
             ],
             [
              0.5555555555555556,
              "#d8576b"
             ],
             [
              0.6666666666666666,
              "#ed7953"
             ],
             [
              0.7777777777777778,
              "#fb9f3a"
             ],
             [
              0.8888888888888888,
              "#fdca26"
             ],
             [
              1,
              "#f0f921"
             ]
            ],
            "type": "histogram2d"
           }
          ],
          "histogram2dcontour": [
           {
            "colorbar": {
             "outlinewidth": 0,
             "ticks": ""
            },
            "colorscale": [
             [
              0,
              "#0d0887"
             ],
             [
              0.1111111111111111,
              "#46039f"
             ],
             [
              0.2222222222222222,
              "#7201a8"
             ],
             [
              0.3333333333333333,
              "#9c179e"
             ],
             [
              0.4444444444444444,
              "#bd3786"
             ],
             [
              0.5555555555555556,
              "#d8576b"
             ],
             [
              0.6666666666666666,
              "#ed7953"
             ],
             [
              0.7777777777777778,
              "#fb9f3a"
             ],
             [
              0.8888888888888888,
              "#fdca26"
             ],
             [
              1,
              "#f0f921"
             ]
            ],
            "type": "histogram2dcontour"
           }
          ],
          "mesh3d": [
           {
            "colorbar": {
             "outlinewidth": 0,
             "ticks": ""
            },
            "type": "mesh3d"
           }
          ],
          "parcoords": [
           {
            "line": {
             "colorbar": {
              "outlinewidth": 0,
              "ticks": ""
             }
            },
            "type": "parcoords"
           }
          ],
          "scatter": [
           {
            "marker": {
             "colorbar": {
              "outlinewidth": 0,
              "ticks": ""
             }
            },
            "type": "scatter"
           }
          ],
          "scatter3d": [
           {
            "line": {
             "colorbar": {
              "outlinewidth": 0,
              "ticks": ""
             }
            },
            "marker": {
             "colorbar": {
              "outlinewidth": 0,
              "ticks": ""
             }
            },
            "type": "scatter3d"
           }
          ],
          "scattercarpet": [
           {
            "marker": {
             "colorbar": {
              "outlinewidth": 0,
              "ticks": ""
             }
            },
            "type": "scattercarpet"
           }
          ],
          "scattergeo": [
           {
            "marker": {
             "colorbar": {
              "outlinewidth": 0,
              "ticks": ""
             }
            },
            "type": "scattergeo"
           }
          ],
          "scattergl": [
           {
            "marker": {
             "colorbar": {
              "outlinewidth": 0,
              "ticks": ""
             }
            },
            "type": "scattergl"
           }
          ],
          "scattermapbox": [
           {
            "marker": {
             "colorbar": {
              "outlinewidth": 0,
              "ticks": ""
             }
            },
            "type": "scattermapbox"
           }
          ],
          "scatterpolar": [
           {
            "marker": {
             "colorbar": {
              "outlinewidth": 0,
              "ticks": ""
             }
            },
            "type": "scatterpolar"
           }
          ],
          "scatterpolargl": [
           {
            "marker": {
             "colorbar": {
              "outlinewidth": 0,
              "ticks": ""
             }
            },
            "type": "scatterpolargl"
           }
          ],
          "scatterternary": [
           {
            "marker": {
             "colorbar": {
              "outlinewidth": 0,
              "ticks": ""
             }
            },
            "type": "scatterternary"
           }
          ],
          "surface": [
           {
            "colorbar": {
             "outlinewidth": 0,
             "ticks": ""
            },
            "colorscale": [
             [
              0,
              "#0d0887"
             ],
             [
              0.1111111111111111,
              "#46039f"
             ],
             [
              0.2222222222222222,
              "#7201a8"
             ],
             [
              0.3333333333333333,
              "#9c179e"
             ],
             [
              0.4444444444444444,
              "#bd3786"
             ],
             [
              0.5555555555555556,
              "#d8576b"
             ],
             [
              0.6666666666666666,
              "#ed7953"
             ],
             [
              0.7777777777777778,
              "#fb9f3a"
             ],
             [
              0.8888888888888888,
              "#fdca26"
             ],
             [
              1,
              "#f0f921"
             ]
            ],
            "type": "surface"
           }
          ],
          "table": [
           {
            "cells": {
             "fill": {
              "color": "#EBF0F8"
             },
             "line": {
              "color": "white"
             }
            },
            "header": {
             "fill": {
              "color": "#C8D4E3"
             },
             "line": {
              "color": "white"
             }
            },
            "type": "table"
           }
          ]
         },
         "layout": {
          "annotationdefaults": {
           "arrowcolor": "#2a3f5f",
           "arrowhead": 0,
           "arrowwidth": 1
          },
          "colorscale": {
           "diverging": [
            [
             0,
             "#8e0152"
            ],
            [
             0.1,
             "#c51b7d"
            ],
            [
             0.2,
             "#de77ae"
            ],
            [
             0.3,
             "#f1b6da"
            ],
            [
             0.4,
             "#fde0ef"
            ],
            [
             0.5,
             "#f7f7f7"
            ],
            [
             0.6,
             "#e6f5d0"
            ],
            [
             0.7,
             "#b8e186"
            ],
            [
             0.8,
             "#7fbc41"
            ],
            [
             0.9,
             "#4d9221"
            ],
            [
             1,
             "#276419"
            ]
           ],
           "sequential": [
            [
             0,
             "#0d0887"
            ],
            [
             0.1111111111111111,
             "#46039f"
            ],
            [
             0.2222222222222222,
             "#7201a8"
            ],
            [
             0.3333333333333333,
             "#9c179e"
            ],
            [
             0.4444444444444444,
             "#bd3786"
            ],
            [
             0.5555555555555556,
             "#d8576b"
            ],
            [
             0.6666666666666666,
             "#ed7953"
            ],
            [
             0.7777777777777778,
             "#fb9f3a"
            ],
            [
             0.8888888888888888,
             "#fdca26"
            ],
            [
             1,
             "#f0f921"
            ]
           ],
           "sequentialminus": [
            [
             0,
             "#0d0887"
            ],
            [
             0.1111111111111111,
             "#46039f"
            ],
            [
             0.2222222222222222,
             "#7201a8"
            ],
            [
             0.3333333333333333,
             "#9c179e"
            ],
            [
             0.4444444444444444,
             "#bd3786"
            ],
            [
             0.5555555555555556,
             "#d8576b"
            ],
            [
             0.6666666666666666,
             "#ed7953"
            ],
            [
             0.7777777777777778,
             "#fb9f3a"
            ],
            [
             0.8888888888888888,
             "#fdca26"
            ],
            [
             1,
             "#f0f921"
            ]
           ]
          },
          "colorway": [
           "#636efa",
           "#EF553B",
           "#00cc96",
           "#ab63fa",
           "#FFA15A",
           "#19d3f3",
           "#FF6692",
           "#B6E880",
           "#FF97FF",
           "#FECB52"
          ],
          "font": {
           "color": "#2a3f5f"
          },
          "geo": {
           "bgcolor": "white",
           "lakecolor": "white",
           "landcolor": "#E5ECF6",
           "showlakes": true,
           "showland": true,
           "subunitcolor": "white"
          },
          "hoverlabel": {
           "align": "left"
          },
          "hovermode": "closest",
          "mapbox": {
           "style": "light"
          },
          "paper_bgcolor": "white",
          "plot_bgcolor": "#E5ECF6",
          "polar": {
           "angularaxis": {
            "gridcolor": "white",
            "linecolor": "white",
            "ticks": ""
           },
           "bgcolor": "#E5ECF6",
           "radialaxis": {
            "gridcolor": "white",
            "linecolor": "white",
            "ticks": ""
           }
          },
          "scene": {
           "xaxis": {
            "backgroundcolor": "#E5ECF6",
            "gridcolor": "white",
            "gridwidth": 2,
            "linecolor": "white",
            "showbackground": true,
            "ticks": "",
            "zerolinecolor": "white"
           },
           "yaxis": {
            "backgroundcolor": "#E5ECF6",
            "gridcolor": "white",
            "gridwidth": 2,
            "linecolor": "white",
            "showbackground": true,
            "ticks": "",
            "zerolinecolor": "white"
           },
           "zaxis": {
            "backgroundcolor": "#E5ECF6",
            "gridcolor": "white",
            "gridwidth": 2,
            "linecolor": "white",
            "showbackground": true,
            "ticks": "",
            "zerolinecolor": "white"
           }
          },
          "shapedefaults": {
           "line": {
            "color": "#2a3f5f"
           }
          },
          "ternary": {
           "aaxis": {
            "gridcolor": "white",
            "linecolor": "white",
            "ticks": ""
           },
           "baxis": {
            "gridcolor": "white",
            "linecolor": "white",
            "ticks": ""
           },
           "bgcolor": "#E5ECF6",
           "caxis": {
            "gridcolor": "white",
            "linecolor": "white",
            "ticks": ""
           }
          },
          "title": {
           "x": 0.05
          },
          "xaxis": {
           "automargin": true,
           "gridcolor": "white",
           "linecolor": "white",
           "ticks": "",
           "zerolinecolor": "white",
           "zerolinewidth": 2
          },
          "yaxis": {
           "automargin": true,
           "gridcolor": "white",
           "linecolor": "white",
           "ticks": "",
           "zerolinecolor": "white",
           "zerolinewidth": 2
          }
         }
        },
        "title": {
         "text": "Linear regression on synthetic data"
        }
       }
      },
      "text/html": [
       "<div>\n",
       "        \n",
       "        \n",
       "            <div id=\"2f378ba5-047f-4eb1-bfe4-a7c2a4c6b5de\" class=\"plotly-graph-div\" style=\"height:525px; width:100%;\"></div>\n",
       "            <script type=\"text/javascript\">\n",
       "                require([\"plotly\"], function(Plotly) {\n",
       "                    window.PLOTLYENV=window.PLOTLYENV || {};\n",
       "                    \n",
       "                if (document.getElementById(\"2f378ba5-047f-4eb1-bfe4-a7c2a4c6b5de\")) {\n",
       "                    Plotly.newPlot(\n",
       "                        '2f378ba5-047f-4eb1-bfe4-a7c2a4c6b5de',\n",
       "                        [{\"mode\": \"markers\", \"name\": \"Data\", \"type\": \"scatter\", \"x\": [0.0, 0.10101010101010101, 0.20202020202020202, 0.30303030303030304, 0.40404040404040403, 0.5050505050505051, 0.6060606060606061, 0.7070707070707071, 0.8080808080808081, 0.9090909090909091, 1.0101010101010102, 1.1111111111111112, 1.2121212121212122, 1.3131313131313131, 1.4141414141414141, 1.5151515151515151, 1.6161616161616161, 1.7171717171717171, 1.8181818181818181, 1.9191919191919191, 2.0202020202020203, 2.121212121212121, 2.2222222222222223, 2.323232323232323, 2.4242424242424243, 2.525252525252525, 2.6262626262626263, 2.727272727272727, 2.8282828282828283, 2.929292929292929, 3.0303030303030303, 3.131313131313131, 3.2323232323232323, 3.3333333333333335, 3.4343434343434343, 3.5353535353535355, 3.6363636363636362, 3.7373737373737375, 3.8383838383838382, 3.9393939393939394, 4.040404040404041, 4.141414141414141, 4.242424242424242, 4.343434343434343, 4.444444444444445, 4.545454545454545, 4.646464646464646, 4.747474747474747, 4.848484848484849, 4.94949494949495, 5.05050505050505, 5.151515151515151, 5.252525252525253, 5.353535353535354, 5.454545454545454, 5.555555555555555, 5.656565656565657, 5.757575757575758, 5.858585858585858, 5.959595959595959, 6.0606060606060606, 6.161616161616162, 6.262626262626262, 6.363636363636363, 6.4646464646464645, 6.565656565656566, 6.666666666666667, 6.767676767676767, 6.8686868686868685, 6.96969696969697, 7.070707070707071, 7.171717171717171, 7.2727272727272725, 7.373737373737374, 7.474747474747475, 7.575757575757575, 7.6767676767676765, 7.777777777777778, 7.878787878787879, 7.979797979797979, 8.080808080808081, 8.181818181818182, 8.282828282828282, 8.383838383838384, 8.484848484848484, 8.585858585858587, 8.686868686868687, 8.787878787878787, 8.88888888888889, 8.98989898989899, 9.09090909090909, 9.191919191919192, 9.292929292929292, 9.393939393939394, 9.494949494949495, 9.595959595959595, 9.696969696969697, 9.797979797979798, 9.8989898989899, 10.0], \"y\": [-0.12539017074869654, -0.1461529266831243, 0.013614226054457107, -0.14179700215196928, 0.13700098467170407, 0.09170232221385402, 0.0037548954289353623, 0.07318699463474022, -0.02643432048486337, 0.02540451080269502, -0.05291225655010749, -0.09374024301950366, -0.03718045018222975, 0.12129348345914123, -0.04663290756162806, 0.0409206668928876, 0.03202822642859259, -0.012066301615040482, -0.0869281251164693, 0.04314353413546195, -0.0355077030315591, 0.028231988813847676, 0.10478965054586878, -0.030453616289173188, 0.011677798046430064, 0.04002846390083738, 0.00047789185127316506, 0.057012756617815276, 0.053025927245596086, -0.07359918774930464, 0.012289709687844343, -0.09077952070750257, -0.08417841506724376, -0.09146755635377136, 0.005886687248998343, 0.039652225366272366, -0.022853663018615637, -0.08242196024721743, 0.013481235276644583, -0.02255611602733571, -0.0363883299690871, 0.08105698090607343, -0.026306887231704386, 0.06803690272693345, 0.1479839394945305, 0.12905154197280533, 0.17895502760009346, 0.1691782620046765, -0.06682354308331091, 0.07623191615573406, 0.21064183088222008, 0.18529386543178172, 0.1155733821948841, 0.048012647829359364, 0.0286236051421441, 0.16787299918504392, -0.028536829463599533, 0.03928681281939099, 0.30056947271128415, 0.19112880633245316, 0.12078750707700597, 0.1620372724077003, 0.004279738902691899, 0.1822067742126028, 0.17629362973438856, 0.25669125918238667, 0.3301811736530552, 0.2714652788410682, 0.25986554663024575, 0.25914800174670116, 0.43743605217720805, 0.22912860635455623, 0.3499621259386155, 0.3441604449803355, 0.3981065647527507, 0.32589689683501644, 0.468086349270713, 0.28767233427263683, 0.3488562676565692, 0.38607631973522083, 0.40899273908279854, 0.44363328828620396, 0.6163877534352922, 0.626257738939209, 0.5430673511136312, 0.7168873409546186, 0.7047506325397179, 0.7149817736765808, 0.7397718948490235, 0.9033247163599492, 0.8412878363566938, 0.8650883793797643, 0.7588316260553303, 0.7779396304861195, 1.0111008572337246, 0.8770888753547198, 1.0796561808378913, 0.9896888671153208, 1.2414378357730893, 1.0297409963448116]}, {\"mode\": \"lines\", \"name\": \"Regressor Decision Tree\", \"text\": \"MSE: 0.01315928703769094\", \"type\": \"scatter\", \"x\": [0.0, 0.10101010101010101, 0.20202020202020202, 0.30303030303030304, 0.40404040404040403, 0.5050505050505051, 0.6060606060606061, 0.7070707070707071, 0.8080808080808081, 0.9090909090909091, 1.0101010101010102, 1.1111111111111112, 1.2121212121212122, 1.3131313131313131, 1.4141414141414141, 1.5151515151515151, 1.6161616161616161, 1.7171717171717171, 1.8181818181818181, 1.9191919191919191, 2.0202020202020203, 2.121212121212121, 2.2222222222222223, 2.323232323232323, 2.4242424242424243, 2.525252525252525, 2.6262626262626263, 2.727272727272727, 2.8282828282828283, 2.929292929292929, 3.0303030303030303, 3.131313131313131, 3.2323232323232323, 3.3333333333333335, 3.4343434343434343, 3.5353535353535355, 3.6363636363636362, 3.7373737373737375, 3.8383838383838382, 3.9393939393939394, 4.040404040404041, 4.141414141414141, 4.242424242424242, 4.343434343434343, 4.444444444444445, 4.545454545454545, 4.646464646464646, 4.747474747474747, 4.848484848484849, 4.94949494949495, 5.05050505050505, 5.151515151515151, 5.252525252525253, 5.353535353535354, 5.454545454545454, 5.555555555555555, 5.656565656565657, 5.757575757575758, 5.858585858585858, 5.959595959595959, 6.0606060606060606, 6.161616161616162, 6.262626262626262, 6.363636363636363, 6.4646464646464645, 6.565656565656566, 6.666666666666667, 6.767676767676767, 6.8686868686868685, 6.96969696969697, 7.070707070707071, 7.171717171717171, 7.2727272727272725, 7.373737373737374, 7.474747474747475, 7.575757575757575, 7.6767676767676765, 7.777777777777778, 7.878787878787879, 7.979797979797979, 8.080808080808081, 8.181818181818182, 8.282828282828282, 8.383838383838384, 8.484848484848484, 8.585858585858587, 8.686868686868687, 8.787878787878787, 8.88888888888889, 8.98989898989899, 9.09090909090909, 9.191919191919192, 9.292929292929292, 9.393939393939394, 9.494949494949495, 9.595959595959595, 9.696969696969697, 9.797979797979798, 9.8989898989899, 10.0], \"y\": [0.013731710466305619, 0.013731710466305619, 0.013731710466305619, 0.013731710466305619, 0.013731710466305619, 0.013731710466305619, 0.013731710466305619, 0.013731710466305619, 0.013731710466305619, 0.013731710466305619, -0.04522941150441393, -0.04522941150441393, -0.04522941150441393, -0.04522941150441393, -0.04522941150441393, -0.04522941150441393, -0.04522941150441393, -0.04522941150441393, -0.04522941150441393, -0.04522941150441393, -0.04522941150441393, -0.04522941150441393, -0.04522941150441393, -0.04522941150441393, -0.04522941150441393, -0.04522941150441393, -0.04522941150441393, -0.04522941150441393, -0.04522941150441393, -0.04522941150441393, -0.04522941150441393, -0.04522941150441393, -0.04522941150441393, -0.04522941150441393, -0.04522941150441393, 0.0024712704255391836, 0.0024712704255391836, 0.0024712704255391836, 0.0024712704255391836, 0.0024712704255391836, 0.0024712704255391836, 0.0024712704255391836, 0.0024712704255391836, 0.0024712704255391836, 0.0024712704255391836, 0.0024712704255391836, 0.16790892992228587, 0.16790892992228587, 0.16790892992228587, 0.16790892992228587, 0.16790892992228587, 0.16790892992228587, 0.16790892992228587, 0.16790892992228587, 0.16790892992228587, 0.16790892992228587, 0.16790892992228587, 0.16790892992228587, 0.16790892992228587, 0.16790892992228587, 0.16790892992228587, 0.16790892992228587, 0.16790892992228587, 0.16790892992228587, 0.16790892992228587, 0.16790892992228587, 0.16790892992228587, 0.16790892992228587, 0.16790892992228587, 0.16790892992228587, 0.16790892992228587, 0.16790892992228587, 0.16790892992228587, 0.16790892992228587, 0.16790892992228587, 0.16790892992228587, 0.49087081125016707, 0.49087081125016707, 0.49087081125016707, 0.49087081125016707, 0.49087081125016707, 0.49087081125016707, 0.49087081125016707, 0.49087081125016707, 0.49087081125016707, 0.49087081125016707, 0.49087081125016707, 0.8497447812146742, 0.8497447812146742, 0.8497447812146742, 0.8497447812146742, 0.8497447812146742, 0.8497447812146742, 0.8497447812146742, 0.8497447812146742, 0.8497447812146742, 0.8497447812146742, 0.8497447812146742, 0.8497447812146742, 0.8497447812146742]}],\n",
       "                        {\"template\": {\"data\": {\"bar\": [{\"error_x\": {\"color\": \"#2a3f5f\"}, \"error_y\": {\"color\": \"#2a3f5f\"}, \"marker\": {\"line\": {\"color\": \"#E5ECF6\", \"width\": 0.5}}, \"type\": \"bar\"}], \"barpolar\": [{\"marker\": {\"line\": {\"color\": \"#E5ECF6\", \"width\": 0.5}}, \"type\": \"barpolar\"}], \"carpet\": [{\"aaxis\": {\"endlinecolor\": \"#2a3f5f\", \"gridcolor\": \"white\", \"linecolor\": \"white\", \"minorgridcolor\": \"white\", \"startlinecolor\": \"#2a3f5f\"}, \"baxis\": {\"endlinecolor\": \"#2a3f5f\", \"gridcolor\": \"white\", \"linecolor\": \"white\", \"minorgridcolor\": \"white\", \"startlinecolor\": \"#2a3f5f\"}, \"type\": \"carpet\"}], \"choropleth\": [{\"colorbar\": {\"outlinewidth\": 0, \"ticks\": \"\"}, \"type\": \"choropleth\"}], \"contour\": [{\"colorbar\": {\"outlinewidth\": 0, \"ticks\": \"\"}, \"colorscale\": [[0.0, \"#0d0887\"], [0.1111111111111111, \"#46039f\"], [0.2222222222222222, \"#7201a8\"], [0.3333333333333333, \"#9c179e\"], [0.4444444444444444, \"#bd3786\"], [0.5555555555555556, \"#d8576b\"], [0.6666666666666666, \"#ed7953\"], [0.7777777777777778, \"#fb9f3a\"], [0.8888888888888888, \"#fdca26\"], [1.0, \"#f0f921\"]], \"type\": \"contour\"}], \"contourcarpet\": [{\"colorbar\": {\"outlinewidth\": 0, \"ticks\": \"\"}, \"type\": \"contourcarpet\"}], \"heatmap\": [{\"colorbar\": {\"outlinewidth\": 0, \"ticks\": \"\"}, \"colorscale\": [[0.0, \"#0d0887\"], [0.1111111111111111, \"#46039f\"], [0.2222222222222222, \"#7201a8\"], [0.3333333333333333, \"#9c179e\"], [0.4444444444444444, \"#bd3786\"], [0.5555555555555556, \"#d8576b\"], [0.6666666666666666, \"#ed7953\"], [0.7777777777777778, \"#fb9f3a\"], [0.8888888888888888, \"#fdca26\"], [1.0, \"#f0f921\"]], \"type\": \"heatmap\"}], \"heatmapgl\": [{\"colorbar\": {\"outlinewidth\": 0, \"ticks\": \"\"}, \"colorscale\": [[0.0, \"#0d0887\"], [0.1111111111111111, \"#46039f\"], [0.2222222222222222, \"#7201a8\"], [0.3333333333333333, \"#9c179e\"], [0.4444444444444444, \"#bd3786\"], [0.5555555555555556, \"#d8576b\"], [0.6666666666666666, \"#ed7953\"], [0.7777777777777778, \"#fb9f3a\"], [0.8888888888888888, \"#fdca26\"], [1.0, \"#f0f921\"]], \"type\": \"heatmapgl\"}], \"histogram\": [{\"marker\": {\"colorbar\": {\"outlinewidth\": 0, \"ticks\": \"\"}}, \"type\": \"histogram\"}], \"histogram2d\": [{\"colorbar\": {\"outlinewidth\": 0, \"ticks\": \"\"}, \"colorscale\": [[0.0, \"#0d0887\"], [0.1111111111111111, \"#46039f\"], [0.2222222222222222, \"#7201a8\"], [0.3333333333333333, \"#9c179e\"], [0.4444444444444444, \"#bd3786\"], [0.5555555555555556, \"#d8576b\"], [0.6666666666666666, \"#ed7953\"], [0.7777777777777778, \"#fb9f3a\"], [0.8888888888888888, \"#fdca26\"], [1.0, \"#f0f921\"]], \"type\": \"histogram2d\"}], \"histogram2dcontour\": [{\"colorbar\": {\"outlinewidth\": 0, \"ticks\": \"\"}, \"colorscale\": [[0.0, \"#0d0887\"], [0.1111111111111111, \"#46039f\"], [0.2222222222222222, \"#7201a8\"], [0.3333333333333333, \"#9c179e\"], [0.4444444444444444, \"#bd3786\"], [0.5555555555555556, \"#d8576b\"], [0.6666666666666666, \"#ed7953\"], [0.7777777777777778, \"#fb9f3a\"], [0.8888888888888888, \"#fdca26\"], [1.0, \"#f0f921\"]], \"type\": \"histogram2dcontour\"}], \"mesh3d\": [{\"colorbar\": {\"outlinewidth\": 0, \"ticks\": \"\"}, \"type\": \"mesh3d\"}], \"parcoords\": [{\"line\": {\"colorbar\": {\"outlinewidth\": 0, \"ticks\": \"\"}}, \"type\": \"parcoords\"}], \"scatter\": [{\"marker\": {\"colorbar\": {\"outlinewidth\": 0, \"ticks\": \"\"}}, \"type\": \"scatter\"}], \"scatter3d\": [{\"line\": {\"colorbar\": {\"outlinewidth\": 0, \"ticks\": \"\"}}, \"marker\": {\"colorbar\": {\"outlinewidth\": 0, \"ticks\": \"\"}}, \"type\": \"scatter3d\"}], \"scattercarpet\": [{\"marker\": {\"colorbar\": {\"outlinewidth\": 0, \"ticks\": \"\"}}, \"type\": \"scattercarpet\"}], \"scattergeo\": [{\"marker\": {\"colorbar\": {\"outlinewidth\": 0, \"ticks\": \"\"}}, \"type\": \"scattergeo\"}], \"scattergl\": [{\"marker\": {\"colorbar\": {\"outlinewidth\": 0, \"ticks\": \"\"}}, \"type\": \"scattergl\"}], \"scattermapbox\": [{\"marker\": {\"colorbar\": {\"outlinewidth\": 0, \"ticks\": \"\"}}, \"type\": \"scattermapbox\"}], \"scatterpolar\": [{\"marker\": {\"colorbar\": {\"outlinewidth\": 0, \"ticks\": \"\"}}, \"type\": \"scatterpolar\"}], \"scatterpolargl\": [{\"marker\": {\"colorbar\": {\"outlinewidth\": 0, \"ticks\": \"\"}}, \"type\": \"scatterpolargl\"}], \"scatterternary\": [{\"marker\": {\"colorbar\": {\"outlinewidth\": 0, \"ticks\": \"\"}}, \"type\": \"scatterternary\"}], \"surface\": [{\"colorbar\": {\"outlinewidth\": 0, \"ticks\": \"\"}, \"colorscale\": [[0.0, \"#0d0887\"], [0.1111111111111111, \"#46039f\"], [0.2222222222222222, \"#7201a8\"], [0.3333333333333333, \"#9c179e\"], [0.4444444444444444, \"#bd3786\"], [0.5555555555555556, \"#d8576b\"], [0.6666666666666666, \"#ed7953\"], [0.7777777777777778, \"#fb9f3a\"], [0.8888888888888888, \"#fdca26\"], [1.0, \"#f0f921\"]], \"type\": \"surface\"}], \"table\": [{\"cells\": {\"fill\": {\"color\": \"#EBF0F8\"}, \"line\": {\"color\": \"white\"}}, \"header\": {\"fill\": {\"color\": \"#C8D4E3\"}, \"line\": {\"color\": \"white\"}}, \"type\": \"table\"}]}, \"layout\": {\"annotationdefaults\": {\"arrowcolor\": \"#2a3f5f\", \"arrowhead\": 0, \"arrowwidth\": 1}, \"colorscale\": {\"diverging\": [[0, \"#8e0152\"], [0.1, \"#c51b7d\"], [0.2, \"#de77ae\"], [0.3, \"#f1b6da\"], [0.4, \"#fde0ef\"], [0.5, \"#f7f7f7\"], [0.6, \"#e6f5d0\"], [0.7, \"#b8e186\"], [0.8, \"#7fbc41\"], [0.9, \"#4d9221\"], [1, \"#276419\"]], \"sequential\": [[0.0, \"#0d0887\"], [0.1111111111111111, \"#46039f\"], [0.2222222222222222, \"#7201a8\"], [0.3333333333333333, \"#9c179e\"], [0.4444444444444444, \"#bd3786\"], [0.5555555555555556, \"#d8576b\"], [0.6666666666666666, \"#ed7953\"], [0.7777777777777778, \"#fb9f3a\"], [0.8888888888888888, \"#fdca26\"], [1.0, \"#f0f921\"]], \"sequentialminus\": [[0.0, \"#0d0887\"], [0.1111111111111111, \"#46039f\"], [0.2222222222222222, \"#7201a8\"], [0.3333333333333333, \"#9c179e\"], [0.4444444444444444, \"#bd3786\"], [0.5555555555555556, \"#d8576b\"], [0.6666666666666666, \"#ed7953\"], [0.7777777777777778, \"#fb9f3a\"], [0.8888888888888888, \"#fdca26\"], [1.0, \"#f0f921\"]]}, \"colorway\": [\"#636efa\", \"#EF553B\", \"#00cc96\", \"#ab63fa\", \"#FFA15A\", \"#19d3f3\", \"#FF6692\", \"#B6E880\", \"#FF97FF\", \"#FECB52\"], \"font\": {\"color\": \"#2a3f5f\"}, \"geo\": {\"bgcolor\": \"white\", \"lakecolor\": \"white\", \"landcolor\": \"#E5ECF6\", \"showlakes\": true, \"showland\": true, \"subunitcolor\": \"white\"}, \"hoverlabel\": {\"align\": \"left\"}, \"hovermode\": \"closest\", \"mapbox\": {\"style\": \"light\"}, \"paper_bgcolor\": \"white\", \"plot_bgcolor\": \"#E5ECF6\", \"polar\": {\"angularaxis\": {\"gridcolor\": \"white\", \"linecolor\": \"white\", \"ticks\": \"\"}, \"bgcolor\": \"#E5ECF6\", \"radialaxis\": {\"gridcolor\": \"white\", \"linecolor\": \"white\", \"ticks\": \"\"}}, \"scene\": {\"xaxis\": {\"backgroundcolor\": \"#E5ECF6\", \"gridcolor\": \"white\", \"gridwidth\": 2, \"linecolor\": \"white\", \"showbackground\": true, \"ticks\": \"\", \"zerolinecolor\": \"white\"}, \"yaxis\": {\"backgroundcolor\": \"#E5ECF6\", \"gridcolor\": \"white\", \"gridwidth\": 2, \"linecolor\": \"white\", \"showbackground\": true, \"ticks\": \"\", \"zerolinecolor\": \"white\"}, \"zaxis\": {\"backgroundcolor\": \"#E5ECF6\", \"gridcolor\": \"white\", \"gridwidth\": 2, \"linecolor\": \"white\", \"showbackground\": true, \"ticks\": \"\", \"zerolinecolor\": \"white\"}}, \"shapedefaults\": {\"line\": {\"color\": \"#2a3f5f\"}}, \"ternary\": {\"aaxis\": {\"gridcolor\": \"white\", \"linecolor\": \"white\", \"ticks\": \"\"}, \"baxis\": {\"gridcolor\": \"white\", \"linecolor\": \"white\", \"ticks\": \"\"}, \"bgcolor\": \"#E5ECF6\", \"caxis\": {\"gridcolor\": \"white\", \"linecolor\": \"white\", \"ticks\": \"\"}}, \"title\": {\"x\": 0.05}, \"xaxis\": {\"automargin\": true, \"gridcolor\": \"white\", \"linecolor\": \"white\", \"ticks\": \"\", \"zerolinecolor\": \"white\", \"zerolinewidth\": 2}, \"yaxis\": {\"automargin\": true, \"gridcolor\": \"white\", \"linecolor\": \"white\", \"ticks\": \"\", \"zerolinecolor\": \"white\", \"zerolinewidth\": 2}}}, \"title\": {\"text\": \"Linear regression on synthetic data\"}},\n",
       "                        {\"responsive\": true}\n",
       "                    ).then(function(){\n",
       "                            \n",
       "var gd = document.getElementById('2f378ba5-047f-4eb1-bfe4-a7c2a4c6b5de');\n",
       "var x = new MutationObserver(function (mutations, observer) {{\n",
       "        var display = window.getComputedStyle(gd).display;\n",
       "        if (!display || display === 'none') {{\n",
       "            console.log([gd, 'removed!']);\n",
       "            Plotly.purge(gd);\n",
       "            observer.disconnect();\n",
       "        }}\n",
       "}});\n",
       "\n",
       "// Listen for the removal of the full notebook cells\n",
       "var notebookContainer = gd.closest('#notebook-container');\n",
       "if (notebookContainer) {{\n",
       "    x.observe(notebookContainer, {childList: true});\n",
       "}}\n",
       "\n",
       "// Listen for the clearing of the current output cell\n",
       "var outputEl = gd.closest('.output');\n",
       "if (outputEl) {{\n",
       "    x.observe(outputEl, {childList: true});\n",
       "}}\n",
       "\n",
       "                        })\n",
       "                };\n",
       "                });\n",
       "            </script>\n",
       "        </div>"
      ]
     },
     "metadata": {},
     "output_type": "display_data"
    }
   ],
   "source": [
    "tree = build_tree(pd.DataFrame([x_train,y_train]).T,5,10,kind=\"reg\")\n",
    "preds = []\n",
    "for i in range(len(pd.DataFrame([x,y]).T)):\n",
    "    example = pd.DataFrame([x,y]).T.iloc[i,:].to_frame().T\n",
    "    preds.append(predict(tree,example))\n",
    "    \n",
    "iplot(reg_plotly_plot(x,y,\n",
    "                      [np.array(preds)],\n",
    "                      [\"Decision Tree\"]\n",
    "                     )\n",
    "     )"
   ]
  },
  {
   "cell_type": "markdown",
   "metadata": {},
   "source": [
    "### SKLearn (very basic)"
   ]
  },
  {
   "cell_type": "code",
   "execution_count": 42,
   "metadata": {},
   "outputs": [],
   "source": [
    "from sklearn import linear_model\n",
    "from sklearn.neighbors import KNeighborsRegressor\n",
    "from sklearn.tree import DecisionTreeRegressor"
   ]
  },
  {
   "cell_type": "code",
   "execution_count": 43,
   "metadata": {},
   "outputs": [],
   "source": [
    "lin_reg = linear_model.RidgeCV()\n",
    "lin_reg.fit(x_train.reshape(-1, 1),y_train)\n",
    "lin_preds = lin_reg.predict(x.reshape(-1,1))"
   ]
  },
  {
   "cell_type": "code",
   "execution_count": 44,
   "metadata": {},
   "outputs": [],
   "source": [
    "knn = KNeighborsRegressor(3)\n",
    "knn.fit(x_train.reshape(-1,1), y_train)\n",
    "knn_preds = knn.predict(x.reshape(-1,1))"
   ]
  },
  {
   "cell_type": "code",
   "execution_count": 45,
   "metadata": {},
   "outputs": [],
   "source": [
    "dt_reg = DecisionTreeRegressor()\n",
    "dt_reg.fit(x_train.reshape(-1, 1),y_train)\n",
    "dt_preds = dt_reg.predict(x.reshape(-1,1))"
   ]
  },
  {
   "cell_type": "code",
   "execution_count": 46,
   "metadata": {},
   "outputs": [
    {
     "data": {
      "application/vnd.plotly.v1+json": {
       "config": {
        "linkText": "Export to plot.ly",
        "plotlyServerURL": "https://plot.ly",
        "showLink": false
       },
       "data": [
        {
         "mode": "markers",
         "name": "Data",
         "type": "scatter",
         "x": [
          0,
          0.10101010101010101,
          0.20202020202020202,
          0.30303030303030304,
          0.40404040404040403,
          0.5050505050505051,
          0.6060606060606061,
          0.7070707070707071,
          0.8080808080808081,
          0.9090909090909091,
          1.0101010101010102,
          1.1111111111111112,
          1.2121212121212122,
          1.3131313131313131,
          1.4141414141414141,
          1.5151515151515151,
          1.6161616161616161,
          1.7171717171717171,
          1.8181818181818181,
          1.9191919191919191,
          2.0202020202020203,
          2.121212121212121,
          2.2222222222222223,
          2.323232323232323,
          2.4242424242424243,
          2.525252525252525,
          2.6262626262626263,
          2.727272727272727,
          2.8282828282828283,
          2.929292929292929,
          3.0303030303030303,
          3.131313131313131,
          3.2323232323232323,
          3.3333333333333335,
          3.4343434343434343,
          3.5353535353535355,
          3.6363636363636362,
          3.7373737373737375,
          3.8383838383838382,
          3.9393939393939394,
          4.040404040404041,
          4.141414141414141,
          4.242424242424242,
          4.343434343434343,
          4.444444444444445,
          4.545454545454545,
          4.646464646464646,
          4.747474747474747,
          4.848484848484849,
          4.94949494949495,
          5.05050505050505,
          5.151515151515151,
          5.252525252525253,
          5.353535353535354,
          5.454545454545454,
          5.555555555555555,
          5.656565656565657,
          5.757575757575758,
          5.858585858585858,
          5.959595959595959,
          6.0606060606060606,
          6.161616161616162,
          6.262626262626262,
          6.363636363636363,
          6.4646464646464645,
          6.565656565656566,
          6.666666666666667,
          6.767676767676767,
          6.8686868686868685,
          6.96969696969697,
          7.070707070707071,
          7.171717171717171,
          7.2727272727272725,
          7.373737373737374,
          7.474747474747475,
          7.575757575757575,
          7.6767676767676765,
          7.777777777777778,
          7.878787878787879,
          7.979797979797979,
          8.080808080808081,
          8.181818181818182,
          8.282828282828282,
          8.383838383838384,
          8.484848484848484,
          8.585858585858587,
          8.686868686868687,
          8.787878787878787,
          8.88888888888889,
          8.98989898989899,
          9.09090909090909,
          9.191919191919192,
          9.292929292929292,
          9.393939393939394,
          9.494949494949495,
          9.595959595959595,
          9.696969696969697,
          9.797979797979798,
          9.8989898989899,
          10
         ],
         "y": [
          -0.12539017074869654,
          -0.1461529266831243,
          0.013614226054457107,
          -0.14179700215196928,
          0.13700098467170407,
          0.09170232221385402,
          0.0037548954289353623,
          0.07318699463474022,
          -0.02643432048486337,
          0.02540451080269502,
          -0.05291225655010749,
          -0.09374024301950366,
          -0.03718045018222975,
          0.12129348345914123,
          -0.04663290756162806,
          0.0409206668928876,
          0.03202822642859259,
          -0.012066301615040482,
          -0.0869281251164693,
          0.04314353413546195,
          -0.0355077030315591,
          0.028231988813847676,
          0.10478965054586878,
          -0.030453616289173188,
          0.011677798046430064,
          0.04002846390083738,
          0.00047789185127316506,
          0.057012756617815276,
          0.053025927245596086,
          -0.07359918774930464,
          0.012289709687844343,
          -0.09077952070750257,
          -0.08417841506724376,
          -0.09146755635377136,
          0.005886687248998343,
          0.039652225366272366,
          -0.022853663018615637,
          -0.08242196024721743,
          0.013481235276644583,
          -0.02255611602733571,
          -0.0363883299690871,
          0.08105698090607343,
          -0.026306887231704386,
          0.06803690272693345,
          0.1479839394945305,
          0.12905154197280533,
          0.17895502760009346,
          0.1691782620046765,
          -0.06682354308331091,
          0.07623191615573406,
          0.21064183088222008,
          0.18529386543178172,
          0.1155733821948841,
          0.048012647829359364,
          0.0286236051421441,
          0.16787299918504392,
          -0.028536829463599533,
          0.03928681281939099,
          0.30056947271128415,
          0.19112880633245316,
          0.12078750707700597,
          0.1620372724077003,
          0.004279738902691899,
          0.1822067742126028,
          0.17629362973438856,
          0.25669125918238667,
          0.3301811736530552,
          0.2714652788410682,
          0.25986554663024575,
          0.25914800174670116,
          0.43743605217720805,
          0.22912860635455623,
          0.3499621259386155,
          0.3441604449803355,
          0.3981065647527507,
          0.32589689683501644,
          0.468086349270713,
          0.28767233427263683,
          0.3488562676565692,
          0.38607631973522083,
          0.40899273908279854,
          0.44363328828620396,
          0.6163877534352922,
          0.626257738939209,
          0.5430673511136312,
          0.7168873409546186,
          0.7047506325397179,
          0.7149817736765808,
          0.7397718948490235,
          0.9033247163599492,
          0.8412878363566938,
          0.8650883793797643,
          0.7588316260553303,
          0.7779396304861195,
          1.0111008572337246,
          0.8770888753547198,
          1.0796561808378913,
          0.9896888671153208,
          1.2414378357730893,
          1.0297409963448116
         ]
        },
        {
         "mode": "lines",
         "name": "Regressor Lin",
         "text": "MSE: 0.03090022149816667",
         "type": "scatter",
         "x": [
          0,
          0.10101010101010101,
          0.20202020202020202,
          0.30303030303030304,
          0.40404040404040403,
          0.5050505050505051,
          0.6060606060606061,
          0.7070707070707071,
          0.8080808080808081,
          0.9090909090909091,
          1.0101010101010102,
          1.1111111111111112,
          1.2121212121212122,
          1.3131313131313131,
          1.4141414141414141,
          1.5151515151515151,
          1.6161616161616161,
          1.7171717171717171,
          1.8181818181818181,
          1.9191919191919191,
          2.0202020202020203,
          2.121212121212121,
          2.2222222222222223,
          2.323232323232323,
          2.4242424242424243,
          2.525252525252525,
          2.6262626262626263,
          2.727272727272727,
          2.8282828282828283,
          2.929292929292929,
          3.0303030303030303,
          3.131313131313131,
          3.2323232323232323,
          3.3333333333333335,
          3.4343434343434343,
          3.5353535353535355,
          3.6363636363636362,
          3.7373737373737375,
          3.8383838383838382,
          3.9393939393939394,
          4.040404040404041,
          4.141414141414141,
          4.242424242424242,
          4.343434343434343,
          4.444444444444445,
          4.545454545454545,
          4.646464646464646,
          4.747474747474747,
          4.848484848484849,
          4.94949494949495,
          5.05050505050505,
          5.151515151515151,
          5.252525252525253,
          5.353535353535354,
          5.454545454545454,
          5.555555555555555,
          5.656565656565657,
          5.757575757575758,
          5.858585858585858,
          5.959595959595959,
          6.0606060606060606,
          6.161616161616162,
          6.262626262626262,
          6.363636363636363,
          6.4646464646464645,
          6.565656565656566,
          6.666666666666667,
          6.767676767676767,
          6.8686868686868685,
          6.96969696969697,
          7.070707070707071,
          7.171717171717171,
          7.2727272727272725,
          7.373737373737374,
          7.474747474747475,
          7.575757575757575,
          7.6767676767676765,
          7.777777777777778,
          7.878787878787879,
          7.979797979797979,
          8.080808080808081,
          8.181818181818182,
          8.282828282828282,
          8.383838383838384,
          8.484848484848484,
          8.585858585858587,
          8.686868686868687,
          8.787878787878787,
          8.88888888888889,
          8.98989898989899,
          9.09090909090909,
          9.191919191919192,
          9.292929292929292,
          9.393939393939394,
          9.494949494949495,
          9.595959595959595,
          9.696969696969697,
          9.797979797979798,
          9.8989898989899,
          10
         ],
         "y": [
          -0.24915619493307245,
          -0.23891045699620866,
          -0.22866471905934488,
          -0.2184189811224811,
          -0.2081732431856173,
          -0.19792750524875352,
          -0.18768176731188974,
          -0.17743602937502595,
          -0.16719029143816216,
          -0.15694455350129838,
          -0.1466988155644346,
          -0.1364530776275708,
          -0.12620733969070702,
          -0.11596160175384326,
          -0.10571586381697948,
          -0.09547012588011569,
          -0.0852243879432519,
          -0.07497865000638812,
          -0.06473291206952433,
          -0.05448717413266055,
          -0.04424143619579676,
          -0.033995698258933005,
          -0.02374996032206919,
          -0.013504222385205433,
          -0.0032584844483416198,
          0.006987253488522138,
          0.017232991425385924,
          0.02747872936224971,
          0.037724467299113495,
          0.04797020523597728,
          0.05821594317284107,
          0.06846168110970485,
          0.07870741904656864,
          0.08895315698343242,
          0.09919889492029621,
          0.10944463285716,
          0.11969037079402378,
          0.12993610873088757,
          0.14018184666775135,
          0.15042758460461514,
          0.16067332254147892,
          0.17091906047834265,
          0.18116479841520644,
          0.19141053635207028,
          0.20165627428893407,
          0.2119020122257978,
          0.22214775016266158,
          0.23239348809952537,
          0.2426392260363892,
          0.25288496397325305,
          0.2631307019101167,
          0.2733764398469805,
          0.2836221777838443,
          0.2938679157207081,
          0.30411365365757187,
          0.31435939159443566,
          0.32460512953129944,
          0.3348508674681632,
          0.345096605405027,
          0.3553423433418908,
          0.3655880812787546,
          0.37583381921561837,
          0.38607955715248216,
          0.39632529508934594,
          0.4065710330262097,
          0.4168167709630735,
          0.4270625088999373,
          0.4373082468368011,
          0.44755398477366487,
          0.45779972271052866,
          0.46804546064739244,
          0.4782911985842562,
          0.48853693652112,
          0.4987826744579838,
          0.5090284123948476,
          0.5192741503317113,
          0.5295198882685752,
          0.5397656262054389,
          0.5500113641423028,
          0.5602571020791665,
          0.5705028400160304,
          0.580748577952894,
          0.5909943158897577,
          0.6012400538266216,
          0.6114857917634853,
          0.6217315297003492,
          0.6319772676372131,
          0.6422230055740767,
          0.6524687435109406,
          0.6627144814478043,
          0.672960219384668,
          0.6832059573215319,
          0.6934516952583956,
          0.7036974331952595,
          0.7139431711321231,
          0.724188909068987,
          0.7344346470058509,
          0.7446803849427146,
          0.7549261228795785,
          0.7651718608164422
         ]
        },
        {
         "mode": "lines",
         "name": "Regressor KNN",
         "text": "MSE: 0.006748728285142347",
         "type": "scatter",
         "x": [
          0,
          0.10101010101010101,
          0.20202020202020202,
          0.30303030303030304,
          0.40404040404040403,
          0.5050505050505051,
          0.6060606060606061,
          0.7070707070707071,
          0.8080808080808081,
          0.9090909090909091,
          1.0101010101010102,
          1.1111111111111112,
          1.2121212121212122,
          1.3131313131313131,
          1.4141414141414141,
          1.5151515151515151,
          1.6161616161616161,
          1.7171717171717171,
          1.8181818181818181,
          1.9191919191919191,
          2.0202020202020203,
          2.121212121212121,
          2.2222222222222223,
          2.323232323232323,
          2.4242424242424243,
          2.525252525252525,
          2.6262626262626263,
          2.727272727272727,
          2.8282828282828283,
          2.929292929292929,
          3.0303030303030303,
          3.131313131313131,
          3.2323232323232323,
          3.3333333333333335,
          3.4343434343434343,
          3.5353535353535355,
          3.6363636363636362,
          3.7373737373737375,
          3.8383838383838382,
          3.9393939393939394,
          4.040404040404041,
          4.141414141414141,
          4.242424242424242,
          4.343434343434343,
          4.444444444444445,
          4.545454545454545,
          4.646464646464646,
          4.747474747474747,
          4.848484848484849,
          4.94949494949495,
          5.05050505050505,
          5.151515151515151,
          5.252525252525253,
          5.353535353535354,
          5.454545454545454,
          5.555555555555555,
          5.656565656565657,
          5.757575757575758,
          5.858585858585858,
          5.959595959595959,
          6.0606060606060606,
          6.161616161616162,
          6.262626262626262,
          6.363636363636363,
          6.4646464646464645,
          6.565656565656566,
          6.666666666666667,
          6.767676767676767,
          6.8686868686868685,
          6.96969696969697,
          7.070707070707071,
          7.171717171717171,
          7.2727272727272725,
          7.373737373737374,
          7.474747474747475,
          7.575757575757575,
          7.6767676767676765,
          7.777777777777778,
          7.878787878787879,
          7.979797979797979,
          8.080808080808081,
          8.181818181818182,
          8.282828282828282,
          8.383838383838384,
          8.484848484848484,
          8.585858585858587,
          8.686868686868687,
          8.787878787878787,
          8.88888888888889,
          8.98989898989899,
          9.09090909090909,
          9.191919191919192,
          9.292929292929292,
          9.393939393939394,
          9.494949494949495,
          9.595959595959595,
          9.696969696969697,
          9.797979797979798,
          9.8989898989899,
          10
         ],
         "y": [
          -0.009977651035302388,
          -0.009977651035302388,
          -0.009977651035302388,
          -0.009977651035302385,
          0.05621473742584321,
          0.05621473742584321,
          0.05621473742584321,
          0.03411546695545687,
          0.03411546695545687,
          -0.026806667432506658,
          -0.026806667432506658,
          -0.026806667432506658,
          -0.026806667432506658,
          -0.026806667432506658,
          -0.06425087940556144,
          -0.06425087940556144,
          -0.06425087940556144,
          -0.06425087940556144,
          -0.04272086120671557,
          -0.02492414507292202,
          -0.02492414507292202,
          -0.02492414507292202,
          -0.024924145072922024,
          -0.024924145072922024,
          -0.024924145072922024,
          -0.026207943603266448,
          -0.026207943603266448,
          -0.026207943603266448,
          -0.026207943603266448,
          -0.026207943603266448,
          -0.016883134496652345,
          -0.01688313449665235,
          -0.01688313449665235,
          -0.024561137122855306,
          -0.024561137122855306,
          -0.024561137122855306,
          -0.006430740210050148,
          -0.006430740210050148,
          -0.0317775919885033,
          -0.0317775919885033,
          -0.0317775919885033,
          -0.0317775919885033,
          -0.0015799190704135814,
          0.07020120011931327,
          0.14198231930904012,
          0.14198231930904012,
          0.1756961057349545,
          0.1756961057349545,
          0.15201733634754355,
          0.15201733634754355,
          0.15201733634754355,
          0.1116287982891045,
          0.09575936128457452,
          0.09575936128457452,
          0.09575936128457452,
          0.08925501976798554,
          0.08925501976798554,
          0.08925501976798554,
          0.08925501976798554,
          0.08925501976798554,
          0.08925501976798554,
          0.16373923010522182,
          0.16373923010522182,
          0.16373923010522182,
          0.16373923010522182,
          0.2628303273361792,
          0.2628303273361792,
          0.2628303273361792,
          0.35514950831559916,
          0.35514950831559916,
          0.35514950831559916,
          0.35514950831559916,
          0.42068986512548084,
          0.42068986512548084,
          0.42068986512548084,
          0.42068986512548084,
          0.42068986512548084,
          0.4283429887326651,
          0.4283429887326651,
          0.4283429887326651,
          0.5060604525698031,
          0.5060604525698031,
          0.5060604525698031,
          0.6281022879098069,
          0.6281022879098069,
          0.6576769661555977,
          0.6576769661555976,
          0.7232451474007284,
          0.7860261282951845,
          0.7860261282951845,
          0.877833825039826,
          0.8650883793797645,
          0.8650883793797645,
          0.8650883793797645,
          0.9481553712034687,
          0.9481553712034687,
          0.9481553712034687,
          0.9481553712034687,
          0.9481553712034687,
          0.9481553712034687
         ]
        },
        {
         "mode": "lines",
         "name": "Regressor DT",
         "text": "MSE: 0.006609030972917962",
         "type": "scatter",
         "x": [
          0,
          0.10101010101010101,
          0.20202020202020202,
          0.30303030303030304,
          0.40404040404040403,
          0.5050505050505051,
          0.6060606060606061,
          0.7070707070707071,
          0.8080808080808081,
          0.9090909090909091,
          1.0101010101010102,
          1.1111111111111112,
          1.2121212121212122,
          1.3131313131313131,
          1.4141414141414141,
          1.5151515151515151,
          1.6161616161616161,
          1.7171717171717171,
          1.8181818181818181,
          1.9191919191919191,
          2.0202020202020203,
          2.121212121212121,
          2.2222222222222223,
          2.323232323232323,
          2.4242424242424243,
          2.525252525252525,
          2.6262626262626263,
          2.727272727272727,
          2.8282828282828283,
          2.929292929292929,
          3.0303030303030303,
          3.131313131313131,
          3.2323232323232323,
          3.3333333333333335,
          3.4343434343434343,
          3.5353535353535355,
          3.6363636363636362,
          3.7373737373737375,
          3.8383838383838382,
          3.9393939393939394,
          4.040404040404041,
          4.141414141414141,
          4.242424242424242,
          4.343434343434343,
          4.444444444444445,
          4.545454545454545,
          4.646464646464646,
          4.747474747474747,
          4.848484848484849,
          4.94949494949495,
          5.05050505050505,
          5.151515151515151,
          5.252525252525253,
          5.353535353535354,
          5.454545454545454,
          5.555555555555555,
          5.656565656565657,
          5.757575757575758,
          5.858585858585858,
          5.959595959595959,
          6.0606060606060606,
          6.161616161616162,
          6.262626262626262,
          6.363636363636363,
          6.4646464646464645,
          6.565656565656566,
          6.666666666666667,
          6.767676767676767,
          6.8686868686868685,
          6.96969696969697,
          7.070707070707071,
          7.171717171717171,
          7.2727272727272725,
          7.373737373737374,
          7.474747474747475,
          7.575757575757575,
          7.6767676767676765,
          7.777777777777778,
          7.878787878787879,
          7.979797979797979,
          8.080808080808081,
          8.181818181818182,
          8.282828282828282,
          8.383838383838384,
          8.484848484848484,
          8.585858585858587,
          8.686868686868687,
          8.787878787878787,
          8.88888888888889,
          8.98989898989899,
          9.09090909090909,
          9.191919191919192,
          9.292929292929292,
          9.393939393939394,
          9.494949494949495,
          9.595959595959595,
          9.696969696969697,
          9.797979797979798,
          9.8989898989899,
          10
         ],
         "y": [
          -0.12539017074869654,
          -0.12539017074869654,
          -0.12539017074869654,
          0.09170232221385402,
          0.09170232221385402,
          0.09170232221385402,
          0.0037548954289353623,
          0.07318699463474022,
          0.07318699463474022,
          0.02540451080269502,
          -0.05291225655010749,
          -0.05291225655010749,
          -0.05291225655010749,
          -0.05291225655010749,
          -0.05291225655010749,
          -0.0869281251164693,
          -0.0869281251164693,
          -0.0869281251164693,
          -0.0869281251164693,
          -0.0869281251164693,
          -0.0869281251164693,
          -0.0869281251164693,
          0.011677798046430064,
          0.011677798046430064,
          0.011677798046430064,
          0.011677798046430064,
          0.00047789185127316506,
          0.00047789185127316506,
          0.00047789185127316506,
          -0.09077952070750257,
          -0.09077952070750257,
          -0.09077952070750257,
          -0.09077952070750257,
          -0.09077952070750257,
          0.039652225366272366,
          0.039652225366272366,
          0.039652225366272366,
          -0.02255611602733571,
          -0.02255611602733571,
          -0.02255611602733571,
          -0.0363883299690871,
          -0.0363883299690871,
          0.06803690272693345,
          0.06803690272693345,
          0.06803690272693345,
          0.17895502760009346,
          0.17895502760009346,
          0.1691782620046765,
          0.07623191615573406,
          0.07623191615573406,
          0.21064183088222008,
          0.21064183088222008,
          0.048012647829359364,
          0.048012647829359364,
          0.0286236051421441,
          0.0286236051421441,
          0.0286236051421441,
          0.19112880633245316,
          0.19112880633245316,
          0.19112880633245316,
          0.19112880633245316,
          0.19112880633245316,
          0.19112880633245316,
          0.19112880633245316,
          0.2714652788410682,
          0.2714652788410682,
          0.2714652788410682,
          0.2714652788410682,
          0.2714652788410682,
          0.2714652788410682,
          0.2714652788410682,
          0.2714652788410682,
          0.32589689683501644,
          0.32589689683501644,
          0.32589689683501644,
          0.32589689683501644,
          0.468086349270713,
          0.468086349270713,
          0.3488562676565692,
          0.3488562676565692,
          0.3488562676565692,
          0.626257738939209,
          0.626257738939209,
          0.626257738939209,
          0.5430673511136312,
          0.5430673511136312,
          0.7149817736765808,
          0.7149817736765808,
          0.7397718948490235,
          0.9033247163599492,
          0.9033247163599492,
          0.8650883793797645,
          0.8650883793797645,
          0.8650883793797645,
          0.8650883793797645,
          0.9896888671153208,
          0.9896888671153208,
          0.9896888671153208,
          0.9896888671153208,
          0.9896888671153208
         ]
        }
       ],
       "layout": {
        "template": {
         "data": {
          "bar": [
           {
            "error_x": {
             "color": "#2a3f5f"
            },
            "error_y": {
             "color": "#2a3f5f"
            },
            "marker": {
             "line": {
              "color": "#E5ECF6",
              "width": 0.5
             }
            },
            "type": "bar"
           }
          ],
          "barpolar": [
           {
            "marker": {
             "line": {
              "color": "#E5ECF6",
              "width": 0.5
             }
            },
            "type": "barpolar"
           }
          ],
          "carpet": [
           {
            "aaxis": {
             "endlinecolor": "#2a3f5f",
             "gridcolor": "white",
             "linecolor": "white",
             "minorgridcolor": "white",
             "startlinecolor": "#2a3f5f"
            },
            "baxis": {
             "endlinecolor": "#2a3f5f",
             "gridcolor": "white",
             "linecolor": "white",
             "minorgridcolor": "white",
             "startlinecolor": "#2a3f5f"
            },
            "type": "carpet"
           }
          ],
          "choropleth": [
           {
            "colorbar": {
             "outlinewidth": 0,
             "ticks": ""
            },
            "type": "choropleth"
           }
          ],
          "contour": [
           {
            "colorbar": {
             "outlinewidth": 0,
             "ticks": ""
            },
            "colorscale": [
             [
              0,
              "#0d0887"
             ],
             [
              0.1111111111111111,
              "#46039f"
             ],
             [
              0.2222222222222222,
              "#7201a8"
             ],
             [
              0.3333333333333333,
              "#9c179e"
             ],
             [
              0.4444444444444444,
              "#bd3786"
             ],
             [
              0.5555555555555556,
              "#d8576b"
             ],
             [
              0.6666666666666666,
              "#ed7953"
             ],
             [
              0.7777777777777778,
              "#fb9f3a"
             ],
             [
              0.8888888888888888,
              "#fdca26"
             ],
             [
              1,
              "#f0f921"
             ]
            ],
            "type": "contour"
           }
          ],
          "contourcarpet": [
           {
            "colorbar": {
             "outlinewidth": 0,
             "ticks": ""
            },
            "type": "contourcarpet"
           }
          ],
          "heatmap": [
           {
            "colorbar": {
             "outlinewidth": 0,
             "ticks": ""
            },
            "colorscale": [
             [
              0,
              "#0d0887"
             ],
             [
              0.1111111111111111,
              "#46039f"
             ],
             [
              0.2222222222222222,
              "#7201a8"
             ],
             [
              0.3333333333333333,
              "#9c179e"
             ],
             [
              0.4444444444444444,
              "#bd3786"
             ],
             [
              0.5555555555555556,
              "#d8576b"
             ],
             [
              0.6666666666666666,
              "#ed7953"
             ],
             [
              0.7777777777777778,
              "#fb9f3a"
             ],
             [
              0.8888888888888888,
              "#fdca26"
             ],
             [
              1,
              "#f0f921"
             ]
            ],
            "type": "heatmap"
           }
          ],
          "heatmapgl": [
           {
            "colorbar": {
             "outlinewidth": 0,
             "ticks": ""
            },
            "colorscale": [
             [
              0,
              "#0d0887"
             ],
             [
              0.1111111111111111,
              "#46039f"
             ],
             [
              0.2222222222222222,
              "#7201a8"
             ],
             [
              0.3333333333333333,
              "#9c179e"
             ],
             [
              0.4444444444444444,
              "#bd3786"
             ],
             [
              0.5555555555555556,
              "#d8576b"
             ],
             [
              0.6666666666666666,
              "#ed7953"
             ],
             [
              0.7777777777777778,
              "#fb9f3a"
             ],
             [
              0.8888888888888888,
              "#fdca26"
             ],
             [
              1,
              "#f0f921"
             ]
            ],
            "type": "heatmapgl"
           }
          ],
          "histogram": [
           {
            "marker": {
             "colorbar": {
              "outlinewidth": 0,
              "ticks": ""
             }
            },
            "type": "histogram"
           }
          ],
          "histogram2d": [
           {
            "colorbar": {
             "outlinewidth": 0,
             "ticks": ""
            },
            "colorscale": [
             [
              0,
              "#0d0887"
             ],
             [
              0.1111111111111111,
              "#46039f"
             ],
             [
              0.2222222222222222,
              "#7201a8"
             ],
             [
              0.3333333333333333,
              "#9c179e"
             ],
             [
              0.4444444444444444,
              "#bd3786"
             ],
             [
              0.5555555555555556,
              "#d8576b"
             ],
             [
              0.6666666666666666,
              "#ed7953"
             ],
             [
              0.7777777777777778,
              "#fb9f3a"
             ],
             [
              0.8888888888888888,
              "#fdca26"
             ],
             [
              1,
              "#f0f921"
             ]
            ],
            "type": "histogram2d"
           }
          ],
          "histogram2dcontour": [
           {
            "colorbar": {
             "outlinewidth": 0,
             "ticks": ""
            },
            "colorscale": [
             [
              0,
              "#0d0887"
             ],
             [
              0.1111111111111111,
              "#46039f"
             ],
             [
              0.2222222222222222,
              "#7201a8"
             ],
             [
              0.3333333333333333,
              "#9c179e"
             ],
             [
              0.4444444444444444,
              "#bd3786"
             ],
             [
              0.5555555555555556,
              "#d8576b"
             ],
             [
              0.6666666666666666,
              "#ed7953"
             ],
             [
              0.7777777777777778,
              "#fb9f3a"
             ],
             [
              0.8888888888888888,
              "#fdca26"
             ],
             [
              1,
              "#f0f921"
             ]
            ],
            "type": "histogram2dcontour"
           }
          ],
          "mesh3d": [
           {
            "colorbar": {
             "outlinewidth": 0,
             "ticks": ""
            },
            "type": "mesh3d"
           }
          ],
          "parcoords": [
           {
            "line": {
             "colorbar": {
              "outlinewidth": 0,
              "ticks": ""
             }
            },
            "type": "parcoords"
           }
          ],
          "scatter": [
           {
            "marker": {
             "colorbar": {
              "outlinewidth": 0,
              "ticks": ""
             }
            },
            "type": "scatter"
           }
          ],
          "scatter3d": [
           {
            "line": {
             "colorbar": {
              "outlinewidth": 0,
              "ticks": ""
             }
            },
            "marker": {
             "colorbar": {
              "outlinewidth": 0,
              "ticks": ""
             }
            },
            "type": "scatter3d"
           }
          ],
          "scattercarpet": [
           {
            "marker": {
             "colorbar": {
              "outlinewidth": 0,
              "ticks": ""
             }
            },
            "type": "scattercarpet"
           }
          ],
          "scattergeo": [
           {
            "marker": {
             "colorbar": {
              "outlinewidth": 0,
              "ticks": ""
             }
            },
            "type": "scattergeo"
           }
          ],
          "scattergl": [
           {
            "marker": {
             "colorbar": {
              "outlinewidth": 0,
              "ticks": ""
             }
            },
            "type": "scattergl"
           }
          ],
          "scattermapbox": [
           {
            "marker": {
             "colorbar": {
              "outlinewidth": 0,
              "ticks": ""
             }
            },
            "type": "scattermapbox"
           }
          ],
          "scatterpolar": [
           {
            "marker": {
             "colorbar": {
              "outlinewidth": 0,
              "ticks": ""
             }
            },
            "type": "scatterpolar"
           }
          ],
          "scatterpolargl": [
           {
            "marker": {
             "colorbar": {
              "outlinewidth": 0,
              "ticks": ""
             }
            },
            "type": "scatterpolargl"
           }
          ],
          "scatterternary": [
           {
            "marker": {
             "colorbar": {
              "outlinewidth": 0,
              "ticks": ""
             }
            },
            "type": "scatterternary"
           }
          ],
          "surface": [
           {
            "colorbar": {
             "outlinewidth": 0,
             "ticks": ""
            },
            "colorscale": [
             [
              0,
              "#0d0887"
             ],
             [
              0.1111111111111111,
              "#46039f"
             ],
             [
              0.2222222222222222,
              "#7201a8"
             ],
             [
              0.3333333333333333,
              "#9c179e"
             ],
             [
              0.4444444444444444,
              "#bd3786"
             ],
             [
              0.5555555555555556,
              "#d8576b"
             ],
             [
              0.6666666666666666,
              "#ed7953"
             ],
             [
              0.7777777777777778,
              "#fb9f3a"
             ],
             [
              0.8888888888888888,
              "#fdca26"
             ],
             [
              1,
              "#f0f921"
             ]
            ],
            "type": "surface"
           }
          ],
          "table": [
           {
            "cells": {
             "fill": {
              "color": "#EBF0F8"
             },
             "line": {
              "color": "white"
             }
            },
            "header": {
             "fill": {
              "color": "#C8D4E3"
             },
             "line": {
              "color": "white"
             }
            },
            "type": "table"
           }
          ]
         },
         "layout": {
          "annotationdefaults": {
           "arrowcolor": "#2a3f5f",
           "arrowhead": 0,
           "arrowwidth": 1
          },
          "colorscale": {
           "diverging": [
            [
             0,
             "#8e0152"
            ],
            [
             0.1,
             "#c51b7d"
            ],
            [
             0.2,
             "#de77ae"
            ],
            [
             0.3,
             "#f1b6da"
            ],
            [
             0.4,
             "#fde0ef"
            ],
            [
             0.5,
             "#f7f7f7"
            ],
            [
             0.6,
             "#e6f5d0"
            ],
            [
             0.7,
             "#b8e186"
            ],
            [
             0.8,
             "#7fbc41"
            ],
            [
             0.9,
             "#4d9221"
            ],
            [
             1,
             "#276419"
            ]
           ],
           "sequential": [
            [
             0,
             "#0d0887"
            ],
            [
             0.1111111111111111,
             "#46039f"
            ],
            [
             0.2222222222222222,
             "#7201a8"
            ],
            [
             0.3333333333333333,
             "#9c179e"
            ],
            [
             0.4444444444444444,
             "#bd3786"
            ],
            [
             0.5555555555555556,
             "#d8576b"
            ],
            [
             0.6666666666666666,
             "#ed7953"
            ],
            [
             0.7777777777777778,
             "#fb9f3a"
            ],
            [
             0.8888888888888888,
             "#fdca26"
            ],
            [
             1,
             "#f0f921"
            ]
           ],
           "sequentialminus": [
            [
             0,
             "#0d0887"
            ],
            [
             0.1111111111111111,
             "#46039f"
            ],
            [
             0.2222222222222222,
             "#7201a8"
            ],
            [
             0.3333333333333333,
             "#9c179e"
            ],
            [
             0.4444444444444444,
             "#bd3786"
            ],
            [
             0.5555555555555556,
             "#d8576b"
            ],
            [
             0.6666666666666666,
             "#ed7953"
            ],
            [
             0.7777777777777778,
             "#fb9f3a"
            ],
            [
             0.8888888888888888,
             "#fdca26"
            ],
            [
             1,
             "#f0f921"
            ]
           ]
          },
          "colorway": [
           "#636efa",
           "#EF553B",
           "#00cc96",
           "#ab63fa",
           "#FFA15A",
           "#19d3f3",
           "#FF6692",
           "#B6E880",
           "#FF97FF",
           "#FECB52"
          ],
          "font": {
           "color": "#2a3f5f"
          },
          "geo": {
           "bgcolor": "white",
           "lakecolor": "white",
           "landcolor": "#E5ECF6",
           "showlakes": true,
           "showland": true,
           "subunitcolor": "white"
          },
          "hoverlabel": {
           "align": "left"
          },
          "hovermode": "closest",
          "mapbox": {
           "style": "light"
          },
          "paper_bgcolor": "white",
          "plot_bgcolor": "#E5ECF6",
          "polar": {
           "angularaxis": {
            "gridcolor": "white",
            "linecolor": "white",
            "ticks": ""
           },
           "bgcolor": "#E5ECF6",
           "radialaxis": {
            "gridcolor": "white",
            "linecolor": "white",
            "ticks": ""
           }
          },
          "scene": {
           "xaxis": {
            "backgroundcolor": "#E5ECF6",
            "gridcolor": "white",
            "gridwidth": 2,
            "linecolor": "white",
            "showbackground": true,
            "ticks": "",
            "zerolinecolor": "white"
           },
           "yaxis": {
            "backgroundcolor": "#E5ECF6",
            "gridcolor": "white",
            "gridwidth": 2,
            "linecolor": "white",
            "showbackground": true,
            "ticks": "",
            "zerolinecolor": "white"
           },
           "zaxis": {
            "backgroundcolor": "#E5ECF6",
            "gridcolor": "white",
            "gridwidth": 2,
            "linecolor": "white",
            "showbackground": true,
            "ticks": "",
            "zerolinecolor": "white"
           }
          },
          "shapedefaults": {
           "line": {
            "color": "#2a3f5f"
           }
          },
          "ternary": {
           "aaxis": {
            "gridcolor": "white",
            "linecolor": "white",
            "ticks": ""
           },
           "baxis": {
            "gridcolor": "white",
            "linecolor": "white",
            "ticks": ""
           },
           "bgcolor": "#E5ECF6",
           "caxis": {
            "gridcolor": "white",
            "linecolor": "white",
            "ticks": ""
           }
          },
          "title": {
           "x": 0.05
          },
          "xaxis": {
           "automargin": true,
           "gridcolor": "white",
           "linecolor": "white",
           "ticks": "",
           "zerolinecolor": "white",
           "zerolinewidth": 2
          },
          "yaxis": {
           "automargin": true,
           "gridcolor": "white",
           "linecolor": "white",
           "ticks": "",
           "zerolinecolor": "white",
           "zerolinewidth": 2
          }
         }
        },
        "title": {
         "text": "Linear regression on synthetic data"
        }
       }
      },
      "text/html": [
       "<div>\n",
       "        \n",
       "        \n",
       "            <div id=\"f4f8d0f3-49c9-4a0c-adc8-ed5d1866c2bb\" class=\"plotly-graph-div\" style=\"height:525px; width:100%;\"></div>\n",
       "            <script type=\"text/javascript\">\n",
       "                require([\"plotly\"], function(Plotly) {\n",
       "                    window.PLOTLYENV=window.PLOTLYENV || {};\n",
       "                    \n",
       "                if (document.getElementById(\"f4f8d0f3-49c9-4a0c-adc8-ed5d1866c2bb\")) {\n",
       "                    Plotly.newPlot(\n",
       "                        'f4f8d0f3-49c9-4a0c-adc8-ed5d1866c2bb',\n",
       "                        [{\"mode\": \"markers\", \"name\": \"Data\", \"type\": \"scatter\", \"x\": [0.0, 0.10101010101010101, 0.20202020202020202, 0.30303030303030304, 0.40404040404040403, 0.5050505050505051, 0.6060606060606061, 0.7070707070707071, 0.8080808080808081, 0.9090909090909091, 1.0101010101010102, 1.1111111111111112, 1.2121212121212122, 1.3131313131313131, 1.4141414141414141, 1.5151515151515151, 1.6161616161616161, 1.7171717171717171, 1.8181818181818181, 1.9191919191919191, 2.0202020202020203, 2.121212121212121, 2.2222222222222223, 2.323232323232323, 2.4242424242424243, 2.525252525252525, 2.6262626262626263, 2.727272727272727, 2.8282828282828283, 2.929292929292929, 3.0303030303030303, 3.131313131313131, 3.2323232323232323, 3.3333333333333335, 3.4343434343434343, 3.5353535353535355, 3.6363636363636362, 3.7373737373737375, 3.8383838383838382, 3.9393939393939394, 4.040404040404041, 4.141414141414141, 4.242424242424242, 4.343434343434343, 4.444444444444445, 4.545454545454545, 4.646464646464646, 4.747474747474747, 4.848484848484849, 4.94949494949495, 5.05050505050505, 5.151515151515151, 5.252525252525253, 5.353535353535354, 5.454545454545454, 5.555555555555555, 5.656565656565657, 5.757575757575758, 5.858585858585858, 5.959595959595959, 6.0606060606060606, 6.161616161616162, 6.262626262626262, 6.363636363636363, 6.4646464646464645, 6.565656565656566, 6.666666666666667, 6.767676767676767, 6.8686868686868685, 6.96969696969697, 7.070707070707071, 7.171717171717171, 7.2727272727272725, 7.373737373737374, 7.474747474747475, 7.575757575757575, 7.6767676767676765, 7.777777777777778, 7.878787878787879, 7.979797979797979, 8.080808080808081, 8.181818181818182, 8.282828282828282, 8.383838383838384, 8.484848484848484, 8.585858585858587, 8.686868686868687, 8.787878787878787, 8.88888888888889, 8.98989898989899, 9.09090909090909, 9.191919191919192, 9.292929292929292, 9.393939393939394, 9.494949494949495, 9.595959595959595, 9.696969696969697, 9.797979797979798, 9.8989898989899, 10.0], \"y\": [-0.12539017074869654, -0.1461529266831243, 0.013614226054457107, -0.14179700215196928, 0.13700098467170407, 0.09170232221385402, 0.0037548954289353623, 0.07318699463474022, -0.02643432048486337, 0.02540451080269502, -0.05291225655010749, -0.09374024301950366, -0.03718045018222975, 0.12129348345914123, -0.04663290756162806, 0.0409206668928876, 0.03202822642859259, -0.012066301615040482, -0.0869281251164693, 0.04314353413546195, -0.0355077030315591, 0.028231988813847676, 0.10478965054586878, -0.030453616289173188, 0.011677798046430064, 0.04002846390083738, 0.00047789185127316506, 0.057012756617815276, 0.053025927245596086, -0.07359918774930464, 0.012289709687844343, -0.09077952070750257, -0.08417841506724376, -0.09146755635377136, 0.005886687248998343, 0.039652225366272366, -0.022853663018615637, -0.08242196024721743, 0.013481235276644583, -0.02255611602733571, -0.0363883299690871, 0.08105698090607343, -0.026306887231704386, 0.06803690272693345, 0.1479839394945305, 0.12905154197280533, 0.17895502760009346, 0.1691782620046765, -0.06682354308331091, 0.07623191615573406, 0.21064183088222008, 0.18529386543178172, 0.1155733821948841, 0.048012647829359364, 0.0286236051421441, 0.16787299918504392, -0.028536829463599533, 0.03928681281939099, 0.30056947271128415, 0.19112880633245316, 0.12078750707700597, 0.1620372724077003, 0.004279738902691899, 0.1822067742126028, 0.17629362973438856, 0.25669125918238667, 0.3301811736530552, 0.2714652788410682, 0.25986554663024575, 0.25914800174670116, 0.43743605217720805, 0.22912860635455623, 0.3499621259386155, 0.3441604449803355, 0.3981065647527507, 0.32589689683501644, 0.468086349270713, 0.28767233427263683, 0.3488562676565692, 0.38607631973522083, 0.40899273908279854, 0.44363328828620396, 0.6163877534352922, 0.626257738939209, 0.5430673511136312, 0.7168873409546186, 0.7047506325397179, 0.7149817736765808, 0.7397718948490235, 0.9033247163599492, 0.8412878363566938, 0.8650883793797643, 0.7588316260553303, 0.7779396304861195, 1.0111008572337246, 0.8770888753547198, 1.0796561808378913, 0.9896888671153208, 1.2414378357730893, 1.0297409963448116]}, {\"mode\": \"lines\", \"name\": \"Regressor Lin\", \"text\": \"MSE: 0.03090022149816667\", \"type\": \"scatter\", \"x\": [0.0, 0.10101010101010101, 0.20202020202020202, 0.30303030303030304, 0.40404040404040403, 0.5050505050505051, 0.6060606060606061, 0.7070707070707071, 0.8080808080808081, 0.9090909090909091, 1.0101010101010102, 1.1111111111111112, 1.2121212121212122, 1.3131313131313131, 1.4141414141414141, 1.5151515151515151, 1.6161616161616161, 1.7171717171717171, 1.8181818181818181, 1.9191919191919191, 2.0202020202020203, 2.121212121212121, 2.2222222222222223, 2.323232323232323, 2.4242424242424243, 2.525252525252525, 2.6262626262626263, 2.727272727272727, 2.8282828282828283, 2.929292929292929, 3.0303030303030303, 3.131313131313131, 3.2323232323232323, 3.3333333333333335, 3.4343434343434343, 3.5353535353535355, 3.6363636363636362, 3.7373737373737375, 3.8383838383838382, 3.9393939393939394, 4.040404040404041, 4.141414141414141, 4.242424242424242, 4.343434343434343, 4.444444444444445, 4.545454545454545, 4.646464646464646, 4.747474747474747, 4.848484848484849, 4.94949494949495, 5.05050505050505, 5.151515151515151, 5.252525252525253, 5.353535353535354, 5.454545454545454, 5.555555555555555, 5.656565656565657, 5.757575757575758, 5.858585858585858, 5.959595959595959, 6.0606060606060606, 6.161616161616162, 6.262626262626262, 6.363636363636363, 6.4646464646464645, 6.565656565656566, 6.666666666666667, 6.767676767676767, 6.8686868686868685, 6.96969696969697, 7.070707070707071, 7.171717171717171, 7.2727272727272725, 7.373737373737374, 7.474747474747475, 7.575757575757575, 7.6767676767676765, 7.777777777777778, 7.878787878787879, 7.979797979797979, 8.080808080808081, 8.181818181818182, 8.282828282828282, 8.383838383838384, 8.484848484848484, 8.585858585858587, 8.686868686868687, 8.787878787878787, 8.88888888888889, 8.98989898989899, 9.09090909090909, 9.191919191919192, 9.292929292929292, 9.393939393939394, 9.494949494949495, 9.595959595959595, 9.696969696969697, 9.797979797979798, 9.8989898989899, 10.0], \"y\": [-0.24915619493307245, -0.23891045699620866, -0.22866471905934488, -0.2184189811224811, -0.2081732431856173, -0.19792750524875352, -0.18768176731188974, -0.17743602937502595, -0.16719029143816216, -0.15694455350129838, -0.1466988155644346, -0.1364530776275708, -0.12620733969070702, -0.11596160175384326, -0.10571586381697948, -0.09547012588011569, -0.0852243879432519, -0.07497865000638812, -0.06473291206952433, -0.05448717413266055, -0.04424143619579676, -0.033995698258933005, -0.02374996032206919, -0.013504222385205433, -0.0032584844483416198, 0.006987253488522138, 0.017232991425385924, 0.02747872936224971, 0.037724467299113495, 0.04797020523597728, 0.05821594317284107, 0.06846168110970485, 0.07870741904656864, 0.08895315698343242, 0.09919889492029621, 0.10944463285716, 0.11969037079402378, 0.12993610873088757, 0.14018184666775135, 0.15042758460461514, 0.16067332254147892, 0.17091906047834265, 0.18116479841520644, 0.19141053635207028, 0.20165627428893407, 0.2119020122257978, 0.22214775016266158, 0.23239348809952537, 0.2426392260363892, 0.25288496397325305, 0.2631307019101167, 0.2733764398469805, 0.2836221777838443, 0.2938679157207081, 0.30411365365757187, 0.31435939159443566, 0.32460512953129944, 0.3348508674681632, 0.345096605405027, 0.3553423433418908, 0.3655880812787546, 0.37583381921561837, 0.38607955715248216, 0.39632529508934594, 0.4065710330262097, 0.4168167709630735, 0.4270625088999373, 0.4373082468368011, 0.44755398477366487, 0.45779972271052866, 0.46804546064739244, 0.4782911985842562, 0.48853693652112, 0.4987826744579838, 0.5090284123948476, 0.5192741503317113, 0.5295198882685752, 0.5397656262054389, 0.5500113641423028, 0.5602571020791665, 0.5705028400160304, 0.580748577952894, 0.5909943158897577, 0.6012400538266216, 0.6114857917634853, 0.6217315297003492, 0.6319772676372131, 0.6422230055740767, 0.6524687435109406, 0.6627144814478043, 0.672960219384668, 0.6832059573215319, 0.6934516952583956, 0.7036974331952595, 0.7139431711321231, 0.724188909068987, 0.7344346470058509, 0.7446803849427146, 0.7549261228795785, 0.7651718608164422]}, {\"mode\": \"lines\", \"name\": \"Regressor KNN\", \"text\": \"MSE: 0.006748728285142347\", \"type\": \"scatter\", \"x\": [0.0, 0.10101010101010101, 0.20202020202020202, 0.30303030303030304, 0.40404040404040403, 0.5050505050505051, 0.6060606060606061, 0.7070707070707071, 0.8080808080808081, 0.9090909090909091, 1.0101010101010102, 1.1111111111111112, 1.2121212121212122, 1.3131313131313131, 1.4141414141414141, 1.5151515151515151, 1.6161616161616161, 1.7171717171717171, 1.8181818181818181, 1.9191919191919191, 2.0202020202020203, 2.121212121212121, 2.2222222222222223, 2.323232323232323, 2.4242424242424243, 2.525252525252525, 2.6262626262626263, 2.727272727272727, 2.8282828282828283, 2.929292929292929, 3.0303030303030303, 3.131313131313131, 3.2323232323232323, 3.3333333333333335, 3.4343434343434343, 3.5353535353535355, 3.6363636363636362, 3.7373737373737375, 3.8383838383838382, 3.9393939393939394, 4.040404040404041, 4.141414141414141, 4.242424242424242, 4.343434343434343, 4.444444444444445, 4.545454545454545, 4.646464646464646, 4.747474747474747, 4.848484848484849, 4.94949494949495, 5.05050505050505, 5.151515151515151, 5.252525252525253, 5.353535353535354, 5.454545454545454, 5.555555555555555, 5.656565656565657, 5.757575757575758, 5.858585858585858, 5.959595959595959, 6.0606060606060606, 6.161616161616162, 6.262626262626262, 6.363636363636363, 6.4646464646464645, 6.565656565656566, 6.666666666666667, 6.767676767676767, 6.8686868686868685, 6.96969696969697, 7.070707070707071, 7.171717171717171, 7.2727272727272725, 7.373737373737374, 7.474747474747475, 7.575757575757575, 7.6767676767676765, 7.777777777777778, 7.878787878787879, 7.979797979797979, 8.080808080808081, 8.181818181818182, 8.282828282828282, 8.383838383838384, 8.484848484848484, 8.585858585858587, 8.686868686868687, 8.787878787878787, 8.88888888888889, 8.98989898989899, 9.09090909090909, 9.191919191919192, 9.292929292929292, 9.393939393939394, 9.494949494949495, 9.595959595959595, 9.696969696969697, 9.797979797979798, 9.8989898989899, 10.0], \"y\": [-0.009977651035302388, -0.009977651035302388, -0.009977651035302388, -0.009977651035302385, 0.05621473742584321, 0.05621473742584321, 0.05621473742584321, 0.03411546695545687, 0.03411546695545687, -0.026806667432506658, -0.026806667432506658, -0.026806667432506658, -0.026806667432506658, -0.026806667432506658, -0.06425087940556144, -0.06425087940556144, -0.06425087940556144, -0.06425087940556144, -0.04272086120671557, -0.02492414507292202, -0.02492414507292202, -0.02492414507292202, -0.024924145072922024, -0.024924145072922024, -0.024924145072922024, -0.026207943603266448, -0.026207943603266448, -0.026207943603266448, -0.026207943603266448, -0.026207943603266448, -0.016883134496652345, -0.01688313449665235, -0.01688313449665235, -0.024561137122855306, -0.024561137122855306, -0.024561137122855306, -0.006430740210050148, -0.006430740210050148, -0.0317775919885033, -0.0317775919885033, -0.0317775919885033, -0.0317775919885033, -0.0015799190704135814, 0.07020120011931327, 0.14198231930904012, 0.14198231930904012, 0.1756961057349545, 0.1756961057349545, 0.15201733634754355, 0.15201733634754355, 0.15201733634754355, 0.1116287982891045, 0.09575936128457452, 0.09575936128457452, 0.09575936128457452, 0.08925501976798554, 0.08925501976798554, 0.08925501976798554, 0.08925501976798554, 0.08925501976798554, 0.08925501976798554, 0.16373923010522182, 0.16373923010522182, 0.16373923010522182, 0.16373923010522182, 0.2628303273361792, 0.2628303273361792, 0.2628303273361792, 0.35514950831559916, 0.35514950831559916, 0.35514950831559916, 0.35514950831559916, 0.42068986512548084, 0.42068986512548084, 0.42068986512548084, 0.42068986512548084, 0.42068986512548084, 0.4283429887326651, 0.4283429887326651, 0.4283429887326651, 0.5060604525698031, 0.5060604525698031, 0.5060604525698031, 0.6281022879098069, 0.6281022879098069, 0.6576769661555977, 0.6576769661555976, 0.7232451474007284, 0.7860261282951845, 0.7860261282951845, 0.877833825039826, 0.8650883793797645, 0.8650883793797645, 0.8650883793797645, 0.9481553712034687, 0.9481553712034687, 0.9481553712034687, 0.9481553712034687, 0.9481553712034687, 0.9481553712034687]}, {\"mode\": \"lines\", \"name\": \"Regressor DT\", \"text\": \"MSE: 0.006609030972917962\", \"type\": \"scatter\", \"x\": [0.0, 0.10101010101010101, 0.20202020202020202, 0.30303030303030304, 0.40404040404040403, 0.5050505050505051, 0.6060606060606061, 0.7070707070707071, 0.8080808080808081, 0.9090909090909091, 1.0101010101010102, 1.1111111111111112, 1.2121212121212122, 1.3131313131313131, 1.4141414141414141, 1.5151515151515151, 1.6161616161616161, 1.7171717171717171, 1.8181818181818181, 1.9191919191919191, 2.0202020202020203, 2.121212121212121, 2.2222222222222223, 2.323232323232323, 2.4242424242424243, 2.525252525252525, 2.6262626262626263, 2.727272727272727, 2.8282828282828283, 2.929292929292929, 3.0303030303030303, 3.131313131313131, 3.2323232323232323, 3.3333333333333335, 3.4343434343434343, 3.5353535353535355, 3.6363636363636362, 3.7373737373737375, 3.8383838383838382, 3.9393939393939394, 4.040404040404041, 4.141414141414141, 4.242424242424242, 4.343434343434343, 4.444444444444445, 4.545454545454545, 4.646464646464646, 4.747474747474747, 4.848484848484849, 4.94949494949495, 5.05050505050505, 5.151515151515151, 5.252525252525253, 5.353535353535354, 5.454545454545454, 5.555555555555555, 5.656565656565657, 5.757575757575758, 5.858585858585858, 5.959595959595959, 6.0606060606060606, 6.161616161616162, 6.262626262626262, 6.363636363636363, 6.4646464646464645, 6.565656565656566, 6.666666666666667, 6.767676767676767, 6.8686868686868685, 6.96969696969697, 7.070707070707071, 7.171717171717171, 7.2727272727272725, 7.373737373737374, 7.474747474747475, 7.575757575757575, 7.6767676767676765, 7.777777777777778, 7.878787878787879, 7.979797979797979, 8.080808080808081, 8.181818181818182, 8.282828282828282, 8.383838383838384, 8.484848484848484, 8.585858585858587, 8.686868686868687, 8.787878787878787, 8.88888888888889, 8.98989898989899, 9.09090909090909, 9.191919191919192, 9.292929292929292, 9.393939393939394, 9.494949494949495, 9.595959595959595, 9.696969696969697, 9.797979797979798, 9.8989898989899, 10.0], \"y\": [-0.12539017074869654, -0.12539017074869654, -0.12539017074869654, 0.09170232221385402, 0.09170232221385402, 0.09170232221385402, 0.0037548954289353623, 0.07318699463474022, 0.07318699463474022, 0.02540451080269502, -0.05291225655010749, -0.05291225655010749, -0.05291225655010749, -0.05291225655010749, -0.05291225655010749, -0.0869281251164693, -0.0869281251164693, -0.0869281251164693, -0.0869281251164693, -0.0869281251164693, -0.0869281251164693, -0.0869281251164693, 0.011677798046430064, 0.011677798046430064, 0.011677798046430064, 0.011677798046430064, 0.00047789185127316506, 0.00047789185127316506, 0.00047789185127316506, -0.09077952070750257, -0.09077952070750257, -0.09077952070750257, -0.09077952070750257, -0.09077952070750257, 0.039652225366272366, 0.039652225366272366, 0.039652225366272366, -0.02255611602733571, -0.02255611602733571, -0.02255611602733571, -0.0363883299690871, -0.0363883299690871, 0.06803690272693345, 0.06803690272693345, 0.06803690272693345, 0.17895502760009346, 0.17895502760009346, 0.1691782620046765, 0.07623191615573406, 0.07623191615573406, 0.21064183088222008, 0.21064183088222008, 0.048012647829359364, 0.048012647829359364, 0.0286236051421441, 0.0286236051421441, 0.0286236051421441, 0.19112880633245316, 0.19112880633245316, 0.19112880633245316, 0.19112880633245316, 0.19112880633245316, 0.19112880633245316, 0.19112880633245316, 0.2714652788410682, 0.2714652788410682, 0.2714652788410682, 0.2714652788410682, 0.2714652788410682, 0.2714652788410682, 0.2714652788410682, 0.2714652788410682, 0.32589689683501644, 0.32589689683501644, 0.32589689683501644, 0.32589689683501644, 0.468086349270713, 0.468086349270713, 0.3488562676565692, 0.3488562676565692, 0.3488562676565692, 0.626257738939209, 0.626257738939209, 0.626257738939209, 0.5430673511136312, 0.5430673511136312, 0.7149817736765808, 0.7149817736765808, 0.7397718948490235, 0.9033247163599492, 0.9033247163599492, 0.8650883793797645, 0.8650883793797645, 0.8650883793797645, 0.8650883793797645, 0.9896888671153208, 0.9896888671153208, 0.9896888671153208, 0.9896888671153208, 0.9896888671153208]}],\n",
       "                        {\"template\": {\"data\": {\"bar\": [{\"error_x\": {\"color\": \"#2a3f5f\"}, \"error_y\": {\"color\": \"#2a3f5f\"}, \"marker\": {\"line\": {\"color\": \"#E5ECF6\", \"width\": 0.5}}, \"type\": \"bar\"}], \"barpolar\": [{\"marker\": {\"line\": {\"color\": \"#E5ECF6\", \"width\": 0.5}}, \"type\": \"barpolar\"}], \"carpet\": [{\"aaxis\": {\"endlinecolor\": \"#2a3f5f\", \"gridcolor\": \"white\", \"linecolor\": \"white\", \"minorgridcolor\": \"white\", \"startlinecolor\": \"#2a3f5f\"}, \"baxis\": {\"endlinecolor\": \"#2a3f5f\", \"gridcolor\": \"white\", \"linecolor\": \"white\", \"minorgridcolor\": \"white\", \"startlinecolor\": \"#2a3f5f\"}, \"type\": \"carpet\"}], \"choropleth\": [{\"colorbar\": {\"outlinewidth\": 0, \"ticks\": \"\"}, \"type\": \"choropleth\"}], \"contour\": [{\"colorbar\": {\"outlinewidth\": 0, \"ticks\": \"\"}, \"colorscale\": [[0.0, \"#0d0887\"], [0.1111111111111111, \"#46039f\"], [0.2222222222222222, \"#7201a8\"], [0.3333333333333333, \"#9c179e\"], [0.4444444444444444, \"#bd3786\"], [0.5555555555555556, \"#d8576b\"], [0.6666666666666666, \"#ed7953\"], [0.7777777777777778, \"#fb9f3a\"], [0.8888888888888888, \"#fdca26\"], [1.0, \"#f0f921\"]], \"type\": \"contour\"}], \"contourcarpet\": [{\"colorbar\": {\"outlinewidth\": 0, \"ticks\": \"\"}, \"type\": \"contourcarpet\"}], \"heatmap\": [{\"colorbar\": {\"outlinewidth\": 0, \"ticks\": \"\"}, \"colorscale\": [[0.0, \"#0d0887\"], [0.1111111111111111, \"#46039f\"], [0.2222222222222222, \"#7201a8\"], [0.3333333333333333, \"#9c179e\"], [0.4444444444444444, \"#bd3786\"], [0.5555555555555556, \"#d8576b\"], [0.6666666666666666, \"#ed7953\"], [0.7777777777777778, \"#fb9f3a\"], [0.8888888888888888, \"#fdca26\"], [1.0, \"#f0f921\"]], \"type\": \"heatmap\"}], \"heatmapgl\": [{\"colorbar\": {\"outlinewidth\": 0, \"ticks\": \"\"}, \"colorscale\": [[0.0, \"#0d0887\"], [0.1111111111111111, \"#46039f\"], [0.2222222222222222, \"#7201a8\"], [0.3333333333333333, \"#9c179e\"], [0.4444444444444444, \"#bd3786\"], [0.5555555555555556, \"#d8576b\"], [0.6666666666666666, \"#ed7953\"], [0.7777777777777778, \"#fb9f3a\"], [0.8888888888888888, \"#fdca26\"], [1.0, \"#f0f921\"]], \"type\": \"heatmapgl\"}], \"histogram\": [{\"marker\": {\"colorbar\": {\"outlinewidth\": 0, \"ticks\": \"\"}}, \"type\": \"histogram\"}], \"histogram2d\": [{\"colorbar\": {\"outlinewidth\": 0, \"ticks\": \"\"}, \"colorscale\": [[0.0, \"#0d0887\"], [0.1111111111111111, \"#46039f\"], [0.2222222222222222, \"#7201a8\"], [0.3333333333333333, \"#9c179e\"], [0.4444444444444444, \"#bd3786\"], [0.5555555555555556, \"#d8576b\"], [0.6666666666666666, \"#ed7953\"], [0.7777777777777778, \"#fb9f3a\"], [0.8888888888888888, \"#fdca26\"], [1.0, \"#f0f921\"]], \"type\": \"histogram2d\"}], \"histogram2dcontour\": [{\"colorbar\": {\"outlinewidth\": 0, \"ticks\": \"\"}, \"colorscale\": [[0.0, \"#0d0887\"], [0.1111111111111111, \"#46039f\"], [0.2222222222222222, \"#7201a8\"], [0.3333333333333333, \"#9c179e\"], [0.4444444444444444, \"#bd3786\"], [0.5555555555555556, \"#d8576b\"], [0.6666666666666666, \"#ed7953\"], [0.7777777777777778, \"#fb9f3a\"], [0.8888888888888888, \"#fdca26\"], [1.0, \"#f0f921\"]], \"type\": \"histogram2dcontour\"}], \"mesh3d\": [{\"colorbar\": {\"outlinewidth\": 0, \"ticks\": \"\"}, \"type\": \"mesh3d\"}], \"parcoords\": [{\"line\": {\"colorbar\": {\"outlinewidth\": 0, \"ticks\": \"\"}}, \"type\": \"parcoords\"}], \"scatter\": [{\"marker\": {\"colorbar\": {\"outlinewidth\": 0, \"ticks\": \"\"}}, \"type\": \"scatter\"}], \"scatter3d\": [{\"line\": {\"colorbar\": {\"outlinewidth\": 0, \"ticks\": \"\"}}, \"marker\": {\"colorbar\": {\"outlinewidth\": 0, \"ticks\": \"\"}}, \"type\": \"scatter3d\"}], \"scattercarpet\": [{\"marker\": {\"colorbar\": {\"outlinewidth\": 0, \"ticks\": \"\"}}, \"type\": \"scattercarpet\"}], \"scattergeo\": [{\"marker\": {\"colorbar\": {\"outlinewidth\": 0, \"ticks\": \"\"}}, \"type\": \"scattergeo\"}], \"scattergl\": [{\"marker\": {\"colorbar\": {\"outlinewidth\": 0, \"ticks\": \"\"}}, \"type\": \"scattergl\"}], \"scattermapbox\": [{\"marker\": {\"colorbar\": {\"outlinewidth\": 0, \"ticks\": \"\"}}, \"type\": \"scattermapbox\"}], \"scatterpolar\": [{\"marker\": {\"colorbar\": {\"outlinewidth\": 0, \"ticks\": \"\"}}, \"type\": \"scatterpolar\"}], \"scatterpolargl\": [{\"marker\": {\"colorbar\": {\"outlinewidth\": 0, \"ticks\": \"\"}}, \"type\": \"scatterpolargl\"}], \"scatterternary\": [{\"marker\": {\"colorbar\": {\"outlinewidth\": 0, \"ticks\": \"\"}}, \"type\": \"scatterternary\"}], \"surface\": [{\"colorbar\": {\"outlinewidth\": 0, \"ticks\": \"\"}, \"colorscale\": [[0.0, \"#0d0887\"], [0.1111111111111111, \"#46039f\"], [0.2222222222222222, \"#7201a8\"], [0.3333333333333333, \"#9c179e\"], [0.4444444444444444, \"#bd3786\"], [0.5555555555555556, \"#d8576b\"], [0.6666666666666666, \"#ed7953\"], [0.7777777777777778, \"#fb9f3a\"], [0.8888888888888888, \"#fdca26\"], [1.0, \"#f0f921\"]], \"type\": \"surface\"}], \"table\": [{\"cells\": {\"fill\": {\"color\": \"#EBF0F8\"}, \"line\": {\"color\": \"white\"}}, \"header\": {\"fill\": {\"color\": \"#C8D4E3\"}, \"line\": {\"color\": \"white\"}}, \"type\": \"table\"}]}, \"layout\": {\"annotationdefaults\": {\"arrowcolor\": \"#2a3f5f\", \"arrowhead\": 0, \"arrowwidth\": 1}, \"colorscale\": {\"diverging\": [[0, \"#8e0152\"], [0.1, \"#c51b7d\"], [0.2, \"#de77ae\"], [0.3, \"#f1b6da\"], [0.4, \"#fde0ef\"], [0.5, \"#f7f7f7\"], [0.6, \"#e6f5d0\"], [0.7, \"#b8e186\"], [0.8, \"#7fbc41\"], [0.9, \"#4d9221\"], [1, \"#276419\"]], \"sequential\": [[0.0, \"#0d0887\"], [0.1111111111111111, \"#46039f\"], [0.2222222222222222, \"#7201a8\"], [0.3333333333333333, \"#9c179e\"], [0.4444444444444444, \"#bd3786\"], [0.5555555555555556, \"#d8576b\"], [0.6666666666666666, \"#ed7953\"], [0.7777777777777778, \"#fb9f3a\"], [0.8888888888888888, \"#fdca26\"], [1.0, \"#f0f921\"]], \"sequentialminus\": [[0.0, \"#0d0887\"], [0.1111111111111111, \"#46039f\"], [0.2222222222222222, \"#7201a8\"], [0.3333333333333333, \"#9c179e\"], [0.4444444444444444, \"#bd3786\"], [0.5555555555555556, \"#d8576b\"], [0.6666666666666666, \"#ed7953\"], [0.7777777777777778, \"#fb9f3a\"], [0.8888888888888888, \"#fdca26\"], [1.0, \"#f0f921\"]]}, \"colorway\": [\"#636efa\", \"#EF553B\", \"#00cc96\", \"#ab63fa\", \"#FFA15A\", \"#19d3f3\", \"#FF6692\", \"#B6E880\", \"#FF97FF\", \"#FECB52\"], \"font\": {\"color\": \"#2a3f5f\"}, \"geo\": {\"bgcolor\": \"white\", \"lakecolor\": \"white\", \"landcolor\": \"#E5ECF6\", \"showlakes\": true, \"showland\": true, \"subunitcolor\": \"white\"}, \"hoverlabel\": {\"align\": \"left\"}, \"hovermode\": \"closest\", \"mapbox\": {\"style\": \"light\"}, \"paper_bgcolor\": \"white\", \"plot_bgcolor\": \"#E5ECF6\", \"polar\": {\"angularaxis\": {\"gridcolor\": \"white\", \"linecolor\": \"white\", \"ticks\": \"\"}, \"bgcolor\": \"#E5ECF6\", \"radialaxis\": {\"gridcolor\": \"white\", \"linecolor\": \"white\", \"ticks\": \"\"}}, \"scene\": {\"xaxis\": {\"backgroundcolor\": \"#E5ECF6\", \"gridcolor\": \"white\", \"gridwidth\": 2, \"linecolor\": \"white\", \"showbackground\": true, \"ticks\": \"\", \"zerolinecolor\": \"white\"}, \"yaxis\": {\"backgroundcolor\": \"#E5ECF6\", \"gridcolor\": \"white\", \"gridwidth\": 2, \"linecolor\": \"white\", \"showbackground\": true, \"ticks\": \"\", \"zerolinecolor\": \"white\"}, \"zaxis\": {\"backgroundcolor\": \"#E5ECF6\", \"gridcolor\": \"white\", \"gridwidth\": 2, \"linecolor\": \"white\", \"showbackground\": true, \"ticks\": \"\", \"zerolinecolor\": \"white\"}}, \"shapedefaults\": {\"line\": {\"color\": \"#2a3f5f\"}}, \"ternary\": {\"aaxis\": {\"gridcolor\": \"white\", \"linecolor\": \"white\", \"ticks\": \"\"}, \"baxis\": {\"gridcolor\": \"white\", \"linecolor\": \"white\", \"ticks\": \"\"}, \"bgcolor\": \"#E5ECF6\", \"caxis\": {\"gridcolor\": \"white\", \"linecolor\": \"white\", \"ticks\": \"\"}}, \"title\": {\"x\": 0.05}, \"xaxis\": {\"automargin\": true, \"gridcolor\": \"white\", \"linecolor\": \"white\", \"ticks\": \"\", \"zerolinecolor\": \"white\", \"zerolinewidth\": 2}, \"yaxis\": {\"automargin\": true, \"gridcolor\": \"white\", \"linecolor\": \"white\", \"ticks\": \"\", \"zerolinecolor\": \"white\", \"zerolinewidth\": 2}}}, \"title\": {\"text\": \"Linear regression on synthetic data\"}},\n",
       "                        {\"responsive\": true}\n",
       "                    ).then(function(){\n",
       "                            \n",
       "var gd = document.getElementById('f4f8d0f3-49c9-4a0c-adc8-ed5d1866c2bb');\n",
       "var x = new MutationObserver(function (mutations, observer) {{\n",
       "        var display = window.getComputedStyle(gd).display;\n",
       "        if (!display || display === 'none') {{\n",
       "            console.log([gd, 'removed!']);\n",
       "            Plotly.purge(gd);\n",
       "            observer.disconnect();\n",
       "        }}\n",
       "}});\n",
       "\n",
       "// Listen for the removal of the full notebook cells\n",
       "var notebookContainer = gd.closest('#notebook-container');\n",
       "if (notebookContainer) {{\n",
       "    x.observe(notebookContainer, {childList: true});\n",
       "}}\n",
       "\n",
       "// Listen for the clearing of the current output cell\n",
       "var outputEl = gd.closest('.output');\n",
       "if (outputEl) {{\n",
       "    x.observe(outputEl, {childList: true});\n",
       "}}\n",
       "\n",
       "                        })\n",
       "                };\n",
       "                });\n",
       "            </script>\n",
       "        </div>"
      ]
     },
     "metadata": {},
     "output_type": "display_data"
    }
   ],
   "source": [
    "iplot(reg_plotly_plot(x,y,\n",
    "                      [lin_preds,knn_preds,dt_preds],\n",
    "                      [\"Lin\",\"KNN\",\"DT\"]\n",
    "                     )\n",
    "     )"
   ]
  },
  {
   "cell_type": "markdown",
   "metadata": {},
   "source": [
    "### Classification and more dimensions (also synth)"
   ]
  },
  {
   "cell_type": "markdown",
   "metadata": {},
   "source": [
    "First of all, create the data"
   ]
  },
  {
   "cell_type": "code",
   "execution_count": 47,
   "metadata": {},
   "outputs": [],
   "source": [
    "c11 = np.random.rand(40,2)\n",
    "c12 = np.array([0,.8])+np.array([2,1.1])*np.random.rand(30,2)\n",
    "c21 = np.array([.8,0])+np.random.rand(60,2)\n",
    "\n",
    "c1 = np.concatenate([c11,c12])\n",
    "c2 = c21"
   ]
  },
  {
   "cell_type": "code",
   "execution_count": 48,
   "metadata": {},
   "outputs": [
    {
     "data": {
      "image/png": "[encoded data removed]",
      "text/plain": [
       "<Figure size 432x288 with 1 Axes>"
      ]
     },
     "metadata": {
      "needs_background": "light"
     },
     "output_type": "display_data"
    }
   ],
   "source": [
    "plt.scatter(c1[:,0],c1[:,1]); ## groundtruth\n",
    "plt.scatter(c2[:,0],c2[:,1]);"
   ]
  },
  {
   "cell_type": "code",
   "execution_count": 49,
   "metadata": {},
   "outputs": [],
   "source": [
    "import pandas as pd"
   ]
  },
  {
   "cell_type": "code",
   "execution_count": 50,
   "metadata": {},
   "outputs": [],
   "source": [
    "c1 = np.append(c1, np.ones([len(c1),1]), axis=1)\n",
    "c2 = np.append(c2, 2*np.ones([len(c2),1]), axis=1)"
   ]
  },
  {
   "cell_type": "code",
   "execution_count": 51,
   "metadata": {},
   "outputs": [],
   "source": [
    "data = pd.DataFrame(np.concatenate([c1,c2]),columns=[\"var1\",\"var2\",\"label\"])"
   ]
  },
  {
   "cell_type": "code",
   "execution_count": 52,
   "metadata": {},
   "outputs": [],
   "source": [
    "data = data.sample(frac=1)"
   ]
  },
  {
   "cell_type": "code",
   "execution_count": 53,
   "metadata": {},
   "outputs": [
    {
     "data": {
      "text/html": [
       "<div>\n",
       "<style scoped>\n",
       "    .dataframe tbody tr th:only-of-type {\n",
       "        vertical-align: middle;\n",
       "    }\n",
       "\n",
       "    .dataframe tbody tr th {\n",
       "        vertical-align: top;\n",
       "    }\n",
       "\n",
       "    .dataframe thead th {\n",
       "        text-align: right;\n",
       "    }\n",
       "</style>\n",
       "<table border=\"1\" class=\"dataframe\">\n",
       "  <thead>\n",
       "    <tr style=\"text-align: right;\">\n",
       "      <th></th>\n",
       "      <th>var1</th>\n",
       "      <th>var2</th>\n",
       "      <th>label</th>\n",
       "    </tr>\n",
       "  </thead>\n",
       "  <tbody>\n",
       "    <tr>\n",
       "      <th>118</th>\n",
       "      <td>0.869497</td>\n",
       "      <td>0.471589</td>\n",
       "      <td>2.0</td>\n",
       "    </tr>\n",
       "    <tr>\n",
       "      <th>31</th>\n",
       "      <td>0.445558</td>\n",
       "      <td>0.909795</td>\n",
       "      <td>1.0</td>\n",
       "    </tr>\n",
       "    <tr>\n",
       "      <th>113</th>\n",
       "      <td>0.960351</td>\n",
       "      <td>0.686225</td>\n",
       "      <td>2.0</td>\n",
       "    </tr>\n",
       "    <tr>\n",
       "      <th>6</th>\n",
       "      <td>0.388322</td>\n",
       "      <td>0.519006</td>\n",
       "      <td>1.0</td>\n",
       "    </tr>\n",
       "    <tr>\n",
       "      <th>48</th>\n",
       "      <td>1.931173</td>\n",
       "      <td>1.165553</td>\n",
       "      <td>1.0</td>\n",
       "    </tr>\n",
       "  </tbody>\n",
       "</table>\n",
       "</div>"
      ],
      "text/plain": [
       "         var1      var2  label\n",
       "118  0.869497  0.471589    2.0\n",
       "31   0.445558  0.909795    1.0\n",
       "113  0.960351  0.686225    2.0\n",
       "6    0.388322  0.519006    1.0\n",
       "48   1.931173  1.165553    1.0"
      ]
     },
     "execution_count": 53,
     "metadata": {},
     "output_type": "execute_result"
    }
   ],
   "source": [
    "data.head()"
   ]
  },
  {
   "cell_type": "code",
   "execution_count": 54,
   "metadata": {},
   "outputs": [],
   "source": [
    "train_data = data.values[:int(.7*len(data))]\n",
    "test_data = data.values[int(.7*len(data)):]"
   ]
  },
  {
   "cell_type": "code",
   "execution_count": 55,
   "metadata": {},
   "outputs": [],
   "source": [
    "x_train,y_train = train_data[:,:-1],train_data[:,-1]\n",
    "x_test,y_test = test_data[:,:-1],test_data[:,-1]"
   ]
  },
  {
   "cell_type": "code",
   "execution_count": 56,
   "metadata": {},
   "outputs": [],
   "source": [
    "from sklearn.neighbors import KNeighborsClassifier\n",
    "from sklearn.tree import DecisionTreeClassifier"
   ]
  },
  {
   "cell_type": "code",
   "execution_count": 57,
   "metadata": {},
   "outputs": [
    {
     "data": {
      "text/plain": [
       "array([2., 2., 2., 1., 2., 1., 1., 1., 2., 1., 2., 2., 2., 1., 2., 2., 1.,\n",
       "       1., 1., 1., 1., 1., 2., 1., 2., 1., 2., 2., 2., 1., 2., 1., 2., 2.,\n",
       "       2., 2., 2., 1., 1.])"
      ]
     },
     "execution_count": 57,
     "metadata": {},
     "output_type": "execute_result"
    }
   ],
   "source": [
    "neigh = KNeighborsClassifier(n_neighbors=3)\n",
    "neigh.fit(x_train, y_train)\n",
    "neigh.predict(x_test)"
   ]
  },
  {
   "cell_type": "code",
   "execution_count": 58,
   "metadata": {},
   "outputs": [
    {
     "data": {
      "text/plain": [
       "(0.8205128205128205, 0.9560439560439561)"
      ]
     },
     "execution_count": 58,
     "metadata": {},
     "output_type": "execute_result"
    }
   ],
   "source": [
    "neigh.score(x_test,y_test),neigh.score(x_train,y_train)"
   ]
  },
  {
   "cell_type": "code",
   "execution_count": 59,
   "metadata": {},
   "outputs": [
    {
     "data": {
      "text/plain": [
       "array([1., 2., 2., 1., 2., 1., 1., 1., 2., 1., 2., 2., 2., 1., 2., 2., 1.,\n",
       "       2., 1., 1., 1., 1., 2., 1., 2., 1., 2., 2., 2., 2., 2., 1., 2., 2.,\n",
       "       2., 2., 2., 1., 1.])"
      ]
     },
     "execution_count": 59,
     "metadata": {},
     "output_type": "execute_result"
    }
   ],
   "source": [
    "dt = DecisionTreeClassifier(random_state=0)\n",
    "dt.fit(x_train, y_train)\n",
    "dt.predict(x_test)"
   ]
  },
  {
   "cell_type": "code",
   "execution_count": 60,
   "metadata": {},
   "outputs": [
    {
     "data": {
      "text/plain": [
       "(0.8461538461538461, 1.0)"
      ]
     },
     "execution_count": 60,
     "metadata": {},
     "output_type": "execute_result"
    }
   ],
   "source": [
    "dt.score(x_test,y_test),dt.score(x_train,y_train)"
   ]
  },
  {
   "cell_type": "code",
   "execution_count": 61,
   "metadata": {},
   "outputs": [],
   "source": [
    "def clas_plotly_plot(data,model,name):\n",
    "\n",
    "    true1 = np.where(data[:,2] == 1)[0]\n",
    "    true2 = np.where(data[:,2] == 2)[0]\n",
    "    \n",
    "    pred1 = np.where(model.predict(data[:,:-1]) == 1)[0]\n",
    "    pred2 = np.where(model.predict(data[:,:-1]) == 2)[0]\n",
    "    \n",
    "    trace_true1 = go.Scatter(\n",
    "        x = data[true1,0],\n",
    "        y = data[true1,1],\n",
    "        mode = 'markers',\n",
    "        name = 'True 1',\n",
    "        marker = dict(\n",
    "            size = 10,\n",
    "            color = 'rgba(0, 0, 255, .5)'\n",
    "        )\n",
    "    )\n",
    "    trace_true2 = go.Scatter(\n",
    "        x = data[true2,0],\n",
    "        y = data[true2,1],\n",
    "        mode = 'markers',\n",
    "        name = 'True 2',\n",
    "        marker = dict(\n",
    "            size = 10,\n",
    "            color = 'rgba(0, 255, 0, .5)'\n",
    "        )\n",
    "    )\n",
    "    \n",
    "    trace_pred1 = go.Scatter(\n",
    "        x = data[pred1,0],\n",
    "        y = data[pred1,1],\n",
    "        mode = 'markers',\n",
    "        name = 'Pred 1',\n",
    "        marker = dict(\n",
    "            size = 10,\n",
    "            color = 'rgba(0, 0, 255, .5)'\n",
    "        )\n",
    "    )\n",
    "    trace_pred2 = go.Scatter(\n",
    "        x = data[pred2,0],\n",
    "        y = data[pred2,1],\n",
    "        mode = 'markers',\n",
    "        name = 'Pred 2',\n",
    "        marker = dict(\n",
    "            size = 10,\n",
    "            color = 'rgba(0, 255, 0, .5)'\n",
    "        )\n",
    "    )\n",
    "    layout = go.Layout(\n",
    "        title = f\"Classification of {name} on synthetic data\",\n",
    "    )\n",
    "\n",
    "    data = [trace_true1,trace_true2,trace_pred1,trace_pred2]\n",
    "    return go.Figure(data=data, layout=layout)"
   ]
  },
  {
   "cell_type": "code",
   "execution_count": 62,
   "metadata": {},
   "outputs": [
    {
     "data": {
      "application/vnd.plotly.v1+json": {
       "config": {
        "linkText": "Export to plot.ly",
        "plotlyServerURL": "https://plot.ly",
        "showLink": false
       },
       "data": [
        {
         "marker": {
          "color": "rgba(0, 0, 255, .5)",
          "size": 10
         },
         "mode": "markers",
         "name": "True 1",
         "type": "scatter",
         "x": [
          0.4455579215040586,
          0.3883219225390958,
          1.9311726864178849,
          0.2784001721914431,
          0.7873752255677157,
          1.1575856071122212,
          0.6701627450809824,
          1.5145270639258612,
          1.7692552157509212,
          0.3015845937203322,
          0.046886171997486126,
          1.3008157178575626,
          0.14581366111341776,
          0.5037100996652946,
          0.2568541335596931,
          1.618672146218399,
          0.6750266801574201,
          0.1673999632393015,
          0.2188667807871978,
          0.8415686041141175,
          0.6424747608104892,
          1.7754644362563212,
          0.22704853207150022,
          0.10028961855061447,
          0.05873753499443368,
          0.07647103124736376,
          0.766814333007622,
          1.993488349177695,
          0.06798236642627198,
          0.711897647946862,
          0.19362875815939162,
          0.8640890138664621,
          0.6973578019807878,
          1.469783759257342,
          0.24685499952545653,
          0.8384489791655296,
          0.48497397156335353,
          0.5990615746045937,
          0.684778630997969,
          0.4548162739407149,
          0.9789462608516051,
          1.8606315314920348,
          0.8373313917586377,
          0.29899429425452895,
          1.144018178574085,
          0.9148013396281427,
          0.04966336488621692,
          0.22490314584992122,
          1.9126285264224236,
          1.4823139803769398,
          0.6421082064825215,
          1.5195467246000687,
          0.7417871242557199,
          1.4835885307813048,
          1.2410623781556502,
          0.8955328904746752,
          0.40297875411660466,
          1.1492796877912201,
          0.10753909704229081,
          0.927183443153183,
          0.42569054712630927,
          0.7724239102308155,
          0.34232020352933346,
          0.5740383027314466,
          0.006345778062228025,
          0.421144425367423,
          0.9743653329157941,
          0.9884067948013675,
          1.646691582991286,
          0.05867231960122932
         ],
         "y": [
          0.9097945272543628,
          0.5190056369059951,
          1.1655534787007107,
          0.4163200420370594,
          0.3645111585531503,
          0.9451562061281238,
          0.7900428178488926,
          1.6484297800151255,
          1.821669004432444,
          0.7960623019251207,
          0.5327687009758627,
          1.1504379084455012,
          0.8702861755017298,
          1.7245606171259114,
          0.11348488805890178,
          1.0581726884311744,
          0.6750974531731255,
          0.9124826763045434,
          0.14629641055847054,
          0.20518443457789248,
          0.4128805484447766,
          1.5153013102079598,
          0.46380429472636886,
          0.43455490373048633,
          0.6310293566486149,
          0.051116925441377026,
          0.8409516692041039,
          1.3113334387008702,
          1.1181263730951874,
          0.05464270492126477,
          0.8593809346621369,
          1.0185026295129878,
          0.9816879641225452,
          1.8273566766935987,
          0.40593606751051947,
          0.8427978737361086,
          0.5698747784763012,
          1.3456058277425025,
          0.3246106641167563,
          0.46128736228751344,
          1.6230491439263182,
          1.2539687837232818,
          0.8218563800112244,
          1.2971132344425842,
          1.643692116714738,
          1.111025301711341,
          0.9270996565993554,
          0.67834188865096,
          0.8975579712505316,
          1.0609640212059104,
          0.4130100049457853,
          0.9852883036056348,
          1.0953544951109815,
          1.5274054822324947,
          1.754759356881861,
          0.0031706714300696603,
          0.2577353556902896,
          1.1920037345798828,
          0.6119403006088443,
          0.26427454441451603,
          0.5092678204910808,
          0.12380007161269813,
          0.25798327413054134,
          0.6575902351365642,
          0.45397471566301073,
          1.2480542569635562,
          0.5962904653167879,
          0.7945426843908712,
          1.2543197165735203,
          0.5158734081051067
         ]
        },
        {
         "marker": {
          "color": "rgba(0, 255, 0, .5)",
          "size": 10
         },
         "mode": "markers",
         "name": "True 2",
         "type": "scatter",
         "x": [
          0.8694968334954764,
          0.9603505845155478,
          1.5681716576468414,
          0.9396336604855468,
          1.1739563003404623,
          1.4828850558655953,
          0.9290182632508832,
          1.1141995270786986,
          1.5251257077688034,
          1.731350189794333,
          1.006973786257514,
          1.3721531872512607,
          1.4632569034615275,
          1.3835472768193309,
          1.1245385230320109,
          0.8090326564503875,
          1.7778161755447757,
          0.8270287391751772,
          1.4648244707527596,
          1.423612753726657,
          1.1680600215413568,
          1.1740757359226235,
          0.8717395235909151,
          1.2515883047510163,
          1.7785579324325833,
          1.255451011576587,
          1.5243029916192907,
          1.6557854228950932,
          1.3045629507244447,
          1.6785179674007589,
          1.5445669240034228,
          1.3619473121724255,
          1.5690999315374219,
          0.8651598388803416,
          1.388134372800844,
          1.156375955673263,
          1.6087866160816753,
          1.2151835913063447,
          0.817376194500023,
          1.094595518167803,
          1.3976115789728092,
          0.9811076135310886,
          1.3195873010013692,
          1.7878557679342144,
          0.948471025458164,
          1.5647008028727263,
          1.7938815273586983,
          0.9136995935807783,
          0.9725526539516725,
          0.8491295173719123,
          1.129613746528147,
          1.3401241014458254,
          1.4422736802201794,
          1.6320698587257878,
          1.0679860883706582,
          0.8152979746810491,
          1.3537892877351259,
          0.9165585304242665,
          1.0061198096350512,
          0.9797030991523469
         ],
         "y": [
          0.4715887891171926,
          0.6862253981137257,
          0.6883507564412376,
          0.7647674888651951,
          0.986944439362009,
          0.8267400326881577,
          0.6776957458159651,
          0.6589430769768726,
          0.107258611606047,
          0.5295285573608629,
          0.6855333304620117,
          0.9407102521399769,
          0.20778149285730696,
          0.43520518567434285,
          0.06824485282032233,
          0.5791294327088794,
          0.3292958542318114,
          0.686751844231472,
          0.0032210363045166446,
          0.6000700042860765,
          0.208179651852195,
          0.8480659927813156,
          0.9051667467285939,
          0.5605970484048609,
          0.1497922562454176,
          0.02436539836069318,
          0.9557090547975654,
          0.928503772160911,
          0.23858445313932097,
          0.24000353681224496,
          0.2591736060516385,
          0.5545562886435927,
          0.9988675383511566,
          0.8575432136191041,
          0.6760627345092312,
          0.6821537041638686,
          0.2556511425406651,
          0.6343626728518661,
          0.9978303028748375,
          0.023321112376691877,
          0.37986638715019083,
          0.13819701433110954,
          0.8755881302671876,
          0.7967611880367906,
          0.07761821350873765,
          0.011442235065006079,
          0.4176802543573157,
          0.08337766400404889,
          0.6408415129342355,
          0.3947331378906479,
          0.3432575203908024,
          0.30442713327405646,
          0.05755072951887896,
          0.274392009850402,
          0.7477650762886893,
          0.8194511983281098,
          0.7745188304668968,
          0.1673555020912998,
          0.722132257873366,
          0.7774709322279827
         ]
        },
        {
         "marker": {
          "color": "rgba(0, 0, 255, .5)",
          "size": 10
         },
         "mode": "markers",
         "name": "Pred 1",
         "type": "scatter",
         "x": [
          0.4455579215040586,
          0.3883219225390958,
          1.9311726864178849,
          0.2784001721914431,
          0.7873752255677157,
          1.1575856071122212,
          0.6701627450809824,
          1.5145270639258612,
          1.7692552157509212,
          0.3015845937203322,
          0.046886171997486126,
          1.3008157178575626,
          0.14581366111341776,
          0.5037100996652946,
          0.2568541335596931,
          1.618672146218399,
          0.6750266801574201,
          0.1673999632393015,
          0.2188667807871978,
          0.8415686041141175,
          0.6424747608104892,
          1.7754644362563212,
          0.22704853207150022,
          0.10028961855061447,
          0.05873753499443368,
          0.07647103124736376,
          0.766814333007622,
          1.993488349177695,
          0.06798236642627198,
          0.711897647946862,
          0.19362875815939162,
          0.8640890138664621,
          0.6973578019807878,
          1.469783759257342,
          0.24685499952545653,
          0.8384489791655296,
          0.48497397156335353,
          0.5990615746045937,
          0.684778630997969,
          0.4548162739407149,
          0.9789462608516051,
          1.8606315314920348,
          0.8373313917586377,
          0.29899429425452895,
          1.144018178574085,
          0.9148013396281427,
          0.04966336488621692,
          0.22490314584992122,
          1.9126285264224236,
          1.4823139803769398,
          0.6421082064825215,
          0.7417871242557199,
          1.4835885307813048,
          1.2410623781556502,
          0.40297875411660466,
          1.1492796877912201,
          0.10753909704229081,
          0.8491295173719123,
          0.42569054712630927,
          0.7724239102308155,
          0.34232020352933346,
          0.5740383027314466,
          0.006345778062228025,
          0.421144425367423,
          1.646691582991286,
          0.05867231960122932
         ],
         "y": [
          0.9097945272543628,
          0.5190056369059951,
          1.1655534787007107,
          0.4163200420370594,
          0.3645111585531503,
          0.9451562061281238,
          0.7900428178488926,
          1.6484297800151255,
          1.821669004432444,
          0.7960623019251207,
          0.5327687009758627,
          1.1504379084455012,
          0.8702861755017298,
          1.7245606171259114,
          0.11348488805890178,
          1.0581726884311744,
          0.6750974531731255,
          0.9124826763045434,
          0.14629641055847054,
          0.20518443457789248,
          0.4128805484447766,
          1.5153013102079598,
          0.46380429472636886,
          0.43455490373048633,
          0.6310293566486149,
          0.051116925441377026,
          0.8409516692041039,
          1.3113334387008702,
          1.1181263730951874,
          0.05464270492126477,
          0.8593809346621369,
          1.0185026295129878,
          0.9816879641225452,
          1.8273566766935987,
          0.40593606751051947,
          0.8427978737361086,
          0.5698747784763012,
          1.3456058277425025,
          0.3246106641167563,
          0.46128736228751344,
          1.6230491439263182,
          1.2539687837232818,
          0.8218563800112244,
          1.2971132344425842,
          1.643692116714738,
          1.111025301711341,
          0.9270996565993554,
          0.67834188865096,
          0.8975579712505316,
          1.0609640212059104,
          0.4130100049457853,
          1.0953544951109815,
          1.5274054822324947,
          1.754759356881861,
          0.2577353556902896,
          1.1920037345798828,
          0.6119403006088443,
          0.3947331378906479,
          0.5092678204910808,
          0.12380007161269813,
          0.25798327413054134,
          0.6575902351365642,
          0.45397471566301073,
          1.2480542569635562,
          1.2543197165735203,
          0.5158734081051067
         ]
        },
        {
         "marker": {
          "color": "rgba(0, 255, 0, .5)",
          "size": 10
         },
         "mode": "markers",
         "name": "Pred 2",
         "type": "scatter",
         "x": [
          0.8694968334954764,
          0.9603505845155478,
          1.5681716576468414,
          0.9396336604855468,
          1.1739563003404623,
          1.4828850558655953,
          0.9290182632508832,
          1.1141995270786986,
          1.5251257077688034,
          1.731350189794333,
          1.006973786257514,
          1.3721531872512607,
          1.4632569034615275,
          1.3835472768193309,
          1.1245385230320109,
          0.8090326564503875,
          1.7778161755447757,
          0.8270287391751772,
          1.4648244707527596,
          1.423612753726657,
          1.1680600215413568,
          1.1740757359226235,
          0.8717395235909151,
          1.2515883047510163,
          1.7785579324325833,
          1.255451011576587,
          1.5243029916192907,
          1.6557854228950932,
          1.3045629507244447,
          1.6785179674007589,
          1.5445669240034228,
          1.3619473121724255,
          1.5690999315374219,
          0.8651598388803416,
          1.388134372800844,
          1.156375955673263,
          1.6087866160816753,
          1.2151835913063447,
          0.817376194500023,
          1.094595518167803,
          1.3976115789728092,
          0.9811076135310886,
          1.3195873010013692,
          1.7878557679342144,
          1.5195467246000687,
          0.8955328904746752,
          0.948471025458164,
          1.5647008028727263,
          1.7938815273586983,
          0.9136995935807783,
          0.9725526539516725,
          0.927183443153183,
          1.129613746528147,
          1.3401241014458254,
          1.4422736802201794,
          1.6320698587257878,
          1.0679860883706582,
          0.8152979746810491,
          1.3537892877351259,
          0.9165585304242665,
          1.0061198096350512,
          0.9743653329157941,
          0.9884067948013675,
          0.9797030991523469
         ],
         "y": [
          0.4715887891171926,
          0.6862253981137257,
          0.6883507564412376,
          0.7647674888651951,
          0.986944439362009,
          0.8267400326881577,
          0.6776957458159651,
          0.6589430769768726,
          0.107258611606047,
          0.5295285573608629,
          0.6855333304620117,
          0.9407102521399769,
          0.20778149285730696,
          0.43520518567434285,
          0.06824485282032233,
          0.5791294327088794,
          0.3292958542318114,
          0.686751844231472,
          0.0032210363045166446,
          0.6000700042860765,
          0.208179651852195,
          0.8480659927813156,
          0.9051667467285939,
          0.5605970484048609,
          0.1497922562454176,
          0.02436539836069318,
          0.9557090547975654,
          0.928503772160911,
          0.23858445313932097,
          0.24000353681224496,
          0.2591736060516385,
          0.5545562886435927,
          0.9988675383511566,
          0.8575432136191041,
          0.6760627345092312,
          0.6821537041638686,
          0.2556511425406651,
          0.6343626728518661,
          0.9978303028748375,
          0.023321112376691877,
          0.37986638715019083,
          0.13819701433110954,
          0.8755881302671876,
          0.7967611880367906,
          0.9852883036056348,
          0.0031706714300696603,
          0.07761821350873765,
          0.011442235065006079,
          0.4176802543573157,
          0.08337766400404889,
          0.6408415129342355,
          0.26427454441451603,
          0.3432575203908024,
          0.30442713327405646,
          0.05755072951887896,
          0.274392009850402,
          0.7477650762886893,
          0.8194511983281098,
          0.7745188304668968,
          0.1673555020912998,
          0.722132257873366,
          0.5962904653167879,
          0.7945426843908712,
          0.7774709322279827
         ]
        }
       ],
       "layout": {
        "template": {
         "data": {
          "bar": [
           {
            "error_x": {
             "color": "#2a3f5f"
            },
            "error_y": {
             "color": "#2a3f5f"
            },
            "marker": {
             "line": {
              "color": "#E5ECF6",
              "width": 0.5
             }
            },
            "type": "bar"
           }
          ],
          "barpolar": [
           {
            "marker": {
             "line": {
              "color": "#E5ECF6",
              "width": 0.5
             }
            },
            "type": "barpolar"
           }
          ],
          "carpet": [
           {
            "aaxis": {
             "endlinecolor": "#2a3f5f",
             "gridcolor": "white",
             "linecolor": "white",
             "minorgridcolor": "white",
             "startlinecolor": "#2a3f5f"
            },
            "baxis": {
             "endlinecolor": "#2a3f5f",
             "gridcolor": "white",
             "linecolor": "white",
             "minorgridcolor": "white",
             "startlinecolor": "#2a3f5f"
            },
            "type": "carpet"
           }
          ],
          "choropleth": [
           {
            "colorbar": {
             "outlinewidth": 0,
             "ticks": ""
            },
            "type": "choropleth"
           }
          ],
          "contour": [
           {
            "colorbar": {
             "outlinewidth": 0,
             "ticks": ""
            },
            "colorscale": [
             [
              0,
              "#0d0887"
             ],
             [
              0.1111111111111111,
              "#46039f"
             ],
             [
              0.2222222222222222,
              "#7201a8"
             ],
             [
              0.3333333333333333,
              "#9c179e"
             ],
             [
              0.4444444444444444,
              "#bd3786"
             ],
             [
              0.5555555555555556,
              "#d8576b"
             ],
             [
              0.6666666666666666,
              "#ed7953"
             ],
             [
              0.7777777777777778,
              "#fb9f3a"
             ],
             [
              0.8888888888888888,
              "#fdca26"
             ],
             [
              1,
              "#f0f921"
             ]
            ],
            "type": "contour"
           }
          ],
          "contourcarpet": [
           {
            "colorbar": {
             "outlinewidth": 0,
             "ticks": ""
            },
            "type": "contourcarpet"
           }
          ],
          "heatmap": [
           {
            "colorbar": {
             "outlinewidth": 0,
             "ticks": ""
            },
            "colorscale": [
             [
              0,
              "#0d0887"
             ],
             [
              0.1111111111111111,
              "#46039f"
             ],
             [
              0.2222222222222222,
              "#7201a8"
             ],
             [
              0.3333333333333333,
              "#9c179e"
             ],
             [
              0.4444444444444444,
              "#bd3786"
             ],
             [
              0.5555555555555556,
              "#d8576b"
             ],
             [
              0.6666666666666666,
              "#ed7953"
             ],
             [
              0.7777777777777778,
              "#fb9f3a"
             ],
             [
              0.8888888888888888,
              "#fdca26"
             ],
             [
              1,
              "#f0f921"
             ]
            ],
            "type": "heatmap"
           }
          ],
          "heatmapgl": [
           {
            "colorbar": {
             "outlinewidth": 0,
             "ticks": ""
            },
            "colorscale": [
             [
              0,
              "#0d0887"
             ],
             [
              0.1111111111111111,
              "#46039f"
             ],
             [
              0.2222222222222222,
              "#7201a8"
             ],
             [
              0.3333333333333333,
              "#9c179e"
             ],
             [
              0.4444444444444444,
              "#bd3786"
             ],
             [
              0.5555555555555556,
              "#d8576b"
             ],
             [
              0.6666666666666666,
              "#ed7953"
             ],
             [
              0.7777777777777778,
              "#fb9f3a"
             ],
             [
              0.8888888888888888,
              "#fdca26"
             ],
             [
              1,
              "#f0f921"
             ]
            ],
            "type": "heatmapgl"
           }
          ],
          "histogram": [
           {
            "marker": {
             "colorbar": {
              "outlinewidth": 0,
              "ticks": ""
             }
            },
            "type": "histogram"
           }
          ],
          "histogram2d": [
           {
            "colorbar": {
             "outlinewidth": 0,
             "ticks": ""
            },
            "colorscale": [
             [
              0,
              "#0d0887"
             ],
             [
              0.1111111111111111,
              "#46039f"
             ],
             [
              0.2222222222222222,
              "#7201a8"
             ],
             [
              0.3333333333333333,
              "#9c179e"
             ],
             [
              0.4444444444444444,
              "#bd3786"
             ],
             [
              0.5555555555555556,
              "#d8576b"
             ],
             [
              0.6666666666666666,
              "#ed7953"
             ],
             [
              0.7777777777777778,
              "#fb9f3a"
             ],
             [
              0.8888888888888888,
              "#fdca26"
             ],
             [
              1,
              "#f0f921"
             ]
            ],
            "type": "histogram2d"
           }
          ],
          "histogram2dcontour": [
           {
            "colorbar": {
             "outlinewidth": 0,
             "ticks": ""
            },
            "colorscale": [
             [
              0,
              "#0d0887"
             ],
             [
              0.1111111111111111,
              "#46039f"
             ],
             [
              0.2222222222222222,
              "#7201a8"
             ],
             [
              0.3333333333333333,
              "#9c179e"
             ],
             [
              0.4444444444444444,
              "#bd3786"
             ],
             [
              0.5555555555555556,
              "#d8576b"
             ],
             [
              0.6666666666666666,
              "#ed7953"
             ],
             [
              0.7777777777777778,
              "#fb9f3a"
             ],
             [
              0.8888888888888888,
              "#fdca26"
             ],
             [
              1,
              "#f0f921"
             ]
            ],
            "type": "histogram2dcontour"
           }
          ],
          "mesh3d": [
           {
            "colorbar": {
             "outlinewidth": 0,
             "ticks": ""
            },
            "type": "mesh3d"
           }
          ],
          "parcoords": [
           {
            "line": {
             "colorbar": {
              "outlinewidth": 0,
              "ticks": ""
             }
            },
            "type": "parcoords"
           }
          ],
          "scatter": [
           {
            "marker": {
             "colorbar": {
              "outlinewidth": 0,
              "ticks": ""
             }
            },
            "type": "scatter"
           }
          ],
          "scatter3d": [
           {
            "line": {
             "colorbar": {
              "outlinewidth": 0,
              "ticks": ""
             }
            },
            "marker": {
             "colorbar": {
              "outlinewidth": 0,
              "ticks": ""
             }
            },
            "type": "scatter3d"
           }
          ],
          "scattercarpet": [
           {
            "marker": {
             "colorbar": {
              "outlinewidth": 0,
              "ticks": ""
             }
            },
            "type": "scattercarpet"
           }
          ],
          "scattergeo": [
           {
            "marker": {
             "colorbar": {
              "outlinewidth": 0,
              "ticks": ""
             }
            },
            "type": "scattergeo"
           }
          ],
          "scattergl": [
           {
            "marker": {
             "colorbar": {
              "outlinewidth": 0,
              "ticks": ""
             }
            },
            "type": "scattergl"
           }
          ],
          "scattermapbox": [
           {
            "marker": {
             "colorbar": {
              "outlinewidth": 0,
              "ticks": ""
             }
            },
            "type": "scattermapbox"
           }
          ],
          "scatterpolar": [
           {
            "marker": {
             "colorbar": {
              "outlinewidth": 0,
              "ticks": ""
             }
            },
            "type": "scatterpolar"
           }
          ],
          "scatterpolargl": [
           {
            "marker": {
             "colorbar": {
              "outlinewidth": 0,
              "ticks": ""
             }
            },
            "type": "scatterpolargl"
           }
          ],
          "scatterternary": [
           {
            "marker": {
             "colorbar": {
              "outlinewidth": 0,
              "ticks": ""
             }
            },
            "type": "scatterternary"
           }
          ],
          "surface": [
           {
            "colorbar": {
             "outlinewidth": 0,
             "ticks": ""
            },
            "colorscale": [
             [
              0,
              "#0d0887"
             ],
             [
              0.1111111111111111,
              "#46039f"
             ],
             [
              0.2222222222222222,
              "#7201a8"
             ],
             [
              0.3333333333333333,
              "#9c179e"
             ],
             [
              0.4444444444444444,
              "#bd3786"
             ],
             [
              0.5555555555555556,
              "#d8576b"
             ],
             [
              0.6666666666666666,
              "#ed7953"
             ],
             [
              0.7777777777777778,
              "#fb9f3a"
             ],
             [
              0.8888888888888888,
              "#fdca26"
             ],
             [
              1,
              "#f0f921"
             ]
            ],
            "type": "surface"
           }
          ],
          "table": [
           {
            "cells": {
             "fill": {
              "color": "#EBF0F8"
             },
             "line": {
              "color": "white"
             }
            },
            "header": {
             "fill": {
              "color": "#C8D4E3"
             },
             "line": {
              "color": "white"
             }
            },
            "type": "table"
           }
          ]
         },
         "layout": {
          "annotationdefaults": {
           "arrowcolor": "#2a3f5f",
           "arrowhead": 0,
           "arrowwidth": 1
          },
          "colorscale": {
           "diverging": [
            [
             0,
             "#8e0152"
            ],
            [
             0.1,
             "#c51b7d"
            ],
            [
             0.2,
             "#de77ae"
            ],
            [
             0.3,
             "#f1b6da"
            ],
            [
             0.4,
             "#fde0ef"
            ],
            [
             0.5,
             "#f7f7f7"
            ],
            [
             0.6,
             "#e6f5d0"
            ],
            [
             0.7,
             "#b8e186"
            ],
            [
             0.8,
             "#7fbc41"
            ],
            [
             0.9,
             "#4d9221"
            ],
            [
             1,
             "#276419"
            ]
           ],
           "sequential": [
            [
             0,
             "#0d0887"
            ],
            [
             0.1111111111111111,
             "#46039f"
            ],
            [
             0.2222222222222222,
             "#7201a8"
            ],
            [
             0.3333333333333333,
             "#9c179e"
            ],
            [
             0.4444444444444444,
             "#bd3786"
            ],
            [
             0.5555555555555556,
             "#d8576b"
            ],
            [
             0.6666666666666666,
             "#ed7953"
            ],
            [
             0.7777777777777778,
             "#fb9f3a"
            ],
            [
             0.8888888888888888,
             "#fdca26"
            ],
            [
             1,
             "#f0f921"
            ]
           ],
           "sequentialminus": [
            [
             0,
             "#0d0887"
            ],
            [
             0.1111111111111111,
             "#46039f"
            ],
            [
             0.2222222222222222,
             "#7201a8"
            ],
            [
             0.3333333333333333,
             "#9c179e"
            ],
            [
             0.4444444444444444,
             "#bd3786"
            ],
            [
             0.5555555555555556,
             "#d8576b"
            ],
            [
             0.6666666666666666,
             "#ed7953"
            ],
            [
             0.7777777777777778,
             "#fb9f3a"
            ],
            [
             0.8888888888888888,
             "#fdca26"
            ],
            [
             1,
             "#f0f921"
            ]
           ]
          },
          "colorway": [
           "#636efa",
           "#EF553B",
           "#00cc96",
           "#ab63fa",
           "#FFA15A",
           "#19d3f3",
           "#FF6692",
           "#B6E880",
           "#FF97FF",
           "#FECB52"
          ],
          "font": {
           "color": "#2a3f5f"
          },
          "geo": {
           "bgcolor": "white",
           "lakecolor": "white",
           "landcolor": "#E5ECF6",
           "showlakes": true,
           "showland": true,
           "subunitcolor": "white"
          },
          "hoverlabel": {
           "align": "left"
          },
          "hovermode": "closest",
          "mapbox": {
           "style": "light"
          },
          "paper_bgcolor": "white",
          "plot_bgcolor": "#E5ECF6",
          "polar": {
           "angularaxis": {
            "gridcolor": "white",
            "linecolor": "white",
            "ticks": ""
           },
           "bgcolor": "#E5ECF6",
           "radialaxis": {
            "gridcolor": "white",
            "linecolor": "white",
            "ticks": ""
           }
          },
          "scene": {
           "xaxis": {
            "backgroundcolor": "#E5ECF6",
            "gridcolor": "white",
            "gridwidth": 2,
            "linecolor": "white",
            "showbackground": true,
            "ticks": "",
            "zerolinecolor": "white"
           },
           "yaxis": {
            "backgroundcolor": "#E5ECF6",
            "gridcolor": "white",
            "gridwidth": 2,
            "linecolor": "white",
            "showbackground": true,
            "ticks": "",
            "zerolinecolor": "white"
           },
           "zaxis": {
            "backgroundcolor": "#E5ECF6",
            "gridcolor": "white",
            "gridwidth": 2,
            "linecolor": "white",
            "showbackground": true,
            "ticks": "",
            "zerolinecolor": "white"
           }
          },
          "shapedefaults": {
           "line": {
            "color": "#2a3f5f"
           }
          },
          "ternary": {
           "aaxis": {
            "gridcolor": "white",
            "linecolor": "white",
            "ticks": ""
           },
           "baxis": {
            "gridcolor": "white",
            "linecolor": "white",
            "ticks": ""
           },
           "bgcolor": "#E5ECF6",
           "caxis": {
            "gridcolor": "white",
            "linecolor": "white",
            "ticks": ""
           }
          },
          "title": {
           "x": 0.05
          },
          "xaxis": {
           "automargin": true,
           "gridcolor": "white",
           "linecolor": "white",
           "ticks": "",
           "zerolinecolor": "white",
           "zerolinewidth": 2
          },
          "yaxis": {
           "automargin": true,
           "gridcolor": "white",
           "linecolor": "white",
           "ticks": "",
           "zerolinecolor": "white",
           "zerolinewidth": 2
          }
         }
        },
        "title": {
         "text": "Classification of Decision Tree on synthetic data"
        }
       }
      },
      "text/html": [
       "<div>\n",
       "        \n",
       "        \n",
       "            <div id=\"f5a3f965-0483-4ec3-adfa-6f4d50e67244\" class=\"plotly-graph-div\" style=\"height:525px; width:100%;\"></div>\n",
       "            <script type=\"text/javascript\">\n",
       "                require([\"plotly\"], function(Plotly) {\n",
       "                    window.PLOTLYENV=window.PLOTLYENV || {};\n",
       "                    \n",
       "                if (document.getElementById(\"f5a3f965-0483-4ec3-adfa-6f4d50e67244\")) {\n",
       "                    Plotly.newPlot(\n",
       "                        'f5a3f965-0483-4ec3-adfa-6f4d50e67244',\n",
       "                        [{\"marker\": {\"color\": \"rgba(0, 0, 255, .5)\", \"size\": 10}, \"mode\": \"markers\", \"name\": \"True 1\", \"type\": \"scatter\", \"x\": [0.4455579215040586, 0.3883219225390958, 1.9311726864178849, 0.2784001721914431, 0.7873752255677157, 1.1575856071122212, 0.6701627450809824, 1.5145270639258612, 1.7692552157509212, 0.3015845937203322, 0.046886171997486126, 1.3008157178575626, 0.14581366111341776, 0.5037100996652946, 0.2568541335596931, 1.618672146218399, 0.6750266801574201, 0.1673999632393015, 0.2188667807871978, 0.8415686041141175, 0.6424747608104892, 1.7754644362563212, 0.22704853207150022, 0.10028961855061447, 0.05873753499443368, 0.07647103124736376, 0.766814333007622, 1.993488349177695, 0.06798236642627198, 0.711897647946862, 0.19362875815939162, 0.8640890138664621, 0.6973578019807878, 1.469783759257342, 0.24685499952545653, 0.8384489791655296, 0.48497397156335353, 0.5990615746045937, 0.684778630997969, 0.4548162739407149, 0.9789462608516051, 1.8606315314920348, 0.8373313917586377, 0.29899429425452895, 1.144018178574085, 0.9148013396281427, 0.04966336488621692, 0.22490314584992122, 1.9126285264224236, 1.4823139803769398, 0.6421082064825215, 1.5195467246000687, 0.7417871242557199, 1.4835885307813048, 1.2410623781556502, 0.8955328904746752, 0.40297875411660466, 1.1492796877912201, 0.10753909704229081, 0.927183443153183, 0.42569054712630927, 0.7724239102308155, 0.34232020352933346, 0.5740383027314466, 0.006345778062228025, 0.421144425367423, 0.9743653329157941, 0.9884067948013675, 1.646691582991286, 0.05867231960122932], \"y\": [0.9097945272543628, 0.5190056369059951, 1.1655534787007107, 0.4163200420370594, 0.3645111585531503, 0.9451562061281238, 0.7900428178488926, 1.6484297800151255, 1.821669004432444, 0.7960623019251207, 0.5327687009758627, 1.1504379084455012, 0.8702861755017298, 1.7245606171259114, 0.11348488805890178, 1.0581726884311744, 0.6750974531731255, 0.9124826763045434, 0.14629641055847054, 0.20518443457789248, 0.4128805484447766, 1.5153013102079598, 0.46380429472636886, 0.43455490373048633, 0.6310293566486149, 0.051116925441377026, 0.8409516692041039, 1.3113334387008702, 1.1181263730951874, 0.05464270492126477, 0.8593809346621369, 1.0185026295129878, 0.9816879641225452, 1.8273566766935987, 0.40593606751051947, 0.8427978737361086, 0.5698747784763012, 1.3456058277425025, 0.3246106641167563, 0.46128736228751344, 1.6230491439263182, 1.2539687837232818, 0.8218563800112244, 1.2971132344425842, 1.643692116714738, 1.111025301711341, 0.9270996565993554, 0.67834188865096, 0.8975579712505316, 1.0609640212059104, 0.4130100049457853, 0.9852883036056348, 1.0953544951109815, 1.5274054822324947, 1.754759356881861, 0.0031706714300696603, 0.2577353556902896, 1.1920037345798828, 0.6119403006088443, 0.26427454441451603, 0.5092678204910808, 0.12380007161269813, 0.25798327413054134, 0.6575902351365642, 0.45397471566301073, 1.2480542569635562, 0.5962904653167879, 0.7945426843908712, 1.2543197165735203, 0.5158734081051067]}, {\"marker\": {\"color\": \"rgba(0, 255, 0, .5)\", \"size\": 10}, \"mode\": \"markers\", \"name\": \"True 2\", \"type\": \"scatter\", \"x\": [0.8694968334954764, 0.9603505845155478, 1.5681716576468414, 0.9396336604855468, 1.1739563003404623, 1.4828850558655953, 0.9290182632508832, 1.1141995270786986, 1.5251257077688034, 1.731350189794333, 1.006973786257514, 1.3721531872512607, 1.4632569034615275, 1.3835472768193309, 1.1245385230320109, 0.8090326564503875, 1.7778161755447757, 0.8270287391751772, 1.4648244707527596, 1.423612753726657, 1.1680600215413568, 1.1740757359226235, 0.8717395235909151, 1.2515883047510163, 1.7785579324325833, 1.255451011576587, 1.5243029916192907, 1.6557854228950932, 1.3045629507244447, 1.6785179674007589, 1.5445669240034228, 1.3619473121724255, 1.5690999315374219, 0.8651598388803416, 1.388134372800844, 1.156375955673263, 1.6087866160816753, 1.2151835913063447, 0.817376194500023, 1.094595518167803, 1.3976115789728092, 0.9811076135310886, 1.3195873010013692, 1.7878557679342144, 0.948471025458164, 1.5647008028727263, 1.7938815273586983, 0.9136995935807783, 0.9725526539516725, 0.8491295173719123, 1.129613746528147, 1.3401241014458254, 1.4422736802201794, 1.6320698587257878, 1.0679860883706582, 0.8152979746810491, 1.3537892877351259, 0.9165585304242665, 1.0061198096350512, 0.9797030991523469], \"y\": [0.4715887891171926, 0.6862253981137257, 0.6883507564412376, 0.7647674888651951, 0.986944439362009, 0.8267400326881577, 0.6776957458159651, 0.6589430769768726, 0.107258611606047, 0.5295285573608629, 0.6855333304620117, 0.9407102521399769, 0.20778149285730696, 0.43520518567434285, 0.06824485282032233, 0.5791294327088794, 0.3292958542318114, 0.686751844231472, 0.0032210363045166446, 0.6000700042860765, 0.208179651852195, 0.8480659927813156, 0.9051667467285939, 0.5605970484048609, 0.1497922562454176, 0.02436539836069318, 0.9557090547975654, 0.928503772160911, 0.23858445313932097, 0.24000353681224496, 0.2591736060516385, 0.5545562886435927, 0.9988675383511566, 0.8575432136191041, 0.6760627345092312, 0.6821537041638686, 0.2556511425406651, 0.6343626728518661, 0.9978303028748375, 0.023321112376691877, 0.37986638715019083, 0.13819701433110954, 0.8755881302671876, 0.7967611880367906, 0.07761821350873765, 0.011442235065006079, 0.4176802543573157, 0.08337766400404889, 0.6408415129342355, 0.3947331378906479, 0.3432575203908024, 0.30442713327405646, 0.05755072951887896, 0.274392009850402, 0.7477650762886893, 0.8194511983281098, 0.7745188304668968, 0.1673555020912998, 0.722132257873366, 0.7774709322279827]}, {\"marker\": {\"color\": \"rgba(0, 0, 255, .5)\", \"size\": 10}, \"mode\": \"markers\", \"name\": \"Pred 1\", \"type\": \"scatter\", \"x\": [0.4455579215040586, 0.3883219225390958, 1.9311726864178849, 0.2784001721914431, 0.7873752255677157, 1.1575856071122212, 0.6701627450809824, 1.5145270639258612, 1.7692552157509212, 0.3015845937203322, 0.046886171997486126, 1.3008157178575626, 0.14581366111341776, 0.5037100996652946, 0.2568541335596931, 1.618672146218399, 0.6750266801574201, 0.1673999632393015, 0.2188667807871978, 0.8415686041141175, 0.6424747608104892, 1.7754644362563212, 0.22704853207150022, 0.10028961855061447, 0.05873753499443368, 0.07647103124736376, 0.766814333007622, 1.993488349177695, 0.06798236642627198, 0.711897647946862, 0.19362875815939162, 0.8640890138664621, 0.6973578019807878, 1.469783759257342, 0.24685499952545653, 0.8384489791655296, 0.48497397156335353, 0.5990615746045937, 0.684778630997969, 0.4548162739407149, 0.9789462608516051, 1.8606315314920348, 0.8373313917586377, 0.29899429425452895, 1.144018178574085, 0.9148013396281427, 0.04966336488621692, 0.22490314584992122, 1.9126285264224236, 1.4823139803769398, 0.6421082064825215, 0.7417871242557199, 1.4835885307813048, 1.2410623781556502, 0.40297875411660466, 1.1492796877912201, 0.10753909704229081, 0.8491295173719123, 0.42569054712630927, 0.7724239102308155, 0.34232020352933346, 0.5740383027314466, 0.006345778062228025, 0.421144425367423, 1.646691582991286, 0.05867231960122932], \"y\": [0.9097945272543628, 0.5190056369059951, 1.1655534787007107, 0.4163200420370594, 0.3645111585531503, 0.9451562061281238, 0.7900428178488926, 1.6484297800151255, 1.821669004432444, 0.7960623019251207, 0.5327687009758627, 1.1504379084455012, 0.8702861755017298, 1.7245606171259114, 0.11348488805890178, 1.0581726884311744, 0.6750974531731255, 0.9124826763045434, 0.14629641055847054, 0.20518443457789248, 0.4128805484447766, 1.5153013102079598, 0.46380429472636886, 0.43455490373048633, 0.6310293566486149, 0.051116925441377026, 0.8409516692041039, 1.3113334387008702, 1.1181263730951874, 0.05464270492126477, 0.8593809346621369, 1.0185026295129878, 0.9816879641225452, 1.8273566766935987, 0.40593606751051947, 0.8427978737361086, 0.5698747784763012, 1.3456058277425025, 0.3246106641167563, 0.46128736228751344, 1.6230491439263182, 1.2539687837232818, 0.8218563800112244, 1.2971132344425842, 1.643692116714738, 1.111025301711341, 0.9270996565993554, 0.67834188865096, 0.8975579712505316, 1.0609640212059104, 0.4130100049457853, 1.0953544951109815, 1.5274054822324947, 1.754759356881861, 0.2577353556902896, 1.1920037345798828, 0.6119403006088443, 0.3947331378906479, 0.5092678204910808, 0.12380007161269813, 0.25798327413054134, 0.6575902351365642, 0.45397471566301073, 1.2480542569635562, 1.2543197165735203, 0.5158734081051067]}, {\"marker\": {\"color\": \"rgba(0, 255, 0, .5)\", \"size\": 10}, \"mode\": \"markers\", \"name\": \"Pred 2\", \"type\": \"scatter\", \"x\": [0.8694968334954764, 0.9603505845155478, 1.5681716576468414, 0.9396336604855468, 1.1739563003404623, 1.4828850558655953, 0.9290182632508832, 1.1141995270786986, 1.5251257077688034, 1.731350189794333, 1.006973786257514, 1.3721531872512607, 1.4632569034615275, 1.3835472768193309, 1.1245385230320109, 0.8090326564503875, 1.7778161755447757, 0.8270287391751772, 1.4648244707527596, 1.423612753726657, 1.1680600215413568, 1.1740757359226235, 0.8717395235909151, 1.2515883047510163, 1.7785579324325833, 1.255451011576587, 1.5243029916192907, 1.6557854228950932, 1.3045629507244447, 1.6785179674007589, 1.5445669240034228, 1.3619473121724255, 1.5690999315374219, 0.8651598388803416, 1.388134372800844, 1.156375955673263, 1.6087866160816753, 1.2151835913063447, 0.817376194500023, 1.094595518167803, 1.3976115789728092, 0.9811076135310886, 1.3195873010013692, 1.7878557679342144, 1.5195467246000687, 0.8955328904746752, 0.948471025458164, 1.5647008028727263, 1.7938815273586983, 0.9136995935807783, 0.9725526539516725, 0.927183443153183, 1.129613746528147, 1.3401241014458254, 1.4422736802201794, 1.6320698587257878, 1.0679860883706582, 0.8152979746810491, 1.3537892877351259, 0.9165585304242665, 1.0061198096350512, 0.9743653329157941, 0.9884067948013675, 0.9797030991523469], \"y\": [0.4715887891171926, 0.6862253981137257, 0.6883507564412376, 0.7647674888651951, 0.986944439362009, 0.8267400326881577, 0.6776957458159651, 0.6589430769768726, 0.107258611606047, 0.5295285573608629, 0.6855333304620117, 0.9407102521399769, 0.20778149285730696, 0.43520518567434285, 0.06824485282032233, 0.5791294327088794, 0.3292958542318114, 0.686751844231472, 0.0032210363045166446, 0.6000700042860765, 0.208179651852195, 0.8480659927813156, 0.9051667467285939, 0.5605970484048609, 0.1497922562454176, 0.02436539836069318, 0.9557090547975654, 0.928503772160911, 0.23858445313932097, 0.24000353681224496, 0.2591736060516385, 0.5545562886435927, 0.9988675383511566, 0.8575432136191041, 0.6760627345092312, 0.6821537041638686, 0.2556511425406651, 0.6343626728518661, 0.9978303028748375, 0.023321112376691877, 0.37986638715019083, 0.13819701433110954, 0.8755881302671876, 0.7967611880367906, 0.9852883036056348, 0.0031706714300696603, 0.07761821350873765, 0.011442235065006079, 0.4176802543573157, 0.08337766400404889, 0.6408415129342355, 0.26427454441451603, 0.3432575203908024, 0.30442713327405646, 0.05755072951887896, 0.274392009850402, 0.7477650762886893, 0.8194511983281098, 0.7745188304668968, 0.1673555020912998, 0.722132257873366, 0.5962904653167879, 0.7945426843908712, 0.7774709322279827]}],\n",
       "                        {\"template\": {\"data\": {\"bar\": [{\"error_x\": {\"color\": \"#2a3f5f\"}, \"error_y\": {\"color\": \"#2a3f5f\"}, \"marker\": {\"line\": {\"color\": \"#E5ECF6\", \"width\": 0.5}}, \"type\": \"bar\"}], \"barpolar\": [{\"marker\": {\"line\": {\"color\": \"#E5ECF6\", \"width\": 0.5}}, \"type\": \"barpolar\"}], \"carpet\": [{\"aaxis\": {\"endlinecolor\": \"#2a3f5f\", \"gridcolor\": \"white\", \"linecolor\": \"white\", \"minorgridcolor\": \"white\", \"startlinecolor\": \"#2a3f5f\"}, \"baxis\": {\"endlinecolor\": \"#2a3f5f\", \"gridcolor\": \"white\", \"linecolor\": \"white\", \"minorgridcolor\": \"white\", \"startlinecolor\": \"#2a3f5f\"}, \"type\": \"carpet\"}], \"choropleth\": [{\"colorbar\": {\"outlinewidth\": 0, \"ticks\": \"\"}, \"type\": \"choropleth\"}], \"contour\": [{\"colorbar\": {\"outlinewidth\": 0, \"ticks\": \"\"}, \"colorscale\": [[0.0, \"#0d0887\"], [0.1111111111111111, \"#46039f\"], [0.2222222222222222, \"#7201a8\"], [0.3333333333333333, \"#9c179e\"], [0.4444444444444444, \"#bd3786\"], [0.5555555555555556, \"#d8576b\"], [0.6666666666666666, \"#ed7953\"], [0.7777777777777778, \"#fb9f3a\"], [0.8888888888888888, \"#fdca26\"], [1.0, \"#f0f921\"]], \"type\": \"contour\"}], \"contourcarpet\": [{\"colorbar\": {\"outlinewidth\": 0, \"ticks\": \"\"}, \"type\": \"contourcarpet\"}], \"heatmap\": [{\"colorbar\": {\"outlinewidth\": 0, \"ticks\": \"\"}, \"colorscale\": [[0.0, \"#0d0887\"], [0.1111111111111111, \"#46039f\"], [0.2222222222222222, \"#7201a8\"], [0.3333333333333333, \"#9c179e\"], [0.4444444444444444, \"#bd3786\"], [0.5555555555555556, \"#d8576b\"], [0.6666666666666666, \"#ed7953\"], [0.7777777777777778, \"#fb9f3a\"], [0.8888888888888888, \"#fdca26\"], [1.0, \"#f0f921\"]], \"type\": \"heatmap\"}], \"heatmapgl\": [{\"colorbar\": {\"outlinewidth\": 0, \"ticks\": \"\"}, \"colorscale\": [[0.0, \"#0d0887\"], [0.1111111111111111, \"#46039f\"], [0.2222222222222222, \"#7201a8\"], [0.3333333333333333, \"#9c179e\"], [0.4444444444444444, \"#bd3786\"], [0.5555555555555556, \"#d8576b\"], [0.6666666666666666, \"#ed7953\"], [0.7777777777777778, \"#fb9f3a\"], [0.8888888888888888, \"#fdca26\"], [1.0, \"#f0f921\"]], \"type\": \"heatmapgl\"}], \"histogram\": [{\"marker\": {\"colorbar\": {\"outlinewidth\": 0, \"ticks\": \"\"}}, \"type\": \"histogram\"}], \"histogram2d\": [{\"colorbar\": {\"outlinewidth\": 0, \"ticks\": \"\"}, \"colorscale\": [[0.0, \"#0d0887\"], [0.1111111111111111, \"#46039f\"], [0.2222222222222222, \"#7201a8\"], [0.3333333333333333, \"#9c179e\"], [0.4444444444444444, \"#bd3786\"], [0.5555555555555556, \"#d8576b\"], [0.6666666666666666, \"#ed7953\"], [0.7777777777777778, \"#fb9f3a\"], [0.8888888888888888, \"#fdca26\"], [1.0, \"#f0f921\"]], \"type\": \"histogram2d\"}], \"histogram2dcontour\": [{\"colorbar\": {\"outlinewidth\": 0, \"ticks\": \"\"}, \"colorscale\": [[0.0, \"#0d0887\"], [0.1111111111111111, \"#46039f\"], [0.2222222222222222, \"#7201a8\"], [0.3333333333333333, \"#9c179e\"], [0.4444444444444444, \"#bd3786\"], [0.5555555555555556, \"#d8576b\"], [0.6666666666666666, \"#ed7953\"], [0.7777777777777778, \"#fb9f3a\"], [0.8888888888888888, \"#fdca26\"], [1.0, \"#f0f921\"]], \"type\": \"histogram2dcontour\"}], \"mesh3d\": [{\"colorbar\": {\"outlinewidth\": 0, \"ticks\": \"\"}, \"type\": \"mesh3d\"}], \"parcoords\": [{\"line\": {\"colorbar\": {\"outlinewidth\": 0, \"ticks\": \"\"}}, \"type\": \"parcoords\"}], \"scatter\": [{\"marker\": {\"colorbar\": {\"outlinewidth\": 0, \"ticks\": \"\"}}, \"type\": \"scatter\"}], \"scatter3d\": [{\"line\": {\"colorbar\": {\"outlinewidth\": 0, \"ticks\": \"\"}}, \"marker\": {\"colorbar\": {\"outlinewidth\": 0, \"ticks\": \"\"}}, \"type\": \"scatter3d\"}], \"scattercarpet\": [{\"marker\": {\"colorbar\": {\"outlinewidth\": 0, \"ticks\": \"\"}}, \"type\": \"scattercarpet\"}], \"scattergeo\": [{\"marker\": {\"colorbar\": {\"outlinewidth\": 0, \"ticks\": \"\"}}, \"type\": \"scattergeo\"}], \"scattergl\": [{\"marker\": {\"colorbar\": {\"outlinewidth\": 0, \"ticks\": \"\"}}, \"type\": \"scattergl\"}], \"scattermapbox\": [{\"marker\": {\"colorbar\": {\"outlinewidth\": 0, \"ticks\": \"\"}}, \"type\": \"scattermapbox\"}], \"scatterpolar\": [{\"marker\": {\"colorbar\": {\"outlinewidth\": 0, \"ticks\": \"\"}}, \"type\": \"scatterpolar\"}], \"scatterpolargl\": [{\"marker\": {\"colorbar\": {\"outlinewidth\": 0, \"ticks\": \"\"}}, \"type\": \"scatterpolargl\"}], \"scatterternary\": [{\"marker\": {\"colorbar\": {\"outlinewidth\": 0, \"ticks\": \"\"}}, \"type\": \"scatterternary\"}], \"surface\": [{\"colorbar\": {\"outlinewidth\": 0, \"ticks\": \"\"}, \"colorscale\": [[0.0, \"#0d0887\"], [0.1111111111111111, \"#46039f\"], [0.2222222222222222, \"#7201a8\"], [0.3333333333333333, \"#9c179e\"], [0.4444444444444444, \"#bd3786\"], [0.5555555555555556, \"#d8576b\"], [0.6666666666666666, \"#ed7953\"], [0.7777777777777778, \"#fb9f3a\"], [0.8888888888888888, \"#fdca26\"], [1.0, \"#f0f921\"]], \"type\": \"surface\"}], \"table\": [{\"cells\": {\"fill\": {\"color\": \"#EBF0F8\"}, \"line\": {\"color\": \"white\"}}, \"header\": {\"fill\": {\"color\": \"#C8D4E3\"}, \"line\": {\"color\": \"white\"}}, \"type\": \"table\"}]}, \"layout\": {\"annotationdefaults\": {\"arrowcolor\": \"#2a3f5f\", \"arrowhead\": 0, \"arrowwidth\": 1}, \"colorscale\": {\"diverging\": [[0, \"#8e0152\"], [0.1, \"#c51b7d\"], [0.2, \"#de77ae\"], [0.3, \"#f1b6da\"], [0.4, \"#fde0ef\"], [0.5, \"#f7f7f7\"], [0.6, \"#e6f5d0\"], [0.7, \"#b8e186\"], [0.8, \"#7fbc41\"], [0.9, \"#4d9221\"], [1, \"#276419\"]], \"sequential\": [[0.0, \"#0d0887\"], [0.1111111111111111, \"#46039f\"], [0.2222222222222222, \"#7201a8\"], [0.3333333333333333, \"#9c179e\"], [0.4444444444444444, \"#bd3786\"], [0.5555555555555556, \"#d8576b\"], [0.6666666666666666, \"#ed7953\"], [0.7777777777777778, \"#fb9f3a\"], [0.8888888888888888, \"#fdca26\"], [1.0, \"#f0f921\"]], \"sequentialminus\": [[0.0, \"#0d0887\"], [0.1111111111111111, \"#46039f\"], [0.2222222222222222, \"#7201a8\"], [0.3333333333333333, \"#9c179e\"], [0.4444444444444444, \"#bd3786\"], [0.5555555555555556, \"#d8576b\"], [0.6666666666666666, \"#ed7953\"], [0.7777777777777778, \"#fb9f3a\"], [0.8888888888888888, \"#fdca26\"], [1.0, \"#f0f921\"]]}, \"colorway\": [\"#636efa\", \"#EF553B\", \"#00cc96\", \"#ab63fa\", \"#FFA15A\", \"#19d3f3\", \"#FF6692\", \"#B6E880\", \"#FF97FF\", \"#FECB52\"], \"font\": {\"color\": \"#2a3f5f\"}, \"geo\": {\"bgcolor\": \"white\", \"lakecolor\": \"white\", \"landcolor\": \"#E5ECF6\", \"showlakes\": true, \"showland\": true, \"subunitcolor\": \"white\"}, \"hoverlabel\": {\"align\": \"left\"}, \"hovermode\": \"closest\", \"mapbox\": {\"style\": \"light\"}, \"paper_bgcolor\": \"white\", \"plot_bgcolor\": \"#E5ECF6\", \"polar\": {\"angularaxis\": {\"gridcolor\": \"white\", \"linecolor\": \"white\", \"ticks\": \"\"}, \"bgcolor\": \"#E5ECF6\", \"radialaxis\": {\"gridcolor\": \"white\", \"linecolor\": \"white\", \"ticks\": \"\"}}, \"scene\": {\"xaxis\": {\"backgroundcolor\": \"#E5ECF6\", \"gridcolor\": \"white\", \"gridwidth\": 2, \"linecolor\": \"white\", \"showbackground\": true, \"ticks\": \"\", \"zerolinecolor\": \"white\"}, \"yaxis\": {\"backgroundcolor\": \"#E5ECF6\", \"gridcolor\": \"white\", \"gridwidth\": 2, \"linecolor\": \"white\", \"showbackground\": true, \"ticks\": \"\", \"zerolinecolor\": \"white\"}, \"zaxis\": {\"backgroundcolor\": \"#E5ECF6\", \"gridcolor\": \"white\", \"gridwidth\": 2, \"linecolor\": \"white\", \"showbackground\": true, \"ticks\": \"\", \"zerolinecolor\": \"white\"}}, \"shapedefaults\": {\"line\": {\"color\": \"#2a3f5f\"}}, \"ternary\": {\"aaxis\": {\"gridcolor\": \"white\", \"linecolor\": \"white\", \"ticks\": \"\"}, \"baxis\": {\"gridcolor\": \"white\", \"linecolor\": \"white\", \"ticks\": \"\"}, \"bgcolor\": \"#E5ECF6\", \"caxis\": {\"gridcolor\": \"white\", \"linecolor\": \"white\", \"ticks\": \"\"}}, \"title\": {\"x\": 0.05}, \"xaxis\": {\"automargin\": true, \"gridcolor\": \"white\", \"linecolor\": \"white\", \"ticks\": \"\", \"zerolinecolor\": \"white\", \"zerolinewidth\": 2}, \"yaxis\": {\"automargin\": true, \"gridcolor\": \"white\", \"linecolor\": \"white\", \"ticks\": \"\", \"zerolinecolor\": \"white\", \"zerolinewidth\": 2}}}, \"title\": {\"text\": \"Classification of Decision Tree on synthetic data\"}},\n",
       "                        {\"responsive\": true}\n",
       "                    ).then(function(){\n",
       "                            \n",
       "var gd = document.getElementById('f5a3f965-0483-4ec3-adfa-6f4d50e67244');\n",
       "var x = new MutationObserver(function (mutations, observer) {{\n",
       "        var display = window.getComputedStyle(gd).display;\n",
       "        if (!display || display === 'none') {{\n",
       "            console.log([gd, 'removed!']);\n",
       "            Plotly.purge(gd);\n",
       "            observer.disconnect();\n",
       "        }}\n",
       "}});\n",
       "\n",
       "// Listen for the removal of the full notebook cells\n",
       "var notebookContainer = gd.closest('#notebook-container');\n",
       "if (notebookContainer) {{\n",
       "    x.observe(notebookContainer, {childList: true});\n",
       "}}\n",
       "\n",
       "// Listen for the clearing of the current output cell\n",
       "var outputEl = gd.closest('.output');\n",
       "if (outputEl) {{\n",
       "    x.observe(outputEl, {childList: true});\n",
       "}}\n",
       "\n",
       "                        })\n",
       "                };\n",
       "                });\n",
       "            </script>\n",
       "        </div>"
      ]
     },
     "metadata": {},
     "output_type": "display_data"
    }
   ],
   "source": [
    "iplot(clas_plotly_plot(data.values,dt,\"Decision Tree\"))"
   ]
  },
  {
   "cell_type": "code",
   "execution_count": 63,
   "metadata": {},
   "outputs": [
    {
     "data": {
      "application/vnd.plotly.v1+json": {
       "config": {
        "linkText": "Export to plot.ly",
        "plotlyServerURL": "https://plot.ly",
        "showLink": false
       },
       "data": [
        {
         "marker": {
          "color": "rgba(0, 0, 255, .5)",
          "size": 10
         },
         "mode": "markers",
         "name": "True 1",
         "type": "scatter",
         "x": [
          0.4455579215040586,
          0.3883219225390958,
          1.9311726864178849,
          0.2784001721914431,
          0.7873752255677157,
          1.1575856071122212,
          0.6701627450809824,
          1.5145270639258612,
          1.7692552157509212,
          0.3015845937203322,
          0.046886171997486126,
          1.3008157178575626,
          0.14581366111341776,
          0.5037100996652946,
          0.2568541335596931,
          1.618672146218399,
          0.6750266801574201,
          0.1673999632393015,
          0.2188667807871978,
          0.8415686041141175,
          0.6424747608104892,
          1.7754644362563212,
          0.22704853207150022,
          0.10028961855061447,
          0.05873753499443368,
          0.07647103124736376,
          0.766814333007622,
          1.993488349177695,
          0.06798236642627198,
          0.711897647946862,
          0.19362875815939162,
          0.8640890138664621,
          0.6973578019807878,
          1.469783759257342,
          0.24685499952545653,
          0.8384489791655296,
          0.48497397156335353,
          0.5990615746045937,
          0.684778630997969,
          0.4548162739407149,
          0.9789462608516051,
          1.8606315314920348,
          0.8373313917586377,
          0.29899429425452895,
          1.144018178574085,
          0.9148013396281427,
          0.04966336488621692,
          0.22490314584992122,
          1.9126285264224236,
          1.4823139803769398,
          0.6421082064825215,
          1.5195467246000687,
          0.7417871242557199,
          1.4835885307813048,
          1.2410623781556502,
          0.8955328904746752,
          0.40297875411660466,
          1.1492796877912201,
          0.10753909704229081,
          0.927183443153183,
          0.42569054712630927,
          0.7724239102308155,
          0.34232020352933346,
          0.5740383027314466,
          0.006345778062228025,
          0.421144425367423,
          0.9743653329157941,
          0.9884067948013675,
          1.646691582991286,
          0.05867231960122932
         ],
         "y": [
          0.9097945272543628,
          0.5190056369059951,
          1.1655534787007107,
          0.4163200420370594,
          0.3645111585531503,
          0.9451562061281238,
          0.7900428178488926,
          1.6484297800151255,
          1.821669004432444,
          0.7960623019251207,
          0.5327687009758627,
          1.1504379084455012,
          0.8702861755017298,
          1.7245606171259114,
          0.11348488805890178,
          1.0581726884311744,
          0.6750974531731255,
          0.9124826763045434,
          0.14629641055847054,
          0.20518443457789248,
          0.4128805484447766,
          1.5153013102079598,
          0.46380429472636886,
          0.43455490373048633,
          0.6310293566486149,
          0.051116925441377026,
          0.8409516692041039,
          1.3113334387008702,
          1.1181263730951874,
          0.05464270492126477,
          0.8593809346621369,
          1.0185026295129878,
          0.9816879641225452,
          1.8273566766935987,
          0.40593606751051947,
          0.8427978737361086,
          0.5698747784763012,
          1.3456058277425025,
          0.3246106641167563,
          0.46128736228751344,
          1.6230491439263182,
          1.2539687837232818,
          0.8218563800112244,
          1.2971132344425842,
          1.643692116714738,
          1.111025301711341,
          0.9270996565993554,
          0.67834188865096,
          0.8975579712505316,
          1.0609640212059104,
          0.4130100049457853,
          0.9852883036056348,
          1.0953544951109815,
          1.5274054822324947,
          1.754759356881861,
          0.0031706714300696603,
          0.2577353556902896,
          1.1920037345798828,
          0.6119403006088443,
          0.26427454441451603,
          0.5092678204910808,
          0.12380007161269813,
          0.25798327413054134,
          0.6575902351365642,
          0.45397471566301073,
          1.2480542569635562,
          0.5962904653167879,
          0.7945426843908712,
          1.2543197165735203,
          0.5158734081051067
         ]
        },
        {
         "marker": {
          "color": "rgba(0, 255, 0, .5)",
          "size": 10
         },
         "mode": "markers",
         "name": "True 2",
         "type": "scatter",
         "x": [
          0.8694968334954764,
          0.9603505845155478,
          1.5681716576468414,
          0.9396336604855468,
          1.1739563003404623,
          1.4828850558655953,
          0.9290182632508832,
          1.1141995270786986,
          1.5251257077688034,
          1.731350189794333,
          1.006973786257514,
          1.3721531872512607,
          1.4632569034615275,
          1.3835472768193309,
          1.1245385230320109,
          0.8090326564503875,
          1.7778161755447757,
          0.8270287391751772,
          1.4648244707527596,
          1.423612753726657,
          1.1680600215413568,
          1.1740757359226235,
          0.8717395235909151,
          1.2515883047510163,
          1.7785579324325833,
          1.255451011576587,
          1.5243029916192907,
          1.6557854228950932,
          1.3045629507244447,
          1.6785179674007589,
          1.5445669240034228,
          1.3619473121724255,
          1.5690999315374219,
          0.8651598388803416,
          1.388134372800844,
          1.156375955673263,
          1.6087866160816753,
          1.2151835913063447,
          0.817376194500023,
          1.094595518167803,
          1.3976115789728092,
          0.9811076135310886,
          1.3195873010013692,
          1.7878557679342144,
          0.948471025458164,
          1.5647008028727263,
          1.7938815273586983,
          0.9136995935807783,
          0.9725526539516725,
          0.8491295173719123,
          1.129613746528147,
          1.3401241014458254,
          1.4422736802201794,
          1.6320698587257878,
          1.0679860883706582,
          0.8152979746810491,
          1.3537892877351259,
          0.9165585304242665,
          1.0061198096350512,
          0.9797030991523469
         ],
         "y": [
          0.4715887891171926,
          0.6862253981137257,
          0.6883507564412376,
          0.7647674888651951,
          0.986944439362009,
          0.8267400326881577,
          0.6776957458159651,
          0.6589430769768726,
          0.107258611606047,
          0.5295285573608629,
          0.6855333304620117,
          0.9407102521399769,
          0.20778149285730696,
          0.43520518567434285,
          0.06824485282032233,
          0.5791294327088794,
          0.3292958542318114,
          0.686751844231472,
          0.0032210363045166446,
          0.6000700042860765,
          0.208179651852195,
          0.8480659927813156,
          0.9051667467285939,
          0.5605970484048609,
          0.1497922562454176,
          0.02436539836069318,
          0.9557090547975654,
          0.928503772160911,
          0.23858445313932097,
          0.24000353681224496,
          0.2591736060516385,
          0.5545562886435927,
          0.9988675383511566,
          0.8575432136191041,
          0.6760627345092312,
          0.6821537041638686,
          0.2556511425406651,
          0.6343626728518661,
          0.9978303028748375,
          0.023321112376691877,
          0.37986638715019083,
          0.13819701433110954,
          0.8755881302671876,
          0.7967611880367906,
          0.07761821350873765,
          0.011442235065006079,
          0.4176802543573157,
          0.08337766400404889,
          0.6408415129342355,
          0.3947331378906479,
          0.3432575203908024,
          0.30442713327405646,
          0.05755072951887896,
          0.274392009850402,
          0.7477650762886893,
          0.8194511983281098,
          0.7745188304668968,
          0.1673555020912998,
          0.722132257873366,
          0.7774709322279827
         ]
        },
        {
         "marker": {
          "color": "rgba(0, 0, 255, .5)",
          "size": 10
         },
         "mode": "markers",
         "name": "Pred 1",
         "type": "scatter",
         "x": [
          0.4455579215040586,
          0.3883219225390958,
          1.9311726864178849,
          0.2784001721914431,
          0.7873752255677157,
          0.6701627450809824,
          1.5145270639258612,
          1.7692552157509212,
          0.3015845937203322,
          0.046886171997486126,
          0.14581366111341776,
          0.5037100996652946,
          0.2568541335596931,
          0.6750266801574201,
          0.1673999632393015,
          0.2188667807871978,
          0.8415686041141175,
          0.6424747608104892,
          1.7754644362563212,
          0.22704853207150022,
          0.10028961855061447,
          0.05873753499443368,
          0.07647103124736376,
          0.766814333007622,
          1.993488349177695,
          0.06798236642627198,
          0.711897647946862,
          0.19362875815939162,
          0.8640890138664621,
          0.6973578019807878,
          1.469783759257342,
          0.24685499952545653,
          0.8384489791655296,
          0.48497397156335353,
          0.8651598388803416,
          0.5990615746045937,
          0.684778630997969,
          0.4548162739407149,
          0.9789462608516051,
          1.8606315314920348,
          0.8373313917586377,
          0.29899429425452895,
          1.144018178574085,
          0.9148013396281427,
          0.04966336488621692,
          0.22490314584992122,
          1.9126285264224236,
          0.6421082064825215,
          0.7417871242557199,
          1.4835885307813048,
          1.2410623781556502,
          0.40297875411660466,
          1.1492796877912201,
          0.10753909704229081,
          0.927183443153183,
          0.8491295173719123,
          0.42569054712630927,
          0.7724239102308155,
          0.34232020352933346,
          0.5740383027314466,
          0.006345778062228025,
          0.8152979746810491,
          0.421144425367423,
          1.646691582991286,
          0.05867231960122932
         ],
         "y": [
          0.9097945272543628,
          0.5190056369059951,
          1.1655534787007107,
          0.4163200420370594,
          0.3645111585531503,
          0.7900428178488926,
          1.6484297800151255,
          1.821669004432444,
          0.7960623019251207,
          0.5327687009758627,
          0.8702861755017298,
          1.7245606171259114,
          0.11348488805890178,
          0.6750974531731255,
          0.9124826763045434,
          0.14629641055847054,
          0.20518443457789248,
          0.4128805484447766,
          1.5153013102079598,
          0.46380429472636886,
          0.43455490373048633,
          0.6310293566486149,
          0.051116925441377026,
          0.8409516692041039,
          1.3113334387008702,
          1.1181263730951874,
          0.05464270492126477,
          0.8593809346621369,
          1.0185026295129878,
          0.9816879641225452,
          1.8273566766935987,
          0.40593606751051947,
          0.8427978737361086,
          0.5698747784763012,
          0.8575432136191041,
          1.3456058277425025,
          0.3246106641167563,
          0.46128736228751344,
          1.6230491439263182,
          1.2539687837232818,
          0.8218563800112244,
          1.2971132344425842,
          1.643692116714738,
          1.111025301711341,
          0.9270996565993554,
          0.67834188865096,
          0.8975579712505316,
          0.4130100049457853,
          1.0953544951109815,
          1.5274054822324947,
          1.754759356881861,
          0.2577353556902896,
          1.1920037345798828,
          0.6119403006088443,
          0.26427454441451603,
          0.3947331378906479,
          0.5092678204910808,
          0.12380007161269813,
          0.25798327413054134,
          0.6575902351365642,
          0.45397471566301073,
          0.8194511983281098,
          1.2480542569635562,
          1.2543197165735203,
          0.5158734081051067
         ]
        },
        {
         "marker": {
          "color": "rgba(0, 255, 0, .5)",
          "size": 10
         },
         "mode": "markers",
         "name": "Pred 2",
         "type": "scatter",
         "x": [
          0.8694968334954764,
          0.9603505845155478,
          1.5681716576468414,
          0.9396336604855468,
          1.1739563003404623,
          1.4828850558655953,
          1.1575856071122212,
          0.9290182632508832,
          1.1141995270786986,
          1.5251257077688034,
          1.731350189794333,
          1.3008157178575626,
          1.618672146218399,
          1.006973786257514,
          1.3721531872512607,
          1.4632569034615275,
          1.3835472768193309,
          1.1245385230320109,
          0.8090326564503875,
          1.7778161755447757,
          0.8270287391751772,
          1.4648244707527596,
          1.423612753726657,
          1.1680600215413568,
          1.1740757359226235,
          0.8717395235909151,
          1.2515883047510163,
          1.7785579324325833,
          1.255451011576587,
          1.5243029916192907,
          1.6557854228950932,
          1.3045629507244447,
          1.6785179674007589,
          1.5445669240034228,
          1.3619473121724255,
          1.5690999315374219,
          1.388134372800844,
          1.156375955673263,
          1.6087866160816753,
          1.2151835913063447,
          0.817376194500023,
          1.094595518167803,
          1.3976115789728092,
          0.9811076135310886,
          1.4823139803769398,
          1.3195873010013692,
          1.7878557679342144,
          1.5195467246000687,
          0.8955328904746752,
          0.948471025458164,
          1.5647008028727263,
          1.7938815273586983,
          0.9136995935807783,
          0.9725526539516725,
          1.129613746528147,
          1.3401241014458254,
          1.4422736802201794,
          1.6320698587257878,
          1.0679860883706582,
          1.3537892877351259,
          0.9165585304242665,
          1.0061198096350512,
          0.9743653329157941,
          0.9884067948013675,
          0.9797030991523469
         ],
         "y": [
          0.4715887891171926,
          0.6862253981137257,
          0.6883507564412376,
          0.7647674888651951,
          0.986944439362009,
          0.8267400326881577,
          0.9451562061281238,
          0.6776957458159651,
          0.6589430769768726,
          0.107258611606047,
          0.5295285573608629,
          1.1504379084455012,
          1.0581726884311744,
          0.6855333304620117,
          0.9407102521399769,
          0.20778149285730696,
          0.43520518567434285,
          0.06824485282032233,
          0.5791294327088794,
          0.3292958542318114,
          0.686751844231472,
          0.0032210363045166446,
          0.6000700042860765,
          0.208179651852195,
          0.8480659927813156,
          0.9051667467285939,
          0.5605970484048609,
          0.1497922562454176,
          0.02436539836069318,
          0.9557090547975654,
          0.928503772160911,
          0.23858445313932097,
          0.24000353681224496,
          0.2591736060516385,
          0.5545562886435927,
          0.9988675383511566,
          0.6760627345092312,
          0.6821537041638686,
          0.2556511425406651,
          0.6343626728518661,
          0.9978303028748375,
          0.023321112376691877,
          0.37986638715019083,
          0.13819701433110954,
          1.0609640212059104,
          0.8755881302671876,
          0.7967611880367906,
          0.9852883036056348,
          0.0031706714300696603,
          0.07761821350873765,
          0.011442235065006079,
          0.4176802543573157,
          0.08337766400404889,
          0.6408415129342355,
          0.3432575203908024,
          0.30442713327405646,
          0.05755072951887896,
          0.274392009850402,
          0.7477650762886893,
          0.7745188304668968,
          0.1673555020912998,
          0.722132257873366,
          0.5962904653167879,
          0.7945426843908712,
          0.7774709322279827
         ]
        }
       ],
       "layout": {
        "template": {
         "data": {
          "bar": [
           {
            "error_x": {
             "color": "#2a3f5f"
            },
            "error_y": {
             "color": "#2a3f5f"
            },
            "marker": {
             "line": {
              "color": "#E5ECF6",
              "width": 0.5
             }
            },
            "type": "bar"
           }
          ],
          "barpolar": [
           {
            "marker": {
             "line": {
              "color": "#E5ECF6",
              "width": 0.5
             }
            },
            "type": "barpolar"
           }
          ],
          "carpet": [
           {
            "aaxis": {
             "endlinecolor": "#2a3f5f",
             "gridcolor": "white",
             "linecolor": "white",
             "minorgridcolor": "white",
             "startlinecolor": "#2a3f5f"
            },
            "baxis": {
             "endlinecolor": "#2a3f5f",
             "gridcolor": "white",
             "linecolor": "white",
             "minorgridcolor": "white",
             "startlinecolor": "#2a3f5f"
            },
            "type": "carpet"
           }
          ],
          "choropleth": [
           {
            "colorbar": {
             "outlinewidth": 0,
             "ticks": ""
            },
            "type": "choropleth"
           }
          ],
          "contour": [
           {
            "colorbar": {
             "outlinewidth": 0,
             "ticks": ""
            },
            "colorscale": [
             [
              0,
              "#0d0887"
             ],
             [
              0.1111111111111111,
              "#46039f"
             ],
             [
              0.2222222222222222,
              "#7201a8"
             ],
             [
              0.3333333333333333,
              "#9c179e"
             ],
             [
              0.4444444444444444,
              "#bd3786"
             ],
             [
              0.5555555555555556,
              "#d8576b"
             ],
             [
              0.6666666666666666,
              "#ed7953"
             ],
             [
              0.7777777777777778,
              "#fb9f3a"
             ],
             [
              0.8888888888888888,
              "#fdca26"
             ],
             [
              1,
              "#f0f921"
             ]
            ],
            "type": "contour"
           }
          ],
          "contourcarpet": [
           {
            "colorbar": {
             "outlinewidth": 0,
             "ticks": ""
            },
            "type": "contourcarpet"
           }
          ],
          "heatmap": [
           {
            "colorbar": {
             "outlinewidth": 0,
             "ticks": ""
            },
            "colorscale": [
             [
              0,
              "#0d0887"
             ],
             [
              0.1111111111111111,
              "#46039f"
             ],
             [
              0.2222222222222222,
              "#7201a8"
             ],
             [
              0.3333333333333333,
              "#9c179e"
             ],
             [
              0.4444444444444444,
              "#bd3786"
             ],
             [
              0.5555555555555556,
              "#d8576b"
             ],
             [
              0.6666666666666666,
              "#ed7953"
             ],
             [
              0.7777777777777778,
              "#fb9f3a"
             ],
             [
              0.8888888888888888,
              "#fdca26"
             ],
             [
              1,
              "#f0f921"
             ]
            ],
            "type": "heatmap"
           }
          ],
          "heatmapgl": [
           {
            "colorbar": {
             "outlinewidth": 0,
             "ticks": ""
            },
            "colorscale": [
             [
              0,
              "#0d0887"
             ],
             [
              0.1111111111111111,
              "#46039f"
             ],
             [
              0.2222222222222222,
              "#7201a8"
             ],
             [
              0.3333333333333333,
              "#9c179e"
             ],
             [
              0.4444444444444444,
              "#bd3786"
             ],
             [
              0.5555555555555556,
              "#d8576b"
             ],
             [
              0.6666666666666666,
              "#ed7953"
             ],
             [
              0.7777777777777778,
              "#fb9f3a"
             ],
             [
              0.8888888888888888,
              "#fdca26"
             ],
             [
              1,
              "#f0f921"
             ]
            ],
            "type": "heatmapgl"
           }
          ],
          "histogram": [
           {
            "marker": {
             "colorbar": {
              "outlinewidth": 0,
              "ticks": ""
             }
            },
            "type": "histogram"
           }
          ],
          "histogram2d": [
           {
            "colorbar": {
             "outlinewidth": 0,
             "ticks": ""
            },
            "colorscale": [
             [
              0,
              "#0d0887"
             ],
             [
              0.1111111111111111,
              "#46039f"
             ],
             [
              0.2222222222222222,
              "#7201a8"
             ],
             [
              0.3333333333333333,
              "#9c179e"
             ],
             [
              0.4444444444444444,
              "#bd3786"
             ],
             [
              0.5555555555555556,
              "#d8576b"
             ],
             [
              0.6666666666666666,
              "#ed7953"
             ],
             [
              0.7777777777777778,
              "#fb9f3a"
             ],
             [
              0.8888888888888888,
              "#fdca26"
             ],
             [
              1,
              "#f0f921"
             ]
            ],
            "type": "histogram2d"
           }
          ],
          "histogram2dcontour": [
           {
            "colorbar": {
             "outlinewidth": 0,
             "ticks": ""
            },
            "colorscale": [
             [
              0,
              "#0d0887"
             ],
             [
              0.1111111111111111,
              "#46039f"
             ],
             [
              0.2222222222222222,
              "#7201a8"
             ],
             [
              0.3333333333333333,
              "#9c179e"
             ],
             [
              0.4444444444444444,
              "#bd3786"
             ],
             [
              0.5555555555555556,
              "#d8576b"
             ],
             [
              0.6666666666666666,
              "#ed7953"
             ],
             [
              0.7777777777777778,
              "#fb9f3a"
             ],
             [
              0.8888888888888888,
              "#fdca26"
             ],
             [
              1,
              "#f0f921"
             ]
            ],
            "type": "histogram2dcontour"
           }
          ],
          "mesh3d": [
           {
            "colorbar": {
             "outlinewidth": 0,
             "ticks": ""
            },
            "type": "mesh3d"
           }
          ],
          "parcoords": [
           {
            "line": {
             "colorbar": {
              "outlinewidth": 0,
              "ticks": ""
             }
            },
            "type": "parcoords"
           }
          ],
          "scatter": [
           {
            "marker": {
             "colorbar": {
              "outlinewidth": 0,
              "ticks": ""
             }
            },
            "type": "scatter"
           }
          ],
          "scatter3d": [
           {
            "line": {
             "colorbar": {
              "outlinewidth": 0,
              "ticks": ""
             }
            },
            "marker": {
             "colorbar": {
              "outlinewidth": 0,
              "ticks": ""
             }
            },
            "type": "scatter3d"
           }
          ],
          "scattercarpet": [
           {
            "marker": {
             "colorbar": {
              "outlinewidth": 0,
              "ticks": ""
             }
            },
            "type": "scattercarpet"
           }
          ],
          "scattergeo": [
           {
            "marker": {
             "colorbar": {
              "outlinewidth": 0,
              "ticks": ""
             }
            },
            "type": "scattergeo"
           }
          ],
          "scattergl": [
           {
            "marker": {
             "colorbar": {
              "outlinewidth": 0,
              "ticks": ""
             }
            },
            "type": "scattergl"
           }
          ],
          "scattermapbox": [
           {
            "marker": {
             "colorbar": {
              "outlinewidth": 0,
              "ticks": ""
             }
            },
            "type": "scattermapbox"
           }
          ],
          "scatterpolar": [
           {
            "marker": {
             "colorbar": {
              "outlinewidth": 0,
              "ticks": ""
             }
            },
            "type": "scatterpolar"
           }
          ],
          "scatterpolargl": [
           {
            "marker": {
             "colorbar": {
              "outlinewidth": 0,
              "ticks": ""
             }
            },
            "type": "scatterpolargl"
           }
          ],
          "scatterternary": [
           {
            "marker": {
             "colorbar": {
              "outlinewidth": 0,
              "ticks": ""
             }
            },
            "type": "scatterternary"
           }
          ],
          "surface": [
           {
            "colorbar": {
             "outlinewidth": 0,
             "ticks": ""
            },
            "colorscale": [
             [
              0,
              "#0d0887"
             ],
             [
              0.1111111111111111,
              "#46039f"
             ],
             [
              0.2222222222222222,
              "#7201a8"
             ],
             [
              0.3333333333333333,
              "#9c179e"
             ],
             [
              0.4444444444444444,
              "#bd3786"
             ],
             [
              0.5555555555555556,
              "#d8576b"
             ],
             [
              0.6666666666666666,
              "#ed7953"
             ],
             [
              0.7777777777777778,
              "#fb9f3a"
             ],
             [
              0.8888888888888888,
              "#fdca26"
             ],
             [
              1,
              "#f0f921"
             ]
            ],
            "type": "surface"
           }
          ],
          "table": [
           {
            "cells": {
             "fill": {
              "color": "#EBF0F8"
             },
             "line": {
              "color": "white"
             }
            },
            "header": {
             "fill": {
              "color": "#C8D4E3"
             },
             "line": {
              "color": "white"
             }
            },
            "type": "table"
           }
          ]
         },
         "layout": {
          "annotationdefaults": {
           "arrowcolor": "#2a3f5f",
           "arrowhead": 0,
           "arrowwidth": 1
          },
          "colorscale": {
           "diverging": [
            [
             0,
             "#8e0152"
            ],
            [
             0.1,
             "#c51b7d"
            ],
            [
             0.2,
             "#de77ae"
            ],
            [
             0.3,
             "#f1b6da"
            ],
            [
             0.4,
             "#fde0ef"
            ],
            [
             0.5,
             "#f7f7f7"
            ],
            [
             0.6,
             "#e6f5d0"
            ],
            [
             0.7,
             "#b8e186"
            ],
            [
             0.8,
             "#7fbc41"
            ],
            [
             0.9,
             "#4d9221"
            ],
            [
             1,
             "#276419"
            ]
           ],
           "sequential": [
            [
             0,
             "#0d0887"
            ],
            [
             0.1111111111111111,
             "#46039f"
            ],
            [
             0.2222222222222222,
             "#7201a8"
            ],
            [
             0.3333333333333333,
             "#9c179e"
            ],
            [
             0.4444444444444444,
             "#bd3786"
            ],
            [
             0.5555555555555556,
             "#d8576b"
            ],
            [
             0.6666666666666666,
             "#ed7953"
            ],
            [
             0.7777777777777778,
             "#fb9f3a"
            ],
            [
             0.8888888888888888,
             "#fdca26"
            ],
            [
             1,
             "#f0f921"
            ]
           ],
           "sequentialminus": [
            [
             0,
             "#0d0887"
            ],
            [
             0.1111111111111111,
             "#46039f"
            ],
            [
             0.2222222222222222,
             "#7201a8"
            ],
            [
             0.3333333333333333,
             "#9c179e"
            ],
            [
             0.4444444444444444,
             "#bd3786"
            ],
            [
             0.5555555555555556,
             "#d8576b"
            ],
            [
             0.6666666666666666,
             "#ed7953"
            ],
            [
             0.7777777777777778,
             "#fb9f3a"
            ],
            [
             0.8888888888888888,
             "#fdca26"
            ],
            [
             1,
             "#f0f921"
            ]
           ]
          },
          "colorway": [
           "#636efa",
           "#EF553B",
           "#00cc96",
           "#ab63fa",
           "#FFA15A",
           "#19d3f3",
           "#FF6692",
           "#B6E880",
           "#FF97FF",
           "#FECB52"
          ],
          "font": {
           "color": "#2a3f5f"
          },
          "geo": {
           "bgcolor": "white",
           "lakecolor": "white",
           "landcolor": "#E5ECF6",
           "showlakes": true,
           "showland": true,
           "subunitcolor": "white"
          },
          "hoverlabel": {
           "align": "left"
          },
          "hovermode": "closest",
          "mapbox": {
           "style": "light"
          },
          "paper_bgcolor": "white",
          "plot_bgcolor": "#E5ECF6",
          "polar": {
           "angularaxis": {
            "gridcolor": "white",
            "linecolor": "white",
            "ticks": ""
           },
           "bgcolor": "#E5ECF6",
           "radialaxis": {
            "gridcolor": "white",
            "linecolor": "white",
            "ticks": ""
           }
          },
          "scene": {
           "xaxis": {
            "backgroundcolor": "#E5ECF6",
            "gridcolor": "white",
            "gridwidth": 2,
            "linecolor": "white",
            "showbackground": true,
            "ticks": "",
            "zerolinecolor": "white"
           },
           "yaxis": {
            "backgroundcolor": "#E5ECF6",
            "gridcolor": "white",
            "gridwidth": 2,
            "linecolor": "white",
            "showbackground": true,
            "ticks": "",
            "zerolinecolor": "white"
           },
           "zaxis": {
            "backgroundcolor": "#E5ECF6",
            "gridcolor": "white",
            "gridwidth": 2,
            "linecolor": "white",
            "showbackground": true,
            "ticks": "",
            "zerolinecolor": "white"
           }
          },
          "shapedefaults": {
           "line": {
            "color": "#2a3f5f"
           }
          },
          "ternary": {
           "aaxis": {
            "gridcolor": "white",
            "linecolor": "white",
            "ticks": ""
           },
           "baxis": {
            "gridcolor": "white",
            "linecolor": "white",
            "ticks": ""
           },
           "bgcolor": "#E5ECF6",
           "caxis": {
            "gridcolor": "white",
            "linecolor": "white",
            "ticks": ""
           }
          },
          "title": {
           "x": 0.05
          },
          "xaxis": {
           "automargin": true,
           "gridcolor": "white",
           "linecolor": "white",
           "ticks": "",
           "zerolinecolor": "white",
           "zerolinewidth": 2
          },
          "yaxis": {
           "automargin": true,
           "gridcolor": "white",
           "linecolor": "white",
           "ticks": "",
           "zerolinecolor": "white",
           "zerolinewidth": 2
          }
         }
        },
        "title": {
         "text": "Classification of KNN on synthetic data"
        }
       }
      },
      "text/html": [
       "<div>\n",
       "        \n",
       "        \n",
       "            <div id=\"49201686-f9b4-4b93-9ab7-c380d19dd8d4\" class=\"plotly-graph-div\" style=\"height:525px; width:100%;\"></div>\n",
       "            <script type=\"text/javascript\">\n",
       "                require([\"plotly\"], function(Plotly) {\n",
       "                    window.PLOTLYENV=window.PLOTLYENV || {};\n",
       "                    \n",
       "                if (document.getElementById(\"49201686-f9b4-4b93-9ab7-c380d19dd8d4\")) {\n",
       "                    Plotly.newPlot(\n",
       "                        '49201686-f9b4-4b93-9ab7-c380d19dd8d4',\n",
       "                        [{\"marker\": {\"color\": \"rgba(0, 0, 255, .5)\", \"size\": 10}, \"mode\": \"markers\", \"name\": \"True 1\", \"type\": \"scatter\", \"x\": [0.4455579215040586, 0.3883219225390958, 1.9311726864178849, 0.2784001721914431, 0.7873752255677157, 1.1575856071122212, 0.6701627450809824, 1.5145270639258612, 1.7692552157509212, 0.3015845937203322, 0.046886171997486126, 1.3008157178575626, 0.14581366111341776, 0.5037100996652946, 0.2568541335596931, 1.618672146218399, 0.6750266801574201, 0.1673999632393015, 0.2188667807871978, 0.8415686041141175, 0.6424747608104892, 1.7754644362563212, 0.22704853207150022, 0.10028961855061447, 0.05873753499443368, 0.07647103124736376, 0.766814333007622, 1.993488349177695, 0.06798236642627198, 0.711897647946862, 0.19362875815939162, 0.8640890138664621, 0.6973578019807878, 1.469783759257342, 0.24685499952545653, 0.8384489791655296, 0.48497397156335353, 0.5990615746045937, 0.684778630997969, 0.4548162739407149, 0.9789462608516051, 1.8606315314920348, 0.8373313917586377, 0.29899429425452895, 1.144018178574085, 0.9148013396281427, 0.04966336488621692, 0.22490314584992122, 1.9126285264224236, 1.4823139803769398, 0.6421082064825215, 1.5195467246000687, 0.7417871242557199, 1.4835885307813048, 1.2410623781556502, 0.8955328904746752, 0.40297875411660466, 1.1492796877912201, 0.10753909704229081, 0.927183443153183, 0.42569054712630927, 0.7724239102308155, 0.34232020352933346, 0.5740383027314466, 0.006345778062228025, 0.421144425367423, 0.9743653329157941, 0.9884067948013675, 1.646691582991286, 0.05867231960122932], \"y\": [0.9097945272543628, 0.5190056369059951, 1.1655534787007107, 0.4163200420370594, 0.3645111585531503, 0.9451562061281238, 0.7900428178488926, 1.6484297800151255, 1.821669004432444, 0.7960623019251207, 0.5327687009758627, 1.1504379084455012, 0.8702861755017298, 1.7245606171259114, 0.11348488805890178, 1.0581726884311744, 0.6750974531731255, 0.9124826763045434, 0.14629641055847054, 0.20518443457789248, 0.4128805484447766, 1.5153013102079598, 0.46380429472636886, 0.43455490373048633, 0.6310293566486149, 0.051116925441377026, 0.8409516692041039, 1.3113334387008702, 1.1181263730951874, 0.05464270492126477, 0.8593809346621369, 1.0185026295129878, 0.9816879641225452, 1.8273566766935987, 0.40593606751051947, 0.8427978737361086, 0.5698747784763012, 1.3456058277425025, 0.3246106641167563, 0.46128736228751344, 1.6230491439263182, 1.2539687837232818, 0.8218563800112244, 1.2971132344425842, 1.643692116714738, 1.111025301711341, 0.9270996565993554, 0.67834188865096, 0.8975579712505316, 1.0609640212059104, 0.4130100049457853, 0.9852883036056348, 1.0953544951109815, 1.5274054822324947, 1.754759356881861, 0.0031706714300696603, 0.2577353556902896, 1.1920037345798828, 0.6119403006088443, 0.26427454441451603, 0.5092678204910808, 0.12380007161269813, 0.25798327413054134, 0.6575902351365642, 0.45397471566301073, 1.2480542569635562, 0.5962904653167879, 0.7945426843908712, 1.2543197165735203, 0.5158734081051067]}, {\"marker\": {\"color\": \"rgba(0, 255, 0, .5)\", \"size\": 10}, \"mode\": \"markers\", \"name\": \"True 2\", \"type\": \"scatter\", \"x\": [0.8694968334954764, 0.9603505845155478, 1.5681716576468414, 0.9396336604855468, 1.1739563003404623, 1.4828850558655953, 0.9290182632508832, 1.1141995270786986, 1.5251257077688034, 1.731350189794333, 1.006973786257514, 1.3721531872512607, 1.4632569034615275, 1.3835472768193309, 1.1245385230320109, 0.8090326564503875, 1.7778161755447757, 0.8270287391751772, 1.4648244707527596, 1.423612753726657, 1.1680600215413568, 1.1740757359226235, 0.8717395235909151, 1.2515883047510163, 1.7785579324325833, 1.255451011576587, 1.5243029916192907, 1.6557854228950932, 1.3045629507244447, 1.6785179674007589, 1.5445669240034228, 1.3619473121724255, 1.5690999315374219, 0.8651598388803416, 1.388134372800844, 1.156375955673263, 1.6087866160816753, 1.2151835913063447, 0.817376194500023, 1.094595518167803, 1.3976115789728092, 0.9811076135310886, 1.3195873010013692, 1.7878557679342144, 0.948471025458164, 1.5647008028727263, 1.7938815273586983, 0.9136995935807783, 0.9725526539516725, 0.8491295173719123, 1.129613746528147, 1.3401241014458254, 1.4422736802201794, 1.6320698587257878, 1.0679860883706582, 0.8152979746810491, 1.3537892877351259, 0.9165585304242665, 1.0061198096350512, 0.9797030991523469], \"y\": [0.4715887891171926, 0.6862253981137257, 0.6883507564412376, 0.7647674888651951, 0.986944439362009, 0.8267400326881577, 0.6776957458159651, 0.6589430769768726, 0.107258611606047, 0.5295285573608629, 0.6855333304620117, 0.9407102521399769, 0.20778149285730696, 0.43520518567434285, 0.06824485282032233, 0.5791294327088794, 0.3292958542318114, 0.686751844231472, 0.0032210363045166446, 0.6000700042860765, 0.208179651852195, 0.8480659927813156, 0.9051667467285939, 0.5605970484048609, 0.1497922562454176, 0.02436539836069318, 0.9557090547975654, 0.928503772160911, 0.23858445313932097, 0.24000353681224496, 0.2591736060516385, 0.5545562886435927, 0.9988675383511566, 0.8575432136191041, 0.6760627345092312, 0.6821537041638686, 0.2556511425406651, 0.6343626728518661, 0.9978303028748375, 0.023321112376691877, 0.37986638715019083, 0.13819701433110954, 0.8755881302671876, 0.7967611880367906, 0.07761821350873765, 0.011442235065006079, 0.4176802543573157, 0.08337766400404889, 0.6408415129342355, 0.3947331378906479, 0.3432575203908024, 0.30442713327405646, 0.05755072951887896, 0.274392009850402, 0.7477650762886893, 0.8194511983281098, 0.7745188304668968, 0.1673555020912998, 0.722132257873366, 0.7774709322279827]}, {\"marker\": {\"color\": \"rgba(0, 0, 255, .5)\", \"size\": 10}, \"mode\": \"markers\", \"name\": \"Pred 1\", \"type\": \"scatter\", \"x\": [0.4455579215040586, 0.3883219225390958, 1.9311726864178849, 0.2784001721914431, 0.7873752255677157, 0.6701627450809824, 1.5145270639258612, 1.7692552157509212, 0.3015845937203322, 0.046886171997486126, 0.14581366111341776, 0.5037100996652946, 0.2568541335596931, 0.6750266801574201, 0.1673999632393015, 0.2188667807871978, 0.8415686041141175, 0.6424747608104892, 1.7754644362563212, 0.22704853207150022, 0.10028961855061447, 0.05873753499443368, 0.07647103124736376, 0.766814333007622, 1.993488349177695, 0.06798236642627198, 0.711897647946862, 0.19362875815939162, 0.8640890138664621, 0.6973578019807878, 1.469783759257342, 0.24685499952545653, 0.8384489791655296, 0.48497397156335353, 0.8651598388803416, 0.5990615746045937, 0.684778630997969, 0.4548162739407149, 0.9789462608516051, 1.8606315314920348, 0.8373313917586377, 0.29899429425452895, 1.144018178574085, 0.9148013396281427, 0.04966336488621692, 0.22490314584992122, 1.9126285264224236, 0.6421082064825215, 0.7417871242557199, 1.4835885307813048, 1.2410623781556502, 0.40297875411660466, 1.1492796877912201, 0.10753909704229081, 0.927183443153183, 0.8491295173719123, 0.42569054712630927, 0.7724239102308155, 0.34232020352933346, 0.5740383027314466, 0.006345778062228025, 0.8152979746810491, 0.421144425367423, 1.646691582991286, 0.05867231960122932], \"y\": [0.9097945272543628, 0.5190056369059951, 1.1655534787007107, 0.4163200420370594, 0.3645111585531503, 0.7900428178488926, 1.6484297800151255, 1.821669004432444, 0.7960623019251207, 0.5327687009758627, 0.8702861755017298, 1.7245606171259114, 0.11348488805890178, 0.6750974531731255, 0.9124826763045434, 0.14629641055847054, 0.20518443457789248, 0.4128805484447766, 1.5153013102079598, 0.46380429472636886, 0.43455490373048633, 0.6310293566486149, 0.051116925441377026, 0.8409516692041039, 1.3113334387008702, 1.1181263730951874, 0.05464270492126477, 0.8593809346621369, 1.0185026295129878, 0.9816879641225452, 1.8273566766935987, 0.40593606751051947, 0.8427978737361086, 0.5698747784763012, 0.8575432136191041, 1.3456058277425025, 0.3246106641167563, 0.46128736228751344, 1.6230491439263182, 1.2539687837232818, 0.8218563800112244, 1.2971132344425842, 1.643692116714738, 1.111025301711341, 0.9270996565993554, 0.67834188865096, 0.8975579712505316, 0.4130100049457853, 1.0953544951109815, 1.5274054822324947, 1.754759356881861, 0.2577353556902896, 1.1920037345798828, 0.6119403006088443, 0.26427454441451603, 0.3947331378906479, 0.5092678204910808, 0.12380007161269813, 0.25798327413054134, 0.6575902351365642, 0.45397471566301073, 0.8194511983281098, 1.2480542569635562, 1.2543197165735203, 0.5158734081051067]}, {\"marker\": {\"color\": \"rgba(0, 255, 0, .5)\", \"size\": 10}, \"mode\": \"markers\", \"name\": \"Pred 2\", \"type\": \"scatter\", \"x\": [0.8694968334954764, 0.9603505845155478, 1.5681716576468414, 0.9396336604855468, 1.1739563003404623, 1.4828850558655953, 1.1575856071122212, 0.9290182632508832, 1.1141995270786986, 1.5251257077688034, 1.731350189794333, 1.3008157178575626, 1.618672146218399, 1.006973786257514, 1.3721531872512607, 1.4632569034615275, 1.3835472768193309, 1.1245385230320109, 0.8090326564503875, 1.7778161755447757, 0.8270287391751772, 1.4648244707527596, 1.423612753726657, 1.1680600215413568, 1.1740757359226235, 0.8717395235909151, 1.2515883047510163, 1.7785579324325833, 1.255451011576587, 1.5243029916192907, 1.6557854228950932, 1.3045629507244447, 1.6785179674007589, 1.5445669240034228, 1.3619473121724255, 1.5690999315374219, 1.388134372800844, 1.156375955673263, 1.6087866160816753, 1.2151835913063447, 0.817376194500023, 1.094595518167803, 1.3976115789728092, 0.9811076135310886, 1.4823139803769398, 1.3195873010013692, 1.7878557679342144, 1.5195467246000687, 0.8955328904746752, 0.948471025458164, 1.5647008028727263, 1.7938815273586983, 0.9136995935807783, 0.9725526539516725, 1.129613746528147, 1.3401241014458254, 1.4422736802201794, 1.6320698587257878, 1.0679860883706582, 1.3537892877351259, 0.9165585304242665, 1.0061198096350512, 0.9743653329157941, 0.9884067948013675, 0.9797030991523469], \"y\": [0.4715887891171926, 0.6862253981137257, 0.6883507564412376, 0.7647674888651951, 0.986944439362009, 0.8267400326881577, 0.9451562061281238, 0.6776957458159651, 0.6589430769768726, 0.107258611606047, 0.5295285573608629, 1.1504379084455012, 1.0581726884311744, 0.6855333304620117, 0.9407102521399769, 0.20778149285730696, 0.43520518567434285, 0.06824485282032233, 0.5791294327088794, 0.3292958542318114, 0.686751844231472, 0.0032210363045166446, 0.6000700042860765, 0.208179651852195, 0.8480659927813156, 0.9051667467285939, 0.5605970484048609, 0.1497922562454176, 0.02436539836069318, 0.9557090547975654, 0.928503772160911, 0.23858445313932097, 0.24000353681224496, 0.2591736060516385, 0.5545562886435927, 0.9988675383511566, 0.6760627345092312, 0.6821537041638686, 0.2556511425406651, 0.6343626728518661, 0.9978303028748375, 0.023321112376691877, 0.37986638715019083, 0.13819701433110954, 1.0609640212059104, 0.8755881302671876, 0.7967611880367906, 0.9852883036056348, 0.0031706714300696603, 0.07761821350873765, 0.011442235065006079, 0.4176802543573157, 0.08337766400404889, 0.6408415129342355, 0.3432575203908024, 0.30442713327405646, 0.05755072951887896, 0.274392009850402, 0.7477650762886893, 0.7745188304668968, 0.1673555020912998, 0.722132257873366, 0.5962904653167879, 0.7945426843908712, 0.7774709322279827]}],\n",
       "                        {\"template\": {\"data\": {\"bar\": [{\"error_x\": {\"color\": \"#2a3f5f\"}, \"error_y\": {\"color\": \"#2a3f5f\"}, \"marker\": {\"line\": {\"color\": \"#E5ECF6\", \"width\": 0.5}}, \"type\": \"bar\"}], \"barpolar\": [{\"marker\": {\"line\": {\"color\": \"#E5ECF6\", \"width\": 0.5}}, \"type\": \"barpolar\"}], \"carpet\": [{\"aaxis\": {\"endlinecolor\": \"#2a3f5f\", \"gridcolor\": \"white\", \"linecolor\": \"white\", \"minorgridcolor\": \"white\", \"startlinecolor\": \"#2a3f5f\"}, \"baxis\": {\"endlinecolor\": \"#2a3f5f\", \"gridcolor\": \"white\", \"linecolor\": \"white\", \"minorgridcolor\": \"white\", \"startlinecolor\": \"#2a3f5f\"}, \"type\": \"carpet\"}], \"choropleth\": [{\"colorbar\": {\"outlinewidth\": 0, \"ticks\": \"\"}, \"type\": \"choropleth\"}], \"contour\": [{\"colorbar\": {\"outlinewidth\": 0, \"ticks\": \"\"}, \"colorscale\": [[0.0, \"#0d0887\"], [0.1111111111111111, \"#46039f\"], [0.2222222222222222, \"#7201a8\"], [0.3333333333333333, \"#9c179e\"], [0.4444444444444444, \"#bd3786\"], [0.5555555555555556, \"#d8576b\"], [0.6666666666666666, \"#ed7953\"], [0.7777777777777778, \"#fb9f3a\"], [0.8888888888888888, \"#fdca26\"], [1.0, \"#f0f921\"]], \"type\": \"contour\"}], \"contourcarpet\": [{\"colorbar\": {\"outlinewidth\": 0, \"ticks\": \"\"}, \"type\": \"contourcarpet\"}], \"heatmap\": [{\"colorbar\": {\"outlinewidth\": 0, \"ticks\": \"\"}, \"colorscale\": [[0.0, \"#0d0887\"], [0.1111111111111111, \"#46039f\"], [0.2222222222222222, \"#7201a8\"], [0.3333333333333333, \"#9c179e\"], [0.4444444444444444, \"#bd3786\"], [0.5555555555555556, \"#d8576b\"], [0.6666666666666666, \"#ed7953\"], [0.7777777777777778, \"#fb9f3a\"], [0.8888888888888888, \"#fdca26\"], [1.0, \"#f0f921\"]], \"type\": \"heatmap\"}], \"heatmapgl\": [{\"colorbar\": {\"outlinewidth\": 0, \"ticks\": \"\"}, \"colorscale\": [[0.0, \"#0d0887\"], [0.1111111111111111, \"#46039f\"], [0.2222222222222222, \"#7201a8\"], [0.3333333333333333, \"#9c179e\"], [0.4444444444444444, \"#bd3786\"], [0.5555555555555556, \"#d8576b\"], [0.6666666666666666, \"#ed7953\"], [0.7777777777777778, \"#fb9f3a\"], [0.8888888888888888, \"#fdca26\"], [1.0, \"#f0f921\"]], \"type\": \"heatmapgl\"}], \"histogram\": [{\"marker\": {\"colorbar\": {\"outlinewidth\": 0, \"ticks\": \"\"}}, \"type\": \"histogram\"}], \"histogram2d\": [{\"colorbar\": {\"outlinewidth\": 0, \"ticks\": \"\"}, \"colorscale\": [[0.0, \"#0d0887\"], [0.1111111111111111, \"#46039f\"], [0.2222222222222222, \"#7201a8\"], [0.3333333333333333, \"#9c179e\"], [0.4444444444444444, \"#bd3786\"], [0.5555555555555556, \"#d8576b\"], [0.6666666666666666, \"#ed7953\"], [0.7777777777777778, \"#fb9f3a\"], [0.8888888888888888, \"#fdca26\"], [1.0, \"#f0f921\"]], \"type\": \"histogram2d\"}], \"histogram2dcontour\": [{\"colorbar\": {\"outlinewidth\": 0, \"ticks\": \"\"}, \"colorscale\": [[0.0, \"#0d0887\"], [0.1111111111111111, \"#46039f\"], [0.2222222222222222, \"#7201a8\"], [0.3333333333333333, \"#9c179e\"], [0.4444444444444444, \"#bd3786\"], [0.5555555555555556, \"#d8576b\"], [0.6666666666666666, \"#ed7953\"], [0.7777777777777778, \"#fb9f3a\"], [0.8888888888888888, \"#fdca26\"], [1.0, \"#f0f921\"]], \"type\": \"histogram2dcontour\"}], \"mesh3d\": [{\"colorbar\": {\"outlinewidth\": 0, \"ticks\": \"\"}, \"type\": \"mesh3d\"}], \"parcoords\": [{\"line\": {\"colorbar\": {\"outlinewidth\": 0, \"ticks\": \"\"}}, \"type\": \"parcoords\"}], \"scatter\": [{\"marker\": {\"colorbar\": {\"outlinewidth\": 0, \"ticks\": \"\"}}, \"type\": \"scatter\"}], \"scatter3d\": [{\"line\": {\"colorbar\": {\"outlinewidth\": 0, \"ticks\": \"\"}}, \"marker\": {\"colorbar\": {\"outlinewidth\": 0, \"ticks\": \"\"}}, \"type\": \"scatter3d\"}], \"scattercarpet\": [{\"marker\": {\"colorbar\": {\"outlinewidth\": 0, \"ticks\": \"\"}}, \"type\": \"scattercarpet\"}], \"scattergeo\": [{\"marker\": {\"colorbar\": {\"outlinewidth\": 0, \"ticks\": \"\"}}, \"type\": \"scattergeo\"}], \"scattergl\": [{\"marker\": {\"colorbar\": {\"outlinewidth\": 0, \"ticks\": \"\"}}, \"type\": \"scattergl\"}], \"scattermapbox\": [{\"marker\": {\"colorbar\": {\"outlinewidth\": 0, \"ticks\": \"\"}}, \"type\": \"scattermapbox\"}], \"scatterpolar\": [{\"marker\": {\"colorbar\": {\"outlinewidth\": 0, \"ticks\": \"\"}}, \"type\": \"scatterpolar\"}], \"scatterpolargl\": [{\"marker\": {\"colorbar\": {\"outlinewidth\": 0, \"ticks\": \"\"}}, \"type\": \"scatterpolargl\"}], \"scatterternary\": [{\"marker\": {\"colorbar\": {\"outlinewidth\": 0, \"ticks\": \"\"}}, \"type\": \"scatterternary\"}], \"surface\": [{\"colorbar\": {\"outlinewidth\": 0, \"ticks\": \"\"}, \"colorscale\": [[0.0, \"#0d0887\"], [0.1111111111111111, \"#46039f\"], [0.2222222222222222, \"#7201a8\"], [0.3333333333333333, \"#9c179e\"], [0.4444444444444444, \"#bd3786\"], [0.5555555555555556, \"#d8576b\"], [0.6666666666666666, \"#ed7953\"], [0.7777777777777778, \"#fb9f3a\"], [0.8888888888888888, \"#fdca26\"], [1.0, \"#f0f921\"]], \"type\": \"surface\"}], \"table\": [{\"cells\": {\"fill\": {\"color\": \"#EBF0F8\"}, \"line\": {\"color\": \"white\"}}, \"header\": {\"fill\": {\"color\": \"#C8D4E3\"}, \"line\": {\"color\": \"white\"}}, \"type\": \"table\"}]}, \"layout\": {\"annotationdefaults\": {\"arrowcolor\": \"#2a3f5f\", \"arrowhead\": 0, \"arrowwidth\": 1}, \"colorscale\": {\"diverging\": [[0, \"#8e0152\"], [0.1, \"#c51b7d\"], [0.2, \"#de77ae\"], [0.3, \"#f1b6da\"], [0.4, \"#fde0ef\"], [0.5, \"#f7f7f7\"], [0.6, \"#e6f5d0\"], [0.7, \"#b8e186\"], [0.8, \"#7fbc41\"], [0.9, \"#4d9221\"], [1, \"#276419\"]], \"sequential\": [[0.0, \"#0d0887\"], [0.1111111111111111, \"#46039f\"], [0.2222222222222222, \"#7201a8\"], [0.3333333333333333, \"#9c179e\"], [0.4444444444444444, \"#bd3786\"], [0.5555555555555556, \"#d8576b\"], [0.6666666666666666, \"#ed7953\"], [0.7777777777777778, \"#fb9f3a\"], [0.8888888888888888, \"#fdca26\"], [1.0, \"#f0f921\"]], \"sequentialminus\": [[0.0, \"#0d0887\"], [0.1111111111111111, \"#46039f\"], [0.2222222222222222, \"#7201a8\"], [0.3333333333333333, \"#9c179e\"], [0.4444444444444444, \"#bd3786\"], [0.5555555555555556, \"#d8576b\"], [0.6666666666666666, \"#ed7953\"], [0.7777777777777778, \"#fb9f3a\"], [0.8888888888888888, \"#fdca26\"], [1.0, \"#f0f921\"]]}, \"colorway\": [\"#636efa\", \"#EF553B\", \"#00cc96\", \"#ab63fa\", \"#FFA15A\", \"#19d3f3\", \"#FF6692\", \"#B6E880\", \"#FF97FF\", \"#FECB52\"], \"font\": {\"color\": \"#2a3f5f\"}, \"geo\": {\"bgcolor\": \"white\", \"lakecolor\": \"white\", \"landcolor\": \"#E5ECF6\", \"showlakes\": true, \"showland\": true, \"subunitcolor\": \"white\"}, \"hoverlabel\": {\"align\": \"left\"}, \"hovermode\": \"closest\", \"mapbox\": {\"style\": \"light\"}, \"paper_bgcolor\": \"white\", \"plot_bgcolor\": \"#E5ECF6\", \"polar\": {\"angularaxis\": {\"gridcolor\": \"white\", \"linecolor\": \"white\", \"ticks\": \"\"}, \"bgcolor\": \"#E5ECF6\", \"radialaxis\": {\"gridcolor\": \"white\", \"linecolor\": \"white\", \"ticks\": \"\"}}, \"scene\": {\"xaxis\": {\"backgroundcolor\": \"#E5ECF6\", \"gridcolor\": \"white\", \"gridwidth\": 2, \"linecolor\": \"white\", \"showbackground\": true, \"ticks\": \"\", \"zerolinecolor\": \"white\"}, \"yaxis\": {\"backgroundcolor\": \"#E5ECF6\", \"gridcolor\": \"white\", \"gridwidth\": 2, \"linecolor\": \"white\", \"showbackground\": true, \"ticks\": \"\", \"zerolinecolor\": \"white\"}, \"zaxis\": {\"backgroundcolor\": \"#E5ECF6\", \"gridcolor\": \"white\", \"gridwidth\": 2, \"linecolor\": \"white\", \"showbackground\": true, \"ticks\": \"\", \"zerolinecolor\": \"white\"}}, \"shapedefaults\": {\"line\": {\"color\": \"#2a3f5f\"}}, \"ternary\": {\"aaxis\": {\"gridcolor\": \"white\", \"linecolor\": \"white\", \"ticks\": \"\"}, \"baxis\": {\"gridcolor\": \"white\", \"linecolor\": \"white\", \"ticks\": \"\"}, \"bgcolor\": \"#E5ECF6\", \"caxis\": {\"gridcolor\": \"white\", \"linecolor\": \"white\", \"ticks\": \"\"}}, \"title\": {\"x\": 0.05}, \"xaxis\": {\"automargin\": true, \"gridcolor\": \"white\", \"linecolor\": \"white\", \"ticks\": \"\", \"zerolinecolor\": \"white\", \"zerolinewidth\": 2}, \"yaxis\": {\"automargin\": true, \"gridcolor\": \"white\", \"linecolor\": \"white\", \"ticks\": \"\", \"zerolinecolor\": \"white\", \"zerolinewidth\": 2}}}, \"title\": {\"text\": \"Classification of KNN on synthetic data\"}},\n",
       "                        {\"responsive\": true}\n",
       "                    ).then(function(){\n",
       "                            \n",
       "var gd = document.getElementById('49201686-f9b4-4b93-9ab7-c380d19dd8d4');\n",
       "var x = new MutationObserver(function (mutations, observer) {{\n",
       "        var display = window.getComputedStyle(gd).display;\n",
       "        if (!display || display === 'none') {{\n",
       "            console.log([gd, 'removed!']);\n",
       "            Plotly.purge(gd);\n",
       "            observer.disconnect();\n",
       "        }}\n",
       "}});\n",
       "\n",
       "// Listen for the removal of the full notebook cells\n",
       "var notebookContainer = gd.closest('#notebook-container');\n",
       "if (notebookContainer) {{\n",
       "    x.observe(notebookContainer, {childList: true});\n",
       "}}\n",
       "\n",
       "// Listen for the clearing of the current output cell\n",
       "var outputEl = gd.closest('.output');\n",
       "if (outputEl) {{\n",
       "    x.observe(outputEl, {childList: true});\n",
       "}}\n",
       "\n",
       "                        })\n",
       "                };\n",
       "                });\n",
       "            </script>\n",
       "        </div>"
      ]
     },
     "metadata": {},
     "output_type": "display_data"
    }
   ],
   "source": [
    "iplot(clas_plotly_plot(data.values,neigh,\"KNN\"))"
   ]
  },
  {
   "cell_type": "markdown",
   "metadata": {},
   "source": [
    "<span style=\"color:blue\">**In-class**: Add true positive, false positive, true negative, false negative information to the plot. </span>"
   ]
  },
  {
   "cell_type": "markdown",
   "metadata": {},
   "source": [
    "<span style=\"color:blue\">**In-class**: Synthetize your own data using numpy and test some models, can be regression or classification. </span>"
   ]
  }
 ],
 "metadata": {
  "kernelspec": {
   "display_name": "Python 3",
   "language": "python",
   "name": "python3"
  },
  "language_info": {
   "codemirror_mode": {
    "name": "ipython",
    "version": 3
   },
   "file_extension": ".py",
   "mimetype": "text/x-python",
   "name": "python",
   "nbconvert_exporter": "python",
   "pygments_lexer": "ipython3",
   "version": "3.6.7"
  },
  "latex_envs": {
   "LaTeX_envs_menu_present": true,
   "autoclose": false,
   "autocomplete": true,
   "bibliofile": "biblio.bib",
   "cite_by": "apalike",
   "current_citInitial": 1,
   "eqLabelWithNumbers": true,
   "eqNumInitial": 1,
   "hotkeys": {
    "equation": "Ctrl-E",
    "itemize": "Ctrl-I"
   },
   "labels_anchors": false,
   "latex_user_defs": false,
   "report_style_numbering": false,
   "user_envs_cfg": false
  }
 },
 "nbformat": 4,
 "nbformat_minor": 2
}
