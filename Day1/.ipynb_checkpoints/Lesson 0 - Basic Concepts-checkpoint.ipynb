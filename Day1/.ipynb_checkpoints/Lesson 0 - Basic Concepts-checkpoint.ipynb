{
 "cells": [
  {
   "cell_type": "markdown",
   "metadata": {},
   "source": [
    "# Lesson 0\n",
    "\n",
    "During this lesson, we are going to see some basic concepts of Python and Machine Learning.\n",
    "\n",
    "Just to know where we are located:\n",
    "\n",
    "<img src=\"img/framework.png\" width=\"800\">\n",
    "\n",
    "Usually is not enough to know the python libraries such as sklearn that have ML algorithms already implemented in python. To have a deeper knowledge about how the ML industry works, we need to know some about pure machine learning (which means theory) and very technical concepts about computer science such as using the terminal, collaborative programming, how computers work in general, performance analysis, etc."
   ]
  },
  {
   "cell_type": "markdown",
   "metadata": {},
   "source": [
    "## Jupyter-Notebook \n",
    "The Jupyter Notebook is an open-source web application that allows you to create and share documents that contain live code, equations, visualizations and narrative text (https://jupyter.org/). \n",
    "Uses include: \n",
    "- data cleaning and transformation \n",
    "- numerical simulation \n",
    "- statistical modeling\n",
    "- data visualization\n",
    "- machine learning\n",
    "- and much more .\n",
    "\n",
    "**Interactive output**:\n",
    "Your code can produce rich, interactive output: HTML, images, videos, LaTeX, and custom MIME types."
   ]
  },
  {
   "cell_type": "code",
   "execution_count": 5,
   "metadata": {},
   "outputs": [
    {
     "data": {
      "text/html": [
       "\n",
       "        <iframe\n",
       "            width=\"1000\"\n",
       "            height=\"400\"\n",
       "            src=\"https://www.wikipedia.com\"\n",
       "            frameborder=\"0\"\n",
       "            allowfullscreen\n",
       "        ></iframe>\n",
       "        "
      ],
      "text/plain": [
       "<IPython.lib.display.IFrame at 0x7f926911e160>"
      ]
     },
     "execution_count": 5,
     "metadata": {},
     "output_type": "execute_result"
    }
   ],
   "source": [
    "from IPython.lib.display import IFrame\n",
    "IFrame('https://www.wikipedia.com',width=1000, height=400)"
   ]
  },
  {
   "cell_type": "markdown",
   "metadata": {},
   "source": [
    "Source"
   ]
  },
  {
   "cell_type": "markdown",
   "metadata": {},
   "source": [
    "```\n",
    "\\begin{equation*}\n",
    "1 +  \\frac{q^2}{(1-q)}+\\frac{q^6}{(1-q)(1-q^2)}+\\cdots =\n",
    "\\prod_{j=0}^{\\infty}\\frac{1}{(1-q^{5j+2})(1-q^{5j+3})},\n",
    "\\quad\\quad \\text{for $|q|<1$}.\n",
    "\\end{equation*}\n",
    "```"
   ]
  },
  {
   "cell_type": "markdown",
   "metadata": {},
   "source": [
    "Equations:\n",
    "\n",
    "\\begin{equation*}\n",
    "1 +  \\frac{q^2}{(1-q)}+\\frac{q^6}{(1-q)(1-q^2)}+\\cdots =\n",
    "\\prod_{j=0}^{\\infty}\\frac{1}{(1-q^{5j+2})(1-q^{5j+3})},\n",
    "\\quad\\quad \\text{for $|q|<1$}.\n",
    "\\end{equation*}"
   ]
  },
  {
   "cell_type": "markdown",
   "metadata": {},
   "source": [
    "#### Usefull information\n",
    "If you want to know which are the shortcuts and some functions of Jupyter, just press `Esc` to deselect all cells and press `h`. Basic jupyter notebook commands:\n",
    "- `!` Run command in the system shell (the following commands run in Linux terminal, if you are using Windows feel free to change those commands to windows command prompt commands)"
   ]
  },
  {
   "cell_type": "code",
   "execution_count": 6,
   "metadata": {},
   "outputs": [
    {
     "name": "stdout",
     "output_type": "stream",
     "text": [
      "/home/josem/Escritorio/Daivec-ML-course/Day1\r\n"
     ]
    }
   ],
   "source": [
    "!pwd"
   ]
  },
  {
   "cell_type": "code",
   "execution_count": 7,
   "metadata": {},
   "outputs": [
    {
     "name": "stdout",
     "output_type": "stream",
     "text": [
      " data\t\t\t\t   'Lesson 1 - Greedy algorithms and DT.ipynb'\r\n",
      " img\t\t\t\t   'Lesson 2 - Practical example.ipynb'\r\n",
      "'Lesson 0 - Basic Concepts.ipynb'\r\n"
     ]
    }
   ],
   "source": [
    "!ls"
   ]
  },
  {
   "cell_type": "code",
   "execution_count": 8,
   "metadata": {},
   "outputs": [
    {
     "name": "stdout",
     "output_type": "stream",
     "text": [
      "Python 3.6.7\r\n"
     ]
    }
   ],
   "source": [
    "!python -V"
   ]
  },
  {
   "cell_type": "code",
   "execution_count": 9,
   "metadata": {},
   "outputs": [
    {
     "name": "stdout",
     "output_type": "stream",
     "text": [
      "Day1  Day2  README.md\r\n"
     ]
    }
   ],
   "source": [
    "parent_directory = '..'\n",
    "!ls {parent_directory}"
   ]
  },
  {
   "cell_type": "code",
   "execution_count": 10,
   "metadata": {},
   "outputs": [],
   "source": [
    "a = 1024\n",
    "?a"
   ]
  },
  {
   "cell_type": "markdown",
   "metadata": {},
   "source": [
    "* Use `??` to see the source of a function"
   ]
  },
  {
   "cell_type": "code",
   "execution_count": 14,
   "metadata": {},
   "outputs": [],
   "source": [
    "??str.replace"
   ]
  },
  {
   "cell_type": "markdown",
   "metadata": {},
   "source": [
    "As we progress through the course we will see other jupyter notebook (iPython) commands. You can find the complete list in:\n",
    "https://ipython.org/ipython-doc/3/interactive/tutorial.html\n",
    "\n",
    "To know to which methods or objects you can access from a root object, just use the `Tab` key, and you will open a tab with all the methods. Type `Shift+Tab` inside the parenthesis of a function to see the required arguments."
   ]
  },
  {
   "cell_type": "markdown",
   "metadata": {},
   "source": [
    "## Python 3.x\n",
    "\n",
    "Python is an interpreted, object-oriented, high-level programming language with dynamic semantics.\n",
    "\n",
    "* **Interpreted**: Compile and execute by any size blocks in any time.\n",
    "* **Object Oriented**: Uses classes objects and attributes.\n",
    "* **High-Level**: Can not allocate memory manually.\n",
    "* **Dynamic semantics**: Python doesn't have static types.\n",
    "\n",
    "So to start typing some code, just..."
   ]
  },
  {
   "cell_type": "markdown",
   "metadata": {},
   "source": [
    "There are many reasons of why to use `Python` instead of other languages for Machine Learning, but the main fact is that the community is bigger. Thus, more bugs get resolved, we have more threads in stackoverflow with nice answers, and some frameworks, particularly DL frameworks, just work in `Python`.\n",
    "\n",
    "To see an example of what people searches in Google:\n",
    "\n",
    "<img src=\"img/programming_languages.png\" width=\"800\">"
   ]
  },
  {
   "cell_type": "markdown",
   "metadata": {},
   "source": [
    "## Techinical Concepts\n",
    "\n",
    "* You should learn of how to use your computer, for Linux users that means to use the terminal. Windows has a terminal as well but it works differently. If you are more comfortable, you can download Ubuntu in Windows 10 and activate Windows subsystem for Linux.\n",
    "* `git`\n",
    "* `virtualenvs`"
   ]
  },
  {
   "cell_type": "markdown",
   "metadata": {},
   "source": [
    "## External Materials\n",
    "\n",
    "* \n",
    "* "
   ]
  },
  {
   "cell_type": "code",
   "execution_count": null,
   "metadata": {},
   "outputs": [],
   "source": []
  }
 ],
 "metadata": {
  "kernelspec": {
   "display_name": "Python 3",
   "language": "python",
   "name": "python3"
  },
  "language_info": {
   "codemirror_mode": {
    "name": "ipython",
    "version": 3
   },
   "file_extension": ".py",
   "mimetype": "text/x-python",
   "name": "python",
   "nbconvert_exporter": "python",
   "pygments_lexer": "ipython3",
   "version": "3.6.7"
  }
 },
 "nbformat": 4,
 "nbformat_minor": 2
}
