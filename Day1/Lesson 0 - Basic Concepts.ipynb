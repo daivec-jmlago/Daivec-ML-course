{
 "cells": [
  {
   "cell_type": "markdown",
   "metadata": {},
   "source": [
    "# Lesson 1 part 0\n",
    "During this lesson, we will learn the very basics of jupyter-notebook and python."
   ]
  },
  {
   "cell_type": "markdown",
   "metadata": {},
   "source": [
    "## Jupyter-Notebook \n",
    "The Jupyter Notebook is an open-source web application that allows you to create and share documents that contain live code, equations, visualizations and narrative text (https://jupyter.org/). \n",
    "Uses include: \n",
    "- data cleaning and transformation \n",
    "- numerical simulation \n",
    "- statistical modeling\n",
    "- data visualization\n",
    "- machine learning\n",
    "- and much more .\n",
    "\n",
    "**Interactive output**:\n",
    "Your code can produce rich, interactive output: HTML, images, videos, LaTeX, and custom MIME types."
   ]
  },
  {
   "cell_type": "code",
   "execution_count": null,
   "metadata": {},
   "outputs": [],
   "source": []
  }
 ],
 "metadata": {
  "kernelspec": {
   "display_name": "Python 3",
   "language": "python",
   "name": "python3"
  },
  "language_info": {
   "codemirror_mode": {
    "name": "ipython",
    "version": 3
   },
   "file_extension": ".py",
   "mimetype": "text/x-python",
   "name": "python",
   "nbconvert_exporter": "python",
   "pygments_lexer": "ipython3",
   "version": "3.6.7"
  }
 },
 "nbformat": 4,
 "nbformat_minor": 2
}
