{
 "cells": [
  {
   "cell_type": "markdown",
   "metadata": {},
   "source": [
    "## matplotlib\n",
    "\n",
    "Pandas have a built-in plot module, that uses `matplotlib`, which is the main plots library in python. Here is the link: https://matplotlib.org/. In the previous notebook we have seen some samples, lets see more deeply.\n"
   ]
  },
  {
   "cell_type": "code",
   "execution_count": 1,
   "metadata": {},
   "outputs": [],
   "source": [
    "import pandas as pd\n",
    "import matplotlib.pyplot as plt\n",
    "import numpy as np"
   ]
  },
  {
   "cell_type": "code",
   "execution_count": 2,
   "metadata": {},
   "outputs": [],
   "source": [
    "data = pd.read_csv(\"data.csv\", index_col=0)"
   ]
  },
  {
   "cell_type": "code",
   "execution_count": 3,
   "metadata": {},
   "outputs": [
    {
     "data": {
      "text/html": [
       "<div>\n",
       "<style scoped>\n",
       "    .dataframe tbody tr th:only-of-type {\n",
       "        vertical-align: middle;\n",
       "    }\n",
       "\n",
       "    .dataframe tbody tr th {\n",
       "        vertical-align: top;\n",
       "    }\n",
       "\n",
       "    .dataframe thead th {\n",
       "        text-align: right;\n",
       "    }\n",
       "</style>\n",
       "<table border=\"1\" class=\"dataframe\">\n",
       "  <thead>\n",
       "    <tr style=\"text-align: right;\">\n",
       "      <th></th>\n",
       "      <th>Name</th>\n",
       "      <th>Township</th>\n",
       "      <th>Province</th>\n",
       "      <th>Type</th>\n",
       "      <th>Groups</th>\n",
       "      <th>Owners</th>\n",
       "      <th>Power in MW</th>\n",
       "      <th>Lat</th>\n",
       "      <th>Lon</th>\n",
       "    </tr>\n",
       "  </thead>\n",
       "  <tbody>\n",
       "    <tr>\n",
       "      <th>0</th>\n",
       "      <td>Central térmica Litoral de Almería</td>\n",
       "      <td>Carboneras</td>\n",
       "      <td>Almería</td>\n",
       "      <td>convencional</td>\n",
       "      <td>2</td>\n",
       "      <td>Endesa</td>\n",
       "      <td>1159.0</td>\n",
       "      <td>36.97778</td>\n",
       "      <td>-1.90444</td>\n",
       "    </tr>\n",
       "    <tr>\n",
       "      <th>1</th>\n",
       "      <td>Central térmica de Arcos</td>\n",
       "      <td>Arcos de la Frontera</td>\n",
       "      <td>Cádiz</td>\n",
       "      <td>c. combinado</td>\n",
       "      <td>3</td>\n",
       "      <td>Iberdrola</td>\n",
       "      <td>1613.0</td>\n",
       "      <td>36.67250</td>\n",
       "      <td>-5.81611</td>\n",
       "    </tr>\n",
       "    <tr>\n",
       "      <th>2</th>\n",
       "      <td>Central térmica Bahía de Algeciras</td>\n",
       "      <td>San Roque</td>\n",
       "      <td>Cádiz</td>\n",
       "      <td>c. combinado</td>\n",
       "      <td>2</td>\n",
       "      <td>Repsol</td>\n",
       "      <td>800.0</td>\n",
       "      <td>36.18278</td>\n",
       "      <td>-5.38944</td>\n",
       "    </tr>\n",
       "    <tr>\n",
       "      <th>3</th>\n",
       "      <td>Central térmica Campo de Gibraltar</td>\n",
       "      <td>San Roque</td>\n",
       "      <td>Cádiz</td>\n",
       "      <td>c. combinado</td>\n",
       "      <td>2</td>\n",
       "      <td>Naturgy / CEPSA</td>\n",
       "      <td>789.0</td>\n",
       "      <td>36.18333</td>\n",
       "      <td>-5.39306</td>\n",
       "    </tr>\n",
       "    <tr>\n",
       "      <th>4</th>\n",
       "      <td>Central de ciclo combinado de San Roque</td>\n",
       "      <td>San Roque</td>\n",
       "      <td>Cádiz</td>\n",
       "      <td>c. combinado</td>\n",
       "      <td>2</td>\n",
       "      <td>Endesa / Naturgy</td>\n",
       "      <td>800.0</td>\n",
       "      <td>36.19556</td>\n",
       "      <td>-5.41306</td>\n",
       "    </tr>\n",
       "  </tbody>\n",
       "</table>\n",
       "</div>"
      ],
      "text/plain": [
       "                                      Name              Township Province  \\\n",
       "0       Central térmica Litoral de Almería            Carboneras  Almería   \n",
       "1                 Central térmica de Arcos  Arcos de la Frontera    Cádiz   \n",
       "2       Central térmica Bahía de Algeciras             San Roque    Cádiz   \n",
       "3       Central térmica Campo de Gibraltar             San Roque    Cádiz   \n",
       "4  Central de ciclo combinado de San Roque             San Roque    Cádiz   \n",
       "\n",
       "           Type  Groups            Owners  Power in MW       Lat      Lon  \n",
       "0  convencional       2            Endesa       1159.0  36.97778 -1.90444  \n",
       "1  c. combinado       3         Iberdrola       1613.0  36.67250 -5.81611  \n",
       "2  c. combinado       2            Repsol        800.0  36.18278 -5.38944  \n",
       "3  c. combinado       2   Naturgy / CEPSA        789.0  36.18333 -5.39306  \n",
       "4  c. combinado       2  Endesa / Naturgy        800.0  36.19556 -5.41306  "
      ]
     },
     "execution_count": 3,
     "metadata": {},
     "output_type": "execute_result"
    }
   ],
   "source": [
    "data.head()"
   ]
  },
  {
   "cell_type": "code",
   "execution_count": 4,
   "metadata": {},
   "outputs": [
    {
     "data": {
      "image/png": "[encoded data removed]",
      "text/plain": [
       "<Figure size 432x288 with 1 Axes>"
      ]
     },
     "metadata": {
      "needs_background": "light"
     },
     "output_type": "display_data"
    }
   ],
   "source": [
    "data['Owners'].value_counts().head(10).plot.bar();"
   ]
  },
  {
   "cell_type": "markdown",
   "metadata": {},
   "source": [
    "This bar chart tells us absolute numbers, but it's more useful to know relative proportions."
   ]
  },
  {
   "cell_type": "code",
   "execution_count": 5,
   "metadata": {},
   "outputs": [
    {
     "data": {
      "image/png": "[encoded data removed]",
      "text/plain": [
       "<Figure size 432x288 with 1 Axes>"
      ]
     },
     "metadata": {
      "needs_background": "light"
     },
     "output_type": "display_data"
    }
   ],
   "source": [
    "(data['Owners'].value_counts().head(10) / len(data)).plot.bar();"
   ]
  },
  {
   "cell_type": "code",
   "execution_count": 6,
   "metadata": {},
   "outputs": [
    {
     "data": {
      "image/png": "[encoded data removed]",
      "text/plain": [
       "<Figure size 432x288 with 1 Axes>"
      ]
     },
     "metadata": {
      "needs_background": "light"
     },
     "output_type": "display_data"
    }
   ],
   "source": [
    "data['Power in MW'].value_counts().sort_index().plot.bar();"
   ]
  },
  {
   "cell_type": "code",
   "execution_count": 7,
   "metadata": {},
   "outputs": [
    {
     "data": {
      "image/png": "[encoded data removed]",
      "text/plain": [
       "<Figure size 720x288 with 1 Axes>"
      ]
     },
     "metadata": {
      "needs_background": "light"
     },
     "output_type": "display_data"
    }
   ],
   "source": [
    "data['Power in MW'].value_counts().sort_index().plot.bar(figsize=(10,4));"
   ]
  },
  {
   "cell_type": "code",
   "execution_count": 8,
   "metadata": {},
   "outputs": [
    {
     "data": {
      "image/png": "[encoded data removed]",
      "text/plain": [
       "<Figure size 432x288 with 1 Axes>"
      ]
     },
     "metadata": {
      "needs_background": "light"
     },
     "output_type": "display_data"
    }
   ],
   "source": [
    "data['Power in MW'].value_counts().sort_index().plot.line();"
   ]
  },
  {
   "cell_type": "code",
   "execution_count": 9,
   "metadata": {},
   "outputs": [
    {
     "data": {
      "image/png": "[encoded data removed]",
      "text/plain": [
       "<Figure size 432x288 with 1 Axes>"
      ]
     },
     "metadata": {
      "needs_background": "light"
     },
     "output_type": "display_data"
    }
   ],
   "source": [
    "data['Power in MW'].value_counts().sort_index().plot.area();"
   ]
  },
  {
   "cell_type": "code",
   "execution_count": 10,
   "metadata": {},
   "outputs": [
    {
     "data": {
      "image/png": "[encoded data removed]",
      "text/plain": [
       "<Figure size 432x288 with 1 Axes>"
      ]
     },
     "metadata": {
      "needs_background": "light"
     },
     "output_type": "display_data"
    }
   ],
   "source": [
    "data['Power in MW'].plot.hist();"
   ]
  },
  {
   "cell_type": "markdown",
   "metadata": {},
   "source": [
    "## Exercicies"
   ]
  },
  {
   "cell_type": "code",
   "execution_count": 11,
   "metadata": {},
   "outputs": [],
   "source": [
    "pokemon = pd.read_csv(\"https://gist.githubusercontent.com/armgilles/194bcff35001e7eb53a2a8b441e8b2c6/raw/92200bc0a673d5ce2110aaad4544ed6c4010f687/pokemon.csv\",index_col=0)"
   ]
  },
  {
   "cell_type": "code",
   "execution_count": 12,
   "metadata": {},
   "outputs": [
    {
     "data": {
      "text/html": [
       "<div>\n",
       "<style scoped>\n",
       "    .dataframe tbody tr th:only-of-type {\n",
       "        vertical-align: middle;\n",
       "    }\n",
       "\n",
       "    .dataframe tbody tr th {\n",
       "        vertical-align: top;\n",
       "    }\n",
       "\n",
       "    .dataframe thead th {\n",
       "        text-align: right;\n",
       "    }\n",
       "</style>\n",
       "<table border=\"1\" class=\"dataframe\">\n",
       "  <thead>\n",
       "    <tr style=\"text-align: right;\">\n",
       "      <th></th>\n",
       "      <th>Name</th>\n",
       "      <th>Type 1</th>\n",
       "      <th>Type 2</th>\n",
       "      <th>Total</th>\n",
       "      <th>HP</th>\n",
       "      <th>Attack</th>\n",
       "      <th>Defense</th>\n",
       "      <th>Sp. Atk</th>\n",
       "      <th>Sp. Def</th>\n",
       "      <th>Speed</th>\n",
       "      <th>Generation</th>\n",
       "      <th>Legendary</th>\n",
       "    </tr>\n",
       "    <tr>\n",
       "      <th>#</th>\n",
       "      <th></th>\n",
       "      <th></th>\n",
       "      <th></th>\n",
       "      <th></th>\n",
       "      <th></th>\n",
       "      <th></th>\n",
       "      <th></th>\n",
       "      <th></th>\n",
       "      <th></th>\n",
       "      <th></th>\n",
       "      <th></th>\n",
       "      <th></th>\n",
       "    </tr>\n",
       "  </thead>\n",
       "  <tbody>\n",
       "    <tr>\n",
       "      <th>1</th>\n",
       "      <td>Bulbasaur</td>\n",
       "      <td>Grass</td>\n",
       "      <td>Poison</td>\n",
       "      <td>318</td>\n",
       "      <td>45</td>\n",
       "      <td>49</td>\n",
       "      <td>49</td>\n",
       "      <td>65</td>\n",
       "      <td>65</td>\n",
       "      <td>45</td>\n",
       "      <td>1</td>\n",
       "      <td>False</td>\n",
       "    </tr>\n",
       "    <tr>\n",
       "      <th>2</th>\n",
       "      <td>Ivysaur</td>\n",
       "      <td>Grass</td>\n",
       "      <td>Poison</td>\n",
       "      <td>405</td>\n",
       "      <td>60</td>\n",
       "      <td>62</td>\n",
       "      <td>63</td>\n",
       "      <td>80</td>\n",
       "      <td>80</td>\n",
       "      <td>60</td>\n",
       "      <td>1</td>\n",
       "      <td>False</td>\n",
       "    </tr>\n",
       "    <tr>\n",
       "      <th>3</th>\n",
       "      <td>Venusaur</td>\n",
       "      <td>Grass</td>\n",
       "      <td>Poison</td>\n",
       "      <td>525</td>\n",
       "      <td>80</td>\n",
       "      <td>82</td>\n",
       "      <td>83</td>\n",
       "      <td>100</td>\n",
       "      <td>100</td>\n",
       "      <td>80</td>\n",
       "      <td>1</td>\n",
       "      <td>False</td>\n",
       "    </tr>\n",
       "    <tr>\n",
       "      <th>3</th>\n",
       "      <td>VenusaurMega Venusaur</td>\n",
       "      <td>Grass</td>\n",
       "      <td>Poison</td>\n",
       "      <td>625</td>\n",
       "      <td>80</td>\n",
       "      <td>100</td>\n",
       "      <td>123</td>\n",
       "      <td>122</td>\n",
       "      <td>120</td>\n",
       "      <td>80</td>\n",
       "      <td>1</td>\n",
       "      <td>False</td>\n",
       "    </tr>\n",
       "    <tr>\n",
       "      <th>4</th>\n",
       "      <td>Charmander</td>\n",
       "      <td>Fire</td>\n",
       "      <td>NaN</td>\n",
       "      <td>309</td>\n",
       "      <td>39</td>\n",
       "      <td>52</td>\n",
       "      <td>43</td>\n",
       "      <td>60</td>\n",
       "      <td>50</td>\n",
       "      <td>65</td>\n",
       "      <td>1</td>\n",
       "      <td>False</td>\n",
       "    </tr>\n",
       "  </tbody>\n",
       "</table>\n",
       "</div>"
      ],
      "text/plain": [
       "                    Name Type 1  Type 2  Total  HP  Attack  Defense  Sp. Atk  \\\n",
       "#                                                                              \n",
       "1              Bulbasaur  Grass  Poison    318  45      49       49       65   \n",
       "2                Ivysaur  Grass  Poison    405  60      62       63       80   \n",
       "3               Venusaur  Grass  Poison    525  80      82       83      100   \n",
       "3  VenusaurMega Venusaur  Grass  Poison    625  80     100      123      122   \n",
       "4             Charmander   Fire     NaN    309  39      52       43       60   \n",
       "\n",
       "   Sp. Def  Speed  Generation  Legendary  \n",
       "#                                         \n",
       "1       65     45           1      False  \n",
       "2       80     60           1      False  \n",
       "3      100     80           1      False  \n",
       "3      120     80           1      False  \n",
       "4       50     65           1      False  "
      ]
     },
     "execution_count": 12,
     "metadata": {},
     "output_type": "execute_result"
    }
   ],
   "source": [
    "pokemon.head()"
   ]
  },
  {
   "cell_type": "markdown",
   "metadata": {},
   "source": [
    "1. The frequency of Pokemon by Type 1:"
   ]
  },
  {
   "cell_type": "code",
   "execution_count": null,
   "metadata": {},
   "outputs": [],
   "source": []
  },
  {
   "cell_type": "code",
   "execution_count": 13,
   "metadata": {},
   "outputs": [],
   "source": [
    "#matplotlib_ex1()"
   ]
  },
  {
   "cell_type": "markdown",
   "metadata": {},
   "source": [
    "2. The frequency of Pokemon by HP:"
   ]
  },
  {
   "cell_type": "code",
   "execution_count": null,
   "metadata": {},
   "outputs": [],
   "source": []
  },
  {
   "cell_type": "code",
   "execution_count": 14,
   "metadata": {},
   "outputs": [],
   "source": [
    "#matplotlib_ex2()"
   ]
  },
  {
   "cell_type": "markdown",
   "metadata": {},
   "source": [
    "3. The frequency of Pokemon by Attack:\n"
   ]
  },
  {
   "cell_type": "code",
   "execution_count": null,
   "metadata": {},
   "outputs": [],
   "source": []
  },
  {
   "cell_type": "code",
   "execution_count": 15,
   "metadata": {},
   "outputs": [],
   "source": [
    "#matplotlib_ex3()"
   ]
  },
  {
   "cell_type": "markdown",
   "metadata": {},
   "source": [
    "## bivariate"
   ]
  },
  {
   "cell_type": "code",
   "execution_count": 16,
   "metadata": {},
   "outputs": [
    {
     "data": {
      "image/png": "[encoded data removed]",
      "text/plain": [
       "<Figure size 432x288 with 1 Axes>"
      ]
     },
     "metadata": {
      "needs_background": "light"
     },
     "output_type": "display_data"
    }
   ],
   "source": [
    "data.plot.scatter(x='Lat', y='Lon');"
   ]
  },
  {
   "cell_type": "code",
   "execution_count": 17,
   "metadata": {},
   "outputs": [
    {
     "data": {
      "image/png": "[encoded data removed]",
      "text/plain": [
       "<Figure size 432x288 with 2 Axes>"
      ]
     },
     "metadata": {
      "needs_background": "light"
     },
     "output_type": "display_data"
    }
   ],
   "source": [
    "data.plot.hexbin(x='Lat', y='Lon', gridsize=15);"
   ]
  },
  {
   "cell_type": "code",
   "execution_count": 18,
   "metadata": {},
   "outputs": [
    {
     "data": {
      "image/png": "[encoded data removed]",
      "text/plain": [
       "<Figure size 1152x288 with 1 Axes>"
      ]
     },
     "metadata": {
      "needs_background": "light"
     },
     "output_type": "display_data"
    }
   ],
   "source": [
    "data.groupby(\"Groups\").mean()[[\"Power in MW\"]].plot.bar(stacked=True, figsize=(16,4));"
   ]
  },
  {
   "cell_type": "code",
   "execution_count": 19,
   "metadata": {},
   "outputs": [
    {
     "data": {
      "image/png": "[encoded data removed]",
      "text/plain": [
       "<Figure size 1152x288 with 1 Axes>"
      ]
     },
     "metadata": {
      "needs_background": "light"
     },
     "output_type": "display_data"
    }
   ],
   "source": [
    "data.groupby(\"Groups\").mean()[[\"Lat\",\"Lon\"]].plot.bar(stacked=True, figsize=(16,4));"
   ]
  },
  {
   "cell_type": "code",
   "execution_count": 20,
   "metadata": {},
   "outputs": [
    {
     "data": {
      "image/png": "[encoded data removed]",
      "text/plain": [
       "<Figure size 1152x288 with 1 Axes>"
      ]
     },
     "metadata": {
      "needs_background": "light"
     },
     "output_type": "display_data"
    }
   ],
   "source": [
    "data.plot.line(figsize=(16,4));"
   ]
  },
  {
   "cell_type": "markdown",
   "metadata": {},
   "source": [
    "## Style "
   ]
  },
  {
   "cell_type": "code",
   "execution_count": 21,
   "metadata": {},
   "outputs": [
    {
     "data": {
      "image/png": "[encoded data removed]",
      "text/plain": [
       "<Figure size 864x432 with 1 Axes>"
      ]
     },
     "metadata": {
      "needs_background": "light"
     },
     "output_type": "display_data"
    }
   ],
   "source": [
    "data['Groups'].value_counts().sort_index().plot.bar(figsize=(12, 6));"
   ]
  },
  {
   "cell_type": "code",
   "execution_count": 22,
   "metadata": {},
   "outputs": [
    {
     "data": {
      "image/png": "[encoded data removed]",
      "text/plain": [
       "<Figure size 864x432 with 1 Axes>"
      ]
     },
     "metadata": {
      "needs_background": "light"
     },
     "output_type": "display_data"
    }
   ],
   "source": [
    "data['Groups'].value_counts().sort_index().plot.bar(\n",
    "    figsize=(12, 6),\n",
    "    color='mediumvioletred'\n",
    ");"
   ]
  },
  {
   "cell_type": "code",
   "execution_count": 23,
   "metadata": {},
   "outputs": [
    {
     "data": {
      "image/png": "[encoded data removed]",
      "text/plain": [
       "<Figure size 864x432 with 1 Axes>"
      ]
     },
     "metadata": {
      "needs_background": "light"
     },
     "output_type": "display_data"
    }
   ],
   "source": [
    "data['Groups'].value_counts().sort_index().plot.bar(\n",
    "    figsize=(12, 6),\n",
    "    color='mediumvioletred',\n",
    "    fontsize=16\n",
    ");"
   ]
  },
  {
   "cell_type": "code",
   "execution_count": 24,
   "metadata": {},
   "outputs": [
    {
     "data": {
      "image/png": "[encoded data removed]",
      "text/plain": [
       "<Figure size 864x432 with 1 Axes>"
      ]
     },
     "metadata": {
      "needs_background": "light"
     },
     "output_type": "display_data"
    }
   ],
   "source": [
    "data['Groups'].value_counts().sort_index().plot.bar(\n",
    "    figsize=(12, 6),\n",
    "    color='mediumvioletred',\n",
    "    fontsize=16,\n",
    "    title='Rankings Given by Wine Magazine',\n",
    ");"
   ]
  },
  {
   "cell_type": "code",
   "execution_count": 25,
   "metadata": {},
   "outputs": [
    {
     "data": {
      "image/png": "[encoded data removed]",
      "text/plain": [
       "<Figure size 864x432 with 1 Axes>"
      ]
     },
     "metadata": {
      "needs_background": "light"
     },
     "output_type": "display_data"
    }
   ],
   "source": [
    "ax = data['Groups'].value_counts().sort_index().plot.bar(\n",
    "    figsize=(12, 6),\n",
    "    color='mediumvioletred',\n",
    "    fontsize=16\n",
    ")\n",
    "ax.set_title(\"Rankings Given by Wine Magazine\", fontsize=20);"
   ]
  },
  {
   "cell_type": "markdown",
   "metadata": {},
   "source": [
    "## seaborn\n",
    "\n",
    "Basically we can plot everything with matplitlib, not just histograms and bars. A good strategy is, when you want to plot something in matplotlib, go to https://matplotlib.org/gallery/index.html and adapt the code of a similar plot to your particular example. If the plot that you want to do is quite complicated, you can look for other tools such as `seaborn` or `plotly`.\n",
    "\n",
    "Before that, open a terminal, activate your virtual environment and type:\n",
    "```\n",
    "pip3 install seaborn\n",
    "```\n",
    "\n",
    "You can check their webpage for further details.\n",
    "https://seaborn.pydata.org/"
   ]
  },
  {
   "cell_type": "code",
   "execution_count": 26,
   "metadata": {},
   "outputs": [
    {
     "data": {
      "image/png": "[encoded data removed]",
      "text/plain": [
       "<Figure size 432x288 with 2 Axes>"
      ]
     },
     "metadata": {
      "needs_background": "light"
     },
     "output_type": "display_data"
    }
   ],
   "source": [
    "import seaborn as sns\n",
    "corrs = data[data.columns[~data.columns.isin([\"Name\"])]].corr()\n",
    "sns.heatmap(corrs)\n",
    "plt.show();"
   ]
  },
  {
   "cell_type": "code",
   "execution_count": 27,
   "metadata": {},
   "outputs": [
    {
     "data": {
      "image/png": "[encoded data removed]",
      "text/plain": [
       "<Figure size 540x540 with 12 Axes>"
      ]
     },
     "metadata": {
      "needs_background": "light"
     },
     "output_type": "display_data"
    }
   ],
   "source": [
    "sns.pairplot(data[[\"Power in MW\",\"Lat\",\"Lon\"]],kind=\"reg\")\n",
    "plt.show();"
   ]
  },
  {
   "cell_type": "markdown",
   "metadata": {},
   "source": [
    "## plotly\n",
    "\n",
    "There is another library called `plotly` which is slightly different because their plots are interactive, and you can plot basically whatever you want.\n",
    "\n",
    "https://plot.ly/python/\n",
    "\n",
    "Basically it outputs html code so if you export your jupyter-notebooks to `html` format, the plots will be interactive too in `html` format.\n",
    "\n",
    "You will also need to exectue \n",
    "```\n",
    "pip3 install plotly\n",
    "```\n",
    "from your virtual environment."
   ]
  },
  {
   "cell_type": "code",
   "execution_count": 28,
   "metadata": {},
   "outputs": [
    {
     "data": {
      "text/html": [
       "        <script type=\"text/javascript\">\n",
       "        window.PlotlyConfig = {MathJaxConfig: 'local'};\n",
       "        if (window.MathJax) {MathJax.Hub.Config({SVG: {font: \"STIX-Web\"}});}\n",
       "        if (typeof require !== 'undefined') {\n",
       "        require.undef(\"plotly\");\n",
       "        requirejs.config({\n",
       "            paths: {\n",
       "                'plotly': ['https://cdn.plot.ly/plotly-latest.min']\n",
       "            }\n",
       "        });\n",
       "        require(['plotly'], function(Plotly) {\n",
       "            window._Plotly = Plotly;\n",
       "        });\n",
       "        }\n",
       "        </script>\n",
       "        "
      ]
     },
     "metadata": {},
     "output_type": "display_data"
    }
   ],
   "source": [
    "import plotly.offline as py\n",
    "import plotly.figure_factory as ff\n",
    "\n",
    "py.init_notebook_mode(connected=True)"
   ]
  },
  {
   "cell_type": "code",
   "execution_count": 29,
   "metadata": {},
   "outputs": [],
   "source": [
    "fig = ff.create_facet_grid(\n",
    "    data,\n",
    "    x='Type',\n",
    "    y='Power in MW',\n",
    "    color_name='Owners',\n",
    "    show_boxes=False,\n",
    "    marker={'size': 5, 'opacity': 0.8},\n",
    ")"
   ]
  },
  {
   "cell_type": "code",
   "execution_count": 30,
   "metadata": {},
   "outputs": [
    {
     "data": {
      "application/vnd.plotly.v1+json": {
       "config": {
        "linkText": "Export to plot.ly",
        "plotlyServerURL": "https://plot.ly",
        "showLink": false
       },
       "data": [
        {
         "marker": {
          "color": "rgb(148, 103, 189)",
          "line": {
           "color": "darkgrey",
           "width": 1
          },
          "opacity": 0.8,
          "size": 5
         },
         "mode": "markers",
         "name": "Alpiq",
         "type": "scatter",
         "x": [
          "c. combinado"
         ],
         "xaxis": "x",
         "y": [
          800
         ],
         "yaxis": "y"
        },
        {
         "marker": {
          "color": "rgb(255, 127, 14)",
          "line": {
           "color": "darkgrey",
           "width": 1
          },
          "opacity": 0.8,
          "size": 5
         },
         "mode": "markers",
         "name": "CEPSA",
         "type": "scatter",
         "x": [
          "convencional"
         ],
         "xaxis": "x",
         "y": [
          38
         ],
         "yaxis": "y"
        },
        {
         "marker": {
          "color": "rgb(188, 189, 34)",
          "line": {
           "color": "darkgrey",
           "width": 1
          },
          "opacity": 0.8,
          "size": 5
         },
         "mode": "markers",
         "name": "ContourGlobal",
         "type": "scatter",
         "x": [
          "c. combinado"
         ],
         "xaxis": "x",
         "y": [
          800
         ],
         "yaxis": "y"
        },
        {
         "marker": {
          "color": "rgb(127, 127, 127)",
          "line": {
           "color": "darkgrey",
           "width": 1
          },
          "opacity": 0.8,
          "size": 5
         },
         "mode": "markers",
         "name": "ESB Co. / Osaka Gas",
         "type": "scatter",
         "x": [
          "c. combinado"
         ],
         "xaxis": "x",
         "y": [
          755
         ],
         "yaxis": "y"
        },
        {
         "marker": {
          "color": "rgb(227, 119, 194)",
          "line": {
           "color": "darkgrey",
           "width": 1
          },
          "opacity": 0.8,
          "size": 5
         },
         "mode": "markers",
         "name": "EVE / BP",
         "type": "scatter",
         "x": [
          "c. combinado"
         ],
         "xaxis": "x",
         "y": [
          795
         ],
         "yaxis": "y"
        },
        {
         "marker": {
          "color": "rgb(31, 119, 180)",
          "line": {
           "color": "darkgrey",
           "width": 1
          },
          "opacity": 0.8,
          "size": 5
         },
         "mode": "markers",
         "name": "Endesa",
         "type": "scatter",
         "x": [
          "convencional",
          "c. combinado",
          "convencional",
          "convencional",
          "c. combinado",
          "c. combinado",
          "convencional",
          "convencional",
          "mixta",
          "convencional",
          "convencional",
          "convencional",
          "convencional",
          "mixta",
          "convencional",
          "convencional",
          "convencional",
          "convencional",
          "convencional",
          "c. combinado",
          "convencional",
          "mixta",
          "convencional"
         ],
         "xaxis": "x",
         "y": [
          1159,
          400,
          1101,
          585,
          477,
          611,
          270,
          292,
          697,
          335,
          186,
          212,
          288,
          800,
          73,
          9,
          14,
          48.6,
          1199,
          873,
          100,
          2318,
          84
         ],
         "yaxis": "y"
        },
        {
         "marker": {
          "color": "rgb(148, 103, 189)",
          "line": {
           "color": "darkgrey",
           "width": 1
          },
          "opacity": 0.8,
          "size": 5
         },
         "mode": "markers",
         "name": "Endesa / Naturgy",
         "type": "scatter",
         "x": [
          "c. combinado"
         ],
         "xaxis": "x",
         "y": [
          800
         ],
         "yaxis": "y"
        },
        {
         "marker": {
          "color": "rgb(127, 127, 127)",
          "line": {
           "color": "darkgrey",
           "width": 1
          },
          "opacity": 0.8,
          "size": 5
         },
         "mode": "markers",
         "name": "Engie",
         "type": "scatter",
         "x": [
          "c. combinado"
         ],
         "xaxis": "x",
         "y": [
          790
         ],
         "yaxis": "y"
        },
        {
         "marker": {
          "color": "rgb(140, 86, 75)",
          "line": {
           "color": "darkgrey",
           "width": 1
          },
          "opacity": 0.8,
          "size": 5
         },
         "mode": "markers",
         "name": "Engie / AES",
         "type": "scatter",
         "x": [
          "c. combinado"
         ],
         "xaxis": "x",
         "y": [
          1200
         ],
         "yaxis": "y"
        },
        {
         "marker": {
          "color": "rgb(188, 189, 34)",
          "line": {
           "color": "darkgrey",
           "width": 1
          },
          "opacity": 0.8,
          "size": 5
         },
         "mode": "markers",
         "name": "Global 3 Energía",
         "type": "scatter",
         "x": [
          "c. combinado"
         ],
         "xaxis": "x",
         "y": [
          285
         ],
         "yaxis": "y"
        },
        {
         "marker": {
          "color": "rgb(23, 190, 207)",
          "line": {
           "color": "darkgrey",
           "width": 1
          },
          "opacity": 0.8,
          "size": 5
         },
         "mode": "markers",
         "name": "HC Energía",
         "type": "scatter",
         "x": [
          "convencional",
          "mixta",
          "c. combinado"
         ],
         "xaxis": "x",
         "y": [
          921,
          1481,
          842
         ],
         "yaxis": "y"
        },
        {
         "marker": {
          "color": "rgb(31, 119, 180)",
          "line": {
           "color": "darkgrey",
           "width": 1
          },
          "opacity": 0.8,
          "size": 5
         },
         "mode": "markers",
         "name": "Hunosa",
         "type": "scatter",
         "x": [
          "lecho fluido"
         ],
         "xaxis": "x",
         "y": [
          50
         ],
         "yaxis": "y"
        },
        {
         "marker": {
          "color": "rgb(255, 127, 14)",
          "line": {
           "color": "darkgrey",
           "width": 1
          },
          "opacity": 0.8,
          "size": 5
         },
         "mode": "markers",
         "name": "Iberdrola",
         "type": "scatter",
         "x": [
          "c. combinado",
          "convencional",
          "convencional",
          "c. combinado",
          "c. combinado",
          "c. combinado",
          "c. combinado",
          "c. combinado"
         ],
         "xaxis": "x",
         "y": [
          1613,
          515,
          515,
          424,
          831,
          386,
          402,
          1650
         ],
         "yaxis": "y"
        },
        {
         "marker": {
          "color": "rgb(44, 160, 44)",
          "line": {
           "color": "darkgrey",
           "width": 1
          },
          "opacity": 0.8,
          "size": 5
         },
         "mode": "markers",
         "name": "Iberdrola / Naturgy",
         "type": "scatter",
         "x": [
          "mixta"
         ],
         "xaxis": "x",
         "y": [
          1430
         ],
         "yaxis": "y"
        },
        {
         "marker": {
          "color": "rgb(227, 119, 194)",
          "line": {
           "color": "darkgrey",
           "width": 1
          },
          "opacity": 0.8,
          "size": 5
         },
         "mode": "markers",
         "name": "Naturgy",
         "type": "scatter",
         "x": [
          "c. combinado",
          "c. combinado",
          "convencional",
          "convencional",
          "c. combinado",
          "convencional",
          "c. combinado",
          "c. combinado",
          "c. combinado"
         ],
         "xaxis": "x",
         "y": [
          1200,
          400,
          586,
          655,
          850,
          563,
          400,
          1200,
          1200
         ],
         "yaxis": "y"
        },
        {
         "marker": {
          "color": "rgb(214, 39, 40)",
          "line": {
           "color": "darkgrey",
           "width": 1
          },
          "opacity": 0.8,
          "size": 5
         },
         "mode": "markers",
         "name": "Naturgy / CEPSA",
         "type": "scatter",
         "x": [
          "c. combinado"
         ],
         "xaxis": "x",
         "y": [
          789
         ],
         "yaxis": "y"
        },
        {
         "marker": {
          "color": "rgb(214, 39, 40)",
          "line": {
           "color": "darkgrey",
           "width": 1
          },
          "opacity": 0.8,
          "size": 5
         },
         "mode": "markers",
         "name": "Naturgy / Endesa",
         "type": "scatter",
         "x": [
          "c. combinado"
         ],
         "xaxis": "x",
         "y": [
          800
         ],
         "yaxis": "y"
        },
        {
         "marker": {
          "color": "rgb(44, 160, 44)",
          "line": {
           "color": "darkgrey",
           "width": 1
          },
          "opacity": 0.8,
          "size": 5
         },
         "mode": "markers",
         "name": "Repsol",
         "type": "scatter",
         "x": [
          "c. combinado",
          "c. combinado"
         ],
         "xaxis": "x",
         "y": [
          800,
          804
         ],
         "yaxis": "y"
        },
        {
         "marker": {
          "color": "rgb(140, 86, 75)",
          "line": {
           "color": "darkgrey",
           "width": 1
          },
          "opacity": 0.8,
          "size": 5
         },
         "mode": "markers",
         "name": "Viesgo",
         "type": "scatter",
         "x": [
          "convencional",
          "convencional",
          "c. combinado"
         ],
         "xaxis": "x",
         "y": [
          567,
          324,
          410
         ],
         "yaxis": "y"
        }
       ],
       "layout": {
        "annotations": [
         {
          "font": {
           "color": "#000000",
           "size": 12
          },
          "showarrow": false,
          "text": "Type",
          "textangle": 0,
          "x": 0.5,
          "xanchor": "center",
          "xref": "paper",
          "y": -0.1,
          "yanchor": "middle",
          "yref": "paper"
         },
         {
          "font": {
           "color": "#000000",
           "size": 12
          },
          "showarrow": false,
          "text": "Power in MW",
          "textangle": -90,
          "x": -0.1,
          "xanchor": "center",
          "xref": "paper",
          "y": 0.5,
          "yanchor": "middle",
          "yref": "paper"
         }
        ],
        "height": 600,
        "legend": {
         "bgcolor": "#efefef",
         "borderwidth": 1,
         "x": 1.05,
         "y": 1,
         "yanchor": "top"
        },
        "paper_bgcolor": "rgb(251, 251, 251)",
        "showlegend": true,
        "template": {
         "data": {
          "bar": [
           {
            "error_x": {
             "color": "#2a3f5f"
            },
            "error_y": {
             "color": "#2a3f5f"
            },
            "marker": {
             "line": {
              "color": "#E5ECF6",
              "width": 0.5
             }
            },
            "type": "bar"
           }
          ],
          "barpolar": [
           {
            "marker": {
             "line": {
              "color": "#E5ECF6",
              "width": 0.5
             }
            },
            "type": "barpolar"
           }
          ],
          "carpet": [
           {
            "aaxis": {
             "endlinecolor": "#2a3f5f",
             "gridcolor": "white",
             "linecolor": "white",
             "minorgridcolor": "white",
             "startlinecolor": "#2a3f5f"
            },
            "baxis": {
             "endlinecolor": "#2a3f5f",
             "gridcolor": "white",
             "linecolor": "white",
             "minorgridcolor": "white",
             "startlinecolor": "#2a3f5f"
            },
            "type": "carpet"
           }
          ],
          "choropleth": [
           {
            "colorbar": {
             "outlinewidth": 0,
             "ticks": ""
            },
            "type": "choropleth"
           }
          ],
          "contour": [
           {
            "colorbar": {
             "outlinewidth": 0,
             "ticks": ""
            },
            "colorscale": [
             [
              0,
              "#0d0887"
             ],
             [
              0.1111111111111111,
              "#46039f"
             ],
             [
              0.2222222222222222,
              "#7201a8"
             ],
             [
              0.3333333333333333,
              "#9c179e"
             ],
             [
              0.4444444444444444,
              "#bd3786"
             ],
             [
              0.5555555555555556,
              "#d8576b"
             ],
             [
              0.6666666666666666,
              "#ed7953"
             ],
             [
              0.7777777777777778,
              "#fb9f3a"
             ],
             [
              0.8888888888888888,
              "#fdca26"
             ],
             [
              1,
              "#f0f921"
             ]
            ],
            "type": "contour"
           }
          ],
          "contourcarpet": [
           {
            "colorbar": {
             "outlinewidth": 0,
             "ticks": ""
            },
            "type": "contourcarpet"
           }
          ],
          "heatmap": [
           {
            "colorbar": {
             "outlinewidth": 0,
             "ticks": ""
            },
            "colorscale": [
             [
              0,
              "#0d0887"
             ],
             [
              0.1111111111111111,
              "#46039f"
             ],
             [
              0.2222222222222222,
              "#7201a8"
             ],
             [
              0.3333333333333333,
              "#9c179e"
             ],
             [
              0.4444444444444444,
              "#bd3786"
             ],
             [
              0.5555555555555556,
              "#d8576b"
             ],
             [
              0.6666666666666666,
              "#ed7953"
             ],
             [
              0.7777777777777778,
              "#fb9f3a"
             ],
             [
              0.8888888888888888,
              "#fdca26"
             ],
             [
              1,
              "#f0f921"
             ]
            ],
            "type": "heatmap"
           }
          ],
          "heatmapgl": [
           {
            "colorbar": {
             "outlinewidth": 0,
             "ticks": ""
            },
            "colorscale": [
             [
              0,
              "#0d0887"
             ],
             [
              0.1111111111111111,
              "#46039f"
             ],
             [
              0.2222222222222222,
              "#7201a8"
             ],
             [
              0.3333333333333333,
              "#9c179e"
             ],
             [
              0.4444444444444444,
              "#bd3786"
             ],
             [
              0.5555555555555556,
              "#d8576b"
             ],
             [
              0.6666666666666666,
              "#ed7953"
             ],
             [
              0.7777777777777778,
              "#fb9f3a"
             ],
             [
              0.8888888888888888,
              "#fdca26"
             ],
             [
              1,
              "#f0f921"
             ]
            ],
            "type": "heatmapgl"
           }
          ],
          "histogram": [
           {
            "marker": {
             "colorbar": {
              "outlinewidth": 0,
              "ticks": ""
             }
            },
            "type": "histogram"
           }
          ],
          "histogram2d": [
           {
            "colorbar": {
             "outlinewidth": 0,
             "ticks": ""
            },
            "colorscale": [
             [
              0,
              "#0d0887"
             ],
             [
              0.1111111111111111,
              "#46039f"
             ],
             [
              0.2222222222222222,
              "#7201a8"
             ],
             [
              0.3333333333333333,
              "#9c179e"
             ],
             [
              0.4444444444444444,
              "#bd3786"
             ],
             [
              0.5555555555555556,
              "#d8576b"
             ],
             [
              0.6666666666666666,
              "#ed7953"
             ],
             [
              0.7777777777777778,
              "#fb9f3a"
             ],
             [
              0.8888888888888888,
              "#fdca26"
             ],
             [
              1,
              "#f0f921"
             ]
            ],
            "type": "histogram2d"
           }
          ],
          "histogram2dcontour": [
           {
            "colorbar": {
             "outlinewidth": 0,
             "ticks": ""
            },
            "colorscale": [
             [
              0,
              "#0d0887"
             ],
             [
              0.1111111111111111,
              "#46039f"
             ],
             [
              0.2222222222222222,
              "#7201a8"
             ],
             [
              0.3333333333333333,
              "#9c179e"
             ],
             [
              0.4444444444444444,
              "#bd3786"
             ],
             [
              0.5555555555555556,
              "#d8576b"
             ],
             [
              0.6666666666666666,
              "#ed7953"
             ],
             [
              0.7777777777777778,
              "#fb9f3a"
             ],
             [
              0.8888888888888888,
              "#fdca26"
             ],
             [
              1,
              "#f0f921"
             ]
            ],
            "type": "histogram2dcontour"
           }
          ],
          "mesh3d": [
           {
            "colorbar": {
             "outlinewidth": 0,
             "ticks": ""
            },
            "type": "mesh3d"
           }
          ],
          "parcoords": [
           {
            "line": {
             "colorbar": {
              "outlinewidth": 0,
              "ticks": ""
             }
            },
            "type": "parcoords"
           }
          ],
          "scatter": [
           {
            "marker": {
             "colorbar": {
              "outlinewidth": 0,
              "ticks": ""
             }
            },
            "type": "scatter"
           }
          ],
          "scatter3d": [
           {
            "line": {
             "colorbar": {
              "outlinewidth": 0,
              "ticks": ""
             }
            },
            "marker": {
             "colorbar": {
              "outlinewidth": 0,
              "ticks": ""
             }
            },
            "type": "scatter3d"
           }
          ],
          "scattercarpet": [
           {
            "marker": {
             "colorbar": {
              "outlinewidth": 0,
              "ticks": ""
             }
            },
            "type": "scattercarpet"
           }
          ],
          "scattergeo": [
           {
            "marker": {
             "colorbar": {
              "outlinewidth": 0,
              "ticks": ""
             }
            },
            "type": "scattergeo"
           }
          ],
          "scattergl": [
           {
            "marker": {
             "colorbar": {
              "outlinewidth": 0,
              "ticks": ""
             }
            },
            "type": "scattergl"
           }
          ],
          "scattermapbox": [
           {
            "marker": {
             "colorbar": {
              "outlinewidth": 0,
              "ticks": ""
             }
            },
            "type": "scattermapbox"
           }
          ],
          "scatterpolar": [
           {
            "marker": {
             "colorbar": {
              "outlinewidth": 0,
              "ticks": ""
             }
            },
            "type": "scatterpolar"
           }
          ],
          "scatterpolargl": [
           {
            "marker": {
             "colorbar": {
              "outlinewidth": 0,
              "ticks": ""
             }
            },
            "type": "scatterpolargl"
           }
          ],
          "scatterternary": [
           {
            "marker": {
             "colorbar": {
              "outlinewidth": 0,
              "ticks": ""
             }
            },
            "type": "scatterternary"
           }
          ],
          "surface": [
           {
            "colorbar": {
             "outlinewidth": 0,
             "ticks": ""
            },
            "colorscale": [
             [
              0,
              "#0d0887"
             ],
             [
              0.1111111111111111,
              "#46039f"
             ],
             [
              0.2222222222222222,
              "#7201a8"
             ],
             [
              0.3333333333333333,
              "#9c179e"
             ],
             [
              0.4444444444444444,
              "#bd3786"
             ],
             [
              0.5555555555555556,
              "#d8576b"
             ],
             [
              0.6666666666666666,
              "#ed7953"
             ],
             [
              0.7777777777777778,
              "#fb9f3a"
             ],
             [
              0.8888888888888888,
              "#fdca26"
             ],
             [
              1,
              "#f0f921"
             ]
            ],
            "type": "surface"
           }
          ],
          "table": [
           {
            "cells": {
             "fill": {
              "color": "#EBF0F8"
             },
             "line": {
              "color": "white"
             }
            },
            "header": {
             "fill": {
              "color": "#C8D4E3"
             },
             "line": {
              "color": "white"
             }
            },
            "type": "table"
           }
          ]
         },
         "layout": {
          "annotationdefaults": {
           "arrowcolor": "#2a3f5f",
           "arrowhead": 0,
           "arrowwidth": 1
          },
          "colorscale": {
           "diverging": [
            [
             0,
             "#8e0152"
            ],
            [
             0.1,
             "#c51b7d"
            ],
            [
             0.2,
             "#de77ae"
            ],
            [
             0.3,
             "#f1b6da"
            ],
            [
             0.4,
             "#fde0ef"
            ],
            [
             0.5,
             "#f7f7f7"
            ],
            [
             0.6,
             "#e6f5d0"
            ],
            [
             0.7,
             "#b8e186"
            ],
            [
             0.8,
             "#7fbc41"
            ],
            [
             0.9,
             "#4d9221"
            ],
            [
             1,
             "#276419"
            ]
           ],
           "sequential": [
            [
             0,
             "#0d0887"
            ],
            [
             0.1111111111111111,
             "#46039f"
            ],
            [
             0.2222222222222222,
             "#7201a8"
            ],
            [
             0.3333333333333333,
             "#9c179e"
            ],
            [
             0.4444444444444444,
             "#bd3786"
            ],
            [
             0.5555555555555556,
             "#d8576b"
            ],
            [
             0.6666666666666666,
             "#ed7953"
            ],
            [
             0.7777777777777778,
             "#fb9f3a"
            ],
            [
             0.8888888888888888,
             "#fdca26"
            ],
            [
             1,
             "#f0f921"
            ]
           ],
           "sequentialminus": [
            [
             0,
             "#0d0887"
            ],
            [
             0.1111111111111111,
             "#46039f"
            ],
            [
             0.2222222222222222,
             "#7201a8"
            ],
            [
             0.3333333333333333,
             "#9c179e"
            ],
            [
             0.4444444444444444,
             "#bd3786"
            ],
            [
             0.5555555555555556,
             "#d8576b"
            ],
            [
             0.6666666666666666,
             "#ed7953"
            ],
            [
             0.7777777777777778,
             "#fb9f3a"
            ],
            [
             0.8888888888888888,
             "#fdca26"
            ],
            [
             1,
             "#f0f921"
            ]
           ]
          },
          "colorway": [
           "#636efa",
           "#EF553B",
           "#00cc96",
           "#ab63fa",
           "#FFA15A",
           "#19d3f3",
           "#FF6692",
           "#B6E880",
           "#FF97FF",
           "#FECB52"
          ],
          "font": {
           "color": "#2a3f5f"
          },
          "geo": {
           "bgcolor": "white",
           "lakecolor": "white",
           "landcolor": "#E5ECF6",
           "showlakes": true,
           "showland": true,
           "subunitcolor": "white"
          },
          "hoverlabel": {
           "align": "left"
          },
          "hovermode": "closest",
          "mapbox": {
           "style": "light"
          },
          "paper_bgcolor": "white",
          "plot_bgcolor": "#E5ECF6",
          "polar": {
           "angularaxis": {
            "gridcolor": "white",
            "linecolor": "white",
            "ticks": ""
           },
           "bgcolor": "#E5ECF6",
           "radialaxis": {
            "gridcolor": "white",
            "linecolor": "white",
            "ticks": ""
           }
          },
          "scene": {
           "xaxis": {
            "backgroundcolor": "#E5ECF6",
            "gridcolor": "white",
            "gridwidth": 2,
            "linecolor": "white",
            "showbackground": true,
            "ticks": "",
            "zerolinecolor": "white"
           },
           "yaxis": {
            "backgroundcolor": "#E5ECF6",
            "gridcolor": "white",
            "gridwidth": 2,
            "linecolor": "white",
            "showbackground": true,
            "ticks": "",
            "zerolinecolor": "white"
           },
           "zaxis": {
            "backgroundcolor": "#E5ECF6",
            "gridcolor": "white",
            "gridwidth": 2,
            "linecolor": "white",
            "showbackground": true,
            "ticks": "",
            "zerolinecolor": "white"
           }
          },
          "shapedefaults": {
           "line": {
            "color": "#2a3f5f"
           }
          },
          "ternary": {
           "aaxis": {
            "gridcolor": "white",
            "linecolor": "white",
            "ticks": ""
           },
           "baxis": {
            "gridcolor": "white",
            "linecolor": "white",
            "ticks": ""
           },
           "bgcolor": "#E5ECF6",
           "caxis": {
            "gridcolor": "white",
            "linecolor": "white",
            "ticks": ""
           }
          },
          "title": {
           "x": 0.05
          },
          "xaxis": {
           "automargin": true,
           "gridcolor": "white",
           "linecolor": "white",
           "ticks": "",
           "zerolinecolor": "white",
           "zerolinewidth": 2
          },
          "yaxis": {
           "automargin": true,
           "gridcolor": "white",
           "linecolor": "white",
           "ticks": "",
           "zerolinecolor": "white",
           "zerolinewidth": 2
          }
         }
        },
        "title": {
         "text": ""
        },
        "width": 600,
        "xaxis": {
         "anchor": "y",
         "domain": [
          0,
          1
         ],
         "dtick": 1,
         "ticklen": 0,
         "zeroline": false
        },
        "yaxis": {
         "anchor": "x",
         "domain": [
          0,
          1
         ],
         "dtick": 509,
         "range": [
          -106.45,
          2439.2225
         ],
         "ticklen": 0,
         "zeroline": false
        }
       }
      },
      "text/html": [
       "<div>\n",
       "        \n",
       "        \n",
       "            <div id=\"a332d74c-8851-4528-bb12-e807d00d2f50\" class=\"plotly-graph-div\" style=\"height:600px; width:600px;\"></div>\n",
       "            <script type=\"text/javascript\">\n",
       "                require([\"plotly\"], function(Plotly) {\n",
       "                    window.PLOTLYENV=window.PLOTLYENV || {};\n",
       "                    \n",
       "                if (document.getElementById(\"a332d74c-8851-4528-bb12-e807d00d2f50\")) {\n",
       "                    Plotly.newPlot(\n",
       "                        'a332d74c-8851-4528-bb12-e807d00d2f50',\n",
       "                        [{\"marker\": {\"color\": \"rgb(148, 103, 189)\", \"line\": {\"color\": \"darkgrey\", \"width\": 1}, \"opacity\": 0.8, \"size\": 5}, \"mode\": \"markers\", \"name\": \"Alpiq\", \"type\": \"scatter\", \"x\": [\"c. combinado\"], \"xaxis\": \"x\", \"y\": [800.0], \"yaxis\": \"y\"}, {\"marker\": {\"color\": \"rgb(255, 127, 14)\", \"line\": {\"color\": \"darkgrey\", \"width\": 1}, \"opacity\": 0.8, \"size\": 5}, \"mode\": \"markers\", \"name\": \"CEPSA\", \"type\": \"scatter\", \"x\": [\"convencional\"], \"xaxis\": \"x\", \"y\": [38.0], \"yaxis\": \"y\"}, {\"marker\": {\"color\": \"rgb(188, 189, 34)\", \"line\": {\"color\": \"darkgrey\", \"width\": 1}, \"opacity\": 0.8, \"size\": 5}, \"mode\": \"markers\", \"name\": \"ContourGlobal\", \"type\": \"scatter\", \"x\": [\"c. combinado\"], \"xaxis\": \"x\", \"y\": [800.0], \"yaxis\": \"y\"}, {\"marker\": {\"color\": \"rgb(127, 127, 127)\", \"line\": {\"color\": \"darkgrey\", \"width\": 1}, \"opacity\": 0.8, \"size\": 5}, \"mode\": \"markers\", \"name\": \"ESB Co. / Osaka Gas\", \"type\": \"scatter\", \"x\": [\"c. combinado\"], \"xaxis\": \"x\", \"y\": [755.0], \"yaxis\": \"y\"}, {\"marker\": {\"color\": \"rgb(227, 119, 194)\", \"line\": {\"color\": \"darkgrey\", \"width\": 1}, \"opacity\": 0.8, \"size\": 5}, \"mode\": \"markers\", \"name\": \"EVE / BP\", \"type\": \"scatter\", \"x\": [\"c. combinado\"], \"xaxis\": \"x\", \"y\": [795.0], \"yaxis\": \"y\"}, {\"marker\": {\"color\": \"rgb(31, 119, 180)\", \"line\": {\"color\": \"darkgrey\", \"width\": 1}, \"opacity\": 0.8, \"size\": 5}, \"mode\": \"markers\", \"name\": \"Endesa\", \"type\": \"scatter\", \"x\": [\"convencional\", \"c. combinado\", \"convencional\", \"convencional\", \"c. combinado\", \"c. combinado\", \"convencional\", \"convencional\", \"mixta\", \"convencional\", \"convencional\", \"convencional\", \"convencional\", \"mixta\", \"convencional\", \"convencional\", \"convencional\", \"convencional\", \"convencional\", \"c. combinado\", \"convencional\", \"mixta\", \"convencional\"], \"xaxis\": \"x\", \"y\": [1159.0, 400.0, 1101.0, 585.0, 477.0, 611.0, 270.0, 292.0, 697.0, 335.0, 186.0, 212.0, 288.0, 800.0, 73.0, 9.0, 14.0, 48.6, 1199.0, 873.0, 100.0, 2318.0, 84.0], \"yaxis\": \"y\"}, {\"marker\": {\"color\": \"rgb(148, 103, 189)\", \"line\": {\"color\": \"darkgrey\", \"width\": 1}, \"opacity\": 0.8, \"size\": 5}, \"mode\": \"markers\", \"name\": \"Endesa / Naturgy\", \"type\": \"scatter\", \"x\": [\"c. combinado\"], \"xaxis\": \"x\", \"y\": [800.0], \"yaxis\": \"y\"}, {\"marker\": {\"color\": \"rgb(127, 127, 127)\", \"line\": {\"color\": \"darkgrey\", \"width\": 1}, \"opacity\": 0.8, \"size\": 5}, \"mode\": \"markers\", \"name\": \"Engie\", \"type\": \"scatter\", \"x\": [\"c. combinado\"], \"xaxis\": \"x\", \"y\": [790.0], \"yaxis\": \"y\"}, {\"marker\": {\"color\": \"rgb(140, 86, 75)\", \"line\": {\"color\": \"darkgrey\", \"width\": 1}, \"opacity\": 0.8, \"size\": 5}, \"mode\": \"markers\", \"name\": \"Engie / AES\", \"type\": \"scatter\", \"x\": [\"c. combinado\"], \"xaxis\": \"x\", \"y\": [1200.0], \"yaxis\": \"y\"}, {\"marker\": {\"color\": \"rgb(188, 189, 34)\", \"line\": {\"color\": \"darkgrey\", \"width\": 1}, \"opacity\": 0.8, \"size\": 5}, \"mode\": \"markers\", \"name\": \"Global 3 Energ\\u00eda\", \"type\": \"scatter\", \"x\": [\"c. combinado\"], \"xaxis\": \"x\", \"y\": [285.0], \"yaxis\": \"y\"}, {\"marker\": {\"color\": \"rgb(23, 190, 207)\", \"line\": {\"color\": \"darkgrey\", \"width\": 1}, \"opacity\": 0.8, \"size\": 5}, \"mode\": \"markers\", \"name\": \"HC Energ\\u00eda\", \"type\": \"scatter\", \"x\": [\"convencional\", \"mixta\", \"c. combinado\"], \"xaxis\": \"x\", \"y\": [921.0, 1481.0, 842.0], \"yaxis\": \"y\"}, {\"marker\": {\"color\": \"rgb(31, 119, 180)\", \"line\": {\"color\": \"darkgrey\", \"width\": 1}, \"opacity\": 0.8, \"size\": 5}, \"mode\": \"markers\", \"name\": \"Hunosa\", \"type\": \"scatter\", \"x\": [\"lecho fluido\"], \"xaxis\": \"x\", \"y\": [50.0], \"yaxis\": \"y\"}, {\"marker\": {\"color\": \"rgb(255, 127, 14)\", \"line\": {\"color\": \"darkgrey\", \"width\": 1}, \"opacity\": 0.8, \"size\": 5}, \"mode\": \"markers\", \"name\": \"Iberdrola\", \"type\": \"scatter\", \"x\": [\"c. combinado\", \"convencional\", \"convencional\", \"c. combinado\", \"c. combinado\", \"c. combinado\", \"c. combinado\", \"c. combinado\"], \"xaxis\": \"x\", \"y\": [1613.0, 515.0, 515.0, 424.0, 831.0, 386.0, 402.0, 1650.0], \"yaxis\": \"y\"}, {\"marker\": {\"color\": \"rgb(44, 160, 44)\", \"line\": {\"color\": \"darkgrey\", \"width\": 1}, \"opacity\": 0.8, \"size\": 5}, \"mode\": \"markers\", \"name\": \"Iberdrola / Naturgy\", \"type\": \"scatter\", \"x\": [\"mixta\"], \"xaxis\": \"x\", \"y\": [1430.0], \"yaxis\": \"y\"}, {\"marker\": {\"color\": \"rgb(227, 119, 194)\", \"line\": {\"color\": \"darkgrey\", \"width\": 1}, \"opacity\": 0.8, \"size\": 5}, \"mode\": \"markers\", \"name\": \"Naturgy\", \"type\": \"scatter\", \"x\": [\"c. combinado\", \"c. combinado\", \"convencional\", \"convencional\", \"c. combinado\", \"convencional\", \"c. combinado\", \"c. combinado\", \"c. combinado\"], \"xaxis\": \"x\", \"y\": [1200.0, 400.0, 586.0, 655.0, 850.0, 563.0, 400.0, 1200.0, 1200.0], \"yaxis\": \"y\"}, {\"marker\": {\"color\": \"rgb(214, 39, 40)\", \"line\": {\"color\": \"darkgrey\", \"width\": 1}, \"opacity\": 0.8, \"size\": 5}, \"mode\": \"markers\", \"name\": \"Naturgy / CEPSA\", \"type\": \"scatter\", \"x\": [\"c. combinado\"], \"xaxis\": \"x\", \"y\": [789.0], \"yaxis\": \"y\"}, {\"marker\": {\"color\": \"rgb(214, 39, 40)\", \"line\": {\"color\": \"darkgrey\", \"width\": 1}, \"opacity\": 0.8, \"size\": 5}, \"mode\": \"markers\", \"name\": \"Naturgy / Endesa\", \"type\": \"scatter\", \"x\": [\"c. combinado\"], \"xaxis\": \"x\", \"y\": [800.0], \"yaxis\": \"y\"}, {\"marker\": {\"color\": \"rgb(44, 160, 44)\", \"line\": {\"color\": \"darkgrey\", \"width\": 1}, \"opacity\": 0.8, \"size\": 5}, \"mode\": \"markers\", \"name\": \"Repsol\", \"type\": \"scatter\", \"x\": [\"c. combinado\", \"c. combinado\"], \"xaxis\": \"x\", \"y\": [800.0, 804.0], \"yaxis\": \"y\"}, {\"marker\": {\"color\": \"rgb(140, 86, 75)\", \"line\": {\"color\": \"darkgrey\", \"width\": 1}, \"opacity\": 0.8, \"size\": 5}, \"mode\": \"markers\", \"name\": \"Viesgo\", \"type\": \"scatter\", \"x\": [\"convencional\", \"convencional\", \"c. combinado\"], \"xaxis\": \"x\", \"y\": [567.0, 324.0, 410.0], \"yaxis\": \"y\"}],\n",
       "                        {\"annotations\": [{\"font\": {\"color\": \"#000000\", \"size\": 12}, \"showarrow\": false, \"text\": \"Type\", \"textangle\": 0, \"x\": 0.5, \"xanchor\": \"center\", \"xref\": \"paper\", \"y\": -0.1, \"yanchor\": \"middle\", \"yref\": \"paper\"}, {\"font\": {\"color\": \"#000000\", \"size\": 12}, \"showarrow\": false, \"text\": \"Power in MW\", \"textangle\": -90, \"x\": -0.1, \"xanchor\": \"center\", \"xref\": \"paper\", \"y\": 0.5, \"yanchor\": \"middle\", \"yref\": \"paper\"}], \"height\": 600, \"legend\": {\"bgcolor\": \"#efefef\", \"borderwidth\": 1, \"x\": 1.05, \"y\": 1, \"yanchor\": \"top\"}, \"paper_bgcolor\": \"rgb(251, 251, 251)\", \"showlegend\": true, \"template\": {\"data\": {\"bar\": [{\"error_x\": {\"color\": \"#2a3f5f\"}, \"error_y\": {\"color\": \"#2a3f5f\"}, \"marker\": {\"line\": {\"color\": \"#E5ECF6\", \"width\": 0.5}}, \"type\": \"bar\"}], \"barpolar\": [{\"marker\": {\"line\": {\"color\": \"#E5ECF6\", \"width\": 0.5}}, \"type\": \"barpolar\"}], \"carpet\": [{\"aaxis\": {\"endlinecolor\": \"#2a3f5f\", \"gridcolor\": \"white\", \"linecolor\": \"white\", \"minorgridcolor\": \"white\", \"startlinecolor\": \"#2a3f5f\"}, \"baxis\": {\"endlinecolor\": \"#2a3f5f\", \"gridcolor\": \"white\", \"linecolor\": \"white\", \"minorgridcolor\": \"white\", \"startlinecolor\": \"#2a3f5f\"}, \"type\": \"carpet\"}], \"choropleth\": [{\"colorbar\": {\"outlinewidth\": 0, \"ticks\": \"\"}, \"type\": \"choropleth\"}], \"contour\": [{\"colorbar\": {\"outlinewidth\": 0, \"ticks\": \"\"}, \"colorscale\": [[0.0, \"#0d0887\"], [0.1111111111111111, \"#46039f\"], [0.2222222222222222, \"#7201a8\"], [0.3333333333333333, \"#9c179e\"], [0.4444444444444444, \"#bd3786\"], [0.5555555555555556, \"#d8576b\"], [0.6666666666666666, \"#ed7953\"], [0.7777777777777778, \"#fb9f3a\"], [0.8888888888888888, \"#fdca26\"], [1.0, \"#f0f921\"]], \"type\": \"contour\"}], \"contourcarpet\": [{\"colorbar\": {\"outlinewidth\": 0, \"ticks\": \"\"}, \"type\": \"contourcarpet\"}], \"heatmap\": [{\"colorbar\": {\"outlinewidth\": 0, \"ticks\": \"\"}, \"colorscale\": [[0.0, \"#0d0887\"], [0.1111111111111111, \"#46039f\"], [0.2222222222222222, \"#7201a8\"], [0.3333333333333333, \"#9c179e\"], [0.4444444444444444, \"#bd3786\"], [0.5555555555555556, \"#d8576b\"], [0.6666666666666666, \"#ed7953\"], [0.7777777777777778, \"#fb9f3a\"], [0.8888888888888888, \"#fdca26\"], [1.0, \"#f0f921\"]], \"type\": \"heatmap\"}], \"heatmapgl\": [{\"colorbar\": {\"outlinewidth\": 0, \"ticks\": \"\"}, \"colorscale\": [[0.0, \"#0d0887\"], [0.1111111111111111, \"#46039f\"], [0.2222222222222222, \"#7201a8\"], [0.3333333333333333, \"#9c179e\"], [0.4444444444444444, \"#bd3786\"], [0.5555555555555556, \"#d8576b\"], [0.6666666666666666, \"#ed7953\"], [0.7777777777777778, \"#fb9f3a\"], [0.8888888888888888, \"#fdca26\"], [1.0, \"#f0f921\"]], \"type\": \"heatmapgl\"}], \"histogram\": [{\"marker\": {\"colorbar\": {\"outlinewidth\": 0, \"ticks\": \"\"}}, \"type\": \"histogram\"}], \"histogram2d\": [{\"colorbar\": {\"outlinewidth\": 0, \"ticks\": \"\"}, \"colorscale\": [[0.0, \"#0d0887\"], [0.1111111111111111, \"#46039f\"], [0.2222222222222222, \"#7201a8\"], [0.3333333333333333, \"#9c179e\"], [0.4444444444444444, \"#bd3786\"], [0.5555555555555556, \"#d8576b\"], [0.6666666666666666, \"#ed7953\"], [0.7777777777777778, \"#fb9f3a\"], [0.8888888888888888, \"#fdca26\"], [1.0, \"#f0f921\"]], \"type\": \"histogram2d\"}], \"histogram2dcontour\": [{\"colorbar\": {\"outlinewidth\": 0, \"ticks\": \"\"}, \"colorscale\": [[0.0, \"#0d0887\"], [0.1111111111111111, \"#46039f\"], [0.2222222222222222, \"#7201a8\"], [0.3333333333333333, \"#9c179e\"], [0.4444444444444444, \"#bd3786\"], [0.5555555555555556, \"#d8576b\"], [0.6666666666666666, \"#ed7953\"], [0.7777777777777778, \"#fb9f3a\"], [0.8888888888888888, \"#fdca26\"], [1.0, \"#f0f921\"]], \"type\": \"histogram2dcontour\"}], \"mesh3d\": [{\"colorbar\": {\"outlinewidth\": 0, \"ticks\": \"\"}, \"type\": \"mesh3d\"}], \"parcoords\": [{\"line\": {\"colorbar\": {\"outlinewidth\": 0, \"ticks\": \"\"}}, \"type\": \"parcoords\"}], \"scatter\": [{\"marker\": {\"colorbar\": {\"outlinewidth\": 0, \"ticks\": \"\"}}, \"type\": \"scatter\"}], \"scatter3d\": [{\"line\": {\"colorbar\": {\"outlinewidth\": 0, \"ticks\": \"\"}}, \"marker\": {\"colorbar\": {\"outlinewidth\": 0, \"ticks\": \"\"}}, \"type\": \"scatter3d\"}], \"scattercarpet\": [{\"marker\": {\"colorbar\": {\"outlinewidth\": 0, \"ticks\": \"\"}}, \"type\": \"scattercarpet\"}], \"scattergeo\": [{\"marker\": {\"colorbar\": {\"outlinewidth\": 0, \"ticks\": \"\"}}, \"type\": \"scattergeo\"}], \"scattergl\": [{\"marker\": {\"colorbar\": {\"outlinewidth\": 0, \"ticks\": \"\"}}, \"type\": \"scattergl\"}], \"scattermapbox\": [{\"marker\": {\"colorbar\": {\"outlinewidth\": 0, \"ticks\": \"\"}}, \"type\": \"scattermapbox\"}], \"scatterpolar\": [{\"marker\": {\"colorbar\": {\"outlinewidth\": 0, \"ticks\": \"\"}}, \"type\": \"scatterpolar\"}], \"scatterpolargl\": [{\"marker\": {\"colorbar\": {\"outlinewidth\": 0, \"ticks\": \"\"}}, \"type\": \"scatterpolargl\"}], \"scatterternary\": [{\"marker\": {\"colorbar\": {\"outlinewidth\": 0, \"ticks\": \"\"}}, \"type\": \"scatterternary\"}], \"surface\": [{\"colorbar\": {\"outlinewidth\": 0, \"ticks\": \"\"}, \"colorscale\": [[0.0, \"#0d0887\"], [0.1111111111111111, \"#46039f\"], [0.2222222222222222, \"#7201a8\"], [0.3333333333333333, \"#9c179e\"], [0.4444444444444444, \"#bd3786\"], [0.5555555555555556, \"#d8576b\"], [0.6666666666666666, \"#ed7953\"], [0.7777777777777778, \"#fb9f3a\"], [0.8888888888888888, \"#fdca26\"], [1.0, \"#f0f921\"]], \"type\": \"surface\"}], \"table\": [{\"cells\": {\"fill\": {\"color\": \"#EBF0F8\"}, \"line\": {\"color\": \"white\"}}, \"header\": {\"fill\": {\"color\": \"#C8D4E3\"}, \"line\": {\"color\": \"white\"}}, \"type\": \"table\"}]}, \"layout\": {\"annotationdefaults\": {\"arrowcolor\": \"#2a3f5f\", \"arrowhead\": 0, \"arrowwidth\": 1}, \"colorscale\": {\"diverging\": [[0, \"#8e0152\"], [0.1, \"#c51b7d\"], [0.2, \"#de77ae\"], [0.3, \"#f1b6da\"], [0.4, \"#fde0ef\"], [0.5, \"#f7f7f7\"], [0.6, \"#e6f5d0\"], [0.7, \"#b8e186\"], [0.8, \"#7fbc41\"], [0.9, \"#4d9221\"], [1, \"#276419\"]], \"sequential\": [[0.0, \"#0d0887\"], [0.1111111111111111, \"#46039f\"], [0.2222222222222222, \"#7201a8\"], [0.3333333333333333, \"#9c179e\"], [0.4444444444444444, \"#bd3786\"], [0.5555555555555556, \"#d8576b\"], [0.6666666666666666, \"#ed7953\"], [0.7777777777777778, \"#fb9f3a\"], [0.8888888888888888, \"#fdca26\"], [1.0, \"#f0f921\"]], \"sequentialminus\": [[0.0, \"#0d0887\"], [0.1111111111111111, \"#46039f\"], [0.2222222222222222, \"#7201a8\"], [0.3333333333333333, \"#9c179e\"], [0.4444444444444444, \"#bd3786\"], [0.5555555555555556, \"#d8576b\"], [0.6666666666666666, \"#ed7953\"], [0.7777777777777778, \"#fb9f3a\"], [0.8888888888888888, \"#fdca26\"], [1.0, \"#f0f921\"]]}, \"colorway\": [\"#636efa\", \"#EF553B\", \"#00cc96\", \"#ab63fa\", \"#FFA15A\", \"#19d3f3\", \"#FF6692\", \"#B6E880\", \"#FF97FF\", \"#FECB52\"], \"font\": {\"color\": \"#2a3f5f\"}, \"geo\": {\"bgcolor\": \"white\", \"lakecolor\": \"white\", \"landcolor\": \"#E5ECF6\", \"showlakes\": true, \"showland\": true, \"subunitcolor\": \"white\"}, \"hoverlabel\": {\"align\": \"left\"}, \"hovermode\": \"closest\", \"mapbox\": {\"style\": \"light\"}, \"paper_bgcolor\": \"white\", \"plot_bgcolor\": \"#E5ECF6\", \"polar\": {\"angularaxis\": {\"gridcolor\": \"white\", \"linecolor\": \"white\", \"ticks\": \"\"}, \"bgcolor\": \"#E5ECF6\", \"radialaxis\": {\"gridcolor\": \"white\", \"linecolor\": \"white\", \"ticks\": \"\"}}, \"scene\": {\"xaxis\": {\"backgroundcolor\": \"#E5ECF6\", \"gridcolor\": \"white\", \"gridwidth\": 2, \"linecolor\": \"white\", \"showbackground\": true, \"ticks\": \"\", \"zerolinecolor\": \"white\"}, \"yaxis\": {\"backgroundcolor\": \"#E5ECF6\", \"gridcolor\": \"white\", \"gridwidth\": 2, \"linecolor\": \"white\", \"showbackground\": true, \"ticks\": \"\", \"zerolinecolor\": \"white\"}, \"zaxis\": {\"backgroundcolor\": \"#E5ECF6\", \"gridcolor\": \"white\", \"gridwidth\": 2, \"linecolor\": \"white\", \"showbackground\": true, \"ticks\": \"\", \"zerolinecolor\": \"white\"}}, \"shapedefaults\": {\"line\": {\"color\": \"#2a3f5f\"}}, \"ternary\": {\"aaxis\": {\"gridcolor\": \"white\", \"linecolor\": \"white\", \"ticks\": \"\"}, \"baxis\": {\"gridcolor\": \"white\", \"linecolor\": \"white\", \"ticks\": \"\"}, \"bgcolor\": \"#E5ECF6\", \"caxis\": {\"gridcolor\": \"white\", \"linecolor\": \"white\", \"ticks\": \"\"}}, \"title\": {\"x\": 0.05}, \"xaxis\": {\"automargin\": true, \"gridcolor\": \"white\", \"linecolor\": \"white\", \"ticks\": \"\", \"zerolinecolor\": \"white\", \"zerolinewidth\": 2}, \"yaxis\": {\"automargin\": true, \"gridcolor\": \"white\", \"linecolor\": \"white\", \"ticks\": \"\", \"zerolinecolor\": \"white\", \"zerolinewidth\": 2}}}, \"title\": {\"text\": \"\"}, \"width\": 600, \"xaxis\": {\"anchor\": \"y\", \"domain\": [0.0, 1.0], \"dtick\": 1, \"ticklen\": 0, \"zeroline\": false}, \"yaxis\": {\"anchor\": \"x\", \"domain\": [0.0, 1.0], \"dtick\": 509, \"range\": [-106.45, 2439.2225], \"ticklen\": 0, \"zeroline\": false}},\n",
       "                        {\"responsive\": true}\n",
       "                    ).then(function(){\n",
       "                            \n",
       "var gd = document.getElementById('a332d74c-8851-4528-bb12-e807d00d2f50');\n",
       "var x = new MutationObserver(function (mutations, observer) {{\n",
       "        var display = window.getComputedStyle(gd).display;\n",
       "        if (!display || display === 'none') {{\n",
       "            console.log([gd, 'removed!']);\n",
       "            Plotly.purge(gd);\n",
       "            observer.disconnect();\n",
       "        }}\n",
       "}});\n",
       "\n",
       "// Listen for the removal of the full notebook cells\n",
       "var notebookContainer = gd.closest('#notebook-container');\n",
       "if (notebookContainer) {{\n",
       "    x.observe(notebookContainer, {childList: true});\n",
       "}}\n",
       "\n",
       "// Listen for the clearing of the current output cell\n",
       "var outputEl = gd.closest('.output');\n",
       "if (outputEl) {{\n",
       "    x.observe(outputEl, {childList: true});\n",
       "}}\n",
       "\n",
       "                        })\n",
       "                };\n",
       "                });\n",
       "            </script>\n",
       "        </div>"
      ]
     },
     "metadata": {},
     "output_type": "display_data"
    }
   ],
   "source": [
    "py.iplot(fig, filename='facet by row')"
   ]
  }
 ],
 "metadata": {
  "kernelspec": {
   "display_name": "Python 3",
   "language": "python",
   "name": "python3"
  },
  "language_info": {
   "codemirror_mode": {
    "name": "ipython",
    "version": 3
   },
   "file_extension": ".py",
   "mimetype": "text/x-python",
   "name": "python",
   "nbconvert_exporter": "python",
   "pygments_lexer": "ipython3",
   "version": "3.6.7"
  }
 },
 "nbformat": 4,
 "nbformat_minor": 2
}
