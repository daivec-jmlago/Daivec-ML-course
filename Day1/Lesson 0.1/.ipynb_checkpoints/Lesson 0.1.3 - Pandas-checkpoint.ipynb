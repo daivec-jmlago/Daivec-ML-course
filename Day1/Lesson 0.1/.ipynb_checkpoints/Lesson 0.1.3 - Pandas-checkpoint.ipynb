{
 "cells": [
  {
   "cell_type": "markdown",
   "metadata": {},
   "source": [
    "# Pandas\n",
    "\n",
    "pandas is an open source, BSD-licensed library providing high-performance, easy-to-use data structures and data analysis tools for the Python programming language. https://pandas.pydata.org/\n",
    "\n",
    "\n",
    "## What problem does pandas solve?\n",
    "\n",
    "Python has long been great for data munging and preparation, but less so for data analysis and modeling. pandas helps fill this gap, enabling you to carry out your entire data analysis workflow in Python without having to switch to a more domain specific language like R.\n",
    "\n",
    "Combined with the excellent IPython toolkit and other libraries, the environment for doing data analysis in Python excels in performance, productivity, and the ability to collaborate.\n",
    "\n",
    "pandas does not implement significant modeling functionality outside of linear and panel regression; for this, look to statsmodels and scikit-learn. More work is still needed to make Python a first class statistical modeling environment, but we are well on our way toward that goal.\n",
    "\n",
    "## Library Highlights\n",
    "\n",
    "- A fast and efficient DataFrame object for data manipulation with integrated indexing;\n",
    "- Tools for reading and writing data between in-memory data structures and different formats: CSV and text files, Microsoft Excel, SQL databases, and the fast HDF5 format;\n",
    "- Intelligent data alignment and integrated handling of missing data: gain automatic label-based alignment in computations and easily manipulate messy data into an orderly form;\n",
    "- Flexible reshaping and pivoting of data sets;\n",
    "- Intelligent label-based slicing, fancy indexing, and subsetting of large data sets;\n",
    "- Columns can be inserted and deleted from data structures for size mutability;\n",
    "- Aggregating or transforming data with a powerful group by engine allowing split-apply-combine operations on data sets;\n",
    "- High performance merging and joining of data sets;\n",
    "- Hierarchical axis indexing provides an intuitive way of working with high-dimensional data in a lower-dimensional data structure;\n",
    "- Time series-functionality: date range generation and frequency conversion, moving window statistics, moving window linear regressions, date shifting and lagging. Even create domain-specific time offsets and join time series without losing data;\n",
    "- Highly optimized for performance, with critical code paths written in Cython or C.\n",
    "- Python with pandas is in use in a wide variety of academic and commercial domains, including Finance, Neuroscience, Economics, Statistics, Advertising, Web Analytics, and more.\n",
    "\n",
    "General Pandas Cheat Sheet: \n",
    "https://assets.datacamp.com/blog_assets/PandasPythonForDataScience.pdf"
   ]
  },
  {
   "cell_type": "code",
   "execution_count": 1,
   "metadata": {},
   "outputs": [],
   "source": [
    "import pandas as pd, numpy as np"
   ]
  },
  {
   "cell_type": "markdown",
   "metadata": {},
   "source": [
    "# Pandas Data Structures\n",
    "In this section we will see the DataFrame and Series structure "
   ]
  },
  {
   "cell_type": "code",
   "execution_count": 2,
   "metadata": {},
   "outputs": [
    {
     "data": {
      "text/html": [
       "<div>\n",
       "<style scoped>\n",
       "    .dataframe tbody tr th:only-of-type {\n",
       "        vertical-align: middle;\n",
       "    }\n",
       "\n",
       "    .dataframe tbody tr th {\n",
       "        vertical-align: top;\n",
       "    }\n",
       "\n",
       "    .dataframe thead th {\n",
       "        text-align: right;\n",
       "    }\n",
       "</style>\n",
       "<table border=\"1\" class=\"dataframe\">\n",
       "  <thead>\n",
       "    <tr style=\"text-align: right;\">\n",
       "      <th></th>\n",
       "      <th>Apples</th>\n",
       "      <th>Bananas</th>\n",
       "    </tr>\n",
       "  </thead>\n",
       "  <tbody>\n",
       "    <tr>\n",
       "      <th>0</th>\n",
       "      <td>30</td>\n",
       "      <td>21</td>\n",
       "    </tr>\n",
       "  </tbody>\n",
       "</table>\n",
       "</div>"
      ],
      "text/plain": [
       "   Apples  Bananas\n",
       "0      30       21"
      ]
     },
     "execution_count": 2,
     "metadata": {},
     "output_type": "execute_result"
    }
   ],
   "source": [
    "fruits = pd.DataFrame({'Apples':[30],'Bananas':[21]})\n",
    "fruits"
   ]
  },
  {
   "cell_type": "code",
   "execution_count": 3,
   "metadata": {},
   "outputs": [
    {
     "data": {
      "text/html": [
       "<div>\n",
       "<style scoped>\n",
       "    .dataframe tbody tr th:only-of-type {\n",
       "        vertical-align: middle;\n",
       "    }\n",
       "\n",
       "    .dataframe tbody tr th {\n",
       "        vertical-align: top;\n",
       "    }\n",
       "\n",
       "    .dataframe thead th {\n",
       "        text-align: right;\n",
       "    }\n",
       "</style>\n",
       "<table border=\"1\" class=\"dataframe\">\n",
       "  <thead>\n",
       "    <tr style=\"text-align: right;\">\n",
       "      <th></th>\n",
       "      <th>Apples</th>\n",
       "      <th>Bananas</th>\n",
       "    </tr>\n",
       "  </thead>\n",
       "  <tbody>\n",
       "    <tr>\n",
       "      <th>2017 Sales</th>\n",
       "      <td>35</td>\n",
       "      <td>21</td>\n",
       "    </tr>\n",
       "    <tr>\n",
       "      <th>2018 Sales</th>\n",
       "      <td>41</td>\n",
       "      <td>34</td>\n",
       "    </tr>\n",
       "  </tbody>\n",
       "</table>\n",
       "</div>"
      ],
      "text/plain": [
       "            Apples  Bananas\n",
       "2017 Sales      35       21\n",
       "2018 Sales      41       34"
      ]
     },
     "execution_count": 3,
     "metadata": {},
     "output_type": "execute_result"
    }
   ],
   "source": [
    "pd.DataFrame({'Apples':[35,41],'Bananas':[21,34]},index=['2017 Sales','2018 Sales'])"
   ]
  },
  {
   "cell_type": "code",
   "execution_count": 4,
   "metadata": {},
   "outputs": [
    {
     "data": {
      "text/plain": [
       "Flour     4 cups\n",
       "Milk       1 cup\n",
       "Eggs     2 large\n",
       "Spam       1 can\n",
       "Name: Dinner, dtype: object"
      ]
     },
     "execution_count": 4,
     "metadata": {},
     "output_type": "execute_result"
    }
   ],
   "source": [
    "pd.Series(['4 cups','1 cup','2 large','1 can'],index=['Flour','Milk','Eggs','Spam'],name='Dinner')"
   ]
  },
  {
   "cell_type": "code",
   "execution_count": 5,
   "metadata": {},
   "outputs": [
    {
     "data": {
      "text/html": [
       "<div>\n",
       "<style scoped>\n",
       "    .dataframe tbody tr th:only-of-type {\n",
       "        vertical-align: middle;\n",
       "    }\n",
       "\n",
       "    .dataframe tbody tr th {\n",
       "        vertical-align: top;\n",
       "    }\n",
       "\n",
       "    .dataframe thead th {\n",
       "        text-align: right;\n",
       "    }\n",
       "</style>\n",
       "<table border=\"1\" class=\"dataframe\">\n",
       "  <thead>\n",
       "    <tr style=\"text-align: right;\">\n",
       "      <th></th>\n",
       "      <th>Col1</th>\n",
       "      <th>Col2</th>\n",
       "    </tr>\n",
       "  </thead>\n",
       "  <tbody>\n",
       "    <tr>\n",
       "      <th>Row1</th>\n",
       "      <td>1</td>\n",
       "      <td>2</td>\n",
       "    </tr>\n",
       "    <tr>\n",
       "      <th>Row2</th>\n",
       "      <td>3</td>\n",
       "      <td>4</td>\n",
       "    </tr>\n",
       "    <tr>\n",
       "      <th>Row3</th>\n",
       "      <td>5</td>\n",
       "      <td>6</td>\n",
       "    </tr>\n",
       "  </tbody>\n",
       "</table>\n",
       "</div>"
      ],
      "text/plain": [
       "     Col1 Col2\n",
       "Row1    1    2\n",
       "Row2    3    4\n",
       "Row3    5    6"
      ]
     },
     "execution_count": 5,
     "metadata": {},
     "output_type": "execute_result"
    }
   ],
   "source": [
    "data = np.array([['','Col1','Col2'],\n",
    "                ['Row1',1,2],\n",
    "                ['Row2',3,4],\n",
    "                ['Row3',5,6]])\n",
    "                \n",
    "df = pd.DataFrame(data=data[1:,1:],\n",
    "                  index=data[1:,0],\n",
    "                  columns=data[0,1:])\n",
    "\n",
    "df"
   ]
  },
  {
   "cell_type": "markdown",
   "metadata": {},
   "source": [
    "### Read and Write"
   ]
  },
  {
   "cell_type": "markdown",
   "metadata": {},
   "source": [
    "One of the most common file formats for datasets is the csv, pandas has specific functions for the classic formats csv, json, excel ..."
   ]
  },
  {
   "cell_type": "code",
   "execution_count": 6,
   "metadata": {},
   "outputs": [],
   "source": [
    "df.to_csv(\"df.csv\")"
   ]
  },
  {
   "cell_type": "code",
   "execution_count": 7,
   "metadata": {},
   "outputs": [],
   "source": [
    "df_r = pd.read_csv(\"df.csv\",index_col=0)"
   ]
  },
  {
   "cell_type": "code",
   "execution_count": 8,
   "metadata": {},
   "outputs": [
    {
     "data": {
      "text/html": [
       "<div>\n",
       "<style scoped>\n",
       "    .dataframe tbody tr th:only-of-type {\n",
       "        vertical-align: middle;\n",
       "    }\n",
       "\n",
       "    .dataframe tbody tr th {\n",
       "        vertical-align: top;\n",
       "    }\n",
       "\n",
       "    .dataframe thead th {\n",
       "        text-align: right;\n",
       "    }\n",
       "</style>\n",
       "<table border=\"1\" class=\"dataframe\">\n",
       "  <thead>\n",
       "    <tr style=\"text-align: right;\">\n",
       "      <th></th>\n",
       "      <th>Col1</th>\n",
       "      <th>Col2</th>\n",
       "    </tr>\n",
       "  </thead>\n",
       "  <tbody>\n",
       "    <tr>\n",
       "      <th>Row1</th>\n",
       "      <td>1</td>\n",
       "      <td>2</td>\n",
       "    </tr>\n",
       "    <tr>\n",
       "      <th>Row2</th>\n",
       "      <td>3</td>\n",
       "      <td>4</td>\n",
       "    </tr>\n",
       "    <tr>\n",
       "      <th>Row3</th>\n",
       "      <td>5</td>\n",
       "      <td>6</td>\n",
       "    </tr>\n",
       "  </tbody>\n",
       "</table>\n",
       "</div>"
      ],
      "text/plain": [
       "      Col1  Col2\n",
       "Row1     1     2\n",
       "Row2     3     4\n",
       "Row3     5     6"
      ]
     },
     "execution_count": 8,
     "metadata": {},
     "output_type": "execute_result"
    }
   ],
   "source": [
    "df_r"
   ]
  },
  {
   "cell_type": "markdown",
   "metadata": {},
   "source": [
    "### DataFrame properties"
   ]
  },
  {
   "cell_type": "code",
   "execution_count": 9,
   "metadata": {},
   "outputs": [
    {
     "data": {
      "text/plain": [
       "(3, 2)"
      ]
     },
     "execution_count": 9,
     "metadata": {},
     "output_type": "execute_result"
    }
   ],
   "source": [
    "df.shape"
   ]
  },
  {
   "cell_type": "code",
   "execution_count": 10,
   "metadata": {},
   "outputs": [
    {
     "data": {
      "text/plain": [
       "(Index(['Row1', 'Row2', 'Row3'], dtype='object'),\n",
       " Index(['Col1', 'Col2'], dtype='object'))"
      ]
     },
     "execution_count": 10,
     "metadata": {},
     "output_type": "execute_result"
    }
   ],
   "source": [
    "df.index, df.columns"
   ]
  },
  {
   "cell_type": "code",
   "execution_count": 11,
   "metadata": {},
   "outputs": [
    {
     "data": {
      "text/plain": [
       "(3, 2)"
      ]
     },
     "execution_count": 11,
     "metadata": {},
     "output_type": "execute_result"
    }
   ],
   "source": [
    "len(df.index), len(df.columns)"
   ]
  },
  {
   "cell_type": "code",
   "execution_count": 12,
   "metadata": {},
   "outputs": [
    {
     "data": {
      "text/plain": [
       "Col1    3\n",
       "Col2    3\n",
       "dtype: int64"
      ]
     },
     "execution_count": 12,
     "metadata": {},
     "output_type": "execute_result"
    }
   ],
   "source": [
    "df.count()"
   ]
  },
  {
   "cell_type": "code",
   "execution_count": 13,
   "metadata": {},
   "outputs": [
    {
     "data": {
      "text/html": [
       "<div>\n",
       "<style scoped>\n",
       "    .dataframe tbody tr th:only-of-type {\n",
       "        vertical-align: middle;\n",
       "    }\n",
       "\n",
       "    .dataframe tbody tr th {\n",
       "        vertical-align: top;\n",
       "    }\n",
       "\n",
       "    .dataframe thead th {\n",
       "        text-align: right;\n",
       "    }\n",
       "</style>\n",
       "<table border=\"1\" class=\"dataframe\">\n",
       "  <thead>\n",
       "    <tr style=\"text-align: right;\">\n",
       "      <th></th>\n",
       "      <th>Row1</th>\n",
       "      <th>Row2</th>\n",
       "      <th>Row3</th>\n",
       "    </tr>\n",
       "  </thead>\n",
       "  <tbody>\n",
       "    <tr>\n",
       "      <th>Col1</th>\n",
       "      <td>1</td>\n",
       "      <td>3</td>\n",
       "      <td>5</td>\n",
       "    </tr>\n",
       "    <tr>\n",
       "      <th>Col2</th>\n",
       "      <td>2</td>\n",
       "      <td>4</td>\n",
       "      <td>6</td>\n",
       "    </tr>\n",
       "  </tbody>\n",
       "</table>\n",
       "</div>"
      ],
      "text/plain": [
       "     Row1 Row2 Row3\n",
       "Col1    1    3    5\n",
       "Col2    2    4    6"
      ]
     },
     "execution_count": 13,
     "metadata": {},
     "output_type": "execute_result"
    }
   ],
   "source": [
    "df.T"
   ]
  },
  {
   "cell_type": "code",
   "execution_count": 14,
   "metadata": {},
   "outputs": [
    {
     "data": {
      "text/plain": [
       "array([['1', '2'],\n",
       "       ['3', '4'],\n",
       "       ['5', '6']], dtype=object)"
      ]
     },
     "execution_count": 14,
     "metadata": {},
     "output_type": "execute_result"
    }
   ],
   "source": [
    "df.values"
   ]
  },
  {
   "cell_type": "code",
   "execution_count": 15,
   "metadata": {},
   "outputs": [
    {
     "data": {
      "text/plain": [
       "array([[1, 2],\n",
       "       [3, 4],\n",
       "       [5, 6]])"
      ]
     },
     "execution_count": 15,
     "metadata": {},
     "output_type": "execute_result"
    }
   ],
   "source": [
    "df.values.astype(int)"
   ]
  },
  {
   "cell_type": "code",
   "execution_count": 16,
   "metadata": {},
   "outputs": [
    {
     "data": {
      "text/html": [
       "<div>\n",
       "<style scoped>\n",
       "    .dataframe tbody tr th:only-of-type {\n",
       "        vertical-align: middle;\n",
       "    }\n",
       "\n",
       "    .dataframe tbody tr th {\n",
       "        vertical-align: top;\n",
       "    }\n",
       "\n",
       "    .dataframe thead th {\n",
       "        text-align: right;\n",
       "    }\n",
       "</style>\n",
       "<table border=\"1\" class=\"dataframe\">\n",
       "  <thead>\n",
       "    <tr style=\"text-align: right;\">\n",
       "      <th></th>\n",
       "      <th>Row1</th>\n",
       "      <th>Row2</th>\n",
       "      <th>Row3</th>\n",
       "    </tr>\n",
       "  </thead>\n",
       "  <tbody>\n",
       "    <tr>\n",
       "      <th>Col1</th>\n",
       "      <td>1</td>\n",
       "      <td>3</td>\n",
       "      <td>5</td>\n",
       "    </tr>\n",
       "    <tr>\n",
       "      <th>Col2</th>\n",
       "      <td>2</td>\n",
       "      <td>4</td>\n",
       "      <td>6</td>\n",
       "    </tr>\n",
       "  </tbody>\n",
       "</table>\n",
       "</div>"
      ],
      "text/plain": [
       "     Row1 Row2 Row3\n",
       "Col1    1    3    5\n",
       "Col2    2    4    6"
      ]
     },
     "execution_count": 16,
     "metadata": {},
     "output_type": "execute_result"
    }
   ],
   "source": [
    "df.T"
   ]
  },
  {
   "cell_type": "markdown",
   "metadata": {},
   "source": [
    "### Select an Index or Column From a Pandas DataFrame"
   ]
  },
  {
   "cell_type": "code",
   "execution_count": 17,
   "metadata": {},
   "outputs": [
    {
     "data": {
      "text/plain": [
       "'1'"
      ]
     },
     "execution_count": 17,
     "metadata": {},
     "output_type": "execute_result"
    }
   ],
   "source": [
    "df.iloc[0][0]"
   ]
  },
  {
   "cell_type": "code",
   "execution_count": 18,
   "metadata": {},
   "outputs": [
    {
     "data": {
      "text/plain": [
       "'1'"
      ]
     },
     "execution_count": 18,
     "metadata": {},
     "output_type": "execute_result"
    }
   ],
   "source": [
    "df.loc['Row1']['Col1']"
   ]
  },
  {
   "cell_type": "code",
   "execution_count": 19,
   "metadata": {},
   "outputs": [
    {
     "data": {
      "text/plain": [
       "'1'"
      ]
     },
     "execution_count": 19,
     "metadata": {},
     "output_type": "execute_result"
    }
   ],
   "source": [
    "df.at['Row1','Col1']"
   ]
  },
  {
   "cell_type": "code",
   "execution_count": 20,
   "metadata": {},
   "outputs": [
    {
     "data": {
      "text/plain": [
       "'1'"
      ]
     },
     "execution_count": 20,
     "metadata": {},
     "output_type": "execute_result"
    }
   ],
   "source": [
    "df.iat[0,0]"
   ]
  },
  {
   "cell_type": "code",
   "execution_count": 21,
   "metadata": {},
   "outputs": [
    {
     "data": {
      "text/plain": [
       "Row1    1\n",
       "Row2    3\n",
       "Row3    5\n",
       "Name: Col1, dtype: object"
      ]
     },
     "execution_count": 21,
     "metadata": {},
     "output_type": "execute_result"
    }
   ],
   "source": [
    "df.iloc[:,0]"
   ]
  },
  {
   "cell_type": "code",
   "execution_count": 22,
   "metadata": {},
   "outputs": [
    {
     "data": {
      "text/plain": [
       "'1'"
      ]
     },
     "execution_count": 22,
     "metadata": {},
     "output_type": "execute_result"
    }
   ],
   "source": [
    "df.iloc[0][0]"
   ]
  },
  {
   "cell_type": "code",
   "execution_count": 23,
   "metadata": {},
   "outputs": [
    {
     "data": {
      "text/plain": [
       "Row1    1\n",
       "Row2    3\n",
       "Row3    5\n",
       "Name: Col1, dtype: object"
      ]
     },
     "execution_count": 23,
     "metadata": {},
     "output_type": "execute_result"
    }
   ],
   "source": [
    "df.loc[:,'Col1']"
   ]
  },
  {
   "cell_type": "code",
   "execution_count": 24,
   "metadata": {},
   "outputs": [
    {
     "data": {
      "text/plain": [
       "Col1    1\n",
       "Col2    2\n",
       "Name: Row1, dtype: object"
      ]
     },
     "execution_count": 24,
     "metadata": {},
     "output_type": "execute_result"
    }
   ],
   "source": [
    "df.loc['Row1',:]"
   ]
  },
  {
   "cell_type": "markdown",
   "metadata": {},
   "source": [
    "### Add and Delete Rows and Columns"
   ]
  },
  {
   "cell_type": "code",
   "execution_count": 25,
   "metadata": {},
   "outputs": [
    {
     "data": {
      "text/html": [
       "<div>\n",
       "<style scoped>\n",
       "    .dataframe tbody tr th:only-of-type {\n",
       "        vertical-align: middle;\n",
       "    }\n",
       "\n",
       "    .dataframe tbody tr th {\n",
       "        vertical-align: top;\n",
       "    }\n",
       "\n",
       "    .dataframe thead th {\n",
       "        text-align: right;\n",
       "    }\n",
       "</style>\n",
       "<table border=\"1\" class=\"dataframe\">\n",
       "  <thead>\n",
       "    <tr style=\"text-align: right;\">\n",
       "      <th></th>\n",
       "      <th>Col1</th>\n",
       "      <th>Col2</th>\n",
       "    </tr>\n",
       "  </thead>\n",
       "  <tbody>\n",
       "    <tr>\n",
       "      <th>Row1</th>\n",
       "      <td>1</td>\n",
       "      <td>2</td>\n",
       "    </tr>\n",
       "    <tr>\n",
       "      <th>Row2</th>\n",
       "      <td>3</td>\n",
       "      <td>4</td>\n",
       "    </tr>\n",
       "    <tr>\n",
       "      <th>Row3</th>\n",
       "      <td>5</td>\n",
       "      <td>6</td>\n",
       "    </tr>\n",
       "  </tbody>\n",
       "</table>\n",
       "</div>"
      ],
      "text/plain": [
       "     Col1 Col2\n",
       "Row1    1    2\n",
       "Row2    3    4\n",
       "Row3    5    6"
      ]
     },
     "execution_count": 25,
     "metadata": {},
     "output_type": "execute_result"
    }
   ],
   "source": [
    "df"
   ]
  },
  {
   "cell_type": "code",
   "execution_count": 26,
   "metadata": {},
   "outputs": [
    {
     "data": {
      "text/html": [
       "<div>\n",
       "<style scoped>\n",
       "    .dataframe tbody tr th:only-of-type {\n",
       "        vertical-align: middle;\n",
       "    }\n",
       "\n",
       "    .dataframe tbody tr th {\n",
       "        vertical-align: top;\n",
       "    }\n",
       "\n",
       "    .dataframe thead th {\n",
       "        text-align: right;\n",
       "    }\n",
       "</style>\n",
       "<table border=\"1\" class=\"dataframe\">\n",
       "  <thead>\n",
       "    <tr style=\"text-align: right;\">\n",
       "      <th></th>\n",
       "      <th>Col1</th>\n",
       "      <th>Col2</th>\n",
       "    </tr>\n",
       "  </thead>\n",
       "  <tbody>\n",
       "    <tr>\n",
       "      <th>Row1</th>\n",
       "      <td>1</td>\n",
       "      <td>2</td>\n",
       "    </tr>\n",
       "    <tr>\n",
       "      <th>Row2</th>\n",
       "      <td>3</td>\n",
       "      <td>4</td>\n",
       "    </tr>\n",
       "    <tr>\n",
       "      <th>Row3</th>\n",
       "      <td>5</td>\n",
       "      <td>6</td>\n",
       "    </tr>\n",
       "    <tr>\n",
       "      <th>Row4</th>\n",
       "      <td>7</td>\n",
       "      <td>8</td>\n",
       "    </tr>\n",
       "  </tbody>\n",
       "</table>\n",
       "</div>"
      ],
      "text/plain": [
       "     Col1 Col2\n",
       "Row1    1    2\n",
       "Row2    3    4\n",
       "Row3    5    6\n",
       "Row4    7    8"
      ]
     },
     "execution_count": 26,
     "metadata": {},
     "output_type": "execute_result"
    }
   ],
   "source": [
    "df.loc[\"Row4\"] = [7,8]\n",
    "df"
   ]
  },
  {
   "cell_type": "code",
   "execution_count": 27,
   "metadata": {},
   "outputs": [
    {
     "data": {
      "text/html": [
       "<div>\n",
       "<style scoped>\n",
       "    .dataframe tbody tr th:only-of-type {\n",
       "        vertical-align: middle;\n",
       "    }\n",
       "\n",
       "    .dataframe tbody tr th {\n",
       "        vertical-align: top;\n",
       "    }\n",
       "\n",
       "    .dataframe thead th {\n",
       "        text-align: right;\n",
       "    }\n",
       "</style>\n",
       "<table border=\"1\" class=\"dataframe\">\n",
       "  <thead>\n",
       "    <tr style=\"text-align: right;\">\n",
       "      <th></th>\n",
       "      <th>Col1</th>\n",
       "      <th>Col2</th>\n",
       "      <th>Col3</th>\n",
       "    </tr>\n",
       "  </thead>\n",
       "  <tbody>\n",
       "    <tr>\n",
       "      <th>Row1</th>\n",
       "      <td>1</td>\n",
       "      <td>2</td>\n",
       "      <td>9</td>\n",
       "    </tr>\n",
       "    <tr>\n",
       "      <th>Row2</th>\n",
       "      <td>3</td>\n",
       "      <td>4</td>\n",
       "      <td>10</td>\n",
       "    </tr>\n",
       "    <tr>\n",
       "      <th>Row3</th>\n",
       "      <td>5</td>\n",
       "      <td>6</td>\n",
       "      <td>11</td>\n",
       "    </tr>\n",
       "    <tr>\n",
       "      <th>Row4</th>\n",
       "      <td>7</td>\n",
       "      <td>8</td>\n",
       "      <td>12</td>\n",
       "    </tr>\n",
       "  </tbody>\n",
       "</table>\n",
       "</div>"
      ],
      "text/plain": [
       "     Col1 Col2  Col3\n",
       "Row1    1    2     9\n",
       "Row2    3    4    10\n",
       "Row3    5    6    11\n",
       "Row4    7    8    12"
      ]
     },
     "execution_count": 27,
     "metadata": {},
     "output_type": "execute_result"
    }
   ],
   "source": [
    "df[\"Col3\"] = [9,10,11,12]\n",
    "df"
   ]
  },
  {
   "cell_type": "code",
   "execution_count": 28,
   "metadata": {},
   "outputs": [
    {
     "data": {
      "text/html": [
       "<div>\n",
       "<style scoped>\n",
       "    .dataframe tbody tr th:only-of-type {\n",
       "        vertical-align: middle;\n",
       "    }\n",
       "\n",
       "    .dataframe tbody tr th {\n",
       "        vertical-align: top;\n",
       "    }\n",
       "\n",
       "    .dataframe thead th {\n",
       "        text-align: right;\n",
       "    }\n",
       "</style>\n",
       "<table border=\"1\" class=\"dataframe\">\n",
       "  <thead>\n",
       "    <tr style=\"text-align: right;\">\n",
       "      <th></th>\n",
       "      <th>Col1</th>\n",
       "      <th>Col2</th>\n",
       "      <th>Col3</th>\n",
       "    </tr>\n",
       "  </thead>\n",
       "  <tbody>\n",
       "    <tr>\n",
       "      <th>Row1</th>\n",
       "      <td>1</td>\n",
       "      <td>2</td>\n",
       "      <td>9</td>\n",
       "    </tr>\n",
       "    <tr>\n",
       "      <th>Row2</th>\n",
       "      <td>3</td>\n",
       "      <td>4</td>\n",
       "      <td>10</td>\n",
       "    </tr>\n",
       "    <tr>\n",
       "      <th>Row3</th>\n",
       "      <td>5</td>\n",
       "      <td>6</td>\n",
       "      <td>11</td>\n",
       "    </tr>\n",
       "  </tbody>\n",
       "</table>\n",
       "</div>"
      ],
      "text/plain": [
       "     Col1 Col2  Col3\n",
       "Row1    1    2     9\n",
       "Row2    3    4    10\n",
       "Row3    5    6    11"
      ]
     },
     "execution_count": 28,
     "metadata": {},
     "output_type": "execute_result"
    }
   ],
   "source": [
    "df.drop(\"Row4\",inplace=True)\n",
    "df"
   ]
  },
  {
   "cell_type": "code",
   "execution_count": 29,
   "metadata": {},
   "outputs": [
    {
     "data": {
      "text/html": [
       "<div>\n",
       "<style scoped>\n",
       "    .dataframe tbody tr th:only-of-type {\n",
       "        vertical-align: middle;\n",
       "    }\n",
       "\n",
       "    .dataframe tbody tr th {\n",
       "        vertical-align: top;\n",
       "    }\n",
       "\n",
       "    .dataframe thead th {\n",
       "        text-align: right;\n",
       "    }\n",
       "</style>\n",
       "<table border=\"1\" class=\"dataframe\">\n",
       "  <thead>\n",
       "    <tr style=\"text-align: right;\">\n",
       "      <th></th>\n",
       "      <th>Col1</th>\n",
       "      <th>Col2</th>\n",
       "    </tr>\n",
       "  </thead>\n",
       "  <tbody>\n",
       "    <tr>\n",
       "      <th>Row1</th>\n",
       "      <td>1</td>\n",
       "      <td>2</td>\n",
       "    </tr>\n",
       "    <tr>\n",
       "      <th>Row2</th>\n",
       "      <td>3</td>\n",
       "      <td>4</td>\n",
       "    </tr>\n",
       "    <tr>\n",
       "      <th>Row3</th>\n",
       "      <td>5</td>\n",
       "      <td>6</td>\n",
       "    </tr>\n",
       "  </tbody>\n",
       "</table>\n",
       "</div>"
      ],
      "text/plain": [
       "     Col1 Col2\n",
       "Row1    1    2\n",
       "Row2    3    4\n",
       "Row3    5    6"
      ]
     },
     "execution_count": 29,
     "metadata": {},
     "output_type": "execute_result"
    }
   ],
   "source": [
    "df.drop(\"Col3\",axis=1,inplace=True)\n",
    "df"
   ]
  },
  {
   "cell_type": "markdown",
   "metadata": {},
   "source": [
    "# Practical case\n",
    "\n",
    "To do data analysis, sometimes we will need more complex data structures than a numpy array. **Tabular data and DataFrames**\n",
    "\n",
    "Lets do a naive web scraping to get some data...\n",
    "Hint: Maintain `Shift` and hit `Tab` twice inside `pd.read_html()` parenthesis."
   ]
  },
  {
   "cell_type": "code",
   "execution_count": 30,
   "metadata": {},
   "outputs": [
    {
     "data": {
      "text/html": [
       "<div>\n",
       "<style scoped>\n",
       "    .dataframe tbody tr th:only-of-type {\n",
       "        vertical-align: middle;\n",
       "    }\n",
       "\n",
       "    .dataframe tbody tr th {\n",
       "        vertical-align: top;\n",
       "    }\n",
       "\n",
       "    .dataframe thead th {\n",
       "        text-align: right;\n",
       "    }\n",
       "</style>\n",
       "<table border=\"1\" class=\"dataframe\">\n",
       "  <thead>\n",
       "    <tr style=\"text-align: right;\">\n",
       "      <th></th>\n",
       "      <th>Imagen</th>\n",
       "      <th>Nombre</th>\n",
       "      <th>Municipio</th>\n",
       "      <th>Provincia</th>\n",
       "      <th>Tipo</th>\n",
       "      <th>Grupos</th>\n",
       "      <th>Potencia</th>\n",
       "      <th>Propietario</th>\n",
       "      <th>Localización</th>\n",
       "    </tr>\n",
       "  </thead>\n",
       "  <tbody>\n",
       "    <tr>\n",
       "      <th>0</th>\n",
       "      <td>NaN</td>\n",
       "      <td>Central térmica Litoral de Almería</td>\n",
       "      <td>Carboneras</td>\n",
       "      <td>Almería</td>\n",
       "      <td>convencional</td>\n",
       "      <td>2</td>\n",
       "      <td>1159 MW</td>\n",
       "      <td>Endesa[6]​[7]​</td>\n",
       "      <td>36°58′40″N 1°54′16″O﻿ / ﻿36.97778, -1.90444</td>\n",
       "    </tr>\n",
       "    <tr>\n",
       "      <th>1</th>\n",
       "      <td>NaN</td>\n",
       "      <td>Central térmica de Arcos</td>\n",
       "      <td>Arcos de la Frontera</td>\n",
       "      <td>Cádiz</td>\n",
       "      <td>c. combinado</td>\n",
       "      <td>3</td>\n",
       "      <td>1613 MW</td>\n",
       "      <td>Iberdrola[8]​[6]​[9]​</td>\n",
       "      <td>36°40′21″N 5°48′58″O﻿ / ﻿36.67250, -5.81611</td>\n",
       "    </tr>\n",
       "    <tr>\n",
       "      <th>2</th>\n",
       "      <td>NaN</td>\n",
       "      <td>Central térmica Bahía de Algeciras</td>\n",
       "      <td>San Roque</td>\n",
       "      <td>Cádiz</td>\n",
       "      <td>c. combinado</td>\n",
       "      <td>2</td>\n",
       "      <td>800 MW</td>\n",
       "      <td>Repsol[6]​[10]​</td>\n",
       "      <td>36°10′58″N 5°23′22″O﻿ / ﻿36.18278, -5.38944</td>\n",
       "    </tr>\n",
       "    <tr>\n",
       "      <th>3</th>\n",
       "      <td>NaN</td>\n",
       "      <td>Central térmica Campo de Gibraltar</td>\n",
       "      <td>San Roque</td>\n",
       "      <td>Cádiz</td>\n",
       "      <td>c. combinado</td>\n",
       "      <td>2</td>\n",
       "      <td>789 MW</td>\n",
       "      <td>Naturgy / CEPSA[11]​[6]​</td>\n",
       "      <td>36°11′00″N 5°23′35″O﻿ / ﻿36.18333, -5.39306</td>\n",
       "    </tr>\n",
       "    <tr>\n",
       "      <th>4</th>\n",
       "      <td>NaN</td>\n",
       "      <td>Central de ciclo combinado de San Roque</td>\n",
       "      <td>San Roque</td>\n",
       "      <td>Cádiz</td>\n",
       "      <td>c. combinado</td>\n",
       "      <td>2</td>\n",
       "      <td>800 MW</td>\n",
       "      <td>Endesa / Naturgy[6]​[7]​[12]​</td>\n",
       "      <td>36°11′44″N 5°24′47″O﻿ / ﻿36.19556, -5.41306</td>\n",
       "    </tr>\n",
       "    <tr>\n",
       "      <th>5</th>\n",
       "      <td>NaN</td>\n",
       "      <td>Central térmica de Los Barrios</td>\n",
       "      <td>Los Barrios</td>\n",
       "      <td>Cádiz</td>\n",
       "      <td>convencional</td>\n",
       "      <td>1</td>\n",
       "      <td>567 MW</td>\n",
       "      <td>Viesgo[13]​[6]​[14]​</td>\n",
       "      <td>36°10′58″N 5°25′12″O﻿ / ﻿36.18278, -5.42000</td>\n",
       "    </tr>\n",
       "    <tr>\n",
       "      <th>6</th>\n",
       "      <td>NaN</td>\n",
       "      <td>Central térmica de Puente Nuevo</td>\n",
       "      <td>Espiel</td>\n",
       "      <td>Córdoba</td>\n",
       "      <td>convencional</td>\n",
       "      <td>1</td>\n",
       "      <td>324 MW</td>\n",
       "      <td>Viesgo[6]​[14]​</td>\n",
       "      <td>38°06′38″N 4°56′05″O﻿ / ﻿38.11056, -4.93472</td>\n",
       "    </tr>\n",
       "    <tr>\n",
       "      <th>7</th>\n",
       "      <td>NaN</td>\n",
       "      <td>Central térmica Cristóbal Colón</td>\n",
       "      <td>Huelva</td>\n",
       "      <td>Huelva</td>\n",
       "      <td>c. combinado</td>\n",
       "      <td>1</td>\n",
       "      <td>400 MW</td>\n",
       "      <td>Endesa[7]​[6]​</td>\n",
       "      <td>37°12′57″N 6°56′39″O﻿ / ﻿37.21583, -6.94417</td>\n",
       "    </tr>\n",
       "    <tr>\n",
       "      <th>8</th>\n",
       "      <td>NaN</td>\n",
       "      <td>Central térmica de Palos de la Frontera</td>\n",
       "      <td>Palos de la Frontera</td>\n",
       "      <td>Huelva</td>\n",
       "      <td>c. combinado</td>\n",
       "      <td>3</td>\n",
       "      <td>1200 MW</td>\n",
       "      <td>Naturgy[15]​[6]​</td>\n",
       "      <td>37°11′03″N 6°53′09″O﻿ / ﻿37.18417, -6.88583</td>\n",
       "    </tr>\n",
       "    <tr>\n",
       "      <th>9</th>\n",
       "      <td>NaN</td>\n",
       "      <td>Central térmica de Campanillas</td>\n",
       "      <td>Málaga</td>\n",
       "      <td>Málaga</td>\n",
       "      <td>c. combinado</td>\n",
       "      <td>1</td>\n",
       "      <td>400 MW</td>\n",
       "      <td>Naturgy[16]​[6]​</td>\n",
       "      <td>36°44′54″N 4°33′46″O﻿ / ﻿36.74833, -4.56278</td>\n",
       "    </tr>\n",
       "  </tbody>\n",
       "</table>\n",
       "</div>"
      ],
      "text/plain": [
       "   Imagen                                   Nombre             Municipio  \\\n",
       "0     NaN       Central térmica Litoral de Almería            Carboneras   \n",
       "1     NaN                 Central térmica de Arcos  Arcos de la Frontera   \n",
       "2     NaN       Central térmica Bahía de Algeciras             San Roque   \n",
       "3     NaN       Central térmica Campo de Gibraltar             San Roque   \n",
       "4     NaN  Central de ciclo combinado de San Roque             San Roque   \n",
       "5     NaN           Central térmica de Los Barrios           Los Barrios   \n",
       "6     NaN          Central térmica de Puente Nuevo                Espiel   \n",
       "7     NaN          Central térmica Cristóbal Colón                Huelva   \n",
       "8     NaN  Central térmica de Palos de la Frontera  Palos de la Frontera   \n",
       "9     NaN           Central térmica de Campanillas                Málaga   \n",
       "\n",
       "  Provincia          Tipo  Grupos Potencia                    Propietario  \\\n",
       "0   Almería  convencional       2  1159 MW                 Endesa[6]​[7]​   \n",
       "1     Cádiz  c. combinado       3  1613 MW          Iberdrola[8]​[6]​[9]​   \n",
       "2     Cádiz  c. combinado       2   800 MW                Repsol[6]​[10]​   \n",
       "3     Cádiz  c. combinado       2   789 MW       Naturgy / CEPSA[11]​[6]​   \n",
       "4     Cádiz  c. combinado       2   800 MW  Endesa / Naturgy[6]​[7]​[12]​   \n",
       "5     Cádiz  convencional       1   567 MW           Viesgo[13]​[6]​[14]​   \n",
       "6   Córdoba  convencional       1   324 MW                Viesgo[6]​[14]​   \n",
       "7    Huelva  c. combinado       1   400 MW                 Endesa[7]​[6]​   \n",
       "8    Huelva  c. combinado       3  1200 MW               Naturgy[15]​[6]​   \n",
       "9    Málaga  c. combinado       1   400 MW               Naturgy[16]​[6]​   \n",
       "\n",
       "                                  Localización  \n",
       "0  36°58′40″N 1°54′16″O﻿ / ﻿36.97778, -1.90444  \n",
       "1  36°40′21″N 5°48′58″O﻿ / ﻿36.67250, -5.81611  \n",
       "2  36°10′58″N 5°23′22″O﻿ / ﻿36.18278, -5.38944  \n",
       "3  36°11′00″N 5°23′35″O﻿ / ﻿36.18333, -5.39306  \n",
       "4  36°11′44″N 5°24′47″O﻿ / ﻿36.19556, -5.41306  \n",
       "5  36°10′58″N 5°25′12″O﻿ / ﻿36.18278, -5.42000  \n",
       "6  38°06′38″N 4°56′05″O﻿ / ﻿38.11056, -4.93472  \n",
       "7  37°12′57″N 6°56′39″O﻿ / ﻿37.21583, -6.94417  \n",
       "8  37°11′03″N 6°53′09″O﻿ / ﻿37.18417, -6.88583  \n",
       "9  36°44′54″N 4°33′46″O﻿ / ﻿36.74833, -4.56278  "
      ]
     },
     "execution_count": 30,
     "metadata": {},
     "output_type": "execute_result"
    }
   ],
   "source": [
    "tables_url = \"https://es.wikipedia.org/wiki/Anexo:Centrales_t%C3%A9rmicas_en_Espa%C3%B1a\"\n",
    "ldfs = pd.read_html(tables_url,encoding='utf-8')[1:]\n",
    "ldfs[0]"
   ]
  },
  {
   "cell_type": "code",
   "execution_count": 31,
   "metadata": {},
   "outputs": [
    {
     "data": {
      "text/html": [
       "<div>\n",
       "<style scoped>\n",
       "    .dataframe tbody tr th:only-of-type {\n",
       "        vertical-align: middle;\n",
       "    }\n",
       "\n",
       "    .dataframe tbody tr th {\n",
       "        vertical-align: top;\n",
       "    }\n",
       "\n",
       "    .dataframe thead th {\n",
       "        text-align: right;\n",
       "    }\n",
       "</style>\n",
       "<table border=\"1\" class=\"dataframe\">\n",
       "  <thead>\n",
       "    <tr style=\"text-align: right;\">\n",
       "      <th></th>\n",
       "      <th>0</th>\n",
       "      <th>1</th>\n",
       "      <th>2</th>\n",
       "      <th>3</th>\n",
       "      <th>4</th>\n",
       "      <th>5</th>\n",
       "      <th>6</th>\n",
       "      <th>7</th>\n",
       "      <th>8</th>\n",
       "    </tr>\n",
       "  </thead>\n",
       "  <tbody>\n",
       "    <tr>\n",
       "      <th>0</th>\n",
       "      <td>Imagen</td>\n",
       "      <td>Nombre</td>\n",
       "      <td>Municipio</td>\n",
       "      <td>Provincia</td>\n",
       "      <td>Tipo</td>\n",
       "      <td>Grupos</td>\n",
       "      <td>Potencia</td>\n",
       "      <td>Propietario</td>\n",
       "      <td>Localización</td>\n",
       "    </tr>\n",
       "    <tr>\n",
       "      <th>1</th>\n",
       "      <td>Imagen</td>\n",
       "      <td>Nombre</td>\n",
       "      <td>Municipio</td>\n",
       "      <td>Provincia</td>\n",
       "      <td>Tipo</td>\n",
       "      <td>Grupos</td>\n",
       "      <td>Potencia</td>\n",
       "      <td>Propietario</td>\n",
       "      <td>Localización</td>\n",
       "    </tr>\n",
       "    <tr>\n",
       "      <th>2</th>\n",
       "      <td>Imagen</td>\n",
       "      <td>Nombre</td>\n",
       "      <td>Concejo</td>\n",
       "      <td>Provincia</td>\n",
       "      <td>Tipo</td>\n",
       "      <td>Grupos</td>\n",
       "      <td>Potencia</td>\n",
       "      <td>Propietario</td>\n",
       "      <td>Localización</td>\n",
       "    </tr>\n",
       "    <tr>\n",
       "      <th>3</th>\n",
       "      <td>Imagen</td>\n",
       "      <td>Nombre</td>\n",
       "      <td>Municipio/isla</td>\n",
       "      <td>Provincia</td>\n",
       "      <td>Tipo</td>\n",
       "      <td>Grupos</td>\n",
       "      <td>Potencia</td>\n",
       "      <td>Propietario</td>\n",
       "      <td>Localización</td>\n",
       "    </tr>\n",
       "    <tr>\n",
       "      <th>4</th>\n",
       "      <td>Imagen</td>\n",
       "      <td>Nombre</td>\n",
       "      <td>Municipio/isla</td>\n",
       "      <td>Provincia</td>\n",
       "      <td>Tipo</td>\n",
       "      <td>Grupos</td>\n",
       "      <td>Potencia</td>\n",
       "      <td>Propietario</td>\n",
       "      <td>Localización</td>\n",
       "    </tr>\n",
       "    <tr>\n",
       "      <th>5</th>\n",
       "      <td>Imagen</td>\n",
       "      <td>Nombre</td>\n",
       "      <td>Municipio</td>\n",
       "      <td>Provincia</td>\n",
       "      <td>Tipo</td>\n",
       "      <td>Grupos</td>\n",
       "      <td>Potencia</td>\n",
       "      <td>Propietario</td>\n",
       "      <td>Localización</td>\n",
       "    </tr>\n",
       "    <tr>\n",
       "      <th>6</th>\n",
       "      <td>Imagen</td>\n",
       "      <td>Nombre</td>\n",
       "      <td>Municipio</td>\n",
       "      <td>Provincia</td>\n",
       "      <td>Tipo</td>\n",
       "      <td>Grupos</td>\n",
       "      <td>Potencia</td>\n",
       "      <td>Propietario</td>\n",
       "      <td>Localización</td>\n",
       "    </tr>\n",
       "    <tr>\n",
       "      <th>7</th>\n",
       "      <td>Imagen</td>\n",
       "      <td>Nombre</td>\n",
       "      <td>Municipio</td>\n",
       "      <td>Provincia</td>\n",
       "      <td>Tipo</td>\n",
       "      <td>Grupos</td>\n",
       "      <td>Potencia</td>\n",
       "      <td>Propietario</td>\n",
       "      <td>Localización</td>\n",
       "    </tr>\n",
       "    <tr>\n",
       "      <th>8</th>\n",
       "      <td>Imagen</td>\n",
       "      <td>Nombre</td>\n",
       "      <td>Municipio</td>\n",
       "      <td>Provincia</td>\n",
       "      <td>Tipo</td>\n",
       "      <td>Grupos</td>\n",
       "      <td>Potencia</td>\n",
       "      <td>Propietario</td>\n",
       "      <td>Localización</td>\n",
       "    </tr>\n",
       "    <tr>\n",
       "      <th>9</th>\n",
       "      <td>Imagen</td>\n",
       "      <td>Nombre</td>\n",
       "      <td>Municipio</td>\n",
       "      <td>Provincia</td>\n",
       "      <td>Tipo</td>\n",
       "      <td>Grupos</td>\n",
       "      <td>Potencia</td>\n",
       "      <td>Propietario</td>\n",
       "      <td>Localización</td>\n",
       "    </tr>\n",
       "    <tr>\n",
       "      <th>10</th>\n",
       "      <td>Imagen</td>\n",
       "      <td>Nombre</td>\n",
       "      <td>Municipio</td>\n",
       "      <td>Provincia</td>\n",
       "      <td>Tipo</td>\n",
       "      <td>Grupos</td>\n",
       "      <td>Potencia</td>\n",
       "      <td>Propietario</td>\n",
       "      <td>Localización</td>\n",
       "    </tr>\n",
       "    <tr>\n",
       "      <th>11</th>\n",
       "      <td>Imagen</td>\n",
       "      <td>Nombre</td>\n",
       "      <td>Municipio</td>\n",
       "      <td>Provincia</td>\n",
       "      <td>Tipo</td>\n",
       "      <td>Grupos</td>\n",
       "      <td>Potencia</td>\n",
       "      <td>Propietario</td>\n",
       "      <td>Localización</td>\n",
       "    </tr>\n",
       "    <tr>\n",
       "      <th>12</th>\n",
       "      <td>Imagen</td>\n",
       "      <td>Nombre</td>\n",
       "      <td>Municipio</td>\n",
       "      <td>Provincia</td>\n",
       "      <td>Tipo</td>\n",
       "      <td>Grupos</td>\n",
       "      <td>Potencia</td>\n",
       "      <td>Propietario</td>\n",
       "      <td>Localización</td>\n",
       "    </tr>\n",
       "    <tr>\n",
       "      <th>13</th>\n",
       "      <td>Imagen</td>\n",
       "      <td>Nombre</td>\n",
       "      <td>Municipio</td>\n",
       "      <td>Provincia</td>\n",
       "      <td>Tipo</td>\n",
       "      <td>Grupos</td>\n",
       "      <td>Potencia</td>\n",
       "      <td>Propietario</td>\n",
       "      <td>Localización</td>\n",
       "    </tr>\n",
       "    <tr>\n",
       "      <th>14</th>\n",
       "      <td>Imagen</td>\n",
       "      <td>Nombre</td>\n",
       "      <td>Municipio</td>\n",
       "      <td>Provincia</td>\n",
       "      <td>Tipo</td>\n",
       "      <td>Grupos</td>\n",
       "      <td>Potencia</td>\n",
       "      <td>Propietario</td>\n",
       "      <td>Localización</td>\n",
       "    </tr>\n",
       "    <tr>\n",
       "      <th>15</th>\n",
       "      <td>Imagen</td>\n",
       "      <td>Nombre</td>\n",
       "      <td>Municipio</td>\n",
       "      <td>Provincia</td>\n",
       "      <td>Tipo</td>\n",
       "      <td>Grupos</td>\n",
       "      <td>Potencia</td>\n",
       "      <td>Propietario</td>\n",
       "      <td>Localización</td>\n",
       "    </tr>\n",
       "  </tbody>\n",
       "</table>\n",
       "</div>"
      ],
      "text/plain": [
       "         0       1               2          3     4       5         6  \\\n",
       "0   Imagen  Nombre       Municipio  Provincia  Tipo  Grupos  Potencia   \n",
       "1   Imagen  Nombre       Municipio  Provincia  Tipo  Grupos  Potencia   \n",
       "2   Imagen  Nombre         Concejo  Provincia  Tipo  Grupos  Potencia   \n",
       "3   Imagen  Nombre  Municipio/isla  Provincia  Tipo  Grupos  Potencia   \n",
       "4   Imagen  Nombre  Municipio/isla  Provincia  Tipo  Grupos  Potencia   \n",
       "5   Imagen  Nombre       Municipio  Provincia  Tipo  Grupos  Potencia   \n",
       "6   Imagen  Nombre       Municipio  Provincia  Tipo  Grupos  Potencia   \n",
       "7   Imagen  Nombre       Municipio  Provincia  Tipo  Grupos  Potencia   \n",
       "8   Imagen  Nombre       Municipio  Provincia  Tipo  Grupos  Potencia   \n",
       "9   Imagen  Nombre       Municipio  Provincia  Tipo  Grupos  Potencia   \n",
       "10  Imagen  Nombre       Municipio  Provincia  Tipo  Grupos  Potencia   \n",
       "11  Imagen  Nombre       Municipio  Provincia  Tipo  Grupos  Potencia   \n",
       "12  Imagen  Nombre       Municipio  Provincia  Tipo  Grupos  Potencia   \n",
       "13  Imagen  Nombre       Municipio  Provincia  Tipo  Grupos  Potencia   \n",
       "14  Imagen  Nombre       Municipio  Provincia  Tipo  Grupos  Potencia   \n",
       "15  Imagen  Nombre       Municipio  Provincia  Tipo  Grupos  Potencia   \n",
       "\n",
       "              7             8  \n",
       "0   Propietario  Localización  \n",
       "1   Propietario  Localización  \n",
       "2   Propietario  Localización  \n",
       "3   Propietario  Localización  \n",
       "4   Propietario  Localización  \n",
       "5   Propietario  Localización  \n",
       "6   Propietario  Localización  \n",
       "7   Propietario  Localización  \n",
       "8   Propietario  Localización  \n",
       "9   Propietario  Localización  \n",
       "10  Propietario  Localización  \n",
       "11  Propietario  Localización  \n",
       "12  Propietario  Localización  \n",
       "13  Propietario  Localización  \n",
       "14  Propietario  Localización  \n",
       "15  Propietario  Localización  "
      ]
     },
     "execution_count": 31,
     "metadata": {},
     "output_type": "execute_result"
    }
   ],
   "source": [
    "pd.DataFrame([list(df) for df in ldfs])"
   ]
  },
  {
   "cell_type": "code",
   "execution_count": 32,
   "metadata": {},
   "outputs": [],
   "source": [
    "ldfs[2].rename(index=str, columns={\"Concejo\": \"Municipio\"},inplace=True)"
   ]
  },
  {
   "cell_type": "code",
   "execution_count": 33,
   "metadata": {},
   "outputs": [],
   "source": [
    "[df.rename(index=str, columns={\"Municipio/isla\": \"Municipio\"},inplace=True) for df in ldfs[2:5]];"
   ]
  },
  {
   "cell_type": "code",
   "execution_count": 34,
   "metadata": {},
   "outputs": [
    {
     "data": {
      "text/html": [
       "<div>\n",
       "<style scoped>\n",
       "    .dataframe tbody tr th:only-of-type {\n",
       "        vertical-align: middle;\n",
       "    }\n",
       "\n",
       "    .dataframe tbody tr th {\n",
       "        vertical-align: top;\n",
       "    }\n",
       "\n",
       "    .dataframe thead th {\n",
       "        text-align: right;\n",
       "    }\n",
       "</style>\n",
       "<table border=\"1\" class=\"dataframe\">\n",
       "  <thead>\n",
       "    <tr style=\"text-align: right;\">\n",
       "      <th></th>\n",
       "      <th>0</th>\n",
       "      <th>1</th>\n",
       "      <th>2</th>\n",
       "      <th>3</th>\n",
       "      <th>4</th>\n",
       "      <th>5</th>\n",
       "      <th>6</th>\n",
       "      <th>7</th>\n",
       "      <th>8</th>\n",
       "    </tr>\n",
       "  </thead>\n",
       "  <tbody>\n",
       "    <tr>\n",
       "      <th>0</th>\n",
       "      <td>Imagen</td>\n",
       "      <td>Nombre</td>\n",
       "      <td>Municipio</td>\n",
       "      <td>Provincia</td>\n",
       "      <td>Tipo</td>\n",
       "      <td>Grupos</td>\n",
       "      <td>Potencia</td>\n",
       "      <td>Propietario</td>\n",
       "      <td>Localización</td>\n",
       "    </tr>\n",
       "    <tr>\n",
       "      <th>1</th>\n",
       "      <td>Imagen</td>\n",
       "      <td>Nombre</td>\n",
       "      <td>Municipio</td>\n",
       "      <td>Provincia</td>\n",
       "      <td>Tipo</td>\n",
       "      <td>Grupos</td>\n",
       "      <td>Potencia</td>\n",
       "      <td>Propietario</td>\n",
       "      <td>Localización</td>\n",
       "    </tr>\n",
       "    <tr>\n",
       "      <th>2</th>\n",
       "      <td>Imagen</td>\n",
       "      <td>Nombre</td>\n",
       "      <td>Municipio</td>\n",
       "      <td>Provincia</td>\n",
       "      <td>Tipo</td>\n",
       "      <td>Grupos</td>\n",
       "      <td>Potencia</td>\n",
       "      <td>Propietario</td>\n",
       "      <td>Localización</td>\n",
       "    </tr>\n",
       "    <tr>\n",
       "      <th>3</th>\n",
       "      <td>Imagen</td>\n",
       "      <td>Nombre</td>\n",
       "      <td>Municipio</td>\n",
       "      <td>Provincia</td>\n",
       "      <td>Tipo</td>\n",
       "      <td>Grupos</td>\n",
       "      <td>Potencia</td>\n",
       "      <td>Propietario</td>\n",
       "      <td>Localización</td>\n",
       "    </tr>\n",
       "    <tr>\n",
       "      <th>4</th>\n",
       "      <td>Imagen</td>\n",
       "      <td>Nombre</td>\n",
       "      <td>Municipio</td>\n",
       "      <td>Provincia</td>\n",
       "      <td>Tipo</td>\n",
       "      <td>Grupos</td>\n",
       "      <td>Potencia</td>\n",
       "      <td>Propietario</td>\n",
       "      <td>Localización</td>\n",
       "    </tr>\n",
       "    <tr>\n",
       "      <th>5</th>\n",
       "      <td>Imagen</td>\n",
       "      <td>Nombre</td>\n",
       "      <td>Municipio</td>\n",
       "      <td>Provincia</td>\n",
       "      <td>Tipo</td>\n",
       "      <td>Grupos</td>\n",
       "      <td>Potencia</td>\n",
       "      <td>Propietario</td>\n",
       "      <td>Localización</td>\n",
       "    </tr>\n",
       "    <tr>\n",
       "      <th>6</th>\n",
       "      <td>Imagen</td>\n",
       "      <td>Nombre</td>\n",
       "      <td>Municipio</td>\n",
       "      <td>Provincia</td>\n",
       "      <td>Tipo</td>\n",
       "      <td>Grupos</td>\n",
       "      <td>Potencia</td>\n",
       "      <td>Propietario</td>\n",
       "      <td>Localización</td>\n",
       "    </tr>\n",
       "    <tr>\n",
       "      <th>7</th>\n",
       "      <td>Imagen</td>\n",
       "      <td>Nombre</td>\n",
       "      <td>Municipio</td>\n",
       "      <td>Provincia</td>\n",
       "      <td>Tipo</td>\n",
       "      <td>Grupos</td>\n",
       "      <td>Potencia</td>\n",
       "      <td>Propietario</td>\n",
       "      <td>Localización</td>\n",
       "    </tr>\n",
       "    <tr>\n",
       "      <th>8</th>\n",
       "      <td>Imagen</td>\n",
       "      <td>Nombre</td>\n",
       "      <td>Municipio</td>\n",
       "      <td>Provincia</td>\n",
       "      <td>Tipo</td>\n",
       "      <td>Grupos</td>\n",
       "      <td>Potencia</td>\n",
       "      <td>Propietario</td>\n",
       "      <td>Localización</td>\n",
       "    </tr>\n",
       "    <tr>\n",
       "      <th>9</th>\n",
       "      <td>Imagen</td>\n",
       "      <td>Nombre</td>\n",
       "      <td>Municipio</td>\n",
       "      <td>Provincia</td>\n",
       "      <td>Tipo</td>\n",
       "      <td>Grupos</td>\n",
       "      <td>Potencia</td>\n",
       "      <td>Propietario</td>\n",
       "      <td>Localización</td>\n",
       "    </tr>\n",
       "    <tr>\n",
       "      <th>10</th>\n",
       "      <td>Imagen</td>\n",
       "      <td>Nombre</td>\n",
       "      <td>Municipio</td>\n",
       "      <td>Provincia</td>\n",
       "      <td>Tipo</td>\n",
       "      <td>Grupos</td>\n",
       "      <td>Potencia</td>\n",
       "      <td>Propietario</td>\n",
       "      <td>Localización</td>\n",
       "    </tr>\n",
       "    <tr>\n",
       "      <th>11</th>\n",
       "      <td>Imagen</td>\n",
       "      <td>Nombre</td>\n",
       "      <td>Municipio</td>\n",
       "      <td>Provincia</td>\n",
       "      <td>Tipo</td>\n",
       "      <td>Grupos</td>\n",
       "      <td>Potencia</td>\n",
       "      <td>Propietario</td>\n",
       "      <td>Localización</td>\n",
       "    </tr>\n",
       "    <tr>\n",
       "      <th>12</th>\n",
       "      <td>Imagen</td>\n",
       "      <td>Nombre</td>\n",
       "      <td>Municipio</td>\n",
       "      <td>Provincia</td>\n",
       "      <td>Tipo</td>\n",
       "      <td>Grupos</td>\n",
       "      <td>Potencia</td>\n",
       "      <td>Propietario</td>\n",
       "      <td>Localización</td>\n",
       "    </tr>\n",
       "    <tr>\n",
       "      <th>13</th>\n",
       "      <td>Imagen</td>\n",
       "      <td>Nombre</td>\n",
       "      <td>Municipio</td>\n",
       "      <td>Provincia</td>\n",
       "      <td>Tipo</td>\n",
       "      <td>Grupos</td>\n",
       "      <td>Potencia</td>\n",
       "      <td>Propietario</td>\n",
       "      <td>Localización</td>\n",
       "    </tr>\n",
       "    <tr>\n",
       "      <th>14</th>\n",
       "      <td>Imagen</td>\n",
       "      <td>Nombre</td>\n",
       "      <td>Municipio</td>\n",
       "      <td>Provincia</td>\n",
       "      <td>Tipo</td>\n",
       "      <td>Grupos</td>\n",
       "      <td>Potencia</td>\n",
       "      <td>Propietario</td>\n",
       "      <td>Localización</td>\n",
       "    </tr>\n",
       "    <tr>\n",
       "      <th>15</th>\n",
       "      <td>Imagen</td>\n",
       "      <td>Nombre</td>\n",
       "      <td>Municipio</td>\n",
       "      <td>Provincia</td>\n",
       "      <td>Tipo</td>\n",
       "      <td>Grupos</td>\n",
       "      <td>Potencia</td>\n",
       "      <td>Propietario</td>\n",
       "      <td>Localización</td>\n",
       "    </tr>\n",
       "  </tbody>\n",
       "</table>\n",
       "</div>"
      ],
      "text/plain": [
       "         0       1          2          3     4       5         6            7  \\\n",
       "0   Imagen  Nombre  Municipio  Provincia  Tipo  Grupos  Potencia  Propietario   \n",
       "1   Imagen  Nombre  Municipio  Provincia  Tipo  Grupos  Potencia  Propietario   \n",
       "2   Imagen  Nombre  Municipio  Provincia  Tipo  Grupos  Potencia  Propietario   \n",
       "3   Imagen  Nombre  Municipio  Provincia  Tipo  Grupos  Potencia  Propietario   \n",
       "4   Imagen  Nombre  Municipio  Provincia  Tipo  Grupos  Potencia  Propietario   \n",
       "5   Imagen  Nombre  Municipio  Provincia  Tipo  Grupos  Potencia  Propietario   \n",
       "6   Imagen  Nombre  Municipio  Provincia  Tipo  Grupos  Potencia  Propietario   \n",
       "7   Imagen  Nombre  Municipio  Provincia  Tipo  Grupos  Potencia  Propietario   \n",
       "8   Imagen  Nombre  Municipio  Provincia  Tipo  Grupos  Potencia  Propietario   \n",
       "9   Imagen  Nombre  Municipio  Provincia  Tipo  Grupos  Potencia  Propietario   \n",
       "10  Imagen  Nombre  Municipio  Provincia  Tipo  Grupos  Potencia  Propietario   \n",
       "11  Imagen  Nombre  Municipio  Provincia  Tipo  Grupos  Potencia  Propietario   \n",
       "12  Imagen  Nombre  Municipio  Provincia  Tipo  Grupos  Potencia  Propietario   \n",
       "13  Imagen  Nombre  Municipio  Provincia  Tipo  Grupos  Potencia  Propietario   \n",
       "14  Imagen  Nombre  Municipio  Provincia  Tipo  Grupos  Potencia  Propietario   \n",
       "15  Imagen  Nombre  Municipio  Provincia  Tipo  Grupos  Potencia  Propietario   \n",
       "\n",
       "               8  \n",
       "0   Localización  \n",
       "1   Localización  \n",
       "2   Localización  \n",
       "3   Localización  \n",
       "4   Localización  \n",
       "5   Localización  \n",
       "6   Localización  \n",
       "7   Localización  \n",
       "8   Localización  \n",
       "9   Localización  \n",
       "10  Localización  \n",
       "11  Localización  \n",
       "12  Localización  \n",
       "13  Localización  \n",
       "14  Localización  \n",
       "15  Localización  "
      ]
     },
     "execution_count": 34,
     "metadata": {},
     "output_type": "execute_result"
    }
   ],
   "source": [
    "pd.DataFrame([list(df) for df in ldfs])"
   ]
  },
  {
   "cell_type": "code",
   "execution_count": 35,
   "metadata": {},
   "outputs": [
    {
     "data": {
      "text/html": [
       "<div>\n",
       "<style scoped>\n",
       "    .dataframe tbody tr th:only-of-type {\n",
       "        vertical-align: middle;\n",
       "    }\n",
       "\n",
       "    .dataframe tbody tr th {\n",
       "        vertical-align: top;\n",
       "    }\n",
       "\n",
       "    .dataframe thead th {\n",
       "        text-align: right;\n",
       "    }\n",
       "</style>\n",
       "<table border=\"1\" class=\"dataframe\">\n",
       "  <thead>\n",
       "    <tr style=\"text-align: right;\">\n",
       "      <th></th>\n",
       "      <th>Imagen</th>\n",
       "      <th>Nombre</th>\n",
       "      <th>Municipio</th>\n",
       "      <th>Provincia</th>\n",
       "      <th>Tipo</th>\n",
       "      <th>Grupos</th>\n",
       "      <th>Potencia</th>\n",
       "      <th>Propietario</th>\n",
       "      <th>Localización</th>\n",
       "    </tr>\n",
       "  </thead>\n",
       "  <tbody>\n",
       "    <tr>\n",
       "      <th>0</th>\n",
       "      <td>NaN</td>\n",
       "      <td>Central térmica Litoral de Almería</td>\n",
       "      <td>Carboneras</td>\n",
       "      <td>Almería</td>\n",
       "      <td>convencional</td>\n",
       "      <td>2</td>\n",
       "      <td>1159 MW</td>\n",
       "      <td>Endesa[6]​[7]​</td>\n",
       "      <td>36°58′40″N 1°54′16″O﻿ / ﻿36.97778, -1.90444</td>\n",
       "    </tr>\n",
       "    <tr>\n",
       "      <th>1</th>\n",
       "      <td>NaN</td>\n",
       "      <td>Central térmica de Arcos</td>\n",
       "      <td>Arcos de la Frontera</td>\n",
       "      <td>Cádiz</td>\n",
       "      <td>c. combinado</td>\n",
       "      <td>3</td>\n",
       "      <td>1613 MW</td>\n",
       "      <td>Iberdrola[8]​[6]​[9]​</td>\n",
       "      <td>36°40′21″N 5°48′58″O﻿ / ﻿36.67250, -5.81611</td>\n",
       "    </tr>\n",
       "    <tr>\n",
       "      <th>2</th>\n",
       "      <td>NaN</td>\n",
       "      <td>Central térmica Bahía de Algeciras</td>\n",
       "      <td>San Roque</td>\n",
       "      <td>Cádiz</td>\n",
       "      <td>c. combinado</td>\n",
       "      <td>2</td>\n",
       "      <td>800 MW</td>\n",
       "      <td>Repsol[6]​[10]​</td>\n",
       "      <td>36°10′58″N 5°23′22″O﻿ / ﻿36.18278, -5.38944</td>\n",
       "    </tr>\n",
       "    <tr>\n",
       "      <th>3</th>\n",
       "      <td>NaN</td>\n",
       "      <td>Central térmica Campo de Gibraltar</td>\n",
       "      <td>San Roque</td>\n",
       "      <td>Cádiz</td>\n",
       "      <td>c. combinado</td>\n",
       "      <td>2</td>\n",
       "      <td>789 MW</td>\n",
       "      <td>Naturgy / CEPSA[11]​[6]​</td>\n",
       "      <td>36°11′00″N 5°23′35″O﻿ / ﻿36.18333, -5.39306</td>\n",
       "    </tr>\n",
       "    <tr>\n",
       "      <th>4</th>\n",
       "      <td>NaN</td>\n",
       "      <td>Central de ciclo combinado de San Roque</td>\n",
       "      <td>San Roque</td>\n",
       "      <td>Cádiz</td>\n",
       "      <td>c. combinado</td>\n",
       "      <td>2</td>\n",
       "      <td>800 MW</td>\n",
       "      <td>Endesa / Naturgy[6]​[7]​[12]​</td>\n",
       "      <td>36°11′44″N 5°24′47″O﻿ / ﻿36.19556, -5.41306</td>\n",
       "    </tr>\n",
       "  </tbody>\n",
       "</table>\n",
       "</div>"
      ],
      "text/plain": [
       "   Imagen                                   Nombre             Municipio  \\\n",
       "0     NaN       Central térmica Litoral de Almería            Carboneras   \n",
       "1     NaN                 Central térmica de Arcos  Arcos de la Frontera   \n",
       "2     NaN       Central térmica Bahía de Algeciras             San Roque   \n",
       "3     NaN       Central térmica Campo de Gibraltar             San Roque   \n",
       "4     NaN  Central de ciclo combinado de San Roque             San Roque   \n",
       "\n",
       "  Provincia          Tipo Grupos Potencia                    Propietario  \\\n",
       "0   Almería  convencional      2  1159 MW                 Endesa[6]​[7]​   \n",
       "1     Cádiz  c. combinado      3  1613 MW          Iberdrola[8]​[6]​[9]​   \n",
       "2     Cádiz  c. combinado      2   800 MW                Repsol[6]​[10]​   \n",
       "3     Cádiz  c. combinado      2   789 MW       Naturgy / CEPSA[11]​[6]​   \n",
       "4     Cádiz  c. combinado      2   800 MW  Endesa / Naturgy[6]​[7]​[12]​   \n",
       "\n",
       "                                  Localización  \n",
       "0  36°58′40″N 1°54′16″O﻿ / ﻿36.97778, -1.90444  \n",
       "1  36°40′21″N 5°48′58″O﻿ / ﻿36.67250, -5.81611  \n",
       "2  36°10′58″N 5°23′22″O﻿ / ﻿36.18278, -5.38944  \n",
       "3  36°11′00″N 5°23′35″O﻿ / ﻿36.18333, -5.39306  \n",
       "4  36°11′44″N 5°24′47″O﻿ / ﻿36.19556, -5.41306  "
      ]
     },
     "execution_count": 35,
     "metadata": {},
     "output_type": "execute_result"
    }
   ],
   "source": [
    "df = pd.concat(ldfs)\n",
    "df.head()"
   ]
  },
  {
   "cell_type": "code",
   "execution_count": 36,
   "metadata": {},
   "outputs": [],
   "source": [
    "df.reset_index(drop=True,inplace=True)"
   ]
  },
  {
   "cell_type": "code",
   "execution_count": 37,
   "metadata": {},
   "outputs": [],
   "source": [
    "df.rename(index=str, columns={\n",
    "    \"Imagen\": \"Image\",\n",
    "    \"Nombre\": \"Name\",\n",
    "    \"Municipio\": \"Township\",\n",
    "    \"Provincia\": \"Province\",\n",
    "    \"Tipo\":\"Type\",\n",
    "    \"Grupos\":\"Groups\",\n",
    "    \"Potencia\":\"Power\",\n",
    "    \"Propietario\":\"Owners\",\n",
    "    \"Localización\":\"Loc\"\n",
    "},inplace=True) "
   ]
  },
  {
   "cell_type": "markdown",
   "metadata": {},
   "source": [
    "Remove Image column, as we have no images there."
   ]
  },
  {
   "cell_type": "code",
   "execution_count": 38,
   "metadata": {},
   "outputs": [
    {
     "data": {
      "text/html": [
       "<div>\n",
       "<style scoped>\n",
       "    .dataframe tbody tr th:only-of-type {\n",
       "        vertical-align: middle;\n",
       "    }\n",
       "\n",
       "    .dataframe tbody tr th {\n",
       "        vertical-align: top;\n",
       "    }\n",
       "\n",
       "    .dataframe thead th {\n",
       "        text-align: right;\n",
       "    }\n",
       "</style>\n",
       "<table border=\"1\" class=\"dataframe\">\n",
       "  <thead>\n",
       "    <tr style=\"text-align: right;\">\n",
       "      <th></th>\n",
       "      <th>Name</th>\n",
       "      <th>Township</th>\n",
       "      <th>Province</th>\n",
       "      <th>Type</th>\n",
       "      <th>Groups</th>\n",
       "      <th>Power</th>\n",
       "      <th>Owners</th>\n",
       "      <th>Loc</th>\n",
       "    </tr>\n",
       "  </thead>\n",
       "  <tbody>\n",
       "    <tr>\n",
       "      <th>0</th>\n",
       "      <td>Central térmica Litoral de Almería</td>\n",
       "      <td>Carboneras</td>\n",
       "      <td>Almería</td>\n",
       "      <td>convencional</td>\n",
       "      <td>2</td>\n",
       "      <td>1159 MW</td>\n",
       "      <td>Endesa[6]​[7]​</td>\n",
       "      <td>36°58′40″N 1°54′16″O﻿ / ﻿36.97778, -1.90444</td>\n",
       "    </tr>\n",
       "    <tr>\n",
       "      <th>1</th>\n",
       "      <td>Central térmica de Arcos</td>\n",
       "      <td>Arcos de la Frontera</td>\n",
       "      <td>Cádiz</td>\n",
       "      <td>c. combinado</td>\n",
       "      <td>3</td>\n",
       "      <td>1613 MW</td>\n",
       "      <td>Iberdrola[8]​[6]​[9]​</td>\n",
       "      <td>36°40′21″N 5°48′58″O﻿ / ﻿36.67250, -5.81611</td>\n",
       "    </tr>\n",
       "    <tr>\n",
       "      <th>2</th>\n",
       "      <td>Central térmica Bahía de Algeciras</td>\n",
       "      <td>San Roque</td>\n",
       "      <td>Cádiz</td>\n",
       "      <td>c. combinado</td>\n",
       "      <td>2</td>\n",
       "      <td>800 MW</td>\n",
       "      <td>Repsol[6]​[10]​</td>\n",
       "      <td>36°10′58″N 5°23′22″O﻿ / ﻿36.18278, -5.38944</td>\n",
       "    </tr>\n",
       "    <tr>\n",
       "      <th>3</th>\n",
       "      <td>Central térmica Campo de Gibraltar</td>\n",
       "      <td>San Roque</td>\n",
       "      <td>Cádiz</td>\n",
       "      <td>c. combinado</td>\n",
       "      <td>2</td>\n",
       "      <td>789 MW</td>\n",
       "      <td>Naturgy / CEPSA[11]​[6]​</td>\n",
       "      <td>36°11′00″N 5°23′35″O﻿ / ﻿36.18333, -5.39306</td>\n",
       "    </tr>\n",
       "    <tr>\n",
       "      <th>4</th>\n",
       "      <td>Central de ciclo combinado de San Roque</td>\n",
       "      <td>San Roque</td>\n",
       "      <td>Cádiz</td>\n",
       "      <td>c. combinado</td>\n",
       "      <td>2</td>\n",
       "      <td>800 MW</td>\n",
       "      <td>Endesa / Naturgy[6]​[7]​[12]​</td>\n",
       "      <td>36°11′44″N 5°24′47″O﻿ / ﻿36.19556, -5.41306</td>\n",
       "    </tr>\n",
       "  </tbody>\n",
       "</table>\n",
       "</div>"
      ],
      "text/plain": [
       "                                      Name              Township Province  \\\n",
       "0       Central térmica Litoral de Almería            Carboneras  Almería   \n",
       "1                 Central térmica de Arcos  Arcos de la Frontera    Cádiz   \n",
       "2       Central térmica Bahía de Algeciras             San Roque    Cádiz   \n",
       "3       Central térmica Campo de Gibraltar             San Roque    Cádiz   \n",
       "4  Central de ciclo combinado de San Roque             San Roque    Cádiz   \n",
       "\n",
       "           Type Groups    Power                         Owners  \\\n",
       "0  convencional      2  1159 MW                 Endesa[6]​[7]​   \n",
       "1  c. combinado      3  1613 MW          Iberdrola[8]​[6]​[9]​   \n",
       "2  c. combinado      2   800 MW                Repsol[6]​[10]​   \n",
       "3  c. combinado      2   789 MW       Naturgy / CEPSA[11]​[6]​   \n",
       "4  c. combinado      2   800 MW  Endesa / Naturgy[6]​[7]​[12]​   \n",
       "\n",
       "                                           Loc  \n",
       "0  36°58′40″N 1°54′16″O﻿ / ﻿36.97778, -1.90444  \n",
       "1  36°40′21″N 5°48′58″O﻿ / ﻿36.67250, -5.81611  \n",
       "2  36°10′58″N 5°23′22″O﻿ / ﻿36.18278, -5.38944  \n",
       "3  36°11′00″N 5°23′35″O﻿ / ﻿36.18333, -5.39306  \n",
       "4  36°11′44″N 5°24′47″O﻿ / ﻿36.19556, -5.41306  "
      ]
     },
     "execution_count": 38,
     "metadata": {},
     "output_type": "execute_result"
    }
   ],
   "source": [
    "del df[\"Image\"]\n",
    "df.head()"
   ]
  },
  {
   "cell_type": "markdown",
   "metadata": {},
   "source": [
    "Remove the MW in column Power and change the strings to floats, as Power should be a continuous variable."
   ]
  },
  {
   "cell_type": "code",
   "execution_count": 39,
   "metadata": {},
   "outputs": [
    {
     "data": {
      "text/html": [
       "<div>\n",
       "<style scoped>\n",
       "    .dataframe tbody tr th:only-of-type {\n",
       "        vertical-align: middle;\n",
       "    }\n",
       "\n",
       "    .dataframe tbody tr th {\n",
       "        vertical-align: top;\n",
       "    }\n",
       "\n",
       "    .dataframe thead th {\n",
       "        text-align: right;\n",
       "    }\n",
       "</style>\n",
       "<table border=\"1\" class=\"dataframe\">\n",
       "  <thead>\n",
       "    <tr style=\"text-align: right;\">\n",
       "      <th></th>\n",
       "      <th>0</th>\n",
       "      <th>1</th>\n",
       "      <th>2</th>\n",
       "      <th>3</th>\n",
       "      <th>4</th>\n",
       "      <th>5</th>\n",
       "      <th>6</th>\n",
       "      <th>7</th>\n",
       "      <th>8</th>\n",
       "      <th>9</th>\n",
       "      <th>...</th>\n",
       "      <th>51</th>\n",
       "      <th>52</th>\n",
       "      <th>53</th>\n",
       "      <th>54</th>\n",
       "      <th>55</th>\n",
       "      <th>56</th>\n",
       "      <th>57</th>\n",
       "      <th>58</th>\n",
       "      <th>59</th>\n",
       "      <th>60</th>\n",
       "    </tr>\n",
       "  </thead>\n",
       "  <tbody>\n",
       "    <tr>\n",
       "      <th>Power</th>\n",
       "      <td>1159 MW</td>\n",
       "      <td>1613 MW</td>\n",
       "      <td>800 MW</td>\n",
       "      <td>789 MW</td>\n",
       "      <td>800 MW</td>\n",
       "      <td>567 MW</td>\n",
       "      <td>324 MW</td>\n",
       "      <td>400 MW</td>\n",
       "      <td>1200 MW</td>\n",
       "      <td>400 MW</td>\n",
       "      <td>...</td>\n",
       "      <td>831 MW</td>\n",
       "      <td>1200 MW</td>\n",
       "      <td>842 MW</td>\n",
       "      <td>386 MW</td>\n",
       "      <td>795 MW</td>\n",
       "      <td>755 MW</td>\n",
       "      <td>402 MW</td>\n",
       "      <td>800 MW</td>\n",
       "      <td>1650 MW</td>\n",
       "      <td>1200 MW</td>\n",
       "    </tr>\n",
       "  </tbody>\n",
       "</table>\n",
       "<p>1 rows × 61 columns</p>\n",
       "</div>"
      ],
      "text/plain": [
       "             0        1       2       3       4       5       6       7  \\\n",
       "Power  1159 MW  1613 MW  800 MW  789 MW  800 MW  567 MW  324 MW  400 MW   \n",
       "\n",
       "             8       9  ...      51       52      53      54      55      56  \\\n",
       "Power  1200 MW  400 MW  ...  831 MW  1200 MW  842 MW  386 MW  795 MW  755 MW   \n",
       "\n",
       "           57      58       59       60  \n",
       "Power  402 MW  800 MW  1650 MW  1200 MW  \n",
       "\n",
       "[1 rows x 61 columns]"
      ]
     },
     "execution_count": 39,
     "metadata": {},
     "output_type": "execute_result"
    }
   ],
   "source": [
    "df[[\"Power\"]].T"
   ]
  },
  {
   "cell_type": "code",
   "execution_count": 40,
   "metadata": {},
   "outputs": [
    {
     "ename": "ValueError",
     "evalue": "could not convert string to float: '212MW'",
     "output_type": "error",
     "traceback": [
      "\u001b[0;31m---------------------------------------------------------------------------\u001b[0m",
      "\u001b[0;31mValueError\u001b[0m                                Traceback (most recent call last)",
      "\u001b[0;32m<ipython-input-40-ec40b1047841>\u001b[0m in \u001b[0;36m<module>\u001b[0;34m\u001b[0m\n\u001b[0;32m----> 1\u001b[0;31m \u001b[0mdf\u001b[0m\u001b[0;34m[\u001b[0m\u001b[0;34m\"Power\"\u001b[0m\u001b[0;34m]\u001b[0m\u001b[0;34m.\u001b[0m\u001b[0mapply\u001b[0m\u001b[0;34m(\u001b[0m\u001b[0;32mlambda\u001b[0m \u001b[0mx\u001b[0m\u001b[0;34m:\u001b[0m \u001b[0mfloat\u001b[0m\u001b[0;34m(\u001b[0m\u001b[0mx\u001b[0m\u001b[0;34m.\u001b[0m\u001b[0msplit\u001b[0m\u001b[0;34m(\u001b[0m\u001b[0;34m\" \"\u001b[0m\u001b[0;34m)\u001b[0m\u001b[0;34m[\u001b[0m\u001b[0;36m0\u001b[0m\u001b[0;34m]\u001b[0m\u001b[0;34m)\u001b[0m\u001b[0;34m)\u001b[0m\u001b[0;34m\u001b[0m\u001b[0;34m\u001b[0m\u001b[0m\n\u001b[0m",
      "\u001b[0;32m~/my_envs/tf20/lib/python3.6/site-packages/pandas/core/series.py\u001b[0m in \u001b[0;36mapply\u001b[0;34m(self, func, convert_dtype, args, **kwds)\u001b[0m\n\u001b[1;32m   3589\u001b[0m             \u001b[0;32melse\u001b[0m\u001b[0;34m:\u001b[0m\u001b[0;34m\u001b[0m\u001b[0;34m\u001b[0m\u001b[0m\n\u001b[1;32m   3590\u001b[0m                 \u001b[0mvalues\u001b[0m \u001b[0;34m=\u001b[0m \u001b[0mself\u001b[0m\u001b[0;34m.\u001b[0m\u001b[0mastype\u001b[0m\u001b[0;34m(\u001b[0m\u001b[0mobject\u001b[0m\u001b[0;34m)\u001b[0m\u001b[0;34m.\u001b[0m\u001b[0mvalues\u001b[0m\u001b[0;34m\u001b[0m\u001b[0;34m\u001b[0m\u001b[0m\n\u001b[0;32m-> 3591\u001b[0;31m                 \u001b[0mmapped\u001b[0m \u001b[0;34m=\u001b[0m \u001b[0mlib\u001b[0m\u001b[0;34m.\u001b[0m\u001b[0mmap_infer\u001b[0m\u001b[0;34m(\u001b[0m\u001b[0mvalues\u001b[0m\u001b[0;34m,\u001b[0m \u001b[0mf\u001b[0m\u001b[0;34m,\u001b[0m \u001b[0mconvert\u001b[0m\u001b[0;34m=\u001b[0m\u001b[0mconvert_dtype\u001b[0m\u001b[0;34m)\u001b[0m\u001b[0;34m\u001b[0m\u001b[0;34m\u001b[0m\u001b[0m\n\u001b[0m\u001b[1;32m   3592\u001b[0m \u001b[0;34m\u001b[0m\u001b[0m\n\u001b[1;32m   3593\u001b[0m         \u001b[0;32mif\u001b[0m \u001b[0mlen\u001b[0m\u001b[0;34m(\u001b[0m\u001b[0mmapped\u001b[0m\u001b[0;34m)\u001b[0m \u001b[0;32mand\u001b[0m \u001b[0misinstance\u001b[0m\u001b[0;34m(\u001b[0m\u001b[0mmapped\u001b[0m\u001b[0;34m[\u001b[0m\u001b[0;36m0\u001b[0m\u001b[0;34m]\u001b[0m\u001b[0;34m,\u001b[0m \u001b[0mSeries\u001b[0m\u001b[0;34m)\u001b[0m\u001b[0;34m:\u001b[0m\u001b[0;34m\u001b[0m\u001b[0;34m\u001b[0m\u001b[0m\n",
      "\u001b[0;32mpandas/_libs/lib.pyx\u001b[0m in \u001b[0;36mpandas._libs.lib.map_infer\u001b[0;34m()\u001b[0m\n",
      "\u001b[0;32m<ipython-input-40-ec40b1047841>\u001b[0m in \u001b[0;36m<lambda>\u001b[0;34m(x)\u001b[0m\n\u001b[0;32m----> 1\u001b[0;31m \u001b[0mdf\u001b[0m\u001b[0;34m[\u001b[0m\u001b[0;34m\"Power\"\u001b[0m\u001b[0;34m]\u001b[0m\u001b[0;34m.\u001b[0m\u001b[0mapply\u001b[0m\u001b[0;34m(\u001b[0m\u001b[0;32mlambda\u001b[0m \u001b[0mx\u001b[0m\u001b[0;34m:\u001b[0m \u001b[0mfloat\u001b[0m\u001b[0;34m(\u001b[0m\u001b[0mx\u001b[0m\u001b[0;34m.\u001b[0m\u001b[0msplit\u001b[0m\u001b[0;34m(\u001b[0m\u001b[0;34m\" \"\u001b[0m\u001b[0;34m)\u001b[0m\u001b[0;34m[\u001b[0m\u001b[0;36m0\u001b[0m\u001b[0;34m]\u001b[0m\u001b[0;34m)\u001b[0m\u001b[0;34m)\u001b[0m\u001b[0;34m\u001b[0m\u001b[0;34m\u001b[0m\u001b[0m\n\u001b[0m",
      "\u001b[0;31mValueError\u001b[0m: could not convert string to float: '212MW'"
     ]
    }
   ],
   "source": [
    "df[\"Power\"].apply(lambda x: float(x.split(\" \")[0]))"
   ]
  },
  {
   "cell_type": "code",
   "execution_count": 41,
   "metadata": {},
   "outputs": [],
   "source": [
    "df[\"Power\"][df[\"Power\"] == '212MW'] = \"212 MW\""
   ]
  },
  {
   "cell_type": "code",
   "execution_count": 42,
   "metadata": {},
   "outputs": [],
   "source": [
    "df[\"Power in MW\"] = df[\"Power\"].apply(lambda x: float(x.split(\" \")[0].replace(\",\",\".\")))"
   ]
  },
  {
   "cell_type": "code",
   "execution_count": 43,
   "metadata": {},
   "outputs": [],
   "source": [
    "del df[\"Power\"]"
   ]
  },
  {
   "cell_type": "code",
   "execution_count": 44,
   "metadata": {},
   "outputs": [
    {
     "data": {
      "text/html": [
       "<div>\n",
       "<style scoped>\n",
       "    .dataframe tbody tr th:only-of-type {\n",
       "        vertical-align: middle;\n",
       "    }\n",
       "\n",
       "    .dataframe tbody tr th {\n",
       "        vertical-align: top;\n",
       "    }\n",
       "\n",
       "    .dataframe thead th {\n",
       "        text-align: right;\n",
       "    }\n",
       "</style>\n",
       "<table border=\"1\" class=\"dataframe\">\n",
       "  <thead>\n",
       "    <tr style=\"text-align: right;\">\n",
       "      <th></th>\n",
       "      <th>Name</th>\n",
       "      <th>Township</th>\n",
       "      <th>Province</th>\n",
       "      <th>Type</th>\n",
       "      <th>Groups</th>\n",
       "      <th>Owners</th>\n",
       "      <th>Loc</th>\n",
       "      <th>Power in MW</th>\n",
       "    </tr>\n",
       "  </thead>\n",
       "  <tbody>\n",
       "    <tr>\n",
       "      <th>0</th>\n",
       "      <td>Central térmica Litoral de Almería</td>\n",
       "      <td>Carboneras</td>\n",
       "      <td>Almería</td>\n",
       "      <td>convencional</td>\n",
       "      <td>2</td>\n",
       "      <td>Endesa[6]​[7]​</td>\n",
       "      <td>36°58′40″N 1°54′16″O﻿ / ﻿36.97778, -1.90444</td>\n",
       "      <td>1159.0</td>\n",
       "    </tr>\n",
       "    <tr>\n",
       "      <th>1</th>\n",
       "      <td>Central térmica de Arcos</td>\n",
       "      <td>Arcos de la Frontera</td>\n",
       "      <td>Cádiz</td>\n",
       "      <td>c. combinado</td>\n",
       "      <td>3</td>\n",
       "      <td>Iberdrola[8]​[6]​[9]​</td>\n",
       "      <td>36°40′21″N 5°48′58″O﻿ / ﻿36.67250, -5.81611</td>\n",
       "      <td>1613.0</td>\n",
       "    </tr>\n",
       "    <tr>\n",
       "      <th>2</th>\n",
       "      <td>Central térmica Bahía de Algeciras</td>\n",
       "      <td>San Roque</td>\n",
       "      <td>Cádiz</td>\n",
       "      <td>c. combinado</td>\n",
       "      <td>2</td>\n",
       "      <td>Repsol[6]​[10]​</td>\n",
       "      <td>36°10′58″N 5°23′22″O﻿ / ﻿36.18278, -5.38944</td>\n",
       "      <td>800.0</td>\n",
       "    </tr>\n",
       "    <tr>\n",
       "      <th>3</th>\n",
       "      <td>Central térmica Campo de Gibraltar</td>\n",
       "      <td>San Roque</td>\n",
       "      <td>Cádiz</td>\n",
       "      <td>c. combinado</td>\n",
       "      <td>2</td>\n",
       "      <td>Naturgy / CEPSA[11]​[6]​</td>\n",
       "      <td>36°11′00″N 5°23′35″O﻿ / ﻿36.18333, -5.39306</td>\n",
       "      <td>789.0</td>\n",
       "    </tr>\n",
       "    <tr>\n",
       "      <th>4</th>\n",
       "      <td>Central de ciclo combinado de San Roque</td>\n",
       "      <td>San Roque</td>\n",
       "      <td>Cádiz</td>\n",
       "      <td>c. combinado</td>\n",
       "      <td>2</td>\n",
       "      <td>Endesa / Naturgy[6]​[7]​[12]​</td>\n",
       "      <td>36°11′44″N 5°24′47″O﻿ / ﻿36.19556, -5.41306</td>\n",
       "      <td>800.0</td>\n",
       "    </tr>\n",
       "  </tbody>\n",
       "</table>\n",
       "</div>"
      ],
      "text/plain": [
       "                                      Name              Township Province  \\\n",
       "0       Central térmica Litoral de Almería            Carboneras  Almería   \n",
       "1                 Central térmica de Arcos  Arcos de la Frontera    Cádiz   \n",
       "2       Central térmica Bahía de Algeciras             San Roque    Cádiz   \n",
       "3       Central térmica Campo de Gibraltar             San Roque    Cádiz   \n",
       "4  Central de ciclo combinado de San Roque             San Roque    Cádiz   \n",
       "\n",
       "           Type Groups                         Owners  \\\n",
       "0  convencional      2                 Endesa[6]​[7]​   \n",
       "1  c. combinado      3          Iberdrola[8]​[6]​[9]​   \n",
       "2  c. combinado      2                Repsol[6]​[10]​   \n",
       "3  c. combinado      2       Naturgy / CEPSA[11]​[6]​   \n",
       "4  c. combinado      2  Endesa / Naturgy[6]​[7]​[12]​   \n",
       "\n",
       "                                           Loc  Power in MW  \n",
       "0  36°58′40″N 1°54′16″O﻿ / ﻿36.97778, -1.90444       1159.0  \n",
       "1  36°40′21″N 5°48′58″O﻿ / ﻿36.67250, -5.81611       1613.0  \n",
       "2  36°10′58″N 5°23′22″O﻿ / ﻿36.18278, -5.38944        800.0  \n",
       "3  36°11′00″N 5°23′35″O﻿ / ﻿36.18333, -5.39306        789.0  \n",
       "4  36°11′44″N 5°24′47″O﻿ / ﻿36.19556, -5.41306        800.0  "
      ]
     },
     "execution_count": 44,
     "metadata": {},
     "output_type": "execute_result"
    }
   ],
   "source": [
    "df.head()"
   ]
  },
  {
   "cell_type": "markdown",
   "metadata": {},
   "source": [
    "Change variable Groups to ints"
   ]
  },
  {
   "cell_type": "code",
   "execution_count": 45,
   "metadata": {},
   "outputs": [
    {
     "data": {
      "text/html": [
       "<div>\n",
       "<style scoped>\n",
       "    .dataframe tbody tr th:only-of-type {\n",
       "        vertical-align: middle;\n",
       "    }\n",
       "\n",
       "    .dataframe tbody tr th {\n",
       "        vertical-align: top;\n",
       "    }\n",
       "\n",
       "    .dataframe thead th {\n",
       "        text-align: right;\n",
       "    }\n",
       "</style>\n",
       "<table border=\"1\" class=\"dataframe\">\n",
       "  <thead>\n",
       "    <tr style=\"text-align: right;\">\n",
       "      <th></th>\n",
       "      <th>0</th>\n",
       "      <th>1</th>\n",
       "      <th>2</th>\n",
       "      <th>3</th>\n",
       "      <th>4</th>\n",
       "      <th>5</th>\n",
       "      <th>6</th>\n",
       "      <th>7</th>\n",
       "      <th>8</th>\n",
       "      <th>9</th>\n",
       "      <th>...</th>\n",
       "      <th>51</th>\n",
       "      <th>52</th>\n",
       "      <th>53</th>\n",
       "      <th>54</th>\n",
       "      <th>55</th>\n",
       "      <th>56</th>\n",
       "      <th>57</th>\n",
       "      <th>58</th>\n",
       "      <th>59</th>\n",
       "      <th>60</th>\n",
       "    </tr>\n",
       "  </thead>\n",
       "  <tbody>\n",
       "    <tr>\n",
       "      <th>Groups</th>\n",
       "      <td>2</td>\n",
       "      <td>3</td>\n",
       "      <td>2</td>\n",
       "      <td>2</td>\n",
       "      <td>2</td>\n",
       "      <td>1</td>\n",
       "      <td>1</td>\n",
       "      <td>1</td>\n",
       "      <td>3</td>\n",
       "      <td>1</td>\n",
       "      <td>...</td>\n",
       "      <td>2</td>\n",
       "      <td>3</td>\n",
       "      <td>2</td>\n",
       "      <td>1</td>\n",
       "      <td>2</td>\n",
       "      <td>2</td>\n",
       "      <td>1</td>\n",
       "      <td>2</td>\n",
       "      <td>2</td>\n",
       "      <td>3</td>\n",
       "    </tr>\n",
       "  </tbody>\n",
       "</table>\n",
       "<p>1 rows × 61 columns</p>\n",
       "</div>"
      ],
      "text/plain": [
       "        0  1  2  3  4  5  6  7  8  9  ... 51 52 53 54 55 56 57 58 59 60\n",
       "Groups  2  3  2  2  2  1  1  1  3  1  ...  2  3  2  1  2  2  1  2  2  3\n",
       "\n",
       "[1 rows x 61 columns]"
      ]
     },
     "execution_count": 45,
     "metadata": {},
     "output_type": "execute_result"
    }
   ],
   "source": [
    "df[[\"Groups\"]].T"
   ]
  },
  {
   "cell_type": "code",
   "execution_count": 46,
   "metadata": {},
   "outputs": [
    {
     "data": {
      "text/plain": [
       "array([2, 3, 1, '2', '1', '3', '4 (2C+2CC)', 6, 5, '7(4C+3CC)', '13',\n",
       "       '11', '10', '9(6C+3CC)', '8', 4, '4(2C+2CC)', 10, '5(4C+1CC)'],\n",
       "      dtype=object)"
      ]
     },
     "execution_count": 46,
     "metadata": {},
     "output_type": "execute_result"
    }
   ],
   "source": [
    "df.Groups.unique()"
   ]
  },
  {
   "cell_type": "code",
   "execution_count": 47,
   "metadata": {},
   "outputs": [],
   "source": [
    "df[\"Groups\"] = df[\"Groups\"].apply(lambda x: int(str(x).split(\"(\")[0]))"
   ]
  },
  {
   "cell_type": "markdown",
   "metadata": {},
   "source": [
    "Now remove the references in the Owners column"
   ]
  },
  {
   "cell_type": "code",
   "execution_count": 48,
   "metadata": {},
   "outputs": [
    {
     "data": {
      "text/html": [
       "<div>\n",
       "<style scoped>\n",
       "    .dataframe tbody tr th:only-of-type {\n",
       "        vertical-align: middle;\n",
       "    }\n",
       "\n",
       "    .dataframe tbody tr th {\n",
       "        vertical-align: top;\n",
       "    }\n",
       "\n",
       "    .dataframe thead th {\n",
       "        text-align: right;\n",
       "    }\n",
       "</style>\n",
       "<table border=\"1\" class=\"dataframe\">\n",
       "  <thead>\n",
       "    <tr style=\"text-align: right;\">\n",
       "      <th></th>\n",
       "      <th>0</th>\n",
       "      <th>1</th>\n",
       "      <th>2</th>\n",
       "      <th>3</th>\n",
       "      <th>4</th>\n",
       "      <th>5</th>\n",
       "      <th>6</th>\n",
       "      <th>7</th>\n",
       "      <th>8</th>\n",
       "      <th>9</th>\n",
       "      <th>...</th>\n",
       "      <th>51</th>\n",
       "      <th>52</th>\n",
       "      <th>53</th>\n",
       "      <th>54</th>\n",
       "      <th>55</th>\n",
       "      <th>56</th>\n",
       "      <th>57</th>\n",
       "      <th>58</th>\n",
       "      <th>59</th>\n",
       "      <th>60</th>\n",
       "    </tr>\n",
       "  </thead>\n",
       "  <tbody>\n",
       "    <tr>\n",
       "      <th>Owners</th>\n",
       "      <td>Endesa[6]​[7]​</td>\n",
       "      <td>Iberdrola[8]​[6]​[9]​</td>\n",
       "      <td>Repsol[6]​[10]​</td>\n",
       "      <td>Naturgy / CEPSA[11]​[6]​</td>\n",
       "      <td>Endesa / Naturgy[6]​[7]​[12]​</td>\n",
       "      <td>Viesgo[13]​[6]​[14]​</td>\n",
       "      <td>Viesgo[6]​[14]​</td>\n",
       "      <td>Endesa[7]​[6]​</td>\n",
       "      <td>Naturgy[15]​[6]​</td>\n",
       "      <td>Naturgy[16]​[6]​</td>\n",
       "      <td>...</td>\n",
       "      <td>Iberdrola[9]​</td>\n",
       "      <td>Naturgy[41]​</td>\n",
       "      <td>HC Energía[42]​</td>\n",
       "      <td>Iberdrola[9]​</td>\n",
       "      <td>EVE / BP[9]​</td>\n",
       "      <td>ESB Co. / Osaka Gas[43]​[44]​</td>\n",
       "      <td>Iberdrola[9]​</td>\n",
       "      <td>ContourGlobal[45]​</td>\n",
       "      <td>Iberdrola[9]​</td>\n",
       "      <td>Naturgy[46]​[47]​</td>\n",
       "    </tr>\n",
       "  </tbody>\n",
       "</table>\n",
       "<p>1 rows × 61 columns</p>\n",
       "</div>"
      ],
      "text/plain": [
       "                     0                      1                2  \\\n",
       "Owners  Endesa[6]​[7]​  Iberdrola[8]​[6]​[9]​  Repsol[6]​[10]​   \n",
       "\n",
       "                               3                              4  \\\n",
       "Owners  Naturgy / CEPSA[11]​[6]​  Endesa / Naturgy[6]​[7]​[12]​   \n",
       "\n",
       "                           5                6               7  \\\n",
       "Owners  Viesgo[13]​[6]​[14]​  Viesgo[6]​[14]​  Endesa[7]​[6]​   \n",
       "\n",
       "                       8                 9  ...             51            52  \\\n",
       "Owners  Naturgy[15]​[6]​  Naturgy[16]​[6]​  ...  Iberdrola[9]​  Naturgy[41]​   \n",
       "\n",
       "                     53             54            55  \\\n",
       "Owners  HC Energía[42]​  Iberdrola[9]​  EVE / BP[9]​   \n",
       "\n",
       "                                   56             57                  58  \\\n",
       "Owners  ESB Co. / Osaka Gas[43]​[44]​  Iberdrola[9]​  ContourGlobal[45]​   \n",
       "\n",
       "                   59                 60  \n",
       "Owners  Iberdrola[9]​  Naturgy[46]​[47]​  \n",
       "\n",
       "[1 rows x 61 columns]"
      ]
     },
     "execution_count": 48,
     "metadata": {},
     "output_type": "execute_result"
    }
   ],
   "source": [
    "df[[\"Owners\"]].T"
   ]
  },
  {
   "cell_type": "code",
   "execution_count": 49,
   "metadata": {},
   "outputs": [
    {
     "data": {
      "text/plain": [
       "['Endesa[6]\\u200b[7]\\u200b',\n",
       " 'Iberdrola[8]\\u200b[6]\\u200b[9]\\u200b',\n",
       " 'Repsol[6]\\u200b[10]\\u200b',\n",
       " 'Naturgy / CEPSA[11]\\u200b[6]\\u200b',\n",
       " 'Endesa / Naturgy[6]\\u200b[7]\\u200b[12]\\u200b',\n",
       " 'Viesgo[13]\\u200b[6]\\u200b[14]\\u200b',\n",
       " 'Viesgo[6]\\u200b[14]\\u200b',\n",
       " 'Endesa[7]\\u200b[6]\\u200b',\n",
       " 'Naturgy[15]\\u200b[6]\\u200b',\n",
       " 'Naturgy[16]\\u200b[6]\\u200b',\n",
       " 'Endesa[7]\\u200b',\n",
       " 'Engie[17]\\u200b[18]\\u200b',\n",
       " 'Repsol[19]\\u200b[10]\\u200b',\n",
       " 'Global 3 Energía[19]\\u200b',\n",
       " 'HC Energía[20]\\u200b',\n",
       " 'Iberdrola[21]\\u200b',\n",
       " 'Hunosa[22]\\u200b',\n",
       " 'Naturgy[23]\\u200b',\n",
       " 'HC Energía[24]\\u200b',\n",
       " 'Endesa[25]\\u200b[7]\\u200b',\n",
       " 'Endesa[26]\\u200b[7]\\u200b',\n",
       " 'Endesa[27]\\u200b[7]\\u200b',\n",
       " 'Endesa[28]\\u200b[7]\\u200b',\n",
       " 'CEPSA[29]\\u200b[11]\\u200b',\n",
       " 'Naturgy[30]\\u200b',\n",
       " 'Iberdrola[21]\\u200b[31]\\u200b',\n",
       " 'Iberdrola / Naturgy[9]\\u200b',\n",
       " 'Naturgy[32]\\u200b',\n",
       " 'Endesa[7]\\u200b[33]\\u200b',\n",
       " 'Naturgy / Endesa[34]\\u200b[7]\\u200b',\n",
       " 'Viesgo[13]\\u200b[10]\\u200b',\n",
       " 'Iberdrola[9]\\u200b',\n",
       " 'Alpiq[35]\\u200b',\n",
       " 'Endesa[7]\\u200b[36]\\u200b',\n",
       " 'Naturgy[37]\\u200b',\n",
       " 'Endesa[7]\\u200b[38]\\u200b',\n",
       " 'Naturgy[39]\\u200b',\n",
       " 'Engie / AES[18]\\u200b[40]\\u200b',\n",
       " 'Naturgy[41]\\u200b',\n",
       " 'HC Energía[42]\\u200b',\n",
       " 'EVE / BP[9]\\u200b',\n",
       " 'ESB Co. / Osaka Gas[43]\\u200b[44]\\u200b',\n",
       " 'ContourGlobal[45]\\u200b',\n",
       " 'Naturgy[46]\\u200b[47]\\u200b']"
      ]
     },
     "execution_count": 49,
     "metadata": {},
     "output_type": "execute_result"
    }
   ],
   "source": [
    "df.Owners.unique().tolist()"
   ]
  },
  {
   "cell_type": "code",
   "execution_count": 50,
   "metadata": {},
   "outputs": [],
   "source": [
    "df[\"Owners\"] = df[\"Owners\"].apply(lambda x: x.split(\"[\")[0])"
   ]
  },
  {
   "cell_type": "code",
   "execution_count": 51,
   "metadata": {},
   "outputs": [
    {
     "data": {
      "text/plain": [
       "['Endesa',\n",
       " 'Iberdrola',\n",
       " 'Repsol',\n",
       " 'Naturgy / CEPSA',\n",
       " 'Endesa / Naturgy',\n",
       " 'Viesgo',\n",
       " 'Naturgy',\n",
       " 'Engie',\n",
       " 'Global 3 Energía',\n",
       " 'HC Energía',\n",
       " 'Hunosa',\n",
       " 'CEPSA',\n",
       " 'Iberdrola / Naturgy',\n",
       " 'Naturgy / Endesa',\n",
       " 'Alpiq',\n",
       " 'Engie / AES',\n",
       " 'EVE / BP',\n",
       " 'ESB Co. / Osaka Gas',\n",
       " 'ContourGlobal']"
      ]
     },
     "execution_count": 51,
     "metadata": {},
     "output_type": "execute_result"
    }
   ],
   "source": [
    "df.Owners.unique().tolist()"
   ]
  },
  {
   "cell_type": "markdown",
   "metadata": {},
   "source": [
    "Transform Loc column into Lat,Lon columns"
   ]
  },
  {
   "cell_type": "code",
   "execution_count": 52,
   "metadata": {},
   "outputs": [
    {
     "data": {
      "text/plain": [
       "0           36°58′40″N 1°54′16″O﻿ / ﻿36.97778, -1.90444\n",
       "1           36°40′21″N 5°48′58″O﻿ / ﻿36.67250, -5.81611\n",
       "2           36°10′58″N 5°23′22″O﻿ / ﻿36.18278, -5.38944\n",
       "3           36°11′00″N 5°23′35″O﻿ / ﻿36.18333, -5.39306\n",
       "4           36°11′44″N 5°24′47″O﻿ / ﻿36.19556, -5.41306\n",
       "5           36°10′58″N 5°25′12″O﻿ / ﻿36.18278, -5.42000\n",
       "6           38°06′38″N 4°56′05″O﻿ / ﻿38.11056, -4.93472\n",
       "7           37°12′57″N 6°56′39″O﻿ / ﻿37.21583, -6.94417\n",
       "8           37°11′03″N 6°53′09″O﻿ / ﻿37.18417, -6.88583\n",
       "9           36°44′54″N 4°33′46″O﻿ / ﻿36.74833, -4.56278\n",
       "10          40°59′52″N 0°22′58″O﻿ / ﻿40.99778, -0.38278\n",
       "11          41°13′00″N 0°17′34″O﻿ / ﻿41.21667, -0.29278\n",
       "12          41°17′49″N 0°20′23″O﻿ / ﻿41.29694, -0.33972\n",
       "13          41°16′50″N 0°13′04″O﻿ / ﻿41.28056, -0.21778\n",
       "14          43°33′11″N 5°43′23″O﻿ / ﻿43.55306, -5.72306\n",
       "15          43°18′29″N 5°42′00″O﻿ / ﻿43.30806, -5.70000\n",
       "16          43°16′23″N 5°48′33″O﻿ / ﻿43.27306, -5.80917\n",
       "17          43°17′31″N 6°23′38″O﻿ / ﻿43.29194, -6.39389\n",
       "18          43°18′45″N 5°52′28″O﻿ / ﻿43.31250, -5.87444\n",
       "19           39°48′38″N 3°05′31″E﻿ / ﻿39.81056, 3.09194\n",
       "20           39°34′04″N 2°41′22″E﻿ / ﻿39.56778, 2.68944\n",
       "21           39°38′54″N 2°40′51″E﻿ / ﻿39.64833, 2.68083\n",
       "22           39°53′48″N 4°15′31″E﻿ / ﻿39.89667, 4.25861\n",
       "23           38°55′08″N 1°25′52″E﻿ / ﻿38.91889, 1.43111\n",
       "24        27°48′15″N 15°26′15″O﻿ / ﻿27.80417, -15.43750\n",
       "25        28°02′32″N 15°24′40″O﻿ / ﻿28.04222, -15.41111\n",
       "26        28°30′15″N 13°50′41″O﻿ / ﻿28.50417, -13.84472\n",
       "27        28°58′45″N 13°31′00″O﻿ / ﻿28.97917, -13.51667\n",
       "28        28°22′53″N 16°21′27″O﻿ / ﻿28.38139, -16.35750\n",
       "29        28°05′06″N 16°29′40″O﻿ / ﻿28.08500, -16.49444\n",
       "                            ...                        \n",
       "31        28°39′56″N 17°46′04″O﻿ / ﻿28.66556, -17.76778\n",
       "32        27°46′41″N 17°54′27″O﻿ / ﻿27.77806, -17.90750\n",
       "33        28°05′17″N 17°07′04″O﻿ / ﻿28.08806, -17.11778\n",
       "34    28°6′0.21″N 16°40′52.96″O﻿ / ﻿28.1000583, -16....\n",
       "35          42°36′40″N 6°33′57″O﻿ / ﻿42.61111, -6.56583\n",
       "36          42°47′32″N 5°38′04″O﻿ / ﻿42.79222, -5.63444\n",
       "37          42°49′05″N 4°51′14″O﻿ / ﻿42.81806, -4.85389\n",
       "38          39°56′38″N 3°51′18″O﻿ / ﻿39.94389, -3.85500\n",
       "39           41°20′12″N 2°09′33″E﻿ / ﻿41.33667, 2.15917\n",
       "40           41°25′06″N 2°13′43″E﻿ / ﻿41.41833, 2.22861\n",
       "41           41°25′10″N 2°13′47″E﻿ / ﻿41.41944, 2.22972\n",
       "42           41°06′29″N 1°11′27″E﻿ / ﻿41.10806, 1.19083\n",
       "43           41°06′35″N 1°10′52″E﻿ / ﻿41.10972, 1.18111\n",
       "44           40°57′34″N 0°52′08″E﻿ / ﻿40.95944, 0.86889\n",
       "45          35°53′33″N 5°19′22″O﻿ / ﻿35.89250, -5.32278\n",
       "46          43°10′05″N 8°24′40″O﻿ / ﻿43.16806, -8.41111\n",
       "47          43°26′26″N 7°51′45″O﻿ / ﻿43.44056, -7.86250\n",
       "48          43°19′55″N 8°30′00″O﻿ / ﻿43.33194, -8.50000\n",
       "49          35°17′25″N 2°56′12″O﻿ / ﻿35.29028, -2.93667\n",
       "50          37°34′14″N 0°56′45″O﻿ / ﻿37.57056, -0.94583\n",
       "51          37°33′55″N 0°57′05″O﻿ / ﻿37.56528, -0.95139\n",
       "52          37°34′23″N 0°56′21″O﻿ / ﻿37.57306, -0.93917\n",
       "53          42°10′38″N 1°41′42″O﻿ / ﻿42.17722, -1.69500\n",
       "54          42°10′18″N 1°40′38″O﻿ / ﻿42.17167, -1.67722\n",
       "55          43°21′39″N 3°05′39″O﻿ / ﻿43.36083, -3.09417\n",
       "56          43°14′05″N 2°44′59″O﻿ / ﻿43.23472, -2.74972\n",
       "57          43°20′21″N 3°03′09″O﻿ / ﻿43.33917, -3.05250\n",
       "58          42°25′10″N 2°15′04″O﻿ / ﻿42.41944, -2.25111\n",
       "59           39°57′21″N 0°00′05″E﻿ / ﻿39.95583, 0.00139\n",
       "60          39°38′33″N 0°14′03″O﻿ / ﻿39.64250, -0.23417\n",
       "Name: Loc, Length: 61, dtype: object"
      ]
     },
     "execution_count": 52,
     "metadata": {},
     "output_type": "execute_result"
    }
   ],
   "source": [
    "df[\"Loc\"]"
   ]
  },
  {
   "cell_type": "code",
   "execution_count": 53,
   "metadata": {},
   "outputs": [],
   "source": [
    "df[\"Lat\"],df[\"Lon\"] = 0,0"
   ]
  },
  {
   "cell_type": "code",
   "execution_count": 54,
   "metadata": {},
   "outputs": [],
   "source": [
    "df[[\"Lat\",\"Lon\"]] = df[\"Loc\"].apply(lambda rd: rd.split(\"/\")[1].split(\",\")).values.tolist()"
   ]
  },
  {
   "cell_type": "code",
   "execution_count": 55,
   "metadata": {},
   "outputs": [
    {
     "data": {
      "text/html": [
       "<div>\n",
       "<style scoped>\n",
       "    .dataframe tbody tr th:only-of-type {\n",
       "        vertical-align: middle;\n",
       "    }\n",
       "\n",
       "    .dataframe tbody tr th {\n",
       "        vertical-align: top;\n",
       "    }\n",
       "\n",
       "    .dataframe thead th {\n",
       "        text-align: right;\n",
       "    }\n",
       "</style>\n",
       "<table border=\"1\" class=\"dataframe\">\n",
       "  <thead>\n",
       "    <tr style=\"text-align: right;\">\n",
       "      <th></th>\n",
       "      <th>Lat</th>\n",
       "      <th>Lon</th>\n",
       "    </tr>\n",
       "  </thead>\n",
       "  <tbody>\n",
       "    <tr>\n",
       "      <th>0</th>\n",
       "      <td>﻿36.97778</td>\n",
       "      <td>-1.90444</td>\n",
       "    </tr>\n",
       "    <tr>\n",
       "      <th>1</th>\n",
       "      <td>﻿36.67250</td>\n",
       "      <td>-5.81611</td>\n",
       "    </tr>\n",
       "    <tr>\n",
       "      <th>2</th>\n",
       "      <td>﻿36.18278</td>\n",
       "      <td>-5.38944</td>\n",
       "    </tr>\n",
       "    <tr>\n",
       "      <th>3</th>\n",
       "      <td>﻿36.18333</td>\n",
       "      <td>-5.39306</td>\n",
       "    </tr>\n",
       "    <tr>\n",
       "      <th>4</th>\n",
       "      <td>﻿36.19556</td>\n",
       "      <td>-5.41306</td>\n",
       "    </tr>\n",
       "  </tbody>\n",
       "</table>\n",
       "</div>"
      ],
      "text/plain": [
       "          Lat        Lon\n",
       "0   ﻿36.97778   -1.90444\n",
       "1   ﻿36.67250   -5.81611\n",
       "2   ﻿36.18278   -5.38944\n",
       "3   ﻿36.18333   -5.39306\n",
       "4   ﻿36.19556   -5.41306"
      ]
     },
     "execution_count": 55,
     "metadata": {},
     "output_type": "execute_result"
    }
   ],
   "source": [
    "df[[\"Lat\",\"Lon\"]].head()"
   ]
  },
  {
   "cell_type": "code",
   "execution_count": 56,
   "metadata": {},
   "outputs": [
    {
     "data": {
      "text/plain": [
       "Lat    object\n",
       "Lon    object\n",
       "dtype: object"
      ]
     },
     "execution_count": 56,
     "metadata": {},
     "output_type": "execute_result"
    }
   ],
   "source": [
    "df[[\"Lat\",\"Lon\"]].dtypes"
   ]
  },
  {
   "cell_type": "code",
   "execution_count": 57,
   "metadata": {},
   "outputs": [
    {
     "ename": "ValueError",
     "evalue": "could not convert string to float: ' \\ufeff36.97778'",
     "output_type": "error",
     "traceback": [
      "\u001b[0;31m---------------------------------------------------------------------------\u001b[0m",
      "\u001b[0;31mValueError\u001b[0m                                Traceback (most recent call last)",
      "\u001b[0;32m<ipython-input-57-c9724bbe34fc>\u001b[0m in \u001b[0;36m<module>\u001b[0;34m\u001b[0m\n\u001b[0;32m----> 1\u001b[0;31m \u001b[0mdf\u001b[0m\u001b[0;34m[\u001b[0m\u001b[0;34m[\u001b[0m\u001b[0;34m\"Lat\"\u001b[0m\u001b[0;34m,\u001b[0m\u001b[0;34m\"Lon\"\u001b[0m\u001b[0;34m]\u001b[0m\u001b[0;34m]\u001b[0m\u001b[0;34m.\u001b[0m\u001b[0mastype\u001b[0m\u001b[0;34m(\u001b[0m\u001b[0;34m\"float\"\u001b[0m\u001b[0;34m)\u001b[0m\u001b[0;34m\u001b[0m\u001b[0;34m\u001b[0m\u001b[0m\n\u001b[0m",
      "\u001b[0;32m~/my_envs/tf20/lib/python3.6/site-packages/pandas/core/generic.py\u001b[0m in \u001b[0;36mastype\u001b[0;34m(self, dtype, copy, errors, **kwargs)\u001b[0m\n\u001b[1;32m   5689\u001b[0m             \u001b[0;31m# else, only a single dtype is given\u001b[0m\u001b[0;34m\u001b[0m\u001b[0;34m\u001b[0m\u001b[0;34m\u001b[0m\u001b[0m\n\u001b[1;32m   5690\u001b[0m             new_data = self._data.astype(dtype=dtype, copy=copy, errors=errors,\n\u001b[0;32m-> 5691\u001b[0;31m                                          **kwargs)\n\u001b[0m\u001b[1;32m   5692\u001b[0m             \u001b[0;32mreturn\u001b[0m \u001b[0mself\u001b[0m\u001b[0;34m.\u001b[0m\u001b[0m_constructor\u001b[0m\u001b[0;34m(\u001b[0m\u001b[0mnew_data\u001b[0m\u001b[0;34m)\u001b[0m\u001b[0;34m.\u001b[0m\u001b[0m__finalize__\u001b[0m\u001b[0;34m(\u001b[0m\u001b[0mself\u001b[0m\u001b[0;34m)\u001b[0m\u001b[0;34m\u001b[0m\u001b[0;34m\u001b[0m\u001b[0m\n\u001b[1;32m   5693\u001b[0m \u001b[0;34m\u001b[0m\u001b[0m\n",
      "\u001b[0;32m~/my_envs/tf20/lib/python3.6/site-packages/pandas/core/internals/managers.py\u001b[0m in \u001b[0;36mastype\u001b[0;34m(self, dtype, **kwargs)\u001b[0m\n\u001b[1;32m    529\u001b[0m \u001b[0;34m\u001b[0m\u001b[0m\n\u001b[1;32m    530\u001b[0m     \u001b[0;32mdef\u001b[0m \u001b[0mastype\u001b[0m\u001b[0;34m(\u001b[0m\u001b[0mself\u001b[0m\u001b[0;34m,\u001b[0m \u001b[0mdtype\u001b[0m\u001b[0;34m,\u001b[0m \u001b[0;34m**\u001b[0m\u001b[0mkwargs\u001b[0m\u001b[0;34m)\u001b[0m\u001b[0;34m:\u001b[0m\u001b[0;34m\u001b[0m\u001b[0;34m\u001b[0m\u001b[0m\n\u001b[0;32m--> 531\u001b[0;31m         \u001b[0;32mreturn\u001b[0m \u001b[0mself\u001b[0m\u001b[0;34m.\u001b[0m\u001b[0mapply\u001b[0m\u001b[0;34m(\u001b[0m\u001b[0;34m'astype'\u001b[0m\u001b[0;34m,\u001b[0m \u001b[0mdtype\u001b[0m\u001b[0;34m=\u001b[0m\u001b[0mdtype\u001b[0m\u001b[0;34m,\u001b[0m \u001b[0;34m**\u001b[0m\u001b[0mkwargs\u001b[0m\u001b[0;34m)\u001b[0m\u001b[0;34m\u001b[0m\u001b[0;34m\u001b[0m\u001b[0m\n\u001b[0m\u001b[1;32m    532\u001b[0m \u001b[0;34m\u001b[0m\u001b[0m\n\u001b[1;32m    533\u001b[0m     \u001b[0;32mdef\u001b[0m \u001b[0mconvert\u001b[0m\u001b[0;34m(\u001b[0m\u001b[0mself\u001b[0m\u001b[0;34m,\u001b[0m \u001b[0;34m**\u001b[0m\u001b[0mkwargs\u001b[0m\u001b[0;34m)\u001b[0m\u001b[0;34m:\u001b[0m\u001b[0;34m\u001b[0m\u001b[0;34m\u001b[0m\u001b[0m\n",
      "\u001b[0;32m~/my_envs/tf20/lib/python3.6/site-packages/pandas/core/internals/managers.py\u001b[0m in \u001b[0;36mapply\u001b[0;34m(self, f, axes, filter, do_integrity_check, consolidate, **kwargs)\u001b[0m\n\u001b[1;32m    393\u001b[0m                                             copy=align_copy)\n\u001b[1;32m    394\u001b[0m \u001b[0;34m\u001b[0m\u001b[0m\n\u001b[0;32m--> 395\u001b[0;31m             \u001b[0mapplied\u001b[0m \u001b[0;34m=\u001b[0m \u001b[0mgetattr\u001b[0m\u001b[0;34m(\u001b[0m\u001b[0mb\u001b[0m\u001b[0;34m,\u001b[0m \u001b[0mf\u001b[0m\u001b[0;34m)\u001b[0m\u001b[0;34m(\u001b[0m\u001b[0;34m**\u001b[0m\u001b[0mkwargs\u001b[0m\u001b[0;34m)\u001b[0m\u001b[0;34m\u001b[0m\u001b[0;34m\u001b[0m\u001b[0m\n\u001b[0m\u001b[1;32m    396\u001b[0m             \u001b[0mresult_blocks\u001b[0m \u001b[0;34m=\u001b[0m \u001b[0m_extend_blocks\u001b[0m\u001b[0;34m(\u001b[0m\u001b[0mapplied\u001b[0m\u001b[0;34m,\u001b[0m \u001b[0mresult_blocks\u001b[0m\u001b[0;34m)\u001b[0m\u001b[0;34m\u001b[0m\u001b[0;34m\u001b[0m\u001b[0m\n\u001b[1;32m    397\u001b[0m \u001b[0;34m\u001b[0m\u001b[0m\n",
      "\u001b[0;32m~/my_envs/tf20/lib/python3.6/site-packages/pandas/core/internals/blocks.py\u001b[0m in \u001b[0;36mastype\u001b[0;34m(self, dtype, copy, errors, values, **kwargs)\u001b[0m\n\u001b[1;32m    532\u001b[0m     \u001b[0;32mdef\u001b[0m \u001b[0mastype\u001b[0m\u001b[0;34m(\u001b[0m\u001b[0mself\u001b[0m\u001b[0;34m,\u001b[0m \u001b[0mdtype\u001b[0m\u001b[0;34m,\u001b[0m \u001b[0mcopy\u001b[0m\u001b[0;34m=\u001b[0m\u001b[0;32mFalse\u001b[0m\u001b[0;34m,\u001b[0m \u001b[0merrors\u001b[0m\u001b[0;34m=\u001b[0m\u001b[0;34m'raise'\u001b[0m\u001b[0;34m,\u001b[0m \u001b[0mvalues\u001b[0m\u001b[0;34m=\u001b[0m\u001b[0;32mNone\u001b[0m\u001b[0;34m,\u001b[0m \u001b[0;34m**\u001b[0m\u001b[0mkwargs\u001b[0m\u001b[0;34m)\u001b[0m\u001b[0;34m:\u001b[0m\u001b[0;34m\u001b[0m\u001b[0;34m\u001b[0m\u001b[0m\n\u001b[1;32m    533\u001b[0m         return self._astype(dtype, copy=copy, errors=errors, values=values,\n\u001b[0;32m--> 534\u001b[0;31m                             **kwargs)\n\u001b[0m\u001b[1;32m    535\u001b[0m \u001b[0;34m\u001b[0m\u001b[0m\n\u001b[1;32m    536\u001b[0m     def _astype(self, dtype, copy=False, errors='raise', values=None,\n",
      "\u001b[0;32m~/my_envs/tf20/lib/python3.6/site-packages/pandas/core/internals/blocks.py\u001b[0m in \u001b[0;36m_astype\u001b[0;34m(self, dtype, copy, errors, values, **kwargs)\u001b[0m\n\u001b[1;32m    631\u001b[0m \u001b[0;34m\u001b[0m\u001b[0m\n\u001b[1;32m    632\u001b[0m                     \u001b[0;31m# _astype_nansafe works fine with 1-d only\u001b[0m\u001b[0;34m\u001b[0m\u001b[0;34m\u001b[0m\u001b[0;34m\u001b[0m\u001b[0m\n\u001b[0;32m--> 633\u001b[0;31m                     \u001b[0mvalues\u001b[0m \u001b[0;34m=\u001b[0m \u001b[0mastype_nansafe\u001b[0m\u001b[0;34m(\u001b[0m\u001b[0mvalues\u001b[0m\u001b[0;34m.\u001b[0m\u001b[0mravel\u001b[0m\u001b[0;34m(\u001b[0m\u001b[0;34m)\u001b[0m\u001b[0;34m,\u001b[0m \u001b[0mdtype\u001b[0m\u001b[0;34m,\u001b[0m \u001b[0mcopy\u001b[0m\u001b[0;34m=\u001b[0m\u001b[0;32mTrue\u001b[0m\u001b[0;34m)\u001b[0m\u001b[0;34m\u001b[0m\u001b[0;34m\u001b[0m\u001b[0m\n\u001b[0m\u001b[1;32m    634\u001b[0m \u001b[0;34m\u001b[0m\u001b[0m\n\u001b[1;32m    635\u001b[0m                 \u001b[0;31m# TODO(extension)\u001b[0m\u001b[0;34m\u001b[0m\u001b[0;34m\u001b[0m\u001b[0;34m\u001b[0m\u001b[0m\n",
      "\u001b[0;32m~/my_envs/tf20/lib/python3.6/site-packages/pandas/core/dtypes/cast.py\u001b[0m in \u001b[0;36mastype_nansafe\u001b[0;34m(arr, dtype, copy, skipna)\u001b[0m\n\u001b[1;32m    700\u001b[0m     \u001b[0;32mif\u001b[0m \u001b[0mcopy\u001b[0m \u001b[0;32mor\u001b[0m \u001b[0mis_object_dtype\u001b[0m\u001b[0;34m(\u001b[0m\u001b[0marr\u001b[0m\u001b[0;34m)\u001b[0m \u001b[0;32mor\u001b[0m \u001b[0mis_object_dtype\u001b[0m\u001b[0;34m(\u001b[0m\u001b[0mdtype\u001b[0m\u001b[0;34m)\u001b[0m\u001b[0;34m:\u001b[0m\u001b[0;34m\u001b[0m\u001b[0;34m\u001b[0m\u001b[0m\n\u001b[1;32m    701\u001b[0m         \u001b[0;31m# Explicit copy, or required since NumPy can't view from / to object.\u001b[0m\u001b[0;34m\u001b[0m\u001b[0;34m\u001b[0m\u001b[0;34m\u001b[0m\u001b[0m\n\u001b[0;32m--> 702\u001b[0;31m         \u001b[0;32mreturn\u001b[0m \u001b[0marr\u001b[0m\u001b[0;34m.\u001b[0m\u001b[0mastype\u001b[0m\u001b[0;34m(\u001b[0m\u001b[0mdtype\u001b[0m\u001b[0;34m,\u001b[0m \u001b[0mcopy\u001b[0m\u001b[0;34m=\u001b[0m\u001b[0;32mTrue\u001b[0m\u001b[0;34m)\u001b[0m\u001b[0;34m\u001b[0m\u001b[0;34m\u001b[0m\u001b[0m\n\u001b[0m\u001b[1;32m    703\u001b[0m \u001b[0;34m\u001b[0m\u001b[0m\n\u001b[1;32m    704\u001b[0m     \u001b[0;32mreturn\u001b[0m \u001b[0marr\u001b[0m\u001b[0;34m.\u001b[0m\u001b[0mview\u001b[0m\u001b[0;34m(\u001b[0m\u001b[0mdtype\u001b[0m\u001b[0;34m)\u001b[0m\u001b[0;34m\u001b[0m\u001b[0;34m\u001b[0m\u001b[0m\n",
      "\u001b[0;31mValueError\u001b[0m: could not convert string to float: ' \\ufeff36.97778'"
     ]
    }
   ],
   "source": [
    "df[[\"Lat\",\"Lon\"]].astype(\"float\")"
   ]
  },
  {
   "cell_type": "markdown",
   "metadata": {},
   "source": [
    "We need a regex to catch float numbers inside strings, since we do not know all the different errors. Thus, we can not use split or replace to track them.\n",
    "\n",
    "You can go to https://regexr.com/ to test your own regexs."
   ]
  },
  {
   "cell_type": "code",
   "execution_count": 58,
   "metadata": {},
   "outputs": [],
   "source": [
    "import re"
   ]
  },
  {
   "cell_type": "code",
   "execution_count": 59,
   "metadata": {},
   "outputs": [],
   "source": [
    "regex = re.compile(r'')"
   ]
  },
  {
   "cell_type": "code",
   "execution_count": 60,
   "metadata": {},
   "outputs": [],
   "source": [
    "df[\"Lat\"] = df[\"Lat\"].apply(lambda vs: \"\".join(list(filter((lambda x: re.match(r'[0-9\\.]', x)),vs))))"
   ]
  },
  {
   "cell_type": "code",
   "execution_count": 61,
   "metadata": {},
   "outputs": [
    {
     "data": {
      "text/plain": [
       "Lat    float64\n",
       "Lon    float64\n",
       "dtype: object"
      ]
     },
     "execution_count": 61,
     "metadata": {},
     "output_type": "execute_result"
    }
   ],
   "source": [
    "df[[\"Lat\",\"Lon\"]] = df[[\"Lat\",\"Lon\"]].astype(\"float\")\n",
    "df[[\"Lat\",\"Lon\"]].dtypes"
   ]
  },
  {
   "cell_type": "code",
   "execution_count": 62,
   "metadata": {},
   "outputs": [],
   "source": [
    "del df[\"Loc\"]"
   ]
  },
  {
   "cell_type": "markdown",
   "metadata": {},
   "source": [
    "Now we can convert all discrete variables to categorical variables"
   ]
  },
  {
   "cell_type": "code",
   "execution_count": 63,
   "metadata": {},
   "outputs": [],
   "source": [
    "cat_vars = [\"Township\",\"Province\",\"Type\",\"Groups\",\"Owners\"]\n",
    "df[cat_vars] = df[cat_vars].astype(\"category\")"
   ]
  },
  {
   "cell_type": "code",
   "execution_count": 64,
   "metadata": {},
   "outputs": [
    {
     "data": {
      "text/plain": [
       "Name             object\n",
       "Township       category\n",
       "Province       category\n",
       "Type           category\n",
       "Groups         category\n",
       "Owners         category\n",
       "Power in MW     float64\n",
       "Lat             float64\n",
       "Lon             float64\n",
       "dtype: object"
      ]
     },
     "execution_count": 64,
     "metadata": {},
     "output_type": "execute_result"
    }
   ],
   "source": [
    "df.dtypes"
   ]
  },
  {
   "cell_type": "code",
   "execution_count": 65,
   "metadata": {},
   "outputs": [
    {
     "data": {
      "text/html": [
       "<div>\n",
       "<style scoped>\n",
       "    .dataframe tbody tr th:only-of-type {\n",
       "        vertical-align: middle;\n",
       "    }\n",
       "\n",
       "    .dataframe tbody tr th {\n",
       "        vertical-align: top;\n",
       "    }\n",
       "\n",
       "    .dataframe thead th {\n",
       "        text-align: right;\n",
       "    }\n",
       "</style>\n",
       "<table border=\"1\" class=\"dataframe\">\n",
       "  <thead>\n",
       "    <tr style=\"text-align: right;\">\n",
       "      <th></th>\n",
       "      <th>Name</th>\n",
       "      <th>Township</th>\n",
       "      <th>Province</th>\n",
       "      <th>Type</th>\n",
       "      <th>Groups</th>\n",
       "      <th>Owners</th>\n",
       "      <th>Power in MW</th>\n",
       "      <th>Lat</th>\n",
       "      <th>Lon</th>\n",
       "    </tr>\n",
       "  </thead>\n",
       "  <tbody>\n",
       "    <tr>\n",
       "      <th>0</th>\n",
       "      <td>Central térmica Litoral de Almería</td>\n",
       "      <td>Carboneras</td>\n",
       "      <td>Almería</td>\n",
       "      <td>convencional</td>\n",
       "      <td>2</td>\n",
       "      <td>Endesa</td>\n",
       "      <td>1159.0</td>\n",
       "      <td>36.97778</td>\n",
       "      <td>-1.90444</td>\n",
       "    </tr>\n",
       "    <tr>\n",
       "      <th>1</th>\n",
       "      <td>Central térmica de Arcos</td>\n",
       "      <td>Arcos de la Frontera</td>\n",
       "      <td>Cádiz</td>\n",
       "      <td>c. combinado</td>\n",
       "      <td>3</td>\n",
       "      <td>Iberdrola</td>\n",
       "      <td>1613.0</td>\n",
       "      <td>36.67250</td>\n",
       "      <td>-5.81611</td>\n",
       "    </tr>\n",
       "    <tr>\n",
       "      <th>2</th>\n",
       "      <td>Central térmica Bahía de Algeciras</td>\n",
       "      <td>San Roque</td>\n",
       "      <td>Cádiz</td>\n",
       "      <td>c. combinado</td>\n",
       "      <td>2</td>\n",
       "      <td>Repsol</td>\n",
       "      <td>800.0</td>\n",
       "      <td>36.18278</td>\n",
       "      <td>-5.38944</td>\n",
       "    </tr>\n",
       "    <tr>\n",
       "      <th>3</th>\n",
       "      <td>Central térmica Campo de Gibraltar</td>\n",
       "      <td>San Roque</td>\n",
       "      <td>Cádiz</td>\n",
       "      <td>c. combinado</td>\n",
       "      <td>2</td>\n",
       "      <td>Naturgy / CEPSA</td>\n",
       "      <td>789.0</td>\n",
       "      <td>36.18333</td>\n",
       "      <td>-5.39306</td>\n",
       "    </tr>\n",
       "    <tr>\n",
       "      <th>4</th>\n",
       "      <td>Central de ciclo combinado de San Roque</td>\n",
       "      <td>San Roque</td>\n",
       "      <td>Cádiz</td>\n",
       "      <td>c. combinado</td>\n",
       "      <td>2</td>\n",
       "      <td>Endesa / Naturgy</td>\n",
       "      <td>800.0</td>\n",
       "      <td>36.19556</td>\n",
       "      <td>-5.41306</td>\n",
       "    </tr>\n",
       "  </tbody>\n",
       "</table>\n",
       "</div>"
      ],
      "text/plain": [
       "                                      Name              Township Province  \\\n",
       "0       Central térmica Litoral de Almería            Carboneras  Almería   \n",
       "1                 Central térmica de Arcos  Arcos de la Frontera    Cádiz   \n",
       "2       Central térmica Bahía de Algeciras             San Roque    Cádiz   \n",
       "3       Central térmica Campo de Gibraltar             San Roque    Cádiz   \n",
       "4  Central de ciclo combinado de San Roque             San Roque    Cádiz   \n",
       "\n",
       "           Type Groups            Owners  Power in MW       Lat      Lon  \n",
       "0  convencional      2            Endesa       1159.0  36.97778 -1.90444  \n",
       "1  c. combinado      3         Iberdrola       1613.0  36.67250 -5.81611  \n",
       "2  c. combinado      2            Repsol        800.0  36.18278 -5.38944  \n",
       "3  c. combinado      2   Naturgy / CEPSA        789.0  36.18333 -5.39306  \n",
       "4  c. combinado      2  Endesa / Naturgy        800.0  36.19556 -5.41306  "
      ]
     },
     "execution_count": 65,
     "metadata": {},
     "output_type": "execute_result"
    }
   ],
   "source": [
    "df.head()"
   ]
  },
  {
   "cell_type": "code",
   "execution_count": 66,
   "metadata": {},
   "outputs": [
    {
     "data": {
      "text/plain": [
       "(61, 9)"
      ]
     },
     "execution_count": 66,
     "metadata": {},
     "output_type": "execute_result"
    }
   ],
   "source": [
    "df.shape"
   ]
  },
  {
   "cell_type": "markdown",
   "metadata": {},
   "source": [
    "In the next notebook we will see some visualization libraries. The first we will see is matplotlib, which is integrated into some functions of the pandas library"
   ]
  },
  {
   "cell_type": "code",
   "execution_count": 67,
   "metadata": {},
   "outputs": [],
   "source": [
    "df[[\"Power in MW\"]].plot.bar(figsize=(14,8));"
   ]
  },
  {
   "cell_type": "code",
   "execution_count": 68,
   "metadata": {},
   "outputs": [
    {
     "data": {
      "image/png": "[encoded data removed]",
      "text/plain": [
       "<Figure size 1008x576 with 1 Axes>"
      ]
     },
     "metadata": {
      "needs_background": "light"
     },
     "output_type": "display_data"
    }
   ],
   "source": [
    "df[[\"Power in MW\"]].plot.hist(figsize=(14,8));"
   ]
  },
  {
   "cell_type": "code",
   "execution_count": 69,
   "metadata": {},
   "outputs": [
    {
     "data": {
      "image/png": "[encoded data removed]",
      "text/plain": [
       "<Figure size 1008x576 with 1 Axes>"
      ]
     },
     "metadata": {},
     "output_type": "display_data"
    }
   ],
   "source": [
    "df[\"Power in MW\"].plot(kind=\"pie\",figsize=(14,8));"
   ]
  },
  {
   "cell_type": "markdown",
   "metadata": {},
   "source": [
    "## group by and pivot tables"
   ]
  },
  {
   "cell_type": "code",
   "execution_count": 70,
   "metadata": {},
   "outputs": [
    {
     "data": {
      "text/html": [
       "<div>\n",
       "<style scoped>\n",
       "    .dataframe tbody tr th:only-of-type {\n",
       "        vertical-align: middle;\n",
       "    }\n",
       "\n",
       "    .dataframe tbody tr th {\n",
       "        vertical-align: top;\n",
       "    }\n",
       "\n",
       "    .dataframe thead th {\n",
       "        text-align: right;\n",
       "    }\n",
       "</style>\n",
       "<table border=\"1\" class=\"dataframe\">\n",
       "  <thead>\n",
       "    <tr style=\"text-align: right;\">\n",
       "      <th></th>\n",
       "      <th>Power in MW</th>\n",
       "    </tr>\n",
       "    <tr>\n",
       "      <th>Province</th>\n",
       "      <th></th>\n",
       "    </tr>\n",
       "  </thead>\n",
       "  <tbody>\n",
       "    <tr>\n",
       "      <th>Almería</th>\n",
       "      <td>1159.0</td>\n",
       "    </tr>\n",
       "    <tr>\n",
       "      <th>Asturias</th>\n",
       "      <td>3553.0</td>\n",
       "    </tr>\n",
       "    <tr>\n",
       "      <th>Baleares</th>\n",
       "      <td>2235.0</td>\n",
       "    </tr>\n",
       "    <tr>\n",
       "      <th>Barcelona</th>\n",
       "      <td>2523.0</td>\n",
       "    </tr>\n",
       "    <tr>\n",
       "      <th>Castellón</th>\n",
       "      <td>1650.0</td>\n",
       "    </tr>\n",
       "    <tr>\n",
       "      <th>Ciudad autónoma de Ceuta</th>\n",
       "      <td>100.0</td>\n",
       "    </tr>\n",
       "    <tr>\n",
       "      <th>Ciudad autónoma de Melilla</th>\n",
       "      <td>84.0</td>\n",
       "    </tr>\n",
       "    <tr>\n",
       "      <th>Cádiz</th>\n",
       "      <td>4569.0</td>\n",
       "    </tr>\n",
       "    <tr>\n",
       "      <th>Córdoba</th>\n",
       "      <td>324.0</td>\n",
       "    </tr>\n",
       "    <tr>\n",
       "      <th>Huelva</th>\n",
       "      <td>1600.0</td>\n",
       "    </tr>\n",
       "    <tr>\n",
       "      <th>La Coruña</th>\n",
       "      <td>3281.0</td>\n",
       "    </tr>\n",
       "    <tr>\n",
       "      <th>La Rioja</th>\n",
       "      <td>800.0</td>\n",
       "    </tr>\n",
       "    <tr>\n",
       "      <th>Las Palmas</th>\n",
       "      <td>398.0</td>\n",
       "    </tr>\n",
       "    <tr>\n",
       "      <th>León</th>\n",
       "      <td>1854.0</td>\n",
       "    </tr>\n",
       "    <tr>\n",
       "      <th>Murcia</th>\n",
       "      <td>3231.0</td>\n",
       "    </tr>\n",
       "    <tr>\n",
       "      <th>Málaga</th>\n",
       "      <td>400.0</td>\n",
       "    </tr>\n",
       "    <tr>\n",
       "      <th>Navarra</th>\n",
       "      <td>1228.0</td>\n",
       "    </tr>\n",
       "    <tr>\n",
       "      <th>Palencia</th>\n",
       "      <td>515.0</td>\n",
       "    </tr>\n",
       "    <tr>\n",
       "      <th>Provincia de Las Palmas</th>\n",
       "      <td>1032.0</td>\n",
       "    </tr>\n",
       "    <tr>\n",
       "      <th>Santa Cruz de Tenerife</th>\n",
       "      <td>1270.6</td>\n",
       "    </tr>\n",
       "    <tr>\n",
       "      <th>Tarragona</th>\n",
       "      <td>1634.0</td>\n",
       "    </tr>\n",
       "    <tr>\n",
       "      <th>Teruel</th>\n",
       "      <td>1891.0</td>\n",
       "    </tr>\n",
       "    <tr>\n",
       "      <th>Toledo</th>\n",
       "      <td>1430.0</td>\n",
       "    </tr>\n",
       "    <tr>\n",
       "      <th>Valencia</th>\n",
       "      <td>1200.0</td>\n",
       "    </tr>\n",
       "    <tr>\n",
       "      <th>Vizcaya</th>\n",
       "      <td>1952.0</td>\n",
       "    </tr>\n",
       "    <tr>\n",
       "      <th>Zaragoza</th>\n",
       "      <td>1089.0</td>\n",
       "    </tr>\n",
       "  </tbody>\n",
       "</table>\n",
       "</div>"
      ],
      "text/plain": [
       "                            Power in MW\n",
       "Province                               \n",
       "Almería                          1159.0\n",
       "Asturias                         3553.0\n",
       "Baleares                         2235.0\n",
       "Barcelona                        2523.0\n",
       "Castellón                        1650.0\n",
       "Ciudad autónoma de Ceuta          100.0\n",
       "Ciudad autónoma de Melilla         84.0\n",
       "Cádiz                            4569.0\n",
       "Córdoba                           324.0\n",
       "Huelva                           1600.0\n",
       "La Coruña                        3281.0\n",
       "La Rioja                          800.0\n",
       "Las Palmas                        398.0\n",
       "León                             1854.0\n",
       "Murcia                           3231.0\n",
       "Málaga                            400.0\n",
       "Navarra                          1228.0\n",
       "Palencia                          515.0\n",
       "Provincia de Las Palmas          1032.0\n",
       "Santa Cruz de Tenerife           1270.6\n",
       "Tarragona                        1634.0\n",
       "Teruel                           1891.0\n",
       "Toledo                           1430.0\n",
       "Valencia                         1200.0\n",
       "Vizcaya                          1952.0\n",
       "Zaragoza                         1089.0"
      ]
     },
     "execution_count": 70,
     "metadata": {},
     "output_type": "execute_result"
    }
   ],
   "source": [
    "df[[\"Province\",\"Power in MW\"]].groupby(\"Province\").sum()"
   ]
  },
  {
   "cell_type": "code",
   "execution_count": 71,
   "metadata": {},
   "outputs": [
    {
     "data": {
      "text/plain": [
       "<matplotlib.axes._subplots.AxesSubplot at 0x7f75db8b49e8>"
      ]
     },
     "execution_count": 71,
     "metadata": {},
     "output_type": "execute_result"
    },
    {
     "data": {
      "image/png": "[encoded data removed]",
      "text/plain": [
       "<Figure size 1008x576 with 1 Axes>"
      ]
     },
     "metadata": {},
     "output_type": "display_data"
    }
   ],
   "source": [
    "df[[\"Province\",\"Power in MW\"]].groupby(\"Province\").sum()[\"Power in MW\"].plot(kind=\"pie\",figsize=(14,8))"
   ]
  },
  {
   "cell_type": "code",
   "execution_count": 72,
   "metadata": {},
   "outputs": [
    {
     "data": {
      "text/html": [
       "<div>\n",
       "<style scoped>\n",
       "    .dataframe tbody tr th:only-of-type {\n",
       "        vertical-align: middle;\n",
       "    }\n",
       "\n",
       "    .dataframe tbody tr th {\n",
       "        vertical-align: top;\n",
       "    }\n",
       "\n",
       "    .dataframe thead th {\n",
       "        text-align: right;\n",
       "    }\n",
       "</style>\n",
       "<table border=\"1\" class=\"dataframe\">\n",
       "  <thead>\n",
       "    <tr style=\"text-align: right;\">\n",
       "      <th>Groups</th>\n",
       "      <th>1</th>\n",
       "      <th>2</th>\n",
       "      <th>3</th>\n",
       "      <th>4</th>\n",
       "      <th>5</th>\n",
       "      <th>6</th>\n",
       "      <th>7</th>\n",
       "      <th>8</th>\n",
       "      <th>9</th>\n",
       "      <th>10</th>\n",
       "      <th>11</th>\n",
       "      <th>13</th>\n",
       "    </tr>\n",
       "    <tr>\n",
       "      <th>Owners</th>\n",
       "      <th></th>\n",
       "      <th></th>\n",
       "      <th></th>\n",
       "      <th></th>\n",
       "      <th></th>\n",
       "      <th></th>\n",
       "      <th></th>\n",
       "      <th></th>\n",
       "      <th></th>\n",
       "      <th></th>\n",
       "      <th></th>\n",
       "      <th></th>\n",
       "    </tr>\n",
       "  </thead>\n",
       "  <tbody>\n",
       "    <tr>\n",
       "      <th>Alpiq</th>\n",
       "      <td>0.000000</td>\n",
       "      <td>800.00</td>\n",
       "      <td>0.0</td>\n",
       "      <td>0</td>\n",
       "      <td>0</td>\n",
       "      <td>0.000000</td>\n",
       "      <td>0</td>\n",
       "      <td>0</td>\n",
       "      <td>0</td>\n",
       "      <td>0</td>\n",
       "      <td>0</td>\n",
       "      <td>0</td>\n",
       "    </tr>\n",
       "    <tr>\n",
       "      <th>CEPSA</th>\n",
       "      <td>38.000000</td>\n",
       "      <td>0.00</td>\n",
       "      <td>0.0</td>\n",
       "      <td>0</td>\n",
       "      <td>0</td>\n",
       "      <td>0.000000</td>\n",
       "      <td>0</td>\n",
       "      <td>0</td>\n",
       "      <td>0</td>\n",
       "      <td>0</td>\n",
       "      <td>0</td>\n",
       "      <td>0</td>\n",
       "    </tr>\n",
       "    <tr>\n",
       "      <th>ContourGlobal</th>\n",
       "      <td>0.000000</td>\n",
       "      <td>800.00</td>\n",
       "      <td>0.0</td>\n",
       "      <td>0</td>\n",
       "      <td>0</td>\n",
       "      <td>0.000000</td>\n",
       "      <td>0</td>\n",
       "      <td>0</td>\n",
       "      <td>0</td>\n",
       "      <td>0</td>\n",
       "      <td>0</td>\n",
       "      <td>0</td>\n",
       "    </tr>\n",
       "    <tr>\n",
       "      <th>ESB Co. / Osaka Gas</th>\n",
       "      <td>0.000000</td>\n",
       "      <td>755.00</td>\n",
       "      <td>0.0</td>\n",
       "      <td>0</td>\n",
       "      <td>0</td>\n",
       "      <td>0.000000</td>\n",
       "      <td>0</td>\n",
       "      <td>0</td>\n",
       "      <td>0</td>\n",
       "      <td>0</td>\n",
       "      <td>0</td>\n",
       "      <td>0</td>\n",
       "    </tr>\n",
       "    <tr>\n",
       "      <th>EVE / BP</th>\n",
       "      <td>0.000000</td>\n",
       "      <td>795.00</td>\n",
       "      <td>0.0</td>\n",
       "      <td>0</td>\n",
       "      <td>0</td>\n",
       "      <td>0.000000</td>\n",
       "      <td>0</td>\n",
       "      <td>0</td>\n",
       "      <td>0</td>\n",
       "      <td>0</td>\n",
       "      <td>0</td>\n",
       "      <td>0</td>\n",
       "    </tr>\n",
       "    <tr>\n",
       "      <th>Endesa</th>\n",
       "      <td>400.000000</td>\n",
       "      <td>633.72</td>\n",
       "      <td>1101.0</td>\n",
       "      <td>1199</td>\n",
       "      <td>1294</td>\n",
       "      <td>320.333333</td>\n",
       "      <td>697</td>\n",
       "      <td>32</td>\n",
       "      <td>800</td>\n",
       "      <td>200</td>\n",
       "      <td>186</td>\n",
       "      <td>335</td>\n",
       "    </tr>\n",
       "    <tr>\n",
       "      <th>Endesa / Naturgy</th>\n",
       "      <td>0.000000</td>\n",
       "      <td>800.00</td>\n",
       "      <td>0.0</td>\n",
       "      <td>0</td>\n",
       "      <td>0</td>\n",
       "      <td>0.000000</td>\n",
       "      <td>0</td>\n",
       "      <td>0</td>\n",
       "      <td>0</td>\n",
       "      <td>0</td>\n",
       "      <td>0</td>\n",
       "      <td>0</td>\n",
       "    </tr>\n",
       "    <tr>\n",
       "      <th>Engie</th>\n",
       "      <td>0.000000</td>\n",
       "      <td>790.00</td>\n",
       "      <td>0.0</td>\n",
       "      <td>0</td>\n",
       "      <td>0</td>\n",
       "      <td>0.000000</td>\n",
       "      <td>0</td>\n",
       "      <td>0</td>\n",
       "      <td>0</td>\n",
       "      <td>0</td>\n",
       "      <td>0</td>\n",
       "      <td>0</td>\n",
       "    </tr>\n",
       "    <tr>\n",
       "      <th>Engie / AES</th>\n",
       "      <td>0.000000</td>\n",
       "      <td>0.00</td>\n",
       "      <td>1200.0</td>\n",
       "      <td>0</td>\n",
       "      <td>0</td>\n",
       "      <td>0.000000</td>\n",
       "      <td>0</td>\n",
       "      <td>0</td>\n",
       "      <td>0</td>\n",
       "      <td>0</td>\n",
       "      <td>0</td>\n",
       "      <td>0</td>\n",
       "    </tr>\n",
       "    <tr>\n",
       "      <th>Global 3 Energía</th>\n",
       "      <td>285.000000</td>\n",
       "      <td>0.00</td>\n",
       "      <td>0.0</td>\n",
       "      <td>0</td>\n",
       "      <td>0</td>\n",
       "      <td>0.000000</td>\n",
       "      <td>0</td>\n",
       "      <td>0</td>\n",
       "      <td>0</td>\n",
       "      <td>0</td>\n",
       "      <td>0</td>\n",
       "      <td>0</td>\n",
       "    </tr>\n",
       "    <tr>\n",
       "      <th>HC Energía</th>\n",
       "      <td>0.000000</td>\n",
       "      <td>881.50</td>\n",
       "      <td>0.0</td>\n",
       "      <td>1481</td>\n",
       "      <td>0</td>\n",
       "      <td>0.000000</td>\n",
       "      <td>0</td>\n",
       "      <td>0</td>\n",
       "      <td>0</td>\n",
       "      <td>0</td>\n",
       "      <td>0</td>\n",
       "      <td>0</td>\n",
       "    </tr>\n",
       "    <tr>\n",
       "      <th>Hunosa</th>\n",
       "      <td>50.000000</td>\n",
       "      <td>0.00</td>\n",
       "      <td>0.0</td>\n",
       "      <td>0</td>\n",
       "      <td>0</td>\n",
       "      <td>0.000000</td>\n",
       "      <td>0</td>\n",
       "      <td>0</td>\n",
       "      <td>0</td>\n",
       "      <td>0</td>\n",
       "      <td>0</td>\n",
       "      <td>0</td>\n",
       "    </tr>\n",
       "    <tr>\n",
       "      <th>Iberdrola</th>\n",
       "      <td>404.000000</td>\n",
       "      <td>877.75</td>\n",
       "      <td>1613.0</td>\n",
       "      <td>0</td>\n",
       "      <td>0</td>\n",
       "      <td>0.000000</td>\n",
       "      <td>0</td>\n",
       "      <td>0</td>\n",
       "      <td>0</td>\n",
       "      <td>0</td>\n",
       "      <td>0</td>\n",
       "      <td>0</td>\n",
       "    </tr>\n",
       "    <tr>\n",
       "      <th>Iberdrola / Naturgy</th>\n",
       "      <td>0.000000</td>\n",
       "      <td>0.00</td>\n",
       "      <td>0.0</td>\n",
       "      <td>1430</td>\n",
       "      <td>0</td>\n",
       "      <td>0.000000</td>\n",
       "      <td>0</td>\n",
       "      <td>0</td>\n",
       "      <td>0</td>\n",
       "      <td>0</td>\n",
       "      <td>0</td>\n",
       "      <td>0</td>\n",
       "    </tr>\n",
       "    <tr>\n",
       "      <th>Naturgy</th>\n",
       "      <td>454.333333</td>\n",
       "      <td>752.50</td>\n",
       "      <td>1046.5</td>\n",
       "      <td>0</td>\n",
       "      <td>0</td>\n",
       "      <td>0.000000</td>\n",
       "      <td>0</td>\n",
       "      <td>0</td>\n",
       "      <td>0</td>\n",
       "      <td>0</td>\n",
       "      <td>0</td>\n",
       "      <td>0</td>\n",
       "    </tr>\n",
       "    <tr>\n",
       "      <th>Naturgy / CEPSA</th>\n",
       "      <td>0.000000</td>\n",
       "      <td>789.00</td>\n",
       "      <td>0.0</td>\n",
       "      <td>0</td>\n",
       "      <td>0</td>\n",
       "      <td>0.000000</td>\n",
       "      <td>0</td>\n",
       "      <td>0</td>\n",
       "      <td>0</td>\n",
       "      <td>0</td>\n",
       "      <td>0</td>\n",
       "      <td>0</td>\n",
       "    </tr>\n",
       "    <tr>\n",
       "      <th>Naturgy / Endesa</th>\n",
       "      <td>0.000000</td>\n",
       "      <td>800.00</td>\n",
       "      <td>0.0</td>\n",
       "      <td>0</td>\n",
       "      <td>0</td>\n",
       "      <td>0.000000</td>\n",
       "      <td>0</td>\n",
       "      <td>0</td>\n",
       "      <td>0</td>\n",
       "      <td>0</td>\n",
       "      <td>0</td>\n",
       "      <td>0</td>\n",
       "    </tr>\n",
       "    <tr>\n",
       "      <th>Repsol</th>\n",
       "      <td>0.000000</td>\n",
       "      <td>802.00</td>\n",
       "      <td>0.0</td>\n",
       "      <td>0</td>\n",
       "      <td>0</td>\n",
       "      <td>0.000000</td>\n",
       "      <td>0</td>\n",
       "      <td>0</td>\n",
       "      <td>0</td>\n",
       "      <td>0</td>\n",
       "      <td>0</td>\n",
       "      <td>0</td>\n",
       "    </tr>\n",
       "    <tr>\n",
       "      <th>Viesgo</th>\n",
       "      <td>433.666667</td>\n",
       "      <td>0.00</td>\n",
       "      <td>0.0</td>\n",
       "      <td>0</td>\n",
       "      <td>0</td>\n",
       "      <td>0.000000</td>\n",
       "      <td>0</td>\n",
       "      <td>0</td>\n",
       "      <td>0</td>\n",
       "      <td>0</td>\n",
       "      <td>0</td>\n",
       "      <td>0</td>\n",
       "    </tr>\n",
       "  </tbody>\n",
       "</table>\n",
       "</div>"
      ],
      "text/plain": [
       "Groups                       1       2       3     4     5           6    7   \\\n",
       "Owners                                                                         \n",
       "Alpiq                  0.000000  800.00     0.0     0     0    0.000000    0   \n",
       "CEPSA                 38.000000    0.00     0.0     0     0    0.000000    0   \n",
       "ContourGlobal          0.000000  800.00     0.0     0     0    0.000000    0   \n",
       "ESB Co. / Osaka Gas    0.000000  755.00     0.0     0     0    0.000000    0   \n",
       "EVE / BP               0.000000  795.00     0.0     0     0    0.000000    0   \n",
       "Endesa               400.000000  633.72  1101.0  1199  1294  320.333333  697   \n",
       "Endesa / Naturgy       0.000000  800.00     0.0     0     0    0.000000    0   \n",
       "Engie                  0.000000  790.00     0.0     0     0    0.000000    0   \n",
       "Engie / AES            0.000000    0.00  1200.0     0     0    0.000000    0   \n",
       "Global 3 Energía     285.000000    0.00     0.0     0     0    0.000000    0   \n",
       "HC Energía             0.000000  881.50     0.0  1481     0    0.000000    0   \n",
       "Hunosa                50.000000    0.00     0.0     0     0    0.000000    0   \n",
       "Iberdrola            404.000000  877.75  1613.0     0     0    0.000000    0   \n",
       "Iberdrola / Naturgy    0.000000    0.00     0.0  1430     0    0.000000    0   \n",
       "Naturgy              454.333333  752.50  1046.5     0     0    0.000000    0   \n",
       "Naturgy / CEPSA        0.000000  789.00     0.0     0     0    0.000000    0   \n",
       "Naturgy / Endesa       0.000000  800.00     0.0     0     0    0.000000    0   \n",
       "Repsol                 0.000000  802.00     0.0     0     0    0.000000    0   \n",
       "Viesgo               433.666667    0.00     0.0     0     0    0.000000    0   \n",
       "\n",
       "Groups               8    9    10   11   13  \n",
       "Owners                                       \n",
       "Alpiq                 0    0    0    0    0  \n",
       "CEPSA                 0    0    0    0    0  \n",
       "ContourGlobal         0    0    0    0    0  \n",
       "ESB Co. / Osaka Gas   0    0    0    0    0  \n",
       "EVE / BP              0    0    0    0    0  \n",
       "Endesa               32  800  200  186  335  \n",
       "Endesa / Naturgy      0    0    0    0    0  \n",
       "Engie                 0    0    0    0    0  \n",
       "Engie / AES           0    0    0    0    0  \n",
       "Global 3 Energía      0    0    0    0    0  \n",
       "HC Energía            0    0    0    0    0  \n",
       "Hunosa                0    0    0    0    0  \n",
       "Iberdrola             0    0    0    0    0  \n",
       "Iberdrola / Naturgy   0    0    0    0    0  \n",
       "Naturgy               0    0    0    0    0  \n",
       "Naturgy / CEPSA       0    0    0    0    0  \n",
       "Naturgy / Endesa      0    0    0    0    0  \n",
       "Repsol                0    0    0    0    0  \n",
       "Viesgo                0    0    0    0    0  "
      ]
     },
     "execution_count": 72,
     "metadata": {},
     "output_type": "execute_result"
    }
   ],
   "source": [
    "df.pivot_table(index='Owners', columns='Groups',values='Power in MW',fill_value=0)"
   ]
  },
  {
   "cell_type": "code",
   "execution_count": 73,
   "metadata": {},
   "outputs": [],
   "source": [
    "df.to_csv(\"data.csv\")"
   ]
  }
 ],
 "metadata": {
  "kernelspec": {
   "display_name": "Python 3",
   "language": "python",
   "name": "python3"
  },
  "language_info": {
   "codemirror_mode": {
    "name": "ipython",
    "version": 3
   },
   "file_extension": ".py",
   "mimetype": "text/x-python",
   "name": "python",
   "nbconvert_exporter": "python",
   "pygments_lexer": "ipython3",
   "version": "3.6.7"
  }
 },
 "nbformat": 4,
 "nbformat_minor": 2
}
