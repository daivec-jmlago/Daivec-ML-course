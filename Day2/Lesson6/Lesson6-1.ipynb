{
 "cells": [
  {
   "cell_type": "markdown",
   "metadata": {},
   "source": [
    "## TensorBoard\n",
    "Example with Adutls dataset"
   ]
  },
  {
   "cell_type": "code",
   "execution_count": 1,
   "metadata": {},
   "outputs": [
    {
     "data": {
      "text/html": [
       "<style>.container {width:95% !important; }</style>"
      ],
      "text/plain": [
       "<IPython.core.display.HTML object>"
      ]
     },
     "metadata": {},
     "output_type": "display_data"
    }
   ],
   "source": [
    "from IPython.core.display import display, HTML\n",
    "display(HTML(\"<style>.container {width:95% !important; }</style>\"))"
   ]
  },
  {
   "cell_type": "code",
   "execution_count": 2,
   "metadata": {},
   "outputs": [],
   "source": [
    "import os, warnings\n",
    "warnings.filterwarnings('ignore')\n",
    "\n",
    "import tensorflow as tf\n",
    "import pandas as pd"
   ]
  },
  {
   "cell_type": "markdown",
   "metadata": {},
   "source": [
    "### Load DataFrame\n",
    "Initialize column names"
   ]
  },
  {
   "cell_type": "code",
   "execution_count": 3,
   "metadata": {},
   "outputs": [],
   "source": [
    "cols = [\"age\",\n",
    "\"workclass\",\n",
    "\"fnlwgt\",\n",
    "\"education\",\n",
    "\"education-num\",\n",
    "\"marital-status\",\n",
    "\"occupation\",\n",
    "\"relationship\",\n",
    "\"race\",\n",
    "\"sex\",\n",
    "\"capital-gain\",\n",
    "\"capital-loss\",\n",
    "\"hours-per-week\",\n",
    "\"native-country\",\n",
    "\"label\"]"
   ]
  },
  {
   "cell_type": "markdown",
   "metadata": {},
   "source": [
    "Load Pandas DataFrame"
   ]
  },
  {
   "cell_type": "code",
   "execution_count": 4,
   "metadata": {},
   "outputs": [],
   "source": [
    "train_df = pd.read_csv(\"../Lesson5/data/adult.data\",header=None,index_col=None,names=cols)\n",
    "test_df = pd.read_csv(\"../Lesson5/data/adult.test\",header=None,index_col=None,names=cols)\n",
    "del train_df[\"fnlwgt\"],test_df[\"fnlwgt\"]\n",
    "\n",
    "test_df = test_df.drop(test_df.index[0])\n",
    "\n",
    "train_df[\"label\"] = train_df[\"label\"].apply(lambda x: 0 if x == \" <=50K\" else 1)\n",
    "test_df[\"label\"] = test_df[\"label\"].apply(lambda x: 0 if x == \" <=50K.\" else 1)\n",
    "\n",
    "test_df[\"age\"] = test_df[\"age\"].apply(lambda x: int(x))\n",
    "test_df[\"education-num\"] = test_df[\"education-num\"].apply(lambda x: int(x))"
   ]
  },
  {
   "cell_type": "code",
   "execution_count": 5,
   "metadata": {},
   "outputs": [],
   "source": [
    "features = cols[:-1]\n",
    "label = cols[-1]"
   ]
  },
  {
   "cell_type": "markdown",
   "metadata": {},
   "source": [
    "### DataSet\n",
    "Convert `DataFrame` to a Tensor DataSet"
   ]
  },
  {
   "cell_type": "code",
   "execution_count": 6,
   "metadata": {},
   "outputs": [],
   "source": [
    "# A utility method to create a tf.data dataset from a Pandas Dataframe\n",
    "def df_to_dataset(dataframe, label_name, shuffle=True, batch_size=32):\n",
    "    dataframe = dataframe.copy()\n",
    "    labels = dataframe.pop(label_name)\n",
    "    ds = tf.data.Dataset.from_tensor_slices((dict(dataframe), labels))\n",
    "    if shuffle:\n",
    "        ds = ds.shuffle(buffer_size=len(dataframe))\n",
    "    ds = ds.batch(batch_size)\n",
    "    return ds"
   ]
  },
  {
   "cell_type": "markdown",
   "metadata": {},
   "source": [
    "Objects are strings so we need to convert them to numeric data before creating a tensor (tensorflow array)"
   ]
  },
  {
   "cell_type": "code",
   "execution_count": 7,
   "metadata": {},
   "outputs": [],
   "source": [
    "sex_feature_column = tf.feature_column.categorical_column_with_vocabulary_list(\n",
    "        key=\"sex\",\n",
    "        vocabulary_list=[\" Male\", \" Female\"])"
   ]
  },
  {
   "cell_type": "markdown",
   "metadata": {},
   "source": [
    "Now we can do that with all the different column types ..."
   ]
  },
  {
   "cell_type": "code",
   "execution_count": 8,
   "metadata": {},
   "outputs": [],
   "source": [
    "feature_columns = []\n",
    "\n",
    "# numeric cols\n",
    "for header in [\"age\", \"capital-gain\",\"capital-loss\",\"hours-per-week\",]:\n",
    "    feature_columns.append(tf.feature_column.numeric_column(header))"
   ]
  },
  {
   "cell_type": "code",
   "execution_count": 9,
   "metadata": {},
   "outputs": [],
   "source": [
    "# bucketized cols\n",
    "age_buckets = tf.feature_column.bucketized_column(feature_columns[0], \n",
    "                                                  boundaries=[18, 25, 30, 35, 40, 45, 50, 55, 60, 65])\n",
    "feature_columns.append(age_buckets)"
   ]
  },
  {
   "cell_type": "code",
   "execution_count": 10,
   "metadata": {},
   "outputs": [],
   "source": [
    "cat_features = [\"workclass\",\n",
    "\"education\",\n",
    "\"education-num\",\n",
    "\"marital-status\",\n",
    "\"occupation\",\n",
    "\"relationship\",\n",
    "\"race\",\n",
    "\"sex\",\n",
    "\"native-country\"]"
   ]
  },
  {
   "cell_type": "code",
   "execution_count": 11,
   "metadata": {},
   "outputs": [],
   "source": [
    "def generate_cat_feature_columns(cat_feature_name,train_df,emb_dim=None):\n",
    "    unique_vals = train_df[cat_feature_name].unique().tolist()\n",
    "    feature_column = tf.feature_column.categorical_column_with_vocabulary_list(\n",
    "        key=cat_feature_name,\n",
    "        vocabulary_list=unique_vals)\n",
    "    if emb_dim == None:\n",
    "        one_hot = tf.feature_column.indicator_column(feature_column)\n",
    "        return one_hot\n",
    "    else:\n",
    "        one_hot = tf.feature_column.indicator_column(feature_column)\n",
    "        emb_feature = tf.feature_column.embedding_column(feature_column, dimension=emb_dim)\n",
    "        return one_hot,emb_feature"
   ]
  },
  {
   "cell_type": "code",
   "execution_count": 12,
   "metadata": {},
   "outputs": [],
   "source": [
    "# indicator and embedding cols\n",
    "for cat in cat_features:\n",
    "    feature_columns = feature_columns + list(generate_cat_feature_columns(cat,train_df,emb_dim=8))"
   ]
  },
  {
   "cell_type": "markdown",
   "metadata": {},
   "source": [
    "Create a `Feature Layer`"
   ]
  },
  {
   "cell_type": "code",
   "execution_count": 13,
   "metadata": {},
   "outputs": [],
   "source": [
    "feature_layer = tf.keras.layers.DenseFeatures(feature_columns)"
   ]
  },
  {
   "cell_type": "code",
   "execution_count": 14,
   "metadata": {},
   "outputs": [],
   "source": [
    "batch_size = 1000\n",
    "train_ds = df_to_dataset(train_df, \"label\", batch_size=batch_size)"
   ]
  },
  {
   "cell_type": "code",
   "execution_count": 15,
   "metadata": {},
   "outputs": [],
   "source": [
    "test_ds = df_to_dataset(test_df, \"label\", shuffle=False, batch_size=batch_size)"
   ]
  },
  {
   "cell_type": "markdown",
   "metadata": {},
   "source": [
    "### Model"
   ]
  },
  {
   "cell_type": "code",
   "execution_count": 16,
   "metadata": {},
   "outputs": [],
   "source": [
    "! rm -rf ./logs/"
   ]
  },
  {
   "cell_type": "code",
   "execution_count": 17,
   "metadata": {},
   "outputs": [
    {
     "name": "stderr",
     "output_type": "stream",
     "text": [
      "WARNING: Logging before flag parsing goes to stderr.\n",
      "W1114 23:28:11.147489 140339887822656 callbacks.py:1218] TensorBoard Callback will ignore `write_graph=True`when `Model.run_eagerly=True`.`\n"
     ]
    },
    {
     "name": "stdout",
     "output_type": "stream",
     "text": [
      "Epoch 1/10\n"
     ]
    },
    {
     "name": "stderr",
     "output_type": "stream",
     "text": [
      "W1114 23:28:11.388534 140339887822656 deprecation.py:323] From /home/josem/my_envs/fastai/lib/python3.6/site-packages/tensorflow/python/feature_column/feature_column_v2.py:3048: VocabularyListCategoricalColumn._num_buckets (from tensorflow.python.feature_column.feature_column_v2) is deprecated and will be removed in a future version.\n",
      "Instructions for updating:\n",
      "The old _FeatureColumn APIs are being deprecated. Please use the new FeatureColumn APIs instead.\n",
      "W1114 23:28:11.426843 140339887822656 deprecation.py:323] From /home/josem/my_envs/fastai/lib/python3.6/site-packages/tensorflow/python/feature_column/feature_column_v2.py:2758: to_float (from tensorflow.python.ops.math_ops) is deprecated and will be removed in a future version.\n",
      "Instructions for updating:\n",
      "Use `tf.cast` instead.\n",
      "W1114 23:28:11.436711 140339887822656 deprecation.py:323] From /home/josem/my_envs/fastai/lib/python3.6/site-packages/tensorflow/python/feature_column/feature_column_v2.py:2902: to_int64 (from tensorflow.python.ops.math_ops) is deprecated and will be removed in a future version.\n",
      "Instructions for updating:\n",
      "Use `tf.cast` instead.\n",
      "W1114 23:28:11.545436 140339887822656 deprecation.py:323] From /home/josem/my_envs/fastai/lib/python3.6/site-packages/tensorflow/python/feature_column/feature_column_v2.py:4307: IndicatorColumn._variable_shape (from tensorflow.python.feature_column.feature_column_v2) is deprecated and will be removed in a future version.\n",
      "Instructions for updating:\n",
      "The old _FeatureColumn APIs are being deprecated. Please use the new FeatureColumn APIs instead.\n"
     ]
    },
    {
     "name": "stdout",
     "output_type": "stream",
     "text": [
      "33/33 [==============================] - 6s 168ms/step - loss: 1.4341 - accuracy: 0.6862 - val_loss: 1.6143 - val_accuracy: 0.7638\n",
      "Epoch 2/10\n",
      "33/33 [==============================] - 4s 136ms/step - loss: 1.2837 - accuracy: 0.7466 - val_loss: 1.5523 - val_accuracy: 0.7636\n",
      "Epoch 3/10\n",
      "33/33 [==============================] - 5s 154ms/step - loss: 1.2387 - accuracy: 0.7555 - val_loss: 1.4643 - val_accuracy: 0.7891\n",
      "Epoch 4/10\n",
      "33/33 [==============================] - 5s 144ms/step - loss: 1.1911 - accuracy: 0.7696 - val_loss: 1.4285 - val_accuracy: 0.7958\n",
      "Epoch 5/10\n",
      "33/33 [==============================] - 5s 137ms/step - loss: 1.1535 - accuracy: 0.7747 - val_loss: 1.4216 - val_accuracy: 0.7976\n",
      "Epoch 6/10\n",
      "33/33 [==============================] - 5s 140ms/step - loss: 1.1712 - accuracy: 0.7821 - val_loss: 1.4185 - val_accuracy: 0.8008\n",
      "Epoch 7/10\n",
      "33/33 [==============================] - 5s 139ms/step - loss: 1.1390 - accuracy: 0.7868 - val_loss: 1.4135 - val_accuracy: 0.7985\n",
      "Epoch 8/10\n",
      "33/33 [==============================] - 5s 139ms/step - loss: 1.1548 - accuracy: 0.7924 - val_loss: 1.4089 - val_accuracy: 0.8019\n",
      "Epoch 9/10\n",
      "33/33 [==============================] - 5s 140ms/step - loss: 1.1435 - accuracy: 0.7935 - val_loss: 1.4084 - val_accuracy: 0.8013\n",
      "Epoch 10/10\n",
      "33/33 [==============================] - 5s 145ms/step - loss: 1.1106 - accuracy: 0.7986 - val_loss: 1.4039 - val_accuracy: 0.8027\n"
     ]
    },
    {
     "data": {
      "text/plain": [
       "<tensorflow.python.keras.callbacks.History at 0x7fa32b72e208>"
      ]
     },
     "execution_count": 17,
     "metadata": {},
     "output_type": "execute_result"
    }
   ],
   "source": [
    "model = tf.keras.Sequential([\n",
    "    feature_layer, ## First Layer of the network!!!\n",
    "    tf.keras.layers.Dropout(0.3),\n",
    "    tf.keras.layers.Dense(128, activation='relu'),\n",
    "    tf.keras.layers.Dropout(0.3),\n",
    "    tf.keras.layers.Dense(64, activation='relu'),\n",
    "    tf.keras.layers.Dropout(0.3),\n",
    "    tf.keras.layers.Dense(32, activation='relu'),\n",
    "    tf.keras.layers.Dense(1, activation='sigmoid')\n",
    "])\n",
    "\n",
    "model.compile(optimizer='adam',\n",
    "              loss='binary_crossentropy',\n",
    "              metrics=['accuracy'])\n",
    "\n",
    "log_dir = \"logs/fit/base\" \n",
    "\n",
    "tensorboard_callback = tf.keras.callbacks.TensorBoard(log_dir=log_dir, histogram_freq=1)\n",
    "\n",
    "model.fit(train_ds,\n",
    "          validation_data=test_ds,\n",
    "          epochs=10,\n",
    "          callbacks=[tensorboard_callback])"
   ]
  }
 ],
 "metadata": {
  "kernelspec": {
   "display_name": "Python 3",
   "language": "python",
   "name": "python3"
  },
  "language_info": {
   "codemirror_mode": {
    "name": "ipython",
    "version": 3
   },
   "file_extension": ".py",
   "mimetype": "text/x-python",
   "name": "python",
   "nbconvert_exporter": "python",
   "pygments_lexer": "ipython3",
   "version": "3.6.7"
  },
  "latex_envs": {
   "LaTeX_envs_menu_present": true,
   "autoclose": false,
   "autocomplete": true,
   "bibliofile": "biblio.bib",
   "cite_by": "apalike",
   "current_citInitial": 1,
   "eqLabelWithNumbers": true,
   "eqNumInitial": 1,
   "hotkeys": {
    "equation": "Ctrl-E",
    "itemize": "Ctrl-I"
   },
   "labels_anchors": false,
   "latex_user_defs": false,
   "report_style_numbering": false,
   "user_envs_cfg": false
  }
 },
 "nbformat": 4,
 "nbformat_minor": 2
}
