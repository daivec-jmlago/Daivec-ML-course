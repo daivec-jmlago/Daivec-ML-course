{
 "cells": [
  {
   "cell_type": "markdown",
   "metadata": {},
   "source": [
    "## TensorBoard\n",
    "Example with Adutls dataset"
   ]
  },
  {
   "cell_type": "code",
   "execution_count": 1,
   "metadata": {},
   "outputs": [
    {
     "data": {
      "text/html": [
       "<style>.container {width:95% !important; }</style>"
      ],
      "text/plain": [
       "<IPython.core.display.HTML object>"
      ]
     },
     "metadata": {},
     "output_type": "display_data"
    }
   ],
   "source": [
    "from IPython.core.display import display, HTML\n",
    "display(HTML(\"<style>.container {width:95% !important; }</style>\"))"
   ]
  },
  {
   "cell_type": "code",
   "execution_count": 2,
   "metadata": {},
   "outputs": [],
   "source": [
    "import os, warnings\n",
    "warnings.filterwarnings('ignore')\n",
    "\n",
    "import tensorflow as tf\n",
    "import pandas as pd"
   ]
  },
  {
   "cell_type": "markdown",
   "metadata": {},
   "source": [
    "### Load DataFrame\n",
    "Initialize column names"
   ]
  },
  {
   "cell_type": "code",
   "execution_count": 3,
   "metadata": {},
   "outputs": [],
   "source": [
    "cols = [\"age\",\n",
    "\"workclass\",\n",
    "\"fnlwgt\",\n",
    "\"education\",\n",
    "\"education-num\",\n",
    "\"marital-status\",\n",
    "\"occupation\",\n",
    "\"relationship\",\n",
    "\"race\",\n",
    "\"sex\",\n",
    "\"capital-gain\",\n",
    "\"capital-loss\",\n",
    "\"hours-per-week\",\n",
    "\"native-country\",\n",
    "\"label\"]"
   ]
  },
  {
   "cell_type": "markdown",
   "metadata": {},
   "source": [
    "Load Pandas DataFrame"
   ]
  },
  {
   "cell_type": "code",
   "execution_count": 4,
   "metadata": {},
   "outputs": [],
   "source": [
    "train_df = pd.read_csv(\"../Lesson1/data/adult.data\",header=None,index_col=None,names=cols)\n",
    "test_df = pd.read_csv(\"../Lesson1/data/adult.test\",header=None,index_col=None,names=cols)\n",
    "del train_df[\"fnlwgt\"],test_df[\"fnlwgt\"]\n",
    "\n",
    "test_df = test_df.drop(test_df.index[0])\n",
    "\n",
    "train_df[\"label\"] = train_df[\"label\"].apply(lambda x: 0 if x == \" <=50K\" else 1)\n",
    "test_df[\"label\"] = test_df[\"label\"].apply(lambda x: 0 if x == \" <=50K.\" else 1)\n",
    "\n",
    "test_df[\"age\"] = test_df[\"age\"].apply(lambda x: int(x))\n",
    "test_df[\"education-num\"] = test_df[\"education-num\"].apply(lambda x: int(x))"
   ]
  },
  {
   "cell_type": "code",
   "execution_count": 5,
   "metadata": {},
   "outputs": [],
   "source": [
    "features = cols[:-1]\n",
    "label = cols[-1]"
   ]
  },
  {
   "cell_type": "markdown",
   "metadata": {},
   "source": [
    "### DataSet\n",
    "Convert `DataFrame` to a Tensor DataSet"
   ]
  },
  {
   "cell_type": "code",
   "execution_count": 6,
   "metadata": {},
   "outputs": [],
   "source": [
    "# A utility method to create a tf.data dataset from a Pandas Dataframe\n",
    "def df_to_dataset(dataframe, label_name, shuffle=True, batch_size=32):\n",
    "    dataframe = dataframe.copy()\n",
    "    labels = dataframe.pop(label_name)\n",
    "    ds = tf.data.Dataset.from_tensor_slices((dict(dataframe), labels))\n",
    "    if shuffle:\n",
    "        ds = ds.shuffle(buffer_size=len(dataframe))\n",
    "    ds = ds.batch(batch_size)\n",
    "    return ds"
   ]
  },
  {
   "cell_type": "markdown",
   "metadata": {},
   "source": [
    "Objects are strings so we need to convert them to numeric data before creating a tensor (tensorflow array)"
   ]
  },
  {
   "cell_type": "code",
   "execution_count": 7,
   "metadata": {},
   "outputs": [],
   "source": [
    "sex_feature_column = tf.feature_column.categorical_column_with_vocabulary_list(\n",
    "        key=\"sex\",\n",
    "        vocabulary_list=[\" Male\", \" Female\"])"
   ]
  },
  {
   "cell_type": "markdown",
   "metadata": {},
   "source": [
    "Now we can do that with all the different column types ..."
   ]
  },
  {
   "cell_type": "code",
   "execution_count": 8,
   "metadata": {},
   "outputs": [],
   "source": [
    "feature_columns = []\n",
    "\n",
    "# numeric cols\n",
    "for header in [\"age\", \"capital-gain\",\"capital-loss\",\"hours-per-week\",]:\n",
    "    feature_columns.append(tf.feature_column.numeric_column(header))"
   ]
  },
  {
   "cell_type": "code",
   "execution_count": 9,
   "metadata": {},
   "outputs": [],
   "source": [
    "# bucketized cols\n",
    "age_buckets = tf.feature_column.bucketized_column(feature_columns[0], \n",
    "                                                  boundaries=[18, 25, 30, 35, 40, 45, 50, 55, 60, 65])\n",
    "feature_columns.append(age_buckets)"
   ]
  },
  {
   "cell_type": "code",
   "execution_count": 10,
   "metadata": {},
   "outputs": [],
   "source": [
    "cat_features = [\"workclass\",\n",
    "\"education\",\n",
    "\"education-num\",\n",
    "\"marital-status\",\n",
    "\"occupation\",\n",
    "\"relationship\",\n",
    "\"race\",\n",
    "\"sex\",\n",
    "\"native-country\"]"
   ]
  },
  {
   "cell_type": "code",
   "execution_count": 11,
   "metadata": {},
   "outputs": [],
   "source": [
    "def generate_cat_feature_columns(cat_feature_name,train_df,emb_dim=None):\n",
    "    unique_vals = train_df[cat_feature_name].unique().tolist()\n",
    "    feature_column = tf.feature_column.categorical_column_with_vocabulary_list(\n",
    "        key=cat_feature_name,\n",
    "        vocabulary_list=unique_vals)\n",
    "    if emb_dim == None:\n",
    "        one_hot = tf.feature_column.indicator_column(feature_column)\n",
    "        return one_hot\n",
    "    else:\n",
    "        one_hot = tf.feature_column.indicator_column(feature_column)\n",
    "        emb_feature = tf.feature_column.embedding_column(feature_column, dimension=emb_dim)\n",
    "        return one_hot,emb_feature"
   ]
  },
  {
   "cell_type": "code",
   "execution_count": 12,
   "metadata": {},
   "outputs": [],
   "source": [
    "# indicator and embedding cols\n",
    "for cat in cat_features:\n",
    "    feature_columns = feature_columns + list(generate_cat_feature_columns(cat,train_df,emb_dim=8))"
   ]
  },
  {
   "cell_type": "markdown",
   "metadata": {},
   "source": [
    "Create a `Feature Layer`"
   ]
  },
  {
   "cell_type": "code",
   "execution_count": 13,
   "metadata": {},
   "outputs": [],
   "source": [
    "feature_layer = tf.keras.layers.DenseFeatures(feature_columns)"
   ]
  },
  {
   "cell_type": "code",
   "execution_count": 14,
   "metadata": {},
   "outputs": [],
   "source": [
    "batch_size = 1000\n",
    "train_ds = df_to_dataset(train_df, \"label\", batch_size=batch_size)"
   ]
  },
  {
   "cell_type": "code",
   "execution_count": 15,
   "metadata": {},
   "outputs": [],
   "source": [
    "test_ds = df_to_dataset(test_df, \"label\", shuffle=False, batch_size=batch_size)"
   ]
  },
  {
   "cell_type": "markdown",
   "metadata": {},
   "source": [
    "### Model"
   ]
  },
  {
   "cell_type": "code",
   "execution_count": 16,
   "metadata": {},
   "outputs": [],
   "source": [
    "! rm -rf ./logs/"
   ]
  },
  {
   "cell_type": "code",
   "execution_count": 17,
   "metadata": {},
   "outputs": [
    {
     "name": "stderr",
     "output_type": "stream",
     "text": [
      "WARNING: Logging before flag parsing goes to stderr.\n",
      "W0612 00:53:58.082931 140280009078592 callbacks.py:1218] TensorBoard Callback will ignore `write_graph=True`when `Model.run_eagerly=True`.`\n"
     ]
    },
    {
     "name": "stdout",
     "output_type": "stream",
     "text": [
      "Epoch 1/10\n"
     ]
    },
    {
     "name": "stderr",
     "output_type": "stream",
     "text": [
      "W0612 00:53:58.311867 140280009078592 deprecation.py:323] From /home/josem/my_envs/fastai/lib/python3.6/site-packages/tensorflow/python/feature_column/feature_column_v2.py:3048: VocabularyListCategoricalColumn._num_buckets (from tensorflow.python.feature_column.feature_column_v2) is deprecated and will be removed in a future version.\n",
      "Instructions for updating:\n",
      "The old _FeatureColumn APIs are being deprecated. Please use the new FeatureColumn APIs instead.\n",
      "W0612 00:53:58.344165 140280009078592 deprecation.py:323] From /home/josem/my_envs/fastai/lib/python3.6/site-packages/tensorflow/python/feature_column/feature_column_v2.py:2758: to_float (from tensorflow.python.ops.math_ops) is deprecated and will be removed in a future version.\n",
      "Instructions for updating:\n",
      "Use `tf.cast` instead.\n",
      "W0612 00:53:58.357624 140280009078592 deprecation.py:323] From /home/josem/my_envs/fastai/lib/python3.6/site-packages/tensorflow/python/feature_column/feature_column_v2.py:2902: to_int64 (from tensorflow.python.ops.math_ops) is deprecated and will be removed in a future version.\n",
      "Instructions for updating:\n",
      "Use `tf.cast` instead.\n",
      "W0612 00:53:58.456908 140280009078592 deprecation.py:323] From /home/josem/my_envs/fastai/lib/python3.6/site-packages/tensorflow/python/feature_column/feature_column_v2.py:4307: IndicatorColumn._variable_shape (from tensorflow.python.feature_column.feature_column_v2) is deprecated and will be removed in a future version.\n",
      "Instructions for updating:\n",
      "The old _FeatureColumn APIs are being deprecated. Please use the new FeatureColumn APIs instead.\n"
     ]
    },
    {
     "name": "stdout",
     "output_type": "stream",
     "text": [
      "33/33 [==============================] - 6s 172ms/step - loss: 1.6980 - accuracy: 0.7023 - val_loss: 1.6479 - val_accuracy: 0.7625\n",
      "Epoch 2/10\n",
      "33/33 [==============================] - 4s 128ms/step - loss: 1.3225 - accuracy: 0.7377 - val_loss: 1.6096 - val_accuracy: 0.7635\n",
      "Epoch 3/10\n",
      "33/33 [==============================] - 5s 140ms/step - loss: 1.2849 - accuracy: 0.7506 - val_loss: 1.5437 - val_accuracy: 0.7672\n",
      "Epoch 4/10\n",
      "33/33 [==============================] - 5s 150ms/step - loss: 1.2006 - accuracy: 0.7605 - val_loss: 1.4800 - val_accuracy: 0.7858\n",
      "Epoch 5/10\n",
      "33/33 [==============================] - 4s 134ms/step - loss: 1.1475 - accuracy: 0.7697 - val_loss: 1.4647 - val_accuracy: 0.7850\n",
      "Epoch 6/10\n",
      "33/33 [==============================] - 5s 156ms/step - loss: 1.1221 - accuracy: 0.7748 - val_loss: 1.4607 - val_accuracy: 0.7899\n",
      "Epoch 7/10\n",
      "33/33 [==============================] - 5s 146ms/step - loss: 1.0013 - accuracy: 0.7884 - val_loss: 1.1409 - val_accuracy: 0.8159\n",
      "Epoch 8/10\n",
      "33/33 [==============================] - 4s 131ms/step - loss: 0.9303 - accuracy: 0.8011 - val_loss: 1.1502 - val_accuracy: 0.8172\n",
      "Epoch 9/10\n",
      "33/33 [==============================] - 4s 131ms/step - loss: 0.9142 - accuracy: 0.8072 - val_loss: 1.1432 - val_accuracy: 0.8181\n",
      "Epoch 10/10\n",
      "33/33 [==============================] - 4s 131ms/step - loss: 0.9227 - accuracy: 0.8107 - val_loss: 1.1411 - val_accuracy: 0.8192\n"
     ]
    },
    {
     "data": {
      "text/plain": [
       "<tensorflow.python.keras.callbacks.History at 0x7f952be5a128>"
      ]
     },
     "execution_count": 17,
     "metadata": {},
     "output_type": "execute_result"
    }
   ],
   "source": [
    "model = tf.keras.Sequential([\n",
    "    feature_layer, ## First Layer of the network!!!\n",
    "    tf.keras.layers.Dropout(0.3),\n",
    "    tf.keras.layers.Dense(128, activation='relu'),\n",
    "    tf.keras.layers.Dropout(0.3),\n",
    "    tf.keras.layers.Dense(64, activation='relu'),\n",
    "    tf.keras.layers.Dropout(0.3),\n",
    "    tf.keras.layers.Dense(32, activation='relu'),\n",
    "    tf.keras.layers.Dense(1, activation='sigmoid')\n",
    "])\n",
    "\n",
    "model.compile(optimizer='adam',\n",
    "              loss='binary_crossentropy',\n",
    "              metrics=['accuracy'])\n",
    "\n",
    "log_dir = \"logs/fit/base\" \n",
    "\n",
    "tensorboard_callback = tf.keras.callbacks.TensorBoard(log_dir=log_dir, histogram_freq=1)\n",
    "\n",
    "model.fit(train_ds,\n",
    "          validation_data=test_ds,\n",
    "          epochs=10,\n",
    "          callbacks=[tensorboard_callback])"
   ]
  },
  {
   "cell_type": "markdown",
   "metadata": {},
   "source": [
    "## Hyperpameter Tuning"
   ]
  },
  {
   "cell_type": "code",
   "execution_count": 18,
   "metadata": {},
   "outputs": [],
   "source": [
    "!rm -rf ./logs/"
   ]
  },
  {
   "cell_type": "code",
   "execution_count": null,
   "metadata": {},
   "outputs": [],
   "source": [
    "from tensorboard.plugins.hparams import api as hp"
   ]
  },
  {
   "cell_type": "code",
   "execution_count": 26,
   "metadata": {},
   "outputs": [],
   "source": [
    "HP_NUM_NEURONS_LAYER = hp.HParam('num_neurons_layer', hp.Discrete([256,128]))\n",
    "\n",
    "HP_DROPOUT = hp.HParam(\"dropout\", hp.RealInterval(0.2,0.4))\n",
    "\n",
    "HP_OPTIMIZER = hp.HParam(\"optimizer\",hp.Discrete([\"adam\",\"sgd\"]))\n",
    "\n",
    "METRIC_ACCURACY = \"accuracy\""
   ]
  },
  {
   "cell_type": "code",
   "execution_count": 27,
   "metadata": {},
   "outputs": [],
   "source": [
    "def train_test_model(logdir, hparams):\n",
    "\n",
    "    model = tf.keras.Sequential([\n",
    "        feature_layer, ## First Layer of the network!!!\n",
    "        tf.keras.layers.Dropout(hparams[HP_DROPOUT]),\n",
    "        tf.keras.layers.Dense(hparams[HP_NUM_NEURONS_LAYER], activation='relu'),\n",
    "        tf.keras.layers.Dropout(hparams[HP_DROPOUT]),\n",
    "        tf.keras.layers.Dense(hparams[HP_NUM_NEURONS_LAYER]//2, activation='relu'),\n",
    "        tf.keras.layers.Dropout(hparams[HP_DROPOUT]),\n",
    "        tf.keras.layers.Dense(hparams[HP_NUM_NEURONS_LAYER]//4, activation='relu'),\n",
    "        tf.keras.layers.Dense(1, activation='sigmoid')\n",
    "    ])\n",
    "\n",
    "    model.compile(optimizer=hparams[HP_OPTIMIZER],\n",
    "                  loss='binary_crossentropy',\n",
    "                  metrics=[METRIC_ACCURACY])\n",
    "\n",
    "    tensorboard_callback = tf.keras.callbacks.TensorBoard(log_dir=logdir, histogram_freq=1)\n",
    "    \n",
    "    model.fit(train_ds,\n",
    "          validation_data=test_ds,\n",
    "          epochs=10,\n",
    "          callbacks=[tensorboard_callback])"
   ]
  },
  {
   "cell_type": "code",
   "execution_count": 28,
   "metadata": {
    "scrolled": false
   },
   "outputs": [
    {
     "name": "stdout",
     "output_type": "stream",
     "text": [
      "--- Starting trial: run-0\n",
      "{'num_neurons_layer': 128, 'dropout': 0.2, 'optimizer': 'adam'}\n",
      "Epoch 1/10\n",
      "33/33 [==============================] - 8s 248ms/step - loss: 1.5803 - accuracy: 0.5757 - val_loss: 1.5696 - val_accuracy: 0.7638\n",
      "Epoch 2/10\n",
      "33/33 [==============================] - 1s 33ms/step - loss: 1.2823 - accuracy: 0.7500 - val_loss: 0.6430 - val_accuracy: 0.8321\n",
      "Epoch 3/10\n",
      "33/33 [==============================] - 1s 32ms/step - loss: 0.9886 - accuracy: 0.7791 - val_loss: 1.0476 - val_accuracy: 0.8064\n",
      "Epoch 4/10\n",
      "33/33 [==============================] - 1s 31ms/step - loss: 0.9543 - accuracy: 0.7913 - val_loss: 0.8347 - val_accuracy: 0.8172\n",
      "Epoch 5/10\n",
      "33/33 [==============================] - 1s 31ms/step - loss: 0.9201 - accuracy: 0.8015 - val_loss: 0.9929 - val_accuracy: 0.8175\n",
      "Epoch 6/10\n",
      "33/33 [==============================] - 1s 31ms/step - loss: 0.9039 - accuracy: 0.8036 - val_loss: 0.8952 - val_accuracy: 0.8138\n",
      "Epoch 7/10\n",
      "33/33 [==============================] - 1s 30ms/step - loss: 0.8554 - accuracy: 0.8054 - val_loss: 0.7972 - val_accuracy: 0.8184\n",
      "Epoch 8/10\n",
      "33/33 [==============================] - 1s 31ms/step - loss: 0.8139 - accuracy: 0.8109 - val_loss: 0.7992 - val_accuracy: 0.8179\n",
      "Epoch 9/10\n",
      "33/33 [==============================] - 1s 30ms/step - loss: 0.7805 - accuracy: 0.8068 - val_loss: 0.7918 - val_accuracy: 0.8169\n",
      "Epoch 10/10\n",
      "33/33 [==============================] - 1s 29ms/step - loss: 0.7535 - accuracy: 0.8125 - val_loss: 0.7882 - val_accuracy: 0.8201\n",
      "17/17 [==============================] - 0s 16ms/step - loss: 0.7882 - accuracy: 0.8201\n",
      "--- Starting trial: run-1\n",
      "{'num_neurons_layer': 128, 'dropout': 0.2, 'optimizer': 'sgd'}\n",
      "Epoch 1/10\n",
      "33/33 [==============================] - 6s 191ms/step - loss: 1.3156 - accuracy: 0.6936 - val_loss: 1.2913 - val_accuracy: 0.7825\n",
      "Epoch 2/10\n",
      "33/33 [==============================] - 1s 33ms/step - loss: 1.1886 - accuracy: 0.7401 - val_loss: 1.2945 - val_accuracy: 0.7825\n",
      "Epoch 3/10\n",
      "33/33 [==============================] - 1s 32ms/step - loss: 1.1767 - accuracy: 0.7615 - val_loss: 1.2803 - val_accuracy: 0.7825\n",
      "Epoch 4/10\n",
      "33/33 [==============================] - 1s 32ms/step - loss: 1.1613 - accuracy: 0.7654 - val_loss: 1.2717 - val_accuracy: 0.7825\n",
      "Epoch 5/10\n",
      "33/33 [==============================] - 1s 43ms/step - loss: 1.1514 - accuracy: 0.7677 - val_loss: 1.2396 - val_accuracy: 0.7825\n",
      "Epoch 6/10\n",
      "33/33 [==============================] - 1s 31ms/step - loss: 1.1309 - accuracy: 0.7674 - val_loss: 1.2804 - val_accuracy: 0.7812\n",
      "Epoch 7/10\n",
      "33/33 [==============================] - 1s 30ms/step - loss: 1.1251 - accuracy: 0.7651 - val_loss: 1.2566 - val_accuracy: 0.7812\n",
      "Epoch 8/10\n",
      "33/33 [==============================] - 1s 30ms/step - loss: 1.1024 - accuracy: 0.7696 - val_loss: 1.2553 - val_accuracy: 0.7815\n",
      "Epoch 9/10\n",
      "33/33 [==============================] - 1s 32ms/step - loss: 1.1091 - accuracy: 0.7691 - val_loss: 1.2270 - val_accuracy: 0.7812\n",
      "Epoch 10/10\n",
      "33/33 [==============================] - 1s 32ms/step - loss: 1.0692 - accuracy: 0.7723 - val_loss: 1.2207 - val_accuracy: 0.7815\n",
      "17/17 [==============================] - 0s 19ms/step - loss: 1.2207 - accuracy: 0.7815\n",
      "--- Starting trial: run-2\n",
      "{'num_neurons_layer': 128, 'dropout': 0.4, 'optimizer': 'adam'}\n",
      "Epoch 1/10\n",
      "33/33 [==============================] - 9s 285ms/step - loss: 1.3111 - accuracy: 0.6693 - val_loss: 1.3106 - val_accuracy: 0.7633\n",
      "Epoch 2/10\n",
      "33/33 [==============================] - 1s 33ms/step - loss: 1.0041 - accuracy: 0.7353 - val_loss: 1.2122 - val_accuracy: 0.7530\n",
      "Epoch 3/10\n",
      "33/33 [==============================] - 1s 40ms/step - loss: 0.9188 - accuracy: 0.7653 - val_loss: 0.8940 - val_accuracy: 0.8116\n",
      "Epoch 4/10\n",
      "33/33 [==============================] - 1s 32ms/step - loss: 0.8869 - accuracy: 0.7814 - val_loss: 1.1318 - val_accuracy: 0.8090\n",
      "Epoch 5/10\n",
      "33/33 [==============================] - 1s 32ms/step - loss: 0.8758 - accuracy: 0.7911 - val_loss: 1.1280 - val_accuracy: 0.8133\n",
      "Epoch 6/10\n",
      "33/33 [==============================] - 1s 32ms/step - loss: 0.8981 - accuracy: 0.7914 - val_loss: 1.1255 - val_accuracy: 0.8191\n",
      "Epoch 7/10\n",
      "33/33 [==============================] - 1s 32ms/step - loss: 0.8608 - accuracy: 0.8019 - val_loss: 1.1216 - val_accuracy: 0.8190\n",
      "Epoch 8/10\n",
      "33/33 [==============================] - 1s 33ms/step - loss: 0.8474 - accuracy: 0.8051 - val_loss: 1.1152 - val_accuracy: 0.8192\n",
      "Epoch 9/10\n",
      "33/33 [==============================] - 1s 35ms/step - loss: 0.8423 - accuracy: 0.8095 - val_loss: 1.0835 - val_accuracy: 0.8189\n",
      "Epoch 10/10\n",
      "33/33 [==============================] - 1s 31ms/step - loss: 0.8318 - accuracy: 0.8135 - val_loss: 1.1361 - val_accuracy: 0.8174\n",
      "17/17 [==============================] - 0s 17ms/step - loss: 1.1361 - accuracy: 0.8174\n",
      "--- Starting trial: run-3\n",
      "{'num_neurons_layer': 128, 'dropout': 0.4, 'optimizer': 'sgd'}\n",
      "Epoch 1/10\n",
      "33/33 [==============================] - 8s 233ms/step - loss: 1.4273 - accuracy: 0.5978 - val_loss: 1.2064 - val_accuracy: 0.7812\n",
      "Epoch 2/10\n",
      "33/33 [==============================] - 1s 33ms/step - loss: 1.1568 - accuracy: 0.6724 - val_loss: 1.3958 - val_accuracy: 0.7812\n",
      "Epoch 3/10\n",
      "33/33 [==============================] - 1s 32ms/step - loss: 1.0952 - accuracy: 0.6961 - val_loss: 1.3889 - val_accuracy: 0.7812\n",
      "Epoch 4/10\n",
      "33/33 [==============================] - 1s 40ms/step - loss: 1.0607 - accuracy: 0.7411 - val_loss: 1.3536 - val_accuracy: 0.7825\n",
      "Epoch 5/10\n",
      "33/33 [==============================] - 1s 32ms/step - loss: 1.0604 - accuracy: 0.7463 - val_loss: 1.3907 - val_accuracy: 0.7825\n",
      "Epoch 6/10\n",
      "33/33 [==============================] - 1s 32ms/step - loss: 1.0451 - accuracy: 0.7420 - val_loss: 1.3344 - val_accuracy: 0.7825\n",
      "Epoch 7/10\n",
      "33/33 [==============================] - 1s 37ms/step - loss: 1.0162 - accuracy: 0.7595 - val_loss: 1.3148 - val_accuracy: 0.7825\n",
      "Epoch 8/10\n",
      "33/33 [==============================] - 1s 33ms/step - loss: 1.0241 - accuracy: 0.7600 - val_loss: 1.3026 - val_accuracy: 0.7825\n",
      "Epoch 9/10\n",
      "33/33 [==============================] - 1s 34ms/step - loss: 1.0139 - accuracy: 0.7621 - val_loss: 1.2787 - val_accuracy: 0.7825\n",
      "Epoch 10/10\n",
      "33/33 [==============================] - 1s 32ms/step - loss: 0.9779 - accuracy: 0.7592 - val_loss: 1.2767 - val_accuracy: 0.7812\n",
      "17/17 [==============================] - 0s 18ms/step - loss: 1.2767 - accuracy: 0.7812\n",
      "--- Starting trial: run-4\n",
      "{'num_neurons_layer': 256, 'dropout': 0.2, 'optimizer': 'adam'}\n",
      "Epoch 1/10\n",
      "33/33 [==============================] - 8s 239ms/step - loss: 1.3330 - accuracy: 0.7274 - val_loss: 1.4572 - val_accuracy: 0.7800\n",
      "Epoch 2/10\n",
      "33/33 [==============================] - 1s 36ms/step - loss: 1.2520 - accuracy: 0.7861 - val_loss: 1.4378 - val_accuracy: 0.7925\n",
      "Epoch 3/10\n",
      "33/33 [==============================] - 1s 34ms/step - loss: 1.2218 - accuracy: 0.7971 - val_loss: 1.4191 - val_accuracy: 0.7888\n",
      "Epoch 4/10\n",
      "33/33 [==============================] - 1s 33ms/step - loss: 1.2013 - accuracy: 0.7991 - val_loss: 1.4309 - val_accuracy: 0.7973\n",
      "Epoch 5/10\n",
      "33/33 [==============================] - 1s 33ms/step - loss: 1.2010 - accuracy: 0.8022 - val_loss: 1.4293 - val_accuracy: 0.8000\n",
      "Epoch 6/10\n",
      "33/33 [==============================] - 1s 32ms/step - loss: 1.2043 - accuracy: 0.8009 - val_loss: 1.4306 - val_accuracy: 0.7984\n",
      "Epoch 7/10\n",
      "33/33 [==============================] - 1s 39ms/step - loss: 1.2191 - accuracy: 0.8023 - val_loss: 1.4043 - val_accuracy: 0.8009\n",
      "Epoch 8/10\n",
      "33/33 [==============================] - 1s 32ms/step - loss: 1.2298 - accuracy: 0.8045 - val_loss: 1.4045 - val_accuracy: 0.8004\n",
      "Epoch 9/10\n",
      "33/33 [==============================] - 1s 32ms/step - loss: 1.2140 - accuracy: 0.8052 - val_loss: 1.4004 - val_accuracy: 0.8027\n",
      "Epoch 10/10\n",
      "33/33 [==============================] - 1s 32ms/step - loss: 1.2337 - accuracy: 0.8077 - val_loss: 1.4000 - val_accuracy: 0.8022\n",
      "17/17 [==============================] - 0s 17ms/step - loss: 1.4000 - accuracy: 0.8022\n",
      "--- Starting trial: run-5\n",
      "{'num_neurons_layer': 256, 'dropout': 0.2, 'optimizer': 'sgd'}\n",
      "Epoch 1/10\n",
      "33/33 [==============================] - 8s 244ms/step - loss: 1.5147 - accuracy: 0.6909 - val_loss: 1.4922 - val_accuracy: 0.7638\n",
      "Epoch 2/10\n",
      "33/33 [==============================] - 1s 34ms/step - loss: 1.3850 - accuracy: 0.7417 - val_loss: 1.4702 - val_accuracy: 0.7758\n",
      "Epoch 3/10\n",
      "33/33 [==============================] - 1s 34ms/step - loss: 1.3775 - accuracy: 0.7510 - val_loss: 1.4594 - val_accuracy: 0.7826\n",
      "Epoch 4/10\n",
      "33/33 [==============================] - 1s 34ms/step - loss: 1.3382 - accuracy: 0.7561 - val_loss: 1.4453 - val_accuracy: 0.7895\n",
      "Epoch 5/10\n",
      "33/33 [==============================] - 1s 33ms/step - loss: 1.3283 - accuracy: 0.7557 - val_loss: 1.4384 - val_accuracy: 0.7961\n",
      "Epoch 6/10\n",
      "33/33 [==============================] - 1s 33ms/step - loss: 1.3267 - accuracy: 0.7650 - val_loss: 1.4332 - val_accuracy: 0.7988\n",
      "Epoch 7/10\n",
      "33/33 [==============================] - 1s 33ms/step - loss: 1.2885 - accuracy: 0.7666 - val_loss: 1.1354 - val_accuracy: 0.8108\n",
      "Epoch 8/10\n",
      "33/33 [==============================] - 1s 33ms/step - loss: 1.0504 - accuracy: 0.7798 - val_loss: 1.1321 - val_accuracy: 0.8152\n",
      "Epoch 9/10\n",
      "33/33 [==============================] - 2s 46ms/step - loss: 1.0306 - accuracy: 0.7867 - val_loss: 1.1489 - val_accuracy: 0.8154\n",
      "Epoch 10/10\n",
      "33/33 [==============================] - 1s 33ms/step - loss: 1.0396 - accuracy: 0.7862 - val_loss: 1.1557 - val_accuracy: 0.8092\n",
      "17/17 [==============================] - 0s 17ms/step - loss: 1.1557 - accuracy: 0.8092\n",
      "--- Starting trial: run-6\n",
      "{'num_neurons_layer': 256, 'dropout': 0.4, 'optimizer': 'adam'}\n",
      "Epoch 1/10\n",
      "33/33 [==============================] - 8s 253ms/step - loss: 1.3327 - accuracy: 0.6911 - val_loss: 1.5201 - val_accuracy: 0.7613\n",
      "Epoch 2/10\n",
      "33/33 [==============================] - 1s 34ms/step - loss: 1.0813 - accuracy: 0.7665 - val_loss: 1.4549 - val_accuracy: 0.7937\n",
      "Epoch 3/10\n",
      "33/33 [==============================] - 1s 34ms/step - loss: 1.0473 - accuracy: 0.7830 - val_loss: 1.4257 - val_accuracy: 0.7990\n",
      "Epoch 4/10\n",
      "33/33 [==============================] - 1s 34ms/step - loss: 1.0516 - accuracy: 0.7880 - val_loss: 1.4480 - val_accuracy: 0.7990\n",
      "Epoch 5/10\n",
      "33/33 [==============================] - 1s 33ms/step - loss: 1.0236 - accuracy: 0.7976 - val_loss: 1.4504 - val_accuracy: 0.7990\n",
      "Epoch 6/10\n",
      "33/33 [==============================] - 1s 34ms/step - loss: 1.0338 - accuracy: 0.8003 - val_loss: 1.4540 - val_accuracy: 0.7987\n",
      "Epoch 7/10\n",
      "33/33 [==============================] - 1s 33ms/step - loss: 1.0392 - accuracy: 0.7993 - val_loss: 1.4479 - val_accuracy: 0.7983\n",
      "Epoch 8/10\n",
      "33/33 [==============================] - 1s 35ms/step - loss: 1.0050 - accuracy: 0.8045 - val_loss: 1.4467 - val_accuracy: 0.7982\n",
      "Epoch 9/10\n",
      "33/33 [==============================] - 1s 34ms/step - loss: 1.0065 - accuracy: 0.8056 - val_loss: 1.4500 - val_accuracy: 0.7979\n",
      "Epoch 10/10\n",
      "33/33 [==============================] - 1s 34ms/step - loss: 1.0129 - accuracy: 0.8087 - val_loss: 1.4427 - val_accuracy: 0.7985\n",
      "17/17 [==============================] - 0s 18ms/step - loss: 1.4427 - accuracy: 0.7985\n",
      "--- Starting trial: run-7\n",
      "{'num_neurons_layer': 256, 'dropout': 0.4, 'optimizer': 'sgd'}\n",
      "Epoch 1/10\n",
      "33/33 [==============================] - 9s 274ms/step - loss: 1.5495 - accuracy: 0.5997 - val_loss: 1.6275 - val_accuracy: 0.7638\n",
      "Epoch 2/10\n",
      "33/33 [==============================] - 1s 35ms/step - loss: 1.2847 - accuracy: 0.7138 - val_loss: 1.6634 - val_accuracy: 0.7545\n",
      "Epoch 3/10\n",
      "33/33 [==============================] - 1s 39ms/step - loss: 1.2382 - accuracy: 0.7150 - val_loss: 1.4872 - val_accuracy: 0.7625\n",
      "Epoch 4/10\n",
      "33/33 [==============================] - 1s 34ms/step - loss: 1.2130 - accuracy: 0.7204 - val_loss: 1.6267 - val_accuracy: 0.7625\n",
      "Epoch 5/10\n",
      "33/33 [==============================] - 1s 34ms/step - loss: 1.2008 - accuracy: 0.7387 - val_loss: 1.5967 - val_accuracy: 0.7638\n",
      "Epoch 6/10\n",
      "33/33 [==============================] - 1s 34ms/step - loss: 1.1812 - accuracy: 0.7492 - val_loss: 1.5850 - val_accuracy: 0.7637\n",
      "Epoch 7/10\n",
      "33/33 [==============================] - 1s 36ms/step - loss: 1.1826 - accuracy: 0.7437 - val_loss: 1.5820 - val_accuracy: 0.7638\n",
      "Epoch 8/10\n",
      "33/33 [==============================] - 1s 37ms/step - loss: 1.1677 - accuracy: 0.7558 - val_loss: 1.6023 - val_accuracy: 0.7638\n",
      "Epoch 9/10\n",
      "33/33 [==============================] - 1s 34ms/step - loss: 1.1603 - accuracy: 0.7547 - val_loss: 1.5977 - val_accuracy: 0.7625\n",
      "Epoch 10/10\n",
      "33/33 [==============================] - 1s 37ms/step - loss: 1.1626 - accuracy: 0.7535 - val_loss: 1.5753 - val_accuracy: 0.7625\n",
      "17/17 [==============================] - 0s 18ms/step - loss: 1.5753 - accuracy: 0.7625\n"
     ]
    }
   ],
   "source": [
    "session_num = 0\n",
    "\n",
    "for hp_num_neurons_layer in HP_NUM_NEURONS_LAYER.domain.values:\n",
    "    for hp_dropout in (HP_DROPOUT.domain.min_value,HP_DROPOUT.domain.max_value):\n",
    "        for hp_optimizer in HP_OPTIMIZER.domain.values:\n",
    "            hparams = {\n",
    "                HP_NUM_NEURONS_LAYER: hp_num_neurons_layer,\n",
    "                HP_DROPOUT: hp_dropout,\n",
    "                HP_OPTIMIZER: hp_optimizer,\n",
    "            }\n",
    "            run_name = \"run-%d\" % session_num\n",
    "            print(\"--- Starting trial: %s\" % run_name)\n",
    "            print({h.name:hparams[h] for h in hparams})\n",
    "\n",
    "            logdir = \"logs/hparam_tuning/\"\n",
    "            train_test_model(logdir, hparams)\n",
    "\n",
    "            session_num+=1\n"
   ]
  }
 ],
 "metadata": {
  "kernelspec": {
   "display_name": "Python 3",
   "language": "python",
   "name": "python3"
  },
  "language_info": {
   "codemirror_mode": {
    "name": "ipython",
    "version": 3
   },
   "file_extension": ".py",
   "mimetype": "text/x-python",
   "name": "python",
   "nbconvert_exporter": "python",
   "pygments_lexer": "ipython3",
   "version": "3.6.7"
  },
  "latex_envs": {
   "LaTeX_envs_menu_present": true,
   "autoclose": false,
   "autocomplete": true,
   "bibliofile": "biblio.bib",
   "cite_by": "apalike",
   "current_citInitial": 1,
   "eqLabelWithNumbers": true,
   "eqNumInitial": 1,
   "hotkeys": {
    "equation": "Ctrl-E",
    "itemize": "Ctrl-I"
   },
   "labels_anchors": false,
   "latex_user_defs": false,
   "report_style_numbering": false,
   "user_envs_cfg": false
  }
 },
 "nbformat": 4,
 "nbformat_minor": 2
}
